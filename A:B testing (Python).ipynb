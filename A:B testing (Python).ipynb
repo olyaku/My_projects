{
 "cells": [
  {
   "cell_type": "markdown",
   "metadata": {},
   "source": [
    "## Brief\n",
    "\n",
    "**Project goal**: prioritize these hypotheses, launch an A/B test, and analyze the results.\n",
    "\n",
    "Data used in the first part of the project:\n",
    "\n",
    "1. Hypotheses\n",
    "\n",
    "- `Hypotheses` — brief descriptions of the hypotheses\n",
    "- `Reach` — user reach, on a scale of one to ten\n",
    "- `Impact` — impact on users, on a scale of one to ten\n",
    "- `Confidence` — confidence in the hypothesis, on a scale of one to ten\n",
    "- `Effort` — the resources required to test a hypothesis on a scale of one to ten.\n",
    "\n",
    "Data used in the second part of the project:\n",
    "\n",
    "2. Orders\n",
    "\n",
    "- `transactionId` — order identifier\n",
    "- `visitorId` — identifier of the user who placed the order\n",
    "- `date` — of the order\n",
    "- `revenue` — from the order\n",
    "- `group` — the A/B test group that the user belongs to\n",
    "\n",
    "3. Visits\n",
    "\n",
    "- `date` — date\n",
    "- `group` — A/B test group\n",
    "- `visits` — the number of visits on the date specified in the A/B test group specified\n",
    "\n",
    "**Part 1. Prioritizing Hypotheses**\n",
    "\n",
    "- Apply the ICE framework to prioritize hypotheses. Sort them in descending order of priority.\n",
    "- Apply the RICE framework to prioritize hypotheses. Sort them in descending order of priority.\n",
    "- Show how the prioritization of hypotheses changes when you use RICE instead of ICE. Provide an explanation for the changes.\n",
    "\n",
    "**Part 2. A/B Test Analysis**\n",
    "\n",
    "- Graph cumulative revenue by group.\n",
    "- Graph cumulative average order size by group.\n",
    "- Graph the relative difference in cumulative average order size for group B compared with group A.\n",
    "- Calculate each group's conversion rate as the ratio of orders to the number of visits for each day. Plot the daily conversion rates of the two groups and describe the difference.\n",
    "- Plot a scatter chart of the number of orders per user.\n",
    "- Calculate the 95th and 99th percentiles for the number of orders per user.\n",
    "- Plot a scatter chart of order prices.\n",
    "- Calculate the 95th and 99th percentiles of order prices.\n",
    "- Find the statistical significance of the difference in conversion between the groups using the raw data.\n",
    "- Find the statistical significance of the difference in average order size between the groups using the raw data.\n",
    "- Find the statistical significance of the difference in conversion between the groups using the filtered data. \n",
    "- Find the statistical significance of the difference in average order size between the groups using the filtered data.\n",
    "\n",
    "Make a decision based on the test results."
   ]
  },
  {
   "cell_type": "markdown",
   "metadata": {},
   "source": [
    "# Part 1. Prioritizing Hypotheses"
   ]
  },
  {
   "cell_type": "code",
   "execution_count": 1,
   "metadata": {},
   "outputs": [],
   "source": [
    "# Loading all the libraries\n",
    "\n",
    "import pandas as pd\n",
    "import numpy as np\n",
    "import matplotlib.pyplot as plt\n",
    "import scipy.stats as stats\n",
    "import math\n",
    "import random\n",
    "from matplotlib import pyplot\n",
    "import datetime as dt"
   ]
  },
  {
   "cell_type": "code",
   "execution_count": 2,
   "metadata": {},
   "outputs": [],
   "source": [
    "# Load the data\n",
    "\n",
    "hypotheses = pd.read_csv('/datasets/hypotheses_us.csv', delimiter=';')\n",
    "orders = pd.read_csv('/datasets/orders_us.csv')\n",
    "visitors = pd.read_csv('/datasets/visits_us.csv')"
   ]
  },
  {
   "cell_type": "code",
   "execution_count": 3,
   "metadata": {
    "scrolled": true
   },
   "outputs": [
    {
     "data": {
      "text/html": [
       "<div>\n",
       "<style scoped>\n",
       "    .dataframe tbody tr th:only-of-type {\n",
       "        vertical-align: middle;\n",
       "    }\n",
       "\n",
       "    .dataframe tbody tr th {\n",
       "        vertical-align: top;\n",
       "    }\n",
       "\n",
       "    .dataframe thead th {\n",
       "        text-align: right;\n",
       "    }\n",
       "</style>\n",
       "<table border=\"1\" class=\"dataframe\">\n",
       "  <thead>\n",
       "    <tr style=\"text-align: right;\">\n",
       "      <th></th>\n",
       "      <th>Hypothesis</th>\n",
       "      <th>Reach</th>\n",
       "      <th>Impact</th>\n",
       "      <th>Confidence</th>\n",
       "      <th>Effort</th>\n",
       "    </tr>\n",
       "  </thead>\n",
       "  <tbody>\n",
       "    <tr>\n",
       "      <th>0</th>\n",
       "      <td>Add two new channels for attracting traffic. T...</td>\n",
       "      <td>3</td>\n",
       "      <td>10</td>\n",
       "      <td>8</td>\n",
       "      <td>6</td>\n",
       "    </tr>\n",
       "    <tr>\n",
       "      <th>1</th>\n",
       "      <td>Launch your own delivery service. This will sh...</td>\n",
       "      <td>2</td>\n",
       "      <td>5</td>\n",
       "      <td>4</td>\n",
       "      <td>10</td>\n",
       "    </tr>\n",
       "    <tr>\n",
       "      <th>2</th>\n",
       "      <td>Add product recommendation blocks to the store...</td>\n",
       "      <td>8</td>\n",
       "      <td>3</td>\n",
       "      <td>7</td>\n",
       "      <td>3</td>\n",
       "    </tr>\n",
       "    <tr>\n",
       "      <th>3</th>\n",
       "      <td>Change the category structure. This will incre...</td>\n",
       "      <td>8</td>\n",
       "      <td>3</td>\n",
       "      <td>3</td>\n",
       "      <td>8</td>\n",
       "    </tr>\n",
       "    <tr>\n",
       "      <th>4</th>\n",
       "      <td>Change the background color on the main page. ...</td>\n",
       "      <td>3</td>\n",
       "      <td>1</td>\n",
       "      <td>1</td>\n",
       "      <td>1</td>\n",
       "    </tr>\n",
       "    <tr>\n",
       "      <th>5</th>\n",
       "      <td>Add a customer review page. This will increase...</td>\n",
       "      <td>3</td>\n",
       "      <td>2</td>\n",
       "      <td>2</td>\n",
       "      <td>3</td>\n",
       "    </tr>\n",
       "    <tr>\n",
       "      <th>6</th>\n",
       "      <td>Show banners with current offers and sales on ...</td>\n",
       "      <td>5</td>\n",
       "      <td>3</td>\n",
       "      <td>8</td>\n",
       "      <td>3</td>\n",
       "    </tr>\n",
       "    <tr>\n",
       "      <th>7</th>\n",
       "      <td>Add a subscription form to all the main pages....</td>\n",
       "      <td>10</td>\n",
       "      <td>7</td>\n",
       "      <td>8</td>\n",
       "      <td>5</td>\n",
       "    </tr>\n",
       "    <tr>\n",
       "      <th>8</th>\n",
       "      <td>Launch a promotion that gives users discounts ...</td>\n",
       "      <td>1</td>\n",
       "      <td>9</td>\n",
       "      <td>9</td>\n",
       "      <td>5</td>\n",
       "    </tr>\n",
       "  </tbody>\n",
       "</table>\n",
       "</div>"
      ],
      "text/plain": [
       "                                          Hypothesis  Reach  Impact  \\\n",
       "0  Add two new channels for attracting traffic. T...      3      10   \n",
       "1  Launch your own delivery service. This will sh...      2       5   \n",
       "2  Add product recommendation blocks to the store...      8       3   \n",
       "3  Change the category structure. This will incre...      8       3   \n",
       "4  Change the background color on the main page. ...      3       1   \n",
       "5  Add a customer review page. This will increase...      3       2   \n",
       "6  Show banners with current offers and sales on ...      5       3   \n",
       "7  Add a subscription form to all the main pages....     10       7   \n",
       "8  Launch a promotion that gives users discounts ...      1       9   \n",
       "\n",
       "   Confidence  Effort  \n",
       "0           8       6  \n",
       "1           4      10  \n",
       "2           7       3  \n",
       "3           3       8  \n",
       "4           1       1  \n",
       "5           2       3  \n",
       "6           8       3  \n",
       "7           8       5  \n",
       "8           9       5  "
      ]
     },
     "execution_count": 3,
     "metadata": {},
     "output_type": "execute_result"
    }
   ],
   "source": [
    "# Let's look at hypotheses data\n",
    "\n",
    "hypotheses"
   ]
  },
  {
   "cell_type": "markdown",
   "metadata": {},
   "source": [
    "**Apply the ICE framework to prioritize hypotheses. Sort them in descending order of priority.**"
   ]
  },
  {
   "cell_type": "code",
   "execution_count": 4,
   "metadata": {},
   "outputs": [
    {
     "data": {
      "text/html": [
       "<div>\n",
       "<style scoped>\n",
       "    .dataframe tbody tr th:only-of-type {\n",
       "        vertical-align: middle;\n",
       "    }\n",
       "\n",
       "    .dataframe tbody tr th {\n",
       "        vertical-align: top;\n",
       "    }\n",
       "\n",
       "    .dataframe thead th {\n",
       "        text-align: right;\n",
       "    }\n",
       "</style>\n",
       "<table border=\"1\" class=\"dataframe\">\n",
       "  <thead>\n",
       "    <tr style=\"text-align: right;\">\n",
       "      <th></th>\n",
       "      <th>Hypothesis</th>\n",
       "      <th>ICE</th>\n",
       "    </tr>\n",
       "  </thead>\n",
       "  <tbody>\n",
       "    <tr>\n",
       "      <th>8</th>\n",
       "      <td>Launch a promotion that gives users discounts ...</td>\n",
       "      <td>16.200000</td>\n",
       "    </tr>\n",
       "    <tr>\n",
       "      <th>0</th>\n",
       "      <td>Add two new channels for attracting traffic. T...</td>\n",
       "      <td>13.333333</td>\n",
       "    </tr>\n",
       "    <tr>\n",
       "      <th>7</th>\n",
       "      <td>Add a subscription form to all the main pages....</td>\n",
       "      <td>11.200000</td>\n",
       "    </tr>\n",
       "    <tr>\n",
       "      <th>6</th>\n",
       "      <td>Show banners with current offers and sales on ...</td>\n",
       "      <td>8.000000</td>\n",
       "    </tr>\n",
       "    <tr>\n",
       "      <th>2</th>\n",
       "      <td>Add product recommendation blocks to the store...</td>\n",
       "      <td>7.000000</td>\n",
       "    </tr>\n",
       "    <tr>\n",
       "      <th>1</th>\n",
       "      <td>Launch your own delivery service. This will sh...</td>\n",
       "      <td>2.000000</td>\n",
       "    </tr>\n",
       "    <tr>\n",
       "      <th>5</th>\n",
       "      <td>Add a customer review page. This will increase...</td>\n",
       "      <td>1.333333</td>\n",
       "    </tr>\n",
       "    <tr>\n",
       "      <th>3</th>\n",
       "      <td>Change the category structure. This will incre...</td>\n",
       "      <td>1.125000</td>\n",
       "    </tr>\n",
       "    <tr>\n",
       "      <th>4</th>\n",
       "      <td>Change the background color on the main page. ...</td>\n",
       "      <td>1.000000</td>\n",
       "    </tr>\n",
       "  </tbody>\n",
       "</table>\n",
       "</div>"
      ],
      "text/plain": [
       "                                          Hypothesis        ICE\n",
       "8  Launch a promotion that gives users discounts ...  16.200000\n",
       "0  Add two new channels for attracting traffic. T...  13.333333\n",
       "7  Add a subscription form to all the main pages....  11.200000\n",
       "6  Show banners with current offers and sales on ...   8.000000\n",
       "2  Add product recommendation blocks to the store...   7.000000\n",
       "1  Launch your own delivery service. This will sh...   2.000000\n",
       "5  Add a customer review page. This will increase...   1.333333\n",
       "3  Change the category structure. This will incre...   1.125000\n",
       "4  Change the background color on the main page. ...   1.000000"
      ]
     },
     "execution_count": 4,
     "metadata": {},
     "output_type": "execute_result"
    }
   ],
   "source": [
    "# Apply the ICE framework to prioritize hypotheses\n",
    "\n",
    "hypotheses['ICE'] = hypotheses['Impact'] * hypotheses['Confidence'] / hypotheses['Effort']\n",
    "hypotheses[['Hypothesis', 'ICE']].sort_values(by=['ICE'], ascending=False)"
   ]
  },
  {
   "cell_type": "markdown",
   "metadata": {},
   "source": [
    "ICE gives 8, 0, 7 and 6 like the most promising hypotheses."
   ]
  },
  {
   "cell_type": "markdown",
   "metadata": {},
   "source": [
    "**Apply the RICE framework to prioritize hypotheses. Sort them in descending order of priority.**"
   ]
  },
  {
   "cell_type": "code",
   "execution_count": 5,
   "metadata": {},
   "outputs": [
    {
     "data": {
      "text/html": [
       "<div>\n",
       "<style scoped>\n",
       "    .dataframe tbody tr th:only-of-type {\n",
       "        vertical-align: middle;\n",
       "    }\n",
       "\n",
       "    .dataframe tbody tr th {\n",
       "        vertical-align: top;\n",
       "    }\n",
       "\n",
       "    .dataframe thead th {\n",
       "        text-align: right;\n",
       "    }\n",
       "</style>\n",
       "<table border=\"1\" class=\"dataframe\">\n",
       "  <thead>\n",
       "    <tr style=\"text-align: right;\">\n",
       "      <th></th>\n",
       "      <th>Hypothesis</th>\n",
       "      <th>RICE</th>\n",
       "      <th>ICE</th>\n",
       "    </tr>\n",
       "  </thead>\n",
       "  <tbody>\n",
       "    <tr>\n",
       "      <th>7</th>\n",
       "      <td>Add a subscription form to all the main pages....</td>\n",
       "      <td>112.0</td>\n",
       "      <td>11.200000</td>\n",
       "    </tr>\n",
       "    <tr>\n",
       "      <th>2</th>\n",
       "      <td>Add product recommendation blocks to the store...</td>\n",
       "      <td>56.0</td>\n",
       "      <td>7.000000</td>\n",
       "    </tr>\n",
       "    <tr>\n",
       "      <th>0</th>\n",
       "      <td>Add two new channels for attracting traffic. T...</td>\n",
       "      <td>40.0</td>\n",
       "      <td>13.333333</td>\n",
       "    </tr>\n",
       "    <tr>\n",
       "      <th>6</th>\n",
       "      <td>Show banners with current offers and sales on ...</td>\n",
       "      <td>40.0</td>\n",
       "      <td>8.000000</td>\n",
       "    </tr>\n",
       "    <tr>\n",
       "      <th>8</th>\n",
       "      <td>Launch a promotion that gives users discounts ...</td>\n",
       "      <td>16.2</td>\n",
       "      <td>16.200000</td>\n",
       "    </tr>\n",
       "    <tr>\n",
       "      <th>3</th>\n",
       "      <td>Change the category structure. This will incre...</td>\n",
       "      <td>9.0</td>\n",
       "      <td>1.125000</td>\n",
       "    </tr>\n",
       "    <tr>\n",
       "      <th>1</th>\n",
       "      <td>Launch your own delivery service. This will sh...</td>\n",
       "      <td>4.0</td>\n",
       "      <td>2.000000</td>\n",
       "    </tr>\n",
       "    <tr>\n",
       "      <th>5</th>\n",
       "      <td>Add a customer review page. This will increase...</td>\n",
       "      <td>4.0</td>\n",
       "      <td>1.333333</td>\n",
       "    </tr>\n",
       "    <tr>\n",
       "      <th>4</th>\n",
       "      <td>Change the background color on the main page. ...</td>\n",
       "      <td>3.0</td>\n",
       "      <td>1.000000</td>\n",
       "    </tr>\n",
       "  </tbody>\n",
       "</table>\n",
       "</div>"
      ],
      "text/plain": [
       "                                          Hypothesis   RICE        ICE\n",
       "7  Add a subscription form to all the main pages....  112.0  11.200000\n",
       "2  Add product recommendation blocks to the store...   56.0   7.000000\n",
       "0  Add two new channels for attracting traffic. T...   40.0  13.333333\n",
       "6  Show banners with current offers and sales on ...   40.0   8.000000\n",
       "8  Launch a promotion that gives users discounts ...   16.2  16.200000\n",
       "3  Change the category structure. This will incre...    9.0   1.125000\n",
       "1  Launch your own delivery service. This will sh...    4.0   2.000000\n",
       "5  Add a customer review page. This will increase...    4.0   1.333333\n",
       "4  Change the background color on the main page. ...    3.0   1.000000"
      ]
     },
     "execution_count": 5,
     "metadata": {},
     "output_type": "execute_result"
    }
   ],
   "source": [
    "# Apply the RICE framework to prioritize hypotheses\n",
    "\n",
    "hypotheses['RICE'] = hypotheses['Reach'] * hypotheses['Impact'] * hypotheses['Confidence'] / hypotheses['Effort']\n",
    "hypotheses[['Hypothesis', 'RICE', 'ICE']].sort_values(by=['RICE'], ascending=False)"
   ]
  },
  {
   "cell_type": "markdown",
   "metadata": {},
   "source": [
    "ICE gives 7, 2, 0, and 6 like the most promising hypotheses. The prioritization of hypotheses changes when we use RICE instead of ICE. In RICE, we use the Reach parameter to take into account how many users it will affect, so it influences the prioritization of hypotheses. For example, the Reach of the 7th hypothesis is the highest, raising the given hypothesis in the prioritization list."
   ]
  },
  {
   "cell_type": "markdown",
   "metadata": {},
   "source": [
    "**Intermediate Conclusions**\n",
    "\n",
    "We applied the ICE framework to prioritize hypotheses, and it gave us 8, 0, 7, and 6 hypotheses like the most promising. After that, we applied the RICE framework, and it gave us 8, 0, 7, and 6 hypotheses like the best. So we will choose the RICE results because we need to consider how many users it will affect."
   ]
  },
  {
   "cell_type": "markdown",
   "metadata": {},
   "source": [
    "# Part 2. A/B Test Analysis"
   ]
  },
  {
   "cell_type": "markdown",
   "metadata": {},
   "source": [
    "**Data Preprocessing**"
   ]
  },
  {
   "cell_type": "code",
   "execution_count": 6,
   "metadata": {},
   "outputs": [
    {
     "data": {
      "text/html": [
       "<div>\n",
       "<style scoped>\n",
       "    .dataframe tbody tr th:only-of-type {\n",
       "        vertical-align: middle;\n",
       "    }\n",
       "\n",
       "    .dataframe tbody tr th {\n",
       "        vertical-align: top;\n",
       "    }\n",
       "\n",
       "    .dataframe thead th {\n",
       "        text-align: right;\n",
       "    }\n",
       "</style>\n",
       "<table border=\"1\" class=\"dataframe\">\n",
       "  <thead>\n",
       "    <tr style=\"text-align: right;\">\n",
       "      <th></th>\n",
       "      <th>transactionId</th>\n",
       "      <th>visitorId</th>\n",
       "      <th>date</th>\n",
       "      <th>revenue</th>\n",
       "      <th>group</th>\n",
       "    </tr>\n",
       "  </thead>\n",
       "  <tbody>\n",
       "    <tr>\n",
       "      <th>0</th>\n",
       "      <td>3667963787</td>\n",
       "      <td>3312258926</td>\n",
       "      <td>2019-08-15</td>\n",
       "      <td>30.4</td>\n",
       "      <td>B</td>\n",
       "    </tr>\n",
       "    <tr>\n",
       "      <th>1</th>\n",
       "      <td>2804400009</td>\n",
       "      <td>3642806036</td>\n",
       "      <td>2019-08-15</td>\n",
       "      <td>15.2</td>\n",
       "      <td>B</td>\n",
       "    </tr>\n",
       "    <tr>\n",
       "      <th>2</th>\n",
       "      <td>2961555356</td>\n",
       "      <td>4069496402</td>\n",
       "      <td>2019-08-15</td>\n",
       "      <td>10.2</td>\n",
       "      <td>A</td>\n",
       "    </tr>\n",
       "    <tr>\n",
       "      <th>3</th>\n",
       "      <td>3797467345</td>\n",
       "      <td>1196621759</td>\n",
       "      <td>2019-08-15</td>\n",
       "      <td>155.1</td>\n",
       "      <td>B</td>\n",
       "    </tr>\n",
       "    <tr>\n",
       "      <th>4</th>\n",
       "      <td>2282983706</td>\n",
       "      <td>2322279887</td>\n",
       "      <td>2019-08-15</td>\n",
       "      <td>40.5</td>\n",
       "      <td>B</td>\n",
       "    </tr>\n",
       "    <tr>\n",
       "      <th>...</th>\n",
       "      <td>...</td>\n",
       "      <td>...</td>\n",
       "      <td>...</td>\n",
       "      <td>...</td>\n",
       "      <td>...</td>\n",
       "    </tr>\n",
       "    <tr>\n",
       "      <th>1192</th>\n",
       "      <td>2662137336</td>\n",
       "      <td>3733762160</td>\n",
       "      <td>2019-08-14</td>\n",
       "      <td>100.8</td>\n",
       "      <td>B</td>\n",
       "    </tr>\n",
       "    <tr>\n",
       "      <th>1193</th>\n",
       "      <td>2203539145</td>\n",
       "      <td>370388673</td>\n",
       "      <td>2019-08-14</td>\n",
       "      <td>50.1</td>\n",
       "      <td>A</td>\n",
       "    </tr>\n",
       "    <tr>\n",
       "      <th>1194</th>\n",
       "      <td>1807773912</td>\n",
       "      <td>573423106</td>\n",
       "      <td>2019-08-14</td>\n",
       "      <td>165.3</td>\n",
       "      <td>A</td>\n",
       "    </tr>\n",
       "    <tr>\n",
       "      <th>1195</th>\n",
       "      <td>1947021204</td>\n",
       "      <td>1614305549</td>\n",
       "      <td>2019-08-14</td>\n",
       "      <td>5.5</td>\n",
       "      <td>A</td>\n",
       "    </tr>\n",
       "    <tr>\n",
       "      <th>1196</th>\n",
       "      <td>3936777065</td>\n",
       "      <td>2108080724</td>\n",
       "      <td>2019-08-15</td>\n",
       "      <td>3120.1</td>\n",
       "      <td>B</td>\n",
       "    </tr>\n",
       "  </tbody>\n",
       "</table>\n",
       "<p>1197 rows × 5 columns</p>\n",
       "</div>"
      ],
      "text/plain": [
       "      transactionId   visitorId        date  revenue group\n",
       "0        3667963787  3312258926  2019-08-15     30.4     B\n",
       "1        2804400009  3642806036  2019-08-15     15.2     B\n",
       "2        2961555356  4069496402  2019-08-15     10.2     A\n",
       "3        3797467345  1196621759  2019-08-15    155.1     B\n",
       "4        2282983706  2322279887  2019-08-15     40.5     B\n",
       "...             ...         ...         ...      ...   ...\n",
       "1192     2662137336  3733762160  2019-08-14    100.8     B\n",
       "1193     2203539145   370388673  2019-08-14     50.1     A\n",
       "1194     1807773912   573423106  2019-08-14    165.3     A\n",
       "1195     1947021204  1614305549  2019-08-14      5.5     A\n",
       "1196     3936777065  2108080724  2019-08-15   3120.1     B\n",
       "\n",
       "[1197 rows x 5 columns]"
      ]
     },
     "execution_count": 6,
     "metadata": {},
     "output_type": "execute_result"
    }
   ],
   "source": [
    "# Let's look at orders data\n",
    "\n",
    "orders"
   ]
  },
  {
   "cell_type": "code",
   "execution_count": 7,
   "metadata": {},
   "outputs": [
    {
     "name": "stdout",
     "output_type": "stream",
     "text": [
      "<class 'pandas.core.frame.DataFrame'>\n",
      "RangeIndex: 1197 entries, 0 to 1196\n",
      "Data columns (total 5 columns):\n",
      " #   Column         Non-Null Count  Dtype  \n",
      "---  ------         --------------  -----  \n",
      " 0   transactionId  1197 non-null   int64  \n",
      " 1   visitorId      1197 non-null   int64  \n",
      " 2   date           1197 non-null   object \n",
      " 3   revenue        1197 non-null   float64\n",
      " 4   group          1197 non-null   object \n",
      "dtypes: float64(1), int64(2), object(2)\n",
      "memory usage: 46.9+ KB\n"
     ]
    }
   ],
   "source": [
    "orders.info()"
   ]
  },
  {
   "cell_type": "markdown",
   "metadata": {},
   "source": [
    "There are no missing values in this dataframe."
   ]
  },
  {
   "cell_type": "code",
   "execution_count": 8,
   "metadata": {},
   "outputs": [
    {
     "name": "stdout",
     "output_type": "stream",
     "text": [
      "<class 'pandas.core.frame.DataFrame'>\n",
      "RangeIndex: 1197 entries, 0 to 1196\n",
      "Data columns (total 5 columns):\n",
      " #   Column         Non-Null Count  Dtype         \n",
      "---  ------         --------------  -----         \n",
      " 0   transactionId  1197 non-null   int64         \n",
      " 1   visitorId      1197 non-null   int64         \n",
      " 2   date           1197 non-null   datetime64[ns]\n",
      " 3   revenue        1197 non-null   float64       \n",
      " 4   group          1197 non-null   object        \n",
      "dtypes: datetime64[ns](1), float64(1), int64(2), object(1)\n",
      "memory usage: 46.9+ KB\n"
     ]
    }
   ],
   "source": [
    "# Fix data types\n",
    "\n",
    "orders['date']=pd.to_datetime(orders['date'],dayfirst=True)\n",
    "orders.info()"
   ]
  },
  {
   "cell_type": "code",
   "execution_count": 9,
   "metadata": {},
   "outputs": [
    {
     "data": {
      "text/plain": [
       "0"
      ]
     },
     "execution_count": 9,
     "metadata": {},
     "output_type": "execute_result"
    }
   ],
   "source": [
    "# Let's see if we have duplicates\n",
    "\n",
    "orders.duplicated().sum()"
   ]
  },
  {
   "cell_type": "code",
   "execution_count": 10,
   "metadata": {},
   "outputs": [
    {
     "data": {
      "text/plain": [
       "transactionId    166\n",
       "visitorId        166\n",
       "date             166\n",
       "revenue          166\n",
       "group            166\n",
       "dtype: int64"
      ]
     },
     "execution_count": 10,
     "metadata": {},
     "output_type": "execute_result"
    }
   ],
   "source": [
    "# Let's see if we have same visitors in both groups\n",
    "\n",
    "orders[orders.duplicated('visitorId')].count()"
   ]
  },
  {
   "cell_type": "code",
   "execution_count": 11,
   "metadata": {},
   "outputs": [],
   "source": [
    "users_a = orders[orders['group'] == 'A']['visitorId'].unique()\n",
    "users_b = orders[orders['group'] == 'B']['visitorId'].unique()\n",
    "joint_set = set(users_a).intersection(set(users_b))"
   ]
  },
  {
   "cell_type": "code",
   "execution_count": 12,
   "metadata": {},
   "outputs": [],
   "source": [
    "# Drop same visitors in both groups\n",
    "\n",
    "orders = orders[~orders['visitorId'].isin(joint_set)]"
   ]
  },
  {
   "cell_type": "code",
   "execution_count": 13,
   "metadata": {},
   "outputs": [
    {
     "name": "stdout",
     "output_type": "stream",
     "text": [
      "transactionId 0\n",
      "visitorId 0\n",
      "date 0\n",
      "revenue 0\n",
      "group 0\n"
     ]
    }
   ],
   "source": [
    "# Check data on 0's\n",
    "\n",
    "for i in orders:\n",
    "    print(i, len(orders[orders[i]==0]))"
   ]
  },
  {
   "cell_type": "code",
   "execution_count": 14,
   "metadata": {},
   "outputs": [
    {
     "data": {
      "text/html": [
       "<div>\n",
       "<style scoped>\n",
       "    .dataframe tbody tr th:only-of-type {\n",
       "        vertical-align: middle;\n",
       "    }\n",
       "\n",
       "    .dataframe tbody tr th {\n",
       "        vertical-align: top;\n",
       "    }\n",
       "\n",
       "    .dataframe thead th {\n",
       "        text-align: right;\n",
       "    }\n",
       "</style>\n",
       "<table border=\"1\" class=\"dataframe\">\n",
       "  <thead>\n",
       "    <tr style=\"text-align: right;\">\n",
       "      <th></th>\n",
       "      <th>date</th>\n",
       "      <th>group</th>\n",
       "      <th>visits</th>\n",
       "    </tr>\n",
       "  </thead>\n",
       "  <tbody>\n",
       "    <tr>\n",
       "      <th>0</th>\n",
       "      <td>2019-08-01</td>\n",
       "      <td>A</td>\n",
       "      <td>719</td>\n",
       "    </tr>\n",
       "    <tr>\n",
       "      <th>1</th>\n",
       "      <td>2019-08-02</td>\n",
       "      <td>A</td>\n",
       "      <td>619</td>\n",
       "    </tr>\n",
       "    <tr>\n",
       "      <th>2</th>\n",
       "      <td>2019-08-03</td>\n",
       "      <td>A</td>\n",
       "      <td>507</td>\n",
       "    </tr>\n",
       "    <tr>\n",
       "      <th>3</th>\n",
       "      <td>2019-08-04</td>\n",
       "      <td>A</td>\n",
       "      <td>717</td>\n",
       "    </tr>\n",
       "    <tr>\n",
       "      <th>4</th>\n",
       "      <td>2019-08-05</td>\n",
       "      <td>A</td>\n",
       "      <td>756</td>\n",
       "    </tr>\n",
       "    <tr>\n",
       "      <th>...</th>\n",
       "      <td>...</td>\n",
       "      <td>...</td>\n",
       "      <td>...</td>\n",
       "    </tr>\n",
       "    <tr>\n",
       "      <th>57</th>\n",
       "      <td>2019-08-27</td>\n",
       "      <td>B</td>\n",
       "      <td>720</td>\n",
       "    </tr>\n",
       "    <tr>\n",
       "      <th>58</th>\n",
       "      <td>2019-08-28</td>\n",
       "      <td>B</td>\n",
       "      <td>654</td>\n",
       "    </tr>\n",
       "    <tr>\n",
       "      <th>59</th>\n",
       "      <td>2019-08-29</td>\n",
       "      <td>B</td>\n",
       "      <td>531</td>\n",
       "    </tr>\n",
       "    <tr>\n",
       "      <th>60</th>\n",
       "      <td>2019-08-30</td>\n",
       "      <td>B</td>\n",
       "      <td>490</td>\n",
       "    </tr>\n",
       "    <tr>\n",
       "      <th>61</th>\n",
       "      <td>2019-08-31</td>\n",
       "      <td>B</td>\n",
       "      <td>718</td>\n",
       "    </tr>\n",
       "  </tbody>\n",
       "</table>\n",
       "<p>62 rows × 3 columns</p>\n",
       "</div>"
      ],
      "text/plain": [
       "          date group  visits\n",
       "0   2019-08-01     A     719\n",
       "1   2019-08-02     A     619\n",
       "2   2019-08-03     A     507\n",
       "3   2019-08-04     A     717\n",
       "4   2019-08-05     A     756\n",
       "..         ...   ...     ...\n",
       "57  2019-08-27     B     720\n",
       "58  2019-08-28     B     654\n",
       "59  2019-08-29     B     531\n",
       "60  2019-08-30     B     490\n",
       "61  2019-08-31     B     718\n",
       "\n",
       "[62 rows x 3 columns]"
      ]
     },
     "execution_count": 14,
     "metadata": {},
     "output_type": "execute_result"
    }
   ],
   "source": [
    "# Let's look at visits data\n",
    "\n",
    "visitors"
   ]
  },
  {
   "cell_type": "code",
   "execution_count": 15,
   "metadata": {},
   "outputs": [
    {
     "name": "stdout",
     "output_type": "stream",
     "text": [
      "<class 'pandas.core.frame.DataFrame'>\n",
      "RangeIndex: 62 entries, 0 to 61\n",
      "Data columns (total 3 columns):\n",
      " #   Column  Non-Null Count  Dtype \n",
      "---  ------  --------------  ----- \n",
      " 0   date    62 non-null     object\n",
      " 1   group   62 non-null     object\n",
      " 2   visits  62 non-null     int64 \n",
      "dtypes: int64(1), object(2)\n",
      "memory usage: 1.6+ KB\n"
     ]
    }
   ],
   "source": [
    "visitors.info()"
   ]
  },
  {
   "cell_type": "markdown",
   "metadata": {},
   "source": [
    "There are no missing values in this dataframe."
   ]
  },
  {
   "cell_type": "code",
   "execution_count": 16,
   "metadata": {},
   "outputs": [
    {
     "name": "stdout",
     "output_type": "stream",
     "text": [
      "<class 'pandas.core.frame.DataFrame'>\n",
      "RangeIndex: 62 entries, 0 to 61\n",
      "Data columns (total 3 columns):\n",
      " #   Column  Non-Null Count  Dtype         \n",
      "---  ------  --------------  -----         \n",
      " 0   date    62 non-null     datetime64[ns]\n",
      " 1   group   62 non-null     object        \n",
      " 2   visits  62 non-null     int64         \n",
      "dtypes: datetime64[ns](1), int64(1), object(1)\n",
      "memory usage: 1.6+ KB\n"
     ]
    }
   ],
   "source": [
    "# Fix data types\n",
    "\n",
    "visitors['date']=pd.to_datetime(visitors['date'],dayfirst=True)\n",
    "visitors.info()"
   ]
  },
  {
   "cell_type": "code",
   "execution_count": 17,
   "metadata": {},
   "outputs": [
    {
     "data": {
      "text/plain": [
       "0"
      ]
     },
     "execution_count": 17,
     "metadata": {},
     "output_type": "execute_result"
    }
   ],
   "source": [
    "# Let's see if we have duplicates\n",
    "\n",
    "visitors.duplicated().sum()"
   ]
  },
  {
   "cell_type": "code",
   "execution_count": 18,
   "metadata": {},
   "outputs": [
    {
     "name": "stdout",
     "output_type": "stream",
     "text": [
      "date 0\n",
      "group 0\n",
      "visits 0\n"
     ]
    }
   ],
   "source": [
    "# Check data on 0's\n",
    "\n",
    "for i in visitors:\n",
    "    print(i, len(visitors[visitors[i]==0]))"
   ]
  },
  {
   "cell_type": "markdown",
   "metadata": {},
   "source": [
    "**Graph cumulative average revenue by group**"
   ]
  },
  {
   "cell_type": "code",
   "execution_count": 19,
   "metadata": {},
   "outputs": [
    {
     "data": {
      "text/plain": [
       "<matplotlib.legend.Legend at 0x7f6d1e204910>"
      ]
     },
     "execution_count": 19,
     "metadata": {},
     "output_type": "execute_result"
    },
    {
     "data": {
      "image/png": "[encoded data removed]",
      "text/plain": [
       "<Figure size 1152x648 with 1 Axes>"
      ]
     },
     "metadata": {
      "needs_background": "light"
     },
     "output_type": "display_data"
    }
   ],
   "source": [
    "#cumulative revenue by group\n",
    "\n",
    "datesGroups = orders[['date','group']].drop_duplicates()\n",
    "\n",
    "datesGroups = orders[['date','group']].drop_duplicates()\n",
    "\n",
    "ordersAggregated = datesGroups.apply(lambda x: orders[np.logical_and(orders['date'] <= x['date'], \n",
    "                                                                     orders['group'] == x['group'])].agg({\n",
    "'date' : 'max',\n",
    "'group' : 'max',\n",
    "'transactionId' : pd.Series.nunique,\n",
    "'visitorId' : pd.Series.nunique,\n",
    "'revenue' : 'sum'}), axis=1).sort_values(by=['date','group'])\n",
    "\n",
    "visitorsAggregated = datesGroups.apply(\n",
    "lambda x: visitors[np.logical_and(visitors['date'] <= x['date'], visitors['group'] == x['group'])].agg({\n",
    "'date' : 'max',\n",
    "'group' : 'max',\n",
    "'visits' : 'sum'}), axis=1).sort_values(by=['date','group'])\n",
    "\n",
    "cumulativeData = ordersAggregated.merge(visitorsAggregated, left_on=['date', 'group'], right_on=['date', 'group'])\n",
    "cumulativeData.columns = ['date', 'group', 'orders', 'buyers', 'revenue', 'visitors']\n",
    "cumulativeRevenueA = cumulativeData[cumulativeData['group']=='A'][['date','revenue', 'orders']]\n",
    "cumulativeRevenueB = cumulativeData[cumulativeData['group']=='B'][['date','revenue', 'orders']]\n",
    "\n",
    "plt.plot(cumulativeRevenueA['date'], cumulativeRevenueA['revenue'], label='A', linewidth = 3, color = 'orange')\n",
    "\n",
    "plt.plot(cumulativeRevenueB['date'], cumulativeRevenueB['revenue'], label='B', linewidth = 3, color='blue')\n",
    "\n",
    "fig = plt.gcf()\n",
    "fig.set_size_inches(16, 9)\n",
    "plt.title('Cumulative revenue by group', fontsize=18)\n",
    "plt.xlabel('Date', fontsize=18)\n",
    "plt.ylabel('Revenue', fontsize=16)\n",
    "\n",
    "plt.grid(color='r', linestyle='--', linewidth=0.2)\n",
    "\n",
    "plt.legend()"
   ]
  },
  {
   "cell_type": "markdown",
   "metadata": {},
   "source": [
    "The graph shows extreme revenue growth of 19/8 for group B. Abnormally big orders probably cause this. "
   ]
  },
  {
   "cell_type": "markdown",
   "metadata": {},
   "source": [
    "**Graph cumulative average order size by group.**"
   ]
  },
  {
   "cell_type": "code",
   "execution_count": 20,
   "metadata": {},
   "outputs": [
    {
     "data": {
      "text/plain": [
       "<matplotlib.legend.Legend at 0x7f6d15711f10>"
      ]
     },
     "execution_count": 20,
     "metadata": {},
     "output_type": "execute_result"
    },
    {
     "data": {
      "image/png": "[encoded data removed]",
      "text/plain": [
       "<Figure size 1152x648 with 1 Axes>"
      ]
     },
     "metadata": {
      "needs_background": "light"
     },
     "output_type": "display_data"
    }
   ],
   "source": [
    "plt.plot(cumulativeRevenueA['date'], cumulativeRevenueA['revenue']/cumulativeRevenueA['orders'], label='A', linewidth = 2, color = 'orange')\n",
    "plt.plot(cumulativeRevenueB['date'], cumulativeRevenueB['revenue']/cumulativeRevenueB['orders'], label='B', linewidth = 2, color = 'blue')\n",
    "fig = plt.gcf()\n",
    "fig.set_size_inches(16, 9)\n",
    "plt.title('Cumulative revenue by group', fontsize=18)\n",
    "plt.xlabel('Date', fontsize=18)\n",
    "plt.ylabel('Revenue', fontsize=16)\n",
    "plt.grid(color='r', linestyle='--', linewidth=0.2)\n",
    "\n",
    "plt.title('average order size by group', fontsize=18)\n",
    "plt.xlabel('Date', fontsize=18)\n",
    "plt.ylabel('Order size', fontsize=16)\n",
    "\n",
    "\n",
    "plt.legend()"
   ]
  },
  {
   "cell_type": "markdown",
   "metadata": {},
   "source": [
    "On average, the order size in group B is larger. At the same time, there is a spike on 8/19 in group B that says that average orders in group B were higher on that day. Other spikes notify that there are costly orders."
   ]
  },
  {
   "cell_type": "code",
   "execution_count": 21,
   "metadata": {},
   "outputs": [
    {
     "name": "stdout",
     "output_type": "stream",
     "text": [
      "            revenue group\n",
      "visitorId                \n",
      "1920142716  19920.4     B\n",
      "2912540959    680.8     A\n",
      "2837914161    515.9     B\n",
      "1357170471    490.4     A\n",
      "154576532     410.5     B\n",
      "2536252163    310.1     B\n",
      "1957949546    260.0     A\n",
      "290022471     255.5     B\n",
      "4017075195    210.0     A\n",
      "3282099314    185.4     A\n"
     ]
    }
   ],
   "source": [
    "print(orders[orders['date'] == '2019-08-19'].groupby('visitorId').agg({'revenue': 'sum', 'group':'max'}).sort_values(by = 'revenue', ascending = False).head(10))"
   ]
  },
  {
   "cell_type": "markdown",
   "metadata": {},
   "source": [
    "Yes, we can see that on 19 August there was huge order made by a visitor from group B. "
   ]
  },
  {
   "cell_type": "markdown",
   "metadata": {},
   "source": [
    "**Graph the relative difference in cumulative average order size for group B compared with group A. Make conclusions and conjectures.**"
   ]
  },
  {
   "cell_type": "code",
   "execution_count": 22,
   "metadata": {},
   "outputs": [
    {
     "data": {
      "text/plain": [
       "<matplotlib.lines.Line2D at 0x7f6d15e1b670>"
      ]
     },
     "execution_count": 22,
     "metadata": {},
     "output_type": "execute_result"
    },
    {
     "data": {
      "image/png": "[encoded data removed]",
      "text/plain": [
       "<Figure size 1152x648 with 1 Axes>"
      ]
     },
     "metadata": {
      "needs_background": "light"
     },
     "output_type": "display_data"
    }
   ],
   "source": [
    "#relative difference in cumulative average order size\n",
    "\n",
    "mergedCumulativeRevenue = cumulativeRevenueA.merge(cumulativeRevenueB, left_on='date', right_on='date', how='left', suffixes=['A', 'B'])\n",
    "\n",
    "plt.plot(mergedCumulativeRevenue['date'], (mergedCumulativeRevenue['revenueB']/mergedCumulativeRevenue['ordersB'])/(mergedCumulativeRevenue['revenueA']/mergedCumulativeRevenue['ordersA'])-1, linewidth = 2.5, color = 'blue')\n",
    "\n",
    "fig = plt.gcf()\n",
    "fig.set_size_inches(16, 9)\n",
    "\n",
    "plt.title('relative difference in cumulative average order size', fontsize=18)\n",
    "plt.xlabel('Date', fontsize=18)\n",
    "plt.ylabel('Difference', fontsize=16)\n",
    "\n",
    "plt.grid(color='r', linestyle='--', linewidth=0.2)\n",
    "\n",
    "plt.axhline(y=0, color='black', linestyle='--')"
   ]
  },
  {
   "cell_type": "markdown",
   "metadata": {},
   "source": [
    "The difference between the segments spikes means that there are big orders and outliers."
   ]
  },
  {
   "cell_type": "markdown",
   "metadata": {},
   "source": [
    "**Calculate each group's conversion rate as the ratio of orders to the number of visits for each day. Plot the daily conversion rates of the two groups and describe the difference.**"
   ]
  },
  {
   "cell_type": "code",
   "execution_count": 23,
   "metadata": {},
   "outputs": [
    {
     "data": {
      "text/plain": [
       "(18109.0, 18139.0, 0.0, 0.06)"
      ]
     },
     "execution_count": 23,
     "metadata": {},
     "output_type": "execute_result"
    },
    {
     "data": {
      "image/png": "[encoded data removed]",
      "text/plain": [
       "<Figure size 1152x648 with 1 Axes>"
      ]
     },
     "metadata": {
      "needs_background": "light"
     },
     "output_type": "display_data"
    }
   ],
   "source": [
    "cumulativeData['conversion'] = cumulativeData['orders']/cumulativeData['visitors']\n",
    "cumulativeDataA = cumulativeData[cumulativeData['group']=='A']\n",
    "cumulativeDataB = cumulativeData[cumulativeData['group']=='B']\n",
    "plt.plot(cumulativeDataA['date'], cumulativeDataA['conversion'], label='A', linewidth = 2, color = 'orange')\n",
    "plt.plot(cumulativeDataB['date'], cumulativeDataB['conversion'], label='B', linewidth = 2, color = 'blue')\n",
    "\n",
    "fig = plt.gcf()\n",
    "fig.set_size_inches(16, 9)\n",
    "\n",
    "\n",
    "plt.title('groups conversion rate', fontsize=18)\n",
    "plt.xlabel('Date', fontsize=18)\n",
    "plt.ylabel('conversion', fontsize=16)\n",
    "\n",
    "plt.grid(color='r', linestyle='--', linewidth=0.2)\n",
    "\n",
    "\n",
    "plt.legend()\n",
    "plt.axis([orders['date'].min(), orders['date'].max(), 0, 0.06])"
   ]
  },
  {
   "cell_type": "markdown",
   "metadata": {},
   "source": [
    "Group B is fluctuating around a higher value than group A. In the beginning, group A had a higher conversion rate, though it dropped later."
   ]
  },
  {
   "cell_type": "code",
   "execution_count": 24,
   "metadata": {},
   "outputs": [
    {
     "data": {
      "text/plain": [
       "(18109.0, 18139.0, -0.3, 0.5)"
      ]
     },
     "execution_count": 24,
     "metadata": {},
     "output_type": "execute_result"
    },
    {
     "data": {
      "image/png": "[encoded data removed]",
      "text/plain": [
       "<Figure size 1152x648 with 1 Axes>"
      ]
     },
     "metadata": {
      "needs_background": "light"
     },
     "output_type": "display_data"
    }
   ],
   "source": [
    "mergedCumulativeConversions = cumulativeDataA[['date','conversion']].merge(cumulativeDataB[['date','conversion']], left_on='date', right_on='date', how='left', suffixes=['A', 'B'])\n",
    "\n",
    "plt.plot(mergedCumulativeConversions['date'], mergedCumulativeConversions['conversionB']/mergedCumulativeConversions['conversionA']-1, label=\"Relative gain in conversion in group B as opposed to group A\", linewidth = 2, color = 'blue')\n",
    "plt.legend()\n",
    "fig = plt.gcf()\n",
    "fig.set_size_inches(16, 9)\n",
    "\n",
    "plt.title('Cumulative Conversions', fontsize=18)\n",
    "plt.xlabel('Date', fontsize=18)\n",
    "plt.ylabel('conversion', fontsize=16)\n",
    "\n",
    "\n",
    "plt.grid(color='r', linestyle='--', linewidth=0.2)\n",
    "plt.axhline(y=0, color='black', linestyle='--')\n",
    "plt.axhline(y=0.2, color='grey', linestyle='--')\n",
    "plt.axis([orders['date'].min(), orders['date'].max(), -0.3, 0.5])"
   ]
  },
  {
   "cell_type": "markdown",
   "metadata": {},
   "source": [
    "In the beginning, we can see that group B had a lower conversion rate, though later it raised. Therefore, it can mean higher cumulative revenue and more expensive purchases. "
   ]
  },
  {
   "cell_type": "markdown",
   "metadata": {},
   "source": [
    "**Plot a scatter chart of the number of orders per user.**"
   ]
  },
  {
   "cell_type": "code",
   "execution_count": 25,
   "metadata": {},
   "outputs": [
    {
     "data": {
      "text/plain": [
       "<matplotlib.collections.PathCollection at 0x7f6d15c8a8e0>"
      ]
     },
     "execution_count": 25,
     "metadata": {},
     "output_type": "execute_result"
    },
    {
     "data": {
      "image/png": "[encoded data removed]",
      "text/plain": [
       "<Figure size 1152x648 with 1 Axes>"
      ]
     },
     "metadata": {
      "needs_background": "light"
     },
     "output_type": "display_data"
    }
   ],
   "source": [
    "# Scatter chart of the number of orders per user\n",
    "\n",
    "ordersByUsers = orders.drop(['group', 'revenue', 'date'], axis=1).groupby('visitorId', as_index=False).agg({'transactionId' : pd.Series.nunique})\n",
    "ordersByUsers.columns = ['VisitorId','orders']\n",
    "x_values = pd.Series(range(0,len(ordersByUsers)))\n",
    "\n",
    "fig = plt.gcf()\n",
    "fig.set_size_inches(16, 9)\n",
    "\n",
    "plt.title('number of orders per user', fontsize=18)\n",
    "plt.xlabel('Users', fontsize=18)\n",
    "plt.ylabel('Orders', fontsize=16)\n",
    "\n",
    "plt.scatter(x_values, ordersByUsers['orders'], color = 'blue')"
   ]
  },
  {
   "cell_type": "markdown",
   "metadata": {},
   "source": [
    "There are only few users with more than 2 orders. However, this is in line with normal user behavior."
   ]
  },
  {
   "cell_type": "markdown",
   "metadata": {},
   "source": [
    "**Calculate the 95th and 99th percentiles for the number of orders per user. Define the point at which a data point becomes an anomaly.**"
   ]
  },
  {
   "cell_type": "code",
   "execution_count": 26,
   "metadata": {},
   "outputs": [
    {
     "data": {
      "text/plain": [
       "array([1., 2.])"
      ]
     },
     "execution_count": 26,
     "metadata": {},
     "output_type": "execute_result"
    }
   ],
   "source": [
    "np.percentile(ordersByUsers['orders'], [95, 99])"
   ]
  },
  {
   "cell_type": "markdown",
   "metadata": {},
   "source": [
    "**Plot a scatter chart of order prices.**"
   ]
  },
  {
   "cell_type": "code",
   "execution_count": 27,
   "metadata": {},
   "outputs": [
    {
     "data": {
      "text/plain": [
       "<matplotlib.legend.Legend at 0x7f6d15c6fa60>"
      ]
     },
     "execution_count": 27,
     "metadata": {},
     "output_type": "execute_result"
    },
    {
     "data": {
      "image/png": "[encoded data removed]",
      "text/plain": [
       "<Figure size 1152x648 with 1 Axes>"
      ]
     },
     "metadata": {
      "needs_background": "light"
     },
     "output_type": "display_data"
    }
   ],
   "source": [
    "ordersA = orders[orders['group'] == 'A']\n",
    "ordersB = orders[orders['group'] == 'B']\n",
    "\n",
    "x_values = pd.Series(range(0, len(ordersA['revenue'])))\n",
    "plt.scatter(x_values, ordersA['revenue'], color = 'orange')\n",
    "y_values = pd.Series(range(0, len(ordersB['revenue'])))\n",
    "plt.scatter(y_values, ordersB['revenue'], color = 'blue')\n",
    "\n",
    "plt.title('Order price', fontsize=18)\n",
    "plt.xlabel('Users', fontsize=18)\n",
    "plt.ylabel('Price', fontsize=16)\n",
    "\n",
    "fig = plt.gcf()\n",
    "fig.set_size_inches(16, 9)\n",
    "\n",
    "plt.legend('AB')"
   ]
  },
  {
   "cell_type": "markdown",
   "metadata": {},
   "source": [
    "There are not many orders above 2500. There are outliers of about 3000 and 20000. The order of 20000 looks pretty anomalous."
   ]
  },
  {
   "cell_type": "markdown",
   "metadata": {},
   "source": [
    "**Calculate the 95th and 99th percentiles of order prices. Define the point at which a data point becomes an anomaly.**"
   ]
  },
  {
   "cell_type": "code",
   "execution_count": 28,
   "metadata": {},
   "outputs": [
    {
     "data": {
      "text/plain": [
       "array([414.275, 830.3  ])"
      ]
     },
     "execution_count": 28,
     "metadata": {},
     "output_type": "execute_result"
    }
   ],
   "source": [
    "np.percentile(orders['revenue'], [95, 99]) "
   ]
  },
  {
   "cell_type": "markdown",
   "metadata": {},
   "source": [
    "Not more than 5% of users placed orders that cost more than 414, and not more than 1% orders more expensive than 830.  We can consider this point as an anomaly (more than 830)."
   ]
  },
  {
   "cell_type": "code",
   "execution_count": 29,
   "metadata": {},
   "outputs": [],
   "source": [
    "# Create Dataframe without outliers\n",
    "\n",
    "for parameter in ['revenue']:\n",
    "    ninety_nine = np.percentile(orders[parameter], 99)\n",
    "    one = np.percentile(orders[parameter], 1)\n",
    "    filtered_orders=orders[(orders[parameter]>=one)&(orders[parameter]<=ninety_nine)]"
   ]
  },
  {
   "cell_type": "markdown",
   "metadata": {},
   "source": [
    "**Find the statistical significance of the difference in conversion between the groups using the raw data.**\n",
    "\n",
    "Hypotheses:\n",
    "\n",
    "- H0: There is no difference in conversion between the groups.\n",
    "- H1: There is a difference in conversion between the groups.\n",
    "\n",
    "**Find the statistical significance of the difference in average order size between the groups using the raw data.**\n",
    "\n",
    "Hypotheses:\n",
    "\n",
    "- H0: There is no difference in average order size between the groups.\n",
    "- H1: There is a difference in average order size between the groups.\n",
    "\n",
    "**Find the statistical significance of the difference in conversion between the groups using the filtered data.**\n",
    "\n",
    "Hypotheses:\n",
    "\n",
    "- H0: There is no difference in conversion between the groups.\n",
    "- H1: There is a difference in conversion between the groups.\n",
    "\n",
    "**Find the statistical significance of the difference in average order size between the groups using the filtered data.**\n",
    "\n",
    "Hypotheses:\n",
    "\n",
    "- H0: There is no difference in average order size between the groups.\n",
    "- H1: There is a difference in average order size between the groups."
   ]
  },
  {
   "cell_type": "code",
   "execution_count": 30,
   "metadata": {},
   "outputs": [],
   "source": [
    "# Make tabels with filtered data\n",
    "\n",
    "ordersAggregated_filtered = datesGroups.apply(lambda x: filtered_orders[np.logical_and(filtered_orders['date'] <= x['date'], filtered_orders['group'] == x['group'])].agg({\n",
    "'date' : 'max',\n",
    "'group' : 'max',\n",
    "'transactionId' : pd.Series.nunique,\n",
    "'visitorId' : pd.Series.nunique,\n",
    "'revenue' : 'sum'}), axis=1).sort_values(by=['date','group'])\n",
    "\n",
    "visitorsAggregated = datesGroups.apply(\n",
    "lambda x: visitors[np.logical_and(visitors['date'] <= x['date'], visitors['group'] == x['group'])].agg({\n",
    "'date' : 'max',\n",
    "'group' : 'max',\n",
    "'visits' : 'sum'}), axis=1).sort_values(by=['date','group'])\n",
    "\n",
    "cumulativeData_filtered = ordersAggregated_filtered.merge(visitorsAggregated, left_on=['date', 'group'], right_on=['date', 'group'])\n",
    "cumulativeData_filtered.columns = ['date', 'group', 'orders', 'buyers', 'revenue', 'visitors']\n",
    "cumulativeData_filtered['conversion'] = cumulativeData_filtered['orders']/cumulativeData_filtered['visitors']"
   ]
  },
  {
   "cell_type": "code",
   "execution_count": 31,
   "metadata": {},
   "outputs": [],
   "source": [
    "control_raw = cumulativeDataA\n",
    "test_raw = cumulativeDataB\n",
    "control_filtered = cumulativeData_filtered[cumulativeData_filtered['group'] == 'A']\n",
    "test_filtered = cumulativeData_filtered[cumulativeData_filtered['group'] == 'B']"
   ]
  },
  {
   "cell_type": "code",
   "execution_count": 32,
   "metadata": {},
   "outputs": [
    {
     "name": "stdout",
     "output_type": "stream",
     "text": [
      "Trials: 305673\n",
      "Successes: 7904\n"
     ]
    }
   ],
   "source": [
    "#Total convertion check\n",
    "\n",
    "control_trials=control_raw['visitors'].sum()\n",
    "print(\"Trials:\",control_trials)\n",
    "control_successes=control_raw['orders'].sum()\n",
    "print(\"Successes:\",control_successes)"
   ]
  },
  {
   "cell_type": "code",
   "execution_count": 33,
   "metadata": {},
   "outputs": [
    {
     "name": "stdout",
     "output_type": "stream",
     "text": [
      "Trials: 307092\n",
      "Successes: 9038\n"
     ]
    }
   ],
   "source": [
    "test_trials=test_raw['visitors'].sum()\n",
    "print(\"Trials:\",test_trials)\n",
    "test_successes=test_raw['orders'].sum()\n",
    "print(\"Successes:\",test_successes)"
   ]
  },
  {
   "cell_type": "code",
   "execution_count": 34,
   "metadata": {},
   "outputs": [],
   "source": [
    "def check_hypothesis(successes1,trials1, successes2,trials2, alpha=0.05):\n",
    "    #proportion for success in the first group\n",
    "    p1 = successes1/trials1\n",
    "\n",
    "  #proportion for success in the second group\n",
    "    p2 = successes2/trials2\n",
    "    p_combined = (successes1 + successes2) / (trials1 + trials2)\n",
    "  \n",
    "    difference = p1 - p2\n",
    "\n",
    "    z_value = difference / math.sqrt(p_combined * (1 - p_combined) * (1/trials1 + 1/trials2))\n",
    "    distr = stats.norm(0, 1) \n",
    "    p_value = (1 - distr.cdf(abs(z_value))) * 2\n",
    "\n",
    "    print('p-value: ', p_value)"
   ]
  },
  {
   "cell_type": "code",
   "execution_count": 35,
   "metadata": {},
   "outputs": [
    {
     "name": "stdout",
     "output_type": "stream",
     "text": [
      "p-value:  0.0\n"
     ]
    }
   ],
   "source": [
    "check_hypothesis(control_successes,control_trials, test_successes,test_trials, alpha=0.05)"
   ]
  },
  {
   "cell_type": "markdown",
   "metadata": {},
   "source": [
    "We can see that convertion of the control group is equal to conversion of the test group."
   ]
  },
  {
   "cell_type": "markdown",
   "metadata": {},
   "source": []
  },
  {
   "cell_type": "code",
   "execution_count": 36,
   "metadata": {},
   "outputs": [
    {
     "data": {
      "image/png": "[encoded data removed]",
      "text/plain": [
       "<Figure size 1152x648 with 1 Axes>"
      ]
     },
     "metadata": {
      "needs_background": "light"
     },
     "output_type": "display_data"
    }
   ],
   "source": [
    "# Average daily conversion\n",
    "\n",
    "fig = plt.gcf()\n",
    "fig.set_size_inches(16, 9)\n",
    "\n",
    "plt.title('Difference in average order size', fontsize=18)\n",
    "\n",
    "pyplot.hist(control_filtered['conversion'], alpha=0.5, label='Control')\n",
    "pyplot.hist(test_filtered['conversion'], alpha=0.5, label='Test')\n",
    "pyplot.legend(loc='upper right')\n",
    "pyplot.show()"
   ]
  },
  {
   "cell_type": "markdown",
   "metadata": {},
   "source": [
    "We will check the normality of distribution with the Shapiro test. If our distribution is normal, we will use a t-test; if not - we will use Mann-Whitney. So we will write the function that will pick up the right test."
   ]
  },
  {
   "cell_type": "code",
   "execution_count": 37,
   "metadata": {},
   "outputs": [],
   "source": [
    "def testing_average(sample1,sample2,alpha=0.05):\n",
    "    #checking normality\n",
    "    sample1=sample1.dropna()\n",
    "    sample2=sample2.dropna()\n",
    "    stat1, p1_norm=stats.shapiro(sample1)\n",
    "    stat2, p2_norm=stats.shapiro(sample2)\n",
    "    if p1_norm > alpha and p2_norm>alpha:\n",
    "        #then both normal, perform t-test.\n",
    "        #for t-test also should check the equality of variances\n",
    "        statslev,p_levene=stats.levene(sample1, sample2)\n",
    "        if p_levene<alpha:\n",
    "           #variances are not equal\n",
    "            statist,p_value=stats.ttest_ind(sample1, sample2,equal_var=False)\n",
    "        else:\n",
    "            statist,p_value=stats.ttest_ind(sample1, sample2,equal_var=True) \n",
    "    else:\n",
    "        statist,p_value=stats.mannwhitneyu(sample1, sample2)\n",
    "    print(p_value)\n",
    "    if p_value<alpha:\n",
    "        print('Reject H0')\n",
    "    else:\n",
    "        print('Fail to Reject H0')"
   ]
  },
  {
   "cell_type": "code",
   "execution_count": 38,
   "metadata": {},
   "outputs": [
    {
     "name": "stdout",
     "output_type": "stream",
     "text": [
      "1.1953382465006899e-05\n",
      "Reject H0\n"
     ]
    }
   ],
   "source": [
    "testing_average(control_filtered['conversion'],test_filtered['conversion'],alpha=0.05)"
   ]
  },
  {
   "cell_type": "markdown",
   "metadata": {},
   "source": [
    "We reject that there is no difference in conversion between the groups in filtered data."
   ]
  },
  {
   "cell_type": "code",
   "execution_count": 39,
   "metadata": {},
   "outputs": [
    {
     "name": "stdout",
     "output_type": "stream",
     "text": [
      "1.4496661752238628e-05\n",
      "Reject H0\n"
     ]
    }
   ],
   "source": [
    "testing_average(control_raw['conversion'],test_raw['conversion'],alpha=0.05)"
   ]
  },
  {
   "cell_type": "markdown",
   "metadata": {},
   "source": [
    "We reject that there is no difference in conversion between the groups in raw data."
   ]
  },
  {
   "cell_type": "code",
   "execution_count": 40,
   "metadata": {},
   "outputs": [
    {
     "name": "stderr",
     "output_type": "stream",
     "text": [
      "/tmp/ipykernel_120/1801877482.py:3: SettingWithCopyWarning: \n",
      "A value is trying to be set on a copy of a slice from a DataFrame.\n",
      "Try using .loc[row_indexer,col_indexer] = value instead\n",
      "\n",
      "See the caveats in the documentation: https://pandas.pydata.org/pandas-docs/stable/user_guide/indexing.html#returning-a-view-versus-a-copy\n",
      "  control_filtered['avg_ch']=control_filtered['revenue']/control_filtered['orders']\n",
      "/tmp/ipykernel_120/1801877482.py:4: SettingWithCopyWarning: \n",
      "A value is trying to be set on a copy of a slice from a DataFrame.\n",
      "Try using .loc[row_indexer,col_indexer] = value instead\n",
      "\n",
      "See the caveats in the documentation: https://pandas.pydata.org/pandas-docs/stable/user_guide/indexing.html#returning-a-view-versus-a-copy\n",
      "  test_filtered['avg_ch']=test_filtered['revenue']/test_filtered['orders']\n",
      "/tmp/ipykernel_120/1801877482.py:6: SettingWithCopyWarning: \n",
      "A value is trying to be set on a copy of a slice from a DataFrame.\n",
      "Try using .loc[row_indexer,col_indexer] = value instead\n",
      "\n",
      "See the caveats in the documentation: https://pandas.pydata.org/pandas-docs/stable/user_guide/indexing.html#returning-a-view-versus-a-copy\n",
      "  control_raw['avg_ch']=control_raw['revenue']/control_raw['orders']\n",
      "/tmp/ipykernel_120/1801877482.py:7: SettingWithCopyWarning: \n",
      "A value is trying to be set on a copy of a slice from a DataFrame.\n",
      "Try using .loc[row_indexer,col_indexer] = value instead\n",
      "\n",
      "See the caveats in the documentation: https://pandas.pydata.org/pandas-docs/stable/user_guide/indexing.html#returning-a-view-versus-a-copy\n",
      "  test_raw['avg_ch']=test_raw['revenue']/test_raw['orders']\n"
     ]
    }
   ],
   "source": [
    "# Testing average check\n",
    "\n",
    "control_filtered['avg_ch']=control_filtered['revenue']/control_filtered['orders']\n",
    "test_filtered['avg_ch']=test_filtered['revenue']/test_filtered['orders']\n",
    "\n",
    "control_raw['avg_ch']=control_raw['revenue']/control_raw['orders']\n",
    "test_raw['avg_ch']=test_raw['revenue']/test_raw['orders']"
   ]
  },
  {
   "cell_type": "code",
   "execution_count": 41,
   "metadata": {},
   "outputs": [
    {
     "data": {
      "text/plain": [
       "101.11552841801576"
      ]
     },
     "execution_count": 41,
     "metadata": {},
     "output_type": "execute_result"
    }
   ],
   "source": [
    "control_raw['avg_ch'].mean()"
   ]
  },
  {
   "cell_type": "code",
   "execution_count": 42,
   "metadata": {},
   "outputs": [
    {
     "data": {
      "text/plain": [
       "120.76430013945237"
      ]
     },
     "execution_count": 42,
     "metadata": {},
     "output_type": "execute_result"
    }
   ],
   "source": [
    "test_raw['avg_ch'].mean()"
   ]
  },
  {
   "cell_type": "code",
   "execution_count": 43,
   "metadata": {},
   "outputs": [
    {
     "name": "stdout",
     "output_type": "stream",
     "text": [
      "0.16338441712343454\n",
      "Fail to Reject H0\n"
     ]
    }
   ],
   "source": [
    "testing_average(control_raw['avg_ch'],test_raw['avg_ch'],alpha=0.05)"
   ]
  },
  {
   "cell_type": "markdown",
   "metadata": {},
   "source": [
    "Failed to reject the null hypothesis: we can't make conclusions about the difference."
   ]
  },
  {
   "cell_type": "code",
   "execution_count": 44,
   "metadata": {},
   "outputs": [
    {
     "name": "stdout",
     "output_type": "stream",
     "text": [
      "0.020949904489239543\n",
      "Reject H0\n"
     ]
    }
   ],
   "source": [
    "testing_average(control_filtered['avg_ch'],test_filtered['avg_ch'],alpha=0.05)"
   ]
  },
  {
   "cell_type": "markdown",
   "metadata": {},
   "source": [
    "We reject that there is no difference in average order size between the groups in filtered data."
   ]
  },
  {
   "cell_type": "markdown",
   "metadata": {},
   "source": [
    "**Conclusions**\n",
    "\n",
    "**Project goal**: prioritize these hypotheses, launch an A/B test, and analyze the results.\n",
    "\n",
    "Data used in the first part of the project:\n",
    "\n",
    "1. Hypotheses\n",
    "\n",
    "- `Hypotheses` — brief descriptions of the hypotheses\n",
    "- `Reach` — user reach, on a scale of one to ten\n",
    "- `Impact` — impact on users, on a scale of one to ten\n",
    "- `Confidence` — confidence in the hypothesis, on a scale of one to ten\n",
    "- `Effort` — the resources required to test a hypothesis on a scale of one to ten.\n",
    "\n",
    "Data used in the second part of the project:\n",
    "\n",
    "2. Orders\n",
    "\n",
    "- `transactionId` — order identifier\n",
    "- `visitorId` — identifier of the user who placed the order\n",
    "- `date` — of the order\n",
    "- `revenue` — from the order\n",
    "- `group` — the A/B test group that the user belongs to\n",
    "\n",
    "3. Visits\n",
    "\n",
    "- `date` — date\n",
    "- `group` — A/B test group\n",
    "- `visits` — the number of visits on the date specified in the A/B test group specified\n",
    "\n",
    "**Part 1. Prioritizing Hypotheses**\n",
    "\n",
    "What we did:\n",
    "\n",
    "- Applied the ICE framework to prioritize hypotheses. Sort them in descending order of priority.\n",
    "\n",
    "ICE gives 8, 0, 7, and 6 like the most promising hypotheses.\n",
    "\n",
    "- Applied the RICE framework to prioritize hypotheses. Sort them in descending order of priority.\n",
    "\n",
    "ICE gives 7, 2, 0, and 6 like the most promising hypotheses. The prioritization of hypotheses changes when we use RICE instead of ICE. In RICE, we use the Reach parameter to consider how many users it will affect, so it influences the prioritization of hypotheses. For example, the Reach of the 7th hypothesis is the highest, raising the given hypothesis in the prioritization list.\n",
    "\n",
    "- Show how the prioritization of hypotheses changes when you use RICE instead of ICE. Provide an explanation for the changes.\n",
    "\n",
    "We applied the ICE framework to prioritize hypotheses, and it gave us 8, 0, 7, and 6 hypotheses like the most promising. Then, after that, we applied the RICE framework, and it gave us 8, 0, 7, and 6 hypotheses like the best. So we will choose the RICE results because we need to consider how many users it will affect.\n",
    "\n",
    "**Part 2. A/B Test Analysis**\n",
    "\n",
    "What we did:\n",
    "\n",
    "- Graph cumulative revenue by group.\n",
    "\n",
    "The graph shows extreme revenue growth of 19/8 for group B. Abnormally big orders probably cause this. \n",
    "\n",
    "- Graph cumulative average order size by group.\n",
    "\n",
    "On average, the order size in group B is larger. At the same time, there is a spike on 8/19 in group B that says that average orders in group B were higher on that day. Other spikes notify that there are costly orders.\n",
    "\n",
    "- Graph the relative difference in cumulative average order size for group B compared with group A.\n",
    "\n",
    "The difference between the segments spikes means big orders and outliers.\n",
    "\n",
    "- Calculate each group's conversion rate as the ratio of orders to the number of visits for each day. Plot the daily conversion rates of the two groups and describe the difference.\n",
    "\n",
    "Group B is fluctuating around a higher value than group A. In the beginning, group A had a higher conversion rate, though it dropped later.\n",
    "\n",
    "In relative gain in conversion in group B as opposed to group A we can see that in the beginning, we can see that group B had a lower conversion rate, though later it raised. Therefore, it can mean higher cumulative revenue and more expensive purchases. \n",
    "\n",
    "- Plot a scatter chart of the number of orders per user.\n",
    "\n",
    "There are only few users with more than 2 orders. However, this is in line with normal user behavior.\n",
    "\n",
    "- Calculate the 95th and 99th percentiles for the number of orders per user. \n",
    "\n",
    "- Plot a scatter chart of order prices.\n",
    "\n",
    "There are not many orders above 2500. There are outliers of about 3000 and 20000. The order of 20000 looks pretty anomalous.\n",
    "\n",
    "- Calculate the 95th and 99th percentiles of order prices.\n",
    "\n",
    "Not more than 5% of users placed orders that cost more than 414, and not more than 1% orders more expensive than 830. Therefore, we can consider this point an anomaly (more than 830).\n",
    "\n",
    "- Find the statistical significance of the difference in conversion between the groups using the raw data.\n",
    "\n",
    "We reject that there is no difference in conversion between the groups in raw data.\n",
    "\n",
    "- Find the statistical significance of the difference in average order size between the groups using the raw data.\n",
    "\n",
    "Failed to reject the null hypothesis: we can't make conclusions about the difference.\n",
    "\n",
    "- Find the statistical significance of the difference in conversion between the groups using the filtered data. \n",
    "\n",
    "We reject that there is no difference in conversion between the groups in filtered data.\n",
    "\n",
    "- Find the statistical significance of the difference in average order size between the groups using the filtered data.\n",
    "\n",
    "We reject that there is no difference in average order size between the groups in filtered data.\n",
    "\n",
    "- Make a decision based on the test results.\n",
    "\n",
    "We have success in analyzing the conversion rate. However, we may consider the analysis of average order sizes unsuccessful. Therefore, the test should be stopped, and we should move on to the following hypothesis."
   ]
  }
 ],
 "metadata": {
  "ExecuteTimeLog": [
   {
    "duration": 652,
    "start_time": "2022-04-17T10:06:47.303Z"
   },
   {
    "duration": 39,
    "start_time": "2022-04-17T10:08:08.101Z"
   },
   {
    "duration": 19,
    "start_time": "2022-04-17T10:09:09.133Z"
   },
   {
    "duration": 9,
    "start_time": "2022-04-17T10:09:28.038Z"
   },
   {
    "duration": 171,
    "start_time": "2022-04-17T10:09:44.736Z"
   },
   {
    "duration": 7,
    "start_time": "2022-04-17T10:09:50.758Z"
   },
   {
    "duration": 1903,
    "start_time": "2022-04-17T10:10:22.946Z"
   },
   {
    "duration": 8,
    "start_time": "2022-04-17T10:17:47.529Z"
   },
   {
    "duration": 11,
    "start_time": "2022-04-17T10:20:04.427Z"
   },
   {
    "duration": 15,
    "start_time": "2022-04-17T10:20:29.105Z"
   },
   {
    "duration": 6,
    "start_time": "2022-04-17T10:21:30.730Z"
   },
   {
    "duration": 9,
    "start_time": "2022-04-17T10:21:46.994Z"
   },
   {
    "duration": 1758,
    "start_time": "2022-04-17T10:22:08.495Z"
   },
   {
    "duration": 1758,
    "start_time": "2022-04-17T10:22:19.761Z"
   },
   {
    "duration": 9,
    "start_time": "2022-04-17T11:06:13.596Z"
   },
   {
    "duration": 104,
    "start_time": "2022-04-17T11:10:56.861Z"
   },
   {
    "duration": 6,
    "start_time": "2022-04-17T11:32:40.000Z"
   },
   {
    "duration": 9,
    "start_time": "2022-04-17T11:33:09.264Z"
   },
   {
    "duration": 9,
    "start_time": "2022-04-17T11:33:21.862Z"
   },
   {
    "duration": 9,
    "start_time": "2022-04-17T11:33:40.318Z"
   },
   {
    "duration": 8,
    "start_time": "2022-04-17T11:33:45.431Z"
   },
   {
    "duration": 473,
    "start_time": "2022-04-17T11:35:48.367Z"
   },
   {
    "duration": 41,
    "start_time": "2022-04-17T11:35:48.843Z"
   },
   {
    "duration": 17,
    "start_time": "2022-04-17T11:35:48.886Z"
   },
   {
    "duration": 25,
    "start_time": "2022-04-17T11:35:48.906Z"
   },
   {
    "duration": 97,
    "start_time": "2022-04-17T11:35:48.935Z"
   },
   {
    "duration": 20,
    "start_time": "2022-04-17T11:36:15.302Z"
   },
   {
    "duration": 69,
    "start_time": "2022-04-17T11:44:22.279Z"
   },
   {
    "duration": 551,
    "start_time": "2022-04-17T11:44:27.484Z"
   },
   {
    "duration": 39,
    "start_time": "2022-04-17T11:44:28.037Z"
   },
   {
    "duration": 19,
    "start_time": "2022-04-17T11:44:28.079Z"
   },
   {
    "duration": 9,
    "start_time": "2022-04-17T11:44:28.101Z"
   },
   {
    "duration": 17,
    "start_time": "2022-04-17T11:44:28.112Z"
   },
   {
    "duration": 93,
    "start_time": "2022-04-17T11:44:28.131Z"
   },
   {
    "duration": 107,
    "start_time": "2022-04-17T11:48:56.140Z"
   },
   {
    "duration": 37,
    "start_time": "2022-04-17T11:49:02.228Z"
   },
   {
    "duration": 8,
    "start_time": "2022-04-17T11:49:03.887Z"
   },
   {
    "duration": 9,
    "start_time": "2022-04-17T11:49:05.062Z"
   },
   {
    "duration": 97,
    "start_time": "2022-04-17T11:50:54.783Z"
   },
   {
    "duration": 3736,
    "start_time": "2022-04-17T11:51:08.036Z"
   },
   {
    "duration": 1600,
    "start_time": "2022-04-17T11:51:37.460Z"
   },
   {
    "duration": 39,
    "start_time": "2022-04-17T11:52:25.405Z"
   },
   {
    "duration": 9,
    "start_time": "2022-04-17T11:52:25.842Z"
   },
   {
    "duration": 40,
    "start_time": "2022-04-17T11:55:13.559Z"
   },
   {
    "duration": 10,
    "start_time": "2022-04-17T11:55:14.186Z"
   },
   {
    "duration": 1639,
    "start_time": "2022-04-17T11:55:18.190Z"
   },
   {
    "duration": 5,
    "start_time": "2022-04-17T11:55:52.132Z"
   },
   {
    "duration": 40,
    "start_time": "2022-04-17T11:56:03.670Z"
   },
   {
    "duration": 11,
    "start_time": "2022-04-17T11:56:04.364Z"
   },
   {
    "duration": 1583,
    "start_time": "2022-04-17T11:56:38.597Z"
   },
   {
    "duration": 18,
    "start_time": "2022-04-17T11:56:48.659Z"
   },
   {
    "duration": 18,
    "start_time": "2022-04-17T11:57:22.606Z"
   },
   {
    "duration": 14,
    "start_time": "2022-04-17T11:58:04.399Z"
   },
   {
    "duration": 15,
    "start_time": "2022-04-17T11:58:25.081Z"
   },
   {
    "duration": 1776,
    "start_time": "2022-04-17T12:08:38.030Z"
   },
   {
    "duration": 13,
    "start_time": "2022-04-17T12:09:14.383Z"
   },
   {
    "duration": 14,
    "start_time": "2022-04-17T12:09:30.458Z"
   },
   {
    "duration": 17,
    "start_time": "2022-04-17T12:15:59.528Z"
   },
   {
    "duration": 19,
    "start_time": "2022-04-17T12:28:22.299Z"
   },
   {
    "duration": 16,
    "start_time": "2022-04-17T12:28:55.100Z"
   },
   {
    "duration": 8,
    "start_time": "2022-04-17T12:30:29.927Z"
   },
   {
    "duration": 14,
    "start_time": "2022-04-17T12:32:12.200Z"
   },
   {
    "duration": 15,
    "start_time": "2022-04-17T12:32:48.359Z"
   },
   {
    "duration": 8,
    "start_time": "2022-04-17T12:33:18.059Z"
   },
   {
    "duration": 17,
    "start_time": "2022-04-17T12:51:37.659Z"
   },
   {
    "duration": 11,
    "start_time": "2022-04-17T12:51:47.961Z"
   },
   {
    "duration": 11,
    "start_time": "2022-04-17T12:52:58.180Z"
   },
   {
    "duration": 20,
    "start_time": "2022-04-17T12:53:18.280Z"
   },
   {
    "duration": 20,
    "start_time": "2022-04-17T12:54:03.039Z"
   },
   {
    "duration": 6,
    "start_time": "2022-04-17T12:55:21.460Z"
   },
   {
    "duration": 12,
    "start_time": "2022-04-17T12:56:07.940Z"
   },
   {
    "duration": 420,
    "start_time": "2022-04-17T16:14:08.740Z"
   },
   {
    "duration": 38,
    "start_time": "2022-04-17T16:14:09.161Z"
   },
   {
    "duration": 13,
    "start_time": "2022-04-17T16:14:09.201Z"
   },
   {
    "duration": 11,
    "start_time": "2022-04-17T16:14:09.215Z"
   },
   {
    "duration": 11,
    "start_time": "2022-04-17T16:14:09.228Z"
   },
   {
    "duration": 14,
    "start_time": "2022-04-17T16:14:09.240Z"
   },
   {
    "duration": 12,
    "start_time": "2022-04-17T16:14:09.255Z"
   },
   {
    "duration": 66,
    "start_time": "2022-04-17T16:14:09.274Z"
   },
   {
    "duration": 0,
    "start_time": "2022-04-17T16:14:09.341Z"
   },
   {
    "duration": 0,
    "start_time": "2022-04-17T16:14:09.342Z"
   },
   {
    "duration": 0,
    "start_time": "2022-04-17T16:14:09.343Z"
   },
   {
    "duration": 0,
    "start_time": "2022-04-17T16:14:09.344Z"
   },
   {
    "duration": 0,
    "start_time": "2022-04-17T16:14:09.345Z"
   },
   {
    "duration": 0,
    "start_time": "2022-04-17T16:14:09.346Z"
   },
   {
    "duration": 0,
    "start_time": "2022-04-17T16:14:09.347Z"
   },
   {
    "duration": 6,
    "start_time": "2022-04-17T16:17:01.048Z"
   },
   {
    "duration": 15,
    "start_time": "2022-04-17T16:17:01.881Z"
   },
   {
    "duration": 5,
    "start_time": "2022-04-17T16:17:02.876Z"
   },
   {
    "duration": 8,
    "start_time": "2022-04-17T16:17:04.420Z"
   },
   {
    "duration": 14,
    "start_time": "2022-04-17T16:17:06.373Z"
   },
   {
    "duration": 15,
    "start_time": "2022-04-17T16:19:00.942Z"
   },
   {
    "duration": 9,
    "start_time": "2022-04-17T16:19:43.093Z"
   },
   {
    "duration": 13,
    "start_time": "2022-04-17T16:19:46.032Z"
   },
   {
    "duration": 12,
    "start_time": "2022-04-17T16:20:03.646Z"
   },
   {
    "duration": 5,
    "start_time": "2022-04-17T16:20:10.204Z"
   },
   {
    "duration": 12,
    "start_time": "2022-04-17T16:24:31.554Z"
   },
   {
    "duration": 15,
    "start_time": "2022-04-17T16:24:36.596Z"
   },
   {
    "duration": 804,
    "start_time": "2022-04-17T16:25:32.803Z"
   },
   {
    "duration": 40,
    "start_time": "2022-04-17T16:25:33.609Z"
   },
   {
    "duration": 13,
    "start_time": "2022-04-17T16:25:33.651Z"
   },
   {
    "duration": 13,
    "start_time": "2022-04-17T16:25:33.666Z"
   },
   {
    "duration": 12,
    "start_time": "2022-04-17T16:25:33.682Z"
   },
   {
    "duration": 13,
    "start_time": "2022-04-17T16:25:33.696Z"
   },
   {
    "duration": 14,
    "start_time": "2022-04-17T16:25:33.711Z"
   },
   {
    "duration": 15,
    "start_time": "2022-04-17T16:25:33.727Z"
   },
   {
    "duration": 30,
    "start_time": "2022-04-17T16:25:33.745Z"
   },
   {
    "duration": 16,
    "start_time": "2022-04-17T16:25:33.777Z"
   },
   {
    "duration": 5,
    "start_time": "2022-04-17T16:25:33.795Z"
   },
   {
    "duration": 12,
    "start_time": "2022-04-17T16:25:33.801Z"
   },
   {
    "duration": 9,
    "start_time": "2022-04-17T16:25:33.815Z"
   },
   {
    "duration": 46,
    "start_time": "2022-04-17T16:25:33.826Z"
   },
   {
    "duration": 12,
    "start_time": "2022-04-17T16:25:33.874Z"
   },
   {
    "duration": 7,
    "start_time": "2022-04-17T16:25:33.888Z"
   },
   {
    "duration": 13,
    "start_time": "2022-04-17T16:25:33.896Z"
   },
   {
    "duration": 95,
    "start_time": "2022-04-17T16:25:33.911Z"
   },
   {
    "duration": 671,
    "start_time": "2022-04-17T16:34:18.935Z"
   },
   {
    "duration": 38,
    "start_time": "2022-04-17T16:34:19.607Z"
   },
   {
    "duration": 11,
    "start_time": "2022-04-17T16:34:19.647Z"
   },
   {
    "duration": 14,
    "start_time": "2022-04-17T16:34:19.660Z"
   },
   {
    "duration": 12,
    "start_time": "2022-04-17T16:34:19.676Z"
   },
   {
    "duration": 22,
    "start_time": "2022-04-17T16:34:19.689Z"
   },
   {
    "duration": 15,
    "start_time": "2022-04-17T16:34:19.713Z"
   },
   {
    "duration": 24,
    "start_time": "2022-04-17T16:34:19.730Z"
   },
   {
    "duration": 19,
    "start_time": "2022-04-17T16:34:19.755Z"
   },
   {
    "duration": 15,
    "start_time": "2022-04-17T16:34:19.776Z"
   },
   {
    "duration": 5,
    "start_time": "2022-04-17T16:34:19.793Z"
   },
   {
    "duration": 10,
    "start_time": "2022-04-17T16:34:19.800Z"
   },
   {
    "duration": 4,
    "start_time": "2022-04-17T16:34:19.812Z"
   },
   {
    "duration": 12,
    "start_time": "2022-04-17T16:34:19.819Z"
   },
   {
    "duration": 41,
    "start_time": "2022-04-17T16:34:19.832Z"
   },
   {
    "duration": 16,
    "start_time": "2022-04-17T16:34:19.875Z"
   },
   {
    "duration": 7,
    "start_time": "2022-04-17T16:34:19.893Z"
   },
   {
    "duration": 5,
    "start_time": "2022-04-17T16:34:19.901Z"
   },
   {
    "duration": 16,
    "start_time": "2022-04-17T16:34:19.907Z"
   },
   {
    "duration": 318,
    "start_time": "2022-04-17T16:34:19.924Z"
   },
   {
    "duration": 2,
    "start_time": "2022-04-17T16:35:20.849Z"
   },
   {
    "duration": 9,
    "start_time": "2022-04-17T16:36:24.306Z"
   },
   {
    "duration": 6,
    "start_time": "2022-04-17T16:36:43.449Z"
   },
   {
    "duration": 5,
    "start_time": "2022-04-17T17:13:36.229Z"
   },
   {
    "duration": 15,
    "start_time": "2022-04-17T17:14:07.415Z"
   },
   {
    "duration": 16,
    "start_time": "2022-04-17T17:14:11.089Z"
   },
   {
    "duration": 670,
    "start_time": "2022-04-17T17:14:26.537Z"
   },
   {
    "duration": 44,
    "start_time": "2022-04-17T17:14:27.209Z"
   },
   {
    "duration": 12,
    "start_time": "2022-04-17T17:14:27.254Z"
   },
   {
    "duration": 13,
    "start_time": "2022-04-17T17:14:27.268Z"
   },
   {
    "duration": 32,
    "start_time": "2022-04-17T17:14:27.284Z"
   },
   {
    "duration": 22,
    "start_time": "2022-04-17T17:14:27.318Z"
   },
   {
    "duration": 15,
    "start_time": "2022-04-17T17:14:27.343Z"
   },
   {
    "duration": 30,
    "start_time": "2022-04-17T17:14:27.359Z"
   },
   {
    "duration": 30,
    "start_time": "2022-04-17T17:14:27.390Z"
   },
   {
    "duration": 21,
    "start_time": "2022-04-17T17:14:27.423Z"
   },
   {
    "duration": 13,
    "start_time": "2022-04-17T17:14:27.446Z"
   },
   {
    "duration": 10,
    "start_time": "2022-04-17T17:14:27.460Z"
   },
   {
    "duration": 32,
    "start_time": "2022-04-17T17:14:27.471Z"
   },
   {
    "duration": 7,
    "start_time": "2022-04-17T17:14:27.505Z"
   },
   {
    "duration": 13,
    "start_time": "2022-04-17T17:14:27.514Z"
   },
   {
    "duration": 11,
    "start_time": "2022-04-17T17:14:27.529Z"
   },
   {
    "duration": 8,
    "start_time": "2022-04-17T17:14:27.542Z"
   },
   {
    "duration": 12,
    "start_time": "2022-04-17T17:14:27.552Z"
   },
   {
    "duration": 23,
    "start_time": "2022-04-17T17:14:27.566Z"
   },
   {
    "duration": 12,
    "start_time": "2022-04-17T17:14:27.591Z"
   },
   {
    "duration": 13,
    "start_time": "2022-04-17T17:14:27.605Z"
   },
   {
    "duration": 18,
    "start_time": "2022-04-17T17:14:27.620Z"
   },
   {
    "duration": 321,
    "start_time": "2022-04-17T17:14:27.640Z"
   },
   {
    "duration": 1927,
    "start_time": "2022-04-17T17:14:47.910Z"
   },
   {
    "duration": 20,
    "start_time": "2022-04-17T17:15:53.172Z"
   },
   {
    "duration": 12,
    "start_time": "2022-04-17T17:15:56.658Z"
   },
   {
    "duration": 226,
    "start_time": "2022-04-17T17:15:59.113Z"
   },
   {
    "duration": 12,
    "start_time": "2022-04-17T17:16:11.405Z"
   },
   {
    "duration": 11,
    "start_time": "2022-04-17T17:16:12.522Z"
   },
   {
    "duration": 653,
    "start_time": "2022-04-17T17:17:17.074Z"
   },
   {
    "duration": 38,
    "start_time": "2022-04-17T17:17:17.728Z"
   },
   {
    "duration": 18,
    "start_time": "2022-04-17T17:17:17.767Z"
   },
   {
    "duration": 14,
    "start_time": "2022-04-17T17:17:17.788Z"
   },
   {
    "duration": 12,
    "start_time": "2022-04-17T17:17:17.804Z"
   },
   {
    "duration": 17,
    "start_time": "2022-04-17T17:17:17.817Z"
   },
   {
    "duration": 17,
    "start_time": "2022-04-17T17:17:17.836Z"
   },
   {
    "duration": 29,
    "start_time": "2022-04-17T17:17:17.855Z"
   },
   {
    "duration": 7,
    "start_time": "2022-04-17T17:17:17.886Z"
   },
   {
    "duration": 15,
    "start_time": "2022-04-17T17:17:17.896Z"
   },
   {
    "duration": 5,
    "start_time": "2022-04-17T17:17:17.914Z"
   },
   {
    "duration": 11,
    "start_time": "2022-04-17T17:17:17.921Z"
   },
   {
    "duration": 7,
    "start_time": "2022-04-17T17:17:17.934Z"
   },
   {
    "duration": 44,
    "start_time": "2022-04-17T17:17:17.943Z"
   },
   {
    "duration": 14,
    "start_time": "2022-04-17T17:17:17.989Z"
   },
   {
    "duration": 13,
    "start_time": "2022-04-17T17:17:18.004Z"
   },
   {
    "duration": 9,
    "start_time": "2022-04-17T17:17:18.018Z"
   },
   {
    "duration": 12,
    "start_time": "2022-04-17T17:17:18.029Z"
   },
   {
    "duration": 46,
    "start_time": "2022-04-17T17:17:18.043Z"
   },
   {
    "duration": 9,
    "start_time": "2022-04-17T17:17:18.090Z"
   },
   {
    "duration": 9,
    "start_time": "2022-04-17T17:17:18.101Z"
   },
   {
    "duration": 12,
    "start_time": "2022-04-17T17:17:18.112Z"
   },
   {
    "duration": 14,
    "start_time": "2022-04-17T17:17:18.126Z"
   },
   {
    "duration": 319,
    "start_time": "2022-04-17T17:17:18.142Z"
   },
   {
    "duration": 11,
    "start_time": "2022-04-17T17:18:12.252Z"
   },
   {
    "duration": 6,
    "start_time": "2022-04-17T17:19:07.897Z"
   },
   {
    "duration": 14,
    "start_time": "2022-04-17T17:19:08.532Z"
   },
   {
    "duration": 7,
    "start_time": "2022-04-17T17:19:18.350Z"
   },
   {
    "duration": 665,
    "start_time": "2022-04-17T17:19:24.901Z"
   },
   {
    "duration": 52,
    "start_time": "2022-04-17T17:19:25.568Z"
   },
   {
    "duration": 12,
    "start_time": "2022-04-17T17:19:25.621Z"
   },
   {
    "duration": 12,
    "start_time": "2022-04-17T17:19:25.634Z"
   },
   {
    "duration": 11,
    "start_time": "2022-04-17T17:19:25.648Z"
   },
   {
    "duration": 21,
    "start_time": "2022-04-17T17:19:25.661Z"
   },
   {
    "duration": 18,
    "start_time": "2022-04-17T17:19:25.684Z"
   },
   {
    "duration": 14,
    "start_time": "2022-04-17T17:19:25.704Z"
   },
   {
    "duration": 7,
    "start_time": "2022-04-17T17:19:25.720Z"
   },
   {
    "duration": 21,
    "start_time": "2022-04-17T17:19:25.729Z"
   },
   {
    "duration": 25,
    "start_time": "2022-04-17T17:19:25.752Z"
   },
   {
    "duration": 10,
    "start_time": "2022-04-17T17:19:25.780Z"
   },
   {
    "duration": 10,
    "start_time": "2022-04-17T17:19:25.791Z"
   },
   {
    "duration": 9,
    "start_time": "2022-04-17T17:19:25.805Z"
   },
   {
    "duration": 17,
    "start_time": "2022-04-17T17:19:25.815Z"
   },
   {
    "duration": 12,
    "start_time": "2022-04-17T17:19:25.834Z"
   },
   {
    "duration": 42,
    "start_time": "2022-04-17T17:19:25.848Z"
   },
   {
    "duration": 14,
    "start_time": "2022-04-17T17:19:25.892Z"
   },
   {
    "duration": 15,
    "start_time": "2022-04-17T17:19:25.908Z"
   },
   {
    "duration": 7,
    "start_time": "2022-04-17T17:19:25.925Z"
   },
   {
    "duration": 6,
    "start_time": "2022-04-17T17:19:25.934Z"
   },
   {
    "duration": 41,
    "start_time": "2022-04-17T17:19:25.942Z"
   },
   {
    "duration": 17,
    "start_time": "2022-04-17T17:19:25.985Z"
   },
   {
    "duration": 320,
    "start_time": "2022-04-17T17:19:26.003Z"
   },
   {
    "duration": 7,
    "start_time": "2022-04-17T17:23:27.207Z"
   },
   {
    "duration": 13,
    "start_time": "2022-04-17T17:23:27.743Z"
   },
   {
    "duration": 9,
    "start_time": "2022-04-17T17:23:37.061Z"
   },
   {
    "duration": 13,
    "start_time": "2022-04-17T17:23:37.697Z"
   },
   {
    "duration": 14,
    "start_time": "2022-04-17T17:23:40.709Z"
   },
   {
    "duration": 630,
    "start_time": "2022-04-17T17:23:46.235Z"
   },
   {
    "duration": 49,
    "start_time": "2022-04-17T17:23:46.868Z"
   },
   {
    "duration": 11,
    "start_time": "2022-04-17T17:23:46.919Z"
   },
   {
    "duration": 31,
    "start_time": "2022-04-17T17:23:46.931Z"
   },
   {
    "duration": 27,
    "start_time": "2022-04-17T17:23:46.964Z"
   },
   {
    "duration": 16,
    "start_time": "2022-04-17T17:23:46.993Z"
   },
   {
    "duration": 16,
    "start_time": "2022-04-17T17:23:47.011Z"
   },
   {
    "duration": 26,
    "start_time": "2022-04-17T17:23:47.028Z"
   },
   {
    "duration": 11,
    "start_time": "2022-04-17T17:23:47.056Z"
   },
   {
    "duration": 20,
    "start_time": "2022-04-17T17:23:47.069Z"
   },
   {
    "duration": 25,
    "start_time": "2022-04-17T17:23:47.091Z"
   },
   {
    "duration": 18,
    "start_time": "2022-04-17T17:23:47.117Z"
   },
   {
    "duration": 12,
    "start_time": "2022-04-17T17:23:47.137Z"
   },
   {
    "duration": 13,
    "start_time": "2022-04-17T17:23:47.152Z"
   },
   {
    "duration": 30,
    "start_time": "2022-04-17T17:23:47.166Z"
   },
   {
    "duration": 20,
    "start_time": "2022-04-17T17:23:47.198Z"
   },
   {
    "duration": 15,
    "start_time": "2022-04-17T17:23:47.220Z"
   },
   {
    "duration": 16,
    "start_time": "2022-04-17T17:23:47.237Z"
   },
   {
    "duration": 25,
    "start_time": "2022-04-17T17:23:47.255Z"
   },
   {
    "duration": 18,
    "start_time": "2022-04-17T17:23:47.281Z"
   },
   {
    "duration": 7,
    "start_time": "2022-04-17T17:23:47.301Z"
   },
   {
    "duration": 19,
    "start_time": "2022-04-17T17:23:47.309Z"
   },
   {
    "duration": 13,
    "start_time": "2022-04-17T17:23:47.329Z"
   },
   {
    "duration": 291,
    "start_time": "2022-04-17T17:23:47.344Z"
   },
   {
    "duration": 1934,
    "start_time": "2022-04-17T17:26:18.173Z"
   },
   {
    "duration": 197,
    "start_time": "2022-04-17T17:28:46.612Z"
   },
   {
    "duration": 7,
    "start_time": "2022-04-17T17:29:29.984Z"
   },
   {
    "duration": 6,
    "start_time": "2022-04-17T17:29:40.463Z"
   },
   {
    "duration": 14,
    "start_time": "2022-04-17T17:30:00.818Z"
   },
   {
    "duration": 200,
    "start_time": "2022-04-17T17:30:04.113Z"
   },
   {
    "duration": 290,
    "start_time": "2022-04-17T17:30:51.374Z"
   },
   {
    "duration": 203,
    "start_time": "2022-04-17T17:31:08.279Z"
   },
   {
    "duration": 15,
    "start_time": "2022-04-17T18:03:10.569Z"
   },
   {
    "duration": 14,
    "start_time": "2022-04-17T18:04:31.292Z"
   },
   {
    "duration": 6,
    "start_time": "2022-04-17T18:04:35.536Z"
   },
   {
    "duration": 8,
    "start_time": "2022-04-17T18:07:20.364Z"
   },
   {
    "duration": 2163,
    "start_time": "2022-04-17T18:07:34.511Z"
   },
   {
    "duration": 661,
    "start_time": "2022-04-17T18:07:57.575Z"
   },
   {
    "duration": 42,
    "start_time": "2022-04-17T18:07:58.238Z"
   },
   {
    "duration": 12,
    "start_time": "2022-04-17T18:07:58.282Z"
   },
   {
    "duration": 11,
    "start_time": "2022-04-17T18:07:58.296Z"
   },
   {
    "duration": 12,
    "start_time": "2022-04-17T18:07:58.309Z"
   },
   {
    "duration": 18,
    "start_time": "2022-04-17T18:07:58.322Z"
   },
   {
    "duration": 31,
    "start_time": "2022-04-17T18:07:58.342Z"
   },
   {
    "duration": 14,
    "start_time": "2022-04-17T18:07:58.375Z"
   },
   {
    "duration": 7,
    "start_time": "2022-04-17T18:07:58.391Z"
   },
   {
    "duration": 14,
    "start_time": "2022-04-17T18:07:58.401Z"
   },
   {
    "duration": 5,
    "start_time": "2022-04-17T18:07:58.416Z"
   },
   {
    "duration": 7,
    "start_time": "2022-04-17T18:07:58.423Z"
   },
   {
    "duration": 44,
    "start_time": "2022-04-17T18:07:58.432Z"
   },
   {
    "duration": 8,
    "start_time": "2022-04-17T18:07:58.478Z"
   },
   {
    "duration": 13,
    "start_time": "2022-04-17T18:07:58.488Z"
   },
   {
    "duration": 15,
    "start_time": "2022-04-17T18:07:58.503Z"
   },
   {
    "duration": 12,
    "start_time": "2022-04-17T18:07:58.520Z"
   },
   {
    "duration": 12,
    "start_time": "2022-04-17T18:07:58.533Z"
   },
   {
    "duration": 14,
    "start_time": "2022-04-17T18:07:58.572Z"
   },
   {
    "duration": 9,
    "start_time": "2022-04-17T18:07:58.588Z"
   },
   {
    "duration": 7,
    "start_time": "2022-04-17T18:07:58.599Z"
   },
   {
    "duration": 10,
    "start_time": "2022-04-17T18:07:58.608Z"
   },
   {
    "duration": 12,
    "start_time": "2022-04-17T18:07:58.620Z"
   },
   {
    "duration": 40,
    "start_time": "2022-04-17T18:07:58.634Z"
   },
   {
    "duration": 304,
    "start_time": "2022-04-17T18:07:58.676Z"
   },
   {
    "duration": 6,
    "start_time": "2022-04-17T18:08:18.236Z"
   },
   {
    "duration": 6,
    "start_time": "2022-04-17T18:08:24.449Z"
   },
   {
    "duration": 16,
    "start_time": "2022-04-17T18:10:47.826Z"
   },
   {
    "duration": 8,
    "start_time": "2022-04-17T18:10:50.724Z"
   },
   {
    "duration": 13,
    "start_time": "2022-04-17T18:11:05.034Z"
   },
   {
    "duration": 11,
    "start_time": "2022-04-17T18:11:08.620Z"
   },
   {
    "duration": 228,
    "start_time": "2022-04-17T18:11:10.070Z"
   },
   {
    "duration": 10,
    "start_time": "2022-04-17T18:11:32.195Z"
   },
   {
    "duration": 9,
    "start_time": "2022-04-17T18:11:33.929Z"
   },
   {
    "duration": 223,
    "start_time": "2022-04-17T18:11:37.011Z"
   },
   {
    "duration": 2044,
    "start_time": "2022-04-17T18:11:58.184Z"
   },
   {
    "duration": 13,
    "start_time": "2022-04-17T18:12:12.775Z"
   },
   {
    "duration": 8,
    "start_time": "2022-04-17T18:12:13.263Z"
   },
   {
    "duration": 11,
    "start_time": "2022-04-17T18:12:15.150Z"
   },
   {
    "duration": 11,
    "start_time": "2022-04-17T18:12:17.000Z"
   },
   {
    "duration": 237,
    "start_time": "2022-04-17T18:12:19.134Z"
   },
   {
    "duration": 11,
    "start_time": "2022-04-17T18:16:27.419Z"
   },
   {
    "duration": 7,
    "start_time": "2022-04-17T18:16:28.004Z"
   },
   {
    "duration": 10,
    "start_time": "2022-04-17T18:16:33.979Z"
   },
   {
    "duration": 12,
    "start_time": "2022-04-17T18:16:36.961Z"
   },
   {
    "duration": 225,
    "start_time": "2022-04-17T18:16:37.989Z"
   },
   {
    "duration": 1797,
    "start_time": "2022-04-17T18:26:14.045Z"
   },
   {
    "duration": 11,
    "start_time": "2022-04-17T18:29:03.744Z"
   },
   {
    "duration": 9,
    "start_time": "2022-04-17T18:29:04.657Z"
   },
   {
    "duration": 10,
    "start_time": "2022-04-17T18:31:06.879Z"
   },
   {
    "duration": 8,
    "start_time": "2022-04-17T18:31:08.429Z"
   },
   {
    "duration": 1736,
    "start_time": "2022-04-17T18:32:33.495Z"
   },
   {
    "duration": 10,
    "start_time": "2022-04-17T18:32:40.802Z"
   },
   {
    "duration": 7,
    "start_time": "2022-04-17T18:32:41.529Z"
   },
   {
    "duration": 1720,
    "start_time": "2022-04-17T18:32:44.493Z"
   },
   {
    "duration": 8,
    "start_time": "2022-04-17T18:33:00.232Z"
   },
   {
    "duration": 8,
    "start_time": "2022-04-17T18:33:23.837Z"
   },
   {
    "duration": 17,
    "start_time": "2022-04-17T18:35:25.946Z"
   },
   {
    "duration": 13,
    "start_time": "2022-04-17T18:35:57.698Z"
   },
   {
    "duration": 13,
    "start_time": "2022-04-17T18:36:19.874Z"
   },
   {
    "duration": 267,
    "start_time": "2022-04-17T18:36:52.312Z"
   },
   {
    "duration": 290,
    "start_time": "2022-04-17T18:38:20.439Z"
   },
   {
    "duration": 8,
    "start_time": "2022-04-17T18:45:19.177Z"
   },
   {
    "duration": 8,
    "start_time": "2022-04-17T18:45:37.562Z"
   },
   {
    "duration": 8,
    "start_time": "2022-04-17T18:46:00.514Z"
   },
   {
    "duration": 8,
    "start_time": "2022-04-17T18:46:04.943Z"
   },
   {
    "duration": 14,
    "start_time": "2022-04-17T18:48:12.682Z"
   },
   {
    "duration": 15,
    "start_time": "2022-04-17T18:49:00.796Z"
   },
   {
    "duration": 11,
    "start_time": "2022-04-17T18:51:44.011Z"
   },
   {
    "duration": 11,
    "start_time": "2022-04-17T18:51:46.503Z"
   },
   {
    "duration": 16,
    "start_time": "2022-04-17T18:53:48.281Z"
   },
   {
    "duration": 5,
    "start_time": "2022-04-17T18:53:55.130Z"
   },
   {
    "duration": 17,
    "start_time": "2022-04-17T18:53:56.249Z"
   },
   {
    "duration": 192,
    "start_time": "2022-04-17T18:54:38.822Z"
   },
   {
    "duration": 1798,
    "start_time": "2022-04-17T19:00:00.497Z"
   },
   {
    "duration": 117,
    "start_time": "2022-04-17T19:00:23.628Z"
   },
   {
    "duration": 11,
    "start_time": "2022-04-17T19:00:33.261Z"
   },
   {
    "duration": 8,
    "start_time": "2022-04-17T19:01:00.362Z"
   },
   {
    "duration": 10,
    "start_time": "2022-04-17T19:03:29.069Z"
   },
   {
    "duration": 11,
    "start_time": "2022-04-17T19:03:51.957Z"
   },
   {
    "duration": 704,
    "start_time": "2022-04-17T19:04:27.453Z"
   },
   {
    "duration": 39,
    "start_time": "2022-04-17T19:04:28.159Z"
   },
   {
    "duration": 12,
    "start_time": "2022-04-17T19:04:28.200Z"
   },
   {
    "duration": 12,
    "start_time": "2022-04-17T19:04:28.213Z"
   },
   {
    "duration": 12,
    "start_time": "2022-04-17T19:04:28.228Z"
   },
   {
    "duration": 17,
    "start_time": "2022-04-17T19:04:28.242Z"
   },
   {
    "duration": 19,
    "start_time": "2022-04-17T19:04:28.261Z"
   },
   {
    "duration": 19,
    "start_time": "2022-04-17T19:04:28.282Z"
   },
   {
    "duration": 9,
    "start_time": "2022-04-17T19:04:28.303Z"
   },
   {
    "duration": 14,
    "start_time": "2022-04-17T19:04:28.314Z"
   },
   {
    "duration": 4,
    "start_time": "2022-04-17T19:04:28.330Z"
   },
   {
    "duration": 10,
    "start_time": "2022-04-17T19:04:28.336Z"
   },
   {
    "duration": 9,
    "start_time": "2022-04-17T19:04:28.372Z"
   },
   {
    "duration": 12,
    "start_time": "2022-04-17T19:04:28.384Z"
   },
   {
    "duration": 12,
    "start_time": "2022-04-17T19:04:28.398Z"
   },
   {
    "duration": 13,
    "start_time": "2022-04-17T19:04:28.412Z"
   },
   {
    "duration": 11,
    "start_time": "2022-04-17T19:04:28.426Z"
   },
   {
    "duration": 39,
    "start_time": "2022-04-17T19:04:28.438Z"
   },
   {
    "duration": 14,
    "start_time": "2022-04-17T19:04:28.479Z"
   },
   {
    "duration": 9,
    "start_time": "2022-04-17T19:04:28.495Z"
   },
   {
    "duration": 8,
    "start_time": "2022-04-17T19:04:28.506Z"
   },
   {
    "duration": 6,
    "start_time": "2022-04-17T19:04:28.516Z"
   },
   {
    "duration": 10,
    "start_time": "2022-04-17T19:04:28.524Z"
   },
   {
    "duration": 11,
    "start_time": "2022-04-17T19:04:28.536Z"
   },
   {
    "duration": 12,
    "start_time": "2022-04-17T19:04:28.574Z"
   },
   {
    "duration": 8,
    "start_time": "2022-04-17T19:04:28.588Z"
   },
   {
    "duration": 10,
    "start_time": "2022-04-17T19:04:28.597Z"
   },
   {
    "duration": 10,
    "start_time": "2022-04-17T19:04:28.609Z"
   },
   {
    "duration": 320,
    "start_time": "2022-04-17T19:04:28.621Z"
   },
   {
    "duration": 11,
    "start_time": "2022-04-17T19:04:28.942Z"
   },
   {
    "duration": 19,
    "start_time": "2022-04-17T19:04:28.955Z"
   },
   {
    "duration": 12,
    "start_time": "2022-04-17T19:04:28.976Z"
   },
   {
    "duration": 13,
    "start_time": "2022-04-17T19:04:28.990Z"
   },
   {
    "duration": 22,
    "start_time": "2022-04-17T19:04:29.005Z"
   },
   {
    "duration": 16,
    "start_time": "2022-04-17T19:04:29.029Z"
   },
   {
    "duration": 345,
    "start_time": "2022-04-17T19:04:29.047Z"
   },
   {
    "duration": 15,
    "start_time": "2022-04-17T19:04:29.394Z"
   },
   {
    "duration": 17,
    "start_time": "2022-04-17T19:04:29.411Z"
   },
   {
    "duration": 14,
    "start_time": "2022-04-17T19:04:29.429Z"
   },
   {
    "duration": 36,
    "start_time": "2022-04-17T19:04:29.444Z"
   },
   {
    "duration": 5,
    "start_time": "2022-04-17T19:04:29.484Z"
   },
   {
    "duration": 228,
    "start_time": "2022-04-17T19:04:29.490Z"
   },
   {
    "duration": 5,
    "start_time": "2022-04-17T19:14:40.349Z"
   },
   {
    "duration": 4,
    "start_time": "2022-04-17T19:14:42.886Z"
   },
   {
    "duration": 12,
    "start_time": "2022-04-17T19:19:29.407Z"
   },
   {
    "duration": 6,
    "start_time": "2022-04-17T19:27:07.500Z"
   },
   {
    "duration": 6,
    "start_time": "2022-04-17T19:27:18.583Z"
   },
   {
    "duration": 5,
    "start_time": "2022-04-17T19:27:21.446Z"
   },
   {
    "duration": 641,
    "start_time": "2022-04-17T19:28:15.613Z"
   },
   {
    "duration": 38,
    "start_time": "2022-04-17T19:28:16.256Z"
   },
   {
    "duration": 11,
    "start_time": "2022-04-17T19:28:16.295Z"
   },
   {
    "duration": 13,
    "start_time": "2022-04-17T19:28:16.308Z"
   },
   {
    "duration": 12,
    "start_time": "2022-04-17T19:28:16.323Z"
   },
   {
    "duration": 18,
    "start_time": "2022-04-17T19:28:16.336Z"
   },
   {
    "duration": 19,
    "start_time": "2022-04-17T19:28:16.356Z"
   },
   {
    "duration": 20,
    "start_time": "2022-04-17T19:28:16.377Z"
   },
   {
    "duration": 7,
    "start_time": "2022-04-17T19:28:16.398Z"
   },
   {
    "duration": 83,
    "start_time": "2022-04-17T19:28:16.407Z"
   },
   {
    "duration": 0,
    "start_time": "2022-04-17T19:28:16.493Z"
   },
   {
    "duration": 0,
    "start_time": "2022-04-17T19:28:16.494Z"
   },
   {
    "duration": 0,
    "start_time": "2022-04-17T19:28:16.495Z"
   },
   {
    "duration": 0,
    "start_time": "2022-04-17T19:28:16.496Z"
   },
   {
    "duration": 0,
    "start_time": "2022-04-17T19:28:16.497Z"
   },
   {
    "duration": 0,
    "start_time": "2022-04-17T19:28:16.497Z"
   },
   {
    "duration": 0,
    "start_time": "2022-04-17T19:28:16.498Z"
   },
   {
    "duration": 0,
    "start_time": "2022-04-17T19:28:16.499Z"
   },
   {
    "duration": 0,
    "start_time": "2022-04-17T19:28:16.500Z"
   },
   {
    "duration": 0,
    "start_time": "2022-04-17T19:28:16.501Z"
   },
   {
    "duration": 0,
    "start_time": "2022-04-17T19:28:16.502Z"
   },
   {
    "duration": 0,
    "start_time": "2022-04-17T19:28:16.503Z"
   },
   {
    "duration": 0,
    "start_time": "2022-04-17T19:28:16.503Z"
   },
   {
    "duration": 0,
    "start_time": "2022-04-17T19:28:16.504Z"
   },
   {
    "duration": 0,
    "start_time": "2022-04-17T19:28:16.505Z"
   },
   {
    "duration": 0,
    "start_time": "2022-04-17T19:28:16.506Z"
   },
   {
    "duration": 0,
    "start_time": "2022-04-17T19:28:16.507Z"
   },
   {
    "duration": 0,
    "start_time": "2022-04-17T19:28:16.508Z"
   },
   {
    "duration": 0,
    "start_time": "2022-04-17T19:28:16.509Z"
   },
   {
    "duration": 0,
    "start_time": "2022-04-17T19:28:16.510Z"
   },
   {
    "duration": 0,
    "start_time": "2022-04-17T19:28:16.510Z"
   },
   {
    "duration": 0,
    "start_time": "2022-04-17T19:28:16.511Z"
   },
   {
    "duration": 0,
    "start_time": "2022-04-17T19:28:16.512Z"
   },
   {
    "duration": 0,
    "start_time": "2022-04-17T19:28:16.513Z"
   },
   {
    "duration": 0,
    "start_time": "2022-04-17T19:28:16.514Z"
   },
   {
    "duration": 0,
    "start_time": "2022-04-17T19:28:16.515Z"
   },
   {
    "duration": 0,
    "start_time": "2022-04-17T19:28:16.516Z"
   },
   {
    "duration": 0,
    "start_time": "2022-04-17T19:28:16.517Z"
   },
   {
    "duration": 0,
    "start_time": "2022-04-17T19:28:16.518Z"
   },
   {
    "duration": 0,
    "start_time": "2022-04-17T19:28:16.518Z"
   },
   {
    "duration": 0,
    "start_time": "2022-04-17T19:28:16.519Z"
   },
   {
    "duration": 0,
    "start_time": "2022-04-17T19:28:16.520Z"
   },
   {
    "duration": 0,
    "start_time": "2022-04-17T19:28:16.521Z"
   },
   {
    "duration": 0,
    "start_time": "2022-04-17T19:28:16.522Z"
   },
   {
    "duration": 0,
    "start_time": "2022-04-17T19:28:16.523Z"
   },
   {
    "duration": 0,
    "start_time": "2022-04-17T19:28:16.573Z"
   },
   {
    "duration": 113,
    "start_time": "2022-04-17T19:29:15.136Z"
   },
   {
    "duration": 15,
    "start_time": "2022-04-17T19:29:18.483Z"
   },
   {
    "duration": 13,
    "start_time": "2022-04-17T19:29:33.170Z"
   },
   {
    "duration": 12,
    "start_time": "2022-04-17T19:29:39.624Z"
   },
   {
    "duration": 9,
    "start_time": "2022-04-17T19:29:45.398Z"
   },
   {
    "duration": 9,
    "start_time": "2022-04-17T19:29:48.404Z"
   },
   {
    "duration": 5,
    "start_time": "2022-04-17T19:30:00.864Z"
   },
   {
    "duration": 8,
    "start_time": "2022-04-17T19:31:23.656Z"
   },
   {
    "duration": 9,
    "start_time": "2022-04-17T19:31:27.766Z"
   },
   {
    "duration": 11,
    "start_time": "2022-04-17T19:31:28.602Z"
   },
   {
    "duration": 7,
    "start_time": "2022-04-17T19:31:40.838Z"
   },
   {
    "duration": 5,
    "start_time": "2022-04-17T19:31:41.103Z"
   },
   {
    "duration": 5,
    "start_time": "2022-04-17T19:32:29.795Z"
   },
   {
    "duration": 666,
    "start_time": "2022-04-17T19:33:44.470Z"
   },
   {
    "duration": 37,
    "start_time": "2022-04-17T19:33:45.138Z"
   },
   {
    "duration": 11,
    "start_time": "2022-04-17T19:33:45.177Z"
   },
   {
    "duration": 18,
    "start_time": "2022-04-17T19:33:45.190Z"
   },
   {
    "duration": 11,
    "start_time": "2022-04-17T19:33:45.211Z"
   },
   {
    "duration": 13,
    "start_time": "2022-04-17T19:33:45.223Z"
   },
   {
    "duration": 10,
    "start_time": "2022-04-17T19:33:45.238Z"
   },
   {
    "duration": 34,
    "start_time": "2022-04-17T19:33:45.249Z"
   },
   {
    "duration": 15,
    "start_time": "2022-04-17T19:33:45.284Z"
   },
   {
    "duration": 9,
    "start_time": "2022-04-17T19:33:45.301Z"
   },
   {
    "duration": 4,
    "start_time": "2022-04-17T19:33:45.311Z"
   },
   {
    "duration": 9,
    "start_time": "2022-04-17T19:33:45.316Z"
   },
   {
    "duration": 6,
    "start_time": "2022-04-17T19:33:45.327Z"
   },
   {
    "duration": 38,
    "start_time": "2022-04-17T19:33:45.335Z"
   },
   {
    "duration": 12,
    "start_time": "2022-04-17T19:33:45.375Z"
   },
   {
    "duration": 12,
    "start_time": "2022-04-17T19:33:45.388Z"
   },
   {
    "duration": 12,
    "start_time": "2022-04-17T19:33:45.402Z"
   },
   {
    "duration": 13,
    "start_time": "2022-04-17T19:33:45.416Z"
   },
   {
    "duration": 9,
    "start_time": "2022-04-17T19:33:45.430Z"
   },
   {
    "duration": 11,
    "start_time": "2022-04-17T19:33:45.440Z"
   },
   {
    "duration": 8,
    "start_time": "2022-04-17T19:33:45.473Z"
   },
   {
    "duration": 11,
    "start_time": "2022-04-17T19:33:45.482Z"
   },
   {
    "duration": 12,
    "start_time": "2022-04-17T19:33:45.494Z"
   },
   {
    "duration": 12,
    "start_time": "2022-04-17T19:33:45.508Z"
   },
   {
    "duration": 8,
    "start_time": "2022-04-17T19:33:45.522Z"
   },
   {
    "duration": 11,
    "start_time": "2022-04-17T19:33:45.531Z"
   },
   {
    "duration": 33,
    "start_time": "2022-04-17T19:33:45.544Z"
   },
   {
    "duration": 330,
    "start_time": "2022-04-17T19:33:45.579Z"
   },
   {
    "duration": 13,
    "start_time": "2022-04-17T19:33:45.911Z"
   },
   {
    "duration": 12,
    "start_time": "2022-04-17T19:33:45.926Z"
   },
   {
    "duration": 13,
    "start_time": "2022-04-17T19:33:45.939Z"
   },
   {
    "duration": 20,
    "start_time": "2022-04-17T19:33:45.953Z"
   },
   {
    "duration": 13,
    "start_time": "2022-04-17T19:33:45.974Z"
   },
   {
    "duration": 14,
    "start_time": "2022-04-17T19:33:45.989Z"
   },
   {
    "duration": 309,
    "start_time": "2022-04-17T19:33:46.006Z"
   },
   {
    "duration": 15,
    "start_time": "2022-04-17T19:33:46.317Z"
   },
   {
    "duration": 16,
    "start_time": "2022-04-17T19:33:46.334Z"
   },
   {
    "duration": 31,
    "start_time": "2022-04-17T19:33:46.352Z"
   },
   {
    "duration": 12,
    "start_time": "2022-04-17T19:33:46.385Z"
   },
   {
    "duration": 4,
    "start_time": "2022-04-17T19:33:46.398Z"
   },
   {
    "duration": 236,
    "start_time": "2022-04-17T19:33:46.406Z"
   },
   {
    "duration": 5,
    "start_time": "2022-04-17T19:33:46.643Z"
   },
   {
    "duration": 7,
    "start_time": "2022-04-17T19:33:46.649Z"
   },
   {
    "duration": 26,
    "start_time": "2022-04-17T19:33:46.657Z"
   },
   {
    "duration": 10,
    "start_time": "2022-04-17T19:37:17.365Z"
   },
   {
    "duration": 625,
    "start_time": "2022-04-17T19:37:42.936Z"
   },
   {
    "duration": 36,
    "start_time": "2022-04-17T19:37:43.563Z"
   },
   {
    "duration": 10,
    "start_time": "2022-04-17T19:37:43.601Z"
   },
   {
    "duration": 11,
    "start_time": "2022-04-17T19:37:43.613Z"
   },
   {
    "duration": 11,
    "start_time": "2022-04-17T19:37:43.626Z"
   },
   {
    "duration": 18,
    "start_time": "2022-04-17T19:37:43.638Z"
   },
   {
    "duration": 14,
    "start_time": "2022-04-17T19:37:43.657Z"
   },
   {
    "duration": 11,
    "start_time": "2022-04-17T19:37:43.672Z"
   },
   {
    "duration": 6,
    "start_time": "2022-04-17T19:37:43.685Z"
   },
   {
    "duration": 9,
    "start_time": "2022-04-17T19:37:43.692Z"
   },
   {
    "duration": 5,
    "start_time": "2022-04-17T19:37:43.702Z"
   },
   {
    "duration": 10,
    "start_time": "2022-04-17T19:37:43.708Z"
   },
   {
    "duration": 10,
    "start_time": "2022-04-17T19:37:43.719Z"
   },
   {
    "duration": 15,
    "start_time": "2022-04-17T19:37:43.731Z"
   },
   {
    "duration": 19,
    "start_time": "2022-04-17T19:37:43.774Z"
   },
   {
    "duration": 16,
    "start_time": "2022-04-17T19:37:43.794Z"
   },
   {
    "duration": 11,
    "start_time": "2022-04-17T19:37:43.811Z"
   },
   {
    "duration": 12,
    "start_time": "2022-04-17T19:37:43.824Z"
   },
   {
    "duration": 6,
    "start_time": "2022-04-17T19:37:43.838Z"
   },
   {
    "duration": 9,
    "start_time": "2022-04-17T19:37:43.846Z"
   },
   {
    "duration": 7,
    "start_time": "2022-04-17T19:37:43.873Z"
   },
   {
    "duration": 11,
    "start_time": "2022-04-17T19:37:43.882Z"
   },
   {
    "duration": 8,
    "start_time": "2022-04-17T19:37:43.895Z"
   },
   {
    "duration": 12,
    "start_time": "2022-04-17T19:37:43.905Z"
   },
   {
    "duration": 7,
    "start_time": "2022-04-17T19:37:43.918Z"
   },
   {
    "duration": 9,
    "start_time": "2022-04-17T19:37:43.926Z"
   },
   {
    "duration": 38,
    "start_time": "2022-04-17T19:37:43.936Z"
   },
   {
    "duration": 286,
    "start_time": "2022-04-17T19:37:43.975Z"
   },
   {
    "duration": 13,
    "start_time": "2022-04-17T19:37:44.262Z"
   },
   {
    "duration": 10,
    "start_time": "2022-04-17T19:37:44.276Z"
   },
   {
    "duration": 16,
    "start_time": "2022-04-17T19:37:44.288Z"
   },
   {
    "duration": 16,
    "start_time": "2022-04-17T19:37:44.305Z"
   },
   {
    "duration": 13,
    "start_time": "2022-04-17T19:37:44.322Z"
   },
   {
    "duration": 11,
    "start_time": "2022-04-17T19:37:44.336Z"
   },
   {
    "duration": 336,
    "start_time": "2022-04-17T19:37:44.349Z"
   },
   {
    "duration": 14,
    "start_time": "2022-04-17T19:37:44.687Z"
   },
   {
    "duration": 15,
    "start_time": "2022-04-17T19:37:44.702Z"
   },
   {
    "duration": 13,
    "start_time": "2022-04-17T19:37:44.718Z"
   },
   {
    "duration": 10,
    "start_time": "2022-04-17T19:37:44.733Z"
   },
   {
    "duration": 28,
    "start_time": "2022-04-17T19:37:44.745Z"
   },
   {
    "duration": 212,
    "start_time": "2022-04-17T19:37:44.777Z"
   },
   {
    "duration": 5,
    "start_time": "2022-04-17T19:37:44.991Z"
   },
   {
    "duration": 15,
    "start_time": "2022-04-17T19:37:44.997Z"
   },
   {
    "duration": 24,
    "start_time": "2022-04-17T19:37:45.014Z"
   },
   {
    "duration": 76,
    "start_time": "2022-04-17T19:39:51.260Z"
   },
   {
    "duration": 15,
    "start_time": "2022-04-17T19:40:22.369Z"
   },
   {
    "duration": 344,
    "start_time": "2022-04-17T19:40:37.389Z"
   },
   {
    "duration": 283,
    "start_time": "2022-04-17T19:41:08.800Z"
   },
   {
    "duration": 5,
    "start_time": "2022-04-17T19:42:10.649Z"
   },
   {
    "duration": 7,
    "start_time": "2022-04-17T19:44:36.339Z"
   },
   {
    "duration": 7,
    "start_time": "2022-04-17T19:44:58.412Z"
   },
   {
    "duration": 8,
    "start_time": "2022-04-17T19:45:46.432Z"
   },
   {
    "duration": 9,
    "start_time": "2022-04-17T19:51:16.025Z"
   },
   {
    "duration": 134,
    "start_time": "2022-04-17T19:51:59.090Z"
   },
   {
    "duration": 152,
    "start_time": "2022-04-17T19:52:27.209Z"
   },
   {
    "duration": 157,
    "start_time": "2022-04-17T19:52:48.019Z"
   },
   {
    "duration": 5,
    "start_time": "2022-04-17T19:56:29.560Z"
   },
   {
    "duration": 15,
    "start_time": "2022-04-17T20:01:51.947Z"
   },
   {
    "duration": 118,
    "start_time": "2022-04-17T20:02:06.462Z"
   },
   {
    "duration": 128,
    "start_time": "2022-04-17T20:02:55.426Z"
   },
   {
    "duration": 1096,
    "start_time": "2022-04-17T20:03:25.428Z"
   },
   {
    "duration": 43,
    "start_time": "2022-04-17T20:03:26.526Z"
   },
   {
    "duration": 11,
    "start_time": "2022-04-17T20:03:26.570Z"
   },
   {
    "duration": 11,
    "start_time": "2022-04-17T20:03:26.583Z"
   },
   {
    "duration": 11,
    "start_time": "2022-04-17T20:03:26.596Z"
   },
   {
    "duration": 13,
    "start_time": "2022-04-17T20:03:26.609Z"
   },
   {
    "duration": 11,
    "start_time": "2022-04-17T20:03:26.624Z"
   },
   {
    "duration": 41,
    "start_time": "2022-04-17T20:03:26.637Z"
   },
   {
    "duration": 8,
    "start_time": "2022-04-17T20:03:26.679Z"
   },
   {
    "duration": 7,
    "start_time": "2022-04-17T20:03:26.689Z"
   },
   {
    "duration": 11,
    "start_time": "2022-04-17T20:03:26.697Z"
   },
   {
    "duration": 10,
    "start_time": "2022-04-17T20:03:26.710Z"
   },
   {
    "duration": 11,
    "start_time": "2022-04-17T20:03:26.721Z"
   },
   {
    "duration": 12,
    "start_time": "2022-04-17T20:03:26.733Z"
   },
   {
    "duration": 32,
    "start_time": "2022-04-17T20:03:26.746Z"
   },
   {
    "duration": 10,
    "start_time": "2022-04-17T20:03:26.779Z"
   },
   {
    "duration": 11,
    "start_time": "2022-04-17T20:03:26.790Z"
   },
   {
    "duration": 12,
    "start_time": "2022-04-17T20:03:26.802Z"
   },
   {
    "duration": 6,
    "start_time": "2022-04-17T20:03:26.815Z"
   },
   {
    "duration": 8,
    "start_time": "2022-04-17T20:03:26.822Z"
   },
   {
    "duration": 8,
    "start_time": "2022-04-17T20:03:26.831Z"
   },
   {
    "duration": 38,
    "start_time": "2022-04-17T20:03:26.840Z"
   },
   {
    "duration": 7,
    "start_time": "2022-04-17T20:03:26.879Z"
   },
   {
    "duration": 12,
    "start_time": "2022-04-17T20:03:26.888Z"
   },
   {
    "duration": 7,
    "start_time": "2022-04-17T20:03:26.902Z"
   },
   {
    "duration": 10,
    "start_time": "2022-04-17T20:03:26.910Z"
   },
   {
    "duration": 10,
    "start_time": "2022-04-17T20:03:26.921Z"
   },
   {
    "duration": 310,
    "start_time": "2022-04-17T20:03:26.934Z"
   },
   {
    "duration": 12,
    "start_time": "2022-04-17T20:03:27.245Z"
   },
   {
    "duration": 20,
    "start_time": "2022-04-17T20:03:27.259Z"
   },
   {
    "duration": 10,
    "start_time": "2022-04-17T20:03:27.281Z"
   },
   {
    "duration": 10,
    "start_time": "2022-04-17T20:03:27.293Z"
   },
   {
    "duration": 15,
    "start_time": "2022-04-17T20:03:27.305Z"
   },
   {
    "duration": 12,
    "start_time": "2022-04-17T20:03:27.322Z"
   },
   {
    "duration": 356,
    "start_time": "2022-04-17T20:03:27.336Z"
   },
   {
    "duration": 16,
    "start_time": "2022-04-17T20:03:27.694Z"
   },
   {
    "duration": 14,
    "start_time": "2022-04-17T20:03:27.712Z"
   },
   {
    "duration": 17,
    "start_time": "2022-04-17T20:03:27.728Z"
   },
   {
    "duration": 28,
    "start_time": "2022-04-17T20:03:27.746Z"
   },
   {
    "duration": 5,
    "start_time": "2022-04-17T20:03:27.776Z"
   },
   {
    "duration": 231,
    "start_time": "2022-04-17T20:03:27.783Z"
   },
   {
    "duration": 4,
    "start_time": "2022-04-17T20:03:28.016Z"
   },
   {
    "duration": 7,
    "start_time": "2022-04-17T20:03:28.022Z"
   },
   {
    "duration": 14,
    "start_time": "2022-04-17T20:03:28.031Z"
   },
   {
    "duration": 282,
    "start_time": "2022-04-17T20:03:28.046Z"
   },
   {
    "duration": 5,
    "start_time": "2022-04-17T20:03:28.330Z"
   },
   {
    "duration": 178,
    "start_time": "2022-04-17T20:03:28.337Z"
   },
   {
    "duration": 6,
    "start_time": "2022-04-17T20:03:28.516Z"
   },
   {
    "duration": 153,
    "start_time": "2022-04-17T20:03:28.523Z"
   },
   {
    "duration": 11,
    "start_time": "2022-04-17T20:05:42.357Z"
   },
   {
    "duration": 12,
    "start_time": "2022-04-17T20:06:03.115Z"
   },
   {
    "duration": 1265,
    "start_time": "2022-04-18T18:47:37.140Z"
   },
   {
    "duration": 52,
    "start_time": "2022-04-18T18:47:38.407Z"
   },
   {
    "duration": 11,
    "start_time": "2022-04-18T18:47:38.461Z"
   },
   {
    "duration": 15,
    "start_time": "2022-04-18T18:47:38.474Z"
   },
   {
    "duration": 11,
    "start_time": "2022-04-18T18:47:38.490Z"
   },
   {
    "duration": 14,
    "start_time": "2022-04-18T18:47:38.502Z"
   },
   {
    "duration": 12,
    "start_time": "2022-04-18T18:47:38.517Z"
   },
   {
    "duration": 34,
    "start_time": "2022-04-18T18:47:38.530Z"
   },
   {
    "duration": 15,
    "start_time": "2022-04-18T18:47:38.565Z"
   },
   {
    "duration": 7,
    "start_time": "2022-04-18T18:47:38.582Z"
   },
   {
    "duration": 4,
    "start_time": "2022-04-18T18:47:38.590Z"
   },
   {
    "duration": 9,
    "start_time": "2022-04-18T18:47:38.596Z"
   },
   {
    "duration": 9,
    "start_time": "2022-04-18T18:47:38.607Z"
   },
   {
    "duration": 12,
    "start_time": "2022-04-18T18:47:38.617Z"
   },
   {
    "duration": 12,
    "start_time": "2022-04-18T18:47:38.655Z"
   },
   {
    "duration": 11,
    "start_time": "2022-04-18T18:47:38.668Z"
   },
   {
    "duration": 20,
    "start_time": "2022-04-18T18:47:38.681Z"
   },
   {
    "duration": 11,
    "start_time": "2022-04-18T18:47:38.703Z"
   },
   {
    "duration": 6,
    "start_time": "2022-04-18T18:47:38.716Z"
   },
   {
    "duration": 6,
    "start_time": "2022-04-18T18:47:38.724Z"
   },
   {
    "duration": 25,
    "start_time": "2022-04-18T18:47:38.732Z"
   },
   {
    "duration": 11,
    "start_time": "2022-04-18T18:47:38.759Z"
   },
   {
    "duration": 9,
    "start_time": "2022-04-18T18:47:38.772Z"
   },
   {
    "duration": 10,
    "start_time": "2022-04-18T18:47:38.783Z"
   },
   {
    "duration": 7,
    "start_time": "2022-04-18T18:47:38.795Z"
   },
   {
    "duration": 10,
    "start_time": "2022-04-18T18:47:38.804Z"
   },
   {
    "duration": 9,
    "start_time": "2022-04-18T18:47:38.815Z"
   },
   {
    "duration": 270,
    "start_time": "2022-04-18T18:47:38.856Z"
   },
   {
    "duration": 12,
    "start_time": "2022-04-18T18:47:39.128Z"
   },
   {
    "duration": 19,
    "start_time": "2022-04-18T18:47:39.142Z"
   },
   {
    "duration": 10,
    "start_time": "2022-04-18T18:47:39.163Z"
   },
   {
    "duration": 10,
    "start_time": "2022-04-18T18:47:39.175Z"
   },
   {
    "duration": 14,
    "start_time": "2022-04-18T18:47:39.187Z"
   },
   {
    "duration": 20,
    "start_time": "2022-04-18T18:47:39.203Z"
   },
   {
    "duration": 378,
    "start_time": "2022-04-18T18:47:39.224Z"
   },
   {
    "duration": 14,
    "start_time": "2022-04-18T18:47:39.603Z"
   },
   {
    "duration": 13,
    "start_time": "2022-04-18T18:47:39.619Z"
   },
   {
    "duration": 23,
    "start_time": "2022-04-18T18:47:39.634Z"
   },
   {
    "duration": 10,
    "start_time": "2022-04-18T18:47:39.659Z"
   },
   {
    "duration": 6,
    "start_time": "2022-04-18T18:47:39.671Z"
   },
   {
    "duration": 204,
    "start_time": "2022-04-18T18:47:39.679Z"
   },
   {
    "duration": 4,
    "start_time": "2022-04-18T18:47:39.885Z"
   },
   {
    "duration": 7,
    "start_time": "2022-04-18T18:47:39.890Z"
   },
   {
    "duration": 13,
    "start_time": "2022-04-18T18:47:39.898Z"
   },
   {
    "duration": 282,
    "start_time": "2022-04-18T18:47:39.912Z"
   },
   {
    "duration": 5,
    "start_time": "2022-04-18T18:47:40.195Z"
   },
   {
    "duration": 159,
    "start_time": "2022-04-18T18:47:40.202Z"
   },
   {
    "duration": 5,
    "start_time": "2022-04-18T18:47:40.363Z"
   },
   {
    "duration": 136,
    "start_time": "2022-04-18T18:47:40.369Z"
   },
   {
    "duration": 9,
    "start_time": "2022-04-18T18:47:40.507Z"
   },
   {
    "duration": 52,
    "start_time": "2022-04-19T05:41:54.445Z"
   },
   {
    "duration": 1411,
    "start_time": "2022-04-19T05:41:58.812Z"
   },
   {
    "duration": 69,
    "start_time": "2022-04-19T05:42:00.225Z"
   },
   {
    "duration": 12,
    "start_time": "2022-04-19T05:42:00.296Z"
   },
   {
    "duration": 16,
    "start_time": "2022-04-19T05:42:00.310Z"
   },
   {
    "duration": 18,
    "start_time": "2022-04-19T05:42:00.329Z"
   },
   {
    "duration": 20,
    "start_time": "2022-04-19T05:42:00.349Z"
   },
   {
    "duration": 22,
    "start_time": "2022-04-19T05:42:00.371Z"
   },
   {
    "duration": 21,
    "start_time": "2022-04-19T05:42:00.395Z"
   },
   {
    "duration": 19,
    "start_time": "2022-04-19T05:42:00.418Z"
   },
   {
    "duration": 23,
    "start_time": "2022-04-19T05:42:00.439Z"
   },
   {
    "duration": 12,
    "start_time": "2022-04-19T05:42:00.464Z"
   },
   {
    "duration": 16,
    "start_time": "2022-04-19T05:42:00.478Z"
   },
   {
    "duration": 12,
    "start_time": "2022-04-19T05:42:00.496Z"
   },
   {
    "duration": 15,
    "start_time": "2022-04-19T05:42:00.511Z"
   },
   {
    "duration": 14,
    "start_time": "2022-04-19T05:42:00.528Z"
   },
   {
    "duration": 20,
    "start_time": "2022-04-19T05:42:00.544Z"
   },
   {
    "duration": 17,
    "start_time": "2022-04-19T05:42:00.566Z"
   },
   {
    "duration": 21,
    "start_time": "2022-04-19T05:42:00.585Z"
   },
   {
    "duration": 16,
    "start_time": "2022-04-19T05:42:00.609Z"
   },
   {
    "duration": 12,
    "start_time": "2022-04-19T05:42:00.627Z"
   },
   {
    "duration": 13,
    "start_time": "2022-04-19T05:42:00.641Z"
   },
   {
    "duration": 13,
    "start_time": "2022-04-19T05:42:00.655Z"
   },
   {
    "duration": 15,
    "start_time": "2022-04-19T05:42:00.670Z"
   },
   {
    "duration": 14,
    "start_time": "2022-04-19T05:42:00.686Z"
   },
   {
    "duration": 16,
    "start_time": "2022-04-19T05:42:00.702Z"
   },
   {
    "duration": 22,
    "start_time": "2022-04-19T05:42:00.720Z"
   },
   {
    "duration": 19,
    "start_time": "2022-04-19T05:42:00.743Z"
   },
   {
    "duration": 327,
    "start_time": "2022-04-19T05:42:00.764Z"
   },
   {
    "duration": 12,
    "start_time": "2022-04-19T05:42:01.094Z"
   },
   {
    "duration": 15,
    "start_time": "2022-04-19T05:42:01.108Z"
   },
   {
    "duration": 12,
    "start_time": "2022-04-19T05:42:01.135Z"
   },
   {
    "duration": 15,
    "start_time": "2022-04-19T05:42:01.148Z"
   },
   {
    "duration": 33,
    "start_time": "2022-04-19T05:42:01.164Z"
   },
   {
    "duration": 17,
    "start_time": "2022-04-19T05:42:01.199Z"
   },
   {
    "duration": 404,
    "start_time": "2022-04-19T05:42:01.233Z"
   },
   {
    "duration": 18,
    "start_time": "2022-04-19T05:42:01.639Z"
   },
   {
    "duration": 23,
    "start_time": "2022-04-19T05:42:01.659Z"
   },
   {
    "duration": 23,
    "start_time": "2022-04-19T05:42:01.684Z"
   },
   {
    "duration": 34,
    "start_time": "2022-04-19T05:42:01.709Z"
   },
   {
    "duration": 6,
    "start_time": "2022-04-19T05:42:01.745Z"
   },
   {
    "duration": 264,
    "start_time": "2022-04-19T05:42:01.755Z"
   },
   {
    "duration": 12,
    "start_time": "2022-04-19T05:42:02.022Z"
   },
   {
    "duration": 14,
    "start_time": "2022-04-19T05:42:02.037Z"
   },
   {
    "duration": 41,
    "start_time": "2022-04-19T05:42:02.053Z"
   },
   {
    "duration": 296,
    "start_time": "2022-04-19T05:42:02.096Z"
   },
   {
    "duration": 6,
    "start_time": "2022-04-19T05:42:02.394Z"
   },
   {
    "duration": 201,
    "start_time": "2022-04-19T05:42:02.402Z"
   },
   {
    "duration": 6,
    "start_time": "2022-04-19T05:42:02.605Z"
   },
   {
    "duration": 164,
    "start_time": "2022-04-19T05:42:02.612Z"
   },
   {
    "duration": 12,
    "start_time": "2022-04-19T05:42:02.778Z"
   },
   {
    "duration": 49,
    "start_time": "2022-04-19T16:27:23.113Z"
   },
   {
    "duration": 1289,
    "start_time": "2022-04-19T16:27:28.348Z"
   },
   {
    "duration": 50,
    "start_time": "2022-04-19T16:27:29.639Z"
   },
   {
    "duration": 12,
    "start_time": "2022-04-19T16:27:29.691Z"
   },
   {
    "duration": 12,
    "start_time": "2022-04-19T16:27:29.706Z"
   },
   {
    "duration": 12,
    "start_time": "2022-04-19T16:27:29.720Z"
   },
   {
    "duration": 13,
    "start_time": "2022-04-19T16:27:29.734Z"
   },
   {
    "duration": 32,
    "start_time": "2022-04-19T16:27:29.749Z"
   },
   {
    "duration": 15,
    "start_time": "2022-04-19T16:27:29.783Z"
   },
   {
    "duration": 6,
    "start_time": "2022-04-19T16:27:29.800Z"
   },
   {
    "duration": 7,
    "start_time": "2022-04-19T16:27:29.809Z"
   },
   {
    "duration": 7,
    "start_time": "2022-04-19T16:27:29.817Z"
   },
   {
    "duration": 13,
    "start_time": "2022-04-19T16:27:29.825Z"
   },
   {
    "duration": 36,
    "start_time": "2022-04-19T16:27:29.840Z"
   },
   {
    "duration": 14,
    "start_time": "2022-04-19T16:27:29.878Z"
   },
   {
    "duration": 19,
    "start_time": "2022-04-19T16:27:29.893Z"
   },
   {
    "duration": 14,
    "start_time": "2022-04-19T16:27:29.914Z"
   },
   {
    "duration": 17,
    "start_time": "2022-04-19T16:27:29.930Z"
   },
   {
    "duration": 26,
    "start_time": "2022-04-19T16:27:29.949Z"
   },
   {
    "duration": 9,
    "start_time": "2022-04-19T16:27:29.977Z"
   },
   {
    "duration": 41,
    "start_time": "2022-04-19T16:27:29.987Z"
   },
   {
    "duration": 25,
    "start_time": "2022-04-19T16:27:30.030Z"
   },
   {
    "duration": 21,
    "start_time": "2022-04-19T16:27:30.057Z"
   },
   {
    "duration": 17,
    "start_time": "2022-04-19T16:27:30.079Z"
   },
   {
    "duration": 19,
    "start_time": "2022-04-19T16:27:30.098Z"
   },
   {
    "duration": 12,
    "start_time": "2022-04-19T16:27:30.119Z"
   },
   {
    "duration": 26,
    "start_time": "2022-04-19T16:27:30.133Z"
   },
   {
    "duration": 23,
    "start_time": "2022-04-19T16:27:30.161Z"
   },
   {
    "duration": 309,
    "start_time": "2022-04-19T16:27:30.190Z"
   },
   {
    "duration": 12,
    "start_time": "2022-04-19T16:27:30.501Z"
   },
   {
    "duration": 22,
    "start_time": "2022-04-19T16:27:30.515Z"
   },
   {
    "duration": 23,
    "start_time": "2022-04-19T16:27:30.539Z"
   },
   {
    "duration": 19,
    "start_time": "2022-04-19T16:27:30.564Z"
   },
   {
    "duration": 52,
    "start_time": "2022-04-19T16:27:30.586Z"
   },
   {
    "duration": 38,
    "start_time": "2022-04-19T16:27:30.640Z"
   },
   {
    "duration": 407,
    "start_time": "2022-04-19T16:27:30.680Z"
   },
   {
    "duration": 15,
    "start_time": "2022-04-19T16:27:31.089Z"
   },
   {
    "duration": 65,
    "start_time": "2022-04-19T16:27:31.105Z"
   },
   {
    "duration": 19,
    "start_time": "2022-04-19T16:27:31.172Z"
   },
   {
    "duration": 38,
    "start_time": "2022-04-19T16:27:31.192Z"
   },
   {
    "duration": 16,
    "start_time": "2022-04-19T16:27:31.232Z"
   },
   {
    "duration": 232,
    "start_time": "2022-04-19T16:27:31.250Z"
   },
   {
    "duration": 5,
    "start_time": "2022-04-19T16:27:31.484Z"
   },
   {
    "duration": 11,
    "start_time": "2022-04-19T16:27:31.490Z"
   },
   {
    "duration": 24,
    "start_time": "2022-04-19T16:27:31.503Z"
   },
   {
    "duration": 322,
    "start_time": "2022-04-19T16:27:31.529Z"
   },
   {
    "duration": 5,
    "start_time": "2022-04-19T16:27:31.853Z"
   },
   {
    "duration": 193,
    "start_time": "2022-04-19T16:27:31.859Z"
   },
   {
    "duration": 5,
    "start_time": "2022-04-19T16:27:32.053Z"
   },
   {
    "duration": 198,
    "start_time": "2022-04-19T16:27:32.060Z"
   },
   {
    "duration": 21,
    "start_time": "2022-04-19T16:27:32.260Z"
   },
   {
    "duration": 12,
    "start_time": "2022-04-19T16:27:32.283Z"
   },
   {
    "duration": 6,
    "start_time": "2022-04-19T16:28:11.815Z"
   },
   {
    "duration": 5,
    "start_time": "2022-04-19T16:55:48.144Z"
   },
   {
    "duration": 5,
    "start_time": "2022-04-19T16:55:49.090Z"
   },
   {
    "duration": 5,
    "start_time": "2022-04-19T16:56:09.651Z"
   },
   {
    "duration": 5,
    "start_time": "2022-04-19T16:56:10.096Z"
   },
   {
    "duration": 5,
    "start_time": "2022-04-19T17:00:58.400Z"
   },
   {
    "duration": 4,
    "start_time": "2022-04-19T17:00:59.342Z"
   },
   {
    "duration": 5,
    "start_time": "2022-04-19T17:01:24.109Z"
   },
   {
    "duration": 4,
    "start_time": "2022-04-19T17:02:26.509Z"
   },
   {
    "duration": 4,
    "start_time": "2022-04-19T17:03:38.703Z"
   },
   {
    "duration": 96,
    "start_time": "2022-04-19T17:03:55.563Z"
   },
   {
    "duration": 1099,
    "start_time": "2022-04-19T17:04:40.932Z"
   },
   {
    "duration": 36,
    "start_time": "2022-04-19T17:04:42.033Z"
   },
   {
    "duration": 12,
    "start_time": "2022-04-19T17:04:42.070Z"
   },
   {
    "duration": 19,
    "start_time": "2022-04-19T17:04:42.084Z"
   },
   {
    "duration": 11,
    "start_time": "2022-04-19T17:04:42.105Z"
   },
   {
    "duration": 16,
    "start_time": "2022-04-19T17:04:42.117Z"
   },
   {
    "duration": 13,
    "start_time": "2022-04-19T17:04:42.134Z"
   },
   {
    "duration": 26,
    "start_time": "2022-04-19T17:04:42.149Z"
   },
   {
    "duration": 9,
    "start_time": "2022-04-19T17:04:42.177Z"
   },
   {
    "duration": 11,
    "start_time": "2022-04-19T17:04:42.188Z"
   },
   {
    "duration": 7,
    "start_time": "2022-04-19T17:04:42.201Z"
   },
   {
    "duration": 12,
    "start_time": "2022-04-19T17:04:42.209Z"
   },
   {
    "duration": 10,
    "start_time": "2022-04-19T17:04:42.223Z"
   },
   {
    "duration": 13,
    "start_time": "2022-04-19T17:04:42.236Z"
   },
   {
    "duration": 35,
    "start_time": "2022-04-19T17:04:42.250Z"
   },
   {
    "duration": 16,
    "start_time": "2022-04-19T17:04:42.287Z"
   },
   {
    "duration": 11,
    "start_time": "2022-04-19T17:04:42.305Z"
   },
   {
    "duration": 13,
    "start_time": "2022-04-19T17:04:42.318Z"
   },
   {
    "duration": 7,
    "start_time": "2022-04-19T17:04:42.332Z"
   },
   {
    "duration": 33,
    "start_time": "2022-04-19T17:04:42.341Z"
   },
   {
    "duration": 8,
    "start_time": "2022-04-19T17:04:42.376Z"
   },
   {
    "duration": 12,
    "start_time": "2022-04-19T17:04:42.385Z"
   },
   {
    "duration": 13,
    "start_time": "2022-04-19T17:04:42.399Z"
   },
   {
    "duration": 13,
    "start_time": "2022-04-19T17:04:42.413Z"
   },
   {
    "duration": 7,
    "start_time": "2022-04-19T17:04:42.428Z"
   },
   {
    "duration": 39,
    "start_time": "2022-04-19T17:04:42.436Z"
   },
   {
    "duration": 13,
    "start_time": "2022-04-19T17:04:42.476Z"
   },
   {
    "duration": 302,
    "start_time": "2022-04-19T17:04:42.490Z"
   },
   {
    "duration": 12,
    "start_time": "2022-04-19T17:04:42.795Z"
   },
   {
    "duration": 11,
    "start_time": "2022-04-19T17:04:42.809Z"
   },
   {
    "duration": 11,
    "start_time": "2022-04-19T17:04:42.822Z"
   },
   {
    "duration": 40,
    "start_time": "2022-04-19T17:04:42.835Z"
   },
   {
    "duration": 17,
    "start_time": "2022-04-19T17:04:42.877Z"
   },
   {
    "duration": 18,
    "start_time": "2022-04-19T17:04:42.896Z"
   },
   {
    "duration": 306,
    "start_time": "2022-04-19T17:04:42.916Z"
   },
   {
    "duration": 15,
    "start_time": "2022-04-19T17:04:43.224Z"
   },
   {
    "duration": 18,
    "start_time": "2022-04-19T17:04:43.241Z"
   },
   {
    "duration": 13,
    "start_time": "2022-04-19T17:04:43.274Z"
   },
   {
    "duration": 19,
    "start_time": "2022-04-19T17:04:43.289Z"
   },
   {
    "duration": 15,
    "start_time": "2022-04-19T17:04:43.309Z"
   },
   {
    "duration": 226,
    "start_time": "2022-04-19T17:04:43.328Z"
   },
   {
    "duration": 5,
    "start_time": "2022-04-19T17:04:43.556Z"
   },
   {
    "duration": 5,
    "start_time": "2022-04-19T17:04:43.573Z"
   },
   {
    "duration": 26,
    "start_time": "2022-04-19T17:04:43.580Z"
   },
   {
    "duration": 307,
    "start_time": "2022-04-19T17:04:43.608Z"
   },
   {
    "duration": 5,
    "start_time": "2022-04-19T17:04:43.916Z"
   },
   {
    "duration": 177,
    "start_time": "2022-04-19T17:04:43.923Z"
   },
   {
    "duration": 5,
    "start_time": "2022-04-19T17:04:44.102Z"
   },
   {
    "duration": 10,
    "start_time": "2022-04-19T17:04:44.108Z"
   },
   {
    "duration": 7,
    "start_time": "2022-04-19T17:04:44.120Z"
   },
   {
    "duration": 9,
    "start_time": "2022-04-19T17:04:44.128Z"
   },
   {
    "duration": 7,
    "start_time": "2022-04-19T17:04:44.139Z"
   },
   {
    "duration": 143,
    "start_time": "2022-04-19T17:04:44.148Z"
   },
   {
    "duration": 10,
    "start_time": "2022-04-19T17:04:44.292Z"
   },
   {
    "duration": 9,
    "start_time": "2022-04-19T17:04:44.303Z"
   },
   {
    "duration": 13,
    "start_time": "2022-04-19T17:04:44.314Z"
   },
   {
    "duration": 12,
    "start_time": "2022-04-19T17:09:08.515Z"
   },
   {
    "duration": 1112,
    "start_time": "2022-04-19T17:19:23.451Z"
   },
   {
    "duration": 34,
    "start_time": "2022-04-19T17:19:24.565Z"
   },
   {
    "duration": 10,
    "start_time": "2022-04-19T17:19:24.601Z"
   },
   {
    "duration": 12,
    "start_time": "2022-04-19T17:19:24.613Z"
   },
   {
    "duration": 11,
    "start_time": "2022-04-19T17:19:24.627Z"
   },
   {
    "duration": 12,
    "start_time": "2022-04-19T17:19:24.639Z"
   },
   {
    "duration": 20,
    "start_time": "2022-04-19T17:19:24.653Z"
   },
   {
    "duration": 14,
    "start_time": "2022-04-19T17:19:24.675Z"
   },
   {
    "duration": 7,
    "start_time": "2022-04-19T17:19:24.691Z"
   },
   {
    "duration": 8,
    "start_time": "2022-04-19T17:19:24.700Z"
   },
   {
    "duration": 7,
    "start_time": "2022-04-19T17:19:24.710Z"
   },
   {
    "duration": 13,
    "start_time": "2022-04-19T17:19:24.719Z"
   },
   {
    "duration": 7,
    "start_time": "2022-04-19T17:19:24.733Z"
   },
   {
    "duration": 32,
    "start_time": "2022-04-19T17:19:24.742Z"
   },
   {
    "duration": 13,
    "start_time": "2022-04-19T17:19:24.776Z"
   },
   {
    "duration": 10,
    "start_time": "2022-04-19T17:19:24.790Z"
   },
   {
    "duration": 11,
    "start_time": "2022-04-19T17:19:24.801Z"
   },
   {
    "duration": 15,
    "start_time": "2022-04-19T17:19:24.813Z"
   },
   {
    "duration": 7,
    "start_time": "2022-04-19T17:19:24.830Z"
   },
   {
    "duration": 39,
    "start_time": "2022-04-19T17:19:24.838Z"
   },
   {
    "duration": 11,
    "start_time": "2022-04-19T17:19:24.879Z"
   },
   {
    "duration": 11,
    "start_time": "2022-04-19T17:19:24.891Z"
   },
   {
    "duration": 9,
    "start_time": "2022-04-19T17:19:24.903Z"
   },
   {
    "duration": 13,
    "start_time": "2022-04-19T17:19:24.914Z"
   },
   {
    "duration": 16,
    "start_time": "2022-04-19T17:19:24.929Z"
   },
   {
    "duration": 27,
    "start_time": "2022-04-19T17:19:24.947Z"
   },
   {
    "duration": 14,
    "start_time": "2022-04-19T17:19:24.977Z"
   },
   {
    "duration": 293,
    "start_time": "2022-04-19T17:19:24.995Z"
   },
   {
    "duration": 12,
    "start_time": "2022-04-19T17:19:25.289Z"
   },
   {
    "duration": 10,
    "start_time": "2022-04-19T17:19:25.303Z"
   },
   {
    "duration": 11,
    "start_time": "2022-04-19T17:19:25.314Z"
   },
   {
    "duration": 12,
    "start_time": "2022-04-19T17:19:25.327Z"
   },
   {
    "duration": 39,
    "start_time": "2022-04-19T17:19:25.340Z"
   },
   {
    "duration": 14,
    "start_time": "2022-04-19T17:19:25.381Z"
   },
   {
    "duration": 308,
    "start_time": "2022-04-19T17:19:25.396Z"
   },
   {
    "duration": 14,
    "start_time": "2022-04-19T17:19:25.706Z"
   },
   {
    "duration": 17,
    "start_time": "2022-04-19T17:19:25.721Z"
   },
   {
    "duration": 13,
    "start_time": "2022-04-19T17:19:25.740Z"
   },
   {
    "duration": 14,
    "start_time": "2022-04-19T17:19:25.773Z"
   },
   {
    "duration": 6,
    "start_time": "2022-04-19T17:19:25.788Z"
   },
   {
    "duration": 233,
    "start_time": "2022-04-19T17:19:25.796Z"
   },
   {
    "duration": 6,
    "start_time": "2022-04-19T17:19:26.030Z"
   },
   {
    "duration": 9,
    "start_time": "2022-04-19T17:19:26.038Z"
   },
   {
    "duration": 27,
    "start_time": "2022-04-19T17:19:26.049Z"
   },
   {
    "duration": 302,
    "start_time": "2022-04-19T17:19:26.078Z"
   },
   {
    "duration": 5,
    "start_time": "2022-04-19T17:19:26.381Z"
   },
   {
    "duration": 162,
    "start_time": "2022-04-19T17:19:26.387Z"
   },
   {
    "duration": 5,
    "start_time": "2022-04-19T17:19:26.550Z"
   },
   {
    "duration": 6,
    "start_time": "2022-04-19T17:19:26.557Z"
   },
   {
    "duration": 6,
    "start_time": "2022-04-19T17:19:26.565Z"
   },
   {
    "duration": 6,
    "start_time": "2022-04-19T17:19:26.572Z"
   },
   {
    "duration": 5,
    "start_time": "2022-04-19T17:19:26.580Z"
   },
   {
    "duration": 11,
    "start_time": "2022-04-19T17:19:26.587Z"
   },
   {
    "duration": 8,
    "start_time": "2022-04-19T17:19:26.599Z"
   },
   {
    "duration": 15,
    "start_time": "2022-04-19T17:19:26.608Z"
   },
   {
    "duration": 94,
    "start_time": "2022-04-19T17:19:49.795Z"
   },
   {
    "duration": 10,
    "start_time": "2022-04-19T17:20:05.927Z"
   },
   {
    "duration": 3,
    "start_time": "2022-04-19T17:20:18.413Z"
   },
   {
    "duration": 1113,
    "start_time": "2022-04-19T17:20:21.995Z"
   },
   {
    "duration": 34,
    "start_time": "2022-04-19T17:20:23.110Z"
   },
   {
    "duration": 10,
    "start_time": "2022-04-19T17:20:23.146Z"
   },
   {
    "duration": 11,
    "start_time": "2022-04-19T17:20:23.158Z"
   },
   {
    "duration": 12,
    "start_time": "2022-04-19T17:20:23.171Z"
   },
   {
    "duration": 17,
    "start_time": "2022-04-19T17:20:23.184Z"
   },
   {
    "duration": 20,
    "start_time": "2022-04-19T17:20:23.202Z"
   },
   {
    "duration": 17,
    "start_time": "2022-04-19T17:20:23.224Z"
   },
   {
    "duration": 7,
    "start_time": "2022-04-19T17:20:23.243Z"
   },
   {
    "duration": 27,
    "start_time": "2022-04-19T17:20:23.252Z"
   },
   {
    "duration": 5,
    "start_time": "2022-04-19T17:20:23.280Z"
   },
   {
    "duration": 12,
    "start_time": "2022-04-19T17:20:23.286Z"
   },
   {
    "duration": 7,
    "start_time": "2022-04-19T17:20:23.300Z"
   },
   {
    "duration": 18,
    "start_time": "2022-04-19T17:20:23.310Z"
   },
   {
    "duration": 12,
    "start_time": "2022-04-19T17:20:23.329Z"
   },
   {
    "duration": 33,
    "start_time": "2022-04-19T17:20:23.343Z"
   },
   {
    "duration": 12,
    "start_time": "2022-04-19T17:20:23.377Z"
   },
   {
    "duration": 14,
    "start_time": "2022-04-19T17:20:23.391Z"
   },
   {
    "duration": 8,
    "start_time": "2022-04-19T17:20:23.407Z"
   },
   {
    "duration": 10,
    "start_time": "2022-04-19T17:20:23.417Z"
   },
   {
    "duration": 9,
    "start_time": "2022-04-19T17:20:23.429Z"
   },
   {
    "duration": 34,
    "start_time": "2022-04-19T17:20:23.440Z"
   },
   {
    "duration": 8,
    "start_time": "2022-04-19T17:20:23.476Z"
   },
   {
    "duration": 13,
    "start_time": "2022-04-19T17:20:23.486Z"
   },
   {
    "duration": 7,
    "start_time": "2022-04-19T17:20:23.501Z"
   },
   {
    "duration": 12,
    "start_time": "2022-04-19T17:20:23.509Z"
   },
   {
    "duration": 16,
    "start_time": "2022-04-19T17:20:23.522Z"
   },
   {
    "duration": 313,
    "start_time": "2022-04-19T17:20:23.540Z"
   },
   {
    "duration": 19,
    "start_time": "2022-04-19T17:20:23.855Z"
   },
   {
    "duration": 10,
    "start_time": "2022-04-19T17:20:23.875Z"
   },
   {
    "duration": 12,
    "start_time": "2022-04-19T17:20:23.887Z"
   },
   {
    "duration": 11,
    "start_time": "2022-04-19T17:20:23.900Z"
   },
   {
    "duration": 19,
    "start_time": "2022-04-19T17:20:23.913Z"
   },
   {
    "duration": 16,
    "start_time": "2022-04-19T17:20:23.933Z"
   },
   {
    "duration": 357,
    "start_time": "2022-04-19T17:20:23.950Z"
   },
   {
    "duration": 14,
    "start_time": "2022-04-19T17:20:24.309Z"
   },
   {
    "duration": 15,
    "start_time": "2022-04-19T17:20:24.325Z"
   },
   {
    "duration": 13,
    "start_time": "2022-04-19T17:20:24.341Z"
   },
   {
    "duration": 29,
    "start_time": "2022-04-19T17:20:24.355Z"
   },
   {
    "duration": 6,
    "start_time": "2022-04-19T17:20:24.386Z"
   },
   {
    "duration": 218,
    "start_time": "2022-04-19T17:20:24.396Z"
   },
   {
    "duration": 4,
    "start_time": "2022-04-19T17:20:24.616Z"
   },
   {
    "duration": 14,
    "start_time": "2022-04-19T17:20:24.622Z"
   },
   {
    "duration": 13,
    "start_time": "2022-04-19T17:20:24.637Z"
   },
   {
    "duration": 288,
    "start_time": "2022-04-19T17:20:24.652Z"
   },
   {
    "duration": 4,
    "start_time": "2022-04-19T17:20:24.942Z"
   },
   {
    "duration": 178,
    "start_time": "2022-04-19T17:20:24.948Z"
   },
   {
    "duration": 5,
    "start_time": "2022-04-19T17:20:25.128Z"
   },
   {
    "duration": 10,
    "start_time": "2022-04-19T17:20:25.134Z"
   },
   {
    "duration": 9,
    "start_time": "2022-04-19T17:20:25.145Z"
   },
   {
    "duration": 6,
    "start_time": "2022-04-19T17:20:25.155Z"
   },
   {
    "duration": 5,
    "start_time": "2022-04-19T17:20:25.173Z"
   },
   {
    "duration": 12,
    "start_time": "2022-04-19T17:20:25.179Z"
   },
   {
    "duration": 11,
    "start_time": "2022-04-19T17:20:25.192Z"
   },
   {
    "duration": 197,
    "start_time": "2022-04-19T17:20:25.204Z"
   },
   {
    "duration": 5,
    "start_time": "2022-04-19T17:23:14.647Z"
   },
   {
    "duration": 5,
    "start_time": "2022-04-19T17:23:15.262Z"
   },
   {
    "duration": 6,
    "start_time": "2022-04-19T17:23:31.143Z"
   },
   {
    "duration": 92,
    "start_time": "2022-04-19T17:23:38.705Z"
   },
   {
    "duration": 4,
    "start_time": "2022-04-19T17:26:34.667Z"
   },
   {
    "duration": 5,
    "start_time": "2022-04-19T17:26:37.403Z"
   },
   {
    "duration": 1661,
    "start_time": "2022-04-19T17:58:14.183Z"
   },
   {
    "duration": 1718,
    "start_time": "2022-04-19T17:58:30.918Z"
   },
   {
    "duration": 6,
    "start_time": "2022-04-19T17:58:47.247Z"
   },
   {
    "duration": 7,
    "start_time": "2022-04-19T17:59:24.344Z"
   },
   {
    "duration": 5,
    "start_time": "2022-04-19T17:59:41.850Z"
   },
   {
    "duration": 7,
    "start_time": "2022-04-19T18:00:23.072Z"
   },
   {
    "duration": 1122,
    "start_time": "2022-04-19T18:04:05.808Z"
   },
   {
    "duration": 36,
    "start_time": "2022-04-19T18:04:06.932Z"
   },
   {
    "duration": 12,
    "start_time": "2022-04-19T18:04:06.970Z"
   },
   {
    "duration": 13,
    "start_time": "2022-04-19T18:04:06.984Z"
   },
   {
    "duration": 12,
    "start_time": "2022-04-19T18:04:06.999Z"
   },
   {
    "duration": 15,
    "start_time": "2022-04-19T18:04:07.013Z"
   },
   {
    "duration": 16,
    "start_time": "2022-04-19T18:04:07.030Z"
   },
   {
    "duration": 33,
    "start_time": "2022-04-19T18:04:07.049Z"
   },
   {
    "duration": 6,
    "start_time": "2022-04-19T18:04:07.084Z"
   },
   {
    "duration": 16,
    "start_time": "2022-04-19T18:04:07.092Z"
   },
   {
    "duration": 7,
    "start_time": "2022-04-19T18:04:07.110Z"
   },
   {
    "duration": 12,
    "start_time": "2022-04-19T18:04:07.118Z"
   },
   {
    "duration": 9,
    "start_time": "2022-04-19T18:04:07.131Z"
   },
   {
    "duration": 35,
    "start_time": "2022-04-19T18:04:07.141Z"
   },
   {
    "duration": 20,
    "start_time": "2022-04-19T18:04:07.177Z"
   },
   {
    "duration": 13,
    "start_time": "2022-04-19T18:04:07.199Z"
   },
   {
    "duration": 21,
    "start_time": "2022-04-19T18:04:07.213Z"
   },
   {
    "duration": 16,
    "start_time": "2022-04-19T18:04:07.236Z"
   },
   {
    "duration": 19,
    "start_time": "2022-04-19T18:04:07.254Z"
   },
   {
    "duration": 7,
    "start_time": "2022-04-19T18:04:07.275Z"
   },
   {
    "duration": 19,
    "start_time": "2022-04-19T18:04:07.283Z"
   },
   {
    "duration": 13,
    "start_time": "2022-04-19T18:04:07.304Z"
   },
   {
    "duration": 14,
    "start_time": "2022-04-19T18:04:07.319Z"
   },
   {
    "duration": 20,
    "start_time": "2022-04-19T18:04:07.335Z"
   },
   {
    "duration": 7,
    "start_time": "2022-04-19T18:04:07.356Z"
   },
   {
    "duration": 9,
    "start_time": "2022-04-19T18:04:07.374Z"
   },
   {
    "duration": 17,
    "start_time": "2022-04-19T18:04:07.385Z"
   },
   {
    "duration": 327,
    "start_time": "2022-04-19T18:04:07.406Z"
   },
   {
    "duration": 11,
    "start_time": "2022-04-19T18:04:07.735Z"
   },
   {
    "duration": 8,
    "start_time": "2022-04-19T18:04:07.748Z"
   },
   {
    "duration": 11,
    "start_time": "2022-04-19T18:04:07.774Z"
   },
   {
    "duration": 13,
    "start_time": "2022-04-19T18:04:07.786Z"
   },
   {
    "duration": 18,
    "start_time": "2022-04-19T18:04:07.800Z"
   },
   {
    "duration": 24,
    "start_time": "2022-04-19T18:04:07.820Z"
   },
   {
    "duration": 369,
    "start_time": "2022-04-19T18:04:07.845Z"
   },
   {
    "duration": 16,
    "start_time": "2022-04-19T18:04:08.216Z"
   },
   {
    "duration": 18,
    "start_time": "2022-04-19T18:04:08.233Z"
   },
   {
    "duration": 31,
    "start_time": "2022-04-19T18:04:08.253Z"
   },
   {
    "duration": 12,
    "start_time": "2022-04-19T18:04:08.286Z"
   },
   {
    "duration": 8,
    "start_time": "2022-04-19T18:04:08.300Z"
   },
   {
    "duration": 236,
    "start_time": "2022-04-19T18:04:08.310Z"
   },
   {
    "duration": 5,
    "start_time": "2022-04-19T18:04:08.547Z"
   },
   {
    "duration": 19,
    "start_time": "2022-04-19T18:04:08.554Z"
   },
   {
    "duration": 14,
    "start_time": "2022-04-19T18:04:08.575Z"
   },
   {
    "duration": 308,
    "start_time": "2022-04-19T18:04:08.590Z"
   },
   {
    "duration": 5,
    "start_time": "2022-04-19T18:04:08.900Z"
   },
   {
    "duration": 176,
    "start_time": "2022-04-19T18:04:08.907Z"
   },
   {
    "duration": 5,
    "start_time": "2022-04-19T18:04:09.085Z"
   },
   {
    "duration": 7,
    "start_time": "2022-04-19T18:04:09.091Z"
   },
   {
    "duration": 11,
    "start_time": "2022-04-19T18:04:09.100Z"
   },
   {
    "duration": 6,
    "start_time": "2022-04-19T18:04:09.112Z"
   },
   {
    "duration": 7,
    "start_time": "2022-04-19T18:04:09.119Z"
   },
   {
    "duration": 14,
    "start_time": "2022-04-19T18:04:09.128Z"
   },
   {
    "duration": 32,
    "start_time": "2022-04-19T18:04:09.143Z"
   },
   {
    "duration": 196,
    "start_time": "2022-04-19T18:04:09.177Z"
   },
   {
    "duration": 4,
    "start_time": "2022-04-19T18:04:09.375Z"
   },
   {
    "duration": 8,
    "start_time": "2022-04-19T18:04:09.381Z"
   },
   {
    "duration": 7,
    "start_time": "2022-04-19T18:04:09.390Z"
   },
   {
    "duration": 9,
    "start_time": "2022-04-19T18:04:09.399Z"
   },
   {
    "duration": 8,
    "start_time": "2022-04-19T18:04:09.409Z"
   },
   {
    "duration": 6,
    "start_time": "2022-04-19T18:04:09.419Z"
   },
   {
    "duration": 8,
    "start_time": "2022-04-19T18:04:09.427Z"
   },
   {
    "duration": 6,
    "start_time": "2022-04-19T18:04:09.437Z"
   },
   {
    "duration": 312,
    "start_time": "2022-04-19T18:54:43.366Z"
   },
   {
    "duration": 1161,
    "start_time": "2022-04-19T18:54:50.253Z"
   },
   {
    "duration": 43,
    "start_time": "2022-04-19T18:54:51.416Z"
   },
   {
    "duration": 12,
    "start_time": "2022-04-19T18:54:51.461Z"
   },
   {
    "duration": 25,
    "start_time": "2022-04-19T18:54:51.480Z"
   },
   {
    "duration": 13,
    "start_time": "2022-04-19T18:54:51.507Z"
   },
   {
    "duration": 20,
    "start_time": "2022-04-19T18:54:51.521Z"
   },
   {
    "duration": 25,
    "start_time": "2022-04-19T18:54:51.544Z"
   },
   {
    "duration": 32,
    "start_time": "2022-04-19T18:54:51.571Z"
   },
   {
    "duration": 9,
    "start_time": "2022-04-19T18:54:51.605Z"
   },
   {
    "duration": 8,
    "start_time": "2022-04-19T18:54:51.615Z"
   },
   {
    "duration": 6,
    "start_time": "2022-04-19T18:54:51.624Z"
   },
   {
    "duration": 12,
    "start_time": "2022-04-19T18:54:51.632Z"
   },
   {
    "duration": 30,
    "start_time": "2022-04-19T18:54:51.645Z"
   },
   {
    "duration": 21,
    "start_time": "2022-04-19T18:54:51.682Z"
   },
   {
    "duration": 18,
    "start_time": "2022-04-19T18:54:51.705Z"
   },
   {
    "duration": 12,
    "start_time": "2022-04-19T18:54:51.725Z"
   },
   {
    "duration": 22,
    "start_time": "2022-04-19T18:54:51.739Z"
   },
   {
    "duration": 21,
    "start_time": "2022-04-19T18:54:51.763Z"
   },
   {
    "duration": 25,
    "start_time": "2022-04-19T18:54:51.787Z"
   },
   {
    "duration": 12,
    "start_time": "2022-04-19T18:54:51.814Z"
   },
   {
    "duration": 16,
    "start_time": "2022-04-19T18:54:51.828Z"
   },
   {
    "duration": 20,
    "start_time": "2022-04-19T18:54:51.846Z"
   },
   {
    "duration": 37,
    "start_time": "2022-04-19T18:54:51.868Z"
   },
   {
    "duration": 316,
    "start_time": "2022-04-19T18:54:51.907Z"
   },
   {
    "duration": 0,
    "start_time": "2022-04-19T18:54:52.226Z"
   },
   {
    "duration": 0,
    "start_time": "2022-04-19T18:54:52.227Z"
   },
   {
    "duration": 0,
    "start_time": "2022-04-19T18:54:52.228Z"
   },
   {
    "duration": 0,
    "start_time": "2022-04-19T18:54:52.230Z"
   },
   {
    "duration": 0,
    "start_time": "2022-04-19T18:54:52.230Z"
   },
   {
    "duration": 0,
    "start_time": "2022-04-19T18:54:52.232Z"
   },
   {
    "duration": 0,
    "start_time": "2022-04-19T18:54:52.233Z"
   },
   {
    "duration": 0,
    "start_time": "2022-04-19T18:54:52.234Z"
   },
   {
    "duration": 0,
    "start_time": "2022-04-19T18:54:52.235Z"
   },
   {
    "duration": 0,
    "start_time": "2022-04-19T18:54:52.235Z"
   },
   {
    "duration": 0,
    "start_time": "2022-04-19T18:54:52.237Z"
   },
   {
    "duration": 0,
    "start_time": "2022-04-19T18:54:52.238Z"
   },
   {
    "duration": 0,
    "start_time": "2022-04-19T18:54:52.239Z"
   },
   {
    "duration": 0,
    "start_time": "2022-04-19T18:54:52.240Z"
   },
   {
    "duration": 0,
    "start_time": "2022-04-19T18:54:52.241Z"
   },
   {
    "duration": 0,
    "start_time": "2022-04-19T18:54:52.276Z"
   },
   {
    "duration": 0,
    "start_time": "2022-04-19T18:54:52.277Z"
   },
   {
    "duration": 0,
    "start_time": "2022-04-19T18:54:52.281Z"
   },
   {
    "duration": 0,
    "start_time": "2022-04-19T18:54:52.282Z"
   },
   {
    "duration": 0,
    "start_time": "2022-04-19T18:54:52.284Z"
   },
   {
    "duration": 0,
    "start_time": "2022-04-19T18:54:52.285Z"
   },
   {
    "duration": 0,
    "start_time": "2022-04-19T18:54:52.287Z"
   },
   {
    "duration": 0,
    "start_time": "2022-04-19T18:54:52.290Z"
   },
   {
    "duration": 0,
    "start_time": "2022-04-19T18:54:52.292Z"
   },
   {
    "duration": 0,
    "start_time": "2022-04-19T18:54:52.293Z"
   },
   {
    "duration": 0,
    "start_time": "2022-04-19T18:54:52.294Z"
   },
   {
    "duration": 0,
    "start_time": "2022-04-19T18:54:52.295Z"
   },
   {
    "duration": 0,
    "start_time": "2022-04-19T18:54:52.296Z"
   },
   {
    "duration": 0,
    "start_time": "2022-04-19T18:54:52.298Z"
   },
   {
    "duration": 0,
    "start_time": "2022-04-19T18:54:52.299Z"
   },
   {
    "duration": 0,
    "start_time": "2022-04-19T18:54:52.299Z"
   },
   {
    "duration": 0,
    "start_time": "2022-04-19T18:54:52.300Z"
   },
   {
    "duration": 0,
    "start_time": "2022-04-19T18:54:52.301Z"
   },
   {
    "duration": 0,
    "start_time": "2022-04-19T18:54:52.302Z"
   },
   {
    "duration": 0,
    "start_time": "2022-04-19T18:54:52.303Z"
   },
   {
    "duration": 1409,
    "start_time": "2022-04-19T18:56:47.651Z"
   },
   {
    "duration": 72,
    "start_time": "2022-04-19T18:56:49.063Z"
   },
   {
    "duration": 18,
    "start_time": "2022-04-19T18:56:49.137Z"
   },
   {
    "duration": 22,
    "start_time": "2022-04-19T18:56:49.158Z"
   },
   {
    "duration": 44,
    "start_time": "2022-04-19T18:56:49.186Z"
   },
   {
    "duration": 35,
    "start_time": "2022-04-19T18:56:49.233Z"
   },
   {
    "duration": 62,
    "start_time": "2022-04-19T18:56:49.270Z"
   },
   {
    "duration": 22,
    "start_time": "2022-04-19T18:56:49.334Z"
   },
   {
    "duration": 10,
    "start_time": "2022-04-19T18:56:49.359Z"
   },
   {
    "duration": 41,
    "start_time": "2022-04-19T18:56:49.372Z"
   },
   {
    "duration": 22,
    "start_time": "2022-04-19T18:56:49.416Z"
   },
   {
    "duration": 16,
    "start_time": "2022-04-19T18:56:49.441Z"
   },
   {
    "duration": 10,
    "start_time": "2022-04-19T18:56:49.459Z"
   },
   {
    "duration": 50,
    "start_time": "2022-04-19T18:56:49.482Z"
   },
   {
    "duration": 15,
    "start_time": "2022-04-19T18:56:49.534Z"
   },
   {
    "duration": 10,
    "start_time": "2022-04-19T18:56:49.551Z"
   },
   {
    "duration": 22,
    "start_time": "2022-04-19T18:56:49.563Z"
   },
   {
    "duration": 42,
    "start_time": "2022-04-19T18:56:49.588Z"
   },
   {
    "duration": 123,
    "start_time": "2022-04-19T18:56:49.632Z"
   },
   {
    "duration": 0,
    "start_time": "2022-04-19T18:56:49.758Z"
   },
   {
    "duration": 0,
    "start_time": "2022-04-19T18:56:49.759Z"
   },
   {
    "duration": 0,
    "start_time": "2022-04-19T18:56:49.760Z"
   },
   {
    "duration": 0,
    "start_time": "2022-04-19T18:56:49.761Z"
   },
   {
    "duration": 0,
    "start_time": "2022-04-19T18:56:49.762Z"
   },
   {
    "duration": 0,
    "start_time": "2022-04-19T18:56:49.763Z"
   },
   {
    "duration": 0,
    "start_time": "2022-04-19T18:56:49.764Z"
   },
   {
    "duration": 0,
    "start_time": "2022-04-19T18:56:49.766Z"
   },
   {
    "duration": 0,
    "start_time": "2022-04-19T18:56:49.766Z"
   },
   {
    "duration": 0,
    "start_time": "2022-04-19T18:56:49.768Z"
   },
   {
    "duration": 0,
    "start_time": "2022-04-19T18:56:49.772Z"
   },
   {
    "duration": 0,
    "start_time": "2022-04-19T18:56:49.773Z"
   },
   {
    "duration": 0,
    "start_time": "2022-04-19T18:56:49.774Z"
   },
   {
    "duration": 0,
    "start_time": "2022-04-19T18:56:49.774Z"
   },
   {
    "duration": 0,
    "start_time": "2022-04-19T18:56:49.775Z"
   },
   {
    "duration": 0,
    "start_time": "2022-04-19T18:56:49.776Z"
   },
   {
    "duration": 0,
    "start_time": "2022-04-19T18:56:49.779Z"
   },
   {
    "duration": 0,
    "start_time": "2022-04-19T18:56:49.779Z"
   },
   {
    "duration": 0,
    "start_time": "2022-04-19T18:56:49.781Z"
   },
   {
    "duration": 0,
    "start_time": "2022-04-19T18:56:49.782Z"
   },
   {
    "duration": 0,
    "start_time": "2022-04-19T18:56:49.783Z"
   },
   {
    "duration": 0,
    "start_time": "2022-04-19T18:56:49.784Z"
   },
   {
    "duration": 0,
    "start_time": "2022-04-19T18:56:49.786Z"
   },
   {
    "duration": 0,
    "start_time": "2022-04-19T18:56:49.787Z"
   },
   {
    "duration": 0,
    "start_time": "2022-04-19T18:56:49.788Z"
   },
   {
    "duration": 0,
    "start_time": "2022-04-19T18:56:49.789Z"
   },
   {
    "duration": 0,
    "start_time": "2022-04-19T18:56:49.791Z"
   },
   {
    "duration": 0,
    "start_time": "2022-04-19T18:56:49.792Z"
   },
   {
    "duration": 0,
    "start_time": "2022-04-19T18:56:49.794Z"
   },
   {
    "duration": 0,
    "start_time": "2022-04-19T18:56:49.795Z"
   },
   {
    "duration": 0,
    "start_time": "2022-04-19T18:56:49.797Z"
   },
   {
    "duration": 0,
    "start_time": "2022-04-19T18:56:49.798Z"
   },
   {
    "duration": 0,
    "start_time": "2022-04-19T18:56:49.800Z"
   },
   {
    "duration": 0,
    "start_time": "2022-04-19T18:56:49.801Z"
   },
   {
    "duration": 0,
    "start_time": "2022-04-19T18:56:49.802Z"
   },
   {
    "duration": 0,
    "start_time": "2022-04-19T18:56:49.804Z"
   },
   {
    "duration": 0,
    "start_time": "2022-04-19T18:56:49.805Z"
   },
   {
    "duration": 0,
    "start_time": "2022-04-19T18:56:49.807Z"
   },
   {
    "duration": 0,
    "start_time": "2022-04-19T18:56:49.809Z"
   },
   {
    "duration": 0,
    "start_time": "2022-04-19T18:56:49.810Z"
   },
   {
    "duration": 1310,
    "start_time": "2022-04-19T18:57:40.849Z"
   },
   {
    "duration": 77,
    "start_time": "2022-04-19T18:57:42.161Z"
   },
   {
    "duration": 18,
    "start_time": "2022-04-19T18:57:42.241Z"
   },
   {
    "duration": 22,
    "start_time": "2022-04-19T18:57:42.262Z"
   },
   {
    "duration": 18,
    "start_time": "2022-04-19T18:57:42.286Z"
   },
   {
    "duration": 35,
    "start_time": "2022-04-19T18:57:42.306Z"
   },
   {
    "duration": 14,
    "start_time": "2022-04-19T18:57:42.343Z"
   },
   {
    "duration": 34,
    "start_time": "2022-04-19T18:57:42.359Z"
   },
   {
    "duration": 8,
    "start_time": "2022-04-19T18:57:42.395Z"
   },
   {
    "duration": 28,
    "start_time": "2022-04-19T18:57:42.407Z"
   },
   {
    "duration": 5,
    "start_time": "2022-04-19T18:57:42.438Z"
   },
   {
    "duration": 13,
    "start_time": "2022-04-19T18:57:42.445Z"
   },
   {
    "duration": 15,
    "start_time": "2022-04-19T18:57:42.474Z"
   },
   {
    "duration": 41,
    "start_time": "2022-04-19T18:57:42.492Z"
   },
   {
    "duration": 17,
    "start_time": "2022-04-19T18:57:42.535Z"
   },
   {
    "duration": 25,
    "start_time": "2022-04-19T18:57:42.554Z"
   },
   {
    "duration": 42,
    "start_time": "2022-04-19T18:57:42.584Z"
   },
   {
    "duration": 18,
    "start_time": "2022-04-19T18:57:42.629Z"
   },
   {
    "duration": 9,
    "start_time": "2022-04-19T18:57:42.649Z"
   },
   {
    "duration": 159,
    "start_time": "2022-04-19T18:57:42.661Z"
   },
   {
    "duration": 0,
    "start_time": "2022-04-19T18:57:42.824Z"
   },
   {
    "duration": 0,
    "start_time": "2022-04-19T18:57:42.825Z"
   },
   {
    "duration": 0,
    "start_time": "2022-04-19T18:57:42.826Z"
   },
   {
    "duration": 0,
    "start_time": "2022-04-19T18:57:42.828Z"
   },
   {
    "duration": 0,
    "start_time": "2022-04-19T18:57:42.829Z"
   },
   {
    "duration": 0,
    "start_time": "2022-04-19T18:57:42.831Z"
   },
   {
    "duration": 0,
    "start_time": "2022-04-19T18:57:42.832Z"
   },
   {
    "duration": 0,
    "start_time": "2022-04-19T18:57:42.833Z"
   },
   {
    "duration": 0,
    "start_time": "2022-04-19T18:57:42.834Z"
   },
   {
    "duration": 0,
    "start_time": "2022-04-19T18:57:42.836Z"
   },
   {
    "duration": 0,
    "start_time": "2022-04-19T18:57:42.836Z"
   },
   {
    "duration": 0,
    "start_time": "2022-04-19T18:57:42.837Z"
   },
   {
    "duration": 0,
    "start_time": "2022-04-19T18:57:42.838Z"
   },
   {
    "duration": 0,
    "start_time": "2022-04-19T18:57:42.839Z"
   },
   {
    "duration": 0,
    "start_time": "2022-04-19T18:57:42.840Z"
   },
   {
    "duration": 0,
    "start_time": "2022-04-19T18:57:42.841Z"
   },
   {
    "duration": 0,
    "start_time": "2022-04-19T18:57:42.842Z"
   },
   {
    "duration": 0,
    "start_time": "2022-04-19T18:57:42.843Z"
   },
   {
    "duration": 0,
    "start_time": "2022-04-19T18:57:42.845Z"
   },
   {
    "duration": 0,
    "start_time": "2022-04-19T18:57:42.878Z"
   },
   {
    "duration": 0,
    "start_time": "2022-04-19T18:57:42.882Z"
   },
   {
    "duration": 0,
    "start_time": "2022-04-19T18:57:42.885Z"
   },
   {
    "duration": 0,
    "start_time": "2022-04-19T18:57:42.886Z"
   },
   {
    "duration": 0,
    "start_time": "2022-04-19T18:57:42.888Z"
   },
   {
    "duration": 0,
    "start_time": "2022-04-19T18:57:42.891Z"
   },
   {
    "duration": 0,
    "start_time": "2022-04-19T18:57:42.893Z"
   },
   {
    "duration": 0,
    "start_time": "2022-04-19T18:57:42.896Z"
   },
   {
    "duration": 0,
    "start_time": "2022-04-19T18:57:42.897Z"
   },
   {
    "duration": 0,
    "start_time": "2022-04-19T18:57:42.899Z"
   },
   {
    "duration": 0,
    "start_time": "2022-04-19T18:57:42.901Z"
   },
   {
    "duration": 0,
    "start_time": "2022-04-19T18:57:42.904Z"
   },
   {
    "duration": 0,
    "start_time": "2022-04-19T18:57:42.906Z"
   },
   {
    "duration": 0,
    "start_time": "2022-04-19T18:57:42.909Z"
   },
   {
    "duration": 0,
    "start_time": "2022-04-19T18:57:42.910Z"
   },
   {
    "duration": 0,
    "start_time": "2022-04-19T18:57:42.914Z"
   },
   {
    "duration": 0,
    "start_time": "2022-04-19T18:57:42.915Z"
   },
   {
    "duration": 0,
    "start_time": "2022-04-19T18:57:42.917Z"
   },
   {
    "duration": 0,
    "start_time": "2022-04-19T18:57:42.920Z"
   },
   {
    "duration": 0,
    "start_time": "2022-04-19T18:57:42.921Z"
   },
   {
    "duration": 1616,
    "start_time": "2022-04-19T18:57:54.302Z"
   },
   {
    "duration": 589,
    "start_time": "2022-04-19T18:57:55.925Z"
   },
   {
    "duration": 25,
    "start_time": "2022-04-19T18:57:56.521Z"
   },
   {
    "duration": 38,
    "start_time": "2022-04-19T18:57:56.553Z"
   },
   {
    "duration": 48,
    "start_time": "2022-04-19T18:57:56.600Z"
   },
   {
    "duration": 22,
    "start_time": "2022-04-19T18:57:56.655Z"
   },
   {
    "duration": 82,
    "start_time": "2022-04-19T18:57:56.679Z"
   },
   {
    "duration": 50,
    "start_time": "2022-04-19T18:57:56.764Z"
   },
   {
    "duration": 35,
    "start_time": "2022-04-19T18:57:56.817Z"
   },
   {
    "duration": 17,
    "start_time": "2022-04-19T18:57:56.854Z"
   },
   {
    "duration": 58,
    "start_time": "2022-04-19T18:57:56.873Z"
   },
   {
    "duration": 21,
    "start_time": "2022-04-19T18:57:56.933Z"
   },
   {
    "duration": 21,
    "start_time": "2022-04-19T18:57:56.957Z"
   },
   {
    "duration": 87,
    "start_time": "2022-04-19T18:57:56.984Z"
   },
   {
    "duration": 76,
    "start_time": "2022-04-19T18:57:57.074Z"
   },
   {
    "duration": 19,
    "start_time": "2022-04-19T18:57:57.153Z"
   },
   {
    "duration": 71,
    "start_time": "2022-04-19T18:57:57.180Z"
   },
   {
    "duration": 27,
    "start_time": "2022-04-19T18:57:57.255Z"
   },
   {
    "duration": 61,
    "start_time": "2022-04-19T18:57:57.286Z"
   },
   {
    "duration": 180,
    "start_time": "2022-04-19T18:57:57.349Z"
   },
   {
    "duration": 0,
    "start_time": "2022-04-19T18:57:57.537Z"
   },
   {
    "duration": 0,
    "start_time": "2022-04-19T18:57:57.540Z"
   },
   {
    "duration": 0,
    "start_time": "2022-04-19T18:57:57.542Z"
   },
   {
    "duration": 0,
    "start_time": "2022-04-19T18:57:57.543Z"
   },
   {
    "duration": 0,
    "start_time": "2022-04-19T18:57:57.548Z"
   },
   {
    "duration": 0,
    "start_time": "2022-04-19T18:57:57.549Z"
   },
   {
    "duration": 0,
    "start_time": "2022-04-19T18:57:57.550Z"
   },
   {
    "duration": 0,
    "start_time": "2022-04-19T18:57:57.552Z"
   },
   {
    "duration": 0,
    "start_time": "2022-04-19T18:57:57.553Z"
   },
   {
    "duration": 0,
    "start_time": "2022-04-19T18:57:57.554Z"
   },
   {
    "duration": 0,
    "start_time": "2022-04-19T18:57:57.555Z"
   },
   {
    "duration": 0,
    "start_time": "2022-04-19T18:57:57.557Z"
   },
   {
    "duration": 0,
    "start_time": "2022-04-19T18:57:57.559Z"
   },
   {
    "duration": 0,
    "start_time": "2022-04-19T18:57:57.560Z"
   },
   {
    "duration": 0,
    "start_time": "2022-04-19T18:57:57.586Z"
   },
   {
    "duration": 1,
    "start_time": "2022-04-19T18:57:57.588Z"
   },
   {
    "duration": 1,
    "start_time": "2022-04-19T18:57:57.590Z"
   },
   {
    "duration": 0,
    "start_time": "2022-04-19T18:57:57.592Z"
   },
   {
    "duration": 0,
    "start_time": "2022-04-19T18:57:57.594Z"
   },
   {
    "duration": 0,
    "start_time": "2022-04-19T18:57:57.596Z"
   },
   {
    "duration": 0,
    "start_time": "2022-04-19T18:57:57.598Z"
   },
   {
    "duration": 0,
    "start_time": "2022-04-19T18:57:57.600Z"
   },
   {
    "duration": 0,
    "start_time": "2022-04-19T18:57:57.601Z"
   },
   {
    "duration": 0,
    "start_time": "2022-04-19T18:57:57.603Z"
   },
   {
    "duration": 0,
    "start_time": "2022-04-19T18:57:57.605Z"
   },
   {
    "duration": 0,
    "start_time": "2022-04-19T18:57:57.607Z"
   },
   {
    "duration": 0,
    "start_time": "2022-04-19T18:57:57.609Z"
   },
   {
    "duration": 0,
    "start_time": "2022-04-19T18:57:57.611Z"
   },
   {
    "duration": 0,
    "start_time": "2022-04-19T18:57:57.613Z"
   },
   {
    "duration": 0,
    "start_time": "2022-04-19T18:57:57.615Z"
   },
   {
    "duration": 0,
    "start_time": "2022-04-19T18:57:57.618Z"
   },
   {
    "duration": 0,
    "start_time": "2022-04-19T18:57:57.620Z"
   },
   {
    "duration": 0,
    "start_time": "2022-04-19T18:57:57.622Z"
   },
   {
    "duration": 0,
    "start_time": "2022-04-19T18:57:57.624Z"
   },
   {
    "duration": 0,
    "start_time": "2022-04-19T18:57:57.627Z"
   },
   {
    "duration": 0,
    "start_time": "2022-04-19T18:57:57.629Z"
   },
   {
    "duration": 0,
    "start_time": "2022-04-19T18:57:57.631Z"
   },
   {
    "duration": 0,
    "start_time": "2022-04-19T18:57:57.633Z"
   },
   {
    "duration": 0,
    "start_time": "2022-04-19T18:57:57.634Z"
   },
   {
    "duration": 15,
    "start_time": "2022-04-19T18:58:26.500Z"
   },
   {
    "duration": 10,
    "start_time": "2022-04-19T18:58:29.902Z"
   },
   {
    "duration": 14,
    "start_time": "2022-04-19T18:58:30.671Z"
   },
   {
    "duration": 12,
    "start_time": "2022-04-19T18:58:31.500Z"
   },
   {
    "duration": 11,
    "start_time": "2022-04-19T18:58:32.404Z"
   },
   {
    "duration": 852,
    "start_time": "2022-04-19T18:58:34.543Z"
   },
   {
    "duration": 765,
    "start_time": "2022-04-19T18:59:02.400Z"
   },
   {
    "duration": 744,
    "start_time": "2022-04-19T18:59:13.770Z"
   },
   {
    "duration": 1294,
    "start_time": "2022-04-19T19:00:43.263Z"
   },
   {
    "duration": 67,
    "start_time": "2022-04-19T19:00:44.560Z"
   },
   {
    "duration": 15,
    "start_time": "2022-04-19T19:00:44.629Z"
   },
   {
    "duration": 32,
    "start_time": "2022-04-19T19:00:44.647Z"
   },
   {
    "duration": 36,
    "start_time": "2022-04-19T19:00:44.683Z"
   },
   {
    "duration": 22,
    "start_time": "2022-04-19T19:00:44.722Z"
   },
   {
    "duration": 19,
    "start_time": "2022-04-19T19:00:44.746Z"
   },
   {
    "duration": 47,
    "start_time": "2022-04-19T19:00:44.767Z"
   },
   {
    "duration": 11,
    "start_time": "2022-04-19T19:00:44.816Z"
   },
   {
    "duration": 11,
    "start_time": "2022-04-19T19:00:44.829Z"
   },
   {
    "duration": 11,
    "start_time": "2022-04-19T19:00:44.843Z"
   },
   {
    "duration": 19,
    "start_time": "2022-04-19T19:00:44.857Z"
   },
   {
    "duration": 24,
    "start_time": "2022-04-19T19:00:44.880Z"
   },
   {
    "duration": 16,
    "start_time": "2022-04-19T19:00:44.908Z"
   },
   {
    "duration": 21,
    "start_time": "2022-04-19T19:00:44.926Z"
   },
   {
    "duration": 27,
    "start_time": "2022-04-19T19:00:44.950Z"
   },
   {
    "duration": 48,
    "start_time": "2022-04-19T19:00:44.981Z"
   },
   {
    "duration": 30,
    "start_time": "2022-04-19T19:00:45.031Z"
   },
   {
    "duration": 16,
    "start_time": "2022-04-19T19:00:45.063Z"
   },
   {
    "duration": 31,
    "start_time": "2022-04-19T19:00:45.087Z"
   },
   {
    "duration": 13,
    "start_time": "2022-04-19T19:00:45.120Z"
   },
   {
    "duration": 12,
    "start_time": "2022-04-19T19:00:45.135Z"
   },
   {
    "duration": 10,
    "start_time": "2022-04-19T19:00:45.150Z"
   },
   {
    "duration": 794,
    "start_time": "2022-04-19T19:00:45.162Z"
   },
   {
    "duration": 23,
    "start_time": "2022-04-19T19:00:45.957Z"
   },
   {
    "duration": 36,
    "start_time": "2022-04-19T19:00:45.982Z"
   },
   {
    "duration": 26,
    "start_time": "2022-04-19T19:00:46.022Z"
   },
   {
    "duration": 18,
    "start_time": "2022-04-19T19:00:46.051Z"
   },
   {
    "duration": 164,
    "start_time": "2022-04-19T19:00:46.071Z"
   },
   {
    "duration": 0,
    "start_time": "2022-04-19T19:00:46.238Z"
   },
   {
    "duration": 0,
    "start_time": "2022-04-19T19:00:46.239Z"
   },
   {
    "duration": 0,
    "start_time": "2022-04-19T19:00:46.241Z"
   },
   {
    "duration": 0,
    "start_time": "2022-04-19T19:00:46.242Z"
   },
   {
    "duration": 0,
    "start_time": "2022-04-19T19:00:46.243Z"
   },
   {
    "duration": 0,
    "start_time": "2022-04-19T19:00:46.244Z"
   },
   {
    "duration": 0,
    "start_time": "2022-04-19T19:00:46.245Z"
   },
   {
    "duration": 1,
    "start_time": "2022-04-19T19:00:46.246Z"
   },
   {
    "duration": 0,
    "start_time": "2022-04-19T19:00:46.248Z"
   },
   {
    "duration": 1,
    "start_time": "2022-04-19T19:00:46.248Z"
   },
   {
    "duration": 0,
    "start_time": "2022-04-19T19:00:46.249Z"
   },
   {
    "duration": 0,
    "start_time": "2022-04-19T19:00:46.250Z"
   },
   {
    "duration": 0,
    "start_time": "2022-04-19T19:00:46.252Z"
   },
   {
    "duration": 0,
    "start_time": "2022-04-19T19:00:46.273Z"
   },
   {
    "duration": 0,
    "start_time": "2022-04-19T19:00:46.274Z"
   },
   {
    "duration": 0,
    "start_time": "2022-04-19T19:00:46.275Z"
   },
   {
    "duration": 0,
    "start_time": "2022-04-19T19:00:46.276Z"
   },
   {
    "duration": 0,
    "start_time": "2022-04-19T19:00:46.278Z"
   },
   {
    "duration": 0,
    "start_time": "2022-04-19T19:00:46.279Z"
   },
   {
    "duration": 0,
    "start_time": "2022-04-19T19:00:46.280Z"
   },
   {
    "duration": 0,
    "start_time": "2022-04-19T19:00:46.281Z"
   },
   {
    "duration": 0,
    "start_time": "2022-04-19T19:00:46.282Z"
   },
   {
    "duration": 0,
    "start_time": "2022-04-19T19:00:46.283Z"
   },
   {
    "duration": 0,
    "start_time": "2022-04-19T19:00:46.285Z"
   },
   {
    "duration": 0,
    "start_time": "2022-04-19T19:00:46.286Z"
   },
   {
    "duration": 0,
    "start_time": "2022-04-19T19:00:46.287Z"
   },
   {
    "duration": 0,
    "start_time": "2022-04-19T19:00:46.287Z"
   },
   {
    "duration": 0,
    "start_time": "2022-04-19T19:00:46.289Z"
   },
   {
    "duration": 0,
    "start_time": "2022-04-19T19:00:46.290Z"
   },
   {
    "duration": 0,
    "start_time": "2022-04-19T19:00:46.292Z"
   },
   {
    "duration": 1397,
    "start_time": "2022-04-19T19:02:21.924Z"
   },
   {
    "duration": 43,
    "start_time": "2022-04-19T19:02:23.323Z"
   },
   {
    "duration": 27,
    "start_time": "2022-04-19T19:02:23.367Z"
   },
   {
    "duration": 31,
    "start_time": "2022-04-19T19:02:23.398Z"
   },
   {
    "duration": 22,
    "start_time": "2022-04-19T19:02:23.433Z"
   },
   {
    "duration": 29,
    "start_time": "2022-04-19T19:02:23.458Z"
   },
   {
    "duration": 48,
    "start_time": "2022-04-19T19:02:23.490Z"
   },
   {
    "duration": 17,
    "start_time": "2022-04-19T19:02:23.540Z"
   },
   {
    "duration": 10,
    "start_time": "2022-04-19T19:02:23.559Z"
   },
   {
    "duration": 27,
    "start_time": "2022-04-19T19:02:23.571Z"
   },
   {
    "duration": 36,
    "start_time": "2022-04-19T19:02:23.601Z"
   },
   {
    "duration": 30,
    "start_time": "2022-04-19T19:02:23.639Z"
   },
   {
    "duration": 47,
    "start_time": "2022-04-19T19:02:23.670Z"
   },
   {
    "duration": 25,
    "start_time": "2022-04-19T19:02:23.722Z"
   },
   {
    "duration": 31,
    "start_time": "2022-04-19T19:02:23.749Z"
   },
   {
    "duration": 51,
    "start_time": "2022-04-19T19:02:23.782Z"
   },
   {
    "duration": 28,
    "start_time": "2022-04-19T19:02:23.835Z"
   },
   {
    "duration": 25,
    "start_time": "2022-04-19T19:02:23.865Z"
   },
   {
    "duration": 36,
    "start_time": "2022-04-19T19:02:23.892Z"
   },
   {
    "duration": 29,
    "start_time": "2022-04-19T19:02:23.930Z"
   },
   {
    "duration": 51,
    "start_time": "2022-04-19T19:02:23.961Z"
   },
   {
    "duration": 16,
    "start_time": "2022-04-19T19:02:24.014Z"
   },
   {
    "duration": 26,
    "start_time": "2022-04-19T19:02:24.032Z"
   },
   {
    "duration": 860,
    "start_time": "2022-04-19T19:02:24.060Z"
   },
   {
    "duration": 13,
    "start_time": "2022-04-19T19:02:24.922Z"
   },
   {
    "duration": 73,
    "start_time": "2022-04-19T19:02:24.938Z"
   },
   {
    "duration": 46,
    "start_time": "2022-04-19T19:02:25.013Z"
   },
   {
    "duration": 54,
    "start_time": "2022-04-19T19:02:25.061Z"
   },
   {
    "duration": 125,
    "start_time": "2022-04-19T19:02:25.117Z"
   },
   {
    "duration": 0,
    "start_time": "2022-04-19T19:02:25.245Z"
   },
   {
    "duration": 0,
    "start_time": "2022-04-19T19:02:25.246Z"
   },
   {
    "duration": 0,
    "start_time": "2022-04-19T19:02:25.247Z"
   },
   {
    "duration": 0,
    "start_time": "2022-04-19T19:02:25.249Z"
   },
   {
    "duration": 0,
    "start_time": "2022-04-19T19:02:25.250Z"
   },
   {
    "duration": 0,
    "start_time": "2022-04-19T19:02:25.251Z"
   },
   {
    "duration": 0,
    "start_time": "2022-04-19T19:02:25.252Z"
   },
   {
    "duration": 0,
    "start_time": "2022-04-19T19:02:25.253Z"
   },
   {
    "duration": 0,
    "start_time": "2022-04-19T19:02:25.255Z"
   },
   {
    "duration": 0,
    "start_time": "2022-04-19T19:02:25.256Z"
   },
   {
    "duration": 0,
    "start_time": "2022-04-19T19:02:25.257Z"
   },
   {
    "duration": 0,
    "start_time": "2022-04-19T19:02:25.258Z"
   },
   {
    "duration": 0,
    "start_time": "2022-04-19T19:02:25.260Z"
   },
   {
    "duration": 0,
    "start_time": "2022-04-19T19:02:25.274Z"
   },
   {
    "duration": 0,
    "start_time": "2022-04-19T19:02:25.275Z"
   },
   {
    "duration": 0,
    "start_time": "2022-04-19T19:02:25.277Z"
   },
   {
    "duration": 0,
    "start_time": "2022-04-19T19:02:25.282Z"
   },
   {
    "duration": 0,
    "start_time": "2022-04-19T19:02:25.284Z"
   },
   {
    "duration": 0,
    "start_time": "2022-04-19T19:02:25.285Z"
   },
   {
    "duration": 1,
    "start_time": "2022-04-19T19:02:25.286Z"
   },
   {
    "duration": 0,
    "start_time": "2022-04-19T19:02:25.287Z"
   },
   {
    "duration": 0,
    "start_time": "2022-04-19T19:02:25.288Z"
   },
   {
    "duration": 1,
    "start_time": "2022-04-19T19:02:25.288Z"
   },
   {
    "duration": 0,
    "start_time": "2022-04-19T19:02:25.291Z"
   },
   {
    "duration": 0,
    "start_time": "2022-04-19T19:02:25.293Z"
   },
   {
    "duration": 0,
    "start_time": "2022-04-19T19:02:25.295Z"
   },
   {
    "duration": 0,
    "start_time": "2022-04-19T19:02:25.296Z"
   },
   {
    "duration": 0,
    "start_time": "2022-04-19T19:02:25.297Z"
   },
   {
    "duration": 0,
    "start_time": "2022-04-19T19:02:25.298Z"
   },
   {
    "duration": 0,
    "start_time": "2022-04-19T19:02:25.298Z"
   },
   {
    "duration": 306,
    "start_time": "2022-04-19T19:06:13.344Z"
   },
   {
    "duration": 356,
    "start_time": "2022-04-19T19:08:19.720Z"
   },
   {
    "duration": 33,
    "start_time": "2022-04-19T19:10:08.367Z"
   },
   {
    "duration": 17,
    "start_time": "2022-04-19T19:10:27.228Z"
   },
   {
    "duration": 225,
    "start_time": "2022-04-19T19:14:43.826Z"
   },
   {
    "duration": 389,
    "start_time": "2022-04-19T19:17:24.869Z"
   },
   {
    "duration": 276,
    "start_time": "2022-04-19T19:18:42.447Z"
   },
   {
    "duration": 289,
    "start_time": "2022-04-19T19:18:59.170Z"
   },
   {
    "duration": 5,
    "start_time": "2022-04-19T19:19:09.161Z"
   },
   {
    "duration": 5,
    "start_time": "2022-04-19T19:19:28.488Z"
   },
   {
    "duration": 123,
    "start_time": "2022-04-19T19:20:35.820Z"
   },
   {
    "duration": 315,
    "start_time": "2022-04-19T19:20:47.333Z"
   },
   {
    "duration": 269,
    "start_time": "2022-04-19T19:21:12.945Z"
   },
   {
    "duration": 546,
    "start_time": "2022-04-19T19:24:11.907Z"
   },
   {
    "duration": 1111,
    "start_time": "2022-04-19T19:24:43.823Z"
   },
   {
    "duration": 37,
    "start_time": "2022-04-19T19:24:44.936Z"
   },
   {
    "duration": 10,
    "start_time": "2022-04-19T19:24:44.975Z"
   },
   {
    "duration": 19,
    "start_time": "2022-04-19T19:24:44.987Z"
   },
   {
    "duration": 18,
    "start_time": "2022-04-19T19:24:45.009Z"
   },
   {
    "duration": 21,
    "start_time": "2022-04-19T19:24:45.029Z"
   },
   {
    "duration": 29,
    "start_time": "2022-04-19T19:24:45.052Z"
   },
   {
    "duration": 16,
    "start_time": "2022-04-19T19:24:45.082Z"
   },
   {
    "duration": 11,
    "start_time": "2022-04-19T19:24:45.099Z"
   },
   {
    "duration": 7,
    "start_time": "2022-04-19T19:24:45.111Z"
   },
   {
    "duration": 4,
    "start_time": "2022-04-19T19:24:45.120Z"
   },
   {
    "duration": 11,
    "start_time": "2022-04-19T19:24:45.126Z"
   },
   {
    "duration": 12,
    "start_time": "2022-04-19T19:24:45.138Z"
   },
   {
    "duration": 15,
    "start_time": "2022-04-19T19:24:45.172Z"
   },
   {
    "duration": 14,
    "start_time": "2022-04-19T19:24:45.189Z"
   },
   {
    "duration": 12,
    "start_time": "2022-04-19T19:24:45.205Z"
   },
   {
    "duration": 12,
    "start_time": "2022-04-19T19:24:45.219Z"
   },
   {
    "duration": 40,
    "start_time": "2022-04-19T19:24:45.233Z"
   },
   {
    "duration": 16,
    "start_time": "2022-04-19T19:24:45.275Z"
   },
   {
    "duration": 9,
    "start_time": "2022-04-19T19:24:45.292Z"
   },
   {
    "duration": 8,
    "start_time": "2022-04-19T19:24:45.303Z"
   },
   {
    "duration": 9,
    "start_time": "2022-04-19T19:24:45.313Z"
   },
   {
    "duration": 10,
    "start_time": "2022-04-19T19:24:45.324Z"
   },
   {
    "duration": 617,
    "start_time": "2022-04-19T19:24:45.335Z"
   },
   {
    "duration": 260,
    "start_time": "2022-04-19T19:24:45.954Z"
   },
   {
    "duration": 15,
    "start_time": "2022-04-19T19:24:46.216Z"
   },
   {
    "duration": 240,
    "start_time": "2022-04-19T19:24:46.233Z"
   },
   {
    "duration": 366,
    "start_time": "2022-04-19T19:24:46.475Z"
   },
   {
    "duration": 339,
    "start_time": "2022-04-19T19:24:46.843Z"
   },
   {
    "duration": 5,
    "start_time": "2022-04-19T19:24:47.184Z"
   },
   {
    "duration": 240,
    "start_time": "2022-04-19T19:24:47.191Z"
   },
   {
    "duration": 5,
    "start_time": "2022-04-19T19:24:47.433Z"
   },
   {
    "duration": 161,
    "start_time": "2022-04-19T19:24:47.439Z"
   },
   {
    "duration": 100,
    "start_time": "2022-04-19T19:24:47.602Z"
   },
   {
    "duration": 0,
    "start_time": "2022-04-19T19:24:47.704Z"
   },
   {
    "duration": 0,
    "start_time": "2022-04-19T19:24:47.705Z"
   },
   {
    "duration": 0,
    "start_time": "2022-04-19T19:24:47.706Z"
   },
   {
    "duration": 0,
    "start_time": "2022-04-19T19:24:47.707Z"
   },
   {
    "duration": 0,
    "start_time": "2022-04-19T19:24:47.708Z"
   },
   {
    "duration": 0,
    "start_time": "2022-04-19T19:24:47.709Z"
   },
   {
    "duration": 0,
    "start_time": "2022-04-19T19:24:47.710Z"
   },
   {
    "duration": 0,
    "start_time": "2022-04-19T19:24:47.711Z"
   },
   {
    "duration": 0,
    "start_time": "2022-04-19T19:24:47.713Z"
   },
   {
    "duration": 0,
    "start_time": "2022-04-19T19:24:47.714Z"
   },
   {
    "duration": 0,
    "start_time": "2022-04-19T19:24:47.715Z"
   },
   {
    "duration": 0,
    "start_time": "2022-04-19T19:24:47.715Z"
   },
   {
    "duration": 0,
    "start_time": "2022-04-19T19:24:47.716Z"
   },
   {
    "duration": 0,
    "start_time": "2022-04-19T19:24:47.717Z"
   },
   {
    "duration": 158,
    "start_time": "2022-04-19T19:26:27.743Z"
   },
   {
    "duration": 51,
    "start_time": "2022-04-20T06:45:56.831Z"
   },
   {
    "duration": 1385,
    "start_time": "2022-04-20T06:46:02.326Z"
   },
   {
    "duration": 105,
    "start_time": "2022-04-20T06:46:03.713Z"
   },
   {
    "duration": 12,
    "start_time": "2022-04-20T06:46:03.819Z"
   },
   {
    "duration": 25,
    "start_time": "2022-04-20T06:46:03.832Z"
   },
   {
    "duration": 15,
    "start_time": "2022-04-20T06:46:03.859Z"
   },
   {
    "duration": 34,
    "start_time": "2022-04-20T06:46:03.875Z"
   },
   {
    "duration": 18,
    "start_time": "2022-04-20T06:46:03.911Z"
   },
   {
    "duration": 28,
    "start_time": "2022-04-20T06:46:03.930Z"
   },
   {
    "duration": 11,
    "start_time": "2022-04-20T06:46:03.960Z"
   },
   {
    "duration": 15,
    "start_time": "2022-04-20T06:46:03.972Z"
   },
   {
    "duration": 20,
    "start_time": "2022-04-20T06:46:03.988Z"
   },
   {
    "duration": 17,
    "start_time": "2022-04-20T06:46:04.010Z"
   },
   {
    "duration": 28,
    "start_time": "2022-04-20T06:46:04.028Z"
   },
   {
    "duration": 26,
    "start_time": "2022-04-20T06:46:04.060Z"
   },
   {
    "duration": 24,
    "start_time": "2022-04-20T06:46:04.087Z"
   },
   {
    "duration": 34,
    "start_time": "2022-04-20T06:46:04.112Z"
   },
   {
    "duration": 30,
    "start_time": "2022-04-20T06:46:04.147Z"
   },
   {
    "duration": 32,
    "start_time": "2022-04-20T06:46:04.179Z"
   },
   {
    "duration": 21,
    "start_time": "2022-04-20T06:46:04.212Z"
   },
   {
    "duration": 23,
    "start_time": "2022-04-20T06:46:04.234Z"
   },
   {
    "duration": 12,
    "start_time": "2022-04-20T06:46:04.259Z"
   },
   {
    "duration": 13,
    "start_time": "2022-04-20T06:46:04.273Z"
   },
   {
    "duration": 12,
    "start_time": "2022-04-20T06:46:04.288Z"
   },
   {
    "duration": 673,
    "start_time": "2022-04-20T06:46:04.301Z"
   },
   {
    "duration": 280,
    "start_time": "2022-04-20T06:46:04.975Z"
   },
   {
    "duration": 16,
    "start_time": "2022-04-20T06:46:05.257Z"
   },
   {
    "duration": 272,
    "start_time": "2022-04-20T06:46:05.275Z"
   },
   {
    "duration": 419,
    "start_time": "2022-04-20T06:46:05.548Z"
   },
   {
    "duration": 331,
    "start_time": "2022-04-20T06:46:05.969Z"
   },
   {
    "duration": 6,
    "start_time": "2022-04-20T06:46:06.302Z"
   },
   {
    "duration": 118,
    "start_time": "2022-04-20T06:46:06.309Z"
   },
   {
    "duration": 0,
    "start_time": "2022-04-20T06:46:06.429Z"
   },
   {
    "duration": 0,
    "start_time": "2022-04-20T06:46:06.431Z"
   },
   {
    "duration": 0,
    "start_time": "2022-04-20T06:46:06.433Z"
   },
   {
    "duration": 0,
    "start_time": "2022-04-20T06:46:06.434Z"
   },
   {
    "duration": 0,
    "start_time": "2022-04-20T06:46:06.435Z"
   },
   {
    "duration": 0,
    "start_time": "2022-04-20T06:46:06.436Z"
   },
   {
    "duration": 0,
    "start_time": "2022-04-20T06:46:06.438Z"
   },
   {
    "duration": 0,
    "start_time": "2022-04-20T06:46:06.439Z"
   },
   {
    "duration": 0,
    "start_time": "2022-04-20T06:46:06.440Z"
   },
   {
    "duration": 0,
    "start_time": "2022-04-20T06:46:06.442Z"
   },
   {
    "duration": 0,
    "start_time": "2022-04-20T06:46:06.443Z"
   },
   {
    "duration": 0,
    "start_time": "2022-04-20T06:46:06.444Z"
   },
   {
    "duration": 0,
    "start_time": "2022-04-20T06:46:06.446Z"
   },
   {
    "duration": 0,
    "start_time": "2022-04-20T06:46:06.447Z"
   },
   {
    "duration": 0,
    "start_time": "2022-04-20T06:46:06.448Z"
   },
   {
    "duration": 0,
    "start_time": "2022-04-20T06:46:06.449Z"
   },
   {
    "duration": 0,
    "start_time": "2022-04-20T06:46:06.451Z"
   },
   {
    "duration": 0,
    "start_time": "2022-04-20T06:46:06.452Z"
   },
   {
    "duration": 0,
    "start_time": "2022-04-20T06:46:06.453Z"
   },
   {
    "duration": 3511,
    "start_time": "2022-04-20T06:46:53.337Z"
   },
   {
    "duration": 1190,
    "start_time": "2022-04-20T06:47:07.801Z"
   },
   {
    "duration": 76,
    "start_time": "2022-04-20T06:47:08.993Z"
   },
   {
    "duration": 11,
    "start_time": "2022-04-20T06:47:09.071Z"
   },
   {
    "duration": 45,
    "start_time": "2022-04-20T06:47:09.084Z"
   },
   {
    "duration": 17,
    "start_time": "2022-04-20T06:47:09.132Z"
   },
   {
    "duration": 43,
    "start_time": "2022-04-20T06:47:09.151Z"
   },
   {
    "duration": 41,
    "start_time": "2022-04-20T06:47:09.195Z"
   },
   {
    "duration": 31,
    "start_time": "2022-04-20T06:47:09.237Z"
   },
   {
    "duration": 36,
    "start_time": "2022-04-20T06:47:09.270Z"
   },
   {
    "duration": 13,
    "start_time": "2022-04-20T06:47:09.308Z"
   },
   {
    "duration": 30,
    "start_time": "2022-04-20T06:47:09.323Z"
   },
   {
    "duration": 27,
    "start_time": "2022-04-20T06:47:09.355Z"
   },
   {
    "duration": 33,
    "start_time": "2022-04-20T06:47:09.384Z"
   },
   {
    "duration": 28,
    "start_time": "2022-04-20T06:47:09.420Z"
   },
   {
    "duration": 27,
    "start_time": "2022-04-20T06:47:09.450Z"
   },
   {
    "duration": 36,
    "start_time": "2022-04-20T06:47:09.479Z"
   },
   {
    "duration": 17,
    "start_time": "2022-04-20T06:47:09.517Z"
   },
   {
    "duration": 41,
    "start_time": "2022-04-20T06:47:09.535Z"
   },
   {
    "duration": 26,
    "start_time": "2022-04-20T06:47:09.578Z"
   },
   {
    "duration": 38,
    "start_time": "2022-04-20T06:47:09.606Z"
   },
   {
    "duration": 28,
    "start_time": "2022-04-20T06:47:09.645Z"
   },
   {
    "duration": 28,
    "start_time": "2022-04-20T06:47:09.675Z"
   },
   {
    "duration": 18,
    "start_time": "2022-04-20T06:47:09.705Z"
   },
   {
    "duration": 675,
    "start_time": "2022-04-20T06:47:09.725Z"
   },
   {
    "duration": 274,
    "start_time": "2022-04-20T06:47:10.401Z"
   },
   {
    "duration": 16,
    "start_time": "2022-04-20T06:47:10.677Z"
   },
   {
    "duration": 273,
    "start_time": "2022-04-20T06:47:10.695Z"
   },
   {
    "duration": 367,
    "start_time": "2022-04-20T06:47:10.969Z"
   },
   {
    "duration": 313,
    "start_time": "2022-04-20T06:47:11.337Z"
   },
   {
    "duration": 6,
    "start_time": "2022-04-20T06:47:11.652Z"
   },
   {
    "duration": 257,
    "start_time": "2022-04-20T06:47:11.660Z"
   },
   {
    "duration": 5,
    "start_time": "2022-04-20T06:47:11.919Z"
   },
   {
    "duration": 2923,
    "start_time": "2022-04-20T06:47:11.934Z"
   },
   {
    "duration": 0,
    "start_time": "2022-04-20T06:47:14.858Z"
   },
   {
    "duration": 0,
    "start_time": "2022-04-20T06:47:14.859Z"
   },
   {
    "duration": 0,
    "start_time": "2022-04-20T06:47:14.861Z"
   },
   {
    "duration": 0,
    "start_time": "2022-04-20T06:47:14.861Z"
   },
   {
    "duration": 0,
    "start_time": "2022-04-20T06:47:14.862Z"
   },
   {
    "duration": 0,
    "start_time": "2022-04-20T06:47:14.863Z"
   },
   {
    "duration": 0,
    "start_time": "2022-04-20T06:47:14.865Z"
   },
   {
    "duration": 0,
    "start_time": "2022-04-20T06:47:14.866Z"
   },
   {
    "duration": 0,
    "start_time": "2022-04-20T06:47:14.867Z"
   },
   {
    "duration": 0,
    "start_time": "2022-04-20T06:47:14.868Z"
   },
   {
    "duration": 0,
    "start_time": "2022-04-20T06:47:14.869Z"
   },
   {
    "duration": 0,
    "start_time": "2022-04-20T06:47:14.870Z"
   },
   {
    "duration": 0,
    "start_time": "2022-04-20T06:47:14.871Z"
   },
   {
    "duration": 0,
    "start_time": "2022-04-20T06:47:14.872Z"
   },
   {
    "duration": 0,
    "start_time": "2022-04-20T06:47:14.873Z"
   },
   {
    "duration": 0,
    "start_time": "2022-04-20T06:47:14.875Z"
   },
   {
    "duration": 2794,
    "start_time": "2022-04-20T06:50:16.358Z"
   },
   {
    "duration": 19,
    "start_time": "2022-04-20T06:50:30.794Z"
   },
   {
    "duration": 7,
    "start_time": "2022-04-20T06:51:00.550Z"
   },
   {
    "duration": 20,
    "start_time": "2022-04-20T06:51:07.962Z"
   },
   {
    "duration": 250,
    "start_time": "2022-04-20T06:51:49.866Z"
   },
   {
    "duration": 16,
    "start_time": "2022-04-20T06:53:34.099Z"
   },
   {
    "duration": 7,
    "start_time": "2022-04-20T06:53:47.024Z"
   },
   {
    "duration": 251,
    "start_time": "2022-04-20T06:53:52.783Z"
   },
   {
    "duration": 256,
    "start_time": "2022-04-20T06:54:48.181Z"
   },
   {
    "duration": 7,
    "start_time": "2022-04-20T06:57:07.164Z"
   },
   {
    "duration": 3116,
    "start_time": "2022-04-20T06:58:34.286Z"
   },
   {
    "duration": 6,
    "start_time": "2022-04-20T07:00:51.791Z"
   },
   {
    "duration": 310,
    "start_time": "2022-04-20T07:07:07.435Z"
   },
   {
    "duration": 6,
    "start_time": "2022-04-20T07:08:01.427Z"
   },
   {
    "duration": 2798,
    "start_time": "2022-04-20T07:08:07.930Z"
   },
   {
    "duration": 5,
    "start_time": "2022-04-20T07:08:25.204Z"
   },
   {
    "duration": 4598,
    "start_time": "2022-04-20T07:08:28.612Z"
   },
   {
    "duration": 5,
    "start_time": "2022-04-20T07:08:36.873Z"
   },
   {
    "duration": 4,
    "start_time": "2022-04-20T07:08:43.664Z"
   },
   {
    "duration": 5,
    "start_time": "2022-04-20T07:08:46.588Z"
   },
   {
    "duration": 18,
    "start_time": "2022-04-20T07:13:00.727Z"
   },
   {
    "duration": 18,
    "start_time": "2022-04-20T07:14:44.547Z"
   },
   {
    "duration": 2650,
    "start_time": "2022-04-20T07:15:52.924Z"
   },
   {
    "duration": 14,
    "start_time": "2022-04-20T07:16:50.108Z"
   },
   {
    "duration": 324,
    "start_time": "2022-04-20T07:18:44.649Z"
   },
   {
    "duration": 5,
    "start_time": "2022-04-20T07:18:46.277Z"
   },
   {
    "duration": 4,
    "start_time": "2022-04-20T07:18:46.965Z"
   },
   {
    "duration": 5,
    "start_time": "2022-04-20T07:18:48.157Z"
   },
   {
    "duration": 4,
    "start_time": "2022-04-20T07:18:49.888Z"
   },
   {
    "duration": 5,
    "start_time": "2022-04-20T07:18:50.600Z"
   },
   {
    "duration": 11,
    "start_time": "2022-04-20T07:18:52.812Z"
   },
   {
    "duration": 6,
    "start_time": "2022-04-20T07:18:56.729Z"
   },
   {
    "duration": 193,
    "start_time": "2022-04-20T07:20:04.109Z"
   },
   {
    "duration": 5,
    "start_time": "2022-04-20T07:20:10.174Z"
   },
   {
    "duration": 5,
    "start_time": "2022-04-20T07:20:49.448Z"
   },
   {
    "duration": 7,
    "start_time": "2022-04-20T07:21:08.730Z"
   },
   {
    "duration": 3252,
    "start_time": "2022-04-20T07:22:17.332Z"
   },
   {
    "duration": 10,
    "start_time": "2022-04-20T07:22:34.354Z"
   },
   {
    "duration": 5,
    "start_time": "2022-04-20T07:23:01.521Z"
   },
   {
    "duration": 5,
    "start_time": "2022-04-20T07:23:02.005Z"
   },
   {
    "duration": 7,
    "start_time": "2022-04-20T07:23:33.261Z"
   },
   {
    "duration": 6,
    "start_time": "2022-04-20T07:23:34.597Z"
   },
   {
    "duration": 1272,
    "start_time": "2022-04-20T07:25:54.654Z"
   },
   {
    "duration": 78,
    "start_time": "2022-04-20T07:25:55.928Z"
   },
   {
    "duration": 12,
    "start_time": "2022-04-20T07:25:56.008Z"
   },
   {
    "duration": 18,
    "start_time": "2022-04-20T07:25:56.023Z"
   },
   {
    "duration": 24,
    "start_time": "2022-04-20T07:25:56.043Z"
   },
   {
    "duration": 16,
    "start_time": "2022-04-20T07:25:56.069Z"
   },
   {
    "duration": 15,
    "start_time": "2022-04-20T07:25:56.087Z"
   },
   {
    "duration": 31,
    "start_time": "2022-04-20T07:25:56.104Z"
   },
   {
    "duration": 21,
    "start_time": "2022-04-20T07:25:56.137Z"
   },
   {
    "duration": 8,
    "start_time": "2022-04-20T07:25:56.161Z"
   },
   {
    "duration": 4,
    "start_time": "2022-04-20T07:25:56.171Z"
   },
   {
    "duration": 12,
    "start_time": "2022-04-20T07:25:56.177Z"
   },
   {
    "duration": 13,
    "start_time": "2022-04-20T07:25:56.190Z"
   },
   {
    "duration": 38,
    "start_time": "2022-04-20T07:25:56.205Z"
   },
   {
    "duration": 21,
    "start_time": "2022-04-20T07:25:56.246Z"
   },
   {
    "duration": 13,
    "start_time": "2022-04-20T07:25:56.269Z"
   },
   {
    "duration": 13,
    "start_time": "2022-04-20T07:25:56.284Z"
   },
   {
    "duration": 35,
    "start_time": "2022-04-20T07:25:56.299Z"
   },
   {
    "duration": 9,
    "start_time": "2022-04-20T07:25:56.336Z"
   },
   {
    "duration": 16,
    "start_time": "2022-04-20T07:25:56.348Z"
   },
   {
    "duration": 10,
    "start_time": "2022-04-20T07:25:56.366Z"
   },
   {
    "duration": 13,
    "start_time": "2022-04-20T07:25:56.378Z"
   },
   {
    "duration": 13,
    "start_time": "2022-04-20T07:25:56.393Z"
   },
   {
    "duration": 784,
    "start_time": "2022-04-20T07:25:56.408Z"
   },
   {
    "duration": 319,
    "start_time": "2022-04-20T07:25:57.194Z"
   },
   {
    "duration": 31,
    "start_time": "2022-04-20T07:25:57.515Z"
   },
   {
    "duration": 307,
    "start_time": "2022-04-20T07:25:57.549Z"
   },
   {
    "duration": 415,
    "start_time": "2022-04-20T07:25:57.862Z"
   },
   {
    "duration": 379,
    "start_time": "2022-04-20T07:25:58.280Z"
   },
   {
    "duration": 5,
    "start_time": "2022-04-20T07:25:58.661Z"
   },
   {
    "duration": 299,
    "start_time": "2022-04-20T07:25:58.668Z"
   },
   {
    "duration": 6,
    "start_time": "2022-04-20T07:25:58.969Z"
   },
   {
    "duration": 7,
    "start_time": "2022-04-20T07:25:58.977Z"
   },
   {
    "duration": 192,
    "start_time": "2022-04-20T07:25:58.986Z"
   },
   {
    "duration": 362,
    "start_time": "2022-04-20T07:25:59.180Z"
   },
   {
    "duration": 8,
    "start_time": "2022-04-20T07:25:59.545Z"
   },
   {
    "duration": 12,
    "start_time": "2022-04-20T07:25:59.555Z"
   },
   {
    "duration": 10,
    "start_time": "2022-04-20T07:25:59.569Z"
   },
   {
    "duration": 7,
    "start_time": "2022-04-20T07:25:59.581Z"
   },
   {
    "duration": 11,
    "start_time": "2022-04-20T07:25:59.590Z"
   },
   {
    "duration": 33,
    "start_time": "2022-04-20T07:25:59.603Z"
   },
   {
    "duration": 9,
    "start_time": "2022-04-20T07:25:59.639Z"
   },
   {
    "duration": 217,
    "start_time": "2022-04-20T07:25:59.651Z"
   },
   {
    "duration": 6,
    "start_time": "2022-04-20T07:25:59.870Z"
   },
   {
    "duration": 10,
    "start_time": "2022-04-20T07:25:59.878Z"
   },
   {
    "duration": 7,
    "start_time": "2022-04-20T07:25:59.891Z"
   },
   {
    "duration": 11,
    "start_time": "2022-04-20T07:25:59.900Z"
   },
   {
    "duration": 7,
    "start_time": "2022-04-20T07:25:59.934Z"
   },
   {
    "duration": 15,
    "start_time": "2022-04-20T07:25:59.944Z"
   },
   {
    "duration": 9,
    "start_time": "2022-04-20T07:25:59.961Z"
   },
   {
    "duration": 10,
    "start_time": "2022-04-20T07:25:59.971Z"
   },
   {
    "duration": 17,
    "start_time": "2022-04-20T07:26:49.179Z"
   },
   {
    "duration": 7,
    "start_time": "2022-04-20T07:27:23.723Z"
   },
   {
    "duration": 5,
    "start_time": "2022-04-20T07:27:25.014Z"
   },
   {
    "duration": 547,
    "start_time": "2022-04-20T07:36:06.187Z"
   },
   {
    "duration": 10,
    "start_time": "2022-04-20T07:42:11.254Z"
   },
   {
    "duration": 7,
    "start_time": "2022-04-20T07:42:29.495Z"
   },
   {
    "duration": 5,
    "start_time": "2022-04-20T07:42:30.794Z"
   },
   {
    "duration": 9,
    "start_time": "2022-04-20T07:42:34.892Z"
   },
   {
    "duration": 10,
    "start_time": "2022-04-20T07:42:38.641Z"
   },
   {
    "duration": 19,
    "start_time": "2022-04-20T07:42:44.853Z"
   },
   {
    "duration": 12,
    "start_time": "2022-04-20T07:43:22.062Z"
   },
   {
    "duration": 18,
    "start_time": "2022-04-20T07:43:24.942Z"
   },
   {
    "duration": 12,
    "start_time": "2022-04-20T07:43:32.895Z"
   },
   {
    "duration": 5,
    "start_time": "2022-04-20T07:43:36.525Z"
   },
   {
    "duration": 6,
    "start_time": "2022-04-20T07:43:37.121Z"
   },
   {
    "duration": 666,
    "start_time": "2022-04-20T07:43:54.650Z"
   },
   {
    "duration": 293,
    "start_time": "2022-04-20T07:45:20.718Z"
   },
   {
    "duration": 15,
    "start_time": "2022-04-20T07:46:53.505Z"
   },
   {
    "duration": 24,
    "start_time": "2022-04-20T07:49:09.323Z"
   },
   {
    "duration": 295,
    "start_time": "2022-04-20T07:49:23.829Z"
   },
   {
    "duration": 474,
    "start_time": "2022-04-20T07:50:24.406Z"
   },
   {
    "duration": 372,
    "start_time": "2022-04-20T07:52:01.051Z"
   },
   {
    "duration": 270,
    "start_time": "2022-04-20T07:54:38.526Z"
   },
   {
    "duration": 5,
    "start_time": "2022-04-20T07:54:50.557Z"
   },
   {
    "duration": 6,
    "start_time": "2022-04-20T07:56:34.753Z"
   },
   {
    "duration": 6,
    "start_time": "2022-04-20T07:58:57.771Z"
   },
   {
    "duration": 6,
    "start_time": "2022-04-20T07:59:19.287Z"
   },
   {
    "duration": 10,
    "start_time": "2022-04-20T07:59:37.378Z"
   },
   {
    "duration": 327,
    "start_time": "2022-04-20T08:00:46.662Z"
   },
   {
    "duration": 6,
    "start_time": "2022-04-20T08:00:51.111Z"
   },
   {
    "duration": 6,
    "start_time": "2022-04-20T08:01:00.817Z"
   },
   {
    "duration": 421,
    "start_time": "2022-04-20T08:10:25.118Z"
   },
   {
    "duration": 6,
    "start_time": "2022-04-20T08:11:18.782Z"
   },
   {
    "duration": 9,
    "start_time": "2022-04-20T08:11:28.148Z"
   },
   {
    "duration": 259,
    "start_time": "2022-04-20T08:11:59.156Z"
   },
   {
    "duration": 9,
    "start_time": "2022-04-20T08:12:04.946Z"
   },
   {
    "duration": 5,
    "start_time": "2022-04-20T08:12:13.557Z"
   },
   {
    "duration": 328,
    "start_time": "2022-04-20T08:13:51.604Z"
   },
   {
    "duration": 7,
    "start_time": "2022-04-20T08:14:01.555Z"
   },
   {
    "duration": 4,
    "start_time": "2022-04-20T08:14:04.407Z"
   },
   {
    "duration": 4,
    "start_time": "2022-04-20T08:14:43.342Z"
   },
   {
    "duration": 5,
    "start_time": "2022-04-20T08:14:44.910Z"
   },
   {
    "duration": 6,
    "start_time": "2022-04-20T08:14:47.901Z"
   },
   {
    "duration": 5,
    "start_time": "2022-04-20T08:14:48.720Z"
   },
   {
    "duration": 5,
    "start_time": "2022-04-20T08:24:23.056Z"
   },
   {
    "duration": 3,
    "start_time": "2022-04-20T08:24:23.571Z"
   },
   {
    "duration": 3,
    "start_time": "2022-04-20T08:24:24.050Z"
   },
   {
    "duration": 2,
    "start_time": "2022-04-20T08:24:24.870Z"
   },
   {
    "duration": 3,
    "start_time": "2022-04-20T08:24:26.587Z"
   },
   {
    "duration": 2,
    "start_time": "2022-04-20T08:25:51.172Z"
   },
   {
    "duration": 12,
    "start_time": "2022-04-20T08:25:54.894Z"
   },
   {
    "duration": 6,
    "start_time": "2022-04-20T08:25:58.662Z"
   },
   {
    "duration": 6,
    "start_time": "2022-04-20T08:26:11.306Z"
   },
   {
    "duration": 184,
    "start_time": "2022-04-20T08:39:49.832Z"
   },
   {
    "duration": 4,
    "start_time": "2022-04-20T08:39:56.005Z"
   },
   {
    "duration": 6,
    "start_time": "2022-04-20T08:39:59.044Z"
   },
   {
    "duration": 6,
    "start_time": "2022-04-20T08:39:59.808Z"
   },
   {
    "duration": 8,
    "start_time": "2022-04-20T08:40:00.764Z"
   },
   {
    "duration": 5,
    "start_time": "2022-04-20T08:40:04.889Z"
   },
   {
    "duration": 4,
    "start_time": "2022-04-20T08:40:05.438Z"
   },
   {
    "duration": 6,
    "start_time": "2022-04-20T08:40:09.352Z"
   },
   {
    "duration": 6,
    "start_time": "2022-04-20T08:40:09.844Z"
   },
   {
    "duration": 1182,
    "start_time": "2022-04-20T08:51:44.833Z"
   },
   {
    "duration": 114,
    "start_time": "2022-04-20T08:51:46.017Z"
   },
   {
    "duration": 14,
    "start_time": "2022-04-20T08:51:46.134Z"
   },
   {
    "duration": 16,
    "start_time": "2022-04-20T08:51:46.150Z"
   },
   {
    "duration": 15,
    "start_time": "2022-04-20T08:51:46.169Z"
   },
   {
    "duration": 50,
    "start_time": "2022-04-20T08:51:46.186Z"
   },
   {
    "duration": 21,
    "start_time": "2022-04-20T08:51:46.238Z"
   },
   {
    "duration": 20,
    "start_time": "2022-04-20T08:51:46.261Z"
   },
   {
    "duration": 9,
    "start_time": "2022-04-20T08:51:46.283Z"
   },
   {
    "duration": 10,
    "start_time": "2022-04-20T08:51:46.294Z"
   },
   {
    "duration": 8,
    "start_time": "2022-04-20T08:51:46.333Z"
   },
   {
    "duration": 10,
    "start_time": "2022-04-20T08:51:46.343Z"
   },
   {
    "duration": 14,
    "start_time": "2022-04-20T08:51:46.355Z"
   },
   {
    "duration": 11,
    "start_time": "2022-04-20T08:51:46.374Z"
   },
   {
    "duration": 13,
    "start_time": "2022-04-20T08:51:46.387Z"
   },
   {
    "duration": 43,
    "start_time": "2022-04-20T08:51:46.402Z"
   },
   {
    "duration": 9,
    "start_time": "2022-04-20T08:51:46.447Z"
   },
   {
    "duration": 8,
    "start_time": "2022-04-20T08:51:46.458Z"
   },
   {
    "duration": 717,
    "start_time": "2022-04-20T08:51:46.469Z"
   },
   {
    "duration": 273,
    "start_time": "2022-04-20T08:51:47.188Z"
   },
   {
    "duration": 17,
    "start_time": "2022-04-20T08:51:47.462Z"
   },
   {
    "duration": 281,
    "start_time": "2022-04-20T08:51:47.481Z"
   },
   {
    "duration": 372,
    "start_time": "2022-04-20T08:51:47.764Z"
   },
   {
    "duration": 331,
    "start_time": "2022-04-20T08:51:48.138Z"
   },
   {
    "duration": 6,
    "start_time": "2022-04-20T08:51:48.471Z"
   },
   {
    "duration": 270,
    "start_time": "2022-04-20T08:51:48.478Z"
   },
   {
    "duration": 6,
    "start_time": "2022-04-20T08:51:48.750Z"
   },
   {
    "duration": 18,
    "start_time": "2022-04-20T08:51:48.758Z"
   },
   {
    "duration": 159,
    "start_time": "2022-04-20T08:51:48.778Z"
   },
   {
    "duration": 371,
    "start_time": "2022-04-20T08:51:48.939Z"
   },
   {
    "duration": 8,
    "start_time": "2022-04-20T08:51:49.313Z"
   },
   {
    "duration": 15,
    "start_time": "2022-04-20T08:51:49.333Z"
   },
   {
    "duration": 5,
    "start_time": "2022-04-20T08:51:49.351Z"
   },
   {
    "duration": 7,
    "start_time": "2022-04-20T08:51:49.359Z"
   },
   {
    "duration": 15,
    "start_time": "2022-04-20T08:51:49.367Z"
   },
   {
    "duration": 11,
    "start_time": "2022-04-20T08:51:49.384Z"
   },
   {
    "duration": 16,
    "start_time": "2022-04-20T08:51:49.397Z"
   },
   {
    "duration": 7,
    "start_time": "2022-04-20T08:51:49.415Z"
   },
   {
    "duration": 194,
    "start_time": "2022-04-20T08:51:49.424Z"
   },
   {
    "duration": 5,
    "start_time": "2022-04-20T08:51:49.620Z"
   },
   {
    "duration": 18,
    "start_time": "2022-04-20T08:51:49.635Z"
   },
   {
    "duration": 14,
    "start_time": "2022-04-20T08:51:49.655Z"
   },
   {
    "duration": 14,
    "start_time": "2022-04-20T08:51:49.671Z"
   },
   {
    "duration": 11,
    "start_time": "2022-04-20T08:51:49.687Z"
   },
   {
    "duration": 10,
    "start_time": "2022-04-20T08:51:49.699Z"
   },
   {
    "duration": 9,
    "start_time": "2022-04-20T08:51:49.711Z"
   },
   {
    "duration": 7,
    "start_time": "2022-04-20T08:51:49.734Z"
   },
   {
    "duration": 1237,
    "start_time": "2022-04-20T08:57:02.372Z"
   },
   {
    "duration": 81,
    "start_time": "2022-04-20T08:57:03.612Z"
   },
   {
    "duration": 12,
    "start_time": "2022-04-20T08:57:03.695Z"
   },
   {
    "duration": 14,
    "start_time": "2022-04-20T08:57:03.709Z"
   },
   {
    "duration": 59,
    "start_time": "2022-04-20T08:57:03.725Z"
   },
   {
    "duration": 19,
    "start_time": "2022-04-20T08:57:03.785Z"
   },
   {
    "duration": 20,
    "start_time": "2022-04-20T08:57:03.805Z"
   },
   {
    "duration": 21,
    "start_time": "2022-04-20T08:57:03.827Z"
   },
   {
    "duration": 12,
    "start_time": "2022-04-20T08:57:03.850Z"
   },
   {
    "duration": 10,
    "start_time": "2022-04-20T08:57:03.866Z"
   },
   {
    "duration": 9,
    "start_time": "2022-04-20T08:57:03.879Z"
   },
   {
    "duration": 12,
    "start_time": "2022-04-20T08:57:03.890Z"
   },
   {
    "duration": 36,
    "start_time": "2022-04-20T08:57:03.904Z"
   },
   {
    "duration": 11,
    "start_time": "2022-04-20T08:57:03.942Z"
   },
   {
    "duration": 13,
    "start_time": "2022-04-20T08:57:03.956Z"
   },
   {
    "duration": 16,
    "start_time": "2022-04-20T08:57:03.972Z"
   },
   {
    "duration": 46,
    "start_time": "2022-04-20T08:57:03.990Z"
   },
   {
    "duration": 8,
    "start_time": "2022-04-20T08:57:04.038Z"
   },
   {
    "duration": 714,
    "start_time": "2022-04-20T08:57:04.048Z"
   },
   {
    "duration": 298,
    "start_time": "2022-04-20T08:57:04.765Z"
   },
   {
    "duration": 18,
    "start_time": "2022-04-20T08:57:05.066Z"
   },
   {
    "duration": 292,
    "start_time": "2022-04-20T08:57:05.087Z"
   },
   {
    "duration": 392,
    "start_time": "2022-04-20T08:57:05.381Z"
   },
   {
    "duration": 342,
    "start_time": "2022-04-20T08:57:05.774Z"
   },
   {
    "duration": 5,
    "start_time": "2022-04-20T08:57:06.118Z"
   },
   {
    "duration": 273,
    "start_time": "2022-04-20T08:57:06.134Z"
   },
   {
    "duration": 6,
    "start_time": "2022-04-20T08:57:06.409Z"
   },
   {
    "duration": 39,
    "start_time": "2022-04-20T08:57:06.433Z"
   },
   {
    "duration": 158,
    "start_time": "2022-04-20T08:57:06.474Z"
   },
   {
    "duration": 316,
    "start_time": "2022-04-20T08:57:06.633Z"
   },
   {
    "duration": 5,
    "start_time": "2022-04-20T08:57:06.951Z"
   },
   {
    "duration": 35,
    "start_time": "2022-04-20T08:57:06.958Z"
   },
   {
    "duration": 21,
    "start_time": "2022-04-20T08:57:06.995Z"
   },
   {
    "duration": 23,
    "start_time": "2022-04-20T08:57:07.018Z"
   },
   {
    "duration": 24,
    "start_time": "2022-04-20T08:57:07.043Z"
   },
   {
    "duration": 10,
    "start_time": "2022-04-20T08:57:07.069Z"
   },
   {
    "duration": 18,
    "start_time": "2022-04-20T08:57:07.081Z"
   },
   {
    "duration": 8,
    "start_time": "2022-04-20T08:57:07.101Z"
   },
   {
    "duration": 175,
    "start_time": "2022-04-20T08:57:07.110Z"
   },
   {
    "duration": 5,
    "start_time": "2022-04-20T08:57:07.287Z"
   },
   {
    "duration": 11,
    "start_time": "2022-04-20T08:57:07.293Z"
   },
   {
    "duration": 10,
    "start_time": "2022-04-20T08:57:07.306Z"
   },
   {
    "duration": 23,
    "start_time": "2022-04-20T08:57:07.318Z"
   },
   {
    "duration": 6,
    "start_time": "2022-04-20T08:57:07.343Z"
   },
   {
    "duration": 6,
    "start_time": "2022-04-20T08:57:07.351Z"
   },
   {
    "duration": 7,
    "start_time": "2022-04-20T08:57:07.359Z"
   },
   {
    "duration": 8,
    "start_time": "2022-04-20T08:57:07.367Z"
   },
   {
    "duration": 1253,
    "start_time": "2022-04-20T08:59:01.349Z"
   },
   {
    "duration": 89,
    "start_time": "2022-04-20T08:59:02.604Z"
   },
   {
    "duration": 13,
    "start_time": "2022-04-20T08:59:02.694Z"
   },
   {
    "duration": 15,
    "start_time": "2022-04-20T08:59:02.709Z"
   },
   {
    "duration": 14,
    "start_time": "2022-04-20T08:59:02.726Z"
   },
   {
    "duration": 18,
    "start_time": "2022-04-20T08:59:02.742Z"
   },
   {
    "duration": 25,
    "start_time": "2022-04-20T08:59:02.761Z"
   },
   {
    "duration": 18,
    "start_time": "2022-04-20T08:59:02.788Z"
   },
   {
    "duration": 28,
    "start_time": "2022-04-20T08:59:02.807Z"
   },
   {
    "duration": 10,
    "start_time": "2022-04-20T08:59:02.837Z"
   },
   {
    "duration": 10,
    "start_time": "2022-04-20T08:59:02.848Z"
   },
   {
    "duration": 7,
    "start_time": "2022-04-20T08:59:02.860Z"
   },
   {
    "duration": 19,
    "start_time": "2022-04-20T08:59:02.869Z"
   },
   {
    "duration": 44,
    "start_time": "2022-04-20T08:59:02.893Z"
   },
   {
    "duration": 24,
    "start_time": "2022-04-20T08:59:02.939Z"
   },
   {
    "duration": 24,
    "start_time": "2022-04-20T08:59:02.965Z"
   },
   {
    "duration": 17,
    "start_time": "2022-04-20T08:59:02.991Z"
   },
   {
    "duration": 15,
    "start_time": "2022-04-20T08:59:03.010Z"
   },
   {
    "duration": 693,
    "start_time": "2022-04-20T08:59:03.027Z"
   },
   {
    "duration": 287,
    "start_time": "2022-04-20T08:59:03.722Z"
   },
   {
    "duration": 26,
    "start_time": "2022-04-20T08:59:04.011Z"
   },
   {
    "duration": 272,
    "start_time": "2022-04-20T08:59:04.039Z"
   },
   {
    "duration": 408,
    "start_time": "2022-04-20T08:59:04.312Z"
   },
   {
    "duration": 347,
    "start_time": "2022-04-20T08:59:04.722Z"
   },
   {
    "duration": 6,
    "start_time": "2022-04-20T08:59:05.071Z"
   },
   {
    "duration": 277,
    "start_time": "2022-04-20T08:59:05.079Z"
   },
   {
    "duration": 6,
    "start_time": "2022-04-20T08:59:05.358Z"
   },
   {
    "duration": 8,
    "start_time": "2022-04-20T08:59:05.365Z"
   },
   {
    "duration": 168,
    "start_time": "2022-04-20T08:59:05.375Z"
   },
   {
    "duration": 333,
    "start_time": "2022-04-20T08:59:05.545Z"
   },
   {
    "duration": 5,
    "start_time": "2022-04-20T08:59:05.880Z"
   },
   {
    "duration": 8,
    "start_time": "2022-04-20T08:59:05.887Z"
   },
   {
    "duration": 10,
    "start_time": "2022-04-20T08:59:05.897Z"
   },
   {
    "duration": 6,
    "start_time": "2022-04-20T08:59:05.908Z"
   },
   {
    "duration": 18,
    "start_time": "2022-04-20T08:59:05.916Z"
   },
   {
    "duration": 8,
    "start_time": "2022-04-20T08:59:05.936Z"
   },
   {
    "duration": 14,
    "start_time": "2022-04-20T08:59:05.946Z"
   },
   {
    "duration": 14,
    "start_time": "2022-04-20T08:59:05.962Z"
   },
   {
    "duration": 203,
    "start_time": "2022-04-20T08:59:05.978Z"
   },
   {
    "duration": 6,
    "start_time": "2022-04-20T08:59:06.183Z"
   },
   {
    "duration": 12,
    "start_time": "2022-04-20T08:59:06.193Z"
   },
   {
    "duration": 27,
    "start_time": "2022-04-20T08:59:06.207Z"
   },
   {
    "duration": 11,
    "start_time": "2022-04-20T08:59:06.236Z"
   },
   {
    "duration": 5,
    "start_time": "2022-04-20T08:59:06.249Z"
   },
   {
    "duration": 10,
    "start_time": "2022-04-20T08:59:06.255Z"
   },
   {
    "duration": 10,
    "start_time": "2022-04-20T08:59:06.266Z"
   },
   {
    "duration": 8,
    "start_time": "2022-04-20T08:59:06.278Z"
   },
   {
    "duration": 426,
    "start_time": "2022-04-20T09:00:35.523Z"
   },
   {
    "duration": 179,
    "start_time": "2022-04-20T09:00:57.931Z"
   },
   {
    "duration": 1210,
    "start_time": "2022-04-20T09:01:10.491Z"
   },
   {
    "duration": 68,
    "start_time": "2022-04-20T09:01:11.703Z"
   },
   {
    "duration": 11,
    "start_time": "2022-04-20T09:01:11.773Z"
   },
   {
    "duration": 15,
    "start_time": "2022-04-20T09:01:11.787Z"
   },
   {
    "duration": 13,
    "start_time": "2022-04-20T09:01:11.804Z"
   },
   {
    "duration": 20,
    "start_time": "2022-04-20T09:01:11.819Z"
   },
   {
    "duration": 16,
    "start_time": "2022-04-20T09:01:11.841Z"
   },
   {
    "duration": 20,
    "start_time": "2022-04-20T09:01:11.859Z"
   },
   {
    "duration": 10,
    "start_time": "2022-04-20T09:01:11.881Z"
   },
   {
    "duration": 11,
    "start_time": "2022-04-20T09:01:11.894Z"
   },
   {
    "duration": 34,
    "start_time": "2022-04-20T09:01:11.907Z"
   },
   {
    "duration": 7,
    "start_time": "2022-04-20T09:01:11.942Z"
   },
   {
    "duration": 11,
    "start_time": "2022-04-20T09:01:11.951Z"
   },
   {
    "duration": 11,
    "start_time": "2022-04-20T09:01:11.964Z"
   },
   {
    "duration": 14,
    "start_time": "2022-04-20T09:01:11.976Z"
   },
   {
    "duration": 48,
    "start_time": "2022-04-20T09:01:11.992Z"
   },
   {
    "duration": 6,
    "start_time": "2022-04-20T09:01:12.042Z"
   },
   {
    "duration": 11,
    "start_time": "2022-04-20T09:01:12.049Z"
   },
   {
    "duration": 720,
    "start_time": "2022-04-20T09:01:12.063Z"
   },
   {
    "duration": 293,
    "start_time": "2022-04-20T09:01:12.785Z"
   },
   {
    "duration": 16,
    "start_time": "2022-04-20T09:01:13.080Z"
   },
   {
    "duration": 415,
    "start_time": "2022-04-20T09:01:13.097Z"
   },
   {
    "duration": 267,
    "start_time": "2022-04-20T09:01:13.514Z"
   },
   {
    "duration": 415,
    "start_time": "2022-04-20T09:01:13.782Z"
   },
   {
    "duration": 355,
    "start_time": "2022-04-20T09:01:14.199Z"
   },
   {
    "duration": 6,
    "start_time": "2022-04-20T09:01:14.555Z"
   },
   {
    "duration": 272,
    "start_time": "2022-04-20T09:01:14.563Z"
   },
   {
    "duration": 6,
    "start_time": "2022-04-20T09:01:14.840Z"
   },
   {
    "duration": 8,
    "start_time": "2022-04-20T09:01:14.848Z"
   },
   {
    "duration": 191,
    "start_time": "2022-04-20T09:01:14.858Z"
   },
   {
    "duration": 334,
    "start_time": "2022-04-20T09:01:15.051Z"
   },
   {
    "duration": 5,
    "start_time": "2022-04-20T09:01:15.387Z"
   },
   {
    "duration": 11,
    "start_time": "2022-04-20T09:01:15.394Z"
   },
   {
    "duration": 13,
    "start_time": "2022-04-20T09:01:15.406Z"
   },
   {
    "duration": 13,
    "start_time": "2022-04-20T09:01:15.420Z"
   },
   {
    "duration": 7,
    "start_time": "2022-04-20T09:01:15.435Z"
   },
   {
    "duration": 7,
    "start_time": "2022-04-20T09:01:15.444Z"
   },
   {
    "duration": 17,
    "start_time": "2022-04-20T09:01:15.453Z"
   },
   {
    "duration": 9,
    "start_time": "2022-04-20T09:01:15.472Z"
   },
   {
    "duration": 272,
    "start_time": "2022-04-20T09:01:15.483Z"
   },
   {
    "duration": 6,
    "start_time": "2022-04-20T09:01:15.757Z"
   },
   {
    "duration": 14,
    "start_time": "2022-04-20T09:01:15.765Z"
   },
   {
    "duration": 13,
    "start_time": "2022-04-20T09:01:15.781Z"
   },
   {
    "duration": 15,
    "start_time": "2022-04-20T09:01:15.796Z"
   },
   {
    "duration": 27,
    "start_time": "2022-04-20T09:01:15.812Z"
   },
   {
    "duration": 13,
    "start_time": "2022-04-20T09:01:15.841Z"
   },
   {
    "duration": 15,
    "start_time": "2022-04-20T09:01:15.856Z"
   },
   {
    "duration": 11,
    "start_time": "2022-04-20T09:01:15.872Z"
   },
   {
    "duration": 1175,
    "start_time": "2022-04-20T09:12:25.727Z"
   },
   {
    "duration": 60,
    "start_time": "2022-04-20T09:12:26.904Z"
   },
   {
    "duration": 13,
    "start_time": "2022-04-20T09:12:26.966Z"
   },
   {
    "duration": 14,
    "start_time": "2022-04-20T09:12:26.981Z"
   },
   {
    "duration": 18,
    "start_time": "2022-04-20T09:12:26.998Z"
   },
   {
    "duration": 21,
    "start_time": "2022-04-20T09:12:27.018Z"
   },
   {
    "duration": 15,
    "start_time": "2022-04-20T09:12:27.041Z"
   },
   {
    "duration": 19,
    "start_time": "2022-04-20T09:12:27.058Z"
   },
   {
    "duration": 7,
    "start_time": "2022-04-20T09:12:27.079Z"
   },
   {
    "duration": 12,
    "start_time": "2022-04-20T09:12:27.088Z"
   },
   {
    "duration": 6,
    "start_time": "2022-04-20T09:12:27.102Z"
   },
   {
    "duration": 19,
    "start_time": "2022-04-20T09:12:27.110Z"
   },
   {
    "duration": 19,
    "start_time": "2022-04-20T09:12:27.131Z"
   },
   {
    "duration": 12,
    "start_time": "2022-04-20T09:12:27.153Z"
   },
   {
    "duration": 15,
    "start_time": "2022-04-20T09:12:27.167Z"
   },
   {
    "duration": 15,
    "start_time": "2022-04-20T09:12:27.184Z"
   },
   {
    "duration": 6,
    "start_time": "2022-04-20T09:12:27.233Z"
   },
   {
    "duration": 8,
    "start_time": "2022-04-20T09:12:27.241Z"
   },
   {
    "duration": 690,
    "start_time": "2022-04-20T09:12:27.251Z"
   },
   {
    "duration": 286,
    "start_time": "2022-04-20T09:12:27.943Z"
   },
   {
    "duration": 16,
    "start_time": "2022-04-20T09:12:28.231Z"
   },
   {
    "duration": 365,
    "start_time": "2022-04-20T09:12:28.249Z"
   },
   {
    "duration": 264,
    "start_time": "2022-04-20T09:12:28.616Z"
   },
   {
    "duration": 365,
    "start_time": "2022-04-20T09:12:28.882Z"
   },
   {
    "duration": 324,
    "start_time": "2022-04-20T09:12:29.249Z"
   },
   {
    "duration": 5,
    "start_time": "2022-04-20T09:12:29.575Z"
   },
   {
    "duration": 268,
    "start_time": "2022-04-20T09:12:29.581Z"
   },
   {
    "duration": 5,
    "start_time": "2022-04-20T09:12:29.851Z"
   },
   {
    "duration": 7,
    "start_time": "2022-04-20T09:12:29.858Z"
   },
   {
    "duration": 169,
    "start_time": "2022-04-20T09:12:29.867Z"
   },
   {
    "duration": 326,
    "start_time": "2022-04-20T09:12:30.038Z"
   },
   {
    "duration": 6,
    "start_time": "2022-04-20T09:12:30.366Z"
   },
   {
    "duration": 16,
    "start_time": "2022-04-20T09:12:30.374Z"
   },
   {
    "duration": 22,
    "start_time": "2022-04-20T09:12:30.392Z"
   },
   {
    "duration": 18,
    "start_time": "2022-04-20T09:12:30.416Z"
   },
   {
    "duration": 27,
    "start_time": "2022-04-20T09:12:30.436Z"
   },
   {
    "duration": 10,
    "start_time": "2022-04-20T09:12:30.465Z"
   },
   {
    "duration": 26,
    "start_time": "2022-04-20T09:12:30.477Z"
   },
   {
    "duration": 8,
    "start_time": "2022-04-20T09:12:30.505Z"
   },
   {
    "duration": 255,
    "start_time": "2022-04-20T09:12:30.515Z"
   },
   {
    "duration": 6,
    "start_time": "2022-04-20T09:12:30.774Z"
   },
   {
    "duration": 28,
    "start_time": "2022-04-20T09:12:30.782Z"
   },
   {
    "duration": 13,
    "start_time": "2022-04-20T09:12:30.812Z"
   },
   {
    "duration": 12,
    "start_time": "2022-04-20T09:12:30.827Z"
   },
   {
    "duration": 11,
    "start_time": "2022-04-20T09:12:30.840Z"
   },
   {
    "duration": 8,
    "start_time": "2022-04-20T09:12:30.853Z"
   },
   {
    "duration": 25,
    "start_time": "2022-04-20T09:12:30.863Z"
   },
   {
    "duration": 11,
    "start_time": "2022-04-20T09:12:30.890Z"
   },
   {
    "duration": 203,
    "start_time": "2022-04-20T09:13:39.588Z"
   },
   {
    "duration": 222,
    "start_time": "2022-04-20T09:14:31.120Z"
   },
   {
    "duration": 1196,
    "start_time": "2022-04-20T09:14:44.043Z"
   },
   {
    "duration": 96,
    "start_time": "2022-04-20T09:14:45.241Z"
   },
   {
    "duration": 13,
    "start_time": "2022-04-20T09:14:45.339Z"
   },
   {
    "duration": 13,
    "start_time": "2022-04-20T09:14:45.355Z"
   },
   {
    "duration": 13,
    "start_time": "2022-04-20T09:14:45.370Z"
   },
   {
    "duration": 21,
    "start_time": "2022-04-20T09:14:45.385Z"
   },
   {
    "duration": 14,
    "start_time": "2022-04-20T09:14:45.433Z"
   },
   {
    "duration": 20,
    "start_time": "2022-04-20T09:14:45.449Z"
   },
   {
    "duration": 11,
    "start_time": "2022-04-20T09:14:45.471Z"
   },
   {
    "duration": 10,
    "start_time": "2022-04-20T09:14:45.485Z"
   },
   {
    "duration": 8,
    "start_time": "2022-04-20T09:14:45.497Z"
   },
   {
    "duration": 5,
    "start_time": "2022-04-20T09:14:45.533Z"
   },
   {
    "duration": 14,
    "start_time": "2022-04-20T09:14:45.539Z"
   },
   {
    "duration": 13,
    "start_time": "2022-04-20T09:14:45.555Z"
   },
   {
    "duration": 17,
    "start_time": "2022-04-20T09:14:45.570Z"
   },
   {
    "duration": 17,
    "start_time": "2022-04-20T09:14:45.588Z"
   },
   {
    "duration": 28,
    "start_time": "2022-04-20T09:14:45.607Z"
   },
   {
    "duration": 9,
    "start_time": "2022-04-20T09:14:45.637Z"
   },
   {
    "duration": 777,
    "start_time": "2022-04-20T09:14:45.648Z"
   },
   {
    "duration": 299,
    "start_time": "2022-04-20T09:14:46.427Z"
   },
   {
    "duration": 17,
    "start_time": "2022-04-20T09:14:46.728Z"
   },
   {
    "duration": 418,
    "start_time": "2022-04-20T09:14:46.747Z"
   },
   {
    "duration": 332,
    "start_time": "2022-04-20T09:14:47.166Z"
   },
   {
    "duration": 426,
    "start_time": "2022-04-20T09:14:47.500Z"
   },
   {
    "duration": 376,
    "start_time": "2022-04-20T09:14:47.927Z"
   },
   {
    "duration": 6,
    "start_time": "2022-04-20T09:14:48.305Z"
   },
   {
    "duration": 288,
    "start_time": "2022-04-20T09:14:48.313Z"
   },
   {
    "duration": 6,
    "start_time": "2022-04-20T09:14:48.605Z"
   },
   {
    "duration": 21,
    "start_time": "2022-04-20T09:14:48.613Z"
   },
   {
    "duration": 168,
    "start_time": "2022-04-20T09:14:48.636Z"
   },
   {
    "duration": 332,
    "start_time": "2022-04-20T09:14:48.806Z"
   },
   {
    "duration": 6,
    "start_time": "2022-04-20T09:14:49.140Z"
   },
   {
    "duration": 7,
    "start_time": "2022-04-20T09:14:49.147Z"
   },
   {
    "duration": 9,
    "start_time": "2022-04-20T09:14:49.156Z"
   },
   {
    "duration": 10,
    "start_time": "2022-04-20T09:14:49.167Z"
   },
   {
    "duration": 17,
    "start_time": "2022-04-20T09:14:49.178Z"
   },
   {
    "duration": 19,
    "start_time": "2022-04-20T09:14:49.197Z"
   },
   {
    "duration": 16,
    "start_time": "2022-04-20T09:14:49.218Z"
   },
   {
    "duration": 6,
    "start_time": "2022-04-20T09:14:49.236Z"
   },
   {
    "duration": 314,
    "start_time": "2022-04-20T09:14:49.244Z"
   },
   {
    "duration": 5,
    "start_time": "2022-04-20T09:14:49.560Z"
   },
   {
    "duration": 13,
    "start_time": "2022-04-20T09:14:49.567Z"
   },
   {
    "duration": 10,
    "start_time": "2022-04-20T09:14:49.582Z"
   },
   {
    "duration": 16,
    "start_time": "2022-04-20T09:14:49.594Z"
   },
   {
    "duration": 25,
    "start_time": "2022-04-20T09:14:49.612Z"
   },
   {
    "duration": 11,
    "start_time": "2022-04-20T09:14:49.638Z"
   },
   {
    "duration": 10,
    "start_time": "2022-04-20T09:14:49.650Z"
   },
   {
    "duration": 12,
    "start_time": "2022-04-20T09:14:49.661Z"
   },
   {
    "duration": 334,
    "start_time": "2022-04-20T09:15:21.690Z"
   },
   {
    "duration": 244,
    "start_time": "2022-04-20T09:15:31.900Z"
   },
   {
    "duration": 317,
    "start_time": "2022-04-20T09:40:51.637Z"
   },
   {
    "duration": 6,
    "start_time": "2022-04-20T09:40:55.418Z"
   },
   {
    "duration": 183,
    "start_time": "2022-04-20T09:40:57.787Z"
   },
   {
    "duration": 5,
    "start_time": "2022-04-20T09:41:05.055Z"
   },
   {
    "duration": 5,
    "start_time": "2022-04-20T09:41:07.982Z"
   },
   {
    "duration": 3,
    "start_time": "2022-04-20T09:41:12.643Z"
   },
   {
    "duration": 3,
    "start_time": "2022-04-20T09:41:47.496Z"
   },
   {
    "duration": 4,
    "start_time": "2022-04-20T09:42:00.467Z"
   },
   {
    "duration": 5,
    "start_time": "2022-04-20T09:42:02.712Z"
   },
   {
    "duration": 1212,
    "start_time": "2022-04-20T09:44:09.272Z"
   },
   {
    "duration": 67,
    "start_time": "2022-04-20T09:44:10.487Z"
   },
   {
    "duration": 12,
    "start_time": "2022-04-20T09:44:10.556Z"
   },
   {
    "duration": 13,
    "start_time": "2022-04-20T09:44:10.570Z"
   },
   {
    "duration": 13,
    "start_time": "2022-04-20T09:44:10.585Z"
   },
   {
    "duration": 17,
    "start_time": "2022-04-20T09:44:10.599Z"
   },
   {
    "duration": 23,
    "start_time": "2022-04-20T09:44:10.618Z"
   },
   {
    "duration": 14,
    "start_time": "2022-04-20T09:44:10.643Z"
   },
   {
    "duration": 8,
    "start_time": "2022-04-20T09:44:10.659Z"
   },
   {
    "duration": 8,
    "start_time": "2022-04-20T09:44:10.670Z"
   },
   {
    "duration": 10,
    "start_time": "2022-04-20T09:44:10.680Z"
   },
   {
    "duration": 11,
    "start_time": "2022-04-20T09:44:10.691Z"
   },
   {
    "duration": 9,
    "start_time": "2022-04-20T09:44:10.733Z"
   },
   {
    "duration": 13,
    "start_time": "2022-04-20T09:44:10.743Z"
   },
   {
    "duration": 15,
    "start_time": "2022-04-20T09:44:10.757Z"
   },
   {
    "duration": 16,
    "start_time": "2022-04-20T09:44:10.773Z"
   },
   {
    "duration": 9,
    "start_time": "2022-04-20T09:44:10.791Z"
   },
   {
    "duration": 34,
    "start_time": "2022-04-20T09:44:10.802Z"
   },
   {
    "duration": 688,
    "start_time": "2022-04-20T09:44:10.838Z"
   },
   {
    "duration": 280,
    "start_time": "2022-04-20T09:44:11.527Z"
   },
   {
    "duration": 25,
    "start_time": "2022-04-20T09:44:11.809Z"
   },
   {
    "duration": 360,
    "start_time": "2022-04-20T09:44:11.836Z"
   },
   {
    "duration": 278,
    "start_time": "2022-04-20T09:44:12.197Z"
   },
   {
    "duration": 366,
    "start_time": "2022-04-20T09:44:12.478Z"
   },
   {
    "duration": 321,
    "start_time": "2022-04-20T09:44:12.846Z"
   },
   {
    "duration": 5,
    "start_time": "2022-04-20T09:44:13.169Z"
   },
   {
    "duration": 270,
    "start_time": "2022-04-20T09:44:13.176Z"
   },
   {
    "duration": 5,
    "start_time": "2022-04-20T09:44:13.450Z"
   },
   {
    "duration": 8,
    "start_time": "2022-04-20T09:44:13.456Z"
   },
   {
    "duration": 186,
    "start_time": "2022-04-20T09:44:13.465Z"
   },
   {
    "duration": 326,
    "start_time": "2022-04-20T09:44:13.653Z"
   },
   {
    "duration": 5,
    "start_time": "2022-04-20T09:44:13.981Z"
   },
   {
    "duration": 10,
    "start_time": "2022-04-20T09:44:13.988Z"
   },
   {
    "duration": 14,
    "start_time": "2022-04-20T09:44:14.000Z"
   },
   {
    "duration": 17,
    "start_time": "2022-04-20T09:44:14.016Z"
   },
   {
    "duration": 8,
    "start_time": "2022-04-20T09:44:14.035Z"
   },
   {
    "duration": 11,
    "start_time": "2022-04-20T09:44:14.045Z"
   },
   {
    "duration": 6,
    "start_time": "2022-04-20T09:44:14.058Z"
   },
   {
    "duration": 318,
    "start_time": "2022-04-20T09:44:14.066Z"
   },
   {
    "duration": 5,
    "start_time": "2022-04-20T09:44:14.386Z"
   },
   {
    "duration": 11,
    "start_time": "2022-04-20T09:44:14.393Z"
   },
   {
    "duration": 8,
    "start_time": "2022-04-20T09:44:14.405Z"
   },
   {
    "duration": 25,
    "start_time": "2022-04-20T09:44:14.415Z"
   },
   {
    "duration": 7,
    "start_time": "2022-04-20T09:44:14.442Z"
   },
   {
    "duration": 7,
    "start_time": "2022-04-20T09:44:14.450Z"
   },
   {
    "duration": 8,
    "start_time": "2022-04-20T09:44:14.459Z"
   },
   {
    "duration": 14,
    "start_time": "2022-04-20T09:44:14.469Z"
   },
   {
    "duration": 6,
    "start_time": "2022-04-20T09:49:33.240Z"
   },
   {
    "duration": 6,
    "start_time": "2022-04-20T09:50:37.636Z"
   },
   {
    "duration": 5,
    "start_time": "2022-04-20T09:55:29.657Z"
   },
   {
    "duration": 4,
    "start_time": "2022-04-20T09:55:30.277Z"
   },
   {
    "duration": 3,
    "start_time": "2022-04-20T09:58:59.847Z"
   },
   {
    "duration": 101,
    "start_time": "2022-04-20T09:59:10.925Z"
   },
   {
    "duration": 220,
    "start_time": "2022-04-20T10:01:01.918Z"
   },
   {
    "duration": 5,
    "start_time": "2022-04-20T10:01:05.588Z"
   },
   {
    "duration": 6,
    "start_time": "2022-04-20T10:01:10.482Z"
   },
   {
    "duration": 6,
    "start_time": "2022-04-20T10:01:11.182Z"
   },
   {
    "duration": 7,
    "start_time": "2022-04-20T10:01:18.145Z"
   },
   {
    "duration": 5,
    "start_time": "2022-04-20T10:01:25.836Z"
   },
   {
    "duration": 5,
    "start_time": "2022-04-20T10:01:26.429Z"
   },
   {
    "duration": 6,
    "start_time": "2022-04-20T10:01:27.691Z"
   },
   {
    "duration": 7,
    "start_time": "2022-04-20T10:01:28.913Z"
   },
   {
    "duration": 1197,
    "start_time": "2022-04-20T10:01:53.412Z"
   },
   {
    "duration": 60,
    "start_time": "2022-04-20T10:01:54.611Z"
   },
   {
    "duration": 13,
    "start_time": "2022-04-20T10:01:54.672Z"
   },
   {
    "duration": 14,
    "start_time": "2022-04-20T10:01:54.689Z"
   },
   {
    "duration": 14,
    "start_time": "2022-04-20T10:01:54.705Z"
   },
   {
    "duration": 20,
    "start_time": "2022-04-20T10:01:54.721Z"
   },
   {
    "duration": 16,
    "start_time": "2022-04-20T10:01:54.743Z"
   },
   {
    "duration": 17,
    "start_time": "2022-04-20T10:01:54.761Z"
   },
   {
    "duration": 9,
    "start_time": "2022-04-20T10:01:54.780Z"
   },
   {
    "duration": 10,
    "start_time": "2022-04-20T10:01:54.792Z"
   },
   {
    "duration": 32,
    "start_time": "2022-04-20T10:01:54.804Z"
   },
   {
    "duration": 9,
    "start_time": "2022-04-20T10:01:54.838Z"
   },
   {
    "duration": 14,
    "start_time": "2022-04-20T10:01:54.849Z"
   },
   {
    "duration": 18,
    "start_time": "2022-04-20T10:01:54.865Z"
   },
   {
    "duration": 11,
    "start_time": "2022-04-20T10:01:54.885Z"
   },
   {
    "duration": 14,
    "start_time": "2022-04-20T10:01:54.898Z"
   },
   {
    "duration": 22,
    "start_time": "2022-04-20T10:01:54.914Z"
   },
   {
    "duration": 8,
    "start_time": "2022-04-20T10:01:54.938Z"
   },
   {
    "duration": 692,
    "start_time": "2022-04-20T10:01:54.948Z"
   },
   {
    "duration": 281,
    "start_time": "2022-04-20T10:01:55.642Z"
   },
   {
    "duration": 16,
    "start_time": "2022-04-20T10:01:55.933Z"
   },
   {
    "duration": 354,
    "start_time": "2022-04-20T10:01:55.951Z"
   },
   {
    "duration": 257,
    "start_time": "2022-04-20T10:01:56.306Z"
   },
   {
    "duration": 369,
    "start_time": "2022-04-20T10:01:56.565Z"
   },
   {
    "duration": 350,
    "start_time": "2022-04-20T10:01:56.937Z"
   },
   {
    "duration": 6,
    "start_time": "2022-04-20T10:01:57.289Z"
   },
   {
    "duration": 267,
    "start_time": "2022-04-20T10:01:57.297Z"
   },
   {
    "duration": 5,
    "start_time": "2022-04-20T10:01:57.568Z"
   },
   {
    "duration": 10,
    "start_time": "2022-04-20T10:01:57.575Z"
   },
   {
    "duration": 326,
    "start_time": "2022-04-20T10:01:57.586Z"
   },
   {
    "duration": 5,
    "start_time": "2022-04-20T10:01:57.914Z"
   },
   {
    "duration": 14,
    "start_time": "2022-04-20T10:01:57.921Z"
   },
   {
    "duration": 9,
    "start_time": "2022-04-20T10:01:57.937Z"
   },
   {
    "duration": 6,
    "start_time": "2022-04-20T10:01:57.948Z"
   },
   {
    "duration": 12,
    "start_time": "2022-04-20T10:01:57.955Z"
   },
   {
    "duration": 299,
    "start_time": "2022-04-20T10:01:57.969Z"
   },
   {
    "duration": 4,
    "start_time": "2022-04-20T10:01:58.270Z"
   },
   {
    "duration": 12,
    "start_time": "2022-04-20T10:01:58.276Z"
   },
   {
    "duration": 10,
    "start_time": "2022-04-20T10:01:58.289Z"
   },
   {
    "duration": 11,
    "start_time": "2022-04-20T10:01:58.301Z"
   },
   {
    "duration": 23,
    "start_time": "2022-04-20T10:01:58.314Z"
   },
   {
    "duration": 7,
    "start_time": "2022-04-20T10:01:58.338Z"
   },
   {
    "duration": 8,
    "start_time": "2022-04-20T10:01:58.347Z"
   },
   {
    "duration": 12,
    "start_time": "2022-04-20T10:01:58.356Z"
   },
   {
    "duration": 1706,
    "start_time": "2022-04-20T19:53:12.888Z"
   },
   {
    "duration": 88,
    "start_time": "2022-04-20T19:53:14.598Z"
   },
   {
    "duration": 16,
    "start_time": "2022-04-20T19:53:14.688Z"
   },
   {
    "duration": 17,
    "start_time": "2022-04-20T19:53:14.706Z"
   },
   {
    "duration": 16,
    "start_time": "2022-04-20T19:53:14.726Z"
   },
   {
    "duration": 22,
    "start_time": "2022-04-20T19:53:14.744Z"
   },
   {
    "duration": 17,
    "start_time": "2022-04-20T19:53:14.768Z"
   },
   {
    "duration": 42,
    "start_time": "2022-04-20T19:53:14.787Z"
   },
   {
    "duration": 8,
    "start_time": "2022-04-20T19:53:14.831Z"
   },
   {
    "duration": 11,
    "start_time": "2022-04-20T19:53:14.841Z"
   },
   {
    "duration": 8,
    "start_time": "2022-04-20T19:53:14.853Z"
   },
   {
    "duration": 7,
    "start_time": "2022-04-20T19:53:14.863Z"
   },
   {
    "duration": 53,
    "start_time": "2022-04-20T19:53:14.872Z"
   },
   {
    "duration": 13,
    "start_time": "2022-04-20T19:53:14.930Z"
   },
   {
    "duration": 18,
    "start_time": "2022-04-20T19:53:14.945Z"
   },
   {
    "duration": 17,
    "start_time": "2022-04-20T19:53:14.965Z"
   },
   {
    "duration": 41,
    "start_time": "2022-04-20T19:53:14.985Z"
   },
   {
    "duration": 24,
    "start_time": "2022-04-20T19:53:15.029Z"
   },
   {
    "duration": 1083,
    "start_time": "2022-04-20T19:53:15.056Z"
   },
   {
    "duration": 442,
    "start_time": "2022-04-20T19:53:16.142Z"
   },
   {
    "duration": 38,
    "start_time": "2022-04-20T19:53:16.587Z"
   },
   {
    "duration": 533,
    "start_time": "2022-04-20T19:53:16.627Z"
   },
   {
    "duration": 413,
    "start_time": "2022-04-20T19:53:17.162Z"
   },
   {
    "duration": 581,
    "start_time": "2022-04-20T19:53:17.577Z"
   },
   {
    "duration": 551,
    "start_time": "2022-04-20T19:53:18.160Z"
   },
   {
    "duration": 16,
    "start_time": "2022-04-20T19:53:18.713Z"
   },
   {
    "duration": 405,
    "start_time": "2022-04-20T19:53:18.731Z"
   },
   {
    "duration": 7,
    "start_time": "2022-04-20T19:53:19.138Z"
   },
   {
    "duration": 10,
    "start_time": "2022-04-20T19:53:19.147Z"
   },
   {
    "duration": 532,
    "start_time": "2022-04-20T19:53:19.159Z"
   },
   {
    "duration": 7,
    "start_time": "2022-04-20T19:53:19.693Z"
   },
   {
    "duration": 24,
    "start_time": "2022-04-20T19:53:19.703Z"
   },
   {
    "duration": 7,
    "start_time": "2022-04-20T19:53:19.730Z"
   },
   {
    "duration": 8,
    "start_time": "2022-04-20T19:53:19.740Z"
   },
   {
    "duration": 16,
    "start_time": "2022-04-20T19:53:19.750Z"
   },
   {
    "duration": 465,
    "start_time": "2022-04-20T19:53:19.769Z"
   },
   {
    "duration": 7,
    "start_time": "2022-04-20T19:53:20.237Z"
   },
   {
    "duration": 16,
    "start_time": "2022-04-20T19:53:20.246Z"
   },
   {
    "duration": 12,
    "start_time": "2022-04-20T19:53:20.264Z"
   },
   {
    "duration": 11,
    "start_time": "2022-04-20T19:53:20.278Z"
   },
   {
    "duration": 35,
    "start_time": "2022-04-20T19:53:20.294Z"
   },
   {
    "duration": 9,
    "start_time": "2022-04-20T19:53:20.331Z"
   },
   {
    "duration": 10,
    "start_time": "2022-04-20T19:53:20.342Z"
   },
   {
    "duration": 10,
    "start_time": "2022-04-20T19:53:20.355Z"
   },
   {
    "duration": 62,
    "start_time": "2022-04-22T15:47:58.880Z"
   },
   {
    "duration": 1277,
    "start_time": "2022-04-22T16:26:50.640Z"
   },
   {
    "duration": 72,
    "start_time": "2022-04-22T16:26:51.919Z"
   },
   {
    "duration": 10,
    "start_time": "2022-04-22T16:26:51.992Z"
   },
   {
    "duration": 18,
    "start_time": "2022-04-22T16:26:52.004Z"
   },
   {
    "duration": 15,
    "start_time": "2022-04-22T16:26:52.026Z"
   },
   {
    "duration": 14,
    "start_time": "2022-04-22T16:26:52.043Z"
   },
   {
    "duration": 13,
    "start_time": "2022-04-22T16:26:52.059Z"
   },
   {
    "duration": 12,
    "start_time": "2022-04-22T16:26:52.074Z"
   },
   {
    "duration": 6,
    "start_time": "2022-04-22T16:26:52.088Z"
   },
   {
    "duration": 35,
    "start_time": "2022-04-22T16:26:52.096Z"
   },
   {
    "duration": 6,
    "start_time": "2022-04-22T16:26:52.132Z"
   },
   {
    "duration": 15,
    "start_time": "2022-04-22T16:26:52.140Z"
   },
   {
    "duration": 11,
    "start_time": "2022-04-22T16:26:52.156Z"
   },
   {
    "duration": 11,
    "start_time": "2022-04-22T16:26:52.169Z"
   },
   {
    "duration": 9,
    "start_time": "2022-04-22T16:26:52.182Z"
   },
   {
    "duration": 13,
    "start_time": "2022-04-22T16:26:52.193Z"
   },
   {
    "duration": 18,
    "start_time": "2022-04-22T16:26:52.207Z"
   },
   {
    "duration": 23,
    "start_time": "2022-04-22T16:26:52.227Z"
   },
   {
    "duration": 806,
    "start_time": "2022-04-22T16:26:52.252Z"
   },
   {
    "duration": 228,
    "start_time": "2022-04-22T16:26:53.060Z"
   },
   {
    "duration": 13,
    "start_time": "2022-04-22T16:26:53.290Z"
   },
   {
    "duration": 357,
    "start_time": "2022-04-22T16:26:53.305Z"
   },
   {
    "duration": 206,
    "start_time": "2022-04-22T16:26:53.664Z"
   },
   {
    "duration": 329,
    "start_time": "2022-04-22T16:26:53.872Z"
   },
   {
    "duration": 295,
    "start_time": "2022-04-22T16:26:54.203Z"
   },
   {
    "duration": 5,
    "start_time": "2022-04-22T16:26:54.499Z"
   },
   {
    "duration": 209,
    "start_time": "2022-04-22T16:26:54.505Z"
   },
   {
    "duration": 6,
    "start_time": "2022-04-22T16:26:54.723Z"
   },
   {
    "duration": 16,
    "start_time": "2022-04-22T16:26:54.730Z"
   },
   {
    "duration": 277,
    "start_time": "2022-04-22T16:26:54.747Z"
   },
   {
    "duration": 6,
    "start_time": "2022-04-22T16:26:55.029Z"
   },
   {
    "duration": 11,
    "start_time": "2022-04-22T16:26:55.036Z"
   },
   {
    "duration": 5,
    "start_time": "2022-04-22T16:26:55.049Z"
   },
   {
    "duration": 5,
    "start_time": "2022-04-22T16:26:55.056Z"
   },
   {
    "duration": 9,
    "start_time": "2022-04-22T16:26:55.062Z"
   },
   {
    "duration": 241,
    "start_time": "2022-04-22T16:26:55.072Z"
   },
   {
    "duration": 9,
    "start_time": "2022-04-22T16:26:55.315Z"
   },
   {
    "duration": 21,
    "start_time": "2022-04-22T16:26:55.326Z"
   },
   {
    "duration": 7,
    "start_time": "2022-04-22T16:26:55.348Z"
   },
   {
    "duration": 8,
    "start_time": "2022-04-22T16:26:55.356Z"
   },
   {
    "duration": 6,
    "start_time": "2022-04-22T16:26:55.367Z"
   },
   {
    "duration": 5,
    "start_time": "2022-04-22T16:26:55.374Z"
   },
   {
    "duration": 6,
    "start_time": "2022-04-22T16:26:55.381Z"
   },
   {
    "duration": 7,
    "start_time": "2022-04-22T16:26:55.388Z"
   },
   {
    "duration": 1064,
    "start_time": "2022-04-22T16:38:41.732Z"
   },
   {
    "duration": 39,
    "start_time": "2022-04-22T16:38:42.798Z"
   },
   {
    "duration": 12,
    "start_time": "2022-04-22T16:38:42.841Z"
   },
   {
    "duration": 12,
    "start_time": "2022-04-22T16:38:42.856Z"
   },
   {
    "duration": 14,
    "start_time": "2022-04-22T16:38:42.869Z"
   },
   {
    "duration": 14,
    "start_time": "2022-04-22T16:38:42.884Z"
   },
   {
    "duration": 24,
    "start_time": "2022-04-22T16:38:42.899Z"
   },
   {
    "duration": 18,
    "start_time": "2022-04-22T16:38:42.926Z"
   },
   {
    "duration": 7,
    "start_time": "2022-04-22T16:38:42.946Z"
   },
   {
    "duration": 7,
    "start_time": "2022-04-22T16:38:42.955Z"
   },
   {
    "duration": 8,
    "start_time": "2022-04-22T16:38:42.964Z"
   },
   {
    "duration": 6,
    "start_time": "2022-04-22T16:38:42.973Z"
   },
   {
    "duration": 18,
    "start_time": "2022-04-22T16:38:42.980Z"
   },
   {
    "duration": 10,
    "start_time": "2022-04-22T16:38:43.024Z"
   },
   {
    "duration": 18,
    "start_time": "2022-04-22T16:38:43.036Z"
   },
   {
    "duration": 12,
    "start_time": "2022-04-22T16:38:43.056Z"
   },
   {
    "duration": 8,
    "start_time": "2022-04-22T16:38:43.070Z"
   },
   {
    "duration": 10,
    "start_time": "2022-04-22T16:38:43.080Z"
   },
   {
    "duration": 589,
    "start_time": "2022-04-22T16:38:43.091Z"
   },
   {
    "duration": 223,
    "start_time": "2022-04-22T16:38:43.682Z"
   },
   {
    "duration": 18,
    "start_time": "2022-04-22T16:38:43.907Z"
   },
   {
    "duration": 438,
    "start_time": "2022-04-22T16:38:43.927Z"
   },
   {
    "duration": 341,
    "start_time": "2022-04-22T16:38:44.367Z"
   },
   {
    "duration": 473,
    "start_time": "2022-04-22T16:38:44.710Z"
   },
   {
    "duration": 262,
    "start_time": "2022-04-22T16:38:45.185Z"
   },
   {
    "duration": 5,
    "start_time": "2022-04-22T16:38:45.449Z"
   },
   {
    "duration": 209,
    "start_time": "2022-04-22T16:38:45.455Z"
   },
   {
    "duration": 5,
    "start_time": "2022-04-22T16:38:45.668Z"
   },
   {
    "duration": 9,
    "start_time": "2022-04-22T16:38:45.675Z"
   },
   {
    "duration": 465,
    "start_time": "2022-04-22T16:38:45.686Z"
   },
   {
    "duration": 5,
    "start_time": "2022-04-22T16:38:46.153Z"
   },
   {
    "duration": 16,
    "start_time": "2022-04-22T16:38:46.160Z"
   },
   {
    "duration": 9,
    "start_time": "2022-04-22T16:38:46.178Z"
   },
   {
    "duration": 9,
    "start_time": "2022-04-22T16:38:46.189Z"
   },
   {
    "duration": 9,
    "start_time": "2022-04-22T16:38:46.199Z"
   },
   {
    "duration": 232,
    "start_time": "2022-04-22T16:38:46.210Z"
   },
   {
    "duration": 4,
    "start_time": "2022-04-22T16:38:46.444Z"
   },
   {
    "duration": 11,
    "start_time": "2022-04-22T16:38:46.450Z"
   },
   {
    "duration": 18,
    "start_time": "2022-04-22T16:38:46.462Z"
   },
   {
    "duration": 17,
    "start_time": "2022-04-22T16:38:46.482Z"
   },
   {
    "duration": 9,
    "start_time": "2022-04-22T16:38:46.500Z"
   },
   {
    "duration": 17,
    "start_time": "2022-04-22T16:38:46.511Z"
   },
   {
    "duration": 9,
    "start_time": "2022-04-22T16:38:46.529Z"
   },
   {
    "duration": 16,
    "start_time": "2022-04-22T16:38:46.539Z"
   },
   {
    "duration": 399,
    "start_time": "2022-04-22T16:41:53.055Z"
   },
   {
    "duration": 1117,
    "start_time": "2022-04-22T16:42:00.138Z"
   },
   {
    "duration": 42,
    "start_time": "2022-04-22T16:42:01.257Z"
   },
   {
    "duration": 13,
    "start_time": "2022-04-22T16:42:01.301Z"
   },
   {
    "duration": 39,
    "start_time": "2022-04-22T16:42:01.316Z"
   },
   {
    "duration": 31,
    "start_time": "2022-04-22T16:42:01.356Z"
   },
   {
    "duration": 80,
    "start_time": "2022-04-22T16:42:01.389Z"
   },
   {
    "duration": 29,
    "start_time": "2022-04-22T16:42:01.471Z"
   },
   {
    "duration": 26,
    "start_time": "2022-04-22T16:42:01.502Z"
   },
   {
    "duration": 20,
    "start_time": "2022-04-22T16:42:01.530Z"
   },
   {
    "duration": 21,
    "start_time": "2022-04-22T16:42:01.553Z"
   },
   {
    "duration": 8,
    "start_time": "2022-04-22T16:42:01.576Z"
   },
   {
    "duration": 24,
    "start_time": "2022-04-22T16:42:01.586Z"
   },
   {
    "duration": 34,
    "start_time": "2022-04-22T16:42:01.612Z"
   },
   {
    "duration": 30,
    "start_time": "2022-04-22T16:42:01.648Z"
   },
   {
    "duration": 33,
    "start_time": "2022-04-22T16:42:01.681Z"
   },
   {
    "duration": 43,
    "start_time": "2022-04-22T16:42:01.716Z"
   },
   {
    "duration": 16,
    "start_time": "2022-04-22T16:42:01.761Z"
   },
   {
    "duration": 24,
    "start_time": "2022-04-22T16:42:01.780Z"
   },
   {
    "duration": 721,
    "start_time": "2022-04-22T16:42:01.806Z"
   },
   {
    "duration": 238,
    "start_time": "2022-04-22T16:42:02.529Z"
   },
   {
    "duration": 14,
    "start_time": "2022-04-22T16:42:02.769Z"
   },
   {
    "duration": 368,
    "start_time": "2022-04-22T16:42:02.785Z"
   },
   {
    "duration": 225,
    "start_time": "2022-04-22T16:42:03.155Z"
   },
   {
    "duration": 480,
    "start_time": "2022-04-22T16:42:03.382Z"
   },
   {
    "duration": 529,
    "start_time": "2022-04-22T16:42:03.865Z"
   },
   {
    "duration": 5,
    "start_time": "2022-04-22T16:42:04.397Z"
   },
   {
    "duration": 224,
    "start_time": "2022-04-22T16:42:04.404Z"
   },
   {
    "duration": 7,
    "start_time": "2022-04-22T16:42:04.632Z"
   },
   {
    "duration": 7,
    "start_time": "2022-04-22T16:42:04.640Z"
   },
   {
    "duration": 296,
    "start_time": "2022-04-22T16:42:04.648Z"
   },
   {
    "duration": 4,
    "start_time": "2022-04-22T16:42:04.946Z"
   },
   {
    "duration": 7,
    "start_time": "2022-04-22T16:42:04.951Z"
   },
   {
    "duration": 5,
    "start_time": "2022-04-22T16:42:04.959Z"
   },
   {
    "duration": 7,
    "start_time": "2022-04-22T16:42:04.967Z"
   },
   {
    "duration": 8,
    "start_time": "2022-04-22T16:42:04.976Z"
   },
   {
    "duration": 280,
    "start_time": "2022-04-22T16:42:04.985Z"
   },
   {
    "duration": 6,
    "start_time": "2022-04-22T16:42:05.268Z"
   },
   {
    "duration": 7,
    "start_time": "2022-04-22T16:42:05.276Z"
   },
   {
    "duration": 10,
    "start_time": "2022-04-22T16:42:05.284Z"
   },
   {
    "duration": 35,
    "start_time": "2022-04-22T16:42:05.296Z"
   },
   {
    "duration": 12,
    "start_time": "2022-04-22T16:42:05.337Z"
   },
   {
    "duration": 5,
    "start_time": "2022-04-22T16:42:05.351Z"
   },
   {
    "duration": 6,
    "start_time": "2022-04-22T16:42:05.358Z"
   },
   {
    "duration": 6,
    "start_time": "2022-04-22T16:42:05.366Z"
   }
  ],
  "kernelspec": {
   "display_name": "Python 3 (ipykernel)",
   "language": "python",
   "name": "python3"
  },
  "language_info": {
   "codemirror_mode": {
    "name": "ipython",
    "version": 3
   },
   "file_extension": ".py",
   "mimetype": "text/x-python",
   "name": "python",
   "nbconvert_exporter": "python",
   "pygments_lexer": "ipython3",
   "version": "3.9.5"
  },
  "toc": {
   "base_numbering": 1,
   "nav_menu": {},
   "number_sections": true,
   "sideBar": true,
   "skip_h1_title": true,
   "title_cell": "Table of Contents",
   "title_sidebar": "Contents",
   "toc_cell": false,
   "toc_position": {},
   "toc_section_display": true,
   "toc_window_display": false
  }
 },
 "nbformat": 4,
 "nbformat_minor": 2
}
