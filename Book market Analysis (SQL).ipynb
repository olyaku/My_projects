{
 "cells": [
  {
   "cell_type": "markdown",
   "metadata": {},
   "source": [
    "## Brief\n",
    "\n",
    "**Project goal**: to analyze the data of one of the services competing in book market. Database contains data on books, publishers, authors, and customer ratings and reviews of books. This information will be used to generate a value proposition for a new product. \n",
    "\n",
    "**Tasks:**\n",
    "\n",
    "- Find the number of books released after January 1, 2000.\n",
    "- Find the number of user reviews and the average rating for each book.\n",
    "- Identify the publisher that has released the greatest number of books with more than 50 pages (this will help you exclude brochures and similar publications from your analysis).\n",
    "- Identify the author with the highest average book rating (look only at books with at least 50 ratings).\n",
    "- Find the average number of text reviews among users who rated more than 50 books.\n",
    "\n"
   ]
  },
  {
   "cell_type": "code",
   "execution_count": 1,
   "metadata": {},
   "outputs": [],
   "source": [
    "# import libraries\n",
    "\n",
    "import pandas as pd\n",
    "from sqlalchemy import create_engine"
   ]
  },
  {
   "cell_type": "code",
   "execution_count": 2,
   "metadata": {},
   "outputs": [],
   "source": [
    "db_config = {'user': 'praktikum_student',         # user name\n",
    "             'pwd': 'Sdf4$2;d-d30pp', # password\n",
    "             'host': 'rc1b-wcoijxj3yxfsf3fs.mdb.yandexcloud.net',\n",
    "             'port': 6432,              # connection port\n",
    "             'db': 'data-analyst-final-project-db'}          # the name of the data base\n",
    "\n",
    "connection_string = 'postgresql://{}:{}@{}:{}/{}'.format(db_config['user'],\n",
    "                                                                     db_config['pwd'],\n",
    "                                                                       db_config['host'],\n",
    "                                                                       db_config['port'],\n",
    "                                                                       db_config['db'])\n",
    "\n",
    "engine = create_engine(connection_string, connect_args={'sslmode':'require'})"
   ]
  },
  {
   "cell_type": "code",
   "execution_count": 3,
   "metadata": {},
   "outputs": [
    {
     "data": {
      "text/html": [
       "<div>\n",
       "<style scoped>\n",
       "    .dataframe tbody tr th:only-of-type {\n",
       "        vertical-align: middle;\n",
       "    }\n",
       "\n",
       "    .dataframe tbody tr th {\n",
       "        vertical-align: top;\n",
       "    }\n",
       "\n",
       "    .dataframe thead th {\n",
       "        text-align: right;\n",
       "    }\n",
       "</style>\n",
       "<table border=\"1\" class=\"dataframe\">\n",
       "  <thead>\n",
       "    <tr style=\"text-align: right;\">\n",
       "      <th></th>\n",
       "      <th>author_id</th>\n",
       "      <th>author</th>\n",
       "    </tr>\n",
       "  </thead>\n",
       "  <tbody>\n",
       "    <tr>\n",
       "      <th>0</th>\n",
       "      <td>1</td>\n",
       "      <td>A.S. Byatt</td>\n",
       "    </tr>\n",
       "    <tr>\n",
       "      <th>1</th>\n",
       "      <td>2</td>\n",
       "      <td>Aesop/Laura Harris/Laura Gibbs</td>\n",
       "    </tr>\n",
       "    <tr>\n",
       "      <th>2</th>\n",
       "      <td>3</td>\n",
       "      <td>Agatha Christie</td>\n",
       "    </tr>\n",
       "    <tr>\n",
       "      <th>3</th>\n",
       "      <td>4</td>\n",
       "      <td>Alan Brennert</td>\n",
       "    </tr>\n",
       "    <tr>\n",
       "      <th>4</th>\n",
       "      <td>5</td>\n",
       "      <td>Alan Moore/David   Lloyd</td>\n",
       "    </tr>\n",
       "  </tbody>\n",
       "</table>\n",
       "</div>"
      ],
      "text/plain": [
       "   author_id                          author\n",
       "0          1                      A.S. Byatt\n",
       "1          2  Aesop/Laura Harris/Laura Gibbs\n",
       "2          3                 Agatha Christie\n",
       "3          4                   Alan Brennert\n",
       "4          5        Alan Moore/David   Lloyd"
      ]
     },
     "execution_count": 3,
     "metadata": {},
     "output_type": "execute_result"
    }
   ],
   "source": [
    "# Study the table \"authors\"\n",
    "\n",
    "query = \"SELECT * FROM authors LIMIT 5\"\n",
    "\n",
    "pd.io.sql.read_sql(query, con = engine)"
   ]
  },
  {
   "cell_type": "code",
   "execution_count": 4,
   "metadata": {},
   "outputs": [
    {
     "data": {
      "text/html": [
       "<div>\n",
       "<style scoped>\n",
       "    .dataframe tbody tr th:only-of-type {\n",
       "        vertical-align: middle;\n",
       "    }\n",
       "\n",
       "    .dataframe tbody tr th {\n",
       "        vertical-align: top;\n",
       "    }\n",
       "\n",
       "    .dataframe thead th {\n",
       "        text-align: right;\n",
       "    }\n",
       "</style>\n",
       "<table border=\"1\" class=\"dataframe\">\n",
       "  <thead>\n",
       "    <tr style=\"text-align: right;\">\n",
       "      <th></th>\n",
       "      <th>book_id</th>\n",
       "      <th>author_id</th>\n",
       "      <th>title</th>\n",
       "      <th>num_pages</th>\n",
       "      <th>publication_date</th>\n",
       "      <th>publisher_id</th>\n",
       "    </tr>\n",
       "  </thead>\n",
       "  <tbody>\n",
       "    <tr>\n",
       "      <th>0</th>\n",
       "      <td>1</td>\n",
       "      <td>546</td>\n",
       "      <td>'Salem's Lot</td>\n",
       "      <td>594</td>\n",
       "      <td>2005-11-01</td>\n",
       "      <td>93</td>\n",
       "    </tr>\n",
       "    <tr>\n",
       "      <th>1</th>\n",
       "      <td>2</td>\n",
       "      <td>465</td>\n",
       "      <td>1 000 Places to See Before You Die</td>\n",
       "      <td>992</td>\n",
       "      <td>2003-05-22</td>\n",
       "      <td>336</td>\n",
       "    </tr>\n",
       "    <tr>\n",
       "      <th>2</th>\n",
       "      <td>3</td>\n",
       "      <td>407</td>\n",
       "      <td>13 Little Blue Envelopes (Little Blue Envelope...</td>\n",
       "      <td>322</td>\n",
       "      <td>2010-12-21</td>\n",
       "      <td>135</td>\n",
       "    </tr>\n",
       "    <tr>\n",
       "      <th>3</th>\n",
       "      <td>4</td>\n",
       "      <td>82</td>\n",
       "      <td>1491: New Revelations of the Americas Before C...</td>\n",
       "      <td>541</td>\n",
       "      <td>2006-10-10</td>\n",
       "      <td>309</td>\n",
       "    </tr>\n",
       "    <tr>\n",
       "      <th>4</th>\n",
       "      <td>5</td>\n",
       "      <td>125</td>\n",
       "      <td>1776</td>\n",
       "      <td>386</td>\n",
       "      <td>2006-07-04</td>\n",
       "      <td>268</td>\n",
       "    </tr>\n",
       "  </tbody>\n",
       "</table>\n",
       "</div>"
      ],
      "text/plain": [
       "   book_id  author_id                                              title  \\\n",
       "0        1        546                                       'Salem's Lot   \n",
       "1        2        465                 1 000 Places to See Before You Die   \n",
       "2        3        407  13 Little Blue Envelopes (Little Blue Envelope...   \n",
       "3        4         82  1491: New Revelations of the Americas Before C...   \n",
       "4        5        125                                               1776   \n",
       "\n",
       "   num_pages publication_date  publisher_id  \n",
       "0        594       2005-11-01            93  \n",
       "1        992       2003-05-22           336  \n",
       "2        322       2010-12-21           135  \n",
       "3        541       2006-10-10           309  \n",
       "4        386       2006-07-04           268  "
      ]
     },
     "execution_count": 4,
     "metadata": {},
     "output_type": "execute_result"
    }
   ],
   "source": [
    "# Study the table \"books\"\n",
    "\n",
    "query = \"SELECT * FROM books LIMIT 5\"\n",
    "\n",
    "pd.io.sql.read_sql(query, con = engine)"
   ]
  },
  {
   "cell_type": "code",
   "execution_count": 5,
   "metadata": {},
   "outputs": [
    {
     "data": {
      "text/html": [
       "<div>\n",
       "<style scoped>\n",
       "    .dataframe tbody tr th:only-of-type {\n",
       "        vertical-align: middle;\n",
       "    }\n",
       "\n",
       "    .dataframe tbody tr th {\n",
       "        vertical-align: top;\n",
       "    }\n",
       "\n",
       "    .dataframe thead th {\n",
       "        text-align: right;\n",
       "    }\n",
       "</style>\n",
       "<table border=\"1\" class=\"dataframe\">\n",
       "  <thead>\n",
       "    <tr style=\"text-align: right;\">\n",
       "      <th></th>\n",
       "      <th>publisher_id</th>\n",
       "      <th>publisher</th>\n",
       "    </tr>\n",
       "  </thead>\n",
       "  <tbody>\n",
       "    <tr>\n",
       "      <th>0</th>\n",
       "      <td>1</td>\n",
       "      <td>Ace</td>\n",
       "    </tr>\n",
       "    <tr>\n",
       "      <th>1</th>\n",
       "      <td>2</td>\n",
       "      <td>Ace Book</td>\n",
       "    </tr>\n",
       "    <tr>\n",
       "      <th>2</th>\n",
       "      <td>3</td>\n",
       "      <td>Ace Books</td>\n",
       "    </tr>\n",
       "    <tr>\n",
       "      <th>3</th>\n",
       "      <td>4</td>\n",
       "      <td>Ace Hardcover</td>\n",
       "    </tr>\n",
       "    <tr>\n",
       "      <th>4</th>\n",
       "      <td>5</td>\n",
       "      <td>Addison Wesley Publishing Company</td>\n",
       "    </tr>\n",
       "  </tbody>\n",
       "</table>\n",
       "</div>"
      ],
      "text/plain": [
       "   publisher_id                          publisher\n",
       "0             1                                Ace\n",
       "1             2                           Ace Book\n",
       "2             3                          Ace Books\n",
       "3             4                      Ace Hardcover\n",
       "4             5  Addison Wesley Publishing Company"
      ]
     },
     "execution_count": 5,
     "metadata": {},
     "output_type": "execute_result"
    }
   ],
   "source": [
    "# Study the table \"publishers\"\n",
    "\n",
    "query = \"SELECT * FROM publishers LIMIT 5\"\n",
    "\n",
    "pd.io.sql.read_sql(query, con = engine)"
   ]
  },
  {
   "cell_type": "code",
   "execution_count": 6,
   "metadata": {},
   "outputs": [
    {
     "data": {
      "text/html": [
       "<div>\n",
       "<style scoped>\n",
       "    .dataframe tbody tr th:only-of-type {\n",
       "        vertical-align: middle;\n",
       "    }\n",
       "\n",
       "    .dataframe tbody tr th {\n",
       "        vertical-align: top;\n",
       "    }\n",
       "\n",
       "    .dataframe thead th {\n",
       "        text-align: right;\n",
       "    }\n",
       "</style>\n",
       "<table border=\"1\" class=\"dataframe\">\n",
       "  <thead>\n",
       "    <tr style=\"text-align: right;\">\n",
       "      <th></th>\n",
       "      <th>rating_id</th>\n",
       "      <th>book_id</th>\n",
       "      <th>username</th>\n",
       "      <th>rating</th>\n",
       "    </tr>\n",
       "  </thead>\n",
       "  <tbody>\n",
       "    <tr>\n",
       "      <th>0</th>\n",
       "      <td>1</td>\n",
       "      <td>1</td>\n",
       "      <td>ryanfranco</td>\n",
       "      <td>4</td>\n",
       "    </tr>\n",
       "    <tr>\n",
       "      <th>1</th>\n",
       "      <td>2</td>\n",
       "      <td>1</td>\n",
       "      <td>grantpatricia</td>\n",
       "      <td>2</td>\n",
       "    </tr>\n",
       "    <tr>\n",
       "      <th>2</th>\n",
       "      <td>3</td>\n",
       "      <td>1</td>\n",
       "      <td>brandtandrea</td>\n",
       "      <td>5</td>\n",
       "    </tr>\n",
       "    <tr>\n",
       "      <th>3</th>\n",
       "      <td>4</td>\n",
       "      <td>2</td>\n",
       "      <td>lorichen</td>\n",
       "      <td>3</td>\n",
       "    </tr>\n",
       "    <tr>\n",
       "      <th>4</th>\n",
       "      <td>5</td>\n",
       "      <td>2</td>\n",
       "      <td>mariokeller</td>\n",
       "      <td>2</td>\n",
       "    </tr>\n",
       "  </tbody>\n",
       "</table>\n",
       "</div>"
      ],
      "text/plain": [
       "   rating_id  book_id       username  rating\n",
       "0          1        1     ryanfranco       4\n",
       "1          2        1  grantpatricia       2\n",
       "2          3        1   brandtandrea       5\n",
       "3          4        2       lorichen       3\n",
       "4          5        2    mariokeller       2"
      ]
     },
     "execution_count": 6,
     "metadata": {},
     "output_type": "execute_result"
    }
   ],
   "source": [
    "# Study the table \"ratings\"\n",
    "\n",
    "query = \"SELECT * FROM ratings LIMIT 5\"\n",
    "\n",
    "pd.io.sql.read_sql(query, con = engine)"
   ]
  },
  {
   "cell_type": "code",
   "execution_count": 7,
   "metadata": {},
   "outputs": [
    {
     "data": {
      "text/html": [
       "<div>\n",
       "<style scoped>\n",
       "    .dataframe tbody tr th:only-of-type {\n",
       "        vertical-align: middle;\n",
       "    }\n",
       "\n",
       "    .dataframe tbody tr th {\n",
       "        vertical-align: top;\n",
       "    }\n",
       "\n",
       "    .dataframe thead th {\n",
       "        text-align: right;\n",
       "    }\n",
       "</style>\n",
       "<table border=\"1\" class=\"dataframe\">\n",
       "  <thead>\n",
       "    <tr style=\"text-align: right;\">\n",
       "      <th></th>\n",
       "      <th>review_id</th>\n",
       "      <th>book_id</th>\n",
       "      <th>username</th>\n",
       "      <th>text</th>\n",
       "    </tr>\n",
       "  </thead>\n",
       "  <tbody>\n",
       "    <tr>\n",
       "      <th>0</th>\n",
       "      <td>1</td>\n",
       "      <td>1</td>\n",
       "      <td>brandtandrea</td>\n",
       "      <td>Mention society tell send professor analysis. ...</td>\n",
       "    </tr>\n",
       "    <tr>\n",
       "      <th>1</th>\n",
       "      <td>2</td>\n",
       "      <td>1</td>\n",
       "      <td>ryanfranco</td>\n",
       "      <td>Foot glass pretty audience hit themselves. Amo...</td>\n",
       "    </tr>\n",
       "    <tr>\n",
       "      <th>2</th>\n",
       "      <td>3</td>\n",
       "      <td>2</td>\n",
       "      <td>lorichen</td>\n",
       "      <td>Listen treat keep worry. Miss husband tax but ...</td>\n",
       "    </tr>\n",
       "    <tr>\n",
       "      <th>3</th>\n",
       "      <td>4</td>\n",
       "      <td>3</td>\n",
       "      <td>johnsonamanda</td>\n",
       "      <td>Finally month interesting blue could nature cu...</td>\n",
       "    </tr>\n",
       "    <tr>\n",
       "      <th>4</th>\n",
       "      <td>5</td>\n",
       "      <td>3</td>\n",
       "      <td>scotttamara</td>\n",
       "      <td>Nation purpose heavy give wait song will. List...</td>\n",
       "    </tr>\n",
       "  </tbody>\n",
       "</table>\n",
       "</div>"
      ],
      "text/plain": [
       "   review_id  book_id       username  \\\n",
       "0          1        1   brandtandrea   \n",
       "1          2        1     ryanfranco   \n",
       "2          3        2       lorichen   \n",
       "3          4        3  johnsonamanda   \n",
       "4          5        3    scotttamara   \n",
       "\n",
       "                                                text  \n",
       "0  Mention society tell send professor analysis. ...  \n",
       "1  Foot glass pretty audience hit themselves. Amo...  \n",
       "2  Listen treat keep worry. Miss husband tax but ...  \n",
       "3  Finally month interesting blue could nature cu...  \n",
       "4  Nation purpose heavy give wait song will. List...  "
      ]
     },
     "execution_count": 7,
     "metadata": {},
     "output_type": "execute_result"
    }
   ],
   "source": [
    "# Study the table \"reviews\"\n",
    "\n",
    "query = \"SELECT * FROM reviews LIMIT 5\"\n",
    "\n",
    "pd.io.sql.read_sql(query, con = engine)"
   ]
  },
  {
   "cell_type": "markdown",
   "metadata": {},
   "source": [
    "We have 5 datasets with data on books, their authors, on publishers, reviews and ratings.\n",
    "\n",
    "- Books contain data on book id, author id, title, number of pages, publication date and publisher id;\n",
    "- Authors contain data on author id and author name;\n",
    "- Publishers: publisher id and publisher name;\n",
    "- Ratings: rating id, book id, username, rating;\n",
    "- Reviews: review id, book id, username and text of the review."
   ]
  },
  {
   "cell_type": "code",
   "execution_count": 8,
   "metadata": {},
   "outputs": [
    {
     "data": {
      "text/html": [
       "<div>\n",
       "<style scoped>\n",
       "    .dataframe tbody tr th:only-of-type {\n",
       "        vertical-align: middle;\n",
       "    }\n",
       "\n",
       "    .dataframe tbody tr th {\n",
       "        vertical-align: top;\n",
       "    }\n",
       "\n",
       "    .dataframe thead th {\n",
       "        text-align: right;\n",
       "    }\n",
       "</style>\n",
       "<table border=\"1\" class=\"dataframe\">\n",
       "  <thead>\n",
       "    <tr style=\"text-align: right;\">\n",
       "      <th></th>\n",
       "      <th>count</th>\n",
       "    </tr>\n",
       "  </thead>\n",
       "  <tbody>\n",
       "    <tr>\n",
       "      <th>0</th>\n",
       "      <td>819</td>\n",
       "    </tr>\n",
       "  </tbody>\n",
       "</table>\n",
       "</div>"
      ],
      "text/plain": [
       "   count\n",
       "0    819"
      ]
     },
     "execution_count": 8,
     "metadata": {},
     "output_type": "execute_result"
    }
   ],
   "source": [
    "# Find the number of books released after January 1, 2000.\n",
    "\n",
    "query = \"SELECT COUNT(Distinct book_id) FROM books WHERE publication_date > '2000-01-01'\"\n",
    "\n",
    "pd.io.sql.read_sql(query, con = engine)"
   ]
  },
  {
   "cell_type": "markdown",
   "metadata": {},
   "source": [
    "819 books were released after January 1, 2000."
   ]
  },
  {
   "cell_type": "code",
   "execution_count": 9,
   "metadata": {},
   "outputs": [
    {
     "data": {
      "text/html": [
       "<div>\n",
       "<style scoped>\n",
       "    .dataframe tbody tr th:only-of-type {\n",
       "        vertical-align: middle;\n",
       "    }\n",
       "\n",
       "    .dataframe tbody tr th {\n",
       "        vertical-align: top;\n",
       "    }\n",
       "\n",
       "    .dataframe thead th {\n",
       "        text-align: right;\n",
       "    }\n",
       "</style>\n",
       "<table border=\"1\" class=\"dataframe\">\n",
       "  <thead>\n",
       "    <tr style=\"text-align: right;\">\n",
       "      <th></th>\n",
       "      <th>title</th>\n",
       "      <th>avg_rating</th>\n",
       "      <th>n_reviews</th>\n",
       "    </tr>\n",
       "  </thead>\n",
       "  <tbody>\n",
       "    <tr>\n",
       "      <th>0</th>\n",
       "      <td>Arrows of the Queen (Heralds of Valdemar  #1)</td>\n",
       "      <td>5.00</td>\n",
       "      <td>2</td>\n",
       "    </tr>\n",
       "    <tr>\n",
       "      <th>1</th>\n",
       "      <td>The Walking Dead  Book One (The Walking Dead #...</td>\n",
       "      <td>5.00</td>\n",
       "      <td>2</td>\n",
       "    </tr>\n",
       "    <tr>\n",
       "      <th>2</th>\n",
       "      <td>Light in August</td>\n",
       "      <td>5.00</td>\n",
       "      <td>2</td>\n",
       "    </tr>\n",
       "    <tr>\n",
       "      <th>3</th>\n",
       "      <td>Wherever You Go  There You Are: Mindfulness Me...</td>\n",
       "      <td>5.00</td>\n",
       "      <td>2</td>\n",
       "    </tr>\n",
       "    <tr>\n",
       "      <th>4</th>\n",
       "      <td>Captivating: Unveiling the Mystery of a Woman'...</td>\n",
       "      <td>5.00</td>\n",
       "      <td>2</td>\n",
       "    </tr>\n",
       "    <tr>\n",
       "      <th>...</th>\n",
       "      <td>...</td>\n",
       "      <td>...</td>\n",
       "      <td>...</td>\n",
       "    </tr>\n",
       "    <tr>\n",
       "      <th>995</th>\n",
       "      <td>The World Is Flat: A Brief History of the Twen...</td>\n",
       "      <td>2.25</td>\n",
       "      <td>3</td>\n",
       "    </tr>\n",
       "    <tr>\n",
       "      <th>996</th>\n",
       "      <td>His Excellency: George Washington</td>\n",
       "      <td>2.00</td>\n",
       "      <td>2</td>\n",
       "    </tr>\n",
       "    <tr>\n",
       "      <th>997</th>\n",
       "      <td>Drowning Ruth</td>\n",
       "      <td>2.00</td>\n",
       "      <td>3</td>\n",
       "    </tr>\n",
       "    <tr>\n",
       "      <th>998</th>\n",
       "      <td>Junky</td>\n",
       "      <td>2.00</td>\n",
       "      <td>2</td>\n",
       "    </tr>\n",
       "    <tr>\n",
       "      <th>999</th>\n",
       "      <td>Harvesting the Heart</td>\n",
       "      <td>1.50</td>\n",
       "      <td>2</td>\n",
       "    </tr>\n",
       "  </tbody>\n",
       "</table>\n",
       "<p>1000 rows × 3 columns</p>\n",
       "</div>"
      ],
      "text/plain": [
       "                                                 title  avg_rating  n_reviews\n",
       "0        Arrows of the Queen (Heralds of Valdemar  #1)        5.00          2\n",
       "1    The Walking Dead  Book One (The Walking Dead #...        5.00          2\n",
       "2                                      Light in August        5.00          2\n",
       "3    Wherever You Go  There You Are: Mindfulness Me...        5.00          2\n",
       "4    Captivating: Unveiling the Mystery of a Woman'...        5.00          2\n",
       "..                                                 ...         ...        ...\n",
       "995  The World Is Flat: A Brief History of the Twen...        2.25          3\n",
       "996                  His Excellency: George Washington        2.00          2\n",
       "997                                      Drowning Ruth        2.00          3\n",
       "998                                              Junky        2.00          2\n",
       "999                               Harvesting the Heart        1.50          2\n",
       "\n",
       "[1000 rows x 3 columns]"
      ]
     },
     "execution_count": 9,
     "metadata": {},
     "output_type": "execute_result"
    }
   ],
   "source": [
    "# Find the number of user reviews and the average rating for each book.\n",
    "\n",
    "query = f\"\"\"\n",
    "SELECT books.title, AVG(rating) AS avg_rating, COUNT(DISTINCT review_id) AS n_reviews \n",
    "FROM ratings \n",
    "LEFT JOIN reviews ON reviews.book_id = ratings.book_id \n",
    "LEFT JOIN books On books.book_id = reviews.book_id\n",
    "GROUP BY ratings.book_id, books.title \n",
    "ORDER BY  avg_rating DESC\"\"\"\n",
    "\n",
    "pd.io.sql.read_sql(query, con = engine)"
   ]
  },
  {
   "cell_type": "code",
   "execution_count": 11,
   "metadata": {},
   "outputs": [
    {
     "data": {
      "text/html": [
       "<div>\n",
       "<style scoped>\n",
       "    .dataframe tbody tr th:only-of-type {\n",
       "        vertical-align: middle;\n",
       "    }\n",
       "\n",
       "    .dataframe tbody tr th {\n",
       "        vertical-align: top;\n",
       "    }\n",
       "\n",
       "    .dataframe thead th {\n",
       "        text-align: right;\n",
       "    }\n",
       "</style>\n",
       "<table border=\"1\" class=\"dataframe\">\n",
       "  <thead>\n",
       "    <tr style=\"text-align: right;\">\n",
       "      <th></th>\n",
       "      <th>publisher</th>\n",
       "      <th>n_books</th>\n",
       "    </tr>\n",
       "  </thead>\n",
       "  <tbody>\n",
       "    <tr>\n",
       "      <th>0</th>\n",
       "      <td>Penguin Books</td>\n",
       "      <td>42</td>\n",
       "    </tr>\n",
       "  </tbody>\n",
       "</table>\n",
       "</div>"
      ],
      "text/plain": [
       "       publisher  n_books\n",
       "0  Penguin Books       42"
      ]
     },
     "execution_count": 11,
     "metadata": {},
     "output_type": "execute_result"
    }
   ],
   "source": [
    "query = f\"\"\"\n",
    "SELECT publisher, COUNT(DISTINCT book_id) AS n_books\n",
    "FROM publishers AS p \n",
    "JOIN books AS b ON b.publisher_id = p.publisher_id \n",
    "WHERE num_pages > 50 \n",
    "GROUP BY publisher \n",
    "ORDER BY COUNT(DISTINCT book_id) DESC LIMIT 1\"\"\"\n",
    "\n",
    "pd.io.sql.read_sql(query, con = engine)"
   ]
  },
  {
   "cell_type": "markdown",
   "metadata": {},
   "source": [
    "The publisher that has released the greatest number of books with more than 50 pages is Penguin Books."
   ]
  },
  {
   "cell_type": "code",
   "execution_count": 13,
   "metadata": {},
   "outputs": [
    {
     "data": {
      "text/html": [
       "<div>\n",
       "<style scoped>\n",
       "    .dataframe tbody tr th:only-of-type {\n",
       "        vertical-align: middle;\n",
       "    }\n",
       "\n",
       "    .dataframe tbody tr th {\n",
       "        vertical-align: top;\n",
       "    }\n",
       "\n",
       "    .dataframe thead th {\n",
       "        text-align: right;\n",
       "    }\n",
       "</style>\n",
       "<table border=\"1\" class=\"dataframe\">\n",
       "  <thead>\n",
       "    <tr style=\"text-align: right;\">\n",
       "      <th></th>\n",
       "      <th>author</th>\n",
       "      <th>avg_author_rating</th>\n",
       "      <th>n_books</th>\n",
       "    </tr>\n",
       "  </thead>\n",
       "  <tbody>\n",
       "    <tr>\n",
       "      <th>0</th>\n",
       "      <td>J.K. Rowling/Mary GrandPré</td>\n",
       "      <td>4.283844</td>\n",
       "      <td>4</td>\n",
       "    </tr>\n",
       "  </tbody>\n",
       "</table>\n",
       "</div>"
      ],
      "text/plain": [
       "                       author  avg_author_rating  n_books\n",
       "0  J.K. Rowling/Mary GrandPré           4.283844        4"
      ]
     },
     "execution_count": 13,
     "metadata": {},
     "output_type": "execute_result"
    }
   ],
   "source": [
    "#Identify the author with the highest average book rating (look only at books with at least 50 ratings).\n",
    "\n",
    "query = f\"\"\"\n",
    "WITH new_ratings AS (SELECT book_id\n",
    "                    FROM ratings\n",
    "                    GROUP BY book_id\n",
    "                    HAVING COUNT(*) >= 50),\n",
    "                    \n",
    "book_rating AS (SELECT book_id,\n",
    "                       AVG(rating) AS avg_rating\n",
    "                FROM ratings\n",
    "                WHERE book_id IN (SELECT book_id FROM new_ratings)\n",
    "                GROUP BY book_id)\n",
    "                \n",
    "SELECT author,\n",
    "       AVG(avg_rating) avg_author_rating,\n",
    "       COUNT(DISTINCT book_id) n_books\n",
    "FROM authors\n",
    "INNER JOIN books USING(author_id)\n",
    "INNER JOIN book_rating USING(book_id)\n",
    "GROUP BY author\n",
    "ORDER BY avg_author_rating DESC\n",
    "LIMIT 1;\n",
    "\"\"\"\n",
    "\n",
    "pd.io.sql.read_sql(query, con = engine)"
   ]
  },
  {
   "cell_type": "markdown",
   "metadata": {},
   "source": [
    "The author with the highest average book rating is J.K. Rowling/Mary GrandPré."
   ]
  },
  {
   "cell_type": "code",
   "execution_count": 14,
   "metadata": {},
   "outputs": [
    {
     "data": {
      "text/html": [
       "<div>\n",
       "<style scoped>\n",
       "    .dataframe tbody tr th:only-of-type {\n",
       "        vertical-align: middle;\n",
       "    }\n",
       "\n",
       "    .dataframe tbody tr th {\n",
       "        vertical-align: top;\n",
       "    }\n",
       "\n",
       "    .dataframe thead th {\n",
       "        text-align: right;\n",
       "    }\n",
       "</style>\n",
       "<table border=\"1\" class=\"dataframe\">\n",
       "  <thead>\n",
       "    <tr style=\"text-align: right;\">\n",
       "      <th></th>\n",
       "      <th>round</th>\n",
       "    </tr>\n",
       "  </thead>\n",
       "  <tbody>\n",
       "    <tr>\n",
       "      <th>0</th>\n",
       "      <td>24.33</td>\n",
       "    </tr>\n",
       "  </tbody>\n",
       "</table>\n",
       "</div>"
      ],
      "text/plain": [
       "   round\n",
       "0  24.33"
      ]
     },
     "execution_count": 14,
     "metadata": {},
     "output_type": "execute_result"
    }
   ],
   "source": [
    "\n",
    "# Find the average number of text reviews among users who rated more than 50 books.\n",
    "\n",
    "query = f\"\"\"\n",
    "WITH users_more_than_50_books AS (SELECT username\n",
    "                                  FROM ratings\n",
    "                                  GROUP BY username\n",
    "                                  HAVING COUNT(DISTINCT book_id) > 50),\n",
    "reviews_per_user AS (SELECT username,\n",
    "                            COUNT(*) n_reviews\n",
    "                     FROM reviews\n",
    "                     WHERE username IN (SELECT username FROM users_more_than_50_books)\n",
    "                     GROUP BY username)\n",
    "                     \n",
    "SELECT ROUND(AVG(n_reviews),2)\n",
    "FROM reviews_per_user\n",
    "\n",
    "\"\"\" \n",
    "\n",
    "pd.io.sql.read_sql(query, con = engine)"
   ]
  },
  {
   "cell_type": "markdown",
   "metadata": {},
   "source": [
    "The average number of text reviews among users who rated more than 50 books is 24.33."
   ]
  },
  {
   "cell_type": "markdown",
   "metadata": {},
   "source": [
    "**Conclusions**\n",
    "\n",
    "- We have 5 datasets with data on books, their authors, on publishers, reviews and ratings.\n",
    "- 819 books were released after January 1, 2000;\n",
    "- The publisher that has released the greatest number of books with more than 50 pages is Penguin Books;\n",
    "- The author with the highest average book rating is J.K. Rowling/Mary GrandPré;\n",
    "- The average number of text reviews among users who rated more than 50 books is 24.33."
   ]
  }
 ],
 "metadata": {
  "ExecuteTimeLog": [
   {
    "duration": 11897,
    "start_time": "2022-06-28T16:06:04.698Z"
   },
   {
    "duration": 241,
    "start_time": "2022-06-28T16:06:16.597Z"
   },
   {
    "duration": 69,
    "start_time": "2022-06-28T16:06:16.839Z"
   },
   {
    "duration": 68,
    "start_time": "2022-06-28T16:06:16.910Z"
   },
   {
    "duration": 63,
    "start_time": "2022-06-28T16:06:16.980Z"
   },
   {
    "duration": 71,
    "start_time": "2022-06-28T16:06:17.045Z"
   },
   {
    "duration": 66,
    "start_time": "2022-06-28T16:06:17.118Z"
   },
   {
    "duration": 107,
    "start_time": "2022-06-28T16:06:17.185Z"
   },
   {
    "duration": 68,
    "start_time": "2022-06-28T16:06:17.293Z"
   },
   {
    "duration": 70,
    "start_time": "2022-06-28T16:06:17.365Z"
   },
   {
    "duration": 78,
    "start_time": "2022-06-28T16:06:17.436Z"
   },
   {
    "duration": 97,
    "start_time": "2022-06-28T16:06:17.516Z"
   },
   {
    "duration": 80,
    "start_time": "2022-06-28T16:06:17.615Z"
   },
   {
    "duration": 67,
    "start_time": "2022-06-28T16:37:57.982Z"
   },
   {
    "duration": 69,
    "start_time": "2022-06-28T16:38:00.877Z"
   },
   {
    "duration": 66,
    "start_time": "2022-06-28T16:38:05.469Z"
   },
   {
    "duration": 52,
    "start_time": "2022-07-01T10:33:51.822Z"
   },
   {
    "duration": 41,
    "start_time": "2022-07-01T10:42:58.315Z"
   },
   {
    "duration": 506,
    "start_time": "2022-07-01T10:43:03.030Z"
   },
   {
    "duration": 5445,
    "start_time": "2022-07-01T10:43:03.538Z"
   },
   {
    "duration": 229,
    "start_time": "2022-07-01T10:43:08.984Z"
   },
   {
    "duration": 66,
    "start_time": "2022-07-01T10:43:09.215Z"
   },
   {
    "duration": 65,
    "start_time": "2022-07-01T10:43:09.283Z"
   },
   {
    "duration": 67,
    "start_time": "2022-07-01T10:43:09.349Z"
   },
   {
    "duration": 68,
    "start_time": "2022-07-01T10:43:09.417Z"
   },
   {
    "duration": 65,
    "start_time": "2022-07-01T10:43:09.486Z"
   },
   {
    "duration": 92,
    "start_time": "2022-07-01T10:43:09.553Z"
   },
   {
    "duration": 180,
    "start_time": "2022-07-01T10:43:09.647Z"
   },
   {
    "duration": 0,
    "start_time": "2022-07-01T10:43:09.829Z"
   },
   {
    "duration": 0,
    "start_time": "2022-07-01T10:43:09.830Z"
   },
   {
    "duration": 0,
    "start_time": "2022-07-01T10:43:09.831Z"
   },
   {
    "duration": 0,
    "start_time": "2022-07-01T10:43:09.832Z"
   },
   {
    "duration": 0,
    "start_time": "2022-07-01T10:43:09.833Z"
   },
   {
    "duration": 106,
    "start_time": "2022-07-01T10:43:37.533Z"
   },
   {
    "duration": 104,
    "start_time": "2022-07-01T10:43:57.410Z"
   },
   {
    "duration": 67,
    "start_time": "2022-07-01T10:46:01.014Z"
   },
   {
    "duration": 66,
    "start_time": "2022-07-01T10:49:10.684Z"
   },
   {
    "duration": 68,
    "start_time": "2022-07-01T10:57:53.249Z"
   },
   {
    "duration": 69,
    "start_time": "2022-07-01T10:58:09.281Z"
   },
   {
    "duration": 88,
    "start_time": "2022-07-01T10:58:45.088Z"
   },
   {
    "duration": 71,
    "start_time": "2022-07-01T10:59:30.598Z"
   },
   {
    "duration": 521,
    "start_time": "2022-07-01T13:52:03.138Z"
   },
   {
    "duration": 6476,
    "start_time": "2022-07-01T13:52:03.661Z"
   },
   {
    "duration": 257,
    "start_time": "2022-07-01T13:52:10.138Z"
   },
   {
    "duration": 72,
    "start_time": "2022-07-01T13:52:10.397Z"
   },
   {
    "duration": 75,
    "start_time": "2022-07-01T13:52:10.471Z"
   },
   {
    "duration": 65,
    "start_time": "2022-07-01T13:52:10.548Z"
   },
   {
    "duration": 69,
    "start_time": "2022-07-01T13:52:10.615Z"
   },
   {
    "duration": 65,
    "start_time": "2022-07-01T13:52:10.686Z"
   },
   {
    "duration": 104,
    "start_time": "2022-07-01T13:52:10.752Z"
   },
   {
    "duration": 68,
    "start_time": "2022-07-01T13:52:10.858Z"
   },
   {
    "duration": 67,
    "start_time": "2022-07-01T13:52:10.927Z"
   },
   {
    "duration": 72,
    "start_time": "2022-07-01T13:52:10.996Z"
   },
   {
    "duration": 67,
    "start_time": "2022-07-01T13:52:11.070Z"
   },
   {
    "duration": 69,
    "start_time": "2022-07-01T13:52:11.139Z"
   },
   {
    "duration": 200,
    "start_time": "2022-07-01T14:01:42.421Z"
   },
   {
    "duration": 125,
    "start_time": "2022-07-01T14:01:50.704Z"
   },
   {
    "duration": 141,
    "start_time": "2022-07-01T14:02:10.321Z"
   },
   {
    "duration": 128,
    "start_time": "2022-07-01T14:03:16.559Z"
   },
   {
    "duration": 69,
    "start_time": "2022-07-01T14:03:48.106Z"
   },
   {
    "duration": 234,
    "start_time": "2022-07-01T14:14:33.588Z"
   },
   {
    "duration": 143,
    "start_time": "2022-07-01T14:15:52.095Z"
   },
   {
    "duration": 142,
    "start_time": "2022-07-01T14:17:00.971Z"
   },
   {
    "duration": 183,
    "start_time": "2022-07-01T14:17:43.969Z"
   },
   {
    "duration": 76,
    "start_time": "2022-07-01T14:18:04.681Z"
   },
   {
    "duration": 145,
    "start_time": "2022-07-01T14:21:10.926Z"
   },
   {
    "duration": 135,
    "start_time": "2022-07-01T14:25:05.755Z"
   },
   {
    "duration": 133,
    "start_time": "2022-07-01T14:26:54.740Z"
   },
   {
    "duration": 138,
    "start_time": "2022-07-01T14:27:49.671Z"
   },
   {
    "duration": 122,
    "start_time": "2022-07-01T14:28:12.061Z"
   },
   {
    "duration": 70,
    "start_time": "2022-07-01T14:28:43.818Z"
   },
   {
    "duration": 70,
    "start_time": "2022-07-01T14:29:27.498Z"
   },
   {
    "duration": 72,
    "start_time": "2022-07-01T14:30:05.334Z"
   },
   {
    "duration": 512,
    "start_time": "2022-07-01T14:31:26.826Z"
   },
   {
    "duration": 5753,
    "start_time": "2022-07-01T14:31:27.340Z"
   },
   {
    "duration": 258,
    "start_time": "2022-07-01T14:31:33.095Z"
   },
   {
    "duration": 78,
    "start_time": "2022-07-01T14:31:33.356Z"
   },
   {
    "duration": 77,
    "start_time": "2022-07-01T14:31:33.435Z"
   },
   {
    "duration": 77,
    "start_time": "2022-07-01T14:31:33.514Z"
   },
   {
    "duration": 77,
    "start_time": "2022-07-01T14:31:33.593Z"
   },
   {
    "duration": 76,
    "start_time": "2022-07-01T14:31:33.673Z"
   },
   {
    "duration": 120,
    "start_time": "2022-07-01T14:31:33.752Z"
   },
   {
    "duration": 77,
    "start_time": "2022-07-01T14:31:33.874Z"
   },
   {
    "duration": 78,
    "start_time": "2022-07-01T14:31:33.953Z"
   },
   {
    "duration": 83,
    "start_time": "2022-07-01T14:31:34.034Z"
   },
   {
    "duration": 80,
    "start_time": "2022-07-01T14:31:34.119Z"
   },
   {
    "duration": 81,
    "start_time": "2022-07-01T14:31:34.200Z"
   }
  ],
  "kernelspec": {
   "display_name": "Python 3 (ipykernel)",
   "language": "python",
   "name": "python3"
  },
  "language_info": {
   "codemirror_mode": {
    "name": "ipython",
    "version": 3
   },
   "file_extension": ".py",
   "mimetype": "text/x-python",
   "name": "python",
   "nbconvert_exporter": "python",
   "pygments_lexer": "ipython3",
   "version": "3.9.5"
  },
  "toc": {
   "base_numbering": 1,
   "nav_menu": {},
   "number_sections": true,
   "sideBar": true,
   "skip_h1_title": true,
   "title_cell": "Table of Contents",
   "title_sidebar": "Contents",
   "toc_cell": false,
   "toc_position": {},
   "toc_section_display": true,
   "toc_window_display": false
  }
 },
 "nbformat": 4,
 "nbformat_minor": 4
}
