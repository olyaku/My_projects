{
 "cells": [
  {
   "cell_type": "markdown",
   "metadata": {},
   "source": [
    "**Project goal**: to analyze clients' behavior of telecom operator Megaline and determine which prepaid plan brings in more revenue: Surf or Ultimate.\n",
    "\n",
    "**Description of the data**\n",
    "\n",
    "The datasets contain the following fields:\n",
    "\n",
    "The users' table (data on users):\n",
    "- `user_id` — unique user identifier\n",
    "- `first_name` — user's name\n",
    "- `last_name` — user's last name\n",
    "- `age` — user's age (years)\n",
    "- `reg_date` — subscription date (dd, mm, yy)\n",
    "- `churn_date` — the date the user stopped using the service (if the value is missing, the calling plan was being used when this data was retrieved)\n",
    "- `city` — user's city of residence\n",
    "- `plan` — calling plan name\n",
    "\n",
    "The calls table (data on calls):\n",
    "- `id` — unique call identifier\n",
    "- `call_date` — call date\n",
    "- `duration` — call duration (in minutes)\n",
    "- `user_id` — the identifier of the user making the call\n",
    "\n",
    "The messages table (data on texts):\n",
    "- `id` — unique text message identifier\n",
    "- `message_date` — text message date\n",
    "- `user_id` — the identifier of the user sending the text\n",
    "\n",
    "The internet table (data on web sessions):\n",
    "- `id` — unique session identifier\n",
    "- `mb_used` — the volume of data spent during the session (in megabytes)\n",
    "- `session_date` — web session date\n",
    "- `user_id` — user identifier\n",
    "\n",
    "The plans table (data on the plans):\n",
    "- `plan_name` — calling plan name\n",
    "- `usd_monthly_fee` — monthly charge in US dollars\n",
    "- `minutes_included` — monthly minute allowance\n",
    "- `messages_included` — monthly text allowance\n",
    "- `mb_per_month_included` — data volume allowance (in megabytes)\n",
    "- `usd_per_minute` — price per minute after exceeding the package limits (e.g., if the package includes 100 minutes, the 101st minute will be charged)\n",
    "- `usd_per_message` — price per text after exceeding the package limits\n",
    "- `usd_per_gb` — price per extra gigabyte of data after exceeding the package limits (1 GB = 1024 megabytes)\n",
    "\n",
    "**Description of the plans:**\n",
    "\n",
    "Note: Megaline rounds seconds up to minutes and megabytes to gigabytes. Each call is rounded up for calls: even if it lasted just one second, it will be counted as one minute. For web traffic, individual web sessions are not rounded up. Instead, the total for the month is rounded up. For example, if someone uses 1025 megabytes this month, they will be charged for 2 gigabytes.\n",
    "\n",
    "*Surf:*\n",
    "\n",
    "Monthly charge: $20\n",
    "500 monthly minutes, 50 texts, and 15 GB of data\n",
    "\n",
    "After exceeding the package limits:\n",
    "- 1 minute: 3 cents\n",
    "- 1 text message: 3 cents\n",
    "- 1 GB of data: $10\n",
    "\n",
    "*Ultimate:*\n",
    "\n",
    "Monthly charge: $70\n",
    "3000 monthly minutes, 1000 text messages, and 30 GB of data\n",
    "\n",
    "After exceeding the package limits:\n",
    "- 1 minute: 1 cent\n",
    "- 1 text message: 1 cent\n",
    "- 1 GB of data: $7\n",
    "\n",
    "**Step 1. Open the data file and study the general information**\n",
    "\n",
    "- Loading all the libraries\n",
    "- Load the data files into a DataFrames\n",
    "- Get info on all the datasets\n",
    "- Count the percentage of missing values\n",
    "- Getting the info about data types\n",
    "- Conclusions and further steps\n",
    "\n",
    "**Step 2. Prepare the data**\n",
    "\n",
    "- Convert the data to the necessary types\n",
    "- Check that all data types are fixed\n",
    "- Check data for 0s\n",
    "\n",
    "For each user, find:\n",
    "\n",
    "- The number of calls made and minutes used per month\n",
    "- The number of text messages sent per month\n",
    "- The volume of data per month\n",
    "- The monthly revenue from each user \n",
    "\n",
    "**Step 3. Analyze the data**\n",
    "\n",
    "- Find the minutes, texts, and volume of data the users of each plan require per month\n",
    "- Calculate the mean, dispersion, and standard deviation\n",
    "- Plot histograms\n",
    "- Describe the distributions\n",
    "\n",
    "\n",
    "**Step 4. Test the hypotheses**\n",
    "\n",
    "We will test the following hypotheses:\n",
    "\n",
    "- The average revenue from users of Ultimate and Surf calling plans differs\n",
    "- The average revenue from users in the NY-NJ area is different from that of the users from other regions\n",
    "\n",
    "**Step 5. Write an overall conclusion**"
   ]
  },
  {
   "cell_type": "markdown",
   "metadata": {},
   "source": [
    "## Open the data file and study the general information"
   ]
  },
  {
   "cell_type": "code",
   "execution_count": 1,
   "metadata": {},
   "outputs": [],
   "source": [
    "# Loading all the libraries\n",
    "\n",
    "import pandas as pd\n",
    "import numpy as np\n",
    "import datetime as dt\n",
    "import matplotlib as plt\n",
    "import matplotlib.pyplot as plt\n",
    "import seaborn as sns\n",
    "import math\n",
    "from scipy import stats as st"
   ]
  },
  {
   "cell_type": "code",
   "execution_count": 2,
   "metadata": {},
   "outputs": [],
   "source": [
    "# Load data files into DataFrames\n",
    "\n",
    "calls = pd.read_csv('/datasets/megaline_calls.csv')\n",
    "internet = pd.read_csv('/datasets/megaline_internet.csv')\n",
    "messages = pd.read_csv('/datasets/megaline_messages.csv')\n",
    "plans = pd.read_csv('/datasets/megaline_plans.csv')\n",
    "users = pd.read_csv('/datasets/megaline_users.csv')"
   ]
  },
  {
   "cell_type": "code",
   "execution_count": 3,
   "metadata": {},
   "outputs": [
    {
     "name": "stdout",
     "output_type": "stream",
     "text": [
      "Number of rows and columns in calls: (137735, 4)\n",
      "Number of rows and columns in internet: (104825, 4)\n",
      "Number of rows and columns in messages: (76051, 3)\n",
      "Number of rows and columns in plans: (2, 8)\n",
      "Number of rows and columns in users: (500, 8)\n"
     ]
    }
   ],
   "source": [
    "# Let's see how many rows and columns our datasets have\n",
    "\n",
    "calls.shape\n",
    "internet.shape\n",
    "messages.shape\n",
    "plans.shape\n",
    "users.shape\n",
    "\n",
    "print('Number of rows and columns in calls:', calls.shape)\n",
    "print('Number of rows and columns in internet:', internet.shape)\n",
    "print('Number of rows and columns in messages:', messages.shape)\n",
    "print('Number of rows and columns in plans:', plans.shape)\n",
    "print('Number of rows and columns in users:', users.shape)"
   ]
  },
  {
   "cell_type": "code",
   "execution_count": 4,
   "metadata": {},
   "outputs": [
    {
     "data": {
      "text/html": [
       "<div>\n",
       "<style scoped>\n",
       "    .dataframe tbody tr th:only-of-type {\n",
       "        vertical-align: middle;\n",
       "    }\n",
       "\n",
       "    .dataframe tbody tr th {\n",
       "        vertical-align: top;\n",
       "    }\n",
       "\n",
       "    .dataframe thead th {\n",
       "        text-align: right;\n",
       "    }\n",
       "</style>\n",
       "<table border=\"1\" class=\"dataframe\">\n",
       "  <thead>\n",
       "    <tr style=\"text-align: right;\">\n",
       "      <th></th>\n",
       "      <th>id</th>\n",
       "      <th>user_id</th>\n",
       "      <th>call_date</th>\n",
       "      <th>duration</th>\n",
       "    </tr>\n",
       "  </thead>\n",
       "  <tbody>\n",
       "    <tr>\n",
       "      <td>0</td>\n",
       "      <td>1000_93</td>\n",
       "      <td>1000</td>\n",
       "      <td>2018-12-27</td>\n",
       "      <td>8.52</td>\n",
       "    </tr>\n",
       "    <tr>\n",
       "      <td>1</td>\n",
       "      <td>1000_145</td>\n",
       "      <td>1000</td>\n",
       "      <td>2018-12-27</td>\n",
       "      <td>13.66</td>\n",
       "    </tr>\n",
       "    <tr>\n",
       "      <td>2</td>\n",
       "      <td>1000_247</td>\n",
       "      <td>1000</td>\n",
       "      <td>2018-12-27</td>\n",
       "      <td>14.48</td>\n",
       "    </tr>\n",
       "    <tr>\n",
       "      <td>3</td>\n",
       "      <td>1000_309</td>\n",
       "      <td>1000</td>\n",
       "      <td>2018-12-28</td>\n",
       "      <td>5.76</td>\n",
       "    </tr>\n",
       "    <tr>\n",
       "      <td>4</td>\n",
       "      <td>1000_380</td>\n",
       "      <td>1000</td>\n",
       "      <td>2018-12-30</td>\n",
       "      <td>4.22</td>\n",
       "    </tr>\n",
       "    <tr>\n",
       "      <td>5</td>\n",
       "      <td>1000_388</td>\n",
       "      <td>1000</td>\n",
       "      <td>2018-12-31</td>\n",
       "      <td>2.20</td>\n",
       "    </tr>\n",
       "    <tr>\n",
       "      <td>6</td>\n",
       "      <td>1000_510</td>\n",
       "      <td>1000</td>\n",
       "      <td>2018-12-27</td>\n",
       "      <td>5.75</td>\n",
       "    </tr>\n",
       "    <tr>\n",
       "      <td>7</td>\n",
       "      <td>1000_521</td>\n",
       "      <td>1000</td>\n",
       "      <td>2018-12-28</td>\n",
       "      <td>14.18</td>\n",
       "    </tr>\n",
       "    <tr>\n",
       "      <td>8</td>\n",
       "      <td>1000_530</td>\n",
       "      <td>1000</td>\n",
       "      <td>2018-12-28</td>\n",
       "      <td>5.77</td>\n",
       "    </tr>\n",
       "    <tr>\n",
       "      <td>9</td>\n",
       "      <td>1000_544</td>\n",
       "      <td>1000</td>\n",
       "      <td>2018-12-26</td>\n",
       "      <td>4.40</td>\n",
       "    </tr>\n",
       "  </tbody>\n",
       "</table>\n",
       "</div>"
      ],
      "text/plain": [
       "         id  user_id   call_date  duration\n",
       "0   1000_93     1000  2018-12-27      8.52\n",
       "1  1000_145     1000  2018-12-27     13.66\n",
       "2  1000_247     1000  2018-12-27     14.48\n",
       "3  1000_309     1000  2018-12-28      5.76\n",
       "4  1000_380     1000  2018-12-30      4.22\n",
       "5  1000_388     1000  2018-12-31      2.20\n",
       "6  1000_510     1000  2018-12-27      5.75\n",
       "7  1000_521     1000  2018-12-28     14.18\n",
       "8  1000_530     1000  2018-12-28      5.77\n",
       "9  1000_544     1000  2018-12-26      4.40"
      ]
     },
     "execution_count": 4,
     "metadata": {},
     "output_type": "execute_result"
    }
   ],
   "source": [
    "# First 10 rows of each dataset\n",
    "# First 10 rows of calls\n",
    "\n",
    "calls.head(10)"
   ]
  },
  {
   "cell_type": "code",
   "execution_count": 5,
   "metadata": {},
   "outputs": [
    {
     "data": {
      "text/html": [
       "<div>\n",
       "<style scoped>\n",
       "    .dataframe tbody tr th:only-of-type {\n",
       "        vertical-align: middle;\n",
       "    }\n",
       "\n",
       "    .dataframe tbody tr th {\n",
       "        vertical-align: top;\n",
       "    }\n",
       "\n",
       "    .dataframe thead th {\n",
       "        text-align: right;\n",
       "    }\n",
       "</style>\n",
       "<table border=\"1\" class=\"dataframe\">\n",
       "  <thead>\n",
       "    <tr style=\"text-align: right;\">\n",
       "      <th></th>\n",
       "      <th>id</th>\n",
       "      <th>user_id</th>\n",
       "      <th>session_date</th>\n",
       "      <th>mb_used</th>\n",
       "    </tr>\n",
       "  </thead>\n",
       "  <tbody>\n",
       "    <tr>\n",
       "      <td>0</td>\n",
       "      <td>1000_13</td>\n",
       "      <td>1000</td>\n",
       "      <td>2018-12-29</td>\n",
       "      <td>89.86</td>\n",
       "    </tr>\n",
       "    <tr>\n",
       "      <td>1</td>\n",
       "      <td>1000_204</td>\n",
       "      <td>1000</td>\n",
       "      <td>2018-12-31</td>\n",
       "      <td>0.00</td>\n",
       "    </tr>\n",
       "    <tr>\n",
       "      <td>2</td>\n",
       "      <td>1000_379</td>\n",
       "      <td>1000</td>\n",
       "      <td>2018-12-28</td>\n",
       "      <td>660.40</td>\n",
       "    </tr>\n",
       "    <tr>\n",
       "      <td>3</td>\n",
       "      <td>1000_413</td>\n",
       "      <td>1000</td>\n",
       "      <td>2018-12-26</td>\n",
       "      <td>270.99</td>\n",
       "    </tr>\n",
       "    <tr>\n",
       "      <td>4</td>\n",
       "      <td>1000_442</td>\n",
       "      <td>1000</td>\n",
       "      <td>2018-12-27</td>\n",
       "      <td>880.22</td>\n",
       "    </tr>\n",
       "    <tr>\n",
       "      <td>5</td>\n",
       "      <td>1001_0</td>\n",
       "      <td>1001</td>\n",
       "      <td>2018-08-24</td>\n",
       "      <td>284.68</td>\n",
       "    </tr>\n",
       "    <tr>\n",
       "      <td>6</td>\n",
       "      <td>1001_3</td>\n",
       "      <td>1001</td>\n",
       "      <td>2018-12-09</td>\n",
       "      <td>656.04</td>\n",
       "    </tr>\n",
       "    <tr>\n",
       "      <td>7</td>\n",
       "      <td>1001_4</td>\n",
       "      <td>1001</td>\n",
       "      <td>2018-11-04</td>\n",
       "      <td>16.97</td>\n",
       "    </tr>\n",
       "    <tr>\n",
       "      <td>8</td>\n",
       "      <td>1001_10</td>\n",
       "      <td>1001</td>\n",
       "      <td>2018-11-27</td>\n",
       "      <td>135.18</td>\n",
       "    </tr>\n",
       "    <tr>\n",
       "      <td>9</td>\n",
       "      <td>1001_15</td>\n",
       "      <td>1001</td>\n",
       "      <td>2018-12-13</td>\n",
       "      <td>761.92</td>\n",
       "    </tr>\n",
       "  </tbody>\n",
       "</table>\n",
       "</div>"
      ],
      "text/plain": [
       "         id  user_id session_date  mb_used\n",
       "0   1000_13     1000   2018-12-29    89.86\n",
       "1  1000_204     1000   2018-12-31     0.00\n",
       "2  1000_379     1000   2018-12-28   660.40\n",
       "3  1000_413     1000   2018-12-26   270.99\n",
       "4  1000_442     1000   2018-12-27   880.22\n",
       "5    1001_0     1001   2018-08-24   284.68\n",
       "6    1001_3     1001   2018-12-09   656.04\n",
       "7    1001_4     1001   2018-11-04    16.97\n",
       "8   1001_10     1001   2018-11-27   135.18\n",
       "9   1001_15     1001   2018-12-13   761.92"
      ]
     },
     "execution_count": 5,
     "metadata": {},
     "output_type": "execute_result"
    }
   ],
   "source": [
    "# First 10 rows of internet\n",
    "\n",
    "internet.head(10)"
   ]
  },
  {
   "cell_type": "code",
   "execution_count": 6,
   "metadata": {},
   "outputs": [
    {
     "data": {
      "text/html": [
       "<div>\n",
       "<style scoped>\n",
       "    .dataframe tbody tr th:only-of-type {\n",
       "        vertical-align: middle;\n",
       "    }\n",
       "\n",
       "    .dataframe tbody tr th {\n",
       "        vertical-align: top;\n",
       "    }\n",
       "\n",
       "    .dataframe thead th {\n",
       "        text-align: right;\n",
       "    }\n",
       "</style>\n",
       "<table border=\"1\" class=\"dataframe\">\n",
       "  <thead>\n",
       "    <tr style=\"text-align: right;\">\n",
       "      <th></th>\n",
       "      <th>id</th>\n",
       "      <th>user_id</th>\n",
       "      <th>message_date</th>\n",
       "    </tr>\n",
       "  </thead>\n",
       "  <tbody>\n",
       "    <tr>\n",
       "      <td>0</td>\n",
       "      <td>1000_125</td>\n",
       "      <td>1000</td>\n",
       "      <td>2018-12-27</td>\n",
       "    </tr>\n",
       "    <tr>\n",
       "      <td>1</td>\n",
       "      <td>1000_160</td>\n",
       "      <td>1000</td>\n",
       "      <td>2018-12-31</td>\n",
       "    </tr>\n",
       "    <tr>\n",
       "      <td>2</td>\n",
       "      <td>1000_223</td>\n",
       "      <td>1000</td>\n",
       "      <td>2018-12-31</td>\n",
       "    </tr>\n",
       "    <tr>\n",
       "      <td>3</td>\n",
       "      <td>1000_251</td>\n",
       "      <td>1000</td>\n",
       "      <td>2018-12-27</td>\n",
       "    </tr>\n",
       "    <tr>\n",
       "      <td>4</td>\n",
       "      <td>1000_255</td>\n",
       "      <td>1000</td>\n",
       "      <td>2018-12-26</td>\n",
       "    </tr>\n",
       "    <tr>\n",
       "      <td>5</td>\n",
       "      <td>1000_346</td>\n",
       "      <td>1000</td>\n",
       "      <td>2018-12-29</td>\n",
       "    </tr>\n",
       "    <tr>\n",
       "      <td>6</td>\n",
       "      <td>1000_386</td>\n",
       "      <td>1000</td>\n",
       "      <td>2018-12-30</td>\n",
       "    </tr>\n",
       "    <tr>\n",
       "      <td>7</td>\n",
       "      <td>1000_413</td>\n",
       "      <td>1000</td>\n",
       "      <td>2018-12-31</td>\n",
       "    </tr>\n",
       "    <tr>\n",
       "      <td>8</td>\n",
       "      <td>1000_502</td>\n",
       "      <td>1000</td>\n",
       "      <td>2018-12-27</td>\n",
       "    </tr>\n",
       "    <tr>\n",
       "      <td>9</td>\n",
       "      <td>1000_525</td>\n",
       "      <td>1000</td>\n",
       "      <td>2018-12-28</td>\n",
       "    </tr>\n",
       "  </tbody>\n",
       "</table>\n",
       "</div>"
      ],
      "text/plain": [
       "         id  user_id message_date\n",
       "0  1000_125     1000   2018-12-27\n",
       "1  1000_160     1000   2018-12-31\n",
       "2  1000_223     1000   2018-12-31\n",
       "3  1000_251     1000   2018-12-27\n",
       "4  1000_255     1000   2018-12-26\n",
       "5  1000_346     1000   2018-12-29\n",
       "6  1000_386     1000   2018-12-30\n",
       "7  1000_413     1000   2018-12-31\n",
       "8  1000_502     1000   2018-12-27\n",
       "9  1000_525     1000   2018-12-28"
      ]
     },
     "execution_count": 6,
     "metadata": {},
     "output_type": "execute_result"
    }
   ],
   "source": [
    "# First 10 rows of messages\n",
    "\n",
    "messages.head(10)"
   ]
  },
  {
   "cell_type": "code",
   "execution_count": 7,
   "metadata": {},
   "outputs": [
    {
     "data": {
      "text/html": [
       "<div>\n",
       "<style scoped>\n",
       "    .dataframe tbody tr th:only-of-type {\n",
       "        vertical-align: middle;\n",
       "    }\n",
       "\n",
       "    .dataframe tbody tr th {\n",
       "        vertical-align: top;\n",
       "    }\n",
       "\n",
       "    .dataframe thead th {\n",
       "        text-align: right;\n",
       "    }\n",
       "</style>\n",
       "<table border=\"1\" class=\"dataframe\">\n",
       "  <thead>\n",
       "    <tr style=\"text-align: right;\">\n",
       "      <th></th>\n",
       "      <th>user_id</th>\n",
       "      <th>first_name</th>\n",
       "      <th>last_name</th>\n",
       "      <th>age</th>\n",
       "      <th>city</th>\n",
       "      <th>reg_date</th>\n",
       "      <th>plan</th>\n",
       "      <th>churn_date</th>\n",
       "    </tr>\n",
       "  </thead>\n",
       "  <tbody>\n",
       "    <tr>\n",
       "      <td>0</td>\n",
       "      <td>1000</td>\n",
       "      <td>Anamaria</td>\n",
       "      <td>Bauer</td>\n",
       "      <td>45</td>\n",
       "      <td>Atlanta-Sandy Springs-Roswell, GA MSA</td>\n",
       "      <td>2018-12-24</td>\n",
       "      <td>ultimate</td>\n",
       "      <td>NaN</td>\n",
       "    </tr>\n",
       "    <tr>\n",
       "      <td>1</td>\n",
       "      <td>1001</td>\n",
       "      <td>Mickey</td>\n",
       "      <td>Wilkerson</td>\n",
       "      <td>28</td>\n",
       "      <td>Seattle-Tacoma-Bellevue, WA MSA</td>\n",
       "      <td>2018-08-13</td>\n",
       "      <td>surf</td>\n",
       "      <td>NaN</td>\n",
       "    </tr>\n",
       "    <tr>\n",
       "      <td>2</td>\n",
       "      <td>1002</td>\n",
       "      <td>Carlee</td>\n",
       "      <td>Hoffman</td>\n",
       "      <td>36</td>\n",
       "      <td>Las Vegas-Henderson-Paradise, NV MSA</td>\n",
       "      <td>2018-10-21</td>\n",
       "      <td>surf</td>\n",
       "      <td>NaN</td>\n",
       "    </tr>\n",
       "    <tr>\n",
       "      <td>3</td>\n",
       "      <td>1003</td>\n",
       "      <td>Reynaldo</td>\n",
       "      <td>Jenkins</td>\n",
       "      <td>52</td>\n",
       "      <td>Tulsa, OK MSA</td>\n",
       "      <td>2018-01-28</td>\n",
       "      <td>surf</td>\n",
       "      <td>NaN</td>\n",
       "    </tr>\n",
       "    <tr>\n",
       "      <td>4</td>\n",
       "      <td>1004</td>\n",
       "      <td>Leonila</td>\n",
       "      <td>Thompson</td>\n",
       "      <td>40</td>\n",
       "      <td>Seattle-Tacoma-Bellevue, WA MSA</td>\n",
       "      <td>2018-05-23</td>\n",
       "      <td>surf</td>\n",
       "      <td>NaN</td>\n",
       "    </tr>\n",
       "    <tr>\n",
       "      <td>5</td>\n",
       "      <td>1005</td>\n",
       "      <td>Livia</td>\n",
       "      <td>Shields</td>\n",
       "      <td>31</td>\n",
       "      <td>Dallas-Fort Worth-Arlington, TX MSA</td>\n",
       "      <td>2018-11-29</td>\n",
       "      <td>surf</td>\n",
       "      <td>NaN</td>\n",
       "    </tr>\n",
       "    <tr>\n",
       "      <td>6</td>\n",
       "      <td>1006</td>\n",
       "      <td>Jesusa</td>\n",
       "      <td>Bradford</td>\n",
       "      <td>73</td>\n",
       "      <td>San Francisco-Oakland-Berkeley, CA MSA</td>\n",
       "      <td>2018-11-27</td>\n",
       "      <td>ultimate</td>\n",
       "      <td>2018-12-18</td>\n",
       "    </tr>\n",
       "    <tr>\n",
       "      <td>7</td>\n",
       "      <td>1007</td>\n",
       "      <td>Eusebio</td>\n",
       "      <td>Welch</td>\n",
       "      <td>42</td>\n",
       "      <td>Grand Rapids-Kentwood, MI MSA</td>\n",
       "      <td>2018-07-11</td>\n",
       "      <td>surf</td>\n",
       "      <td>NaN</td>\n",
       "    </tr>\n",
       "    <tr>\n",
       "      <td>8</td>\n",
       "      <td>1008</td>\n",
       "      <td>Emely</td>\n",
       "      <td>Hoffman</td>\n",
       "      <td>53</td>\n",
       "      <td>Orlando-Kissimmee-Sanford, FL MSA</td>\n",
       "      <td>2018-08-03</td>\n",
       "      <td>ultimate</td>\n",
       "      <td>NaN</td>\n",
       "    </tr>\n",
       "    <tr>\n",
       "      <td>9</td>\n",
       "      <td>1009</td>\n",
       "      <td>Gerry</td>\n",
       "      <td>Little</td>\n",
       "      <td>19</td>\n",
       "      <td>San Jose-Sunnyvale-Santa Clara, CA MSA</td>\n",
       "      <td>2018-04-22</td>\n",
       "      <td>surf</td>\n",
       "      <td>NaN</td>\n",
       "    </tr>\n",
       "  </tbody>\n",
       "</table>\n",
       "</div>"
      ],
      "text/plain": [
       "   user_id first_name  last_name  age                                    city  \\\n",
       "0     1000   Anamaria      Bauer   45   Atlanta-Sandy Springs-Roswell, GA MSA   \n",
       "1     1001     Mickey  Wilkerson   28         Seattle-Tacoma-Bellevue, WA MSA   \n",
       "2     1002     Carlee    Hoffman   36    Las Vegas-Henderson-Paradise, NV MSA   \n",
       "3     1003   Reynaldo    Jenkins   52                           Tulsa, OK MSA   \n",
       "4     1004    Leonila   Thompson   40         Seattle-Tacoma-Bellevue, WA MSA   \n",
       "5     1005      Livia    Shields   31     Dallas-Fort Worth-Arlington, TX MSA   \n",
       "6     1006     Jesusa   Bradford   73  San Francisco-Oakland-Berkeley, CA MSA   \n",
       "7     1007    Eusebio      Welch   42           Grand Rapids-Kentwood, MI MSA   \n",
       "8     1008      Emely    Hoffman   53       Orlando-Kissimmee-Sanford, FL MSA   \n",
       "9     1009      Gerry     Little   19  San Jose-Sunnyvale-Santa Clara, CA MSA   \n",
       "\n",
       "     reg_date      plan  churn_date  \n",
       "0  2018-12-24  ultimate         NaN  \n",
       "1  2018-08-13      surf         NaN  \n",
       "2  2018-10-21      surf         NaN  \n",
       "3  2018-01-28      surf         NaN  \n",
       "4  2018-05-23      surf         NaN  \n",
       "5  2018-11-29      surf         NaN  \n",
       "6  2018-11-27  ultimate  2018-12-18  \n",
       "7  2018-07-11      surf         NaN  \n",
       "8  2018-08-03  ultimate         NaN  \n",
       "9  2018-04-22      surf         NaN  "
      ]
     },
     "execution_count": 7,
     "metadata": {},
     "output_type": "execute_result"
    }
   ],
   "source": [
    "# First 10 rows of users\n",
    "\n",
    "users.head(10)"
   ]
  },
  {
   "cell_type": "code",
   "execution_count": 8,
   "metadata": {},
   "outputs": [
    {
     "data": {
      "text/html": [
       "<div>\n",
       "<style scoped>\n",
       "    .dataframe tbody tr th:only-of-type {\n",
       "        vertical-align: middle;\n",
       "    }\n",
       "\n",
       "    .dataframe tbody tr th {\n",
       "        vertical-align: top;\n",
       "    }\n",
       "\n",
       "    .dataframe thead th {\n",
       "        text-align: right;\n",
       "    }\n",
       "</style>\n",
       "<table border=\"1\" class=\"dataframe\">\n",
       "  <thead>\n",
       "    <tr style=\"text-align: right;\">\n",
       "      <th></th>\n",
       "      <th>messages_included</th>\n",
       "      <th>mb_per_month_included</th>\n",
       "      <th>minutes_included</th>\n",
       "      <th>usd_monthly_pay</th>\n",
       "      <th>usd_per_gb</th>\n",
       "      <th>usd_per_message</th>\n",
       "      <th>usd_per_minute</th>\n",
       "      <th>plan_name</th>\n",
       "    </tr>\n",
       "  </thead>\n",
       "  <tbody>\n",
       "    <tr>\n",
       "      <td>0</td>\n",
       "      <td>50</td>\n",
       "      <td>15360</td>\n",
       "      <td>500</td>\n",
       "      <td>20</td>\n",
       "      <td>10</td>\n",
       "      <td>0.03</td>\n",
       "      <td>0.03</td>\n",
       "      <td>surf</td>\n",
       "    </tr>\n",
       "    <tr>\n",
       "      <td>1</td>\n",
       "      <td>1000</td>\n",
       "      <td>30720</td>\n",
       "      <td>3000</td>\n",
       "      <td>70</td>\n",
       "      <td>7</td>\n",
       "      <td>0.01</td>\n",
       "      <td>0.01</td>\n",
       "      <td>ultimate</td>\n",
       "    </tr>\n",
       "  </tbody>\n",
       "</table>\n",
       "</div>"
      ],
      "text/plain": [
       "   messages_included  mb_per_month_included  minutes_included  \\\n",
       "0                 50                  15360               500   \n",
       "1               1000                  30720              3000   \n",
       "\n",
       "   usd_monthly_pay  usd_per_gb  usd_per_message  usd_per_minute plan_name  \n",
       "0               20          10             0.03            0.03      surf  \n",
       "1               70           7             0.01            0.01  ultimate  "
      ]
     },
     "execution_count": 8,
     "metadata": {},
     "output_type": "execute_result"
    }
   ],
   "source": [
    "# All rows of plans\n",
    "\n",
    "plans.head()"
   ]
  },
  {
   "cell_type": "code",
   "execution_count": 9,
   "metadata": {},
   "outputs": [
    {
     "name": "stdout",
     "output_type": "stream",
     "text": [
      "<class 'pandas.core.frame.DataFrame'>\n",
      "RangeIndex: 137735 entries, 0 to 137734\n",
      "Data columns (total 4 columns):\n",
      "id           137735 non-null object\n",
      "user_id      137735 non-null int64\n",
      "call_date    137735 non-null object\n",
      "duration     137735 non-null float64\n",
      "dtypes: float64(1), int64(1), object(2)\n",
      "memory usage: 4.2+ MB\n"
     ]
    }
   ],
   "source": [
    "# Get info on data\n",
    "# Info on calls\n",
    "\n",
    "calls.info() "
   ]
  },
  {
   "cell_type": "code",
   "execution_count": 10,
   "metadata": {},
   "outputs": [
    {
     "name": "stdout",
     "output_type": "stream",
     "text": [
      "<class 'pandas.core.frame.DataFrame'>\n",
      "RangeIndex: 104825 entries, 0 to 104824\n",
      "Data columns (total 4 columns):\n",
      "id              104825 non-null object\n",
      "user_id         104825 non-null int64\n",
      "session_date    104825 non-null object\n",
      "mb_used         104825 non-null float64\n",
      "dtypes: float64(1), int64(1), object(2)\n",
      "memory usage: 3.2+ MB\n"
     ]
    }
   ],
   "source": [
    "# Info on internet\n",
    "\n",
    "internet.info() "
   ]
  },
  {
   "cell_type": "code",
   "execution_count": 11,
   "metadata": {},
   "outputs": [
    {
     "name": "stdout",
     "output_type": "stream",
     "text": [
      "<class 'pandas.core.frame.DataFrame'>\n",
      "RangeIndex: 76051 entries, 0 to 76050\n",
      "Data columns (total 3 columns):\n",
      "id              76051 non-null object\n",
      "user_id         76051 non-null int64\n",
      "message_date    76051 non-null object\n",
      "dtypes: int64(1), object(2)\n",
      "memory usage: 1.7+ MB\n"
     ]
    }
   ],
   "source": [
    "# Info on messages\n",
    "\n",
    "messages.info() "
   ]
  },
  {
   "cell_type": "code",
   "execution_count": 12,
   "metadata": {},
   "outputs": [
    {
     "name": "stdout",
     "output_type": "stream",
     "text": [
      "<class 'pandas.core.frame.DataFrame'>\n",
      "RangeIndex: 2 entries, 0 to 1\n",
      "Data columns (total 8 columns):\n",
      "messages_included        2 non-null int64\n",
      "mb_per_month_included    2 non-null int64\n",
      "minutes_included         2 non-null int64\n",
      "usd_monthly_pay          2 non-null int64\n",
      "usd_per_gb               2 non-null int64\n",
      "usd_per_message          2 non-null float64\n",
      "usd_per_minute           2 non-null float64\n",
      "plan_name                2 non-null object\n",
      "dtypes: float64(2), int64(5), object(1)\n",
      "memory usage: 256.0+ bytes\n"
     ]
    }
   ],
   "source": [
    "# Info on plans\n",
    "\n",
    "plans.info() "
   ]
  },
  {
   "cell_type": "code",
   "execution_count": 13,
   "metadata": {},
   "outputs": [
    {
     "name": "stdout",
     "output_type": "stream",
     "text": [
      "<class 'pandas.core.frame.DataFrame'>\n",
      "RangeIndex: 500 entries, 0 to 499\n",
      "Data columns (total 8 columns):\n",
      "user_id       500 non-null int64\n",
      "first_name    500 non-null object\n",
      "last_name     500 non-null object\n",
      "age           500 non-null int64\n",
      "city          500 non-null object\n",
      "reg_date      500 non-null object\n",
      "plan          500 non-null object\n",
      "churn_date    34 non-null object\n",
      "dtypes: int64(2), object(6)\n",
      "memory usage: 31.4+ KB\n"
     ]
    }
   ],
   "source": [
    "# Info on users\n",
    "\n",
    "users.info() "
   ]
  },
  {
   "cell_type": "code",
   "execution_count": 14,
   "metadata": {},
   "outputs": [
    {
     "name": "stdout",
     "output_type": "stream",
     "text": [
      "      columns  percent_missing\n",
      "0     user_id              0.0\n",
      "1  first_name              0.0\n",
      "2   last_name              0.0\n",
      "3         age              0.0\n",
      "4        city              0.0\n",
      "5    reg_date              0.0\n",
      "6        plan              0.0\n",
      "7  churn_date             93.2\n"
     ]
    }
   ],
   "source": [
    "# Count the percentage of missing values in users\n",
    "\n",
    "percent_missing = users.isnull().sum() * 100 / len(users)\n",
    "missing_value_data = pd.DataFrame({'columns': list(users.columns),\n",
    "                                   'percent_missing': list(percent_missing)})\n",
    "print(missing_value_data)"
   ]
  },
  {
   "cell_type": "markdown",
   "metadata": {},
   "source": [
    "There are missing values in `churn_date`(93%). It can mean that the calling plan was used when this data was retrieved. We do not need this column in further research, so we can leave it as it is. "
   ]
  },
  {
   "cell_type": "code",
   "execution_count": 15,
   "metadata": {},
   "outputs": [
    {
     "data": {
      "text/plain": [
       "id            object\n",
       "user_id        int64\n",
       "call_date     object\n",
       "duration     float64\n",
       "dtype: object"
      ]
     },
     "execution_count": 15,
     "metadata": {},
     "output_type": "execute_result"
    }
   ],
   "source": [
    "# Getting info about data types\n",
    "# Data types of calls\n",
    "\n",
    "calls.dtypes"
   ]
  },
  {
   "cell_type": "markdown",
   "metadata": {},
   "source": [
    "We need to convert the type of `call_date` from object to datetime."
   ]
  },
  {
   "cell_type": "code",
   "execution_count": 16,
   "metadata": {},
   "outputs": [
    {
     "data": {
      "text/plain": [
       "id               object\n",
       "user_id           int64\n",
       "session_date     object\n",
       "mb_used         float64\n",
       "dtype: object"
      ]
     },
     "execution_count": 16,
     "metadata": {},
     "output_type": "execute_result"
    }
   ],
   "source": [
    "# Data types of internet\n",
    "\n",
    "internet.dtypes"
   ]
  },
  {
   "cell_type": "markdown",
   "metadata": {},
   "source": [
    "We need to convert the type of `session_date` from object to datetime"
   ]
  },
  {
   "cell_type": "code",
   "execution_count": 17,
   "metadata": {},
   "outputs": [
    {
     "data": {
      "text/plain": [
       "id              object\n",
       "user_id          int64\n",
       "message_date    object\n",
       "dtype: object"
      ]
     },
     "execution_count": 17,
     "metadata": {},
     "output_type": "execute_result"
    }
   ],
   "source": [
    "# Data types of messages\n",
    "\n",
    "messages.dtypes"
   ]
  },
  {
   "cell_type": "markdown",
   "metadata": {},
   "source": [
    "We need to convert the type of `message_date` from object to datetime"
   ]
  },
  {
   "cell_type": "code",
   "execution_count": 18,
   "metadata": {},
   "outputs": [
    {
     "data": {
      "text/plain": [
       "user_id        int64\n",
       "first_name    object\n",
       "last_name     object\n",
       "age            int64\n",
       "city          object\n",
       "reg_date      object\n",
       "plan          object\n",
       "churn_date    object\n",
       "dtype: object"
      ]
     },
     "execution_count": 18,
     "metadata": {},
     "output_type": "execute_result"
    }
   ],
   "source": [
    "# Data types of users\n",
    "\n",
    "users.dtypes"
   ]
  },
  {
   "cell_type": "markdown",
   "metadata": {},
   "source": [
    "We need to convert the type of `reg_date` and `churn_date` from object to datetime"
   ]
  },
  {
   "cell_type": "markdown",
   "metadata": {},
   "source": [
    "### Conclusions and further steps\n",
    "\n",
    "Most of the columns of our datasets look normal, but part of the data should be treated to make it more suitable for the required analysis.\n",
    "\n",
    "- There are wrong types of data in datasets. We need to convert the type of `call_date` in calls, `session_date` in internet, `message_date` in messages, `reg_date` and `churn_date` in users - from object to DateTime."
   ]
  },
  {
   "cell_type": "markdown",
   "metadata": {},
   "source": [
    "## Prepare the data"
   ]
  },
  {
   "cell_type": "code",
   "execution_count": 19,
   "metadata": {},
   "outputs": [],
   "source": [
    "# Convert the data to the necessary types\n",
    "# Fix data types\n",
    "\n",
    "calls['call_date'] = pd.to_datetime(calls['call_date'])\n",
    "internet['session_date'] = pd.to_datetime(internet['session_date'])\n",
    "messages['message_date'] = pd.to_datetime(messages['message_date'])\n",
    "users['reg_date'] = pd.to_datetime(users['reg_date'])\n",
    "users['churn_date'] = pd.to_datetime(users['churn_date'])"
   ]
  },
  {
   "cell_type": "code",
   "execution_count": 20,
   "metadata": {},
   "outputs": [
    {
     "data": {
      "text/plain": [
       "id                   object\n",
       "user_id               int64\n",
       "call_date    datetime64[ns]\n",
       "duration            float64\n",
       "dtype: object"
      ]
     },
     "execution_count": 20,
     "metadata": {},
     "output_type": "execute_result"
    }
   ],
   "source": [
    "# Check all data types are fixed\n",
    "\n",
    "calls.dtypes"
   ]
  },
  {
   "cell_type": "code",
   "execution_count": 21,
   "metadata": {},
   "outputs": [
    {
     "data": {
      "text/plain": [
       "id                      object\n",
       "user_id                  int64\n",
       "session_date    datetime64[ns]\n",
       "mb_used                float64\n",
       "dtype: object"
      ]
     },
     "execution_count": 21,
     "metadata": {},
     "output_type": "execute_result"
    }
   ],
   "source": [
    "internet.dtypes"
   ]
  },
  {
   "cell_type": "code",
   "execution_count": 22,
   "metadata": {},
   "outputs": [
    {
     "data": {
      "text/plain": [
       "id                      object\n",
       "user_id                  int64\n",
       "message_date    datetime64[ns]\n",
       "dtype: object"
      ]
     },
     "execution_count": 22,
     "metadata": {},
     "output_type": "execute_result"
    }
   ],
   "source": [
    "messages.dtypes"
   ]
  },
  {
   "cell_type": "code",
   "execution_count": 23,
   "metadata": {},
   "outputs": [
    {
     "data": {
      "text/plain": [
       "user_id                int64\n",
       "first_name            object\n",
       "last_name             object\n",
       "age                    int64\n",
       "city                  object\n",
       "reg_date      datetime64[ns]\n",
       "plan                  object\n",
       "churn_date    datetime64[ns]\n",
       "dtype: object"
      ]
     },
     "execution_count": 23,
     "metadata": {},
     "output_type": "execute_result"
    }
   ],
   "source": [
    "users.dtypes"
   ]
  },
  {
   "cell_type": "code",
   "execution_count": 24,
   "metadata": {},
   "outputs": [
    {
     "name": "stdout",
     "output_type": "stream",
     "text": [
      "id 0\n",
      "user_id 0\n",
      "call_date 0\n",
      "duration 26834\n"
     ]
    }
   ],
   "source": [
    "# Let's find and eliminate errors in the data\n",
    "# Check calls for 0s\n",
    "\n",
    "for i in calls:\n",
    "    print(i, len(calls[calls[i]==0]))"
   ]
  },
  {
   "cell_type": "code",
   "execution_count": 25,
   "metadata": {},
   "outputs": [
    {
     "data": {
      "text/plain": [
       "19.48233927469416"
      ]
     },
     "execution_count": 25,
     "metadata": {},
     "output_type": "execute_result"
    }
   ],
   "source": [
    "# Count the percentage of 0s in calls\n",
    "\n",
    "duration_0 = calls[calls['duration']==0]['duration'].count()\n",
    "percent_0 = duration_0 * 100 / len(calls)\n",
    "\n",
    "percent_0"
   ]
  },
  {
   "cell_type": "code",
   "execution_count": 26,
   "metadata": {},
   "outputs": [
    {
     "data": {
      "text/plain": [
       "26834"
      ]
     },
     "execution_count": 26,
     "metadata": {},
     "output_type": "execute_result"
    }
   ],
   "source": [
    "duration_0"
   ]
  },
  {
   "cell_type": "markdown",
   "metadata": {},
   "source": [
    "Many calls (more than 19%) have a duration of 0.0 minutes. We can leave them because their presence will not influence the revenue."
   ]
  },
  {
   "cell_type": "markdown",
   "metadata": {},
   "source": [
    "For each user, we will find:\n",
    "\n",
    "- The number of calls made and minutes used per month\n",
    "- The number of text messages sent per month\n",
    "- The volume of data per month\n",
    "- The monthly revenue from each user (subtract the free package limit from the total number of calls, text messages, and data; multiply the result by the calling plan value; add the monthly charge depending on the calling plan)"
   ]
  },
  {
   "cell_type": "code",
   "execution_count": 27,
   "metadata": {},
   "outputs": [
    {
     "name": "stdout",
     "output_type": "stream",
     "text": [
      "2018-12-31 00:00:00\n",
      "-------------------------\n",
      "2018-01-15 00:00:00\n"
     ]
    }
   ],
   "source": [
    "# Let's find the number of calls made and minutes used per month\n",
    "# Firstly check that 'call_date' has data of one year\n",
    "\n",
    "print(calls['call_date'].max())\n",
    "print('-------------------------')\n",
    "print(calls['call_date'].min())"
   ]
  },
  {
   "cell_type": "code",
   "execution_count": 28,
   "metadata": {},
   "outputs": [
    {
     "data": {
      "text/html": [
       "<div>\n",
       "<style scoped>\n",
       "    .dataframe tbody tr th:only-of-type {\n",
       "        vertical-align: middle;\n",
       "    }\n",
       "\n",
       "    .dataframe tbody tr th {\n",
       "        vertical-align: top;\n",
       "    }\n",
       "\n",
       "    .dataframe thead th {\n",
       "        text-align: right;\n",
       "    }\n",
       "</style>\n",
       "<table border=\"1\" class=\"dataframe\">\n",
       "  <thead>\n",
       "    <tr style=\"text-align: right;\">\n",
       "      <th></th>\n",
       "      <th>id</th>\n",
       "      <th>user_id</th>\n",
       "      <th>call_date</th>\n",
       "      <th>duration</th>\n",
       "      <th>month</th>\n",
       "    </tr>\n",
       "  </thead>\n",
       "  <tbody>\n",
       "    <tr>\n",
       "      <td>0</td>\n",
       "      <td>1000_93</td>\n",
       "      <td>1000</td>\n",
       "      <td>2018-12-27</td>\n",
       "      <td>8.52</td>\n",
       "      <td>12</td>\n",
       "    </tr>\n",
       "    <tr>\n",
       "      <td>1</td>\n",
       "      <td>1000_145</td>\n",
       "      <td>1000</td>\n",
       "      <td>2018-12-27</td>\n",
       "      <td>13.66</td>\n",
       "      <td>12</td>\n",
       "    </tr>\n",
       "    <tr>\n",
       "      <td>2</td>\n",
       "      <td>1000_247</td>\n",
       "      <td>1000</td>\n",
       "      <td>2018-12-27</td>\n",
       "      <td>14.48</td>\n",
       "      <td>12</td>\n",
       "    </tr>\n",
       "    <tr>\n",
       "      <td>3</td>\n",
       "      <td>1000_309</td>\n",
       "      <td>1000</td>\n",
       "      <td>2018-12-28</td>\n",
       "      <td>5.76</td>\n",
       "      <td>12</td>\n",
       "    </tr>\n",
       "    <tr>\n",
       "      <td>4</td>\n",
       "      <td>1000_380</td>\n",
       "      <td>1000</td>\n",
       "      <td>2018-12-30</td>\n",
       "      <td>4.22</td>\n",
       "      <td>12</td>\n",
       "    </tr>\n",
       "  </tbody>\n",
       "</table>\n",
       "</div>"
      ],
      "text/plain": [
       "         id  user_id  call_date  duration  month\n",
       "0   1000_93     1000 2018-12-27      8.52     12\n",
       "1  1000_145     1000 2018-12-27     13.66     12\n",
       "2  1000_247     1000 2018-12-27     14.48     12\n",
       "3  1000_309     1000 2018-12-28      5.76     12\n",
       "4  1000_380     1000 2018-12-30      4.22     12"
      ]
     },
     "execution_count": 28,
     "metadata": {},
     "output_type": "execute_result"
    }
   ],
   "source": [
    "# Extract months from 'call_date' in calls\n",
    "\n",
    "calls['month']=pd.to_datetime(calls['call_date']).dt.month\n",
    "calls.head()"
   ]
  },
  {
   "cell_type": "code",
   "execution_count": 29,
   "metadata": {},
   "outputs": [
    {
     "data": {
      "text/html": [
       "<div>\n",
       "<style scoped>\n",
       "    .dataframe tbody tr th:only-of-type {\n",
       "        vertical-align: middle;\n",
       "    }\n",
       "\n",
       "    .dataframe tbody tr th {\n",
       "        vertical-align: top;\n",
       "    }\n",
       "\n",
       "    .dataframe thead th {\n",
       "        text-align: right;\n",
       "    }\n",
       "</style>\n",
       "<table border=\"1\" class=\"dataframe\">\n",
       "  <thead>\n",
       "    <tr style=\"text-align: right;\">\n",
       "      <th></th>\n",
       "      <th>user_id</th>\n",
       "      <th>month</th>\n",
       "      <th>calls</th>\n",
       "    </tr>\n",
       "  </thead>\n",
       "  <tbody>\n",
       "    <tr>\n",
       "      <td>0</td>\n",
       "      <td>1000</td>\n",
       "      <td>12</td>\n",
       "      <td>16</td>\n",
       "    </tr>\n",
       "    <tr>\n",
       "      <td>1</td>\n",
       "      <td>1001</td>\n",
       "      <td>8</td>\n",
       "      <td>27</td>\n",
       "    </tr>\n",
       "    <tr>\n",
       "      <td>2</td>\n",
       "      <td>1001</td>\n",
       "      <td>9</td>\n",
       "      <td>49</td>\n",
       "    </tr>\n",
       "    <tr>\n",
       "      <td>3</td>\n",
       "      <td>1001</td>\n",
       "      <td>10</td>\n",
       "      <td>65</td>\n",
       "    </tr>\n",
       "    <tr>\n",
       "      <td>4</td>\n",
       "      <td>1001</td>\n",
       "      <td>11</td>\n",
       "      <td>64</td>\n",
       "    </tr>\n",
       "  </tbody>\n",
       "</table>\n",
       "</div>"
      ],
      "text/plain": [
       "   user_id  month  calls\n",
       "0     1000     12     16\n",
       "1     1001      8     27\n",
       "2     1001      9     49\n",
       "3     1001     10     65\n",
       "4     1001     11     64"
      ]
     },
     "execution_count": 29,
     "metadata": {},
     "output_type": "execute_result"
    }
   ],
   "source": [
    "# Calculate number of calls made per month\n",
    "\n",
    "calls_group = calls.groupby(['user_id','month']).count()['duration']\n",
    "calls_group = calls_group.reset_index(name='calls')\n",
    "calls_group.head()"
   ]
  },
  {
   "cell_type": "code",
   "execution_count": 30,
   "metadata": {},
   "outputs": [
    {
     "data": {
      "text/html": [
       "<div>\n",
       "<style scoped>\n",
       "    .dataframe tbody tr th:only-of-type {\n",
       "        vertical-align: middle;\n",
       "    }\n",
       "\n",
       "    .dataframe tbody tr th {\n",
       "        vertical-align: top;\n",
       "    }\n",
       "\n",
       "    .dataframe thead th {\n",
       "        text-align: right;\n",
       "    }\n",
       "</style>\n",
       "<table border=\"1\" class=\"dataframe\">\n",
       "  <thead>\n",
       "    <tr style=\"text-align: right;\">\n",
       "      <th></th>\n",
       "      <th>id</th>\n",
       "      <th>user_id</th>\n",
       "      <th>call_date</th>\n",
       "      <th>duration</th>\n",
       "      <th>month</th>\n",
       "    </tr>\n",
       "  </thead>\n",
       "  <tbody>\n",
       "    <tr>\n",
       "      <td>0</td>\n",
       "      <td>1000_93</td>\n",
       "      <td>1000</td>\n",
       "      <td>2018-12-27</td>\n",
       "      <td>9.0</td>\n",
       "      <td>12</td>\n",
       "    </tr>\n",
       "    <tr>\n",
       "      <td>1</td>\n",
       "      <td>1000_145</td>\n",
       "      <td>1000</td>\n",
       "      <td>2018-12-27</td>\n",
       "      <td>14.0</td>\n",
       "      <td>12</td>\n",
       "    </tr>\n",
       "    <tr>\n",
       "      <td>2</td>\n",
       "      <td>1000_247</td>\n",
       "      <td>1000</td>\n",
       "      <td>2018-12-27</td>\n",
       "      <td>15.0</td>\n",
       "      <td>12</td>\n",
       "    </tr>\n",
       "    <tr>\n",
       "      <td>3</td>\n",
       "      <td>1000_309</td>\n",
       "      <td>1000</td>\n",
       "      <td>2018-12-28</td>\n",
       "      <td>6.0</td>\n",
       "      <td>12</td>\n",
       "    </tr>\n",
       "    <tr>\n",
       "      <td>4</td>\n",
       "      <td>1000_380</td>\n",
       "      <td>1000</td>\n",
       "      <td>2018-12-30</td>\n",
       "      <td>5.0</td>\n",
       "      <td>12</td>\n",
       "    </tr>\n",
       "  </tbody>\n",
       "</table>\n",
       "</div>"
      ],
      "text/plain": [
       "         id  user_id  call_date  duration  month\n",
       "0   1000_93     1000 2018-12-27       9.0     12\n",
       "1  1000_145     1000 2018-12-27      14.0     12\n",
       "2  1000_247     1000 2018-12-27      15.0     12\n",
       "3  1000_309     1000 2018-12-28       6.0     12\n",
       "4  1000_380     1000 2018-12-30       5.0     12"
      ]
     },
     "execution_count": 30,
     "metadata": {},
     "output_type": "execute_result"
    }
   ],
   "source": [
    "# Calculate minutes used per month\n",
    "# Minutes for each call should be rounded up to the next whole number\n",
    "\n",
    "calls['duration'] = calls['duration'].apply(np.ceil)\n",
    "calls.head()"
   ]
  },
  {
   "cell_type": "code",
   "execution_count": 31,
   "metadata": {},
   "outputs": [
    {
     "data": {
      "text/html": [
       "<div>\n",
       "<style scoped>\n",
       "    .dataframe tbody tr th:only-of-type {\n",
       "        vertical-align: middle;\n",
       "    }\n",
       "\n",
       "    .dataframe tbody tr th {\n",
       "        vertical-align: top;\n",
       "    }\n",
       "\n",
       "    .dataframe thead th {\n",
       "        text-align: right;\n",
       "    }\n",
       "</style>\n",
       "<table border=\"1\" class=\"dataframe\">\n",
       "  <thead>\n",
       "    <tr style=\"text-align: right;\">\n",
       "      <th></th>\n",
       "      <th>user_id</th>\n",
       "      <th>month</th>\n",
       "      <th>minutes</th>\n",
       "    </tr>\n",
       "  </thead>\n",
       "  <tbody>\n",
       "    <tr>\n",
       "      <td>0</td>\n",
       "      <td>1000</td>\n",
       "      <td>12</td>\n",
       "      <td>124.0</td>\n",
       "    </tr>\n",
       "    <tr>\n",
       "      <td>1</td>\n",
       "      <td>1001</td>\n",
       "      <td>8</td>\n",
       "      <td>182.0</td>\n",
       "    </tr>\n",
       "    <tr>\n",
       "      <td>2</td>\n",
       "      <td>1001</td>\n",
       "      <td>9</td>\n",
       "      <td>315.0</td>\n",
       "    </tr>\n",
       "    <tr>\n",
       "      <td>3</td>\n",
       "      <td>1001</td>\n",
       "      <td>10</td>\n",
       "      <td>393.0</td>\n",
       "    </tr>\n",
       "    <tr>\n",
       "      <td>4</td>\n",
       "      <td>1001</td>\n",
       "      <td>11</td>\n",
       "      <td>426.0</td>\n",
       "    </tr>\n",
       "  </tbody>\n",
       "</table>\n",
       "</div>"
      ],
      "text/plain": [
       "   user_id  month  minutes\n",
       "0     1000     12    124.0\n",
       "1     1001      8    182.0\n",
       "2     1001      9    315.0\n",
       "3     1001     10    393.0\n",
       "4     1001     11    426.0"
      ]
     },
     "execution_count": 31,
     "metadata": {},
     "output_type": "execute_result"
    }
   ],
   "source": [
    "# Calculate number of calls per month\n",
    "\n",
    "minutes_group = calls.groupby(['user_id','month'])['duration'].sum()\n",
    "minutes_group = minutes_group.reset_index(name='minutes')\n",
    "minutes_group.head()"
   ]
  },
  {
   "cell_type": "code",
   "execution_count": 32,
   "metadata": {},
   "outputs": [
    {
     "name": "stdout",
     "output_type": "stream",
     "text": [
      "2018-12-31 00:00:00\n",
      "-------------------------\n",
      "2018-01-15 00:00:00\n"
     ]
    }
   ],
   "source": [
    "# Let's find the number of text messages sent per month\n",
    "# First check that 'message_date' has data of one year\n",
    "\n",
    "print(messages['message_date'].max())\n",
    "print('-------------------------')\n",
    "print(messages['message_date'].min())"
   ]
  },
  {
   "cell_type": "code",
   "execution_count": 33,
   "metadata": {},
   "outputs": [
    {
     "data": {
      "text/html": [
       "<div>\n",
       "<style scoped>\n",
       "    .dataframe tbody tr th:only-of-type {\n",
       "        vertical-align: middle;\n",
       "    }\n",
       "\n",
       "    .dataframe tbody tr th {\n",
       "        vertical-align: top;\n",
       "    }\n",
       "\n",
       "    .dataframe thead th {\n",
       "        text-align: right;\n",
       "    }\n",
       "</style>\n",
       "<table border=\"1\" class=\"dataframe\">\n",
       "  <thead>\n",
       "    <tr style=\"text-align: right;\">\n",
       "      <th></th>\n",
       "      <th>id</th>\n",
       "      <th>user_id</th>\n",
       "      <th>message_date</th>\n",
       "      <th>month</th>\n",
       "    </tr>\n",
       "  </thead>\n",
       "  <tbody>\n",
       "    <tr>\n",
       "      <td>0</td>\n",
       "      <td>1000_125</td>\n",
       "      <td>1000</td>\n",
       "      <td>2018-12-27</td>\n",
       "      <td>12</td>\n",
       "    </tr>\n",
       "    <tr>\n",
       "      <td>1</td>\n",
       "      <td>1000_160</td>\n",
       "      <td>1000</td>\n",
       "      <td>2018-12-31</td>\n",
       "      <td>12</td>\n",
       "    </tr>\n",
       "    <tr>\n",
       "      <td>2</td>\n",
       "      <td>1000_223</td>\n",
       "      <td>1000</td>\n",
       "      <td>2018-12-31</td>\n",
       "      <td>12</td>\n",
       "    </tr>\n",
       "    <tr>\n",
       "      <td>3</td>\n",
       "      <td>1000_251</td>\n",
       "      <td>1000</td>\n",
       "      <td>2018-12-27</td>\n",
       "      <td>12</td>\n",
       "    </tr>\n",
       "    <tr>\n",
       "      <td>4</td>\n",
       "      <td>1000_255</td>\n",
       "      <td>1000</td>\n",
       "      <td>2018-12-26</td>\n",
       "      <td>12</td>\n",
       "    </tr>\n",
       "  </tbody>\n",
       "</table>\n",
       "</div>"
      ],
      "text/plain": [
       "         id  user_id message_date  month\n",
       "0  1000_125     1000   2018-12-27     12\n",
       "1  1000_160     1000   2018-12-31     12\n",
       "2  1000_223     1000   2018-12-31     12\n",
       "3  1000_251     1000   2018-12-27     12\n",
       "4  1000_255     1000   2018-12-26     12"
      ]
     },
     "execution_count": 33,
     "metadata": {},
     "output_type": "execute_result"
    }
   ],
   "source": [
    "# Let's extract months from 'message_date' in messages\n",
    "\n",
    "messages['month']=pd.to_datetime(messages['message_date']).dt.month\n",
    "messages.head()"
   ]
  },
  {
   "cell_type": "code",
   "execution_count": 34,
   "metadata": {},
   "outputs": [
    {
     "data": {
      "text/html": [
       "<div>\n",
       "<style scoped>\n",
       "    .dataframe tbody tr th:only-of-type {\n",
       "        vertical-align: middle;\n",
       "    }\n",
       "\n",
       "    .dataframe tbody tr th {\n",
       "        vertical-align: top;\n",
       "    }\n",
       "\n",
       "    .dataframe thead th {\n",
       "        text-align: right;\n",
       "    }\n",
       "</style>\n",
       "<table border=\"1\" class=\"dataframe\">\n",
       "  <thead>\n",
       "    <tr style=\"text-align: right;\">\n",
       "      <th></th>\n",
       "      <th>user_id</th>\n",
       "      <th>month</th>\n",
       "      <th>messages</th>\n",
       "    </tr>\n",
       "  </thead>\n",
       "  <tbody>\n",
       "    <tr>\n",
       "      <td>0</td>\n",
       "      <td>1000</td>\n",
       "      <td>12</td>\n",
       "      <td>11</td>\n",
       "    </tr>\n",
       "    <tr>\n",
       "      <td>1</td>\n",
       "      <td>1001</td>\n",
       "      <td>8</td>\n",
       "      <td>30</td>\n",
       "    </tr>\n",
       "    <tr>\n",
       "      <td>2</td>\n",
       "      <td>1001</td>\n",
       "      <td>9</td>\n",
       "      <td>44</td>\n",
       "    </tr>\n",
       "    <tr>\n",
       "      <td>3</td>\n",
       "      <td>1001</td>\n",
       "      <td>10</td>\n",
       "      <td>53</td>\n",
       "    </tr>\n",
       "    <tr>\n",
       "      <td>4</td>\n",
       "      <td>1001</td>\n",
       "      <td>11</td>\n",
       "      <td>36</td>\n",
       "    </tr>\n",
       "  </tbody>\n",
       "</table>\n",
       "</div>"
      ],
      "text/plain": [
       "   user_id  month  messages\n",
       "0     1000     12        11\n",
       "1     1001      8        30\n",
       "2     1001      9        44\n",
       "3     1001     10        53\n",
       "4     1001     11        36"
      ]
     },
     "execution_count": 34,
     "metadata": {},
     "output_type": "execute_result"
    }
   ],
   "source": [
    "# Calculate number of text messages sent per month\n",
    "\n",
    "messages_group = messages.groupby(['user_id','month'])['id'].count()\n",
    "messages_group = messages_group.reset_index(name='messages')\n",
    "messages_group.head()"
   ]
  },
  {
   "cell_type": "code",
   "execution_count": 35,
   "metadata": {},
   "outputs": [
    {
     "name": "stdout",
     "output_type": "stream",
     "text": [
      "2018-12-31 00:00:00\n",
      "-------------------------\n",
      "2018-01-15 00:00:00\n"
     ]
    }
   ],
   "source": [
    "# Let's find the volume of data per month\n",
    "# Firstly check that 'session_date' has data of one year\n",
    "\n",
    "print(internet['session_date'].max())\n",
    "print('-------------------------')\n",
    "print(internet['session_date'].min())"
   ]
  },
  {
   "cell_type": "code",
   "execution_count": 36,
   "metadata": {},
   "outputs": [
    {
     "data": {
      "text/html": [
       "<div>\n",
       "<style scoped>\n",
       "    .dataframe tbody tr th:only-of-type {\n",
       "        vertical-align: middle;\n",
       "    }\n",
       "\n",
       "    .dataframe tbody tr th {\n",
       "        vertical-align: top;\n",
       "    }\n",
       "\n",
       "    .dataframe thead th {\n",
       "        text-align: right;\n",
       "    }\n",
       "</style>\n",
       "<table border=\"1\" class=\"dataframe\">\n",
       "  <thead>\n",
       "    <tr style=\"text-align: right;\">\n",
       "      <th></th>\n",
       "      <th>id</th>\n",
       "      <th>user_id</th>\n",
       "      <th>session_date</th>\n",
       "      <th>mb_used</th>\n",
       "      <th>month</th>\n",
       "    </tr>\n",
       "  </thead>\n",
       "  <tbody>\n",
       "    <tr>\n",
       "      <td>0</td>\n",
       "      <td>1000_13</td>\n",
       "      <td>1000</td>\n",
       "      <td>2018-12-29</td>\n",
       "      <td>89.86</td>\n",
       "      <td>12</td>\n",
       "    </tr>\n",
       "    <tr>\n",
       "      <td>1</td>\n",
       "      <td>1000_204</td>\n",
       "      <td>1000</td>\n",
       "      <td>2018-12-31</td>\n",
       "      <td>0.00</td>\n",
       "      <td>12</td>\n",
       "    </tr>\n",
       "    <tr>\n",
       "      <td>2</td>\n",
       "      <td>1000_379</td>\n",
       "      <td>1000</td>\n",
       "      <td>2018-12-28</td>\n",
       "      <td>660.40</td>\n",
       "      <td>12</td>\n",
       "    </tr>\n",
       "    <tr>\n",
       "      <td>3</td>\n",
       "      <td>1000_413</td>\n",
       "      <td>1000</td>\n",
       "      <td>2018-12-26</td>\n",
       "      <td>270.99</td>\n",
       "      <td>12</td>\n",
       "    </tr>\n",
       "    <tr>\n",
       "      <td>4</td>\n",
       "      <td>1000_442</td>\n",
       "      <td>1000</td>\n",
       "      <td>2018-12-27</td>\n",
       "      <td>880.22</td>\n",
       "      <td>12</td>\n",
       "    </tr>\n",
       "  </tbody>\n",
       "</table>\n",
       "</div>"
      ],
      "text/plain": [
       "         id  user_id session_date  mb_used  month\n",
       "0   1000_13     1000   2018-12-29    89.86     12\n",
       "1  1000_204     1000   2018-12-31     0.00     12\n",
       "2  1000_379     1000   2018-12-28   660.40     12\n",
       "3  1000_413     1000   2018-12-26   270.99     12\n",
       "4  1000_442     1000   2018-12-27   880.22     12"
      ]
     },
     "execution_count": 36,
     "metadata": {},
     "output_type": "execute_result"
    }
   ],
   "source": [
    "# Let's extract months from 'session_date' in internet\n",
    "\n",
    "internet['month']=pd.to_datetime(internet['session_date']).dt.month\n",
    "internet.head()"
   ]
  },
  {
   "cell_type": "code",
   "execution_count": 37,
   "metadata": {},
   "outputs": [
    {
     "data": {
      "text/html": [
       "<div>\n",
       "<style scoped>\n",
       "    .dataframe tbody tr th:only-of-type {\n",
       "        vertical-align: middle;\n",
       "    }\n",
       "\n",
       "    .dataframe tbody tr th {\n",
       "        vertical-align: top;\n",
       "    }\n",
       "\n",
       "    .dataframe thead th {\n",
       "        text-align: right;\n",
       "    }\n",
       "</style>\n",
       "<table border=\"1\" class=\"dataframe\">\n",
       "  <thead>\n",
       "    <tr style=\"text-align: right;\">\n",
       "      <th></th>\n",
       "      <th>user_id</th>\n",
       "      <th>month</th>\n",
       "      <th>internet_volume</th>\n",
       "    </tr>\n",
       "  </thead>\n",
       "  <tbody>\n",
       "    <tr>\n",
       "      <td>0</td>\n",
       "      <td>1000</td>\n",
       "      <td>12</td>\n",
       "      <td>1901.47</td>\n",
       "    </tr>\n",
       "    <tr>\n",
       "      <td>1</td>\n",
       "      <td>1001</td>\n",
       "      <td>8</td>\n",
       "      <td>6919.15</td>\n",
       "    </tr>\n",
       "    <tr>\n",
       "      <td>2</td>\n",
       "      <td>1001</td>\n",
       "      <td>9</td>\n",
       "      <td>13314.82</td>\n",
       "    </tr>\n",
       "    <tr>\n",
       "      <td>3</td>\n",
       "      <td>1001</td>\n",
       "      <td>10</td>\n",
       "      <td>22330.49</td>\n",
       "    </tr>\n",
       "    <tr>\n",
       "      <td>4</td>\n",
       "      <td>1001</td>\n",
       "      <td>11</td>\n",
       "      <td>18504.30</td>\n",
       "    </tr>\n",
       "  </tbody>\n",
       "</table>\n",
       "</div>"
      ],
      "text/plain": [
       "   user_id  month  internet_volume\n",
       "0     1000     12          1901.47\n",
       "1     1001      8          6919.15\n",
       "2     1001      9         13314.82\n",
       "3     1001     10         22330.49\n",
       "4     1001     11         18504.30"
      ]
     },
     "execution_count": 37,
     "metadata": {},
     "output_type": "execute_result"
    }
   ],
   "source": [
    "# Calculate volume of data per month\n",
    "\n",
    "internet_group = internet.groupby(['user_id','month'])['mb_used'].sum()\n",
    "internet_group = internet_group.reset_index(name='internet_volume')\n",
    "internet_group.head()"
   ]
  },
  {
   "cell_type": "code",
   "execution_count": 38,
   "metadata": {},
   "outputs": [
    {
     "data": {
      "text/html": [
       "<div>\n",
       "<style scoped>\n",
       "    .dataframe tbody tr th:only-of-type {\n",
       "        vertical-align: middle;\n",
       "    }\n",
       "\n",
       "    .dataframe tbody tr th {\n",
       "        vertical-align: top;\n",
       "    }\n",
       "\n",
       "    .dataframe thead th {\n",
       "        text-align: right;\n",
       "    }\n",
       "</style>\n",
       "<table border=\"1\" class=\"dataframe\">\n",
       "  <thead>\n",
       "    <tr style=\"text-align: right;\">\n",
       "      <th></th>\n",
       "      <th>user_id</th>\n",
       "      <th>month</th>\n",
       "      <th>internet_volume</th>\n",
       "      <th>internet_gb</th>\n",
       "    </tr>\n",
       "  </thead>\n",
       "  <tbody>\n",
       "    <tr>\n",
       "      <td>0</td>\n",
       "      <td>1000</td>\n",
       "      <td>12</td>\n",
       "      <td>1901.47</td>\n",
       "      <td>1.90147</td>\n",
       "    </tr>\n",
       "    <tr>\n",
       "      <td>1</td>\n",
       "      <td>1001</td>\n",
       "      <td>8</td>\n",
       "      <td>6919.15</td>\n",
       "      <td>6.91915</td>\n",
       "    </tr>\n",
       "    <tr>\n",
       "      <td>2</td>\n",
       "      <td>1001</td>\n",
       "      <td>9</td>\n",
       "      <td>13314.82</td>\n",
       "      <td>13.31482</td>\n",
       "    </tr>\n",
       "    <tr>\n",
       "      <td>3</td>\n",
       "      <td>1001</td>\n",
       "      <td>10</td>\n",
       "      <td>22330.49</td>\n",
       "      <td>22.33049</td>\n",
       "    </tr>\n",
       "    <tr>\n",
       "      <td>4</td>\n",
       "      <td>1001</td>\n",
       "      <td>11</td>\n",
       "      <td>18504.30</td>\n",
       "      <td>18.50430</td>\n",
       "    </tr>\n",
       "  </tbody>\n",
       "</table>\n",
       "</div>"
      ],
      "text/plain": [
       "   user_id  month  internet_volume  internet_gb\n",
       "0     1000     12          1901.47      1.90147\n",
       "1     1001      8          6919.15      6.91915\n",
       "2     1001      9         13314.82     13.31482\n",
       "3     1001     10         22330.49     22.33049\n",
       "4     1001     11         18504.30     18.50430"
      ]
     },
     "execution_count": 38,
     "metadata": {},
     "output_type": "execute_result"
    }
   ],
   "source": [
    "#Now we need to round each amount of megabytes up to the next thousand\n",
    "\n",
    "internet_group['internet_gb'] = internet_group['internet_volume'] / 1000\n",
    "internet_group.head()"
   ]
  },
  {
   "cell_type": "code",
   "execution_count": 39,
   "metadata": {},
   "outputs": [
    {
     "data": {
      "text/html": [
       "<div>\n",
       "<style scoped>\n",
       "    .dataframe tbody tr th:only-of-type {\n",
       "        vertical-align: middle;\n",
       "    }\n",
       "\n",
       "    .dataframe tbody tr th {\n",
       "        vertical-align: top;\n",
       "    }\n",
       "\n",
       "    .dataframe thead th {\n",
       "        text-align: right;\n",
       "    }\n",
       "</style>\n",
       "<table border=\"1\" class=\"dataframe\">\n",
       "  <thead>\n",
       "    <tr style=\"text-align: right;\">\n",
       "      <th></th>\n",
       "      <th>user_id</th>\n",
       "      <th>month</th>\n",
       "      <th>internet_volume</th>\n",
       "      <th>internet_gb</th>\n",
       "    </tr>\n",
       "  </thead>\n",
       "  <tbody>\n",
       "    <tr>\n",
       "      <td>0</td>\n",
       "      <td>1000</td>\n",
       "      <td>12</td>\n",
       "      <td>1901.47</td>\n",
       "      <td>2.0</td>\n",
       "    </tr>\n",
       "    <tr>\n",
       "      <td>1</td>\n",
       "      <td>1001</td>\n",
       "      <td>8</td>\n",
       "      <td>6919.15</td>\n",
       "      <td>7.0</td>\n",
       "    </tr>\n",
       "    <tr>\n",
       "      <td>2</td>\n",
       "      <td>1001</td>\n",
       "      <td>9</td>\n",
       "      <td>13314.82</td>\n",
       "      <td>14.0</td>\n",
       "    </tr>\n",
       "    <tr>\n",
       "      <td>3</td>\n",
       "      <td>1001</td>\n",
       "      <td>10</td>\n",
       "      <td>22330.49</td>\n",
       "      <td>23.0</td>\n",
       "    </tr>\n",
       "    <tr>\n",
       "      <td>4</td>\n",
       "      <td>1001</td>\n",
       "      <td>11</td>\n",
       "      <td>18504.30</td>\n",
       "      <td>19.0</td>\n",
       "    </tr>\n",
       "  </tbody>\n",
       "</table>\n",
       "</div>"
      ],
      "text/plain": [
       "   user_id  month  internet_volume  internet_gb\n",
       "0     1000     12          1901.47          2.0\n",
       "1     1001      8          6919.15          7.0\n",
       "2     1001      9         13314.82         14.0\n",
       "3     1001     10         22330.49         23.0\n",
       "4     1001     11         18504.30         19.0"
      ]
     },
     "execution_count": 39,
     "metadata": {},
     "output_type": "execute_result"
    }
   ],
   "source": [
    "internet_group['internet_gb'] = internet_group['internet_gb'].apply(np.ceil)\n",
    "internet_group.head()"
   ]
  },
  {
   "cell_type": "code",
   "execution_count": 40,
   "metadata": {},
   "outputs": [
    {
     "data": {
      "text/html": [
       "<div>\n",
       "<style scoped>\n",
       "    .dataframe tbody tr th:only-of-type {\n",
       "        vertical-align: middle;\n",
       "    }\n",
       "\n",
       "    .dataframe tbody tr th {\n",
       "        vertical-align: top;\n",
       "    }\n",
       "\n",
       "    .dataframe thead th {\n",
       "        text-align: right;\n",
       "    }\n",
       "</style>\n",
       "<table border=\"1\" class=\"dataframe\">\n",
       "  <thead>\n",
       "    <tr style=\"text-align: right;\">\n",
       "      <th></th>\n",
       "      <th>user_id</th>\n",
       "      <th>month</th>\n",
       "      <th>internet_volume</th>\n",
       "      <th>internet_gb</th>\n",
       "    </tr>\n",
       "  </thead>\n",
       "  <tbody>\n",
       "    <tr>\n",
       "      <td>0</td>\n",
       "      <td>1000</td>\n",
       "      <td>12</td>\n",
       "      <td>1901.47</td>\n",
       "      <td>2000.0</td>\n",
       "    </tr>\n",
       "    <tr>\n",
       "      <td>1</td>\n",
       "      <td>1001</td>\n",
       "      <td>8</td>\n",
       "      <td>6919.15</td>\n",
       "      <td>7000.0</td>\n",
       "    </tr>\n",
       "    <tr>\n",
       "      <td>2</td>\n",
       "      <td>1001</td>\n",
       "      <td>9</td>\n",
       "      <td>13314.82</td>\n",
       "      <td>14000.0</td>\n",
       "    </tr>\n",
       "    <tr>\n",
       "      <td>3</td>\n",
       "      <td>1001</td>\n",
       "      <td>10</td>\n",
       "      <td>22330.49</td>\n",
       "      <td>23000.0</td>\n",
       "    </tr>\n",
       "    <tr>\n",
       "      <td>4</td>\n",
       "      <td>1001</td>\n",
       "      <td>11</td>\n",
       "      <td>18504.30</td>\n",
       "      <td>19000.0</td>\n",
       "    </tr>\n",
       "  </tbody>\n",
       "</table>\n",
       "</div>"
      ],
      "text/plain": [
       "   user_id  month  internet_volume  internet_gb\n",
       "0     1000     12          1901.47       2000.0\n",
       "1     1001      8          6919.15       7000.0\n",
       "2     1001      9         13314.82      14000.0\n",
       "3     1001     10         22330.49      23000.0\n",
       "4     1001     11         18504.30      19000.0"
      ]
     },
     "execution_count": 40,
     "metadata": {},
     "output_type": "execute_result"
    }
   ],
   "source": [
    "internet_group['internet_gb'] = internet_group['internet_gb'] * 1000\n",
    "internet_group.head()"
   ]
  },
  {
   "cell_type": "code",
   "execution_count": 41,
   "metadata": {},
   "outputs": [
    {
     "data": {
      "text/html": [
       "<div>\n",
       "<style scoped>\n",
       "    .dataframe tbody tr th:only-of-type {\n",
       "        vertical-align: middle;\n",
       "    }\n",
       "\n",
       "    .dataframe tbody tr th {\n",
       "        vertical-align: top;\n",
       "    }\n",
       "\n",
       "    .dataframe thead th {\n",
       "        text-align: right;\n",
       "    }\n",
       "</style>\n",
       "<table border=\"1\" class=\"dataframe\">\n",
       "  <thead>\n",
       "    <tr style=\"text-align: right;\">\n",
       "      <th></th>\n",
       "      <th>user_id</th>\n",
       "      <th>month</th>\n",
       "      <th>internet_volume</th>\n",
       "    </tr>\n",
       "  </thead>\n",
       "  <tbody>\n",
       "    <tr>\n",
       "      <td>0</td>\n",
       "      <td>1000</td>\n",
       "      <td>12</td>\n",
       "      <td>2000.0</td>\n",
       "    </tr>\n",
       "    <tr>\n",
       "      <td>1</td>\n",
       "      <td>1001</td>\n",
       "      <td>8</td>\n",
       "      <td>7000.0</td>\n",
       "    </tr>\n",
       "    <tr>\n",
       "      <td>2</td>\n",
       "      <td>1001</td>\n",
       "      <td>9</td>\n",
       "      <td>14000.0</td>\n",
       "    </tr>\n",
       "    <tr>\n",
       "      <td>3</td>\n",
       "      <td>1001</td>\n",
       "      <td>10</td>\n",
       "      <td>23000.0</td>\n",
       "    </tr>\n",
       "    <tr>\n",
       "      <td>4</td>\n",
       "      <td>1001</td>\n",
       "      <td>11</td>\n",
       "      <td>19000.0</td>\n",
       "    </tr>\n",
       "  </tbody>\n",
       "</table>\n",
       "</div>"
      ],
      "text/plain": [
       "   user_id  month  internet_volume\n",
       "0     1000     12           2000.0\n",
       "1     1001      8           7000.0\n",
       "2     1001      9          14000.0\n",
       "3     1001     10          23000.0\n",
       "4     1001     11          19000.0"
      ]
     },
     "execution_count": 41,
     "metadata": {},
     "output_type": "execute_result"
    }
   ],
   "source": [
    "internet_group['internet_volume'] = internet_group['internet_gb'] \n",
    "internet_group.drop('internet_gb', axis=1, inplace=True)\n",
    "internet_group.head()"
   ]
  },
  {
   "cell_type": "code",
   "execution_count": 42,
   "metadata": {},
   "outputs": [
    {
     "data": {
      "text/plain": [
       "array([12,  8,  9, 10, 11,  5,  6,  7,  3,  4,  1,  2])"
      ]
     },
     "execution_count": 42,
     "metadata": {},
     "output_type": "execute_result"
    }
   ],
   "source": [
    "minutes_group['month'].unique()"
   ]
  },
  {
   "cell_type": "code",
   "execution_count": 43,
   "metadata": {},
   "outputs": [],
   "source": [
    "# Let's find the monthly revenue from each user \n",
    "# Merge the data\n",
    "\n",
    "total_1= pd.merge(left = internet_group, \n",
    "                right = calls_group, how='outer',on=['user_id', 'month']).fillna(0)\n",
    "total_2=pd.merge(left = total_1, \n",
    "                right = messages_group, how='outer',on=['user_id', 'month']).fillna(0)\n",
    "total_3=pd.merge(left = total_2, \n",
    "                right = minutes_group, how='outer',on=['user_id', 'month']).fillna(0)"
   ]
  },
  {
   "cell_type": "markdown",
   "metadata": {},
   "source": [
    "We found the minutes, texts, and volume of data the users of each plan require per month. "
   ]
  },
  {
   "cell_type": "code",
   "execution_count": 44,
   "metadata": {},
   "outputs": [
    {
     "data": {
      "text/html": [
       "<div>\n",
       "<style scoped>\n",
       "    .dataframe tbody tr th:only-of-type {\n",
       "        vertical-align: middle;\n",
       "    }\n",
       "\n",
       "    .dataframe tbody tr th {\n",
       "        vertical-align: top;\n",
       "    }\n",
       "\n",
       "    .dataframe thead th {\n",
       "        text-align: right;\n",
       "    }\n",
       "</style>\n",
       "<table border=\"1\" class=\"dataframe\">\n",
       "  <thead>\n",
       "    <tr style=\"text-align: right;\">\n",
       "      <th></th>\n",
       "      <th>user_id</th>\n",
       "      <th>city</th>\n",
       "      <th>plan</th>\n",
       "      <th>month</th>\n",
       "      <th>internet_volume</th>\n",
       "      <th>calls</th>\n",
       "      <th>messages</th>\n",
       "      <th>minutes</th>\n",
       "    </tr>\n",
       "  </thead>\n",
       "  <tbody>\n",
       "    <tr>\n",
       "      <td>0</td>\n",
       "      <td>1000</td>\n",
       "      <td>Atlanta-Sandy Springs-Roswell, GA MSA</td>\n",
       "      <td>ultimate</td>\n",
       "      <td>12</td>\n",
       "      <td>2000.0</td>\n",
       "      <td>16.0</td>\n",
       "      <td>11.0</td>\n",
       "      <td>124.0</td>\n",
       "    </tr>\n",
       "    <tr>\n",
       "      <td>1</td>\n",
       "      <td>1001</td>\n",
       "      <td>Seattle-Tacoma-Bellevue, WA MSA</td>\n",
       "      <td>surf</td>\n",
       "      <td>8</td>\n",
       "      <td>7000.0</td>\n",
       "      <td>27.0</td>\n",
       "      <td>30.0</td>\n",
       "      <td>182.0</td>\n",
       "    </tr>\n",
       "    <tr>\n",
       "      <td>2</td>\n",
       "      <td>1001</td>\n",
       "      <td>Seattle-Tacoma-Bellevue, WA MSA</td>\n",
       "      <td>surf</td>\n",
       "      <td>9</td>\n",
       "      <td>14000.0</td>\n",
       "      <td>49.0</td>\n",
       "      <td>44.0</td>\n",
       "      <td>315.0</td>\n",
       "    </tr>\n",
       "    <tr>\n",
       "      <td>3</td>\n",
       "      <td>1001</td>\n",
       "      <td>Seattle-Tacoma-Bellevue, WA MSA</td>\n",
       "      <td>surf</td>\n",
       "      <td>10</td>\n",
       "      <td>23000.0</td>\n",
       "      <td>65.0</td>\n",
       "      <td>53.0</td>\n",
       "      <td>393.0</td>\n",
       "    </tr>\n",
       "    <tr>\n",
       "      <td>4</td>\n",
       "      <td>1001</td>\n",
       "      <td>Seattle-Tacoma-Bellevue, WA MSA</td>\n",
       "      <td>surf</td>\n",
       "      <td>11</td>\n",
       "      <td>19000.0</td>\n",
       "      <td>64.0</td>\n",
       "      <td>36.0</td>\n",
       "      <td>426.0</td>\n",
       "    </tr>\n",
       "  </tbody>\n",
       "</table>\n",
       "</div>"
      ],
      "text/plain": [
       "   user_id                                   city      plan  month  \\\n",
       "0     1000  Atlanta-Sandy Springs-Roswell, GA MSA  ultimate     12   \n",
       "1     1001        Seattle-Tacoma-Bellevue, WA MSA      surf      8   \n",
       "2     1001        Seattle-Tacoma-Bellevue, WA MSA      surf      9   \n",
       "3     1001        Seattle-Tacoma-Bellevue, WA MSA      surf     10   \n",
       "4     1001        Seattle-Tacoma-Bellevue, WA MSA      surf     11   \n",
       "\n",
       "   internet_volume  calls  messages  minutes  \n",
       "0           2000.0   16.0      11.0    124.0  \n",
       "1           7000.0   27.0      30.0    182.0  \n",
       "2          14000.0   49.0      44.0    315.0  \n",
       "3          23000.0   65.0      53.0    393.0  \n",
       "4          19000.0   64.0      36.0    426.0  "
      ]
     },
     "execution_count": 44,
     "metadata": {},
     "output_type": "execute_result"
    }
   ],
   "source": [
    "# Merge plans and cities (we will need this column in future investigation) to our new table\n",
    "\n",
    "total_4=pd.merge(left = total_3, \n",
    "                right = users, how='inner',on=['user_id']).fillna(0)\n",
    "#total_4.drop(['first_name', 'last_name', 'age', 'reg_date', 'churn_date'], axis=1, inplace=True)\n",
    "total_4 = total_4[['user_id','city', 'plan', 'month', 'internet_volume', 'calls', 'messages', 'minutes']]\n",
    "total_4.head()"
   ]
  },
  {
   "cell_type": "markdown",
   "metadata": {},
   "source": [
    "## Analyze the data"
   ]
  },
  {
   "cell_type": "markdown",
   "metadata": {},
   "source": [
    "We will describe the customers' behavior. We find the minutes, texts, and volume of data the users of each plan require per month, calculate the mean, dispersion, and standard deviation, plot histograms and describe the distributions."
   ]
  },
  {
   "cell_type": "code",
   "execution_count": 45,
   "metadata": {},
   "outputs": [
    {
     "data": {
      "text/plain": [
       "month\n",
       "1     0.000602\n",
       "2     0.003963\n",
       "3     0.011254\n",
       "4     0.026062\n",
       "5     0.045621\n",
       "6     0.062032\n",
       "7     0.080733\n",
       "8     0.098511\n",
       "9     0.119154\n",
       "10    0.151012\n",
       "11    0.177635\n",
       "12    0.223421\n",
       "Name: minutes, dtype: float64"
      ]
     },
     "execution_count": 45,
     "metadata": {},
     "output_type": "execute_result"
    }
   ],
   "source": [
    "# Let's find minutes the users of each plan require per month\n",
    "\n",
    "total_surf = total_4[total_4['plan']=='surf']\n",
    "total_ultimate = total_4[total_4['plan']=='ultimate']\n",
    "\n",
    "minutes_by_months_surf = total_surf.groupby(['month'])['minutes'].sum()\n",
    "minutes_by_months_ultimate = total_ultimate.groupby(['month'])['minutes'].sum()\n",
    "\n",
    "minutes_by_months_surf/sum(minutes_by_months_surf)"
   ]
  },
  {
   "cell_type": "code",
   "execution_count": 46,
   "metadata": {},
   "outputs": [
    {
     "data": {
      "text/plain": [
       "month\n",
       "1     0.002497\n",
       "2     0.009105\n",
       "3     0.011780\n",
       "4     0.022825\n",
       "5     0.038013\n",
       "6     0.056256\n",
       "7     0.081301\n",
       "8     0.096546\n",
       "9     0.121404\n",
       "10    0.154160\n",
       "11    0.182432\n",
       "12    0.223681\n",
       "Name: minutes, dtype: float64"
      ]
     },
     "execution_count": 46,
     "metadata": {},
     "output_type": "execute_result"
    }
   ],
   "source": [
    "minutes_by_months_ultimate/sum(minutes_by_months_ultimate)"
   ]
  },
  {
   "cell_type": "markdown",
   "metadata": {},
   "source": [
    "We see that the number of minutes used is growing every month. It may be because the number of users has grown every month."
   ]
  },
  {
   "cell_type": "code",
   "execution_count": 47,
   "metadata": {},
   "outputs": [
    {
     "data": {
      "text/plain": [
       "month\n",
       "1     0.002617\n",
       "2     0.006978\n",
       "3     0.015264\n",
       "4     0.030964\n",
       "5     0.046228\n",
       "6     0.062800\n",
       "7     0.078500\n",
       "8     0.101614\n",
       "9     0.122111\n",
       "10    0.149586\n",
       "11    0.178805\n",
       "12    0.204536\n",
       "Name: user_id, dtype: float64"
      ]
     },
     "execution_count": 47,
     "metadata": {},
     "output_type": "execute_result"
    }
   ],
   "source": [
    "# Let's see the destribution of users by months\n",
    "\n",
    "users_by_month = total_4.groupby('month').count()['user_id']\n",
    "users_by_month/sum(users_by_month)"
   ]
  },
  {
   "cell_type": "markdown",
   "metadata": {},
   "source": [
    "Yes, the minutes used and the number of users grow approximately, in the same way, every month."
   ]
  },
  {
   "cell_type": "code",
   "execution_count": 48,
   "metadata": {},
   "outputs": [],
   "source": [
    "# Let's calculate the mean, dispersion, and standard deviation, plot histograms and describe the distributions\n",
    "# Create a function to see all the metrics\n",
    "\n",
    "def function(parameter):\n",
    "    print('The histogram of surf plan: {}'.format(parameter))\n",
    "    total_surf[parameter].hist(bins=100)\n",
    "    plt.show()\n",
    "    if total_surf[parameter].mean()>total_surf[parameter].median():\n",
    "        print('The distribution is skewed to the right')\n",
    "    else:\n",
    "        print('The distribution is skewed to the left')\n",
    "    print('---------------------------------------')\n",
    "    print('Statistics on surf plan: {}'.format(parameter))\n",
    "    print(total_surf[parameter].describe())\n",
    "    print(\"Variance for surf plan:\", np.std(total_surf[parameter])**2)\n",
    "    sigma_surf = np.sqrt(np.std(total_surf[parameter]))\n",
    "\n",
    "    \n",
    "    print('The histogram of ultimate plan: {}'.format(parameter))\n",
    "    total_ultimate[parameter].hist(bins=100)\n",
    "    plt.show()\n",
    "    if total_ultimate[parameter].mean()>total_ultimate[parameter].median():\n",
    "        print('The distribution is skewed to the right')\n",
    "    else:\n",
    "        print('The distribution is skewed to the left')\n",
    "    print('---------------------------------------')\n",
    "    print('Statistics on ultimate plan: {}'.format(parameter))\n",
    "    print(total_ultimate[parameter].describe())\n",
    "    print(\"Variance for ultimate plan:\", np.std(total_ultimate[parameter])**2)\n",
    "   "
   ]
  },
  {
   "cell_type": "code",
   "execution_count": 49,
   "metadata": {},
   "outputs": [
    {
     "name": "stdout",
     "output_type": "stream",
     "text": [
      "The histogram of surf plan: minutes\n"
     ]
    },
    {
     "data": {
      "image/png": "[encoded data removed]",
      "text/plain": [
       "<Figure size 432x288 with 1 Axes>"
      ]
     },
     "metadata": {
      "needs_background": "light"
     },
     "output_type": "display_data"
    },
    {
     "name": "stdout",
     "output_type": "stream",
     "text": [
      "The distribution is skewed to the right\n",
      "---------------------------------------\n",
      "Statistics on surf plan: minutes\n",
      "count    1573.000000\n",
      "mean      428.749523\n",
      "std       234.453150\n",
      "min         0.000000\n",
      "25%       272.000000\n",
      "50%       425.000000\n",
      "75%       576.000000\n",
      "max      1510.000000\n",
      "Name: minutes, dtype: float64\n",
      "Variance for surf plan: 54933.334591317485\n",
      "The histogram of ultimate plan: minutes\n"
     ]
    },
    {
     "data": {
      "image/png": "[encoded data removed]",
      "text/plain": [
       "<Figure size 432x288 with 1 Axes>"
      ]
     },
     "metadata": {
      "needs_background": "light"
     },
     "output_type": "display_data"
    },
    {
     "name": "stdout",
     "output_type": "stream",
     "text": [
      "The distribution is skewed to the right\n",
      "---------------------------------------\n",
      "Statistics on ultimate plan: minutes\n",
      "count     720.000000\n",
      "mean      430.450000\n",
      "std       240.508762\n",
      "min         0.000000\n",
      "25%       260.000000\n",
      "50%       424.000000\n",
      "75%       565.250000\n",
      "max      1369.000000\n",
      "Name: minutes, dtype: float64\n",
      "Variance for ultimate plan: 57764.12527777777\n"
     ]
    }
   ],
   "source": [
    "# Apply function to minutes\n",
    "\n",
    "function('minutes')"
   ]
  },
  {
   "cell_type": "code",
   "execution_count": 50,
   "metadata": {},
   "outputs": [
    {
     "data": {
      "image/png": "[encoded data removed]",
      "text/plain": [
       "<Figure size 432x288 with 1 Axes>"
      ]
     },
     "metadata": {
      "needs_background": "light"
     },
     "output_type": "display_data"
    }
   ],
   "source": [
    "sns.boxplot(x=total_surf['minutes'])\n",
    "plt.show()"
   ]
  },
  {
   "cell_type": "code",
   "execution_count": 51,
   "metadata": {},
   "outputs": [
    {
     "data": {
      "image/png": "[encoded data removed]",
      "text/plain": [
       "<Figure size 432x288 with 1 Axes>"
      ]
     },
     "metadata": {
      "needs_background": "light"
     },
     "output_type": "display_data"
    }
   ],
   "source": [
    "sns.boxplot(x=total_ultimate['minutes'])\n",
    "plt.show()"
   ]
  },
  {
   "cell_type": "markdown",
   "metadata": {},
   "source": [
    "Most surf plan users spend between 272 and 576 minutes per month.\n",
    "Most ultimate plan users spend between 260 and 565 minutes per month.\n",
    "We can see that regardless of the plan, most users talk on the phone for about the same time, even though Ultimate plan users can spend up to 3,000 minutes per month at no additional cost. "
   ]
  },
  {
   "cell_type": "code",
   "execution_count": 52,
   "metadata": {},
   "outputs": [
    {
     "data": {
      "text/plain": [
       "month\n",
       "1     0.000428\n",
       "2     0.002203\n",
       "3     0.007161\n",
       "4     0.017750\n",
       "5     0.037724\n",
       "6     0.050067\n",
       "7     0.066736\n",
       "8     0.095116\n",
       "9     0.121761\n",
       "10    0.163627\n",
       "11    0.186987\n",
       "12    0.250439\n",
       "Name: messages, dtype: float64"
      ]
     },
     "execution_count": 52,
     "metadata": {},
     "output_type": "execute_result"
    }
   ],
   "source": [
    "# Let's find texts the users of each plan require per month\n",
    "\n",
    "messages_by_months_surf = total_surf.groupby(['month'])['messages'].sum()\n",
    "messages_by_months_ultimate = total_ultimate.groupby(['month'])['messages'].sum()\n",
    "\n",
    "messages_by_months_surf/sum(messages_by_months_surf)"
   ]
  },
  {
   "cell_type": "code",
   "execution_count": 53,
   "metadata": {},
   "outputs": [
    {
     "data": {
      "text/plain": [
       "month\n",
       "1     0.002293\n",
       "2     0.005585\n",
       "3     0.008988\n",
       "4     0.017125\n",
       "5     0.034434\n",
       "6     0.051004\n",
       "7     0.071643\n",
       "8     0.101047\n",
       "9     0.120539\n",
       "10    0.154640\n",
       "11    0.181344\n",
       "12    0.251359\n",
       "Name: messages, dtype: float64"
      ]
     },
     "execution_count": 53,
     "metadata": {},
     "output_type": "execute_result"
    }
   ],
   "source": [
    "messages_by_months_ultimate/sum(messages_by_months_ultimate)"
   ]
  },
  {
   "cell_type": "code",
   "execution_count": 54,
   "metadata": {},
   "outputs": [
    {
     "data": {
      "text/plain": [
       "month\n",
       "1     0.002617\n",
       "2     0.006978\n",
       "3     0.015264\n",
       "4     0.030964\n",
       "5     0.046228\n",
       "6     0.062800\n",
       "7     0.078500\n",
       "8     0.101614\n",
       "9     0.122111\n",
       "10    0.149586\n",
       "11    0.178805\n",
       "12    0.204536\n",
       "Name: user_id, dtype: float64"
      ]
     },
     "execution_count": 54,
     "metadata": {},
     "output_type": "execute_result"
    }
   ],
   "source": [
    "# Let's see the destribution of users by months\n",
    "\n",
    "users_by_month = total_4.groupby('month').count()['user_id']\n",
    "users_by_month/sum(users_by_month)"
   ]
  },
  {
   "cell_type": "markdown",
   "metadata": {},
   "source": [
    "The messages and the number of users grow approximately, in the same way, every month."
   ]
  },
  {
   "cell_type": "code",
   "execution_count": 55,
   "metadata": {},
   "outputs": [
    {
     "name": "stdout",
     "output_type": "stream",
     "text": [
      "The histogram of surf plan: messages\n"
     ]
    },
    {
     "data": {
      "image/png": "[encoded data removed]",
      "text/plain": [
       "<Figure size 432x288 with 1 Axes>"
      ]
     },
     "metadata": {
      "needs_background": "light"
     },
     "output_type": "display_data"
    },
    {
     "name": "stdout",
     "output_type": "stream",
     "text": [
      "The distribution is skewed to the right\n",
      "---------------------------------------\n",
      "Statistics on surf plan: messages\n",
      "count    1573.000000\n",
      "mean       31.159568\n",
      "std        33.566717\n",
      "min         0.000000\n",
      "25%         3.000000\n",
      "50%        24.000000\n",
      "75%        47.000000\n",
      "max       266.000000\n",
      "Name: messages, dtype: float64\n",
      "Variance for surf plan: 1126.008231726662\n",
      "The histogram of ultimate plan: messages\n"
     ]
    },
    {
     "data": {
      "image/png": "[encoded data removed]",
      "text/plain": [
       "<Figure size 432x288 with 1 Axes>"
      ]
     },
     "metadata": {
      "needs_background": "light"
     },
     "output_type": "display_data"
    },
    {
     "name": "stdout",
     "output_type": "stream",
     "text": [
      "The distribution is skewed to the right\n",
      "---------------------------------------\n",
      "Statistics on ultimate plan: messages\n",
      "count    720.000000\n",
      "mean      37.551389\n",
      "std       34.767179\n",
      "min        0.000000\n",
      "25%        7.000000\n",
      "50%       30.000000\n",
      "75%       61.000000\n",
      "max      166.000000\n",
      "Name: messages, dtype: float64\n",
      "Variance for ultimate plan: 1207.0779147376543\n"
     ]
    }
   ],
   "source": [
    "# Let's calculate the mean, dispersion, and standard deviation, plot histograms and describe the distributions\n",
    "# Apply function to messages\n",
    "\n",
    "function('messages')"
   ]
  },
  {
   "cell_type": "code",
   "execution_count": 56,
   "metadata": {},
   "outputs": [
    {
     "data": {
      "image/png": "[encoded data removed]",
      "text/plain": [
       "<Figure size 432x288 with 1 Axes>"
      ]
     },
     "metadata": {
      "needs_background": "light"
     },
     "output_type": "display_data"
    }
   ],
   "source": [
    "sns.boxplot(x=total_surf['messages'])\n",
    "plt.show()"
   ]
  },
  {
   "cell_type": "code",
   "execution_count": 57,
   "metadata": {},
   "outputs": [
    {
     "data": {
      "image/png": "[encoded data removed]",
      "text/plain": [
       "<Figure size 432x288 with 1 Axes>"
      ]
     },
     "metadata": {
      "needs_background": "light"
     },
     "output_type": "display_data"
    }
   ],
   "source": [
    "sns.boxplot(x=total_ultimate['messages'])\n",
    "plt.show()"
   ]
  },
  {
   "cell_type": "markdown",
   "metadata": {},
   "source": [
    "Most surf plan users write between 3 and 47 messages per month.\n",
    "Most ultimate plan users write between 7 and 61 messages per month.\n",
    "We can see that regardless of the plan, most users send about the same amount of messages per month, even though Ultimate plan users can send up to 1,000 minutes per month at no additional cost. We also see that many users of both plans do not use the messages at all. It may be because many people prefer to use Internet applications and messengers for text communication."
   ]
  },
  {
   "cell_type": "code",
   "execution_count": 58,
   "metadata": {},
   "outputs": [
    {
     "data": {
      "text/plain": [
       "month\n",
       "1     0.000373\n",
       "2     0.004254\n",
       "3     0.011828\n",
       "4     0.023172\n",
       "5     0.041530\n",
       "6     0.057052\n",
       "7     0.078097\n",
       "8     0.104291\n",
       "9     0.123582\n",
       "10    0.157164\n",
       "11    0.177799\n",
       "12    0.220858\n",
       "Name: internet_volume, dtype: float64"
      ]
     },
     "execution_count": 58,
     "metadata": {},
     "output_type": "execute_result"
    }
   ],
   "source": [
    "# Let's find volume of data the users of each plan require per month\n",
    "\n",
    "internet_by_months_surf = total_surf.groupby(['month'])['internet_volume'].sum()\n",
    "internet_by_months_ultimate = total_ultimate.groupby(['month'])['internet_volume'].sum()\n",
    "\n",
    "internet_by_months_surf/sum(internet_by_months_surf)"
   ]
  },
  {
   "cell_type": "code",
   "execution_count": 59,
   "metadata": {},
   "outputs": [
    {
     "data": {
      "text/plain": [
       "month\n",
       "1     0.002273\n",
       "2     0.009641\n",
       "3     0.017714\n",
       "4     0.027120\n",
       "5     0.038799\n",
       "6     0.058316\n",
       "7     0.077755\n",
       "8     0.102289\n",
       "9     0.118200\n",
       "10    0.150259\n",
       "11    0.174636\n",
       "12    0.222997\n",
       "Name: internet_volume, dtype: float64"
      ]
     },
     "execution_count": 59,
     "metadata": {},
     "output_type": "execute_result"
    }
   ],
   "source": [
    "internet_by_months_ultimate/sum(internet_by_months_ultimate)"
   ]
  },
  {
   "cell_type": "code",
   "execution_count": 60,
   "metadata": {},
   "outputs": [
    {
     "data": {
      "text/plain": [
       "month\n",
       "1     0.002617\n",
       "2     0.006978\n",
       "3     0.015264\n",
       "4     0.030964\n",
       "5     0.046228\n",
       "6     0.062800\n",
       "7     0.078500\n",
       "8     0.101614\n",
       "9     0.122111\n",
       "10    0.149586\n",
       "11    0.178805\n",
       "12    0.204536\n",
       "Name: user_id, dtype: float64"
      ]
     },
     "execution_count": 60,
     "metadata": {},
     "output_type": "execute_result"
    }
   ],
   "source": [
    "# Let's see the destribution of users by months\n",
    "\n",
    "users_by_month = total_4.groupby('month').count()['user_id']\n",
    "users_by_month/sum(users_by_month)"
   ]
  },
  {
   "cell_type": "markdown",
   "metadata": {},
   "source": [
    "The volume of data and the number of users grow approximately, in the same way, every month."
   ]
  },
  {
   "cell_type": "code",
   "execution_count": 61,
   "metadata": {},
   "outputs": [
    {
     "name": "stdout",
     "output_type": "stream",
     "text": [
      "The histogram of surf plan: internet_volume\n"
     ]
    },
    {
     "data": {
      "image/png": "[encoded data removed]",
      "text/plain": [
       "<Figure size 432x288 with 1 Axes>"
      ]
     },
     "metadata": {
      "needs_background": "light"
     },
     "output_type": "display_data"
    },
    {
     "name": "stdout",
     "output_type": "stream",
     "text": [
      "The distribution is skewed to the right\n",
      "---------------------------------------\n",
      "Statistics on surf plan: internet_volume\n",
      "count     1573.000000\n",
      "mean     17037.507947\n",
      "std       8016.394899\n",
      "min          0.000000\n",
      "25%      12000.000000\n",
      "50%      17000.000000\n",
      "75%      21000.000000\n",
      "max      71000.000000\n",
      "Name: internet_volume, dtype: float64\n",
      "Variance for surf plan: 64221733.6498097\n",
      "The histogram of ultimate plan: internet_volume\n"
     ]
    },
    {
     "data": {
      "image/png": "[encoded data removed]",
      "text/plain": [
       "<Figure size 432x288 with 1 Axes>"
      ]
     },
     "metadata": {
      "needs_background": "light"
     },
     "output_type": "display_data"
    },
    {
     "name": "stdout",
     "output_type": "stream",
     "text": [
      "The distribution is skewed to the right\n",
      "---------------------------------------\n",
      "Statistics on ultimate plan: internet_volume\n",
      "count      720.000000\n",
      "mean     17719.444444\n",
      "std       7865.288592\n",
      "min          0.000000\n",
      "25%      13000.000000\n",
      "50%      17000.000000\n",
      "75%      22000.000000\n",
      "max      47000.000000\n",
      "Name: internet_volume, dtype: float64\n",
      "Variance for ultimate plan: 61776844.13580247\n"
     ]
    }
   ],
   "source": [
    "# Let's calculate the mean, dispersion, and standard deviation, plot histograms and describe the distributions\n",
    "# Apply function to internet_volume\n",
    "\n",
    "function('internet_volume')"
   ]
  },
  {
   "cell_type": "code",
   "execution_count": 62,
   "metadata": {},
   "outputs": [
    {
     "data": {
      "image/png": "[encoded data removed]",
      "text/plain": [
       "<Figure size 432x288 with 1 Axes>"
      ]
     },
     "metadata": {
      "needs_background": "light"
     },
     "output_type": "display_data"
    }
   ],
   "source": [
    "sns.boxplot(x=total_surf['internet_volume'])\n",
    "plt.show()"
   ]
  },
  {
   "cell_type": "code",
   "execution_count": 63,
   "metadata": {},
   "outputs": [
    {
     "data": {
      "image/png": "[encoded data removed]",
      "text/plain": [
       "<Figure size 432x288 with 1 Axes>"
      ]
     },
     "metadata": {
      "needs_background": "light"
     },
     "output_type": "display_data"
    }
   ],
   "source": [
    "sns.boxplot(x=total_ultimate['internet_volume'])\n",
    "plt.show()"
   ]
  },
  {
   "cell_type": "markdown",
   "metadata": {},
   "source": [
    "Most surf plan users use between 12GB and 21GB per month.\n",
    "Most ultimate plan users use between 13GB and 22GB per month.\n",
    "We can see that most users use about the same volume of data per month regardless of the plan. Even though Ultimate plan users can send up to 30GB per month at no additional cost, users of the cheaper plan have to pay an extra fee every time they go over 15GB per month."
   ]
  },
  {
   "cell_type": "markdown",
   "metadata": {},
   "source": [
    "##  Test the hypotheses"
   ]
  },
  {
   "cell_type": "markdown",
   "metadata": {},
   "source": [
    "At this step, we need to test the following hypotheses:\n",
    "\n",
    "1. The average revenue from users of Ultimate and Surf calling plans differs\n",
    "2. The average revenue from users in NY-NJ area is different from that of the users from other regions"
   ]
  },
  {
   "cell_type": "code",
   "execution_count": 64,
   "metadata": {},
   "outputs": [],
   "source": [
    "# Let's create the function to find the average revenue from users of Ultimate and Surf\n",
    "\n",
    "def cost(row):\n",
    "    plan = row['plan']\n",
    "    internet_volume=row['internet_volume']/1000\n",
    "    messages=row['messages']\n",
    "    minutes=row['minutes']\n",
    "    \n",
    "    \n",
    "    if plan == 'surf':\n",
    "        total_cost = 20 + max((minutes - 500), 0) * 0.03 + max((messages - 50), 0) * 0.03 + max((internet_volume - 15), 0) * 10\n",
    "        \n",
    "    else:\n",
    "        total_cost = 70 + max((minutes - 3000), 0) * 0.01 + max((messages - 1000), 0) * 0.01 + max((internet_volume - 30), 0) * 7\n",
    "     \n",
    "    return total_cost"
   ]
  },
  {
   "cell_type": "code",
   "execution_count": 65,
   "metadata": {},
   "outputs": [
    {
     "data": {
      "text/html": [
       "<div>\n",
       "<style scoped>\n",
       "    .dataframe tbody tr th:only-of-type {\n",
       "        vertical-align: middle;\n",
       "    }\n",
       "\n",
       "    .dataframe tbody tr th {\n",
       "        vertical-align: top;\n",
       "    }\n",
       "\n",
       "    .dataframe thead th {\n",
       "        text-align: right;\n",
       "    }\n",
       "</style>\n",
       "<table border=\"1\" class=\"dataframe\">\n",
       "  <thead>\n",
       "    <tr style=\"text-align: right;\">\n",
       "      <th></th>\n",
       "      <th>user_id</th>\n",
       "      <th>city</th>\n",
       "      <th>plan</th>\n",
       "      <th>month</th>\n",
       "      <th>internet_volume</th>\n",
       "      <th>calls</th>\n",
       "      <th>messages</th>\n",
       "      <th>minutes</th>\n",
       "      <th>total_cost</th>\n",
       "    </tr>\n",
       "  </thead>\n",
       "  <tbody>\n",
       "    <tr>\n",
       "      <td>0</td>\n",
       "      <td>1000</td>\n",
       "      <td>Atlanta-Sandy Springs-Roswell, GA MSA</td>\n",
       "      <td>ultimate</td>\n",
       "      <td>12</td>\n",
       "      <td>2000.0</td>\n",
       "      <td>16.0</td>\n",
       "      <td>11.0</td>\n",
       "      <td>124.0</td>\n",
       "      <td>70.00</td>\n",
       "    </tr>\n",
       "    <tr>\n",
       "      <td>1</td>\n",
       "      <td>1001</td>\n",
       "      <td>Seattle-Tacoma-Bellevue, WA MSA</td>\n",
       "      <td>surf</td>\n",
       "      <td>8</td>\n",
       "      <td>7000.0</td>\n",
       "      <td>27.0</td>\n",
       "      <td>30.0</td>\n",
       "      <td>182.0</td>\n",
       "      <td>20.00</td>\n",
       "    </tr>\n",
       "    <tr>\n",
       "      <td>2</td>\n",
       "      <td>1001</td>\n",
       "      <td>Seattle-Tacoma-Bellevue, WA MSA</td>\n",
       "      <td>surf</td>\n",
       "      <td>9</td>\n",
       "      <td>14000.0</td>\n",
       "      <td>49.0</td>\n",
       "      <td>44.0</td>\n",
       "      <td>315.0</td>\n",
       "      <td>20.00</td>\n",
       "    </tr>\n",
       "    <tr>\n",
       "      <td>3</td>\n",
       "      <td>1001</td>\n",
       "      <td>Seattle-Tacoma-Bellevue, WA MSA</td>\n",
       "      <td>surf</td>\n",
       "      <td>10</td>\n",
       "      <td>23000.0</td>\n",
       "      <td>65.0</td>\n",
       "      <td>53.0</td>\n",
       "      <td>393.0</td>\n",
       "      <td>100.09</td>\n",
       "    </tr>\n",
       "    <tr>\n",
       "      <td>4</td>\n",
       "      <td>1001</td>\n",
       "      <td>Seattle-Tacoma-Bellevue, WA MSA</td>\n",
       "      <td>surf</td>\n",
       "      <td>11</td>\n",
       "      <td>19000.0</td>\n",
       "      <td>64.0</td>\n",
       "      <td>36.0</td>\n",
       "      <td>426.0</td>\n",
       "      <td>60.00</td>\n",
       "    </tr>\n",
       "  </tbody>\n",
       "</table>\n",
       "</div>"
      ],
      "text/plain": [
       "   user_id                                   city      plan  month  \\\n",
       "0     1000  Atlanta-Sandy Springs-Roswell, GA MSA  ultimate     12   \n",
       "1     1001        Seattle-Tacoma-Bellevue, WA MSA      surf      8   \n",
       "2     1001        Seattle-Tacoma-Bellevue, WA MSA      surf      9   \n",
       "3     1001        Seattle-Tacoma-Bellevue, WA MSA      surf     10   \n",
       "4     1001        Seattle-Tacoma-Bellevue, WA MSA      surf     11   \n",
       "\n",
       "   internet_volume  calls  messages  minutes  total_cost  \n",
       "0           2000.0   16.0      11.0    124.0       70.00  \n",
       "1           7000.0   27.0      30.0    182.0       20.00  \n",
       "2          14000.0   49.0      44.0    315.0       20.00  \n",
       "3          23000.0   65.0      53.0    393.0      100.09  \n",
       "4          19000.0   64.0      36.0    426.0       60.00  "
      ]
     },
     "execution_count": 65,
     "metadata": {},
     "output_type": "execute_result"
    }
   ],
   "source": [
    "# Apply our function to every row of our data\n",
    "\n",
    "total_4['total_cost']=total_4.apply(cost,axis=1)\n",
    "total_4\n",
    "total_4.head()"
   ]
  },
  {
   "cell_type": "markdown",
   "metadata": {},
   "source": [
    "We test the following hypotheses:\n",
    "\n",
    "- H0 - The average revenue from users of Ultimate and Surf calling plans not differs\n",
    "- H1 - The average revenue from users of Ultimate and Surf calling plans differs"
   ]
  },
  {
   "cell_type": "code",
   "execution_count": 66,
   "metadata": {},
   "outputs": [
    {
     "data": {
      "text/plain": [
       "LeveneResult(statistic=595.0615969529043, pvalue=4.928392512556122e-117)"
      ]
     },
     "execution_count": 66,
     "metadata": {},
     "output_type": "execute_result"
    }
   ],
   "source": [
    "total_surf = total_4[total_4['plan']=='surf']\n",
    "total_ultimate = total_4[total_4['plan']=='ultimate']\n",
    "\n",
    "st.levene(total_surf['total_cost'], total_ultimate['total_cost'], center='mean')\n",
    "# the sample groups do not have equal variance, the test rejects, so we will use equal_var = False\n",
    "# this allso makes sense here because its diffrent dataframes!"
   ]
  },
  {
   "cell_type": "code",
   "execution_count": 67,
   "metadata": {},
   "outputs": [
    {
     "name": "stdout",
     "output_type": "stream",
     "text": [
      "p-value:  2.81373182813939e-09\n",
      "We reject the null hypothesis\n",
      "surf mean: 63.6116846789574\n",
      "ultimate mean: 72.70277777777778\n"
     ]
    }
   ],
   "source": [
    "alpha = 0.05 # critical statistical significance level, \n",
    "# if the p-value is less than alpha, we reject the hypothesis\n",
    "# null hypothesis is always that things we compare are equal. \n",
    "\n",
    "result1 = st.ttest_ind(\n",
    "        total_surf['total_cost'], \n",
    "        total_ultimate['total_cost'], equal_var = False)\n",
    "\n",
    "print('p-value: ', result1.pvalue)\n",
    "\n",
    "if (result1.pvalue < alpha):\n",
    "        print(\"We reject the null hypothesis\") \n",
    "else:\n",
    "        print(\"We can't reject the null hypothesis\")\n",
    "        \n",
    "# general mean \n",
    "surf_mean = total_surf['total_cost'].mean() \n",
    "ultimate_mean = total_ultimate['total_cost'].mean() \n",
    "print('surf mean:', surf_mean) \n",
    "print('ultimate mean:', ultimate_mean)\n",
    "\n",
    "# so we understand they are different, like we thought"
   ]
  },
  {
   "cell_type": "markdown",
   "metadata": {},
   "source": [
    "It means that we can reject that the average revenue from users of Ultimate and Surf calling plans does not differ. But, at the same time, we can't reject that the average revenue from users of Ultimate and Surf calling plans differs."
   ]
  },
  {
   "cell_type": "markdown",
   "metadata": {},
   "source": [
    "Now we test the following hypotheses:\n",
    "\n",
    "- H1 - The average revenue from users in NY-NJ area is not different from that of the users from other regions\n",
    "- H0 - The average revenue from users in NY-NJ area is different from that of the users from other regions"
   ]
  },
  {
   "cell_type": "code",
   "execution_count": 68,
   "metadata": {},
   "outputs": [
    {
     "data": {
      "text/html": [
       "<div>\n",
       "<style scoped>\n",
       "    .dataframe tbody tr th:only-of-type {\n",
       "        vertical-align: middle;\n",
       "    }\n",
       "\n",
       "    .dataframe tbody tr th {\n",
       "        vertical-align: top;\n",
       "    }\n",
       "\n",
       "    .dataframe thead th {\n",
       "        text-align: right;\n",
       "    }\n",
       "</style>\n",
       "<table border=\"1\" class=\"dataframe\">\n",
       "  <thead>\n",
       "    <tr style=\"text-align: right;\">\n",
       "      <th></th>\n",
       "      <th>user_id</th>\n",
       "      <th>state</th>\n",
       "      <th>plan</th>\n",
       "      <th>month</th>\n",
       "      <th>internet_volume</th>\n",
       "      <th>calls</th>\n",
       "      <th>messages</th>\n",
       "      <th>minutes</th>\n",
       "      <th>total_cost</th>\n",
       "    </tr>\n",
       "  </thead>\n",
       "  <tbody>\n",
       "    <tr>\n",
       "      <td>0</td>\n",
       "      <td>1000</td>\n",
       "      <td>GA</td>\n",
       "      <td>ultimate</td>\n",
       "      <td>12</td>\n",
       "      <td>2000.0</td>\n",
       "      <td>16.0</td>\n",
       "      <td>11.0</td>\n",
       "      <td>124.0</td>\n",
       "      <td>70.00</td>\n",
       "    </tr>\n",
       "    <tr>\n",
       "      <td>1</td>\n",
       "      <td>1001</td>\n",
       "      <td>WA</td>\n",
       "      <td>surf</td>\n",
       "      <td>8</td>\n",
       "      <td>7000.0</td>\n",
       "      <td>27.0</td>\n",
       "      <td>30.0</td>\n",
       "      <td>182.0</td>\n",
       "      <td>20.00</td>\n",
       "    </tr>\n",
       "    <tr>\n",
       "      <td>2</td>\n",
       "      <td>1001</td>\n",
       "      <td>WA</td>\n",
       "      <td>surf</td>\n",
       "      <td>9</td>\n",
       "      <td>14000.0</td>\n",
       "      <td>49.0</td>\n",
       "      <td>44.0</td>\n",
       "      <td>315.0</td>\n",
       "      <td>20.00</td>\n",
       "    </tr>\n",
       "    <tr>\n",
       "      <td>3</td>\n",
       "      <td>1001</td>\n",
       "      <td>WA</td>\n",
       "      <td>surf</td>\n",
       "      <td>10</td>\n",
       "      <td>23000.0</td>\n",
       "      <td>65.0</td>\n",
       "      <td>53.0</td>\n",
       "      <td>393.0</td>\n",
       "      <td>100.09</td>\n",
       "    </tr>\n",
       "    <tr>\n",
       "      <td>4</td>\n",
       "      <td>1001</td>\n",
       "      <td>WA</td>\n",
       "      <td>surf</td>\n",
       "      <td>11</td>\n",
       "      <td>19000.0</td>\n",
       "      <td>64.0</td>\n",
       "      <td>36.0</td>\n",
       "      <td>426.0</td>\n",
       "      <td>60.00</td>\n",
       "    </tr>\n",
       "  </tbody>\n",
       "</table>\n",
       "</div>"
      ],
      "text/plain": [
       "   user_id state      plan  month  internet_volume  calls  messages  minutes  \\\n",
       "0     1000    GA  ultimate     12           2000.0   16.0      11.0    124.0   \n",
       "1     1001    WA      surf      8           7000.0   27.0      30.0    182.0   \n",
       "2     1001    WA      surf      9          14000.0   49.0      44.0    315.0   \n",
       "3     1001    WA      surf     10          23000.0   65.0      53.0    393.0   \n",
       "4     1001    WA      surf     11          19000.0   64.0      36.0    426.0   \n",
       "\n",
       "   total_cost  \n",
       "0       70.00  \n",
       "1       20.00  \n",
       "2       20.00  \n",
       "3      100.09  \n",
       "4       60.00  "
      ]
     },
     "execution_count": 68,
     "metadata": {},
     "output_type": "execute_result"
    }
   ],
   "source": [
    "# Let's extract areas\n",
    "\n",
    "city_city = []\n",
    "city_state = []\n",
    "\n",
    "for i in range(len(total_4)):\n",
    "    city_splitted = total_4.loc[i, 'city'][:-4].split(', ')\n",
    "    city_city.append(city_splitted[0])\n",
    "    city_state.append(city_splitted[1])\n",
    "    \n",
    "total_4['city_city'] = city_city\n",
    "total_4['state'] = city_state\n",
    "\n",
    "total_4 = total_4[['user_id','state', 'plan', 'month', 'internet_volume', 'calls', 'messages', 'minutes', 'total_cost']]\n",
    "total_4.head()"
   ]
  },
  {
   "cell_type": "code",
   "execution_count": 69,
   "metadata": {},
   "outputs": [
    {
     "data": {
      "text/html": [
       "<div>\n",
       "<style scoped>\n",
       "    .dataframe tbody tr th:only-of-type {\n",
       "        vertical-align: middle;\n",
       "    }\n",
       "\n",
       "    .dataframe tbody tr th {\n",
       "        vertical-align: top;\n",
       "    }\n",
       "\n",
       "    .dataframe thead th {\n",
       "        text-align: right;\n",
       "    }\n",
       "</style>\n",
       "<table border=\"1\" class=\"dataframe\">\n",
       "  <thead>\n",
       "    <tr style=\"text-align: right;\">\n",
       "      <th></th>\n",
       "      <th>user_id</th>\n",
       "      <th>state</th>\n",
       "      <th>plan</th>\n",
       "      <th>month</th>\n",
       "      <th>internet_volume</th>\n",
       "      <th>calls</th>\n",
       "      <th>messages</th>\n",
       "      <th>minutes</th>\n",
       "      <th>total_cost</th>\n",
       "    </tr>\n",
       "  </thead>\n",
       "  <tbody>\n",
       "    <tr>\n",
       "      <td>56</td>\n",
       "      <td>1014</td>\n",
       "      <td>NY-NJ-PA</td>\n",
       "      <td>surf</td>\n",
       "      <td>11</td>\n",
       "      <td>2000.0</td>\n",
       "      <td>28.0</td>\n",
       "      <td>9.0</td>\n",
       "      <td>163.0</td>\n",
       "      <td>20.00</td>\n",
       "    </tr>\n",
       "    <tr>\n",
       "      <td>57</td>\n",
       "      <td>1014</td>\n",
       "      <td>NY-NJ-PA</td>\n",
       "      <td>surf</td>\n",
       "      <td>12</td>\n",
       "      <td>8000.0</td>\n",
       "      <td>150.0</td>\n",
       "      <td>64.0</td>\n",
       "      <td>1114.0</td>\n",
       "      <td>38.84</td>\n",
       "    </tr>\n",
       "    <tr>\n",
       "      <td>75</td>\n",
       "      <td>1022</td>\n",
       "      <td>NY-NJ-PA</td>\n",
       "      <td>surf</td>\n",
       "      <td>5</td>\n",
       "      <td>5000.0</td>\n",
       "      <td>39.0</td>\n",
       "      <td>0.0</td>\n",
       "      <td>302.0</td>\n",
       "      <td>20.00</td>\n",
       "    </tr>\n",
       "    <tr>\n",
       "      <td>76</td>\n",
       "      <td>1022</td>\n",
       "      <td>NY-NJ-PA</td>\n",
       "      <td>surf</td>\n",
       "      <td>6</td>\n",
       "      <td>24000.0</td>\n",
       "      <td>76.0</td>\n",
       "      <td>0.0</td>\n",
       "      <td>490.0</td>\n",
       "      <td>110.00</td>\n",
       "    </tr>\n",
       "    <tr>\n",
       "      <td>77</td>\n",
       "      <td>1022</td>\n",
       "      <td>NY-NJ-PA</td>\n",
       "      <td>surf</td>\n",
       "      <td>7</td>\n",
       "      <td>10000.0</td>\n",
       "      <td>70.0</td>\n",
       "      <td>0.0</td>\n",
       "      <td>475.0</td>\n",
       "      <td>20.00</td>\n",
       "    </tr>\n",
       "  </tbody>\n",
       "</table>\n",
       "</div>"
      ],
      "text/plain": [
       "    user_id     state  plan  month  internet_volume  calls  messages  minutes  \\\n",
       "56     1014  NY-NJ-PA  surf     11           2000.0   28.0       9.0    163.0   \n",
       "57     1014  NY-NJ-PA  surf     12           8000.0  150.0      64.0   1114.0   \n",
       "75     1022  NY-NJ-PA  surf      5           5000.0   39.0       0.0    302.0   \n",
       "76     1022  NY-NJ-PA  surf      6          24000.0   76.0       0.0    490.0   \n",
       "77     1022  NY-NJ-PA  surf      7          10000.0   70.0       0.0    475.0   \n",
       "\n",
       "    total_cost  \n",
       "56       20.00  \n",
       "57       38.84  \n",
       "75       20.00  \n",
       "76      110.00  \n",
       "77       20.00  "
      ]
     },
     "execution_count": 69,
     "metadata": {},
     "output_type": "execute_result"
    }
   ],
   "source": [
    "# Extract users from NY-NJ areas\n",
    "\n",
    "ny_nj_users = total_4[['NY-NJ' in st for st in total_4['state']]]\n",
    "ny_nj_users.head()"
   ]
  },
  {
   "cell_type": "code",
   "execution_count": 70,
   "metadata": {},
   "outputs": [
    {
     "data": {
      "text/html": [
       "<div>\n",
       "<style scoped>\n",
       "    .dataframe tbody tr th:only-of-type {\n",
       "        vertical-align: middle;\n",
       "    }\n",
       "\n",
       "    .dataframe tbody tr th {\n",
       "        vertical-align: top;\n",
       "    }\n",
       "\n",
       "    .dataframe thead th {\n",
       "        text-align: right;\n",
       "    }\n",
       "</style>\n",
       "<table border=\"1\" class=\"dataframe\">\n",
       "  <thead>\n",
       "    <tr style=\"text-align: right;\">\n",
       "      <th></th>\n",
       "      <th>user_id</th>\n",
       "      <th>state</th>\n",
       "      <th>plan</th>\n",
       "      <th>month</th>\n",
       "      <th>internet_volume</th>\n",
       "      <th>calls</th>\n",
       "      <th>messages</th>\n",
       "      <th>minutes</th>\n",
       "      <th>total_cost</th>\n",
       "    </tr>\n",
       "  </thead>\n",
       "  <tbody>\n",
       "    <tr>\n",
       "      <td>0</td>\n",
       "      <td>1000</td>\n",
       "      <td>GA</td>\n",
       "      <td>ultimate</td>\n",
       "      <td>12</td>\n",
       "      <td>2000.0</td>\n",
       "      <td>16.0</td>\n",
       "      <td>11.0</td>\n",
       "      <td>124.0</td>\n",
       "      <td>70.00</td>\n",
       "    </tr>\n",
       "    <tr>\n",
       "      <td>1</td>\n",
       "      <td>1001</td>\n",
       "      <td>WA</td>\n",
       "      <td>surf</td>\n",
       "      <td>8</td>\n",
       "      <td>7000.0</td>\n",
       "      <td>27.0</td>\n",
       "      <td>30.0</td>\n",
       "      <td>182.0</td>\n",
       "      <td>20.00</td>\n",
       "    </tr>\n",
       "    <tr>\n",
       "      <td>2</td>\n",
       "      <td>1001</td>\n",
       "      <td>WA</td>\n",
       "      <td>surf</td>\n",
       "      <td>9</td>\n",
       "      <td>14000.0</td>\n",
       "      <td>49.0</td>\n",
       "      <td>44.0</td>\n",
       "      <td>315.0</td>\n",
       "      <td>20.00</td>\n",
       "    </tr>\n",
       "    <tr>\n",
       "      <td>3</td>\n",
       "      <td>1001</td>\n",
       "      <td>WA</td>\n",
       "      <td>surf</td>\n",
       "      <td>10</td>\n",
       "      <td>23000.0</td>\n",
       "      <td>65.0</td>\n",
       "      <td>53.0</td>\n",
       "      <td>393.0</td>\n",
       "      <td>100.09</td>\n",
       "    </tr>\n",
       "    <tr>\n",
       "      <td>4</td>\n",
       "      <td>1001</td>\n",
       "      <td>WA</td>\n",
       "      <td>surf</td>\n",
       "      <td>11</td>\n",
       "      <td>19000.0</td>\n",
       "      <td>64.0</td>\n",
       "      <td>36.0</td>\n",
       "      <td>426.0</td>\n",
       "      <td>60.00</td>\n",
       "    </tr>\n",
       "  </tbody>\n",
       "</table>\n",
       "</div>"
      ],
      "text/plain": [
       "   user_id state      plan  month  internet_volume  calls  messages  minutes  \\\n",
       "0     1000    GA  ultimate     12           2000.0   16.0      11.0    124.0   \n",
       "1     1001    WA      surf      8           7000.0   27.0      30.0    182.0   \n",
       "2     1001    WA      surf      9          14000.0   49.0      44.0    315.0   \n",
       "3     1001    WA      surf     10          23000.0   65.0      53.0    393.0   \n",
       "4     1001    WA      surf     11          19000.0   64.0      36.0    426.0   \n",
       "\n",
       "   total_cost  \n",
       "0       70.00  \n",
       "1       20.00  \n",
       "2       20.00  \n",
       "3      100.09  \n",
       "4       60.00  "
      ]
     },
     "execution_count": 70,
     "metadata": {},
     "output_type": "execute_result"
    }
   ],
   "source": [
    "# Extract users from other areas\n",
    "\n",
    "other_regions = total_4[['NY-NJ' not in st for st in total_4['state']]]\n",
    "other_regions.head()"
   ]
  },
  {
   "cell_type": "code",
   "execution_count": 71,
   "metadata": {},
   "outputs": [
    {
     "data": {
      "text/plain": [
       "LeveneResult(statistic=2.562901780490318, pvalue=0.10953548966682868)"
      ]
     },
     "execution_count": 71,
     "metadata": {},
     "output_type": "execute_result"
    }
   ],
   "source": [
    "st.levene(ny_nj_users['total_cost'], other_regions['total_cost' ], center='mean')\n",
    "# the sample groups do have equal variance, the test fails rejects, so we will use equal_var = True,\n",
    "# this also makes sense here because it's from the same dataframe, just from diffrent cities."
   ]
  },
  {
   "cell_type": "code",
   "execution_count": 72,
   "metadata": {},
   "outputs": [
    {
     "name": "stdout",
     "output_type": "stream",
     "text": [
      "p-value:  0.0996049232160297\n",
      "We can't reject the null hypothesis\n",
      "NT-NJ users mean: 62.72506631299734\n",
      "other regions mean: 67.20241649269312\n"
     ]
    }
   ],
   "source": [
    "result2 = st.ttest_ind(\n",
    "        ny_nj_users['total_cost'], \n",
    "        other_regions['total_cost'], equal_var = True)\n",
    "\n",
    "print('p-value: ', result2.pvalue)\n",
    "\n",
    "if (result2.pvalue < alpha):\n",
    "        print(\"We reject the null hypothesis\") \n",
    "else:\n",
    "        print(\"We can't reject the null hypothesis\") \n",
    "\n",
    "#general mean \n",
    "ny_nj_users_mean = ny_nj_users['total_cost'].mean() \n",
    "other_regions_mean = other_regions['total_cost'].mean() \n",
    "print('NT-NJ users mean:', ny_nj_users_mean) \n",
    "print('other regions mean:', other_regions_mean)\n",
    "\n",
    "# so we understand they are diffrent, like we thought"
   ]
  },
  {
   "cell_type": "markdown",
   "metadata": {},
   "source": [
    "It means that we can't reject that the average revenue from users in the NY-NJ area is not different from that of the users from other regions. At the same time, we can't reject that the average revenue from users in the NY-NJ area is different from that of the users from other regions."
   ]
  },
  {
   "cell_type": "markdown",
   "metadata": {},
   "source": [
    "## Conclusion\n",
    "\n",
    "The project goal was to analyze clients' behavior of telecom operator Megaline and determine which prepaid plan brings in more revenue: Surf or Ultimate.\n",
    "\n",
    "Our investigation contained four steps:\n",
    "\n",
    "1. Open the data file and study the general information\n",
    "2. Prepare the data\n",
    "3. Analyze the data\n",
    "4. Test the hypotheses\n",
    "\n",
    "**Step 1. Open the data file and study the general information**\n",
    "\n",
    "What we did:\n",
    "\n",
    "- Loaded all the libraries and data files\n",
    "- Got info on all the datasets\n",
    "- Count the percentage of missing values\n",
    "- Got the info about data types\n",
    "\n",
    "What we found out:\n",
    "\n",
    "Most of the columns of our datasets look normal, but part of the data should be treated to make it more suitable for the required analysis.\n",
    "\n",
    "- There are wrong types of data in datasets. We need to convert the type of `call_date` in calls, `session_date` in internet, `message_date` in messages, `reg_date` and `churn_date` in users - from object to DateTime.\n",
    "\n",
    "**Step 2. Prepare the data**\n",
    "\n",
    "What we did:\n",
    "\n",
    "- Converted the data to the necessary types\n",
    "- Checked that all data types are fixed\n",
    "- Checked data for 0s\n",
    "\n",
    "For each user, we found:\n",
    "\n",
    "- The number of calls made and minutes used per month\n",
    "- The number of text messages sent per month\n",
    "- The volume of data per month\n",
    "- The monthly revenue from each user \n",
    "\n",
    "**Step 3. Analyze the data**\n",
    "\n",
    "- We found the minutes, texts, and volume of data the users of each plan require per month\n",
    "- Calculated the mean, dispersion, and standard deviation\n",
    "- Plotted histograms\n",
    "- Described the distributions\n",
    "\n",
    "\n",
    "**Step 4. Test the hypotheses**\n",
    "\n",
    "We tested the following hypotheses:\n",
    "\n",
    "- The average revenue from users of Ultimate and Surf calling plans differs\n",
    "- The average revenue from users in the NY-NJ area is different from that of the users from other regions\n",
    "\n",
    "What we figured out:\n",
    "\n",
    "- We can reject that the average revenue from Ultimate and Surf calling plans users does not differ. At the same time, we can't reject than the average revenue from users of Ultimate and Surf calling plans differs.\n",
    "- We can't reject that the average revenue from users in the NY-NJ area is not different from that of the users from other regions. At the same time, we can't reject that the average revenue from users in the NY-NJ area is different from that of the users from the other regions."
   ]
  }
 ],
 "metadata": {
  "ExecuteTimeLog": [
   {
    "duration": 376,
    "start_time": "2022-02-11T16:44:57.283Z"
   },
   {
    "duration": 1152,
    "start_time": "2022-02-11T16:45:03.742Z"
   },
   {
    "duration": 329,
    "start_time": "2022-02-11T16:45:04.896Z"
   },
   {
    "duration": 2,
    "start_time": "2022-02-11T16:45:05.228Z"
   },
   {
    "duration": 6,
    "start_time": "2022-02-11T16:45:05.233Z"
   },
   {
    "duration": 8,
    "start_time": "2022-02-11T16:45:05.241Z"
   },
   {
    "duration": 15,
    "start_time": "2022-02-11T16:45:05.250Z"
   },
   {
    "duration": 6,
    "start_time": "2022-02-11T16:45:05.267Z"
   },
   {
    "duration": 7,
    "start_time": "2022-02-11T16:45:05.276Z"
   },
   {
    "duration": 6,
    "start_time": "2022-02-11T16:45:05.284Z"
   },
   {
    "duration": 6,
    "start_time": "2022-02-11T16:45:05.292Z"
   },
   {
    "duration": 7,
    "start_time": "2022-02-11T16:45:05.300Z"
   },
   {
    "duration": 7,
    "start_time": "2022-02-11T16:45:05.308Z"
   },
   {
    "duration": 9,
    "start_time": "2022-02-11T16:45:05.317Z"
   },
   {
    "duration": 4,
    "start_time": "2022-02-11T16:51:44.843Z"
   },
   {
    "duration": 4,
    "start_time": "2022-02-11T16:52:22.085Z"
   },
   {
    "duration": 13,
    "start_time": "2022-02-11T16:56:49.235Z"
   },
   {
    "duration": 10,
    "start_time": "2022-02-11T16:57:04.652Z"
   },
   {
    "duration": 8,
    "start_time": "2022-02-11T16:57:46.262Z"
   },
   {
    "duration": 9,
    "start_time": "2022-02-11T16:58:03.896Z"
   },
   {
    "duration": 10,
    "start_time": "2022-02-11T16:58:18.319Z"
   },
   {
    "duration": 11,
    "start_time": "2022-02-11T16:58:45.740Z"
   },
   {
    "duration": 1895,
    "start_time": "2022-02-11T16:59:25.269Z"
   },
   {
    "duration": 9,
    "start_time": "2022-02-11T16:59:42.228Z"
   },
   {
    "duration": 28,
    "start_time": "2022-02-11T17:09:48.174Z"
   },
   {
    "duration": 28,
    "start_time": "2022-02-11T17:09:58.615Z"
   },
   {
    "duration": 18,
    "start_time": "2022-02-11T17:10:44.881Z"
   },
   {
    "duration": 16,
    "start_time": "2022-02-11T17:11:23.480Z"
   },
   {
    "duration": 14,
    "start_time": "2022-02-11T17:11:25.021Z"
   },
   {
    "duration": 8,
    "start_time": "2022-02-11T17:11:28.319Z"
   },
   {
    "duration": 9,
    "start_time": "2022-02-11T17:11:30.933Z"
   },
   {
    "duration": 256,
    "start_time": "2022-02-11T17:14:27.286Z"
   },
   {
    "duration": 8,
    "start_time": "2022-02-11T17:15:01.788Z"
   },
   {
    "duration": 5,
    "start_time": "2022-02-11T17:17:36.971Z"
   },
   {
    "duration": 5,
    "start_time": "2022-02-11T17:19:49.198Z"
   },
   {
    "duration": 5,
    "start_time": "2022-02-11T17:24:04.634Z"
   },
   {
    "duration": 6,
    "start_time": "2022-02-11T17:50:08.423Z"
   },
   {
    "duration": 5,
    "start_time": "2022-02-11T17:52:30.324Z"
   },
   {
    "duration": 42,
    "start_time": "2022-02-11T18:12:14.201Z"
   },
   {
    "duration": 633,
    "start_time": "2022-02-11T18:19:57.156Z"
   },
   {
    "duration": 689,
    "start_time": "2022-02-11T18:20:20.458Z"
   },
   {
    "duration": 605,
    "start_time": "2022-02-11T18:20:39.516Z"
   },
   {
    "duration": 13,
    "start_time": "2022-02-11T18:21:08.705Z"
   },
   {
    "duration": 604,
    "start_time": "2022-02-11T18:26:12.010Z"
   },
   {
    "duration": 8,
    "start_time": "2022-02-11T18:32:16.244Z"
   },
   {
    "duration": 225,
    "start_time": "2022-02-12T16:22:45.018Z"
   },
   {
    "duration": 1016,
    "start_time": "2022-02-12T16:22:50.402Z"
   },
   {
    "duration": 256,
    "start_time": "2022-02-12T16:22:51.420Z"
   },
   {
    "duration": 5,
    "start_time": "2022-02-12T16:22:51.678Z"
   },
   {
    "duration": 12,
    "start_time": "2022-02-12T16:22:51.685Z"
   },
   {
    "duration": 7,
    "start_time": "2022-02-12T16:22:51.699Z"
   },
   {
    "duration": 10,
    "start_time": "2022-02-12T16:22:51.708Z"
   },
   {
    "duration": 12,
    "start_time": "2022-02-12T16:22:51.719Z"
   },
   {
    "duration": 26,
    "start_time": "2022-02-12T16:22:51.734Z"
   },
   {
    "duration": 16,
    "start_time": "2022-02-12T16:22:51.762Z"
   },
   {
    "duration": 14,
    "start_time": "2022-02-12T16:22:51.779Z"
   },
   {
    "duration": 12,
    "start_time": "2022-02-12T16:22:51.794Z"
   },
   {
    "duration": 5,
    "start_time": "2022-02-12T16:22:51.808Z"
   },
   {
    "duration": 10,
    "start_time": "2022-02-12T16:22:51.815Z"
   },
   {
    "duration": 10,
    "start_time": "2022-02-12T16:22:51.859Z"
   },
   {
    "duration": 8,
    "start_time": "2022-02-12T16:22:51.871Z"
   },
   {
    "duration": 6,
    "start_time": "2022-02-12T16:22:51.881Z"
   },
   {
    "duration": 7,
    "start_time": "2022-02-12T16:22:51.889Z"
   },
   {
    "duration": 8,
    "start_time": "2022-02-12T16:22:51.898Z"
   },
   {
    "duration": 64,
    "start_time": "2022-02-12T16:22:51.907Z"
   },
   {
    "duration": 4,
    "start_time": "2022-02-12T16:22:51.973Z"
   },
   {
    "duration": 24,
    "start_time": "2022-02-12T16:22:51.978Z"
   },
   {
    "duration": 8,
    "start_time": "2022-02-12T16:22:52.004Z"
   },
   {
    "duration": 12,
    "start_time": "2022-02-12T16:22:52.015Z"
   },
   {
    "duration": 7,
    "start_time": "2022-02-12T16:22:52.029Z"
   },
   {
    "duration": 5,
    "start_time": "2022-02-12T16:22:52.038Z"
   },
   {
    "duration": 6,
    "start_time": "2022-02-12T16:22:52.045Z"
   },
   {
    "duration": 9,
    "start_time": "2022-02-12T16:22:52.060Z"
   },
   {
    "duration": 8,
    "start_time": "2022-02-12T16:22:52.070Z"
   },
   {
    "duration": 5,
    "start_time": "2022-02-12T16:22:57.067Z"
   },
   {
    "duration": 5,
    "start_time": "2022-02-12T16:23:20.800Z"
   },
   {
    "duration": 6,
    "start_time": "2022-02-12T16:23:36.523Z"
   },
   {
    "duration": 6,
    "start_time": "2022-02-12T16:23:39.149Z"
   },
   {
    "duration": 57,
    "start_time": "2022-02-12T16:35:09.501Z"
   },
   {
    "duration": 61,
    "start_time": "2022-02-12T16:35:28.245Z"
   },
   {
    "duration": 52,
    "start_time": "2022-02-12T16:35:55.251Z"
   },
   {
    "duration": 4,
    "start_time": "2022-02-12T16:43:09.115Z"
   },
   {
    "duration": 4,
    "start_time": "2022-02-12T16:45:53.232Z"
   },
   {
    "duration": 10,
    "start_time": "2022-02-12T16:46:47.027Z"
   },
   {
    "duration": 19,
    "start_time": "2022-02-12T16:47:12.364Z"
   },
   {
    "duration": 275,
    "start_time": "2022-02-12T16:49:43.246Z"
   },
   {
    "duration": 976,
    "start_time": "2022-02-12T16:50:07.132Z"
   },
   {
    "duration": 875,
    "start_time": "2022-02-12T16:51:00.850Z"
   },
   {
    "duration": 179,
    "start_time": "2022-02-12T16:51:22.261Z"
   },
   {
    "duration": 897,
    "start_time": "2022-02-12T16:51:46.270Z"
   },
   {
    "duration": 25,
    "start_time": "2022-02-12T17:15:55.065Z"
   },
   {
    "duration": 164,
    "start_time": "2022-02-12T17:16:45.379Z"
   },
   {
    "duration": 182,
    "start_time": "2022-02-12T17:16:54.523Z"
   },
   {
    "duration": 14,
    "start_time": "2022-02-12T17:17:02.237Z"
   },
   {
    "duration": 23,
    "start_time": "2022-02-12T17:17:45.168Z"
   },
   {
    "duration": 14,
    "start_time": "2022-02-12T17:18:11.984Z"
   },
   {
    "duration": 20,
    "start_time": "2022-02-12T17:20:08.196Z"
   },
   {
    "duration": 17,
    "start_time": "2022-02-12T17:24:18.007Z"
   },
   {
    "duration": 29,
    "start_time": "2022-02-12T17:25:22.335Z"
   },
   {
    "duration": 14,
    "start_time": "2022-02-12T17:25:33.496Z"
   },
   {
    "duration": 22,
    "start_time": "2022-02-12T17:29:41.397Z"
   },
   {
    "duration": 170,
    "start_time": "2022-02-12T17:30:21.575Z"
   },
   {
    "duration": 15,
    "start_time": "2022-02-12T17:30:31.049Z"
   },
   {
    "duration": 3,
    "start_time": "2022-02-12T17:53:43.491Z"
   },
   {
    "duration": 233,
    "start_time": "2022-02-14T10:54:05.138Z"
   },
   {
    "duration": 1042,
    "start_time": "2022-02-14T10:54:08.426Z"
   },
   {
    "duration": 311,
    "start_time": "2022-02-14T10:54:09.470Z"
   },
   {
    "duration": 5,
    "start_time": "2022-02-14T10:54:09.783Z"
   },
   {
    "duration": 16,
    "start_time": "2022-02-14T10:54:09.790Z"
   },
   {
    "duration": 22,
    "start_time": "2022-02-14T10:54:09.807Z"
   },
   {
    "duration": 21,
    "start_time": "2022-02-14T10:54:09.831Z"
   },
   {
    "duration": 33,
    "start_time": "2022-02-14T10:54:09.854Z"
   },
   {
    "duration": 18,
    "start_time": "2022-02-14T10:54:09.890Z"
   },
   {
    "duration": 29,
    "start_time": "2022-02-14T10:54:09.910Z"
   },
   {
    "duration": 12,
    "start_time": "2022-02-14T10:54:09.941Z"
   },
   {
    "duration": 20,
    "start_time": "2022-02-14T10:54:09.955Z"
   },
   {
    "duration": 6,
    "start_time": "2022-02-14T10:54:09.977Z"
   },
   {
    "duration": 27,
    "start_time": "2022-02-14T10:54:09.985Z"
   },
   {
    "duration": 18,
    "start_time": "2022-02-14T10:54:10.014Z"
   },
   {
    "duration": 10,
    "start_time": "2022-02-14T10:54:10.034Z"
   },
   {
    "duration": 14,
    "start_time": "2022-02-14T10:54:10.046Z"
   },
   {
    "duration": 10,
    "start_time": "2022-02-14T10:54:10.061Z"
   },
   {
    "duration": 12,
    "start_time": "2022-02-14T10:54:10.073Z"
   },
   {
    "duration": 51,
    "start_time": "2022-02-14T10:54:10.086Z"
   },
   {
    "duration": 4,
    "start_time": "2022-02-14T10:54:10.138Z"
   },
   {
    "duration": 22,
    "start_time": "2022-02-14T10:54:10.144Z"
   },
   {
    "duration": 13,
    "start_time": "2022-02-14T10:54:10.168Z"
   },
   {
    "duration": 13,
    "start_time": "2022-02-14T10:54:10.184Z"
   },
   {
    "duration": 26,
    "start_time": "2022-02-14T10:54:10.199Z"
   },
   {
    "duration": 10,
    "start_time": "2022-02-14T10:54:10.226Z"
   },
   {
    "duration": 78,
    "start_time": "2022-02-14T10:54:10.237Z"
   },
   {
    "duration": -271,
    "start_time": "2022-02-14T10:54:10.589Z"
   },
   {
    "duration": -280,
    "start_time": "2022-02-14T10:54:10.599Z"
   },
   {
    "duration": -302,
    "start_time": "2022-02-14T10:54:10.623Z"
   },
   {
    "duration": -304,
    "start_time": "2022-02-14T10:54:10.626Z"
   },
   {
    "duration": -306,
    "start_time": "2022-02-14T10:54:10.629Z"
   },
   {
    "duration": -308,
    "start_time": "2022-02-14T10:54:10.633Z"
   },
   {
    "duration": -310,
    "start_time": "2022-02-14T10:54:10.636Z"
   },
   {
    "duration": -311,
    "start_time": "2022-02-14T10:54:10.639Z"
   },
   {
    "duration": -313,
    "start_time": "2022-02-14T10:54:10.642Z"
   },
   {
    "duration": -316,
    "start_time": "2022-02-14T10:54:10.646Z"
   },
   {
    "duration": -316,
    "start_time": "2022-02-14T10:54:10.648Z"
   },
   {
    "duration": 285,
    "start_time": "2022-02-14T10:54:31.887Z"
   },
   {
    "duration": 985,
    "start_time": "2022-02-14T10:54:51.473Z"
   },
   {
    "duration": 248,
    "start_time": "2022-02-14T10:54:52.460Z"
   },
   {
    "duration": 5,
    "start_time": "2022-02-14T10:54:52.710Z"
   },
   {
    "duration": 15,
    "start_time": "2022-02-14T10:54:52.717Z"
   },
   {
    "duration": 15,
    "start_time": "2022-02-14T10:54:52.734Z"
   },
   {
    "duration": 14,
    "start_time": "2022-02-14T10:54:52.750Z"
   },
   {
    "duration": 14,
    "start_time": "2022-02-14T10:54:52.766Z"
   },
   {
    "duration": 13,
    "start_time": "2022-02-14T10:54:52.782Z"
   },
   {
    "duration": 26,
    "start_time": "2022-02-14T10:54:52.797Z"
   },
   {
    "duration": 13,
    "start_time": "2022-02-14T10:54:52.825Z"
   },
   {
    "duration": 14,
    "start_time": "2022-02-14T10:54:52.839Z"
   },
   {
    "duration": 6,
    "start_time": "2022-02-14T10:54:52.855Z"
   },
   {
    "duration": 13,
    "start_time": "2022-02-14T10:54:52.862Z"
   },
   {
    "duration": 10,
    "start_time": "2022-02-14T10:54:52.876Z"
   },
   {
    "duration": 4,
    "start_time": "2022-02-14T10:54:52.888Z"
   },
   {
    "duration": 13,
    "start_time": "2022-02-14T10:54:52.913Z"
   },
   {
    "duration": 12,
    "start_time": "2022-02-14T10:54:52.928Z"
   },
   {
    "duration": 20,
    "start_time": "2022-02-14T10:54:52.942Z"
   },
   {
    "duration": 52,
    "start_time": "2022-02-14T10:54:52.963Z"
   },
   {
    "duration": 6,
    "start_time": "2022-02-14T10:54:53.017Z"
   },
   {
    "duration": 22,
    "start_time": "2022-02-14T10:54:53.024Z"
   },
   {
    "duration": 16,
    "start_time": "2022-02-14T10:54:53.048Z"
   },
   {
    "duration": 20,
    "start_time": "2022-02-14T10:54:53.066Z"
   },
   {
    "duration": 26,
    "start_time": "2022-02-14T10:54:53.088Z"
   },
   {
    "duration": 20,
    "start_time": "2022-02-14T10:54:53.116Z"
   },
   {
    "duration": 74,
    "start_time": "2022-02-14T10:54:53.137Z"
   },
   {
    "duration": -181,
    "start_time": "2022-02-14T10:54:53.394Z"
   },
   {
    "duration": -182,
    "start_time": "2022-02-14T10:54:53.396Z"
   },
   {
    "duration": -183,
    "start_time": "2022-02-14T10:54:53.399Z"
   },
   {
    "duration": -184,
    "start_time": "2022-02-14T10:54:53.401Z"
   },
   {
    "duration": -184,
    "start_time": "2022-02-14T10:54:53.402Z"
   },
   {
    "duration": -184,
    "start_time": "2022-02-14T10:54:53.404Z"
   },
   {
    "duration": -185,
    "start_time": "2022-02-14T10:54:53.406Z"
   },
   {
    "duration": -185,
    "start_time": "2022-02-14T10:54:53.407Z"
   },
   {
    "duration": -185,
    "start_time": "2022-02-14T10:54:53.409Z"
   },
   {
    "duration": -186,
    "start_time": "2022-02-14T10:54:53.411Z"
   },
   {
    "duration": -186,
    "start_time": "2022-02-14T10:54:53.412Z"
   },
   {
    "duration": 1071,
    "start_time": "2022-02-14T10:55:09.592Z"
   },
   {
    "duration": 264,
    "start_time": "2022-02-14T10:55:10.666Z"
   },
   {
    "duration": 5,
    "start_time": "2022-02-14T10:55:10.932Z"
   },
   {
    "duration": 12,
    "start_time": "2022-02-14T10:55:10.939Z"
   },
   {
    "duration": 8,
    "start_time": "2022-02-14T10:55:10.953Z"
   },
   {
    "duration": 9,
    "start_time": "2022-02-14T10:55:10.963Z"
   },
   {
    "duration": 11,
    "start_time": "2022-02-14T10:55:10.974Z"
   },
   {
    "duration": 9,
    "start_time": "2022-02-14T10:55:11.012Z"
   },
   {
    "duration": 18,
    "start_time": "2022-02-14T10:55:11.023Z"
   },
   {
    "duration": 14,
    "start_time": "2022-02-14T10:55:11.043Z"
   },
   {
    "duration": 11,
    "start_time": "2022-02-14T10:55:11.059Z"
   },
   {
    "duration": 7,
    "start_time": "2022-02-14T10:55:11.072Z"
   },
   {
    "duration": 9,
    "start_time": "2022-02-14T10:55:11.112Z"
   },
   {
    "duration": 20,
    "start_time": "2022-02-14T10:55:11.123Z"
   },
   {
    "duration": 5,
    "start_time": "2022-02-14T10:55:11.145Z"
   },
   {
    "duration": 7,
    "start_time": "2022-02-14T10:55:11.152Z"
   },
   {
    "duration": 6,
    "start_time": "2022-02-14T10:55:11.161Z"
   },
   {
    "duration": 8,
    "start_time": "2022-02-14T10:55:11.169Z"
   },
   {
    "duration": 74,
    "start_time": "2022-02-14T10:55:11.178Z"
   },
   {
    "duration": 6,
    "start_time": "2022-02-14T10:55:11.254Z"
   },
   {
    "duration": 5,
    "start_time": "2022-02-14T10:55:11.262Z"
   },
   {
    "duration": 5,
    "start_time": "2022-02-14T10:55:11.269Z"
   },
   {
    "duration": 4,
    "start_time": "2022-02-14T10:55:11.277Z"
   },
   {
    "duration": 47,
    "start_time": "2022-02-14T10:55:11.283Z"
   },
   {
    "duration": 7,
    "start_time": "2022-02-14T10:55:11.332Z"
   },
   {
    "duration": 62,
    "start_time": "2022-02-14T10:55:11.341Z"
   },
   {
    "duration": -51,
    "start_time": "2022-02-14T10:55:11.456Z"
   },
   {
    "duration": -53,
    "start_time": "2022-02-14T10:55:11.458Z"
   },
   {
    "duration": -54,
    "start_time": "2022-02-14T10:55:11.460Z"
   },
   {
    "duration": -56,
    "start_time": "2022-02-14T10:55:11.463Z"
   },
   {
    "duration": -57,
    "start_time": "2022-02-14T10:55:11.465Z"
   },
   {
    "duration": -66,
    "start_time": "2022-02-14T10:55:11.474Z"
   },
   {
    "duration": -68,
    "start_time": "2022-02-14T10:55:11.477Z"
   },
   {
    "duration": -70,
    "start_time": "2022-02-14T10:55:11.480Z"
   },
   {
    "duration": -71,
    "start_time": "2022-02-14T10:55:11.482Z"
   },
   {
    "duration": -72,
    "start_time": "2022-02-14T10:55:11.484Z"
   },
   {
    "duration": 1089,
    "start_time": "2022-02-14T10:55:32.376Z"
   },
   {
    "duration": 249,
    "start_time": "2022-02-14T10:55:33.467Z"
   },
   {
    "duration": 6,
    "start_time": "2022-02-14T10:55:33.718Z"
   },
   {
    "duration": 12,
    "start_time": "2022-02-14T10:55:33.725Z"
   },
   {
    "duration": 9,
    "start_time": "2022-02-14T10:55:33.739Z"
   },
   {
    "duration": 8,
    "start_time": "2022-02-14T10:55:33.749Z"
   },
   {
    "duration": 14,
    "start_time": "2022-02-14T10:55:33.758Z"
   },
   {
    "duration": 39,
    "start_time": "2022-02-14T10:55:33.773Z"
   },
   {
    "duration": 16,
    "start_time": "2022-02-14T10:55:33.815Z"
   },
   {
    "duration": 13,
    "start_time": "2022-02-14T10:55:33.833Z"
   },
   {
    "duration": 10,
    "start_time": "2022-02-14T10:55:33.847Z"
   },
   {
    "duration": 6,
    "start_time": "2022-02-14T10:55:33.859Z"
   },
   {
    "duration": 6,
    "start_time": "2022-02-14T10:55:33.867Z"
   },
   {
    "duration": 45,
    "start_time": "2022-02-14T10:55:33.875Z"
   },
   {
    "duration": 7,
    "start_time": "2022-02-14T10:55:33.921Z"
   },
   {
    "duration": 5,
    "start_time": "2022-02-14T10:55:33.929Z"
   },
   {
    "duration": 6,
    "start_time": "2022-02-14T10:55:33.936Z"
   },
   {
    "duration": 6,
    "start_time": "2022-02-14T10:55:33.943Z"
   },
   {
    "duration": 79,
    "start_time": "2022-02-14T10:55:33.951Z"
   },
   {
    "duration": 4,
    "start_time": "2022-02-14T10:55:34.032Z"
   },
   {
    "duration": 6,
    "start_time": "2022-02-14T10:55:34.038Z"
   },
   {
    "duration": 6,
    "start_time": "2022-02-14T10:55:34.045Z"
   },
   {
    "duration": 6,
    "start_time": "2022-02-14T10:55:34.052Z"
   },
   {
    "duration": 18,
    "start_time": "2022-02-14T10:55:34.060Z"
   },
   {
    "duration": 9,
    "start_time": "2022-02-14T10:55:34.113Z"
   },
   {
    "duration": 27,
    "start_time": "2022-02-14T10:55:34.124Z"
   },
   {
    "duration": 19,
    "start_time": "2022-02-14T10:55:34.155Z"
   },
   {
    "duration": 49,
    "start_time": "2022-02-14T10:55:34.176Z"
   },
   {
    "duration": 18,
    "start_time": "2022-02-14T10:55:34.227Z"
   },
   {
    "duration": 16,
    "start_time": "2022-02-14T10:55:34.254Z"
   },
   {
    "duration": 20,
    "start_time": "2022-02-14T10:55:34.272Z"
   },
   {
    "duration": 31,
    "start_time": "2022-02-14T10:55:34.294Z"
   },
   {
    "duration": 268,
    "start_time": "2022-02-14T10:55:34.327Z"
   },
   {
    "duration": -42,
    "start_time": "2022-02-14T10:55:34.639Z"
   },
   {
    "duration": -47,
    "start_time": "2022-02-14T10:55:34.645Z"
   },
   {
    "duration": 193,
    "start_time": "2022-02-14T10:58:11.158Z"
   },
   {
    "duration": 16,
    "start_time": "2022-02-14T10:58:18.138Z"
   },
   {
    "duration": 24,
    "start_time": "2022-02-14T11:24:32.923Z"
   },
   {
    "duration": 16,
    "start_time": "2022-02-14T11:24:38.777Z"
   },
   {
    "duration": 18,
    "start_time": "2022-02-14T11:24:41.686Z"
   },
   {
    "duration": 15,
    "start_time": "2022-02-14T11:24:49.418Z"
   },
   {
    "duration": 14,
    "start_time": "2022-02-14T11:24:58.139Z"
   },
   {
    "duration": 14,
    "start_time": "2022-02-14T11:25:03.958Z"
   },
   {
    "duration": 12,
    "start_time": "2022-02-14T11:25:47.013Z"
   },
   {
    "duration": 27,
    "start_time": "2022-02-14T11:26:26.174Z"
   },
   {
    "duration": 30,
    "start_time": "2022-02-14T11:26:32.070Z"
   },
   {
    "duration": 4720,
    "start_time": "2022-02-14T11:26:50.519Z"
   },
   {
    "duration": 33,
    "start_time": "2022-02-14T11:27:01.897Z"
   },
   {
    "duration": 15,
    "start_time": "2022-02-14T11:27:39.167Z"
   },
   {
    "duration": 61,
    "start_time": "2022-02-14T11:27:48.665Z"
   },
   {
    "duration": 17,
    "start_time": "2022-02-14T11:27:57.834Z"
   },
   {
    "duration": 35,
    "start_time": "2022-02-14T11:28:03.313Z"
   },
   {
    "duration": 28,
    "start_time": "2022-02-14T11:28:11.085Z"
   },
   {
    "duration": 207,
    "start_time": "2022-02-14T11:29:07.380Z"
   },
   {
    "duration": 29,
    "start_time": "2022-02-14T11:29:22.262Z"
   },
   {
    "duration": 32,
    "start_time": "2022-02-14T11:29:28.130Z"
   },
   {
    "duration": 27,
    "start_time": "2022-02-14T11:29:45.765Z"
   },
   {
    "duration": 49,
    "start_time": "2022-02-14T11:30:35.920Z"
   },
   {
    "duration": 36,
    "start_time": "2022-02-14T11:30:48.768Z"
   },
   {
    "duration": 26,
    "start_time": "2022-02-14T11:30:57.275Z"
   },
   {
    "duration": 29,
    "start_time": "2022-02-14T11:31:36.637Z"
   },
   {
    "duration": 31,
    "start_time": "2022-02-14T11:31:41.396Z"
   },
   {
    "duration": 32,
    "start_time": "2022-02-14T11:31:59.139Z"
   },
   {
    "duration": 9,
    "start_time": "2022-02-14T11:36:29.464Z"
   },
   {
    "duration": 65,
    "start_time": "2022-02-14T11:37:04.925Z"
   },
   {
    "duration": 194,
    "start_time": "2022-02-14T11:37:16.322Z"
   },
   {
    "duration": 1121,
    "start_time": "2022-02-14T11:37:22.339Z"
   },
   {
    "duration": 268,
    "start_time": "2022-02-14T11:37:23.461Z"
   },
   {
    "duration": 5,
    "start_time": "2022-02-14T11:37:23.731Z"
   },
   {
    "duration": 12,
    "start_time": "2022-02-14T11:37:23.738Z"
   },
   {
    "duration": 8,
    "start_time": "2022-02-14T11:37:23.752Z"
   },
   {
    "duration": 7,
    "start_time": "2022-02-14T11:37:23.762Z"
   },
   {
    "duration": 10,
    "start_time": "2022-02-14T11:37:23.770Z"
   },
   {
    "duration": 8,
    "start_time": "2022-02-14T11:37:23.782Z"
   },
   {
    "duration": 35,
    "start_time": "2022-02-14T11:37:23.792Z"
   },
   {
    "duration": 20,
    "start_time": "2022-02-14T11:37:23.829Z"
   },
   {
    "duration": 11,
    "start_time": "2022-02-14T11:37:23.851Z"
   },
   {
    "duration": 5,
    "start_time": "2022-02-14T11:37:23.863Z"
   },
   {
    "duration": 7,
    "start_time": "2022-02-14T11:37:23.870Z"
   },
   {
    "duration": 38,
    "start_time": "2022-02-14T11:37:23.879Z"
   },
   {
    "duration": 6,
    "start_time": "2022-02-14T11:37:23.919Z"
   },
   {
    "duration": 6,
    "start_time": "2022-02-14T11:37:23.926Z"
   },
   {
    "duration": 6,
    "start_time": "2022-02-14T11:37:23.934Z"
   },
   {
    "duration": 5,
    "start_time": "2022-02-14T11:37:23.941Z"
   },
   {
    "duration": 78,
    "start_time": "2022-02-14T11:37:23.947Z"
   },
   {
    "duration": 4,
    "start_time": "2022-02-14T11:37:24.027Z"
   },
   {
    "duration": 16,
    "start_time": "2022-02-14T11:37:24.033Z"
   },
   {
    "duration": 13,
    "start_time": "2022-02-14T11:37:24.051Z"
   },
   {
    "duration": 9,
    "start_time": "2022-02-14T11:37:24.068Z"
   },
   {
    "duration": 32,
    "start_time": "2022-02-14T11:37:24.079Z"
   },
   {
    "duration": 24,
    "start_time": "2022-02-14T11:37:24.113Z"
   },
   {
    "duration": 33,
    "start_time": "2022-02-14T11:37:24.139Z"
   },
   {
    "duration": 14,
    "start_time": "2022-02-14T11:37:24.174Z"
   },
   {
    "duration": 49,
    "start_time": "2022-02-14T11:37:24.189Z"
   },
   {
    "duration": 8,
    "start_time": "2022-02-14T11:37:24.240Z"
   },
   {
    "duration": 274,
    "start_time": "2022-02-14T11:37:24.249Z"
   },
   {
    "duration": -80,
    "start_time": "2022-02-14T11:37:24.605Z"
   },
   {
    "duration": -84,
    "start_time": "2022-02-14T11:37:24.610Z"
   },
   {
    "duration": -86,
    "start_time": "2022-02-14T11:37:24.613Z"
   },
   {
    "duration": -88,
    "start_time": "2022-02-14T11:37:24.616Z"
   },
   {
    "duration": -92,
    "start_time": "2022-02-14T11:37:24.620Z"
   },
   {
    "duration": -94,
    "start_time": "2022-02-14T11:37:24.623Z"
   },
   {
    "duration": -96,
    "start_time": "2022-02-14T11:37:24.626Z"
   },
   {
    "duration": -98,
    "start_time": "2022-02-14T11:37:24.629Z"
   },
   {
    "duration": 10,
    "start_time": "2022-02-14T11:41:09.936Z"
   },
   {
    "duration": 1016,
    "start_time": "2022-02-14T11:41:34.349Z"
   },
   {
    "duration": 249,
    "start_time": "2022-02-14T11:41:35.367Z"
   },
   {
    "duration": 5,
    "start_time": "2022-02-14T11:41:35.618Z"
   },
   {
    "duration": 14,
    "start_time": "2022-02-14T11:41:35.624Z"
   },
   {
    "duration": 7,
    "start_time": "2022-02-14T11:41:35.640Z"
   },
   {
    "duration": 8,
    "start_time": "2022-02-14T11:41:35.648Z"
   },
   {
    "duration": 11,
    "start_time": "2022-02-14T11:41:35.657Z"
   },
   {
    "duration": 8,
    "start_time": "2022-02-14T11:41:35.670Z"
   },
   {
    "duration": 44,
    "start_time": "2022-02-14T11:41:35.680Z"
   },
   {
    "duration": 13,
    "start_time": "2022-02-14T11:41:35.726Z"
   },
   {
    "duration": 14,
    "start_time": "2022-02-14T11:41:35.741Z"
   },
   {
    "duration": 10,
    "start_time": "2022-02-14T11:41:35.757Z"
   },
   {
    "duration": 9,
    "start_time": "2022-02-14T11:41:35.769Z"
   },
   {
    "duration": 38,
    "start_time": "2022-02-14T11:41:35.780Z"
   },
   {
    "duration": 4,
    "start_time": "2022-02-14T11:41:35.820Z"
   },
   {
    "duration": 9,
    "start_time": "2022-02-14T11:41:35.826Z"
   },
   {
    "duration": 10,
    "start_time": "2022-02-14T11:41:35.837Z"
   },
   {
    "duration": 13,
    "start_time": "2022-02-14T11:41:35.848Z"
   },
   {
    "duration": 55,
    "start_time": "2022-02-14T11:41:35.863Z"
   },
   {
    "duration": 5,
    "start_time": "2022-02-14T11:41:35.919Z"
   },
   {
    "duration": 6,
    "start_time": "2022-02-14T11:41:35.925Z"
   },
   {
    "duration": 7,
    "start_time": "2022-02-14T11:41:35.932Z"
   },
   {
    "duration": 4,
    "start_time": "2022-02-14T11:41:35.942Z"
   },
   {
    "duration": 18,
    "start_time": "2022-02-14T11:41:35.948Z"
   },
   {
    "duration": 6,
    "start_time": "2022-02-14T11:41:35.968Z"
   },
   {
    "duration": 61,
    "start_time": "2022-02-14T11:41:35.976Z"
   },
   {
    "duration": 34,
    "start_time": "2022-02-14T11:41:36.039Z"
   },
   {
    "duration": 8,
    "start_time": "2022-02-14T11:41:36.074Z"
   },
   {
    "duration": 30,
    "start_time": "2022-02-14T11:41:36.083Z"
   },
   {
    "duration": 18,
    "start_time": "2022-02-14T11:41:36.115Z"
   },
   {
    "duration": 18,
    "start_time": "2022-02-14T11:41:36.134Z"
   },
   {
    "duration": 17,
    "start_time": "2022-02-14T11:41:36.153Z"
   },
   {
    "duration": 48,
    "start_time": "2022-02-14T11:41:36.172Z"
   },
   {
    "duration": 15,
    "start_time": "2022-02-14T11:41:36.222Z"
   },
   {
    "duration": 271,
    "start_time": "2022-02-14T11:41:36.239Z"
   },
   {
    "duration": 37,
    "start_time": "2022-02-14T11:41:36.474Z"
   },
   {
    "duration": 32,
    "start_time": "2022-02-14T11:41:36.480Z"
   },
   {
    "duration": 10,
    "start_time": "2022-02-14T11:41:57.111Z"
   },
   {
    "duration": 16,
    "start_time": "2022-02-14T11:42:22.544Z"
   },
   {
    "duration": 246,
    "start_time": "2022-02-14T11:43:31.139Z"
   },
   {
    "duration": 1072,
    "start_time": "2022-02-14T11:43:51.246Z"
   },
   {
    "duration": 253,
    "start_time": "2022-02-14T11:43:52.320Z"
   },
   {
    "duration": 5,
    "start_time": "2022-02-14T11:43:52.576Z"
   },
   {
    "duration": 12,
    "start_time": "2022-02-14T11:43:52.584Z"
   },
   {
    "duration": 17,
    "start_time": "2022-02-14T11:43:52.598Z"
   },
   {
    "duration": 10,
    "start_time": "2022-02-14T11:43:52.617Z"
   },
   {
    "duration": 20,
    "start_time": "2022-02-14T11:43:52.628Z"
   },
   {
    "duration": 9,
    "start_time": "2022-02-14T11:43:52.650Z"
   },
   {
    "duration": 16,
    "start_time": "2022-02-14T11:43:52.661Z"
   },
   {
    "duration": 13,
    "start_time": "2022-02-14T11:43:52.679Z"
   },
   {
    "duration": 11,
    "start_time": "2022-02-14T11:43:52.712Z"
   },
   {
    "duration": 6,
    "start_time": "2022-02-14T11:43:52.725Z"
   },
   {
    "duration": 7,
    "start_time": "2022-02-14T11:43:52.733Z"
   },
   {
    "duration": 10,
    "start_time": "2022-02-14T11:43:52.742Z"
   },
   {
    "duration": 6,
    "start_time": "2022-02-14T11:43:52.753Z"
   },
   {
    "duration": 5,
    "start_time": "2022-02-14T11:43:52.760Z"
   },
   {
    "duration": 5,
    "start_time": "2022-02-14T11:43:52.767Z"
   },
   {
    "duration": 4,
    "start_time": "2022-02-14T11:43:52.813Z"
   },
   {
    "duration": 48,
    "start_time": "2022-02-14T11:43:52.819Z"
   },
   {
    "duration": 5,
    "start_time": "2022-02-14T11:43:52.868Z"
   },
   {
    "duration": 17,
    "start_time": "2022-02-14T11:43:52.874Z"
   },
   {
    "duration": 20,
    "start_time": "2022-02-14T11:43:52.893Z"
   },
   {
    "duration": 5,
    "start_time": "2022-02-14T11:43:52.916Z"
   },
   {
    "duration": 19,
    "start_time": "2022-02-14T11:43:52.923Z"
   },
   {
    "duration": 7,
    "start_time": "2022-02-14T11:43:52.944Z"
   },
   {
    "duration": 26,
    "start_time": "2022-02-14T11:43:52.953Z"
   },
   {
    "duration": 63,
    "start_time": "2022-02-14T11:43:52.981Z"
   },
   {
    "duration": 8,
    "start_time": "2022-02-14T11:43:53.046Z"
   },
   {
    "duration": 263,
    "start_time": "2022-02-14T11:43:53.056Z"
   },
   {
    "duration": 28,
    "start_time": "2022-02-14T11:43:53.293Z"
   },
   {
    "duration": 23,
    "start_time": "2022-02-14T11:43:53.298Z"
   },
   {
    "duration": 20,
    "start_time": "2022-02-14T11:43:53.302Z"
   },
   {
    "duration": 19,
    "start_time": "2022-02-14T11:43:53.305Z"
   },
   {
    "duration": 16,
    "start_time": "2022-02-14T11:43:53.309Z"
   },
   {
    "duration": 13,
    "start_time": "2022-02-14T11:43:53.312Z"
   },
   {
    "duration": 11,
    "start_time": "2022-02-14T11:43:53.315Z"
   },
   {
    "duration": 18,
    "start_time": "2022-02-14T11:44:09.074Z"
   },
   {
    "duration": 21,
    "start_time": "2022-02-14T11:44:20.706Z"
   },
   {
    "duration": 185,
    "start_time": "2022-02-14T11:45:24.161Z"
   },
   {
    "duration": 198,
    "start_time": "2022-02-14T11:45:32.323Z"
   },
   {
    "duration": 1063,
    "start_time": "2022-02-14T11:45:52.895Z"
   },
   {
    "duration": 257,
    "start_time": "2022-02-14T11:45:53.960Z"
   },
   {
    "duration": 6,
    "start_time": "2022-02-14T11:45:54.219Z"
   },
   {
    "duration": 22,
    "start_time": "2022-02-14T11:45:54.227Z"
   },
   {
    "duration": 25,
    "start_time": "2022-02-14T11:45:54.251Z"
   },
   {
    "duration": 18,
    "start_time": "2022-02-14T11:45:54.278Z"
   },
   {
    "duration": 19,
    "start_time": "2022-02-14T11:45:54.298Z"
   },
   {
    "duration": 21,
    "start_time": "2022-02-14T11:45:54.319Z"
   },
   {
    "duration": 16,
    "start_time": "2022-02-14T11:45:54.342Z"
   },
   {
    "duration": 13,
    "start_time": "2022-02-14T11:45:54.359Z"
   },
   {
    "duration": 10,
    "start_time": "2022-02-14T11:45:54.374Z"
   },
   {
    "duration": 5,
    "start_time": "2022-02-14T11:45:54.386Z"
   },
   {
    "duration": 7,
    "start_time": "2022-02-14T11:45:54.413Z"
   },
   {
    "duration": 10,
    "start_time": "2022-02-14T11:45:54.421Z"
   },
   {
    "duration": 5,
    "start_time": "2022-02-14T11:45:54.432Z"
   },
   {
    "duration": 5,
    "start_time": "2022-02-14T11:45:54.438Z"
   },
   {
    "duration": 5,
    "start_time": "2022-02-14T11:45:54.445Z"
   },
   {
    "duration": 6,
    "start_time": "2022-02-14T11:45:54.451Z"
   },
   {
    "duration": 84,
    "start_time": "2022-02-14T11:45:54.459Z"
   },
   {
    "duration": 4,
    "start_time": "2022-02-14T11:45:54.545Z"
   },
   {
    "duration": 5,
    "start_time": "2022-02-14T11:45:54.551Z"
   },
   {
    "duration": 6,
    "start_time": "2022-02-14T11:45:54.558Z"
   },
   {
    "duration": 4,
    "start_time": "2022-02-14T11:45:54.567Z"
   },
   {
    "duration": 49,
    "start_time": "2022-02-14T11:45:54.573Z"
   },
   {
    "duration": 8,
    "start_time": "2022-02-14T11:45:54.623Z"
   },
   {
    "duration": 26,
    "start_time": "2022-02-14T11:45:54.632Z"
   },
   {
    "duration": 52,
    "start_time": "2022-02-14T11:45:54.660Z"
   },
   {
    "duration": 10,
    "start_time": "2022-02-14T11:45:54.714Z"
   },
   {
    "duration": 19,
    "start_time": "2022-02-14T11:45:54.725Z"
   },
   {
    "duration": 17,
    "start_time": "2022-02-14T11:45:54.745Z"
   },
   {
    "duration": 14,
    "start_time": "2022-02-14T11:45:54.764Z"
   },
   {
    "duration": 51,
    "start_time": "2022-02-14T11:45:54.780Z"
   },
   {
    "duration": 14,
    "start_time": "2022-02-14T11:45:54.833Z"
   },
   {
    "duration": 261,
    "start_time": "2022-02-14T11:45:54.849Z"
   },
   {
    "duration": -62,
    "start_time": "2022-02-14T11:45:55.175Z"
   },
   {
    "duration": -65,
    "start_time": "2022-02-14T11:45:55.179Z"
   },
   {
    "duration": 16,
    "start_time": "2022-02-14T11:46:32.586Z"
   },
   {
    "duration": 202,
    "start_time": "2022-02-14T11:49:22.539Z"
   },
   {
    "duration": 1086,
    "start_time": "2022-02-14T11:49:32.777Z"
   },
   {
    "duration": 263,
    "start_time": "2022-02-14T11:49:33.865Z"
   },
   {
    "duration": 5,
    "start_time": "2022-02-14T11:49:34.130Z"
   },
   {
    "duration": 12,
    "start_time": "2022-02-14T11:49:34.137Z"
   },
   {
    "duration": 10,
    "start_time": "2022-02-14T11:49:34.151Z"
   },
   {
    "duration": 7,
    "start_time": "2022-02-14T11:49:34.162Z"
   },
   {
    "duration": 11,
    "start_time": "2022-02-14T11:49:34.171Z"
   },
   {
    "duration": 29,
    "start_time": "2022-02-14T11:49:34.184Z"
   },
   {
    "duration": 18,
    "start_time": "2022-02-14T11:49:34.215Z"
   },
   {
    "duration": 12,
    "start_time": "2022-02-14T11:49:34.235Z"
   },
   {
    "duration": 11,
    "start_time": "2022-02-14T11:49:34.249Z"
   },
   {
    "duration": 6,
    "start_time": "2022-02-14T11:49:34.261Z"
   },
   {
    "duration": 7,
    "start_time": "2022-02-14T11:49:34.270Z"
   },
   {
    "duration": 43,
    "start_time": "2022-02-14T11:49:34.278Z"
   },
   {
    "duration": 4,
    "start_time": "2022-02-14T11:49:34.323Z"
   },
   {
    "duration": 6,
    "start_time": "2022-02-14T11:49:34.328Z"
   },
   {
    "duration": 7,
    "start_time": "2022-02-14T11:49:34.336Z"
   },
   {
    "duration": 5,
    "start_time": "2022-02-14T11:49:34.345Z"
   },
   {
    "duration": 71,
    "start_time": "2022-02-14T11:49:34.351Z"
   },
   {
    "duration": 5,
    "start_time": "2022-02-14T11:49:34.423Z"
   },
   {
    "duration": 7,
    "start_time": "2022-02-14T11:49:34.429Z"
   },
   {
    "duration": 6,
    "start_time": "2022-02-14T11:49:34.437Z"
   },
   {
    "duration": 5,
    "start_time": "2022-02-14T11:49:34.445Z"
   },
   {
    "duration": 24,
    "start_time": "2022-02-14T11:49:34.451Z"
   },
   {
    "duration": 36,
    "start_time": "2022-02-14T11:49:34.477Z"
   },
   {
    "duration": 27,
    "start_time": "2022-02-14T11:49:34.515Z"
   },
   {
    "duration": 33,
    "start_time": "2022-02-14T11:49:34.544Z"
   },
   {
    "duration": 34,
    "start_time": "2022-02-14T11:49:34.579Z"
   },
   {
    "duration": 19,
    "start_time": "2022-02-14T11:49:34.615Z"
   },
   {
    "duration": 18,
    "start_time": "2022-02-14T11:49:34.636Z"
   },
   {
    "duration": 20,
    "start_time": "2022-02-14T11:49:34.656Z"
   },
   {
    "duration": 50,
    "start_time": "2022-02-14T11:49:34.678Z"
   },
   {
    "duration": 17,
    "start_time": "2022-02-14T11:49:34.730Z"
   },
   {
    "duration": 295,
    "start_time": "2022-02-14T11:49:34.749Z"
   },
   {
    "duration": -72,
    "start_time": "2022-02-14T11:49:35.118Z"
   },
   {
    "duration": -76,
    "start_time": "2022-02-14T11:49:35.123Z"
   },
   {
    "duration": 9,
    "start_time": "2022-02-14T11:53:34.588Z"
   },
   {
    "duration": 10,
    "start_time": "2022-02-14T11:55:11.572Z"
   },
   {
    "duration": 9,
    "start_time": "2022-02-14T11:56:00.505Z"
   },
   {
    "duration": 10,
    "start_time": "2022-02-14T11:57:31.528Z"
   },
   {
    "duration": 12,
    "start_time": "2022-02-14T11:57:47.839Z"
   },
   {
    "duration": 9,
    "start_time": "2022-02-14T11:57:48.660Z"
   },
   {
    "duration": 8,
    "start_time": "2022-02-14T11:57:51.946Z"
   },
   {
    "duration": 9,
    "start_time": "2022-02-14T11:58:23.565Z"
   },
   {
    "duration": 10,
    "start_time": "2022-02-14T12:00:11.942Z"
   },
   {
    "duration": 18,
    "start_time": "2022-02-14T12:02:57.079Z"
   },
   {
    "duration": 10,
    "start_time": "2022-02-14T12:03:21.935Z"
   },
   {
    "duration": 223,
    "start_time": "2022-02-14T12:14:13.168Z"
   },
   {
    "duration": 10,
    "start_time": "2022-02-14T12:15:15.831Z"
   },
   {
    "duration": 12,
    "start_time": "2022-02-14T12:15:45.875Z"
   },
   {
    "duration": 35,
    "start_time": "2022-02-14T12:18:36.000Z"
   },
   {
    "duration": 32,
    "start_time": "2022-02-14T12:20:04.544Z"
   },
   {
    "duration": 192,
    "start_time": "2022-02-14T12:23:24.650Z"
   },
   {
    "duration": 36,
    "start_time": "2022-02-14T12:23:31.490Z"
   },
   {
    "duration": 11,
    "start_time": "2022-02-14T12:30:52.103Z"
   },
   {
    "duration": 5,
    "start_time": "2022-02-14T13:09:10.306Z"
   },
   {
    "duration": 84,
    "start_time": "2022-02-14T13:09:36.956Z"
   },
   {
    "duration": 76,
    "start_time": "2022-02-14T13:10:26.877Z"
   },
   {
    "duration": 4,
    "start_time": "2022-02-14T13:11:32.786Z"
   },
   {
    "duration": 4,
    "start_time": "2022-02-14T13:11:34.742Z"
   },
   {
    "duration": 82,
    "start_time": "2022-02-14T13:11:35.947Z"
   },
   {
    "duration": 75,
    "start_time": "2022-02-14T13:11:52.625Z"
   },
   {
    "duration": 4,
    "start_time": "2022-02-14T13:12:53.924Z"
   },
   {
    "duration": 4,
    "start_time": "2022-02-14T13:13:44.340Z"
   },
   {
    "duration": 78,
    "start_time": "2022-02-14T13:13:44.824Z"
   },
   {
    "duration": 79,
    "start_time": "2022-02-14T13:17:37.632Z"
   },
   {
    "duration": 15,
    "start_time": "2022-02-14T13:23:59.540Z"
   },
   {
    "duration": 4,
    "start_time": "2022-02-14T13:25:44.132Z"
   },
   {
    "duration": 10,
    "start_time": "2022-02-14T13:30:35.364Z"
   },
   {
    "duration": 2,
    "start_time": "2022-02-14T13:31:30.682Z"
   },
   {
    "duration": 3,
    "start_time": "2022-02-14T13:31:32.482Z"
   },
   {
    "duration": 31,
    "start_time": "2022-02-14T13:35:55.507Z"
   },
   {
    "duration": 31,
    "start_time": "2022-02-14T13:36:08.108Z"
   },
   {
    "duration": 30,
    "start_time": "2022-02-14T13:36:29.061Z"
   },
   {
    "duration": 31,
    "start_time": "2022-02-14T13:36:48.114Z"
   },
   {
    "duration": 24,
    "start_time": "2022-02-14T13:37:32.430Z"
   },
   {
    "duration": 30,
    "start_time": "2022-02-14T13:39:30.406Z"
   },
   {
    "duration": 30,
    "start_time": "2022-02-14T13:42:15.407Z"
   },
   {
    "duration": 32,
    "start_time": "2022-02-14T13:42:25.478Z"
   },
   {
    "duration": 28,
    "start_time": "2022-02-14T13:44:58.631Z"
   },
   {
    "duration": 32,
    "start_time": "2022-02-14T13:46:05.103Z"
   },
   {
    "duration": 4567,
    "start_time": "2022-02-14T13:46:31.800Z"
   },
   {
    "duration": 4729,
    "start_time": "2022-02-14T13:47:10.775Z"
   },
   {
    "duration": 5414,
    "start_time": "2022-02-14T13:47:49.468Z"
   },
   {
    "duration": 1147,
    "start_time": "2022-02-14T13:48:00.313Z"
   },
   {
    "duration": 281,
    "start_time": "2022-02-14T13:48:01.461Z"
   },
   {
    "duration": 5,
    "start_time": "2022-02-14T13:48:01.744Z"
   },
   {
    "duration": 14,
    "start_time": "2022-02-14T13:48:01.751Z"
   },
   {
    "duration": 7,
    "start_time": "2022-02-14T13:48:01.766Z"
   },
   {
    "duration": 9,
    "start_time": "2022-02-14T13:48:01.775Z"
   },
   {
    "duration": 11,
    "start_time": "2022-02-14T13:48:01.786Z"
   },
   {
    "duration": 12,
    "start_time": "2022-02-14T13:48:01.800Z"
   },
   {
    "duration": 17,
    "start_time": "2022-02-14T13:48:01.814Z"
   },
   {
    "duration": 14,
    "start_time": "2022-02-14T13:48:01.833Z"
   },
   {
    "duration": 11,
    "start_time": "2022-02-14T13:48:01.848Z"
   },
   {
    "duration": 7,
    "start_time": "2022-02-14T13:48:01.861Z"
   },
   {
    "duration": 6,
    "start_time": "2022-02-14T13:48:01.913Z"
   },
   {
    "duration": 13,
    "start_time": "2022-02-14T13:48:01.921Z"
   },
   {
    "duration": 6,
    "start_time": "2022-02-14T13:48:01.936Z"
   },
   {
    "duration": 6,
    "start_time": "2022-02-14T13:48:01.944Z"
   },
   {
    "duration": 61,
    "start_time": "2022-02-14T13:48:01.952Z"
   },
   {
    "duration": 4,
    "start_time": "2022-02-14T13:48:02.015Z"
   },
   {
    "duration": 52,
    "start_time": "2022-02-14T13:48:02.020Z"
   },
   {
    "duration": 4,
    "start_time": "2022-02-14T13:48:02.073Z"
   },
   {
    "duration": 7,
    "start_time": "2022-02-14T13:48:02.079Z"
   },
   {
    "duration": 31,
    "start_time": "2022-02-14T13:48:02.088Z"
   },
   {
    "duration": 6,
    "start_time": "2022-02-14T13:48:02.123Z"
   },
   {
    "duration": 21,
    "start_time": "2022-02-14T13:48:02.131Z"
   },
   {
    "duration": 7,
    "start_time": "2022-02-14T13:48:02.154Z"
   },
   {
    "duration": 57,
    "start_time": "2022-02-14T13:48:02.162Z"
   },
   {
    "duration": 34,
    "start_time": "2022-02-14T13:48:02.221Z"
   },
   {
    "duration": 9,
    "start_time": "2022-02-14T13:48:02.257Z"
   },
   {
    "duration": 20,
    "start_time": "2022-02-14T13:48:02.267Z"
   },
   {
    "duration": 18,
    "start_time": "2022-02-14T13:48:02.313Z"
   },
   {
    "duration": 18,
    "start_time": "2022-02-14T13:48:02.332Z"
   },
   {
    "duration": 22,
    "start_time": "2022-02-14T13:48:02.351Z"
   },
   {
    "duration": 40,
    "start_time": "2022-02-14T13:48:02.375Z"
   },
   {
    "duration": 9,
    "start_time": "2022-02-14T13:48:02.417Z"
   },
   {
    "duration": 10,
    "start_time": "2022-02-14T13:48:02.428Z"
   },
   {
    "duration": 8,
    "start_time": "2022-02-14T13:48:02.440Z"
   },
   {
    "duration": 8,
    "start_time": "2022-02-14T13:48:02.450Z"
   },
   {
    "duration": 17,
    "start_time": "2022-02-14T13:48:02.460Z"
   },
   {
    "duration": 42,
    "start_time": "2022-02-14T13:48:02.479Z"
   },
   {
    "duration": 31,
    "start_time": "2022-02-14T13:48:02.522Z"
   },
   {
    "duration": 11,
    "start_time": "2022-02-14T13:48:02.555Z"
   },
   {
    "duration": 5,
    "start_time": "2022-02-14T13:48:02.567Z"
   },
   {
    "duration": 9,
    "start_time": "2022-02-14T13:48:02.573Z"
   },
   {
    "duration": 99,
    "start_time": "2022-02-14T13:48:02.583Z"
   },
   {
    "duration": 10,
    "start_time": "2022-02-14T13:48:02.683Z"
   },
   {
    "duration": 4,
    "start_time": "2022-02-14T13:48:02.695Z"
   },
   {
    "duration": 12,
    "start_time": "2022-02-14T13:48:02.700Z"
   },
   {
    "duration": 44,
    "start_time": "2022-02-14T13:48:02.714Z"
   },
   {
    "duration": 30,
    "start_time": "2022-02-14T13:48:08.896Z"
   },
   {
    "duration": 5169,
    "start_time": "2022-02-14T13:48:14.763Z"
   },
   {
    "duration": 1022,
    "start_time": "2022-02-14T13:48:34.048Z"
   },
   {
    "duration": 264,
    "start_time": "2022-02-14T13:48:35.072Z"
   },
   {
    "duration": 5,
    "start_time": "2022-02-14T13:48:35.338Z"
   },
   {
    "duration": 13,
    "start_time": "2022-02-14T13:48:35.345Z"
   },
   {
    "duration": 9,
    "start_time": "2022-02-14T13:48:35.359Z"
   },
   {
    "duration": 8,
    "start_time": "2022-02-14T13:48:35.370Z"
   },
   {
    "duration": 10,
    "start_time": "2022-02-14T13:48:35.379Z"
   },
   {
    "duration": 9,
    "start_time": "2022-02-14T13:48:35.391Z"
   },
   {
    "duration": 15,
    "start_time": "2022-02-14T13:48:35.413Z"
   },
   {
    "duration": 19,
    "start_time": "2022-02-14T13:48:35.430Z"
   },
   {
    "duration": 9,
    "start_time": "2022-02-14T13:48:35.451Z"
   },
   {
    "duration": 6,
    "start_time": "2022-02-14T13:48:35.461Z"
   },
   {
    "duration": 9,
    "start_time": "2022-02-14T13:48:35.469Z"
   },
   {
    "duration": 34,
    "start_time": "2022-02-14T13:48:35.479Z"
   },
   {
    "duration": 5,
    "start_time": "2022-02-14T13:48:35.514Z"
   },
   {
    "duration": 8,
    "start_time": "2022-02-14T13:48:35.520Z"
   },
   {
    "duration": 6,
    "start_time": "2022-02-14T13:48:35.529Z"
   },
   {
    "duration": 6,
    "start_time": "2022-02-14T13:48:35.537Z"
   },
   {
    "duration": 68,
    "start_time": "2022-02-14T13:48:35.544Z"
   },
   {
    "duration": 4,
    "start_time": "2022-02-14T13:48:35.614Z"
   },
   {
    "duration": 9,
    "start_time": "2022-02-14T13:48:35.620Z"
   },
   {
    "duration": 6,
    "start_time": "2022-02-14T13:48:35.631Z"
   },
   {
    "duration": 6,
    "start_time": "2022-02-14T13:48:35.639Z"
   },
   {
    "duration": 17,
    "start_time": "2022-02-14T13:48:35.647Z"
   },
   {
    "duration": 7,
    "start_time": "2022-02-14T13:48:35.666Z"
   },
   {
    "duration": 59,
    "start_time": "2022-02-14T13:48:35.674Z"
   },
   {
    "duration": 32,
    "start_time": "2022-02-14T13:48:35.737Z"
   },
   {
    "duration": 9,
    "start_time": "2022-02-14T13:48:35.771Z"
   },
   {
    "duration": 39,
    "start_time": "2022-02-14T13:48:35.781Z"
   },
   {
    "duration": 18,
    "start_time": "2022-02-14T13:48:35.821Z"
   },
   {
    "duration": 18,
    "start_time": "2022-02-14T13:48:35.840Z"
   },
   {
    "duration": 20,
    "start_time": "2022-02-14T13:48:35.860Z"
   },
   {
    "duration": 41,
    "start_time": "2022-02-14T13:48:35.881Z"
   },
   {
    "duration": 8,
    "start_time": "2022-02-14T13:48:35.923Z"
   },
   {
    "duration": 9,
    "start_time": "2022-02-14T13:48:35.933Z"
   },
   {
    "duration": 11,
    "start_time": "2022-02-14T13:48:35.943Z"
   },
   {
    "duration": 9,
    "start_time": "2022-02-14T13:48:35.955Z"
   },
   {
    "duration": 50,
    "start_time": "2022-02-14T13:48:35.965Z"
   },
   {
    "duration": 8,
    "start_time": "2022-02-14T13:48:36.017Z"
   },
   {
    "duration": 31,
    "start_time": "2022-02-14T13:48:36.027Z"
   },
   {
    "duration": 10,
    "start_time": "2022-02-14T13:48:36.059Z"
   },
   {
    "duration": 4,
    "start_time": "2022-02-14T13:48:36.071Z"
   },
   {
    "duration": 5,
    "start_time": "2022-02-14T13:48:36.076Z"
   },
   {
    "duration": 104,
    "start_time": "2022-02-14T13:48:36.082Z"
   },
   {
    "duration": 8,
    "start_time": "2022-02-14T13:48:36.188Z"
   },
   {
    "duration": 3,
    "start_time": "2022-02-14T13:48:36.198Z"
   },
   {
    "duration": 10,
    "start_time": "2022-02-14T13:48:36.213Z"
   },
   {
    "duration": 37,
    "start_time": "2022-02-14T13:48:36.224Z"
   },
   {
    "duration": 5,
    "start_time": "2022-02-14T13:48:46.299Z"
   },
   {
    "duration": 4,
    "start_time": "2022-02-14T13:50:40.010Z"
   },
   {
    "duration": 4,
    "start_time": "2022-02-14T13:51:21.112Z"
   },
   {
    "duration": 1062,
    "start_time": "2022-02-14T13:51:33.796Z"
   },
   {
    "duration": 257,
    "start_time": "2022-02-14T13:51:34.860Z"
   },
   {
    "duration": 5,
    "start_time": "2022-02-14T13:51:35.119Z"
   },
   {
    "duration": 12,
    "start_time": "2022-02-14T13:51:35.126Z"
   },
   {
    "duration": 8,
    "start_time": "2022-02-14T13:51:35.139Z"
   },
   {
    "duration": 8,
    "start_time": "2022-02-14T13:51:35.149Z"
   },
   {
    "duration": 10,
    "start_time": "2022-02-14T13:51:35.159Z"
   },
   {
    "duration": 9,
    "start_time": "2022-02-14T13:51:35.171Z"
   },
   {
    "duration": 40,
    "start_time": "2022-02-14T13:51:35.182Z"
   },
   {
    "duration": 13,
    "start_time": "2022-02-14T13:51:35.224Z"
   },
   {
    "duration": 10,
    "start_time": "2022-02-14T13:51:35.238Z"
   },
   {
    "duration": 6,
    "start_time": "2022-02-14T13:51:35.249Z"
   },
   {
    "duration": 8,
    "start_time": "2022-02-14T13:51:35.257Z"
   },
   {
    "duration": 9,
    "start_time": "2022-02-14T13:51:35.266Z"
   },
   {
    "duration": 37,
    "start_time": "2022-02-14T13:51:35.276Z"
   },
   {
    "duration": 5,
    "start_time": "2022-02-14T13:51:35.315Z"
   },
   {
    "duration": 9,
    "start_time": "2022-02-14T13:51:35.321Z"
   },
   {
    "duration": 7,
    "start_time": "2022-02-14T13:51:35.331Z"
   },
   {
    "duration": 49,
    "start_time": "2022-02-14T13:51:35.339Z"
   },
   {
    "duration": 25,
    "start_time": "2022-02-14T13:51:35.390Z"
   },
   {
    "duration": 5,
    "start_time": "2022-02-14T13:51:35.417Z"
   },
   {
    "duration": 7,
    "start_time": "2022-02-14T13:51:35.423Z"
   },
   {
    "duration": 5,
    "start_time": "2022-02-14T13:51:35.433Z"
   },
   {
    "duration": 18,
    "start_time": "2022-02-14T13:51:35.439Z"
   },
   {
    "duration": 7,
    "start_time": "2022-02-14T13:51:35.459Z"
   },
   {
    "duration": 63,
    "start_time": "2022-02-14T13:51:35.467Z"
   },
   {
    "duration": 30,
    "start_time": "2022-02-14T13:51:35.531Z"
   },
   {
    "duration": 8,
    "start_time": "2022-02-14T13:51:35.563Z"
   },
   {
    "duration": 41,
    "start_time": "2022-02-14T13:51:35.572Z"
   },
   {
    "duration": 18,
    "start_time": "2022-02-14T13:51:35.614Z"
   },
   {
    "duration": 18,
    "start_time": "2022-02-14T13:51:35.633Z"
   },
   {
    "duration": 21,
    "start_time": "2022-02-14T13:51:35.652Z"
   },
   {
    "duration": 44,
    "start_time": "2022-02-14T13:51:35.674Z"
   },
   {
    "duration": 8,
    "start_time": "2022-02-14T13:51:35.719Z"
   },
   {
    "duration": 14,
    "start_time": "2022-02-14T13:51:35.729Z"
   },
   {
    "duration": 13,
    "start_time": "2022-02-14T13:51:35.744Z"
   },
   {
    "duration": 8,
    "start_time": "2022-02-14T13:51:35.759Z"
   },
   {
    "duration": 17,
    "start_time": "2022-02-14T13:51:35.768Z"
   },
   {
    "duration": 29,
    "start_time": "2022-02-14T13:51:35.786Z"
   },
   {
    "duration": 30,
    "start_time": "2022-02-14T13:51:35.816Z"
   },
   {
    "duration": 10,
    "start_time": "2022-02-14T13:51:35.848Z"
   },
   {
    "duration": 4,
    "start_time": "2022-02-14T13:51:35.859Z"
   },
   {
    "duration": 6,
    "start_time": "2022-02-14T13:51:35.865Z"
   },
   {
    "duration": 101,
    "start_time": "2022-02-14T13:51:35.872Z"
   },
   {
    "duration": 10,
    "start_time": "2022-02-14T13:51:35.975Z"
   },
   {
    "duration": 5,
    "start_time": "2022-02-14T13:51:35.987Z"
   },
   {
    "duration": 6,
    "start_time": "2022-02-14T13:51:35.993Z"
   },
   {
    "duration": 30,
    "start_time": "2022-02-14T13:51:36.013Z"
   },
   {
    "duration": 5,
    "start_time": "2022-02-14T13:51:36.044Z"
   },
   {
    "duration": 14,
    "start_time": "2022-02-14T13:52:12.967Z"
   },
   {
    "duration": 19,
    "start_time": "2022-02-14T13:52:19.186Z"
   },
   {
    "duration": 4553,
    "start_time": "2022-02-14T13:52:46.631Z"
   },
   {
    "duration": 1100,
    "start_time": "2022-02-14T13:53:04.359Z"
   },
   {
    "duration": 262,
    "start_time": "2022-02-14T13:53:05.461Z"
   },
   {
    "duration": 6,
    "start_time": "2022-02-14T13:53:05.725Z"
   },
   {
    "duration": 15,
    "start_time": "2022-02-14T13:53:05.732Z"
   },
   {
    "duration": 8,
    "start_time": "2022-02-14T13:53:05.748Z"
   },
   {
    "duration": 8,
    "start_time": "2022-02-14T13:53:05.757Z"
   },
   {
    "duration": 11,
    "start_time": "2022-02-14T13:53:05.766Z"
   },
   {
    "duration": 12,
    "start_time": "2022-02-14T13:53:05.779Z"
   },
   {
    "duration": 32,
    "start_time": "2022-02-14T13:53:05.793Z"
   },
   {
    "duration": 14,
    "start_time": "2022-02-14T13:53:05.827Z"
   },
   {
    "duration": 10,
    "start_time": "2022-02-14T13:53:05.842Z"
   },
   {
    "duration": 6,
    "start_time": "2022-02-14T13:53:05.854Z"
   },
   {
    "duration": 9,
    "start_time": "2022-02-14T13:53:05.861Z"
   },
   {
    "duration": 9,
    "start_time": "2022-02-14T13:53:05.872Z"
   },
   {
    "duration": 34,
    "start_time": "2022-02-14T13:53:05.882Z"
   },
   {
    "duration": 6,
    "start_time": "2022-02-14T13:53:05.917Z"
   },
   {
    "duration": 4,
    "start_time": "2022-02-14T13:53:05.925Z"
   },
   {
    "duration": 6,
    "start_time": "2022-02-14T13:53:05.930Z"
   },
   {
    "duration": 46,
    "start_time": "2022-02-14T13:53:05.938Z"
   },
   {
    "duration": 26,
    "start_time": "2022-02-14T13:53:05.986Z"
   },
   {
    "duration": 4,
    "start_time": "2022-02-14T13:53:06.014Z"
   },
   {
    "duration": 7,
    "start_time": "2022-02-14T13:53:06.020Z"
   },
   {
    "duration": 10,
    "start_time": "2022-02-14T13:53:06.030Z"
   },
   {
    "duration": 19,
    "start_time": "2022-02-14T13:53:06.042Z"
   },
   {
    "duration": 21,
    "start_time": "2022-02-14T13:53:06.062Z"
   },
   {
    "duration": 46,
    "start_time": "2022-02-14T13:53:06.085Z"
   },
   {
    "duration": 32,
    "start_time": "2022-02-14T13:53:06.133Z"
   },
   {
    "duration": 9,
    "start_time": "2022-02-14T13:53:06.167Z"
   },
   {
    "duration": 42,
    "start_time": "2022-02-14T13:53:06.178Z"
   },
   {
    "duration": 17,
    "start_time": "2022-02-14T13:53:06.222Z"
   },
   {
    "duration": 19,
    "start_time": "2022-02-14T13:53:06.240Z"
   },
   {
    "duration": 21,
    "start_time": "2022-02-14T13:53:06.260Z"
   },
   {
    "duration": 41,
    "start_time": "2022-02-14T13:53:06.283Z"
   },
   {
    "duration": 8,
    "start_time": "2022-02-14T13:53:06.326Z"
   },
   {
    "duration": 13,
    "start_time": "2022-02-14T13:53:06.336Z"
   },
   {
    "duration": 14,
    "start_time": "2022-02-14T13:53:06.351Z"
   },
   {
    "duration": 15,
    "start_time": "2022-02-14T13:53:06.367Z"
   },
   {
    "duration": 21,
    "start_time": "2022-02-14T13:53:06.383Z"
   },
   {
    "duration": 12,
    "start_time": "2022-02-14T13:53:06.406Z"
   },
   {
    "duration": 35,
    "start_time": "2022-02-14T13:53:06.420Z"
   },
   {
    "duration": 11,
    "start_time": "2022-02-14T13:53:06.456Z"
   },
   {
    "duration": 8,
    "start_time": "2022-02-14T13:53:06.468Z"
   },
   {
    "duration": 13,
    "start_time": "2022-02-14T13:53:06.477Z"
   },
   {
    "duration": 88,
    "start_time": "2022-02-14T13:53:06.491Z"
   },
   {
    "duration": 9,
    "start_time": "2022-02-14T13:53:06.581Z"
   },
   {
    "duration": 4,
    "start_time": "2022-02-14T13:53:06.591Z"
   },
   {
    "duration": 3,
    "start_time": "2022-02-14T13:53:06.612Z"
   },
   {
    "duration": 30,
    "start_time": "2022-02-14T13:53:06.616Z"
   },
   {
    "duration": 18,
    "start_time": "2022-02-14T13:53:06.648Z"
   },
   {
    "duration": 4833,
    "start_time": "2022-02-14T13:54:20.087Z"
   },
   {
    "duration": 17,
    "start_time": "2022-02-14T13:56:11.658Z"
   },
   {
    "duration": 16,
    "start_time": "2022-02-14T13:56:28.196Z"
   },
   {
    "duration": 16,
    "start_time": "2022-02-14T13:57:16.539Z"
   },
   {
    "duration": 12,
    "start_time": "2022-02-14T13:59:15.376Z"
   },
   {
    "duration": 12,
    "start_time": "2022-02-14T14:00:08.904Z"
   },
   {
    "duration": 1038,
    "start_time": "2022-02-14T14:41:33.965Z"
   },
   {
    "duration": 266,
    "start_time": "2022-02-14T14:41:35.004Z"
   },
   {
    "duration": 5,
    "start_time": "2022-02-14T14:41:35.272Z"
   },
   {
    "duration": 12,
    "start_time": "2022-02-14T14:41:35.279Z"
   },
   {
    "duration": 8,
    "start_time": "2022-02-14T14:41:35.293Z"
   },
   {
    "duration": 13,
    "start_time": "2022-02-14T14:41:35.303Z"
   },
   {
    "duration": 12,
    "start_time": "2022-02-14T14:41:35.318Z"
   },
   {
    "duration": 12,
    "start_time": "2022-02-14T14:41:35.332Z"
   },
   {
    "duration": 21,
    "start_time": "2022-02-14T14:41:35.347Z"
   },
   {
    "duration": 13,
    "start_time": "2022-02-14T14:41:35.370Z"
   },
   {
    "duration": 31,
    "start_time": "2022-02-14T14:41:35.384Z"
   },
   {
    "duration": 5,
    "start_time": "2022-02-14T14:41:35.417Z"
   },
   {
    "duration": 12,
    "start_time": "2022-02-14T14:41:35.424Z"
   },
   {
    "duration": 21,
    "start_time": "2022-02-14T14:41:35.437Z"
   },
   {
    "duration": 6,
    "start_time": "2022-02-14T14:41:35.460Z"
   },
   {
    "duration": 17,
    "start_time": "2022-02-14T14:41:35.468Z"
   },
   {
    "duration": 10,
    "start_time": "2022-02-14T14:41:35.487Z"
   },
   {
    "duration": 14,
    "start_time": "2022-02-14T14:41:35.499Z"
   },
   {
    "duration": 55,
    "start_time": "2022-02-14T14:41:35.515Z"
   },
   {
    "duration": 5,
    "start_time": "2022-02-14T14:41:35.572Z"
   },
   {
    "duration": 9,
    "start_time": "2022-02-14T14:41:35.579Z"
   },
   {
    "duration": 15,
    "start_time": "2022-02-14T14:41:35.589Z"
   },
   {
    "duration": 10,
    "start_time": "2022-02-14T14:41:35.606Z"
   },
   {
    "duration": 28,
    "start_time": "2022-02-14T14:41:35.617Z"
   },
   {
    "duration": 10,
    "start_time": "2022-02-14T14:41:35.646Z"
   },
   {
    "duration": 33,
    "start_time": "2022-02-14T14:41:35.658Z"
   },
   {
    "duration": 47,
    "start_time": "2022-02-14T14:41:35.694Z"
   },
   {
    "duration": 9,
    "start_time": "2022-02-14T14:41:35.743Z"
   },
   {
    "duration": 33,
    "start_time": "2022-02-14T14:41:35.754Z"
   },
   {
    "duration": 25,
    "start_time": "2022-02-14T14:41:35.788Z"
   },
   {
    "duration": 19,
    "start_time": "2022-02-14T14:41:35.815Z"
   },
   {
    "duration": 21,
    "start_time": "2022-02-14T14:41:35.836Z"
   },
   {
    "duration": 16,
    "start_time": "2022-02-14T14:41:35.859Z"
   },
   {
    "duration": 39,
    "start_time": "2022-02-14T14:41:35.877Z"
   },
   {
    "duration": 12,
    "start_time": "2022-02-14T14:41:35.918Z"
   },
   {
    "duration": 13,
    "start_time": "2022-02-14T14:41:35.932Z"
   },
   {
    "duration": 19,
    "start_time": "2022-02-14T14:41:35.946Z"
   },
   {
    "duration": 24,
    "start_time": "2022-02-14T14:41:35.967Z"
   },
   {
    "duration": 12,
    "start_time": "2022-02-14T14:41:35.992Z"
   },
   {
    "duration": 38,
    "start_time": "2022-02-14T14:41:36.005Z"
   },
   {
    "duration": 10,
    "start_time": "2022-02-14T14:41:36.044Z"
   },
   {
    "duration": 6,
    "start_time": "2022-02-14T14:41:36.056Z"
   },
   {
    "duration": 12,
    "start_time": "2022-02-14T14:41:36.063Z"
   },
   {
    "duration": 87,
    "start_time": "2022-02-14T14:41:36.076Z"
   },
   {
    "duration": 10,
    "start_time": "2022-02-14T14:41:36.165Z"
   },
   {
    "duration": 10,
    "start_time": "2022-02-14T14:41:36.176Z"
   },
   {
    "duration": 13,
    "start_time": "2022-02-14T14:41:36.188Z"
   },
   {
    "duration": 41,
    "start_time": "2022-02-14T14:41:36.203Z"
   },
   {
    "duration": 14,
    "start_time": "2022-02-14T14:41:36.245Z"
   },
   {
    "duration": 14,
    "start_time": "2022-02-14T14:41:36.260Z"
   },
   {
    "duration": 85,
    "start_time": "2022-02-14T14:41:36.275Z"
   },
   {
    "duration": 102,
    "start_time": "2022-02-14T14:41:36.260Z"
   },
   {
    "duration": 59,
    "start_time": "2022-02-14T14:42:27.747Z"
   },
   {
    "duration": 270,
    "start_time": "2022-02-14T14:42:43.788Z"
   },
   {
    "duration": 1138,
    "start_time": "2022-02-14T14:48:26.132Z"
   },
   {
    "duration": 275,
    "start_time": "2022-02-14T14:48:27.272Z"
   },
   {
    "duration": 5,
    "start_time": "2022-02-14T14:48:27.549Z"
   },
   {
    "duration": 15,
    "start_time": "2022-02-14T14:48:27.556Z"
   },
   {
    "duration": 8,
    "start_time": "2022-02-14T14:48:27.573Z"
   },
   {
    "duration": 8,
    "start_time": "2022-02-14T14:48:27.582Z"
   },
   {
    "duration": 12,
    "start_time": "2022-02-14T14:48:27.592Z"
   },
   {
    "duration": 9,
    "start_time": "2022-02-14T14:48:27.613Z"
   },
   {
    "duration": 18,
    "start_time": "2022-02-14T14:48:27.624Z"
   },
   {
    "duration": 14,
    "start_time": "2022-02-14T14:48:27.643Z"
   },
   {
    "duration": 11,
    "start_time": "2022-02-14T14:48:27.658Z"
   },
   {
    "duration": 6,
    "start_time": "2022-02-14T14:48:27.670Z"
   },
   {
    "duration": 37,
    "start_time": "2022-02-14T14:48:27.678Z"
   },
   {
    "duration": 10,
    "start_time": "2022-02-14T14:48:27.717Z"
   },
   {
    "duration": 4,
    "start_time": "2022-02-14T14:48:27.729Z"
   },
   {
    "duration": 8,
    "start_time": "2022-02-14T14:48:27.735Z"
   },
   {
    "duration": 9,
    "start_time": "2022-02-14T14:48:27.745Z"
   },
   {
    "duration": 8,
    "start_time": "2022-02-14T14:48:27.757Z"
   },
   {
    "duration": 97,
    "start_time": "2022-02-14T14:48:27.768Z"
   },
   {
    "duration": 5,
    "start_time": "2022-02-14T14:48:27.868Z"
   },
   {
    "duration": 9,
    "start_time": "2022-02-14T14:48:27.875Z"
   },
   {
    "duration": 26,
    "start_time": "2022-02-14T14:48:27.886Z"
   },
   {
    "duration": 5,
    "start_time": "2022-02-14T14:48:27.916Z"
   },
   {
    "duration": 19,
    "start_time": "2022-02-14T14:48:27.924Z"
   },
   {
    "duration": 9,
    "start_time": "2022-02-14T14:48:27.945Z"
   },
   {
    "duration": 59,
    "start_time": "2022-02-14T14:48:27.957Z"
   },
   {
    "duration": 40,
    "start_time": "2022-02-14T14:48:28.018Z"
   },
   {
    "duration": 10,
    "start_time": "2022-02-14T14:48:28.060Z"
   },
   {
    "duration": 45,
    "start_time": "2022-02-14T14:48:28.071Z"
   },
   {
    "duration": 17,
    "start_time": "2022-02-14T14:48:28.118Z"
   },
   {
    "duration": 17,
    "start_time": "2022-02-14T14:48:28.137Z"
   },
   {
    "duration": 22,
    "start_time": "2022-02-14T14:48:28.156Z"
   },
   {
    "duration": 46,
    "start_time": "2022-02-14T14:48:28.179Z"
   },
   {
    "duration": 10,
    "start_time": "2022-02-14T14:48:28.227Z"
   },
   {
    "duration": 11,
    "start_time": "2022-02-14T14:48:28.239Z"
   },
   {
    "duration": 9,
    "start_time": "2022-02-14T14:48:28.251Z"
   },
   {
    "duration": 8,
    "start_time": "2022-02-14T14:48:28.262Z"
   },
   {
    "duration": 52,
    "start_time": "2022-02-14T14:48:28.272Z"
   },
   {
    "duration": 9,
    "start_time": "2022-02-14T14:48:28.326Z"
   },
   {
    "duration": 31,
    "start_time": "2022-02-14T14:48:28.337Z"
   },
   {
    "duration": 11,
    "start_time": "2022-02-14T14:48:28.369Z"
   },
   {
    "duration": 31,
    "start_time": "2022-02-14T14:48:28.382Z"
   },
   {
    "duration": 4,
    "start_time": "2022-02-14T14:48:28.415Z"
   },
   {
    "duration": 91,
    "start_time": "2022-02-14T14:48:28.421Z"
   },
   {
    "duration": 10,
    "start_time": "2022-02-14T14:48:28.514Z"
   },
   {
    "duration": 4,
    "start_time": "2022-02-14T14:48:28.526Z"
   },
   {
    "duration": 4,
    "start_time": "2022-02-14T14:48:28.532Z"
   },
   {
    "duration": 32,
    "start_time": "2022-02-14T14:48:28.538Z"
   },
   {
    "duration": 13,
    "start_time": "2022-02-14T14:48:28.572Z"
   },
   {
    "duration": 37,
    "start_time": "2022-02-14T14:48:28.587Z"
   },
   {
    "duration": 5915,
    "start_time": "2022-02-14T14:48:28.626Z"
   },
   {
    "duration": 60,
    "start_time": "2022-02-14T14:48:34.482Z"
   },
   {
    "duration": 6,
    "start_time": "2022-02-14T14:48:59.909Z"
   },
   {
    "duration": 5044,
    "start_time": "2022-02-14T15:02:14.026Z"
   },
   {
    "duration": 5131,
    "start_time": "2022-02-14T15:02:29.445Z"
   },
   {
    "duration": 193,
    "start_time": "2022-02-14T15:02:47.523Z"
   },
   {
    "duration": 205,
    "start_time": "2022-02-14T15:02:53.190Z"
   },
   {
    "duration": 68,
    "start_time": "2022-02-14T15:24:31.210Z"
   },
   {
    "duration": 70,
    "start_time": "2022-02-14T15:24:42.964Z"
   },
   {
    "duration": 645,
    "start_time": "2022-02-14T15:25:18.125Z"
   },
   {
    "duration": 657,
    "start_time": "2022-02-14T15:26:21.371Z"
   },
   {
    "duration": 318,
    "start_time": "2022-02-14T15:26:40.973Z"
   },
   {
    "duration": 1083,
    "start_time": "2022-02-14T15:27:06.984Z"
   },
   {
    "duration": 208,
    "start_time": "2022-02-14T15:27:18.933Z"
   },
   {
    "duration": 721,
    "start_time": "2022-02-14T15:27:38.511Z"
   },
   {
    "duration": 5305,
    "start_time": "2022-02-14T15:27:42.713Z"
   },
   {
    "duration": 4831,
    "start_time": "2022-02-14T15:28:02.847Z"
   },
   {
    "duration": 6,
    "start_time": "2022-02-14T15:28:14.509Z"
   },
   {
    "duration": 6,
    "start_time": "2022-02-14T15:28:51.407Z"
   },
   {
    "duration": 1121,
    "start_time": "2022-02-14T15:29:41.209Z"
   },
   {
    "duration": 278,
    "start_time": "2022-02-14T15:29:42.332Z"
   },
   {
    "duration": 6,
    "start_time": "2022-02-14T15:29:42.612Z"
   },
   {
    "duration": 13,
    "start_time": "2022-02-14T15:29:42.620Z"
   },
   {
    "duration": 9,
    "start_time": "2022-02-14T15:29:42.635Z"
   },
   {
    "duration": 8,
    "start_time": "2022-02-14T15:29:42.646Z"
   },
   {
    "duration": 12,
    "start_time": "2022-02-14T15:29:42.655Z"
   },
   {
    "duration": 9,
    "start_time": "2022-02-14T15:29:42.670Z"
   },
   {
    "duration": 18,
    "start_time": "2022-02-14T15:29:42.714Z"
   },
   {
    "duration": 14,
    "start_time": "2022-02-14T15:29:42.734Z"
   },
   {
    "duration": 15,
    "start_time": "2022-02-14T15:29:42.750Z"
   },
   {
    "duration": 6,
    "start_time": "2022-02-14T15:29:42.767Z"
   },
   {
    "duration": 44,
    "start_time": "2022-02-14T15:29:42.775Z"
   },
   {
    "duration": 10,
    "start_time": "2022-02-14T15:29:42.821Z"
   },
   {
    "duration": 4,
    "start_time": "2022-02-14T15:29:42.832Z"
   },
   {
    "duration": 5,
    "start_time": "2022-02-14T15:29:42.838Z"
   },
   {
    "duration": 6,
    "start_time": "2022-02-14T15:29:42.845Z"
   },
   {
    "duration": 5,
    "start_time": "2022-02-14T15:29:42.852Z"
   },
   {
    "duration": 74,
    "start_time": "2022-02-14T15:29:42.859Z"
   },
   {
    "duration": 4,
    "start_time": "2022-02-14T15:29:42.935Z"
   },
   {
    "duration": 11,
    "start_time": "2022-02-14T15:29:42.940Z"
   },
   {
    "duration": 5,
    "start_time": "2022-02-14T15:29:42.953Z"
   },
   {
    "duration": 4,
    "start_time": "2022-02-14T15:29:42.962Z"
   },
   {
    "duration": 17,
    "start_time": "2022-02-14T15:29:42.967Z"
   },
   {
    "duration": 32,
    "start_time": "2022-02-14T15:29:42.986Z"
   },
   {
    "duration": 26,
    "start_time": "2022-02-14T15:29:43.020Z"
   },
   {
    "duration": 33,
    "start_time": "2022-02-14T15:29:43.047Z"
   },
   {
    "duration": 33,
    "start_time": "2022-02-14T15:29:43.082Z"
   },
   {
    "duration": 20,
    "start_time": "2022-02-14T15:29:43.117Z"
   },
   {
    "duration": 16,
    "start_time": "2022-02-14T15:29:43.139Z"
   },
   {
    "duration": 19,
    "start_time": "2022-02-14T15:29:43.156Z"
   },
   {
    "duration": 46,
    "start_time": "2022-02-14T15:29:43.176Z"
   },
   {
    "duration": 17,
    "start_time": "2022-02-14T15:29:43.224Z"
   },
   {
    "duration": 8,
    "start_time": "2022-02-14T15:29:43.242Z"
   },
   {
    "duration": 11,
    "start_time": "2022-02-14T15:29:43.252Z"
   },
   {
    "duration": 9,
    "start_time": "2022-02-14T15:29:43.265Z"
   },
   {
    "duration": 44,
    "start_time": "2022-02-14T15:29:43.275Z"
   },
   {
    "duration": 18,
    "start_time": "2022-02-14T15:29:43.320Z"
   },
   {
    "duration": 8,
    "start_time": "2022-02-14T15:29:43.340Z"
   },
   {
    "duration": 31,
    "start_time": "2022-02-14T15:29:43.350Z"
   },
   {
    "duration": 35,
    "start_time": "2022-02-14T15:29:43.382Z"
   },
   {
    "duration": 3,
    "start_time": "2022-02-14T15:29:43.419Z"
   },
   {
    "duration": 5,
    "start_time": "2022-02-14T15:29:43.423Z"
   },
   {
    "duration": 91,
    "start_time": "2022-02-14T15:29:43.429Z"
   },
   {
    "duration": 612,
    "start_time": "2022-02-14T15:29:43.521Z"
   },
   {
    "duration": 630,
    "start_time": "2022-02-14T15:29:44.134Z"
   },
   {
    "duration": 7,
    "start_time": "2022-02-14T15:29:44.766Z"
   },
   {
    "duration": 68,
    "start_time": "2022-02-14T15:29:44.775Z"
   },
   {
    "duration": 129,
    "start_time": "2022-02-14T15:29:44.716Z"
   },
   {
    "duration": 126,
    "start_time": "2022-02-14T15:29:44.721Z"
   },
   {
    "duration": 124,
    "start_time": "2022-02-14T15:29:44.724Z"
   },
   {
    "duration": 121,
    "start_time": "2022-02-14T15:29:44.729Z"
   },
   {
    "duration": 118,
    "start_time": "2022-02-14T15:29:44.733Z"
   },
   {
    "duration": 116,
    "start_time": "2022-02-14T15:29:44.736Z"
   },
   {
    "duration": 113,
    "start_time": "2022-02-14T15:29:44.741Z"
   },
   {
    "duration": 299,
    "start_time": "2022-02-14T15:33:25.797Z"
   },
   {
    "duration": 211,
    "start_time": "2022-02-14T15:35:26.583Z"
   },
   {
    "duration": 199,
    "start_time": "2022-02-14T15:35:41.547Z"
   },
   {
    "duration": 199,
    "start_time": "2022-02-14T15:36:00.527Z"
   },
   {
    "duration": 202,
    "start_time": "2022-02-14T15:36:10.582Z"
   },
   {
    "duration": 7,
    "start_time": "2022-02-14T15:36:26.114Z"
   },
   {
    "duration": 6,
    "start_time": "2022-02-14T15:36:41.521Z"
   },
   {
    "duration": 89,
    "start_time": "2022-02-14T15:36:49.138Z"
   },
   {
    "duration": 13,
    "start_time": "2022-02-14T15:36:52.576Z"
   },
   {
    "duration": 13,
    "start_time": "2022-02-14T15:36:54.967Z"
   },
   {
    "duration": 6,
    "start_time": "2022-02-14T15:36:56.953Z"
   },
   {
    "duration": 1118,
    "start_time": "2022-02-14T15:36:59.964Z"
   },
   {
    "duration": 196,
    "start_time": "2022-02-14T15:37:13.826Z"
   },
   {
    "duration": 8,
    "start_time": "2022-02-14T15:37:33.662Z"
   },
   {
    "duration": 6,
    "start_time": "2022-02-14T15:38:09.133Z"
   },
   {
    "duration": 7,
    "start_time": "2022-02-14T15:38:16.537Z"
   },
   {
    "duration": 1225,
    "start_time": "2022-02-16T11:08:57.972Z"
   },
   {
    "duration": 273,
    "start_time": "2022-02-16T11:08:59.199Z"
   },
   {
    "duration": 6,
    "start_time": "2022-02-16T11:08:59.474Z"
   },
   {
    "duration": 32,
    "start_time": "2022-02-16T11:08:59.481Z"
   },
   {
    "duration": 14,
    "start_time": "2022-02-16T11:08:59.515Z"
   },
   {
    "duration": 11,
    "start_time": "2022-02-16T11:08:59.531Z"
   },
   {
    "duration": 19,
    "start_time": "2022-02-16T11:08:59.544Z"
   },
   {
    "duration": 14,
    "start_time": "2022-02-16T11:08:59.566Z"
   },
   {
    "duration": 30,
    "start_time": "2022-02-16T11:08:59.583Z"
   },
   {
    "duration": 14,
    "start_time": "2022-02-16T11:08:59.615Z"
   },
   {
    "duration": 13,
    "start_time": "2022-02-16T11:08:59.631Z"
   },
   {
    "duration": 8,
    "start_time": "2022-02-16T11:08:59.646Z"
   },
   {
    "duration": 9,
    "start_time": "2022-02-16T11:08:59.656Z"
   },
   {
    "duration": 43,
    "start_time": "2022-02-16T11:08:59.668Z"
   },
   {
    "duration": 8,
    "start_time": "2022-02-16T11:08:59.713Z"
   },
   {
    "duration": 7,
    "start_time": "2022-02-16T11:08:59.723Z"
   },
   {
    "duration": 11,
    "start_time": "2022-02-16T11:08:59.731Z"
   },
   {
    "duration": 8,
    "start_time": "2022-02-16T11:08:59.743Z"
   },
   {
    "duration": 74,
    "start_time": "2022-02-16T11:08:59.753Z"
   },
   {
    "duration": 5,
    "start_time": "2022-02-16T11:08:59.829Z"
   },
   {
    "duration": 10,
    "start_time": "2022-02-16T11:08:59.835Z"
   },
   {
    "duration": 13,
    "start_time": "2022-02-16T11:08:59.846Z"
   },
   {
    "duration": 9,
    "start_time": "2022-02-16T11:08:59.863Z"
   },
   {
    "duration": 41,
    "start_time": "2022-02-16T11:08:59.874Z"
   },
   {
    "duration": 8,
    "start_time": "2022-02-16T11:08:59.917Z"
   },
   {
    "duration": 31,
    "start_time": "2022-02-16T11:08:59.927Z"
   },
   {
    "duration": 62,
    "start_time": "2022-02-16T11:08:59.960Z"
   },
   {
    "duration": 11,
    "start_time": "2022-02-16T11:09:00.024Z"
   },
   {
    "duration": 27,
    "start_time": "2022-02-16T11:09:00.037Z"
   },
   {
    "duration": 41,
    "start_time": "2022-02-16T11:09:00.066Z"
   },
   {
    "duration": 22,
    "start_time": "2022-02-16T11:09:00.109Z"
   },
   {
    "duration": 27,
    "start_time": "2022-02-16T11:09:00.133Z"
   },
   {
    "duration": 22,
    "start_time": "2022-02-16T11:09:00.162Z"
   },
   {
    "duration": 31,
    "start_time": "2022-02-16T11:09:00.186Z"
   },
   {
    "duration": 19,
    "start_time": "2022-02-16T11:09:00.219Z"
   },
   {
    "duration": 22,
    "start_time": "2022-02-16T11:09:00.240Z"
   },
   {
    "duration": 30,
    "start_time": "2022-02-16T11:09:00.264Z"
   },
   {
    "duration": 45,
    "start_time": "2022-02-16T11:09:00.296Z"
   },
   {
    "duration": 14,
    "start_time": "2022-02-16T11:09:00.342Z"
   },
   {
    "duration": 49,
    "start_time": "2022-02-16T11:09:00.358Z"
   },
   {
    "duration": 14,
    "start_time": "2022-02-16T11:09:00.409Z"
   },
   {
    "duration": 14,
    "start_time": "2022-02-16T11:09:00.424Z"
   },
   {
    "duration": 19,
    "start_time": "2022-02-16T11:09:00.440Z"
   },
   {
    "duration": 34,
    "start_time": "2022-02-16T11:09:00.461Z"
   },
   {
    "duration": 27,
    "start_time": "2022-02-16T11:09:00.497Z"
   },
   {
    "duration": 18,
    "start_time": "2022-02-16T11:09:00.526Z"
   },
   {
    "duration": 101,
    "start_time": "2022-02-16T11:09:00.547Z"
   },
   {
    "duration": 664,
    "start_time": "2022-02-16T11:09:00.650Z"
   },
   {
    "duration": 671,
    "start_time": "2022-02-16T11:09:01.316Z"
   },
   {
    "duration": 6,
    "start_time": "2022-02-16T11:09:01.989Z"
   },
   {
    "duration": 377,
    "start_time": "2022-02-16T11:09:02.008Z"
   },
   {
    "duration": 34,
    "start_time": "2022-02-16T11:09:02.387Z"
   },
   {
    "duration": 186,
    "start_time": "2022-02-16T11:09:02.423Z"
   },
   {
    "duration": 126,
    "start_time": "2022-02-16T11:09:02.610Z"
   },
   {
    "duration": 32,
    "start_time": "2022-02-16T11:09:02.738Z"
   },
   {
    "duration": 31,
    "start_time": "2022-02-16T11:09:02.771Z"
   },
   {
    "duration": 69,
    "start_time": "2022-02-16T11:09:02.804Z"
   },
   {
    "duration": 66,
    "start_time": "2022-02-16T11:09:02.875Z"
   },
   {
    "duration": 9,
    "start_time": "2022-02-16T11:10:37.660Z"
   },
   {
    "duration": 388,
    "start_time": "2022-02-16T11:17:00.828Z"
   },
   {
    "duration": 10,
    "start_time": "2022-02-16T11:18:26.849Z"
   },
   {
    "duration": 9,
    "start_time": "2022-02-16T11:18:52.023Z"
   },
   {
    "duration": 7,
    "start_time": "2022-02-16T11:20:29.915Z"
   },
   {
    "duration": 12,
    "start_time": "2022-02-16T11:20:43.698Z"
   },
   {
    "duration": 9,
    "start_time": "2022-02-16T11:23:15.569Z"
   },
   {
    "duration": 13,
    "start_time": "2022-02-16T11:23:28.627Z"
   },
   {
    "duration": 7,
    "start_time": "2022-02-16T11:24:18.409Z"
   },
   {
    "duration": 4,
    "start_time": "2022-02-16T11:36:43.732Z"
   },
   {
    "duration": 368,
    "start_time": "2022-02-16T11:36:45.546Z"
   },
   {
    "duration": 5,
    "start_time": "2022-02-16T11:38:41.683Z"
   },
   {
    "duration": 705,
    "start_time": "2022-02-16T11:38:45.974Z"
   },
   {
    "duration": 6,
    "start_time": "2022-02-16T11:39:45.042Z"
   },
   {
    "duration": 763,
    "start_time": "2022-02-16T11:39:45.632Z"
   },
   {
    "duration": 7,
    "start_time": "2022-02-16T11:41:02.401Z"
   },
   {
    "duration": 804,
    "start_time": "2022-02-16T11:41:05.119Z"
   },
   {
    "duration": 6,
    "start_time": "2022-02-16T11:41:27.944Z"
   },
   {
    "duration": 6,
    "start_time": "2022-02-16T11:41:45.260Z"
   },
   {
    "duration": 745,
    "start_time": "2022-02-16T11:41:48.335Z"
   },
   {
    "duration": 152,
    "start_time": "2022-02-16T11:44:33.470Z"
   },
   {
    "duration": 142,
    "start_time": "2022-02-16T11:46:25.843Z"
   },
   {
    "duration": 6,
    "start_time": "2022-02-16T12:04:35.753Z"
   },
   {
    "duration": 5,
    "start_time": "2022-02-16T12:04:49.569Z"
   },
   {
    "duration": 10,
    "start_time": "2022-02-16T12:05:49.083Z"
   },
   {
    "duration": 4,
    "start_time": "2022-02-16T12:10:35.635Z"
   },
   {
    "duration": 11,
    "start_time": "2022-02-16T12:11:47.165Z"
   },
   {
    "duration": 1357,
    "start_time": "2022-02-16T12:12:19.937Z"
   },
   {
    "duration": 293,
    "start_time": "2022-02-16T12:12:21.296Z"
   },
   {
    "duration": 6,
    "start_time": "2022-02-16T12:12:21.591Z"
   },
   {
    "duration": 15,
    "start_time": "2022-02-16T12:12:21.599Z"
   },
   {
    "duration": 18,
    "start_time": "2022-02-16T12:12:21.615Z"
   },
   {
    "duration": 18,
    "start_time": "2022-02-16T12:12:21.635Z"
   },
   {
    "duration": 17,
    "start_time": "2022-02-16T12:12:21.655Z"
   },
   {
    "duration": 15,
    "start_time": "2022-02-16T12:12:21.675Z"
   },
   {
    "duration": 35,
    "start_time": "2022-02-16T12:12:21.692Z"
   },
   {
    "duration": 20,
    "start_time": "2022-02-16T12:12:21.729Z"
   },
   {
    "duration": 18,
    "start_time": "2022-02-16T12:12:21.751Z"
   },
   {
    "duration": 14,
    "start_time": "2022-02-16T12:12:21.771Z"
   },
   {
    "duration": 9,
    "start_time": "2022-02-16T12:12:21.806Z"
   },
   {
    "duration": 17,
    "start_time": "2022-02-16T12:12:21.817Z"
   },
   {
    "duration": 10,
    "start_time": "2022-02-16T12:12:21.836Z"
   },
   {
    "duration": 25,
    "start_time": "2022-02-16T12:12:21.848Z"
   },
   {
    "duration": 12,
    "start_time": "2022-02-16T12:12:21.875Z"
   },
   {
    "duration": 16,
    "start_time": "2022-02-16T12:12:21.889Z"
   },
   {
    "duration": 71,
    "start_time": "2022-02-16T12:12:21.907Z"
   },
   {
    "duration": 6,
    "start_time": "2022-02-16T12:12:21.980Z"
   },
   {
    "duration": 20,
    "start_time": "2022-02-16T12:12:21.987Z"
   },
   {
    "duration": 18,
    "start_time": "2022-02-16T12:12:22.009Z"
   },
   {
    "duration": 42,
    "start_time": "2022-02-16T12:12:22.031Z"
   },
   {
    "duration": 42,
    "start_time": "2022-02-16T12:12:22.076Z"
   },
   {
    "duration": 57,
    "start_time": "2022-02-16T12:12:22.120Z"
   },
   {
    "duration": 57,
    "start_time": "2022-02-16T12:12:22.179Z"
   },
   {
    "duration": 62,
    "start_time": "2022-02-16T12:12:22.239Z"
   },
   {
    "duration": 10,
    "start_time": "2022-02-16T12:12:22.304Z"
   },
   {
    "duration": 29,
    "start_time": "2022-02-16T12:12:22.316Z"
   },
   {
    "duration": 21,
    "start_time": "2022-02-16T12:12:22.347Z"
   },
   {
    "duration": 51,
    "start_time": "2022-02-16T12:12:22.370Z"
   },
   {
    "duration": 33,
    "start_time": "2022-02-16T12:12:22.423Z"
   },
   {
    "duration": 29,
    "start_time": "2022-02-16T12:12:22.459Z"
   },
   {
    "duration": 15,
    "start_time": "2022-02-16T12:12:22.508Z"
   },
   {
    "duration": 23,
    "start_time": "2022-02-16T12:12:22.525Z"
   },
   {
    "duration": 31,
    "start_time": "2022-02-16T12:12:22.550Z"
   },
   {
    "duration": 21,
    "start_time": "2022-02-16T12:12:22.583Z"
   },
   {
    "duration": 43,
    "start_time": "2022-02-16T12:12:22.606Z"
   },
   {
    "duration": 10,
    "start_time": "2022-02-16T12:12:22.651Z"
   },
   {
    "duration": 46,
    "start_time": "2022-02-16T12:12:22.663Z"
   },
   {
    "duration": 6,
    "start_time": "2022-02-16T12:12:22.711Z"
   },
   {
    "duration": 13,
    "start_time": "2022-02-16T12:12:22.719Z"
   },
   {
    "duration": 22,
    "start_time": "2022-02-16T12:12:22.734Z"
   },
   {
    "duration": 19,
    "start_time": "2022-02-16T12:12:22.758Z"
   },
   {
    "duration": 14,
    "start_time": "2022-02-16T12:12:22.779Z"
   },
   {
    "duration": 22,
    "start_time": "2022-02-16T12:12:22.795Z"
   },
   {
    "duration": 15,
    "start_time": "2022-02-16T12:12:22.819Z"
   },
   {
    "duration": 1177,
    "start_time": "2022-02-16T12:12:22.836Z"
   },
   {
    "duration": 214,
    "start_time": "2022-02-16T12:12:24.015Z"
   },
   {
    "duration": 97,
    "start_time": "2022-02-16T12:12:24.231Z"
   },
   {
    "duration": 67,
    "start_time": "2022-02-16T12:12:24.264Z"
   },
   {
    "duration": 62,
    "start_time": "2022-02-16T12:12:24.270Z"
   },
   {
    "duration": 56,
    "start_time": "2022-02-16T12:12:24.277Z"
   },
   {
    "duration": 54,
    "start_time": "2022-02-16T12:12:24.280Z"
   },
   {
    "duration": 52,
    "start_time": "2022-02-16T12:12:24.284Z"
   },
   {
    "duration": 48,
    "start_time": "2022-02-16T12:12:24.289Z"
   },
   {
    "duration": 45,
    "start_time": "2022-02-16T12:12:24.293Z"
   },
   {
    "duration": 43,
    "start_time": "2022-02-16T12:12:24.296Z"
   },
   {
    "duration": 41,
    "start_time": "2022-02-16T12:12:24.299Z"
   },
   {
    "duration": 37,
    "start_time": "2022-02-16T12:12:24.304Z"
   },
   {
    "duration": 13,
    "start_time": "2022-02-16T12:12:24.329Z"
   },
   {
    "duration": 12,
    "start_time": "2022-02-16T12:12:24.332Z"
   },
   {
    "duration": 8,
    "start_time": "2022-02-16T12:12:24.337Z"
   },
   {
    "duration": 5,
    "start_time": "2022-02-16T12:12:24.341Z"
   },
   {
    "duration": 3,
    "start_time": "2022-02-16T12:12:24.344Z"
   },
   {
    "duration": 1,
    "start_time": "2022-02-16T12:12:24.347Z"
   },
   {
    "duration": -1,
    "start_time": "2022-02-16T12:12:24.350Z"
   },
   {
    "duration": 1239,
    "start_time": "2022-02-16T12:14:26.160Z"
   },
   {
    "duration": 299,
    "start_time": "2022-02-16T12:14:27.401Z"
   },
   {
    "duration": 6,
    "start_time": "2022-02-16T12:14:27.702Z"
   },
   {
    "duration": 16,
    "start_time": "2022-02-16T12:14:27.710Z"
   },
   {
    "duration": 17,
    "start_time": "2022-02-16T12:14:27.728Z"
   },
   {
    "duration": 17,
    "start_time": "2022-02-16T12:14:27.746Z"
   },
   {
    "duration": 17,
    "start_time": "2022-02-16T12:14:27.765Z"
   },
   {
    "duration": 28,
    "start_time": "2022-02-16T12:14:27.784Z"
   },
   {
    "duration": 37,
    "start_time": "2022-02-16T12:14:27.817Z"
   },
   {
    "duration": 22,
    "start_time": "2022-02-16T12:14:27.857Z"
   },
   {
    "duration": 33,
    "start_time": "2022-02-16T12:14:27.881Z"
   },
   {
    "duration": 8,
    "start_time": "2022-02-16T12:14:27.916Z"
   },
   {
    "duration": 14,
    "start_time": "2022-02-16T12:14:27.926Z"
   },
   {
    "duration": 13,
    "start_time": "2022-02-16T12:14:27.942Z"
   },
   {
    "duration": 7,
    "start_time": "2022-02-16T12:14:27.958Z"
   },
   {
    "duration": 10,
    "start_time": "2022-02-16T12:14:27.967Z"
   },
   {
    "duration": 6,
    "start_time": "2022-02-16T12:14:28.007Z"
   },
   {
    "duration": 11,
    "start_time": "2022-02-16T12:14:28.015Z"
   },
   {
    "duration": 84,
    "start_time": "2022-02-16T12:14:28.028Z"
   },
   {
    "duration": 6,
    "start_time": "2022-02-16T12:14:28.114Z"
   },
   {
    "duration": 12,
    "start_time": "2022-02-16T12:14:28.122Z"
   },
   {
    "duration": 6,
    "start_time": "2022-02-16T12:14:28.144Z"
   },
   {
    "duration": 13,
    "start_time": "2022-02-16T12:14:28.152Z"
   },
   {
    "duration": 28,
    "start_time": "2022-02-16T12:14:28.167Z"
   },
   {
    "duration": 11,
    "start_time": "2022-02-16T12:14:28.208Z"
   },
   {
    "duration": 39,
    "start_time": "2022-02-16T12:14:28.222Z"
   },
   {
    "duration": 76,
    "start_time": "2022-02-16T12:14:28.267Z"
   },
   {
    "duration": 14,
    "start_time": "2022-02-16T12:14:28.346Z"
   },
   {
    "duration": 48,
    "start_time": "2022-02-16T12:14:28.362Z"
   },
   {
    "duration": 26,
    "start_time": "2022-02-16T12:14:28.412Z"
   },
   {
    "duration": 31,
    "start_time": "2022-02-16T12:14:28.440Z"
   },
   {
    "duration": 57,
    "start_time": "2022-02-16T12:14:28.473Z"
   },
   {
    "duration": 25,
    "start_time": "2022-02-16T12:14:28.532Z"
   },
   {
    "duration": 12,
    "start_time": "2022-02-16T12:14:28.560Z"
   },
   {
    "duration": 35,
    "start_time": "2022-02-16T12:14:28.574Z"
   },
   {
    "duration": 30,
    "start_time": "2022-02-16T12:14:28.611Z"
   },
   {
    "duration": 31,
    "start_time": "2022-02-16T12:14:28.643Z"
   },
   {
    "duration": 57,
    "start_time": "2022-02-16T12:14:28.677Z"
   },
   {
    "duration": 30,
    "start_time": "2022-02-16T12:14:28.736Z"
   },
   {
    "duration": 57,
    "start_time": "2022-02-16T12:14:28.768Z"
   },
   {
    "duration": 19,
    "start_time": "2022-02-16T12:14:28.826Z"
   },
   {
    "duration": 28,
    "start_time": "2022-02-16T12:14:28.848Z"
   },
   {
    "duration": 36,
    "start_time": "2022-02-16T12:14:28.878Z"
   },
   {
    "duration": 25,
    "start_time": "2022-02-16T12:14:28.917Z"
   },
   {
    "duration": 1227,
    "start_time": "2022-02-16T12:14:28.944Z"
   },
   {
    "duration": 235,
    "start_time": "2022-02-16T12:14:30.174Z"
   },
   {
    "duration": 3,
    "start_time": "2022-02-16T12:14:30.411Z"
   },
   {
    "duration": 27,
    "start_time": "2022-02-16T12:14:30.417Z"
   },
   {
    "duration": 11,
    "start_time": "2022-02-16T12:14:30.446Z"
   },
   {
    "duration": 20,
    "start_time": "2022-02-16T12:14:30.459Z"
   },
   {
    "duration": 150,
    "start_time": "2022-02-16T12:14:30.481Z"
   },
   {
    "duration": 850,
    "start_time": "2022-02-16T12:14:30.634Z"
   },
   {
    "duration": 694,
    "start_time": "2022-02-16T12:14:31.486Z"
   },
   {
    "duration": 5,
    "start_time": "2022-02-16T12:14:32.182Z"
   },
   {
    "duration": 25,
    "start_time": "2022-02-16T12:14:32.189Z"
   },
   {
    "duration": 14,
    "start_time": "2022-02-16T12:14:32.216Z"
   },
   {
    "duration": 15,
    "start_time": "2022-02-16T12:14:32.232Z"
   },
   {
    "duration": 52,
    "start_time": "2022-02-16T12:14:32.250Z"
   },
   {
    "duration": 14,
    "start_time": "2022-02-16T12:14:32.304Z"
   },
   {
    "duration": 19,
    "start_time": "2022-02-16T12:14:32.320Z"
   },
   {
    "duration": 8,
    "start_time": "2022-02-16T12:14:32.342Z"
   },
   {
    "duration": 18,
    "start_time": "2022-02-16T12:14:32.353Z"
   },
   {
    "duration": 10,
    "start_time": "2022-02-16T12:16:26.936Z"
   },
   {
    "duration": 5,
    "start_time": "2022-02-16T12:16:56.787Z"
   },
   {
    "duration": 11,
    "start_time": "2022-02-16T12:18:06.564Z"
   },
   {
    "duration": 841,
    "start_time": "2022-02-16T12:19:26.711Z"
   },
   {
    "duration": 135,
    "start_time": "2022-02-16T12:23:18.241Z"
   },
   {
    "duration": 9,
    "start_time": "2022-02-16T12:25:41.012Z"
   },
   {
    "duration": 7,
    "start_time": "2022-02-16T12:26:21.125Z"
   },
   {
    "duration": 811,
    "start_time": "2022-02-16T12:27:44.062Z"
   },
   {
    "duration": 146,
    "start_time": "2022-02-16T12:28:25.856Z"
   },
   {
    "duration": 153,
    "start_time": "2022-02-16T12:28:55.844Z"
   },
   {
    "duration": 241,
    "start_time": "2022-02-16T12:29:10.198Z"
   },
   {
    "duration": 137,
    "start_time": "2022-02-16T12:29:15.597Z"
   },
   {
    "duration": 140,
    "start_time": "2022-02-16T12:29:59.509Z"
   },
   {
    "duration": 130,
    "start_time": "2022-02-16T12:30:26.163Z"
   },
   {
    "duration": 11,
    "start_time": "2022-02-16T14:46:50.575Z"
   },
   {
    "duration": 11,
    "start_time": "2022-02-16T14:47:14.178Z"
   },
   {
    "duration": 21,
    "start_time": "2022-02-16T14:47:59.067Z"
   },
   {
    "duration": 365,
    "start_time": "2022-02-16T14:49:12.914Z"
   },
   {
    "duration": 10,
    "start_time": "2022-02-16T14:49:28.535Z"
   },
   {
    "duration": 10,
    "start_time": "2022-02-16T14:49:38.891Z"
   },
   {
    "duration": 11,
    "start_time": "2022-02-16T14:49:44.609Z"
   },
   {
    "duration": 6,
    "start_time": "2022-02-16T16:37:11.708Z"
   },
   {
    "duration": 6,
    "start_time": "2022-02-16T16:37:27.264Z"
   },
   {
    "duration": 6,
    "start_time": "2022-02-16T16:37:44.111Z"
   },
   {
    "duration": 4,
    "start_time": "2022-02-16T16:37:51.894Z"
   },
   {
    "duration": 23,
    "start_time": "2022-02-16T16:45:33.247Z"
   },
   {
    "duration": 84,
    "start_time": "2022-02-16T16:49:28.407Z"
   },
   {
    "duration": 84,
    "start_time": "2022-02-16T16:49:45.272Z"
   },
   {
    "duration": 96,
    "start_time": "2022-02-16T16:49:50.964Z"
   },
   {
    "duration": 81,
    "start_time": "2022-02-16T16:49:54.373Z"
   },
   {
    "duration": 91,
    "start_time": "2022-02-16T16:50:09.073Z"
   },
   {
    "duration": 11,
    "start_time": "2022-02-16T16:51:37.885Z"
   },
   {
    "duration": 1291,
    "start_time": "2022-02-16T16:51:53.002Z"
   },
   {
    "duration": 295,
    "start_time": "2022-02-16T16:51:54.295Z"
   },
   {
    "duration": 7,
    "start_time": "2022-02-16T16:51:54.593Z"
   },
   {
    "duration": 56,
    "start_time": "2022-02-16T16:51:54.603Z"
   },
   {
    "duration": 32,
    "start_time": "2022-02-16T16:51:54.661Z"
   },
   {
    "duration": 41,
    "start_time": "2022-02-16T16:51:54.695Z"
   },
   {
    "duration": 33,
    "start_time": "2022-02-16T16:51:54.738Z"
   },
   {
    "duration": 33,
    "start_time": "2022-02-16T16:51:54.773Z"
   },
   {
    "duration": 34,
    "start_time": "2022-02-16T16:51:54.809Z"
   },
   {
    "duration": 17,
    "start_time": "2022-02-16T16:51:54.845Z"
   },
   {
    "duration": 32,
    "start_time": "2022-02-16T16:51:54.864Z"
   },
   {
    "duration": 24,
    "start_time": "2022-02-16T16:51:54.898Z"
   },
   {
    "duration": 23,
    "start_time": "2022-02-16T16:51:54.924Z"
   },
   {
    "duration": 16,
    "start_time": "2022-02-16T16:51:54.949Z"
   },
   {
    "duration": 5,
    "start_time": "2022-02-16T16:51:54.967Z"
   },
   {
    "duration": 9,
    "start_time": "2022-02-16T16:51:54.974Z"
   },
   {
    "duration": 11,
    "start_time": "2022-02-16T16:51:54.985Z"
   },
   {
    "duration": 13,
    "start_time": "2022-02-16T16:51:54.998Z"
   },
   {
    "duration": 55,
    "start_time": "2022-02-16T16:51:55.014Z"
   },
   {
    "duration": 5,
    "start_time": "2022-02-16T16:51:55.072Z"
   },
   {
    "duration": 6,
    "start_time": "2022-02-16T16:51:55.107Z"
   },
   {
    "duration": 11,
    "start_time": "2022-02-16T16:51:55.115Z"
   },
   {
    "duration": 10,
    "start_time": "2022-02-16T16:51:55.132Z"
   },
   {
    "duration": 23,
    "start_time": "2022-02-16T16:51:55.146Z"
   },
   {
    "duration": 46,
    "start_time": "2022-02-16T16:51:55.171Z"
   },
   {
    "duration": 10,
    "start_time": "2022-02-16T16:51:55.219Z"
   },
   {
    "duration": 42,
    "start_time": "2022-02-16T16:51:55.231Z"
   },
   {
    "duration": 68,
    "start_time": "2022-02-16T16:51:55.275Z"
   },
   {
    "duration": 12,
    "start_time": "2022-02-16T16:51:55.345Z"
   },
   {
    "duration": 49,
    "start_time": "2022-02-16T16:51:55.359Z"
   },
   {
    "duration": 21,
    "start_time": "2022-02-16T16:51:55.410Z"
   },
   {
    "duration": 23,
    "start_time": "2022-02-16T16:51:55.433Z"
   },
   {
    "duration": 59,
    "start_time": "2022-02-16T16:51:55.458Z"
   },
   {
    "duration": 22,
    "start_time": "2022-02-16T16:51:55.519Z"
   },
   {
    "duration": 10,
    "start_time": "2022-02-16T16:51:55.544Z"
   },
   {
    "duration": 11,
    "start_time": "2022-02-16T16:51:55.557Z"
   },
   {
    "duration": 41,
    "start_time": "2022-02-16T16:51:55.570Z"
   },
   {
    "duration": 13,
    "start_time": "2022-02-16T16:51:55.613Z"
   },
   {
    "duration": 26,
    "start_time": "2022-02-16T16:51:55.627Z"
   },
   {
    "duration": 10,
    "start_time": "2022-02-16T16:51:55.655Z"
   },
   {
    "duration": 72,
    "start_time": "2022-02-16T16:51:55.666Z"
   },
   {
    "duration": 81,
    "start_time": "2022-02-16T16:51:55.740Z"
   },
   {
    "duration": -284,
    "start_time": "2022-02-16T16:51:56.108Z"
   },
   {
    "duration": -287,
    "start_time": "2022-02-16T16:51:56.112Z"
   },
   {
    "duration": -290,
    "start_time": "2022-02-16T16:51:56.116Z"
   },
   {
    "duration": -292,
    "start_time": "2022-02-16T16:51:56.119Z"
   },
   {
    "duration": -294,
    "start_time": "2022-02-16T16:51:56.122Z"
   },
   {
    "duration": -296,
    "start_time": "2022-02-16T16:51:56.125Z"
   },
   {
    "duration": -298,
    "start_time": "2022-02-16T16:51:56.129Z"
   },
   {
    "duration": -300,
    "start_time": "2022-02-16T16:51:56.132Z"
   },
   {
    "duration": -302,
    "start_time": "2022-02-16T16:51:56.135Z"
   },
   {
    "duration": -304,
    "start_time": "2022-02-16T16:51:56.138Z"
   },
   {
    "duration": -307,
    "start_time": "2022-02-16T16:51:56.143Z"
   },
   {
    "duration": -310,
    "start_time": "2022-02-16T16:51:56.147Z"
   },
   {
    "duration": -334,
    "start_time": "2022-02-16T16:51:56.172Z"
   },
   {
    "duration": -338,
    "start_time": "2022-02-16T16:51:56.177Z"
   },
   {
    "duration": -342,
    "start_time": "2022-02-16T16:51:56.183Z"
   },
   {
    "duration": -344,
    "start_time": "2022-02-16T16:51:56.186Z"
   },
   {
    "duration": -348,
    "start_time": "2022-02-16T16:51:56.191Z"
   },
   {
    "duration": -352,
    "start_time": "2022-02-16T16:51:56.196Z"
   },
   {
    "duration": -355,
    "start_time": "2022-02-16T16:51:56.200Z"
   },
   {
    "duration": -358,
    "start_time": "2022-02-16T16:51:56.204Z"
   },
   {
    "duration": -362,
    "start_time": "2022-02-16T16:51:56.209Z"
   },
   {
    "duration": -397,
    "start_time": "2022-02-16T16:51:56.245Z"
   },
   {
    "duration": -401,
    "start_time": "2022-02-16T16:51:56.249Z"
   },
   {
    "duration": -403,
    "start_time": "2022-02-16T16:51:56.252Z"
   },
   {
    "duration": -406,
    "start_time": "2022-02-16T16:51:56.256Z"
   },
   {
    "duration": -408,
    "start_time": "2022-02-16T16:51:56.259Z"
   },
   {
    "duration": -411,
    "start_time": "2022-02-16T16:51:56.263Z"
   },
   {
    "duration": -424,
    "start_time": "2022-02-16T16:51:56.277Z"
   },
   {
    "duration": -429,
    "start_time": "2022-02-16T16:51:56.283Z"
   },
   {
    "duration": -431,
    "start_time": "2022-02-16T16:51:56.286Z"
   },
   {
    "duration": -436,
    "start_time": "2022-02-16T16:51:56.292Z"
   },
   {
    "duration": -438,
    "start_time": "2022-02-16T16:51:56.295Z"
   },
   {
    "duration": -442,
    "start_time": "2022-02-16T16:51:56.300Z"
   },
   {
    "duration": 559,
    "start_time": "2022-02-16T16:55:30.780Z"
   },
   {
    "duration": 9,
    "start_time": "2022-02-16T16:56:04.101Z"
   },
   {
    "duration": 11,
    "start_time": "2022-02-16T16:56:29.729Z"
   },
   {
    "duration": 9,
    "start_time": "2022-02-16T16:56:51.693Z"
   },
   {
    "duration": 4,
    "start_time": "2022-02-16T16:57:00.465Z"
   },
   {
    "duration": 5,
    "start_time": "2022-02-16T17:06:33.476Z"
   },
   {
    "duration": 1281,
    "start_time": "2022-02-16T17:06:41.830Z"
   },
   {
    "duration": 299,
    "start_time": "2022-02-16T17:06:43.114Z"
   },
   {
    "duration": 7,
    "start_time": "2022-02-16T17:06:43.416Z"
   },
   {
    "duration": 19,
    "start_time": "2022-02-16T17:06:43.426Z"
   },
   {
    "duration": 11,
    "start_time": "2022-02-16T17:06:43.447Z"
   },
   {
    "duration": 13,
    "start_time": "2022-02-16T17:06:43.460Z"
   },
   {
    "duration": 12,
    "start_time": "2022-02-16T17:06:43.507Z"
   },
   {
    "duration": 13,
    "start_time": "2022-02-16T17:06:43.522Z"
   },
   {
    "duration": 25,
    "start_time": "2022-02-16T17:06:43.537Z"
   },
   {
    "duration": 50,
    "start_time": "2022-02-16T17:06:43.564Z"
   },
   {
    "duration": 15,
    "start_time": "2022-02-16T17:06:43.617Z"
   },
   {
    "duration": 14,
    "start_time": "2022-02-16T17:06:43.634Z"
   },
   {
    "duration": 14,
    "start_time": "2022-02-16T17:06:43.649Z"
   },
   {
    "duration": 16,
    "start_time": "2022-02-16T17:06:43.665Z"
   },
   {
    "duration": 5,
    "start_time": "2022-02-16T17:06:43.709Z"
   },
   {
    "duration": 10,
    "start_time": "2022-02-16T17:06:43.716Z"
   },
   {
    "duration": 7,
    "start_time": "2022-02-16T17:06:43.729Z"
   },
   {
    "duration": 15,
    "start_time": "2022-02-16T17:06:43.738Z"
   },
   {
    "duration": 85,
    "start_time": "2022-02-16T17:06:43.755Z"
   },
   {
    "duration": 6,
    "start_time": "2022-02-16T17:06:43.842Z"
   },
   {
    "duration": 23,
    "start_time": "2022-02-16T17:06:43.849Z"
   },
   {
    "duration": 9,
    "start_time": "2022-02-16T17:06:43.875Z"
   },
   {
    "duration": 7,
    "start_time": "2022-02-16T17:06:43.907Z"
   },
   {
    "duration": 24,
    "start_time": "2022-02-16T17:06:43.918Z"
   },
   {
    "duration": 10,
    "start_time": "2022-02-16T17:06:43.944Z"
   },
   {
    "duration": 6186,
    "start_time": "2022-02-16T17:06:43.956Z"
   },
   {
    "duration": -78,
    "start_time": "2022-02-16T17:06:50.223Z"
   },
   {
    "duration": -92,
    "start_time": "2022-02-16T17:06:50.238Z"
   },
   {
    "duration": -98,
    "start_time": "2022-02-16T17:06:50.245Z"
   },
   {
    "duration": -103,
    "start_time": "2022-02-16T17:06:50.251Z"
   },
   {
    "duration": -109,
    "start_time": "2022-02-16T17:06:50.258Z"
   },
   {
    "duration": -112,
    "start_time": "2022-02-16T17:06:50.263Z"
   },
   {
    "duration": -120,
    "start_time": "2022-02-16T17:06:50.272Z"
   },
   {
    "duration": -124,
    "start_time": "2022-02-16T17:06:50.277Z"
   },
   {
    "duration": -215,
    "start_time": "2022-02-16T17:06:50.369Z"
   },
   {
    "duration": -427,
    "start_time": "2022-02-16T17:06:50.582Z"
   },
   {
    "duration": -439,
    "start_time": "2022-02-16T17:06:50.595Z"
   },
   {
    "duration": -442,
    "start_time": "2022-02-16T17:06:50.599Z"
   },
   {
    "duration": -453,
    "start_time": "2022-02-16T17:06:50.612Z"
   },
   {
    "duration": -455,
    "start_time": "2022-02-16T17:06:50.615Z"
   },
   {
    "duration": -466,
    "start_time": "2022-02-16T17:06:50.627Z"
   },
   {
    "duration": -467,
    "start_time": "2022-02-16T17:06:50.630Z"
   },
   {
    "duration": -468,
    "start_time": "2022-02-16T17:06:50.633Z"
   },
   {
    "duration": -471,
    "start_time": "2022-02-16T17:06:50.637Z"
   },
   {
    "duration": -473,
    "start_time": "2022-02-16T17:06:50.640Z"
   },
   {
    "duration": -475,
    "start_time": "2022-02-16T17:06:50.643Z"
   },
   {
    "duration": -478,
    "start_time": "2022-02-16T17:06:50.647Z"
   },
   {
    "duration": -480,
    "start_time": "2022-02-16T17:06:50.650Z"
   },
   {
    "duration": -508,
    "start_time": "2022-02-16T17:06:50.680Z"
   },
   {
    "duration": -511,
    "start_time": "2022-02-16T17:06:50.684Z"
   },
   {
    "duration": -513,
    "start_time": "2022-02-16T17:06:50.687Z"
   },
   {
    "duration": -515,
    "start_time": "2022-02-16T17:06:50.690Z"
   },
   {
    "duration": -518,
    "start_time": "2022-02-16T17:06:50.694Z"
   },
   {
    "duration": -520,
    "start_time": "2022-02-16T17:06:50.697Z"
   },
   {
    "duration": -523,
    "start_time": "2022-02-16T17:06:50.701Z"
   },
   {
    "duration": -525,
    "start_time": "2022-02-16T17:06:50.704Z"
   },
   {
    "duration": -527,
    "start_time": "2022-02-16T17:06:50.707Z"
   },
   {
    "duration": -529,
    "start_time": "2022-02-16T17:06:50.710Z"
   },
   {
    "duration": -531,
    "start_time": "2022-02-16T17:06:50.713Z"
   },
   {
    "duration": -509,
    "start_time": "2022-02-16T17:06:50.717Z"
   },
   {
    "duration": -511,
    "start_time": "2022-02-16T17:06:50.720Z"
   },
   {
    "duration": -512,
    "start_time": "2022-02-16T17:06:50.722Z"
   },
   {
    "duration": -525,
    "start_time": "2022-02-16T17:06:50.736Z"
   },
   {
    "duration": -528,
    "start_time": "2022-02-16T17:06:50.740Z"
   },
   {
    "duration": -531,
    "start_time": "2022-02-16T17:06:50.744Z"
   },
   {
    "duration": -532,
    "start_time": "2022-02-16T17:06:50.747Z"
   },
   {
    "duration": -534,
    "start_time": "2022-02-16T17:06:50.750Z"
   },
   {
    "duration": -536,
    "start_time": "2022-02-16T17:06:50.753Z"
   },
   {
    "duration": -538,
    "start_time": "2022-02-16T17:06:50.756Z"
   },
   {
    "duration": -540,
    "start_time": "2022-02-16T17:06:50.759Z"
   },
   {
    "duration": -542,
    "start_time": "2022-02-16T17:06:50.762Z"
   },
   {
    "duration": -544,
    "start_time": "2022-02-16T17:06:50.765Z"
   },
   {
    "duration": -546,
    "start_time": "2022-02-16T17:06:50.768Z"
   },
   {
    "duration": -548,
    "start_time": "2022-02-16T17:06:50.771Z"
   },
   {
    "duration": -550,
    "start_time": "2022-02-16T17:06:50.774Z"
   },
   {
    "duration": 7,
    "start_time": "2022-02-16T17:07:06.923Z"
   },
   {
    "duration": 83,
    "start_time": "2022-02-16T17:07:42.230Z"
   },
   {
    "duration": 6,
    "start_time": "2022-02-16T17:07:48.455Z"
   },
   {
    "duration": 6,
    "start_time": "2022-02-16T17:08:37.387Z"
   },
   {
    "duration": 5,
    "start_time": "2022-02-16T17:09:46.501Z"
   },
   {
    "duration": 31,
    "start_time": "2022-02-16T17:10:23.223Z"
   },
   {
    "duration": 240,
    "start_time": "2022-02-16T17:11:22.749Z"
   },
   {
    "duration": 12,
    "start_time": "2022-02-16T17:13:24.377Z"
   },
   {
    "duration": 26,
    "start_time": "2022-02-16T17:13:39.782Z"
   },
   {
    "duration": 5,
    "start_time": "2022-02-16T17:14:17.391Z"
   },
   {
    "duration": 23,
    "start_time": "2022-02-16T17:14:23.764Z"
   },
   {
    "duration": 23,
    "start_time": "2022-02-16T17:14:47.305Z"
   },
   {
    "duration": 7,
    "start_time": "2022-02-16T17:15:13.072Z"
   },
   {
    "duration": 25,
    "start_time": "2022-02-16T17:15:18.942Z"
   },
   {
    "duration": 20,
    "start_time": "2022-02-16T17:15:22.302Z"
   },
   {
    "duration": 11,
    "start_time": "2022-02-16T17:20:45.139Z"
   },
   {
    "duration": 12,
    "start_time": "2022-02-16T17:20:48.287Z"
   },
   {
    "duration": 10,
    "start_time": "2022-02-16T17:21:05.655Z"
   },
   {
    "duration": 11,
    "start_time": "2022-02-16T17:21:25.444Z"
   },
   {
    "duration": 242,
    "start_time": "2022-02-16T17:22:26.004Z"
   },
   {
    "duration": 1311,
    "start_time": "2022-02-16T17:22:33.782Z"
   },
   {
    "duration": 298,
    "start_time": "2022-02-16T17:22:35.095Z"
   },
   {
    "duration": 7,
    "start_time": "2022-02-16T17:22:35.395Z"
   },
   {
    "duration": 20,
    "start_time": "2022-02-16T17:22:35.404Z"
   },
   {
    "duration": 19,
    "start_time": "2022-02-16T17:22:35.426Z"
   },
   {
    "duration": 16,
    "start_time": "2022-02-16T17:22:35.446Z"
   },
   {
    "duration": 29,
    "start_time": "2022-02-16T17:22:35.464Z"
   },
   {
    "duration": 19,
    "start_time": "2022-02-16T17:22:35.497Z"
   },
   {
    "duration": 29,
    "start_time": "2022-02-16T17:22:35.519Z"
   },
   {
    "duration": 21,
    "start_time": "2022-02-16T17:22:35.550Z"
   },
   {
    "duration": 13,
    "start_time": "2022-02-16T17:22:35.573Z"
   },
   {
    "duration": 67,
    "start_time": "2022-02-16T17:22:35.588Z"
   },
   {
    "duration": 22,
    "start_time": "2022-02-16T17:22:35.657Z"
   },
   {
    "duration": 13,
    "start_time": "2022-02-16T17:22:35.681Z"
   },
   {
    "duration": 7,
    "start_time": "2022-02-16T17:22:35.695Z"
   },
   {
    "duration": 9,
    "start_time": "2022-02-16T17:22:35.704Z"
   },
   {
    "duration": 12,
    "start_time": "2022-02-16T17:22:35.716Z"
   },
   {
    "duration": 11,
    "start_time": "2022-02-16T17:22:35.730Z"
   },
   {
    "duration": 79,
    "start_time": "2022-02-16T17:22:35.743Z"
   },
   {
    "duration": 5,
    "start_time": "2022-02-16T17:22:35.824Z"
   },
   {
    "duration": 9,
    "start_time": "2022-02-16T17:22:35.831Z"
   },
   {
    "duration": 10,
    "start_time": "2022-02-16T17:22:35.842Z"
   },
   {
    "duration": 9,
    "start_time": "2022-02-16T17:22:35.856Z"
   },
   {
    "duration": 49,
    "start_time": "2022-02-16T17:22:35.868Z"
   },
   {
    "duration": 10,
    "start_time": "2022-02-16T17:22:35.919Z"
   },
   {
    "duration": 20,
    "start_time": "2022-02-16T17:22:35.931Z"
   },
   {
    "duration": 33,
    "start_time": "2022-02-16T17:22:35.953Z"
   },
   {
    "duration": 39,
    "start_time": "2022-02-16T17:22:36.007Z"
   },
   {
    "duration": 14,
    "start_time": "2022-02-16T17:22:36.048Z"
   },
   {
    "duration": 59,
    "start_time": "2022-02-16T17:22:36.063Z"
   },
   {
    "duration": 5,
    "start_time": "2022-02-16T17:22:36.124Z"
   },
   {
    "duration": 23,
    "start_time": "2022-02-16T17:22:36.131Z"
   },
   {
    "duration": 23,
    "start_time": "2022-02-16T17:22:36.156Z"
   },
   {
    "duration": 6,
    "start_time": "2022-02-16T17:22:36.208Z"
   },
   {
    "duration": 36,
    "start_time": "2022-02-16T17:22:36.216Z"
   },
   {
    "duration": 22,
    "start_time": "2022-02-16T17:22:36.254Z"
   },
   {
    "duration": 36,
    "start_time": "2022-02-16T17:22:36.277Z"
   },
   {
    "duration": 12,
    "start_time": "2022-02-16T17:22:36.316Z"
   },
   {
    "duration": 15,
    "start_time": "2022-02-16T17:22:36.330Z"
   },
   {
    "duration": 14,
    "start_time": "2022-02-16T17:22:36.347Z"
   },
   {
    "duration": 56,
    "start_time": "2022-02-16T17:22:36.362Z"
   },
   {
    "duration": 10,
    "start_time": "2022-02-16T17:22:36.420Z"
   },
   {
    "duration": 40,
    "start_time": "2022-02-16T17:22:36.432Z"
   },
   {
    "duration": 81,
    "start_time": "2022-02-16T17:22:36.474Z"
   },
   {
    "duration": -464,
    "start_time": "2022-02-16T17:22:37.021Z"
   },
   {
    "duration": -468,
    "start_time": "2022-02-16T17:22:37.026Z"
   },
   {
    "duration": -475,
    "start_time": "2022-02-16T17:22:37.034Z"
   },
   {
    "duration": -480,
    "start_time": "2022-02-16T17:22:37.040Z"
   },
   {
    "duration": -484,
    "start_time": "2022-02-16T17:22:37.045Z"
   },
   {
    "duration": -488,
    "start_time": "2022-02-16T17:22:37.050Z"
   },
   {
    "duration": -492,
    "start_time": "2022-02-16T17:22:37.055Z"
   },
   {
    "duration": -498,
    "start_time": "2022-02-16T17:22:37.062Z"
   },
   {
    "duration": -503,
    "start_time": "2022-02-16T17:22:37.068Z"
   },
   {
    "duration": -505,
    "start_time": "2022-02-16T17:22:37.072Z"
   },
   {
    "duration": -631,
    "start_time": "2022-02-16T17:22:37.199Z"
   },
   {
    "duration": -646,
    "start_time": "2022-02-16T17:22:37.215Z"
   },
   {
    "duration": -649,
    "start_time": "2022-02-16T17:22:37.219Z"
   },
   {
    "duration": -652,
    "start_time": "2022-02-16T17:22:37.223Z"
   },
   {
    "duration": -656,
    "start_time": "2022-02-16T17:22:37.228Z"
   },
   {
    "duration": -659,
    "start_time": "2022-02-16T17:22:37.232Z"
   },
   {
    "duration": -674,
    "start_time": "2022-02-16T17:22:37.248Z"
   },
   {
    "duration": -677,
    "start_time": "2022-02-16T17:22:37.252Z"
   },
   {
    "duration": -693,
    "start_time": "2022-02-16T17:22:37.268Z"
   },
   {
    "duration": -708,
    "start_time": "2022-02-16T17:22:37.284Z"
   },
   {
    "duration": -712,
    "start_time": "2022-02-16T17:22:37.289Z"
   },
   {
    "duration": -715,
    "start_time": "2022-02-16T17:22:37.293Z"
   },
   {
    "duration": -719,
    "start_time": "2022-02-16T17:22:37.298Z"
   },
   {
    "duration": -723,
    "start_time": "2022-02-16T17:22:37.303Z"
   },
   {
    "duration": -738,
    "start_time": "2022-02-16T17:22:37.319Z"
   },
   {
    "duration": -742,
    "start_time": "2022-02-16T17:22:37.324Z"
   },
   {
    "duration": -747,
    "start_time": "2022-02-16T17:22:37.330Z"
   },
   {
    "duration": -750,
    "start_time": "2022-02-16T17:22:37.334Z"
   },
   {
    "duration": -765,
    "start_time": "2022-02-16T17:22:37.350Z"
   },
   {
    "duration": -779,
    "start_time": "2022-02-16T17:22:37.365Z"
   },
   {
    "duration": -782,
    "start_time": "2022-02-16T17:22:37.369Z"
   },
   {
    "duration": -799,
    "start_time": "2022-02-16T17:22:37.387Z"
   },
   {
    "duration": -810,
    "start_time": "2022-02-16T17:22:37.399Z"
   },
   {
    "duration": 8,
    "start_time": "2022-02-16T17:25:54.384Z"
   },
   {
    "duration": 1745,
    "start_time": "2022-02-16T17:29:27.247Z"
   },
   {
    "duration": 1746,
    "start_time": "2022-02-16T17:29:58.660Z"
   },
   {
    "duration": 6,
    "start_time": "2022-02-16T17:31:09.040Z"
   },
   {
    "duration": 21,
    "start_time": "2022-02-16T17:36:22.488Z"
   },
   {
    "duration": 1307,
    "start_time": "2022-02-16T17:36:30.294Z"
   },
   {
    "duration": 310,
    "start_time": "2022-02-16T17:36:31.608Z"
   },
   {
    "duration": 8,
    "start_time": "2022-02-16T17:36:31.920Z"
   },
   {
    "duration": 45,
    "start_time": "2022-02-16T17:36:31.931Z"
   },
   {
    "duration": 22,
    "start_time": "2022-02-16T17:36:31.979Z"
   },
   {
    "duration": 44,
    "start_time": "2022-02-16T17:36:32.004Z"
   },
   {
    "duration": 71,
    "start_time": "2022-02-16T17:36:32.050Z"
   },
   {
    "duration": 39,
    "start_time": "2022-02-16T17:36:32.124Z"
   },
   {
    "duration": 24,
    "start_time": "2022-02-16T17:36:32.165Z"
   },
   {
    "duration": 15,
    "start_time": "2022-02-16T17:36:32.192Z"
   },
   {
    "duration": 19,
    "start_time": "2022-02-16T17:36:32.209Z"
   },
   {
    "duration": 18,
    "start_time": "2022-02-16T17:36:32.230Z"
   },
   {
    "duration": 31,
    "start_time": "2022-02-16T17:36:32.250Z"
   },
   {
    "duration": 32,
    "start_time": "2022-02-16T17:36:32.283Z"
   },
   {
    "duration": 39,
    "start_time": "2022-02-16T17:36:32.317Z"
   },
   {
    "duration": 31,
    "start_time": "2022-02-16T17:36:32.359Z"
   },
   {
    "duration": 30,
    "start_time": "2022-02-16T17:36:32.392Z"
   },
   {
    "duration": 32,
    "start_time": "2022-02-16T17:36:32.424Z"
   },
   {
    "duration": 78,
    "start_time": "2022-02-16T17:36:32.458Z"
   },
   {
    "duration": 6,
    "start_time": "2022-02-16T17:36:32.538Z"
   },
   {
    "duration": 51,
    "start_time": "2022-02-16T17:36:32.546Z"
   },
   {
    "duration": 15,
    "start_time": "2022-02-16T17:36:32.599Z"
   },
   {
    "duration": 33,
    "start_time": "2022-02-16T17:36:32.619Z"
   },
   {
    "duration": 32,
    "start_time": "2022-02-16T17:36:32.655Z"
   },
   {
    "duration": 15,
    "start_time": "2022-02-16T17:36:32.689Z"
   },
   {
    "duration": 30,
    "start_time": "2022-02-16T17:36:32.706Z"
   },
   {
    "duration": 6,
    "start_time": "2022-02-16T17:36:32.738Z"
   },
   {
    "duration": 42,
    "start_time": "2022-02-16T17:36:32.746Z"
   },
   {
    "duration": 55,
    "start_time": "2022-02-16T17:36:32.791Z"
   },
   {
    "duration": 11,
    "start_time": "2022-02-16T17:36:32.848Z"
   },
   {
    "duration": 52,
    "start_time": "2022-02-16T17:36:32.862Z"
   },
   {
    "duration": 6,
    "start_time": "2022-02-16T17:36:32.916Z"
   },
   {
    "duration": 26,
    "start_time": "2022-02-16T17:36:32.924Z"
   },
   {
    "duration": 21,
    "start_time": "2022-02-16T17:36:32.953Z"
   },
   {
    "duration": 35,
    "start_time": "2022-02-16T17:36:32.976Z"
   },
   {
    "duration": 41,
    "start_time": "2022-02-16T17:36:33.013Z"
   },
   {
    "duration": 25,
    "start_time": "2022-02-16T17:36:33.056Z"
   },
   {
    "duration": 33,
    "start_time": "2022-02-16T17:36:33.083Z"
   },
   {
    "duration": 18,
    "start_time": "2022-02-16T17:36:33.118Z"
   },
   {
    "duration": 20,
    "start_time": "2022-02-16T17:36:33.139Z"
   },
   {
    "duration": 19,
    "start_time": "2022-02-16T17:36:33.161Z"
   },
   {
    "duration": 42,
    "start_time": "2022-02-16T17:36:33.181Z"
   },
   {
    "duration": 11,
    "start_time": "2022-02-16T17:36:33.224Z"
   },
   {
    "duration": 45,
    "start_time": "2022-02-16T17:36:33.237Z"
   },
   {
    "duration": 6,
    "start_time": "2022-02-16T17:36:33.308Z"
   },
   {
    "duration": 17,
    "start_time": "2022-02-16T17:36:33.317Z"
   },
   {
    "duration": 12,
    "start_time": "2022-02-16T17:36:33.336Z"
   },
   {
    "duration": 17,
    "start_time": "2022-02-16T17:36:33.350Z"
   },
   {
    "duration": 6,
    "start_time": "2022-02-16T17:36:33.369Z"
   },
   {
    "duration": 777,
    "start_time": "2022-02-16T17:36:33.376Z"
   },
   {
    "duration": 166,
    "start_time": "2022-02-16T17:36:34.156Z"
   },
   {
    "duration": 163,
    "start_time": "2022-02-16T17:36:34.325Z"
   },
   {
    "duration": 18,
    "start_time": "2022-02-16T17:36:34.490Z"
   },
   {
    "duration": 7,
    "start_time": "2022-02-16T17:36:34.511Z"
   },
   {
    "duration": 13,
    "start_time": "2022-02-16T17:36:34.520Z"
   },
   {
    "duration": 113,
    "start_time": "2022-02-16T17:36:34.536Z"
   },
   {
    "duration": 45,
    "start_time": "2022-02-16T17:36:34.606Z"
   },
   {
    "duration": 42,
    "start_time": "2022-02-16T17:36:34.610Z"
   },
   {
    "duration": 37,
    "start_time": "2022-02-16T17:36:34.616Z"
   },
   {
    "duration": 19,
    "start_time": "2022-02-16T17:36:34.635Z"
   },
   {
    "duration": 17,
    "start_time": "2022-02-16T17:36:34.639Z"
   },
   {
    "duration": -6,
    "start_time": "2022-02-16T17:36:34.663Z"
   },
   {
    "duration": 62,
    "start_time": "2022-02-16T17:36:34.671Z"
   },
   {
    "duration": 57,
    "start_time": "2022-02-16T17:36:34.677Z"
   },
   {
    "duration": 48,
    "start_time": "2022-02-16T17:36:34.687Z"
   },
   {
    "duration": 45,
    "start_time": "2022-02-16T17:36:34.691Z"
   },
   {
    "duration": 43,
    "start_time": "2022-02-16T17:36:34.694Z"
   },
   {
    "duration": 38,
    "start_time": "2022-02-16T17:36:34.700Z"
   },
   {
    "duration": 35,
    "start_time": "2022-02-16T17:36:34.704Z"
   },
   {
    "duration": 33,
    "start_time": "2022-02-16T17:36:34.707Z"
   },
   {
    "duration": 30,
    "start_time": "2022-02-16T17:36:34.711Z"
   },
   {
    "duration": 28,
    "start_time": "2022-02-16T17:36:34.714Z"
   },
   {
    "duration": 26,
    "start_time": "2022-02-16T17:36:34.717Z"
   },
   {
    "duration": 25,
    "start_time": "2022-02-16T17:36:34.720Z"
   },
   {
    "duration": 23,
    "start_time": "2022-02-16T17:36:34.723Z"
   },
   {
    "duration": 20,
    "start_time": "2022-02-16T17:36:34.727Z"
   },
   {
    "duration": 19,
    "start_time": "2022-02-16T17:36:34.730Z"
   },
   {
    "duration": 17,
    "start_time": "2022-02-16T17:36:34.733Z"
   },
   {
    "duration": 25,
    "start_time": "2022-02-16T17:37:29.179Z"
   },
   {
    "duration": 31,
    "start_time": "2022-02-16T17:37:59.486Z"
   },
   {
    "duration": 1639,
    "start_time": "2022-02-16T17:38:16.685Z"
   },
   {
    "duration": 412,
    "start_time": "2022-02-16T17:38:18.327Z"
   },
   {
    "duration": 8,
    "start_time": "2022-02-16T17:38:18.741Z"
   },
   {
    "duration": 24,
    "start_time": "2022-02-16T17:38:18.751Z"
   },
   {
    "duration": 14,
    "start_time": "2022-02-16T17:38:18.778Z"
   },
   {
    "duration": 20,
    "start_time": "2022-02-16T17:38:18.795Z"
   },
   {
    "duration": 18,
    "start_time": "2022-02-16T17:38:18.818Z"
   },
   {
    "duration": 12,
    "start_time": "2022-02-16T17:38:18.840Z"
   },
   {
    "duration": 52,
    "start_time": "2022-02-16T17:38:18.856Z"
   },
   {
    "duration": 18,
    "start_time": "2022-02-16T17:38:18.911Z"
   },
   {
    "duration": 22,
    "start_time": "2022-02-16T17:38:18.932Z"
   },
   {
    "duration": 9,
    "start_time": "2022-02-16T17:38:18.957Z"
   },
   {
    "duration": 45,
    "start_time": "2022-02-16T17:38:18.968Z"
   },
   {
    "duration": 30,
    "start_time": "2022-02-16T17:38:19.015Z"
   },
   {
    "duration": 6,
    "start_time": "2022-02-16T17:38:19.048Z"
   },
   {
    "duration": 13,
    "start_time": "2022-02-16T17:38:19.056Z"
   },
   {
    "duration": 12,
    "start_time": "2022-02-16T17:38:19.070Z"
   },
   {
    "duration": 27,
    "start_time": "2022-02-16T17:38:19.084Z"
   },
   {
    "duration": 57,
    "start_time": "2022-02-16T17:38:19.114Z"
   },
   {
    "duration": 6,
    "start_time": "2022-02-16T17:38:19.174Z"
   },
   {
    "duration": 30,
    "start_time": "2022-02-16T17:38:19.182Z"
   },
   {
    "duration": 10,
    "start_time": "2022-02-16T17:38:19.214Z"
   },
   {
    "duration": 18,
    "start_time": "2022-02-16T17:38:19.230Z"
   },
   {
    "duration": 56,
    "start_time": "2022-02-16T17:38:19.251Z"
   },
   {
    "duration": 13,
    "start_time": "2022-02-16T17:38:19.310Z"
   },
   {
    "duration": 40,
    "start_time": "2022-02-16T17:38:19.326Z"
   },
   {
    "duration": 9,
    "start_time": "2022-02-16T17:38:19.368Z"
   },
   {
    "duration": 33,
    "start_time": "2022-02-16T17:38:19.413Z"
   },
   {
    "duration": 32,
    "start_time": "2022-02-16T17:38:19.448Z"
   },
   {
    "duration": 32,
    "start_time": "2022-02-16T17:38:19.482Z"
   },
   {
    "duration": 26,
    "start_time": "2022-02-16T17:38:19.516Z"
   },
   {
    "duration": 9,
    "start_time": "2022-02-16T17:38:19.544Z"
   },
   {
    "duration": 45,
    "start_time": "2022-02-16T17:38:19.555Z"
   },
   {
    "duration": 22,
    "start_time": "2022-02-16T17:38:19.603Z"
   },
   {
    "duration": 6,
    "start_time": "2022-02-16T17:38:19.628Z"
   },
   {
    "duration": 43,
    "start_time": "2022-02-16T17:38:19.637Z"
   },
   {
    "duration": 20,
    "start_time": "2022-02-16T17:38:19.706Z"
   },
   {
    "duration": 11,
    "start_time": "2022-02-16T17:38:19.728Z"
   },
   {
    "duration": 17,
    "start_time": "2022-02-16T17:38:19.741Z"
   },
   {
    "duration": 49,
    "start_time": "2022-02-16T17:38:19.760Z"
   },
   {
    "duration": 17,
    "start_time": "2022-02-16T17:38:19.811Z"
   },
   {
    "duration": 34,
    "start_time": "2022-02-16T17:38:19.830Z"
   },
   {
    "duration": 11,
    "start_time": "2022-02-16T17:38:19.867Z"
   },
   {
    "duration": 63,
    "start_time": "2022-02-16T17:38:19.880Z"
   },
   {
    "duration": 16,
    "start_time": "2022-02-16T17:38:19.946Z"
   },
   {
    "duration": 8,
    "start_time": "2022-02-16T17:38:19.964Z"
   },
   {
    "duration": 41,
    "start_time": "2022-02-16T17:38:19.974Z"
   },
   {
    "duration": 6,
    "start_time": "2022-02-16T17:38:20.018Z"
   },
   {
    "duration": 816,
    "start_time": "2022-02-16T17:38:20.027Z"
   },
   {
    "duration": 199,
    "start_time": "2022-02-16T17:38:20.845Z"
   },
   {
    "duration": 196,
    "start_time": "2022-02-16T17:38:21.047Z"
   },
   {
    "duration": 10,
    "start_time": "2022-02-16T17:38:21.245Z"
   },
   {
    "duration": 25,
    "start_time": "2022-02-16T17:38:21.257Z"
   },
   {
    "duration": 25,
    "start_time": "2022-02-16T17:38:21.285Z"
   },
   {
    "duration": 91,
    "start_time": "2022-02-16T17:38:21.313Z"
   },
   {
    "duration": 53,
    "start_time": "2022-02-16T17:38:21.354Z"
   },
   {
    "duration": 51,
    "start_time": "2022-02-16T17:38:21.358Z"
   },
   {
    "duration": 49,
    "start_time": "2022-02-16T17:38:21.361Z"
   },
   {
    "duration": 47,
    "start_time": "2022-02-16T17:38:21.364Z"
   },
   {
    "duration": 44,
    "start_time": "2022-02-16T17:38:21.368Z"
   },
   {
    "duration": 42,
    "start_time": "2022-02-16T17:38:21.372Z"
   },
   {
    "duration": 40,
    "start_time": "2022-02-16T17:38:21.375Z"
   },
   {
    "duration": 38,
    "start_time": "2022-02-16T17:38:21.379Z"
   },
   {
    "duration": -165,
    "start_time": "2022-02-16T17:38:21.583Z"
   },
   {
    "duration": -43,
    "start_time": "2022-02-16T17:38:21.593Z"
   },
   {
    "duration": -74,
    "start_time": "2022-02-16T17:38:21.626Z"
   },
   {
    "duration": -77,
    "start_time": "2022-02-16T17:38:21.630Z"
   },
   {
    "duration": -89,
    "start_time": "2022-02-16T17:38:21.644Z"
   },
   {
    "duration": -91,
    "start_time": "2022-02-16T17:38:21.648Z"
   },
   {
    "duration": -102,
    "start_time": "2022-02-16T17:38:21.660Z"
   },
   {
    "duration": -103,
    "start_time": "2022-02-16T17:38:21.663Z"
   },
   {
    "duration": -106,
    "start_time": "2022-02-16T17:38:21.668Z"
   },
   {
    "duration": -117,
    "start_time": "2022-02-16T17:38:21.680Z"
   },
   {
    "duration": -119,
    "start_time": "2022-02-16T17:38:21.684Z"
   },
   {
    "duration": -130,
    "start_time": "2022-02-16T17:38:21.696Z"
   },
   {
    "duration": -132,
    "start_time": "2022-02-16T17:38:21.700Z"
   },
   {
    "duration": -141,
    "start_time": "2022-02-16T17:38:21.711Z"
   },
   {
    "duration": 38,
    "start_time": "2022-02-16T17:38:51.587Z"
   },
   {
    "duration": 1540,
    "start_time": "2022-02-16T17:39:02.055Z"
   },
   {
    "duration": 318,
    "start_time": "2022-02-16T17:39:03.598Z"
   },
   {
    "duration": 8,
    "start_time": "2022-02-16T17:39:03.922Z"
   },
   {
    "duration": 33,
    "start_time": "2022-02-16T17:39:03.933Z"
   },
   {
    "duration": 24,
    "start_time": "2022-02-16T17:39:03.969Z"
   },
   {
    "duration": 42,
    "start_time": "2022-02-16T17:39:03.996Z"
   },
   {
    "duration": 39,
    "start_time": "2022-02-16T17:39:04.040Z"
   },
   {
    "duration": 46,
    "start_time": "2022-02-16T17:39:04.084Z"
   },
   {
    "duration": 47,
    "start_time": "2022-02-16T17:39:04.134Z"
   },
   {
    "duration": 33,
    "start_time": "2022-02-16T17:39:04.184Z"
   },
   {
    "duration": 24,
    "start_time": "2022-02-16T17:39:04.220Z"
   },
   {
    "duration": 26,
    "start_time": "2022-02-16T17:39:04.246Z"
   },
   {
    "duration": 54,
    "start_time": "2022-02-16T17:39:04.275Z"
   },
   {
    "duration": 35,
    "start_time": "2022-02-16T17:39:04.331Z"
   },
   {
    "duration": 17,
    "start_time": "2022-02-16T17:39:04.369Z"
   },
   {
    "duration": 15,
    "start_time": "2022-02-16T17:39:04.389Z"
   },
   {
    "duration": 12,
    "start_time": "2022-02-16T17:39:04.406Z"
   },
   {
    "duration": 14,
    "start_time": "2022-02-16T17:39:04.420Z"
   },
   {
    "duration": 60,
    "start_time": "2022-02-16T17:39:04.436Z"
   },
   {
    "duration": 11,
    "start_time": "2022-02-16T17:39:04.498Z"
   },
   {
    "duration": 9,
    "start_time": "2022-02-16T17:39:04.512Z"
   },
   {
    "duration": 9,
    "start_time": "2022-02-16T17:39:04.523Z"
   },
   {
    "duration": 13,
    "start_time": "2022-02-16T17:39:04.535Z"
   },
   {
    "duration": 61,
    "start_time": "2022-02-16T17:39:04.550Z"
   },
   {
    "duration": 9,
    "start_time": "2022-02-16T17:39:04.614Z"
   },
   {
    "duration": 45,
    "start_time": "2022-02-16T17:39:04.628Z"
   },
   {
    "duration": 31,
    "start_time": "2022-02-16T17:39:04.677Z"
   },
   {
    "duration": 31,
    "start_time": "2022-02-16T17:39:04.710Z"
   },
   {
    "duration": 32,
    "start_time": "2022-02-16T17:39:04.744Z"
   },
   {
    "duration": 29,
    "start_time": "2022-02-16T17:39:04.778Z"
   },
   {
    "duration": 22,
    "start_time": "2022-02-16T17:39:04.809Z"
   },
   {
    "duration": 24,
    "start_time": "2022-02-16T17:39:04.833Z"
   },
   {
    "duration": 66,
    "start_time": "2022-02-16T17:39:04.859Z"
   },
   {
    "duration": 20,
    "start_time": "2022-02-16T17:39:04.927Z"
   },
   {
    "duration": 19,
    "start_time": "2022-02-16T17:39:04.948Z"
   },
   {
    "duration": 46,
    "start_time": "2022-02-16T17:39:04.969Z"
   },
   {
    "duration": 19,
    "start_time": "2022-02-16T17:39:05.017Z"
   },
   {
    "duration": 26,
    "start_time": "2022-02-16T17:39:05.038Z"
   },
   {
    "duration": 51,
    "start_time": "2022-02-16T17:39:05.066Z"
   },
   {
    "duration": 40,
    "start_time": "2022-02-16T17:39:05.119Z"
   },
   {
    "duration": 46,
    "start_time": "2022-02-16T17:39:05.161Z"
   },
   {
    "duration": 53,
    "start_time": "2022-02-16T17:39:05.209Z"
   },
   {
    "duration": 43,
    "start_time": "2022-02-16T17:39:05.265Z"
   },
   {
    "duration": 51,
    "start_time": "2022-02-16T17:39:05.310Z"
   },
   {
    "duration": 12,
    "start_time": "2022-02-16T17:39:05.363Z"
   },
   {
    "duration": 42,
    "start_time": "2022-02-16T17:39:05.378Z"
   },
   {
    "duration": 38,
    "start_time": "2022-02-16T17:39:05.422Z"
   },
   {
    "duration": 24,
    "start_time": "2022-02-16T17:39:05.462Z"
   },
   {
    "duration": 1232,
    "start_time": "2022-02-16T17:39:05.488Z"
   },
   {
    "duration": 177,
    "start_time": "2022-02-16T17:39:06.722Z"
   },
   {
    "duration": 167,
    "start_time": "2022-02-16T17:39:06.901Z"
   },
   {
    "duration": 11,
    "start_time": "2022-02-16T17:39:07.071Z"
   },
   {
    "duration": 30,
    "start_time": "2022-02-16T17:39:07.085Z"
   },
   {
    "duration": 34,
    "start_time": "2022-02-16T17:39:07.117Z"
   },
   {
    "duration": 103,
    "start_time": "2022-02-16T17:39:07.153Z"
   },
   {
    "duration": 29,
    "start_time": "2022-02-16T17:39:07.230Z"
   },
   {
    "duration": 22,
    "start_time": "2022-02-16T17:39:07.239Z"
   },
   {
    "duration": 5,
    "start_time": "2022-02-16T17:39:07.258Z"
   },
   {
    "duration": -2,
    "start_time": "2022-02-16T17:39:07.266Z"
   },
   {
    "duration": -19,
    "start_time": "2022-02-16T17:39:07.284Z"
   },
   {
    "duration": -32,
    "start_time": "2022-02-16T17:39:07.299Z"
   },
   {
    "duration": -41,
    "start_time": "2022-02-16T17:39:07.309Z"
   },
   {
    "duration": -48,
    "start_time": "2022-02-16T17:39:07.317Z"
   },
   {
    "duration": -57,
    "start_time": "2022-02-16T17:39:07.328Z"
   },
   {
    "duration": -69,
    "start_time": "2022-02-16T17:39:07.341Z"
   },
   {
    "duration": -70,
    "start_time": "2022-02-16T17:39:07.343Z"
   },
   {
    "duration": -75,
    "start_time": "2022-02-16T17:39:07.350Z"
   },
   {
    "duration": -76,
    "start_time": "2022-02-16T17:39:07.352Z"
   },
   {
    "duration": -79,
    "start_time": "2022-02-16T17:39:07.356Z"
   },
   {
    "duration": -81,
    "start_time": "2022-02-16T17:39:07.359Z"
   },
   {
    "duration": -84,
    "start_time": "2022-02-16T17:39:07.363Z"
   },
   {
    "duration": -87,
    "start_time": "2022-02-16T17:39:07.367Z"
   },
   {
    "duration": -90,
    "start_time": "2022-02-16T17:39:07.371Z"
   },
   {
    "duration": -96,
    "start_time": "2022-02-16T17:39:07.378Z"
   },
   {
    "duration": -17,
    "start_time": "2022-02-16T17:39:07.382Z"
   },
   {
    "duration": -19,
    "start_time": "2022-02-16T17:39:07.385Z"
   },
   {
    "duration": -22,
    "start_time": "2022-02-16T17:39:07.389Z"
   },
   {
    "duration": 5,
    "start_time": "2022-02-16T17:46:42.824Z"
   },
   {
    "duration": 1351,
    "start_time": "2022-02-16T17:51:39.368Z"
   },
   {
    "duration": 319,
    "start_time": "2022-02-16T17:51:40.722Z"
   },
   {
    "duration": 6,
    "start_time": "2022-02-16T17:51:41.045Z"
   },
   {
    "duration": 36,
    "start_time": "2022-02-16T17:51:41.053Z"
   },
   {
    "duration": 14,
    "start_time": "2022-02-16T17:51:41.092Z"
   },
   {
    "duration": 13,
    "start_time": "2022-02-16T17:51:41.108Z"
   },
   {
    "duration": 21,
    "start_time": "2022-02-16T17:51:41.124Z"
   },
   {
    "duration": 23,
    "start_time": "2022-02-16T17:51:41.147Z"
   },
   {
    "duration": 36,
    "start_time": "2022-02-16T17:51:41.172Z"
   },
   {
    "duration": 18,
    "start_time": "2022-02-16T17:51:41.210Z"
   },
   {
    "duration": 14,
    "start_time": "2022-02-16T17:51:41.231Z"
   },
   {
    "duration": 14,
    "start_time": "2022-02-16T17:51:41.247Z"
   },
   {
    "duration": 44,
    "start_time": "2022-02-16T17:51:41.263Z"
   },
   {
    "duration": 13,
    "start_time": "2022-02-16T17:51:41.309Z"
   },
   {
    "duration": 9,
    "start_time": "2022-02-16T17:51:41.324Z"
   },
   {
    "duration": 16,
    "start_time": "2022-02-16T17:51:41.335Z"
   },
   {
    "duration": 10,
    "start_time": "2022-02-16T17:51:41.353Z"
   },
   {
    "duration": 10,
    "start_time": "2022-02-16T17:51:41.365Z"
   },
   {
    "duration": 79,
    "start_time": "2022-02-16T17:51:41.378Z"
   },
   {
    "duration": 6,
    "start_time": "2022-02-16T17:51:41.459Z"
   },
   {
    "duration": 40,
    "start_time": "2022-02-16T17:51:41.467Z"
   },
   {
    "duration": 5,
    "start_time": "2022-02-16T17:51:41.512Z"
   },
   {
    "duration": 8,
    "start_time": "2022-02-16T17:51:41.520Z"
   },
   {
    "duration": 24,
    "start_time": "2022-02-16T17:51:41.529Z"
   },
   {
    "duration": 9,
    "start_time": "2022-02-16T17:51:41.555Z"
   },
   {
    "duration": 66,
    "start_time": "2022-02-16T17:51:41.566Z"
   },
   {
    "duration": 6,
    "start_time": "2022-02-16T17:51:41.634Z"
   },
   {
    "duration": 33,
    "start_time": "2022-02-16T17:51:41.642Z"
   },
   {
    "duration": 58,
    "start_time": "2022-02-16T17:51:41.677Z"
   },
   {
    "duration": 14,
    "start_time": "2022-02-16T17:51:41.737Z"
   },
   {
    "duration": 17,
    "start_time": "2022-02-16T17:51:41.753Z"
   },
   {
    "duration": 36,
    "start_time": "2022-02-16T17:51:41.772Z"
   },
   {
    "duration": 21,
    "start_time": "2022-02-16T17:51:41.810Z"
   },
   {
    "duration": 18,
    "start_time": "2022-02-16T17:51:41.833Z"
   },
   {
    "duration": 5,
    "start_time": "2022-02-16T17:51:41.853Z"
   },
   {
    "duration": 74,
    "start_time": "2022-02-16T17:51:41.861Z"
   },
   {
    "duration": 20,
    "start_time": "2022-02-16T17:51:41.938Z"
   },
   {
    "duration": 13,
    "start_time": "2022-02-16T17:51:41.960Z"
   },
   {
    "duration": 41,
    "start_time": "2022-02-16T17:51:41.974Z"
   },
   {
    "duration": 19,
    "start_time": "2022-02-16T17:51:42.017Z"
   },
   {
    "duration": 16,
    "start_time": "2022-02-16T17:51:42.038Z"
   },
   {
    "duration": 23,
    "start_time": "2022-02-16T17:51:42.056Z"
   },
   {
    "duration": 32,
    "start_time": "2022-02-16T17:51:42.080Z"
   },
   {
    "duration": 42,
    "start_time": "2022-02-16T17:51:42.114Z"
   },
   {
    "duration": 12,
    "start_time": "2022-02-16T17:51:42.158Z"
   },
   {
    "duration": 37,
    "start_time": "2022-02-16T17:51:42.172Z"
   },
   {
    "duration": 12,
    "start_time": "2022-02-16T17:51:42.212Z"
   },
   {
    "duration": 7,
    "start_time": "2022-02-16T17:51:42.227Z"
   },
   {
    "duration": 797,
    "start_time": "2022-02-16T17:51:42.237Z"
   },
   {
    "duration": 180,
    "start_time": "2022-02-16T17:51:43.036Z"
   },
   {
    "duration": 154,
    "start_time": "2022-02-16T17:51:43.218Z"
   },
   {
    "duration": 11,
    "start_time": "2022-02-16T17:51:43.374Z"
   },
   {
    "duration": 6,
    "start_time": "2022-02-16T17:51:43.407Z"
   },
   {
    "duration": 14,
    "start_time": "2022-02-16T17:51:43.415Z"
   },
   {
    "duration": 133,
    "start_time": "2022-02-16T17:51:43.432Z"
   },
   {
    "duration": 83,
    "start_time": "2022-02-16T17:51:43.485Z"
   },
   {
    "duration": 80,
    "start_time": "2022-02-16T17:51:43.489Z"
   },
   {
    "duration": 76,
    "start_time": "2022-02-16T17:51:43.494Z"
   },
   {
    "duration": 73,
    "start_time": "2022-02-16T17:51:43.498Z"
   },
   {
    "duration": 69,
    "start_time": "2022-02-16T17:51:43.503Z"
   },
   {
    "duration": 68,
    "start_time": "2022-02-16T17:51:43.506Z"
   },
   {
    "duration": 65,
    "start_time": "2022-02-16T17:51:43.510Z"
   },
   {
    "duration": 60,
    "start_time": "2022-02-16T17:51:43.516Z"
   },
   {
    "duration": 26,
    "start_time": "2022-02-16T17:51:43.551Z"
   },
   {
    "duration": 97,
    "start_time": "2022-02-16T17:51:43.556Z"
   },
   {
    "duration": 94,
    "start_time": "2022-02-16T17:51:43.560Z"
   },
   {
    "duration": 80,
    "start_time": "2022-02-16T17:51:43.575Z"
   },
   {
    "duration": 68,
    "start_time": "2022-02-16T17:51:43.588Z"
   },
   {
    "duration": 66,
    "start_time": "2022-02-16T17:51:43.591Z"
   },
   {
    "duration": 54,
    "start_time": "2022-02-16T17:51:43.604Z"
   },
   {
    "duration": 51,
    "start_time": "2022-02-16T17:51:43.608Z"
   },
   {
    "duration": 43,
    "start_time": "2022-02-16T17:51:43.618Z"
   },
   {
    "duration": 41,
    "start_time": "2022-02-16T17:51:43.621Z"
   },
   {
    "duration": 40,
    "start_time": "2022-02-16T17:51:43.624Z"
   },
   {
    "duration": 38,
    "start_time": "2022-02-16T17:51:43.627Z"
   },
   {
    "duration": 35,
    "start_time": "2022-02-16T17:51:43.631Z"
   },
   {
    "duration": 34,
    "start_time": "2022-02-16T17:51:43.634Z"
   },
   {
    "duration": 7,
    "start_time": "2022-02-16T17:54:49.566Z"
   },
   {
    "duration": 22,
    "start_time": "2022-02-16T17:55:58.694Z"
   },
   {
    "duration": 29,
    "start_time": "2022-02-16T17:56:27.277Z"
   },
   {
    "duration": 20,
    "start_time": "2022-02-16T17:56:43.222Z"
   },
   {
    "duration": 17,
    "start_time": "2022-02-16T17:56:57.340Z"
   },
   {
    "duration": 16,
    "start_time": "2022-02-16T17:57:35.464Z"
   },
   {
    "duration": 42,
    "start_time": "2022-02-16T17:57:57.025Z"
   },
   {
    "duration": 7,
    "start_time": "2022-02-16T17:59:32.762Z"
   },
   {
    "duration": 725,
    "start_time": "2022-02-16T18:02:29.969Z"
   },
   {
    "duration": 432,
    "start_time": "2022-02-18T08:16:14.778Z"
   },
   {
    "duration": 1545,
    "start_time": "2022-02-18T08:16:21.927Z"
   },
   {
    "duration": 1379,
    "start_time": "2022-02-18T08:16:23.475Z"
   },
   {
    "duration": 8,
    "start_time": "2022-02-18T08:16:24.857Z"
   },
   {
    "duration": 19,
    "start_time": "2022-02-18T08:16:24.867Z"
   },
   {
    "duration": 12,
    "start_time": "2022-02-18T08:16:24.888Z"
   },
   {
    "duration": 12,
    "start_time": "2022-02-18T08:16:24.903Z"
   },
   {
    "duration": 18,
    "start_time": "2022-02-18T08:16:24.919Z"
   },
   {
    "duration": 14,
    "start_time": "2022-02-18T08:16:24.940Z"
   },
   {
    "duration": 54,
    "start_time": "2022-02-18T08:16:24.956Z"
   },
   {
    "duration": 18,
    "start_time": "2022-02-18T08:16:25.013Z"
   },
   {
    "duration": 17,
    "start_time": "2022-02-18T08:16:25.034Z"
   },
   {
    "duration": 9,
    "start_time": "2022-02-18T08:16:25.053Z"
   },
   {
    "duration": 9,
    "start_time": "2022-02-18T08:16:25.064Z"
   },
   {
    "duration": 18,
    "start_time": "2022-02-18T08:16:25.111Z"
   },
   {
    "duration": 6,
    "start_time": "2022-02-18T08:16:25.132Z"
   },
   {
    "duration": 9,
    "start_time": "2022-02-18T08:16:25.140Z"
   },
   {
    "duration": 8,
    "start_time": "2022-02-18T08:16:25.151Z"
   },
   {
    "duration": 7,
    "start_time": "2022-02-18T08:16:25.162Z"
   },
   {
    "duration": 71,
    "start_time": "2022-02-18T08:16:25.212Z"
   },
   {
    "duration": 7,
    "start_time": "2022-02-18T08:16:25.285Z"
   },
   {
    "duration": 8,
    "start_time": "2022-02-18T08:16:25.310Z"
   },
   {
    "duration": 6,
    "start_time": "2022-02-18T08:16:25.320Z"
   },
   {
    "duration": 6,
    "start_time": "2022-02-18T08:16:25.333Z"
   },
   {
    "duration": 69,
    "start_time": "2022-02-18T08:16:25.343Z"
   },
   {
    "duration": 11,
    "start_time": "2022-02-18T08:16:25.414Z"
   },
   {
    "duration": 33,
    "start_time": "2022-02-18T08:16:25.428Z"
   },
   {
    "duration": 6,
    "start_time": "2022-02-18T08:16:25.464Z"
   },
   {
    "duration": 70,
    "start_time": "2022-02-18T08:16:25.473Z"
   },
   {
    "duration": 40,
    "start_time": "2022-02-18T08:16:25.546Z"
   },
   {
    "duration": 33,
    "start_time": "2022-02-18T08:16:25.589Z"
   },
   {
    "duration": 21,
    "start_time": "2022-02-18T08:16:25.624Z"
   },
   {
    "duration": 6,
    "start_time": "2022-02-18T08:16:25.647Z"
   },
   {
    "duration": 62,
    "start_time": "2022-02-18T08:16:25.655Z"
   },
   {
    "duration": 23,
    "start_time": "2022-02-18T08:16:25.720Z"
   },
   {
    "duration": 7,
    "start_time": "2022-02-18T08:16:25.745Z"
   },
   {
    "duration": 62,
    "start_time": "2022-02-18T08:16:25.754Z"
   },
   {
    "duration": 24,
    "start_time": "2022-02-18T08:16:25.819Z"
   },
   {
    "duration": 14,
    "start_time": "2022-02-18T08:16:25.846Z"
   },
   {
    "duration": 49,
    "start_time": "2022-02-18T08:16:25.863Z"
   },
   {
    "duration": 15,
    "start_time": "2022-02-18T08:16:25.914Z"
   },
   {
    "duration": 15,
    "start_time": "2022-02-18T08:16:25.931Z"
   },
   {
    "duration": 27,
    "start_time": "2022-02-18T08:16:25.949Z"
   },
   {
    "duration": 15,
    "start_time": "2022-02-18T08:16:26.012Z"
   },
   {
    "duration": 50,
    "start_time": "2022-02-18T08:16:26.030Z"
   },
   {
    "duration": 39,
    "start_time": "2022-02-18T08:16:26.083Z"
   },
   {
    "duration": 6,
    "start_time": "2022-02-18T08:16:26.125Z"
   },
   {
    "duration": 10,
    "start_time": "2022-02-18T08:16:26.134Z"
   },
   {
    "duration": 8,
    "start_time": "2022-02-18T08:16:26.147Z"
   },
   {
    "duration": 1145,
    "start_time": "2022-02-18T08:16:26.158Z"
   },
   {
    "duration": 216,
    "start_time": "2022-02-18T08:16:27.311Z"
   },
   {
    "duration": 220,
    "start_time": "2022-02-18T08:16:27.529Z"
   },
   {
    "duration": 12,
    "start_time": "2022-02-18T08:16:27.751Z"
   },
   {
    "duration": 9,
    "start_time": "2022-02-18T08:16:27.766Z"
   },
   {
    "duration": 41,
    "start_time": "2022-02-18T08:16:27.777Z"
   },
   {
    "duration": 1219,
    "start_time": "2022-02-18T08:16:27.820Z"
   },
   {
    "duration": 220,
    "start_time": "2022-02-18T08:16:29.042Z"
   },
   {
    "duration": 218,
    "start_time": "2022-02-18T08:16:29.265Z"
   },
   {
    "duration": 11,
    "start_time": "2022-02-18T08:16:29.486Z"
   },
   {
    "duration": 6,
    "start_time": "2022-02-18T08:16:29.511Z"
   },
   {
    "duration": 1110,
    "start_time": "2022-02-18T08:16:29.520Z"
   },
   {
    "duration": 229,
    "start_time": "2022-02-18T08:16:30.632Z"
   },
   {
    "duration": 316,
    "start_time": "2022-02-18T08:16:30.863Z"
   },
   {
    "duration": 2,
    "start_time": "2022-02-18T08:16:31.182Z"
   },
   {
    "duration": 24,
    "start_time": "2022-02-18T08:16:31.186Z"
   },
   {
    "duration": 132,
    "start_time": "2022-02-18T08:16:31.213Z"
   },
   {
    "duration": 940,
    "start_time": "2022-02-18T08:16:31.348Z"
   },
   {
    "duration": 965,
    "start_time": "2022-02-18T08:16:32.291Z"
   },
   {
    "duration": 9,
    "start_time": "2022-02-18T08:16:33.264Z"
   },
   {
    "duration": 39,
    "start_time": "2022-02-18T08:16:33.276Z"
   },
   {
    "duration": 3,
    "start_time": "2022-02-18T08:16:33.317Z"
   },
   {
    "duration": 6,
    "start_time": "2022-02-18T08:16:33.324Z"
   },
   {
    "duration": 86,
    "start_time": "2022-02-18T08:16:33.333Z"
   },
   {
    "duration": 18,
    "start_time": "2022-02-18T08:16:33.422Z"
   },
   {
    "duration": 19,
    "start_time": "2022-02-18T08:16:33.443Z"
   },
   {
    "duration": 8,
    "start_time": "2022-02-18T08:16:33.464Z"
   },
   {
    "duration": 42,
    "start_time": "2022-02-18T08:16:33.474Z"
   },
   {
    "duration": 9,
    "start_time": "2022-02-18T08:21:38.241Z"
   },
   {
    "duration": 1508,
    "start_time": "2022-02-18T08:21:44.725Z"
   },
   {
    "duration": 387,
    "start_time": "2022-02-18T08:21:46.236Z"
   },
   {
    "duration": 9,
    "start_time": "2022-02-18T08:21:46.628Z"
   },
   {
    "duration": 16,
    "start_time": "2022-02-18T08:21:46.640Z"
   },
   {
    "duration": 11,
    "start_time": "2022-02-18T08:21:46.659Z"
   },
   {
    "duration": 44,
    "start_time": "2022-02-18T08:21:46.672Z"
   },
   {
    "duration": 23,
    "start_time": "2022-02-18T08:21:46.718Z"
   },
   {
    "duration": 13,
    "start_time": "2022-02-18T08:21:46.743Z"
   },
   {
    "duration": 21,
    "start_time": "2022-02-18T08:21:46.760Z"
   },
   {
    "duration": 24,
    "start_time": "2022-02-18T08:21:46.811Z"
   },
   {
    "duration": 14,
    "start_time": "2022-02-18T08:21:46.838Z"
   },
   {
    "duration": 8,
    "start_time": "2022-02-18T08:21:46.854Z"
   },
   {
    "duration": 8,
    "start_time": "2022-02-18T08:21:46.865Z"
   },
   {
    "duration": 19,
    "start_time": "2022-02-18T08:21:46.919Z"
   },
   {
    "duration": 6,
    "start_time": "2022-02-18T08:21:46.940Z"
   },
   {
    "duration": 7,
    "start_time": "2022-02-18T08:21:46.948Z"
   },
   {
    "duration": 9,
    "start_time": "2022-02-18T08:21:46.957Z"
   },
   {
    "duration": 7,
    "start_time": "2022-02-18T08:21:46.968Z"
   },
   {
    "duration": 104,
    "start_time": "2022-02-18T08:21:46.977Z"
   },
   {
    "duration": 6,
    "start_time": "2022-02-18T08:21:47.083Z"
   },
   {
    "duration": 27,
    "start_time": "2022-02-18T08:21:47.091Z"
   },
   {
    "duration": 11,
    "start_time": "2022-02-18T08:21:47.121Z"
   },
   {
    "duration": 9,
    "start_time": "2022-02-18T08:21:47.135Z"
   },
   {
    "duration": 25,
    "start_time": "2022-02-18T08:21:47.147Z"
   },
   {
    "duration": 46,
    "start_time": "2022-02-18T08:21:47.175Z"
   },
   {
    "duration": 16,
    "start_time": "2022-02-18T08:21:47.224Z"
   },
   {
    "duration": 33,
    "start_time": "2022-02-18T08:21:47.249Z"
   },
   {
    "duration": 8,
    "start_time": "2022-02-18T08:21:47.321Z"
   },
   {
    "duration": 33,
    "start_time": "2022-02-18T08:21:47.332Z"
   },
   {
    "duration": 81,
    "start_time": "2022-02-18T08:21:47.368Z"
   },
   {
    "duration": 15,
    "start_time": "2022-02-18T08:21:47.452Z"
   },
   {
    "duration": 41,
    "start_time": "2022-02-18T08:21:47.469Z"
   },
   {
    "duration": 10,
    "start_time": "2022-02-18T08:21:47.512Z"
   },
   {
    "duration": 30,
    "start_time": "2022-02-18T08:21:47.527Z"
   },
   {
    "duration": 22,
    "start_time": "2022-02-18T08:21:47.559Z"
   },
   {
    "duration": 31,
    "start_time": "2022-02-18T08:21:47.583Z"
   },
   {
    "duration": 31,
    "start_time": "2022-02-18T08:21:47.616Z"
   },
   {
    "duration": 21,
    "start_time": "2022-02-18T08:21:47.650Z"
   },
   {
    "duration": 55,
    "start_time": "2022-02-18T08:21:47.673Z"
   },
   {
    "duration": 12,
    "start_time": "2022-02-18T08:21:47.730Z"
   },
   {
    "duration": 12,
    "start_time": "2022-02-18T08:21:47.744Z"
   },
   {
    "duration": 13,
    "start_time": "2022-02-18T08:21:47.758Z"
   },
   {
    "duration": 66,
    "start_time": "2022-02-18T08:21:47.773Z"
   },
   {
    "duration": 15,
    "start_time": "2022-02-18T08:21:47.842Z"
   },
   {
    "duration": 70,
    "start_time": "2022-02-18T08:21:47.859Z"
   },
   {
    "duration": 20,
    "start_time": "2022-02-18T08:21:47.932Z"
   },
   {
    "duration": 6,
    "start_time": "2022-02-18T08:21:47.955Z"
   },
   {
    "duration": 12,
    "start_time": "2022-02-18T08:21:47.964Z"
   },
   {
    "duration": 48,
    "start_time": "2022-02-18T08:21:47.979Z"
   },
   {
    "duration": 1284,
    "start_time": "2022-02-18T08:21:48.029Z"
   },
   {
    "duration": 220,
    "start_time": "2022-02-18T08:21:49.318Z"
   },
   {
    "duration": 241,
    "start_time": "2022-02-18T08:21:49.540Z"
   },
   {
    "duration": 11,
    "start_time": "2022-02-18T08:21:49.783Z"
   },
   {
    "duration": 11,
    "start_time": "2022-02-18T08:21:49.812Z"
   },
   {
    "duration": 22,
    "start_time": "2022-02-18T08:21:49.825Z"
   },
   {
    "duration": 1338,
    "start_time": "2022-02-18T08:21:49.850Z"
   },
   {
    "duration": 210,
    "start_time": "2022-02-18T08:21:51.190Z"
   },
   {
    "duration": 226,
    "start_time": "2022-02-18T08:21:51.403Z"
   },
   {
    "duration": 11,
    "start_time": "2022-02-18T08:21:51.631Z"
   },
   {
    "duration": 7,
    "start_time": "2022-02-18T08:21:51.645Z"
   },
   {
    "duration": 1185,
    "start_time": "2022-02-18T08:21:51.654Z"
   },
   {
    "duration": 254,
    "start_time": "2022-02-18T08:21:52.841Z"
   },
   {
    "duration": 322,
    "start_time": "2022-02-18T08:21:53.098Z"
   },
   {
    "duration": 4,
    "start_time": "2022-02-18T08:21:53.422Z"
   },
   {
    "duration": 7,
    "start_time": "2022-02-18T08:21:53.429Z"
   },
   {
    "duration": 169,
    "start_time": "2022-02-18T08:21:53.438Z"
   },
   {
    "duration": 1037,
    "start_time": "2022-02-18T08:21:53.610Z"
   },
   {
    "duration": 1057,
    "start_time": "2022-02-18T08:21:54.649Z"
   },
   {
    "duration": 11,
    "start_time": "2022-02-18T08:21:55.710Z"
   },
   {
    "duration": 13,
    "start_time": "2022-02-18T08:21:55.723Z"
   },
   {
    "duration": 7,
    "start_time": "2022-02-18T08:21:55.738Z"
   },
   {
    "duration": 5,
    "start_time": "2022-02-18T08:21:55.747Z"
   },
   {
    "duration": 102,
    "start_time": "2022-02-18T08:21:55.754Z"
   },
   {
    "duration": 20,
    "start_time": "2022-02-18T08:21:55.858Z"
   },
   {
    "duration": 43,
    "start_time": "2022-02-18T08:21:55.880Z"
   },
   {
    "duration": 14,
    "start_time": "2022-02-18T08:21:55.930Z"
   },
   {
    "duration": 10,
    "start_time": "2022-02-18T08:21:55.947Z"
   },
   {
    "duration": 11,
    "start_time": "2022-02-18T08:22:55.407Z"
   },
   {
    "duration": 6,
    "start_time": "2022-02-18T08:23:33.754Z"
   },
   {
    "duration": 13,
    "start_time": "2022-02-18T08:27:31.138Z"
   },
   {
    "duration": 8718,
    "start_time": "2022-02-18T08:28:38.103Z"
   },
   {
    "duration": 124,
    "start_time": "2022-02-18T08:28:50.582Z"
   },
   {
    "duration": 12,
    "start_time": "2022-02-18T08:28:55.881Z"
   },
   {
    "duration": 9,
    "start_time": "2022-02-18T08:32:54.807Z"
   },
   {
    "duration": 8964,
    "start_time": "2022-02-18T08:33:47.170Z"
   },
   {
    "duration": 1660,
    "start_time": "2022-02-18T08:33:59.451Z"
   },
   {
    "duration": 538,
    "start_time": "2022-02-18T08:34:01.114Z"
   },
   {
    "duration": 7,
    "start_time": "2022-02-18T08:34:01.655Z"
   },
   {
    "duration": 21,
    "start_time": "2022-02-18T08:34:01.664Z"
   },
   {
    "duration": 11,
    "start_time": "2022-02-18T08:34:01.688Z"
   },
   {
    "duration": 14,
    "start_time": "2022-02-18T08:34:01.702Z"
   },
   {
    "duration": 30,
    "start_time": "2022-02-18T08:34:01.718Z"
   },
   {
    "duration": 12,
    "start_time": "2022-02-18T08:34:01.753Z"
   },
   {
    "duration": 21,
    "start_time": "2022-02-18T08:34:01.768Z"
   },
   {
    "duration": 20,
    "start_time": "2022-02-18T08:34:01.791Z"
   },
   {
    "duration": 17,
    "start_time": "2022-02-18T08:34:01.814Z"
   },
   {
    "duration": 13,
    "start_time": "2022-02-18T08:34:01.834Z"
   },
   {
    "duration": 65,
    "start_time": "2022-02-18T08:34:01.850Z"
   },
   {
    "duration": 12,
    "start_time": "2022-02-18T08:34:01.918Z"
   },
   {
    "duration": 6,
    "start_time": "2022-02-18T08:34:01.933Z"
   },
   {
    "duration": 11,
    "start_time": "2022-02-18T08:34:01.941Z"
   },
   {
    "duration": 12,
    "start_time": "2022-02-18T08:34:01.954Z"
   },
   {
    "duration": 43,
    "start_time": "2022-02-18T08:34:01.969Z"
   },
   {
    "duration": 194,
    "start_time": "2022-02-18T08:34:02.016Z"
   },
   {
    "duration": 8,
    "start_time": "2022-02-18T08:34:02.214Z"
   },
   {
    "duration": 9,
    "start_time": "2022-02-18T08:34:02.225Z"
   },
   {
    "duration": 9,
    "start_time": "2022-02-18T08:34:02.237Z"
   },
   {
    "duration": 7,
    "start_time": "2022-02-18T08:34:02.248Z"
   },
   {
    "duration": 27,
    "start_time": "2022-02-18T08:34:02.257Z"
   },
   {
    "duration": 11,
    "start_time": "2022-02-18T08:34:02.286Z"
   },
   {
    "duration": 9,
    "start_time": "2022-02-18T08:34:02.304Z"
   },
   {
    "duration": 7,
    "start_time": "2022-02-18T08:34:02.317Z"
   },
   {
    "duration": 38,
    "start_time": "2022-02-18T08:34:02.327Z"
   },
   {
    "duration": 59,
    "start_time": "2022-02-18T08:34:02.367Z"
   },
   {
    "duration": 13,
    "start_time": "2022-02-18T08:34:02.428Z"
   },
   {
    "duration": 31,
    "start_time": "2022-02-18T08:34:02.444Z"
   },
   {
    "duration": 6,
    "start_time": "2022-02-18T08:34:02.477Z"
   },
   {
    "duration": 36,
    "start_time": "2022-02-18T08:34:02.486Z"
   },
   {
    "duration": 25,
    "start_time": "2022-02-18T08:34:02.524Z"
   },
   {
    "duration": 6,
    "start_time": "2022-02-18T08:34:02.552Z"
   },
   {
    "duration": 32,
    "start_time": "2022-02-18T08:34:02.561Z"
   },
   {
    "duration": 33,
    "start_time": "2022-02-18T08:34:02.595Z"
   },
   {
    "duration": 12,
    "start_time": "2022-02-18T08:34:02.630Z"
   },
   {
    "duration": 13,
    "start_time": "2022-02-18T08:34:02.644Z"
   },
   {
    "duration": 16,
    "start_time": "2022-02-18T08:34:02.659Z"
   },
   {
    "duration": 11,
    "start_time": "2022-02-18T08:34:02.677Z"
   },
   {
    "duration": 42,
    "start_time": "2022-02-18T08:34:02.690Z"
   },
   {
    "duration": 13,
    "start_time": "2022-02-18T08:34:02.734Z"
   },
   {
    "duration": 47,
    "start_time": "2022-02-18T08:34:02.750Z"
   },
   {
    "duration": 23,
    "start_time": "2022-02-18T08:34:02.799Z"
   },
   {
    "duration": 7,
    "start_time": "2022-02-18T08:34:02.824Z"
   },
   {
    "duration": 11,
    "start_time": "2022-02-18T08:34:02.833Z"
   },
   {
    "duration": 7,
    "start_time": "2022-02-18T08:34:02.846Z"
   },
   {
    "duration": 1184,
    "start_time": "2022-02-18T08:34:02.856Z"
   },
   {
    "duration": 294,
    "start_time": "2022-02-18T08:34:04.043Z"
   },
   {
    "duration": 292,
    "start_time": "2022-02-18T08:34:04.340Z"
   },
   {
    "duration": 11,
    "start_time": "2022-02-18T08:34:04.635Z"
   },
   {
    "duration": 64,
    "start_time": "2022-02-18T08:34:04.649Z"
   },
   {
    "duration": 13,
    "start_time": "2022-02-18T08:34:04.715Z"
   },
   {
    "duration": 1709,
    "start_time": "2022-02-18T08:34:04.731Z"
   },
   {
    "duration": 208,
    "start_time": "2022-02-18T08:34:06.443Z"
   },
   {
    "duration": 213,
    "start_time": "2022-02-18T08:34:06.654Z"
   },
   {
    "duration": 11,
    "start_time": "2022-02-18T08:34:06.869Z"
   },
   {
    "duration": 8,
    "start_time": "2022-02-18T08:34:06.882Z"
   },
   {
    "duration": 1100,
    "start_time": "2022-02-18T08:34:06.911Z"
   },
   {
    "duration": 227,
    "start_time": "2022-02-18T08:34:08.013Z"
   },
   {
    "duration": 315,
    "start_time": "2022-02-18T08:34:08.242Z"
   },
   {
    "duration": 4,
    "start_time": "2022-02-18T08:34:08.560Z"
   },
   {
    "duration": 7,
    "start_time": "2022-02-18T08:34:08.566Z"
   },
   {
    "duration": 172,
    "start_time": "2022-02-18T08:34:08.577Z"
   },
   {
    "duration": 989,
    "start_time": "2022-02-18T08:34:08.752Z"
   },
   {
    "duration": 1139,
    "start_time": "2022-02-18T08:34:09.744Z"
   },
   {
    "duration": 7,
    "start_time": "2022-02-18T08:34:10.885Z"
   },
   {
    "duration": 10,
    "start_time": "2022-02-18T08:34:10.910Z"
   },
   {
    "duration": 9,
    "start_time": "2022-02-18T08:34:10.922Z"
   },
   {
    "duration": 9,
    "start_time": "2022-02-18T08:34:10.934Z"
   },
   {
    "duration": 70,
    "start_time": "2022-02-18T08:34:10.945Z"
   },
   {
    "duration": 19,
    "start_time": "2022-02-18T08:34:11.017Z"
   },
   {
    "duration": 20,
    "start_time": "2022-02-18T08:34:11.038Z"
   },
   {
    "duration": 13,
    "start_time": "2022-02-18T08:34:11.061Z"
   },
   {
    "duration": 9,
    "start_time": "2022-02-18T08:34:11.110Z"
   },
   {
    "duration": 25,
    "start_time": "2022-02-18T08:34:57.912Z"
   },
   {
    "duration": 28,
    "start_time": "2022-02-18T08:35:36.773Z"
   },
   {
    "duration": 44,
    "start_time": "2022-02-18T08:35:49.697Z"
   },
   {
    "duration": 54,
    "start_time": "2022-02-18T08:37:13.555Z"
   },
   {
    "duration": 63,
    "start_time": "2022-02-18T08:37:25.272Z"
   },
   {
    "duration": 498,
    "start_time": "2022-02-18T08:38:44.944Z"
   },
   {
    "duration": 9,
    "start_time": "2022-02-18T08:39:02.111Z"
   },
   {
    "duration": 12,
    "start_time": "2022-02-18T08:39:48.091Z"
   },
   {
    "duration": 30,
    "start_time": "2022-02-18T08:39:52.536Z"
   },
   {
    "duration": 13,
    "start_time": "2022-02-18T08:40:16.606Z"
   },
   {
    "duration": 19,
    "start_time": "2022-02-18T08:41:21.874Z"
   },
   {
    "duration": 61,
    "start_time": "2022-02-18T08:41:56.950Z"
   },
   {
    "duration": 6,
    "start_time": "2022-02-18T08:47:25.496Z"
   },
   {
    "duration": 9604,
    "start_time": "2022-02-18T08:47:32.271Z"
   },
   {
    "duration": 5,
    "start_time": "2022-02-18T08:47:45.655Z"
   },
   {
    "duration": 7,
    "start_time": "2022-02-18T08:47:52.746Z"
   },
   {
    "duration": 6,
    "start_time": "2022-02-18T08:47:56.756Z"
   },
   {
    "duration": 6,
    "start_time": "2022-02-18T08:48:01.449Z"
   },
   {
    "duration": 6,
    "start_time": "2022-02-18T08:48:17.387Z"
   },
   {
    "duration": 8,
    "start_time": "2022-02-18T08:48:29.657Z"
   },
   {
    "duration": 6,
    "start_time": "2022-02-18T08:49:04.743Z"
   },
   {
    "duration": 48,
    "start_time": "2022-02-18T08:49:13.782Z"
   },
   {
    "duration": 7,
    "start_time": "2022-02-18T08:49:27.975Z"
   },
   {
    "duration": 1540,
    "start_time": "2022-02-18T08:50:05.766Z"
   },
   {
    "duration": 364,
    "start_time": "2022-02-18T08:50:07.309Z"
   },
   {
    "duration": 8,
    "start_time": "2022-02-18T08:50:07.675Z"
   },
   {
    "duration": 20,
    "start_time": "2022-02-18T08:50:07.685Z"
   },
   {
    "duration": 11,
    "start_time": "2022-02-18T08:50:07.707Z"
   },
   {
    "duration": 11,
    "start_time": "2022-02-18T08:50:07.720Z"
   },
   {
    "duration": 14,
    "start_time": "2022-02-18T08:50:07.733Z"
   },
   {
    "duration": 12,
    "start_time": "2022-02-18T08:50:07.751Z"
   },
   {
    "duration": 61,
    "start_time": "2022-02-18T08:50:07.765Z"
   },
   {
    "duration": 20,
    "start_time": "2022-02-18T08:50:07.828Z"
   },
   {
    "duration": 15,
    "start_time": "2022-02-18T08:50:07.850Z"
   },
   {
    "duration": 43,
    "start_time": "2022-02-18T08:50:07.867Z"
   },
   {
    "duration": 11,
    "start_time": "2022-02-18T08:50:07.913Z"
   },
   {
    "duration": 18,
    "start_time": "2022-02-18T08:50:07.927Z"
   },
   {
    "duration": 7,
    "start_time": "2022-02-18T08:50:07.948Z"
   },
   {
    "duration": 9,
    "start_time": "2022-02-18T08:50:07.958Z"
   },
   {
    "duration": 45,
    "start_time": "2022-02-18T08:50:07.969Z"
   },
   {
    "duration": 7,
    "start_time": "2022-02-18T08:50:08.017Z"
   },
   {
    "duration": 87,
    "start_time": "2022-02-18T08:50:08.026Z"
   },
   {
    "duration": 6,
    "start_time": "2022-02-18T08:50:08.116Z"
   },
   {
    "duration": 7,
    "start_time": "2022-02-18T08:50:08.124Z"
   },
   {
    "duration": 7,
    "start_time": "2022-02-18T08:50:08.133Z"
   },
   {
    "duration": 8,
    "start_time": "2022-02-18T08:50:08.148Z"
   },
   {
    "duration": 69,
    "start_time": "2022-02-18T08:50:08.160Z"
   },
   {
    "duration": 10,
    "start_time": "2022-02-18T08:50:08.232Z"
   },
   {
    "duration": 6,
    "start_time": "2022-02-18T08:50:08.244Z"
   },
   {
    "duration": 6,
    "start_time": "2022-02-18T08:50:08.252Z"
   },
   {
    "duration": 78,
    "start_time": "2022-02-18T08:50:08.261Z"
   },
   {
    "duration": 46,
    "start_time": "2022-02-18T08:50:08.342Z"
   },
   {
    "duration": 32,
    "start_time": "2022-02-18T08:50:08.391Z"
   },
   {
    "duration": 30,
    "start_time": "2022-02-18T08:50:08.426Z"
   },
   {
    "duration": 7,
    "start_time": "2022-02-18T08:50:08.459Z"
   },
   {
    "duration": 65,
    "start_time": "2022-02-18T08:50:08.469Z"
   },
   {
    "duration": 28,
    "start_time": "2022-02-18T08:50:08.537Z"
   },
   {
    "duration": 7,
    "start_time": "2022-02-18T08:50:08.569Z"
   },
   {
    "duration": 34,
    "start_time": "2022-02-18T08:50:08.612Z"
   },
   {
    "duration": 27,
    "start_time": "2022-02-18T08:50:08.649Z"
   },
   {
    "duration": 43,
    "start_time": "2022-02-18T08:50:08.678Z"
   },
   {
    "duration": 15,
    "start_time": "2022-02-18T08:50:08.725Z"
   },
   {
    "duration": 13,
    "start_time": "2022-02-18T08:50:08.742Z"
   },
   {
    "duration": 57,
    "start_time": "2022-02-18T08:50:08.757Z"
   },
   {
    "duration": 6,
    "start_time": "2022-02-18T08:50:08.816Z"
   },
   {
    "duration": 28,
    "start_time": "2022-02-18T08:50:08.824Z"
   },
   {
    "duration": 73,
    "start_time": "2022-02-18T08:50:08.854Z"
   },
   {
    "duration": 14,
    "start_time": "2022-02-18T08:50:08.930Z"
   },
   {
    "duration": 6,
    "start_time": "2022-02-18T08:50:08.946Z"
   },
   {
    "duration": 12,
    "start_time": "2022-02-18T08:50:08.954Z"
   },
   {
    "duration": 7,
    "start_time": "2022-02-18T08:50:08.969Z"
   },
   {
    "duration": 1160,
    "start_time": "2022-02-18T08:50:08.978Z"
   },
   {
    "duration": 229,
    "start_time": "2022-02-18T08:50:10.140Z"
   },
   {
    "duration": 209,
    "start_time": "2022-02-18T08:50:10.372Z"
   },
   {
    "duration": 10,
    "start_time": "2022-02-18T08:50:10.584Z"
   },
   {
    "duration": 7,
    "start_time": "2022-02-18T08:50:10.611Z"
   },
   {
    "duration": 10,
    "start_time": "2022-02-18T08:50:10.620Z"
   },
   {
    "duration": 1198,
    "start_time": "2022-02-18T08:50:10.632Z"
   },
   {
    "duration": 229,
    "start_time": "2022-02-18T08:50:11.833Z"
   },
   {
    "duration": 219,
    "start_time": "2022-02-18T08:50:12.065Z"
   },
   {
    "duration": 25,
    "start_time": "2022-02-18T08:50:12.287Z"
   },
   {
    "duration": 8,
    "start_time": "2022-02-18T08:50:12.315Z"
   },
   {
    "duration": 1175,
    "start_time": "2022-02-18T08:50:12.326Z"
   },
   {
    "duration": 230,
    "start_time": "2022-02-18T08:50:13.510Z"
   },
   {
    "duration": 293,
    "start_time": "2022-02-18T08:50:13.743Z"
   },
   {
    "duration": 3,
    "start_time": "2022-02-18T08:50:14.039Z"
   },
   {
    "duration": 7,
    "start_time": "2022-02-18T08:50:14.044Z"
   },
   {
    "duration": 159,
    "start_time": "2022-02-18T08:50:14.053Z"
   },
   {
    "duration": 1008,
    "start_time": "2022-02-18T08:50:14.214Z"
   },
   {
    "duration": 985,
    "start_time": "2022-02-18T08:50:15.225Z"
   },
   {
    "duration": 9,
    "start_time": "2022-02-18T08:50:16.217Z"
   },
   {
    "duration": 13,
    "start_time": "2022-02-18T08:50:16.229Z"
   },
   {
    "duration": 3,
    "start_time": "2022-02-18T08:50:16.244Z"
   },
   {
    "duration": 4,
    "start_time": "2022-02-18T08:50:16.250Z"
   },
   {
    "duration": 91,
    "start_time": "2022-02-18T08:50:16.256Z"
   },
   {
    "duration": 17,
    "start_time": "2022-02-18T08:50:16.349Z"
   },
   {
    "duration": 17,
    "start_time": "2022-02-18T08:50:16.369Z"
   },
   {
    "duration": 8,
    "start_time": "2022-02-18T08:50:16.411Z"
   },
   {
    "duration": 11,
    "start_time": "2022-02-18T08:50:16.422Z"
   },
   {
    "duration": 9,
    "start_time": "2022-02-18T09:06:46.143Z"
   },
   {
    "duration": 1199,
    "start_time": "2022-02-18T09:06:49.350Z"
   },
   {
    "duration": 111,
    "start_time": "2022-02-18T10:24:30.632Z"
   },
   {
    "duration": 1141,
    "start_time": "2022-02-18T10:24:33.084Z"
   },
   {
    "duration": 18,
    "start_time": "2022-02-18T10:29:53.231Z"
   },
   {
    "duration": 1791,
    "start_time": "2022-02-18T10:39:28.157Z"
   },
   {
    "duration": 575,
    "start_time": "2022-02-18T10:39:29.951Z"
   },
   {
    "duration": 9,
    "start_time": "2022-02-18T10:39:30.529Z"
   },
   {
    "duration": 29,
    "start_time": "2022-02-18T10:39:30.542Z"
   },
   {
    "duration": 18,
    "start_time": "2022-02-18T10:39:30.611Z"
   },
   {
    "duration": 24,
    "start_time": "2022-02-18T10:39:30.632Z"
   },
   {
    "duration": 52,
    "start_time": "2022-02-18T10:39:30.659Z"
   },
   {
    "duration": 13,
    "start_time": "2022-02-18T10:39:30.715Z"
   },
   {
    "duration": 80,
    "start_time": "2022-02-18T10:39:30.731Z"
   },
   {
    "duration": 19,
    "start_time": "2022-02-18T10:39:30.814Z"
   },
   {
    "duration": 18,
    "start_time": "2022-02-18T10:39:30.835Z"
   },
   {
    "duration": 61,
    "start_time": "2022-02-18T10:39:30.856Z"
   },
   {
    "duration": 19,
    "start_time": "2022-02-18T10:39:30.920Z"
   },
   {
    "duration": 35,
    "start_time": "2022-02-18T10:39:30.942Z"
   },
   {
    "duration": 8,
    "start_time": "2022-02-18T10:39:30.980Z"
   },
   {
    "duration": 18,
    "start_time": "2022-02-18T10:39:30.990Z"
   },
   {
    "duration": 19,
    "start_time": "2022-02-18T10:39:31.011Z"
   },
   {
    "duration": 22,
    "start_time": "2022-02-18T10:39:31.032Z"
   },
   {
    "duration": 125,
    "start_time": "2022-02-18T10:39:31.058Z"
   },
   {
    "duration": 8,
    "start_time": "2022-02-18T10:39:31.187Z"
   },
   {
    "duration": 18,
    "start_time": "2022-02-18T10:39:31.198Z"
   },
   {
    "duration": 15,
    "start_time": "2022-02-18T10:39:31.218Z"
   },
   {
    "duration": 24,
    "start_time": "2022-02-18T10:39:31.239Z"
   },
   {
    "duration": 28,
    "start_time": "2022-02-18T10:39:31.266Z"
   },
   {
    "duration": 13,
    "start_time": "2022-02-18T10:39:31.296Z"
   },
   {
    "duration": 9,
    "start_time": "2022-02-18T10:39:31.311Z"
   },
   {
    "duration": 13,
    "start_time": "2022-02-18T10:39:31.323Z"
   },
   {
    "duration": 48,
    "start_time": "2022-02-18T10:39:31.339Z"
   },
   {
    "duration": 50,
    "start_time": "2022-02-18T10:39:31.389Z"
   },
   {
    "duration": 14,
    "start_time": "2022-02-18T10:39:31.442Z"
   },
   {
    "duration": 29,
    "start_time": "2022-02-18T10:39:31.458Z"
   },
   {
    "duration": 6,
    "start_time": "2022-02-18T10:39:31.489Z"
   },
   {
    "duration": 50,
    "start_time": "2022-02-18T10:39:31.497Z"
   },
   {
    "duration": 31,
    "start_time": "2022-02-18T10:39:31.549Z"
   },
   {
    "duration": 6,
    "start_time": "2022-02-18T10:39:31.582Z"
   },
   {
    "duration": 33,
    "start_time": "2022-02-18T10:39:31.591Z"
   },
   {
    "duration": 24,
    "start_time": "2022-02-18T10:39:31.627Z"
   },
   {
    "duration": 67,
    "start_time": "2022-02-18T10:39:31.653Z"
   },
   {
    "duration": 12,
    "start_time": "2022-02-18T10:39:31.723Z"
   },
   {
    "duration": 12,
    "start_time": "2022-02-18T10:39:31.737Z"
   },
   {
    "duration": 70,
    "start_time": "2022-02-18T10:39:31.752Z"
   },
   {
    "duration": 13,
    "start_time": "2022-02-18T10:39:31.824Z"
   },
   {
    "duration": 83,
    "start_time": "2022-02-18T10:39:31.839Z"
   },
   {
    "duration": 106,
    "start_time": "2022-02-18T10:39:31.924Z"
   },
   {
    "duration": 15,
    "start_time": "2022-02-18T10:39:32.032Z"
   },
   {
    "duration": 62,
    "start_time": "2022-02-18T10:39:32.050Z"
   },
   {
    "duration": 11,
    "start_time": "2022-02-18T10:39:32.114Z"
   },
   {
    "duration": 9,
    "start_time": "2022-02-18T10:39:32.127Z"
   },
   {
    "duration": 1193,
    "start_time": "2022-02-18T10:39:32.139Z"
   },
   {
    "duration": 230,
    "start_time": "2022-02-18T10:39:33.335Z"
   },
   {
    "duration": 225,
    "start_time": "2022-02-18T10:39:33.568Z"
   },
   {
    "duration": 24,
    "start_time": "2022-02-18T10:39:33.795Z"
   },
   {
    "duration": 9,
    "start_time": "2022-02-18T10:39:33.821Z"
   },
   {
    "duration": 15,
    "start_time": "2022-02-18T10:39:33.833Z"
   },
   {
    "duration": 1287,
    "start_time": "2022-02-18T10:39:33.850Z"
   },
   {
    "duration": 228,
    "start_time": "2022-02-18T10:39:35.140Z"
   },
   {
    "duration": 224,
    "start_time": "2022-02-18T10:39:35.370Z"
   },
   {
    "duration": 22,
    "start_time": "2022-02-18T10:39:35.596Z"
   },
   {
    "duration": 9,
    "start_time": "2022-02-18T10:39:35.620Z"
   },
   {
    "duration": 1165,
    "start_time": "2022-02-18T10:39:35.631Z"
   },
   {
    "duration": 242,
    "start_time": "2022-02-18T10:39:36.799Z"
   },
   {
    "duration": 306,
    "start_time": "2022-02-18T10:39:37.044Z"
   },
   {
    "duration": 115,
    "start_time": "2022-02-18T10:39:37.353Z"
   },
   {
    "duration": -3,
    "start_time": "2022-02-18T10:39:37.475Z"
   },
   {
    "duration": -5,
    "start_time": "2022-02-18T10:39:37.479Z"
   },
   {
    "duration": -9,
    "start_time": "2022-02-18T10:39:37.485Z"
   },
   {
    "duration": -10,
    "start_time": "2022-02-18T10:39:37.489Z"
   },
   {
    "duration": -12,
    "start_time": "2022-02-18T10:39:37.493Z"
   },
   {
    "duration": -14,
    "start_time": "2022-02-18T10:39:37.497Z"
   },
   {
    "duration": -18,
    "start_time": "2022-02-18T10:39:37.504Z"
   },
   {
    "duration": -19,
    "start_time": "2022-02-18T10:39:37.507Z"
   },
   {
    "duration": -22,
    "start_time": "2022-02-18T10:39:37.512Z"
   },
   {
    "duration": -25,
    "start_time": "2022-02-18T10:39:37.517Z"
   },
   {
    "duration": -27,
    "start_time": "2022-02-18T10:39:37.522Z"
   },
   {
    "duration": -27,
    "start_time": "2022-02-18T10:39:37.524Z"
   },
   {
    "duration": -29,
    "start_time": "2022-02-18T10:39:37.528Z"
   },
   {
    "duration": -30,
    "start_time": "2022-02-18T10:39:37.531Z"
   },
   {
    "duration": 1616,
    "start_time": "2022-02-18T10:51:42.768Z"
   },
   {
    "duration": 389,
    "start_time": "2022-02-18T10:51:44.387Z"
   },
   {
    "duration": 7,
    "start_time": "2022-02-18T10:51:44.779Z"
   },
   {
    "duration": 17,
    "start_time": "2022-02-18T10:51:44.788Z"
   },
   {
    "duration": 11,
    "start_time": "2022-02-18T10:51:44.807Z"
   },
   {
    "duration": 12,
    "start_time": "2022-02-18T10:51:44.821Z"
   },
   {
    "duration": 16,
    "start_time": "2022-02-18T10:51:44.836Z"
   },
   {
    "duration": 13,
    "start_time": "2022-02-18T10:51:44.856Z"
   },
   {
    "duration": 57,
    "start_time": "2022-02-18T10:51:44.872Z"
   },
   {
    "duration": 19,
    "start_time": "2022-02-18T10:51:44.932Z"
   },
   {
    "duration": 15,
    "start_time": "2022-02-18T10:51:44.953Z"
   },
   {
    "duration": 42,
    "start_time": "2022-02-18T10:51:44.971Z"
   },
   {
    "duration": 11,
    "start_time": "2022-02-18T10:51:45.016Z"
   },
   {
    "duration": 21,
    "start_time": "2022-02-18T10:51:45.029Z"
   },
   {
    "duration": 6,
    "start_time": "2022-02-18T10:51:45.052Z"
   },
   {
    "duration": 8,
    "start_time": "2022-02-18T10:51:45.060Z"
   },
   {
    "duration": 42,
    "start_time": "2022-02-18T10:51:45.070Z"
   },
   {
    "duration": 8,
    "start_time": "2022-02-18T10:51:45.115Z"
   },
   {
    "duration": 96,
    "start_time": "2022-02-18T10:51:45.126Z"
   },
   {
    "duration": 7,
    "start_time": "2022-02-18T10:51:45.225Z"
   },
   {
    "duration": 9,
    "start_time": "2022-02-18T10:51:45.235Z"
   },
   {
    "duration": 7,
    "start_time": "2022-02-18T10:51:45.246Z"
   },
   {
    "duration": 49,
    "start_time": "2022-02-18T10:51:45.260Z"
   },
   {
    "duration": 23,
    "start_time": "2022-02-18T10:51:45.313Z"
   },
   {
    "duration": 10,
    "start_time": "2022-02-18T10:51:45.339Z"
   },
   {
    "duration": 4,
    "start_time": "2022-02-18T10:51:45.351Z"
   },
   {
    "duration": 7,
    "start_time": "2022-02-18T10:51:45.357Z"
   },
   {
    "duration": 80,
    "start_time": "2022-02-18T10:51:45.367Z"
   },
   {
    "duration": 71,
    "start_time": "2022-02-18T10:51:45.450Z"
   },
   {
    "duration": 18,
    "start_time": "2022-02-18T10:51:45.524Z"
   },
   {
    "duration": 29,
    "start_time": "2022-02-18T10:51:45.545Z"
   },
   {
    "duration": 6,
    "start_time": "2022-02-18T10:51:45.612Z"
   },
   {
    "duration": 27,
    "start_time": "2022-02-18T10:51:45.621Z"
   },
   {
    "duration": 26,
    "start_time": "2022-02-18T10:51:45.651Z"
   },
   {
    "duration": 35,
    "start_time": "2022-02-18T10:51:45.679Z"
   },
   {
    "duration": 30,
    "start_time": "2022-02-18T10:51:45.717Z"
   },
   {
    "duration": 26,
    "start_time": "2022-02-18T10:51:45.749Z"
   },
   {
    "duration": 45,
    "start_time": "2022-02-18T10:51:45.777Z"
   },
   {
    "duration": 12,
    "start_time": "2022-02-18T10:51:45.825Z"
   },
   {
    "duration": 18,
    "start_time": "2022-02-18T10:51:45.839Z"
   },
   {
    "duration": 20,
    "start_time": "2022-02-18T10:51:45.859Z"
   },
   {
    "duration": 7,
    "start_time": "2022-02-18T10:51:45.910Z"
   },
   {
    "duration": 31,
    "start_time": "2022-02-18T10:51:45.919Z"
   },
   {
    "duration": 69,
    "start_time": "2022-02-18T10:51:45.952Z"
   },
   {
    "duration": 15,
    "start_time": "2022-02-18T10:51:46.024Z"
   },
   {
    "duration": 7,
    "start_time": "2022-02-18T10:51:46.042Z"
   },
   {
    "duration": 17,
    "start_time": "2022-02-18T10:51:46.051Z"
   },
   {
    "duration": 42,
    "start_time": "2022-02-18T10:51:46.070Z"
   },
   {
    "duration": 1078,
    "start_time": "2022-02-18T10:51:46.114Z"
   },
   {
    "duration": 209,
    "start_time": "2022-02-18T10:51:47.194Z"
   },
   {
    "duration": 208,
    "start_time": "2022-02-18T10:51:47.410Z"
   },
   {
    "duration": 12,
    "start_time": "2022-02-18T10:51:47.621Z"
   },
   {
    "duration": 8,
    "start_time": "2022-02-18T10:51:47.636Z"
   },
   {
    "duration": 14,
    "start_time": "2022-02-18T10:51:47.647Z"
   },
   {
    "duration": 1212,
    "start_time": "2022-02-18T10:51:47.663Z"
   },
   {
    "duration": 218,
    "start_time": "2022-02-18T10:51:48.877Z"
   },
   {
    "duration": 220,
    "start_time": "2022-02-18T10:51:49.098Z"
   },
   {
    "duration": 12,
    "start_time": "2022-02-18T10:51:49.321Z"
   },
   {
    "duration": 8,
    "start_time": "2022-02-18T10:51:49.335Z"
   },
   {
    "duration": 1123,
    "start_time": "2022-02-18T10:51:49.345Z"
   },
   {
    "duration": 225,
    "start_time": "2022-02-18T10:51:50.471Z"
   },
   {
    "duration": 296,
    "start_time": "2022-02-18T10:51:50.699Z"
   },
   {
    "duration": 117,
    "start_time": "2022-02-18T10:51:50.998Z"
   },
   {
    "duration": 41,
    "start_time": "2022-02-18T10:51:51.077Z"
   },
   {
    "duration": 38,
    "start_time": "2022-02-18T10:51:51.081Z"
   },
   {
    "duration": 35,
    "start_time": "2022-02-18T10:51:51.085Z"
   },
   {
    "duration": 33,
    "start_time": "2022-02-18T10:51:51.089Z"
   },
   {
    "duration": 17,
    "start_time": "2022-02-18T10:51:51.106Z"
   },
   {
    "duration": 15,
    "start_time": "2022-02-18T10:51:51.110Z"
   },
   {
    "duration": 12,
    "start_time": "2022-02-18T10:51:51.114Z"
   },
   {
    "duration": 10,
    "start_time": "2022-02-18T10:51:51.118Z"
   },
   {
    "duration": 8,
    "start_time": "2022-02-18T10:51:51.121Z"
   },
   {
    "duration": -11,
    "start_time": "2022-02-18T10:51:51.142Z"
   },
   {
    "duration": -11,
    "start_time": "2022-02-18T10:51:51.144Z"
   },
   {
    "duration": -14,
    "start_time": "2022-02-18T10:51:51.149Z"
   },
   {
    "duration": -16,
    "start_time": "2022-02-18T10:51:51.152Z"
   },
   {
    "duration": -32,
    "start_time": "2022-02-18T10:51:51.170Z"
   },
   {
    "duration": 13,
    "start_time": "2022-02-18T10:54:04.342Z"
   },
   {
    "duration": 7,
    "start_time": "2022-02-18T11:05:07.645Z"
   },
   {
    "duration": 139,
    "start_time": "2022-02-18T11:05:07.654Z"
   },
   {
    "duration": 958,
    "start_time": "2022-02-18T11:06:45.018Z"
   },
   {
    "duration": 498,
    "start_time": "2022-02-18T11:13:20.592Z"
   },
   {
    "duration": 11929,
    "start_time": "2022-02-18T11:14:59.487Z"
   },
   {
    "duration": 12,
    "start_time": "2022-02-18T11:15:53.664Z"
   },
   {
    "duration": 6,
    "start_time": "2022-02-18T11:18:12.233Z"
   },
   {
    "duration": 131,
    "start_time": "2022-02-18T11:18:13.620Z"
   },
   {
    "duration": 12,
    "start_time": "2022-02-18T11:18:15.801Z"
   },
   {
    "duration": 12,
    "start_time": "2022-02-18T11:18:27.560Z"
   },
   {
    "duration": 51,
    "start_time": "2022-02-18T11:25:52.480Z"
   },
   {
    "duration": 20,
    "start_time": "2022-02-18T11:25:58.208Z"
   },
   {
    "duration": 20,
    "start_time": "2022-02-18T11:26:41.842Z"
   },
   {
    "duration": 8,
    "start_time": "2022-02-18T11:27:06.784Z"
   },
   {
    "duration": 10,
    "start_time": "2022-02-18T11:27:44.949Z"
   },
   {
    "duration": 1579,
    "start_time": "2022-02-18T11:30:03.808Z"
   },
   {
    "duration": 425,
    "start_time": "2022-02-18T11:30:05.389Z"
   },
   {
    "duration": 6,
    "start_time": "2022-02-18T11:30:05.818Z"
   },
   {
    "duration": 22,
    "start_time": "2022-02-18T11:30:05.827Z"
   },
   {
    "duration": 15,
    "start_time": "2022-02-18T11:30:05.852Z"
   },
   {
    "duration": 44,
    "start_time": "2022-02-18T11:30:05.870Z"
   },
   {
    "duration": 20,
    "start_time": "2022-02-18T11:30:05.916Z"
   },
   {
    "duration": 15,
    "start_time": "2022-02-18T11:30:05.940Z"
   },
   {
    "duration": 24,
    "start_time": "2022-02-18T11:30:05.959Z"
   },
   {
    "duration": 18,
    "start_time": "2022-02-18T11:30:06.011Z"
   },
   {
    "duration": 15,
    "start_time": "2022-02-18T11:30:06.032Z"
   },
   {
    "duration": 9,
    "start_time": "2022-02-18T11:30:06.050Z"
   },
   {
    "duration": 12,
    "start_time": "2022-02-18T11:30:06.061Z"
   },
   {
    "duration": 19,
    "start_time": "2022-02-18T11:30:06.112Z"
   },
   {
    "duration": 6,
    "start_time": "2022-02-18T11:30:06.133Z"
   },
   {
    "duration": 8,
    "start_time": "2022-02-18T11:30:06.141Z"
   },
   {
    "duration": 10,
    "start_time": "2022-02-18T11:30:06.152Z"
   },
   {
    "duration": 9,
    "start_time": "2022-02-18T11:30:06.164Z"
   },
   {
    "duration": 69,
    "start_time": "2022-02-18T11:30:06.212Z"
   },
   {
    "duration": 6,
    "start_time": "2022-02-18T11:30:06.284Z"
   },
   {
    "duration": 7,
    "start_time": "2022-02-18T11:30:06.311Z"
   },
   {
    "duration": 7,
    "start_time": "2022-02-18T11:30:06.320Z"
   },
   {
    "duration": 6,
    "start_time": "2022-02-18T11:30:06.334Z"
   },
   {
    "duration": 24,
    "start_time": "2022-02-18T11:30:06.343Z"
   },
   {
    "duration": 11,
    "start_time": "2022-02-18T11:30:06.411Z"
   },
   {
    "duration": 5,
    "start_time": "2022-02-18T11:30:06.424Z"
   },
   {
    "duration": 8,
    "start_time": "2022-02-18T11:30:06.431Z"
   },
   {
    "duration": 75,
    "start_time": "2022-02-18T11:30:06.441Z"
   },
   {
    "duration": 50,
    "start_time": "2022-02-18T11:30:06.519Z"
   },
   {
    "duration": 14,
    "start_time": "2022-02-18T11:30:06.572Z"
   },
   {
    "duration": 29,
    "start_time": "2022-02-18T11:30:06.611Z"
   },
   {
    "duration": 6,
    "start_time": "2022-02-18T11:30:06.642Z"
   },
   {
    "duration": 29,
    "start_time": "2022-02-18T11:30:06.650Z"
   },
   {
    "duration": 28,
    "start_time": "2022-02-18T11:30:06.710Z"
   },
   {
    "duration": 6,
    "start_time": "2022-02-18T11:30:06.741Z"
   },
   {
    "duration": 62,
    "start_time": "2022-02-18T11:30:06.749Z"
   },
   {
    "duration": 25,
    "start_time": "2022-02-18T11:30:06.813Z"
   },
   {
    "duration": 14,
    "start_time": "2022-02-18T11:30:06.841Z"
   },
   {
    "duration": 13,
    "start_time": "2022-02-18T11:30:06.857Z"
   },
   {
    "duration": 49,
    "start_time": "2022-02-18T11:30:06.872Z"
   },
   {
    "duration": 16,
    "start_time": "2022-02-18T11:30:06.923Z"
   },
   {
    "duration": 6,
    "start_time": "2022-02-18T11:30:06.942Z"
   },
   {
    "duration": 64,
    "start_time": "2022-02-18T11:30:06.950Z"
   },
   {
    "duration": 43,
    "start_time": "2022-02-18T11:30:07.017Z"
   },
   {
    "duration": 15,
    "start_time": "2022-02-18T11:30:07.063Z"
   },
   {
    "duration": 32,
    "start_time": "2022-02-18T11:30:07.080Z"
   },
   {
    "duration": 12,
    "start_time": "2022-02-18T11:30:07.115Z"
   },
   {
    "duration": 11,
    "start_time": "2022-02-18T11:30:07.130Z"
   },
   {
    "duration": 1281,
    "start_time": "2022-02-18T11:30:07.144Z"
   },
   {
    "duration": 235,
    "start_time": "2022-02-18T11:30:08.427Z"
   },
   {
    "duration": 224,
    "start_time": "2022-02-18T11:30:08.665Z"
   },
   {
    "duration": 11,
    "start_time": "2022-02-18T11:30:08.891Z"
   },
   {
    "duration": 9,
    "start_time": "2022-02-18T11:30:08.912Z"
   },
   {
    "duration": 13,
    "start_time": "2022-02-18T11:30:08.924Z"
   },
   {
    "duration": 1298,
    "start_time": "2022-02-18T11:30:08.940Z"
   },
   {
    "duration": 209,
    "start_time": "2022-02-18T11:30:10.240Z"
   },
   {
    "duration": 213,
    "start_time": "2022-02-18T11:30:10.452Z"
   },
   {
    "duration": 12,
    "start_time": "2022-02-18T11:30:10.667Z"
   },
   {
    "duration": 7,
    "start_time": "2022-02-18T11:30:10.681Z"
   },
   {
    "duration": 19,
    "start_time": "2022-02-18T11:30:10.691Z"
   },
   {
    "duration": 1361,
    "start_time": "2022-02-18T11:30:10.713Z"
   },
   {
    "duration": 248,
    "start_time": "2022-02-18T11:30:12.077Z"
   },
   {
    "duration": 291,
    "start_time": "2022-02-18T11:30:12.327Z"
   },
   {
    "duration": 6,
    "start_time": "2022-02-18T11:30:12.621Z"
   },
   {
    "duration": 152,
    "start_time": "2022-02-18T11:30:12.629Z"
   },
   {
    "duration": 11,
    "start_time": "2022-02-18T11:30:12.784Z"
   },
   {
    "duration": 527,
    "start_time": "2022-02-18T11:30:12.810Z"
   },
   {
    "duration": 133,
    "start_time": "2022-02-18T11:30:13.207Z"
   },
   {
    "duration": 128,
    "start_time": "2022-02-18T11:30:13.214Z"
   },
   {
    "duration": 116,
    "start_time": "2022-02-18T11:30:13.227Z"
   },
   {
    "duration": 112,
    "start_time": "2022-02-18T11:30:13.233Z"
   },
   {
    "duration": 106,
    "start_time": "2022-02-18T11:30:13.241Z"
   },
   {
    "duration": 10,
    "start_time": "2022-02-18T11:38:57.426Z"
   },
   {
    "duration": 1659,
    "start_time": "2022-02-18T11:42:48.509Z"
   },
   {
    "duration": 431,
    "start_time": "2022-02-18T11:42:50.170Z"
   },
   {
    "duration": 8,
    "start_time": "2022-02-18T11:42:50.604Z"
   },
   {
    "duration": 26,
    "start_time": "2022-02-18T11:42:50.615Z"
   },
   {
    "duration": 11,
    "start_time": "2022-02-18T11:42:50.644Z"
   },
   {
    "duration": 12,
    "start_time": "2022-02-18T11:42:50.658Z"
   },
   {
    "duration": 54,
    "start_time": "2022-02-18T11:42:50.672Z"
   },
   {
    "duration": 12,
    "start_time": "2022-02-18T11:42:50.731Z"
   },
   {
    "duration": 27,
    "start_time": "2022-02-18T11:42:50.747Z"
   },
   {
    "duration": 51,
    "start_time": "2022-02-18T11:42:50.777Z"
   },
   {
    "duration": 16,
    "start_time": "2022-02-18T11:42:50.831Z"
   },
   {
    "duration": 11,
    "start_time": "2022-02-18T11:42:50.850Z"
   },
   {
    "duration": 56,
    "start_time": "2022-02-18T11:42:50.864Z"
   },
   {
    "duration": 27,
    "start_time": "2022-02-18T11:42:50.923Z"
   },
   {
    "duration": 8,
    "start_time": "2022-02-18T11:42:50.953Z"
   },
   {
    "duration": 7,
    "start_time": "2022-02-18T11:42:50.964Z"
   },
   {
    "duration": 38,
    "start_time": "2022-02-18T11:42:50.974Z"
   },
   {
    "duration": 6,
    "start_time": "2022-02-18T11:42:51.015Z"
   },
   {
    "duration": 94,
    "start_time": "2022-02-18T11:42:51.024Z"
   },
   {
    "duration": 6,
    "start_time": "2022-02-18T11:42:51.121Z"
   },
   {
    "duration": 9,
    "start_time": "2022-02-18T11:42:51.129Z"
   },
   {
    "duration": 6,
    "start_time": "2022-02-18T11:42:51.141Z"
   },
   {
    "duration": 6,
    "start_time": "2022-02-18T11:42:51.154Z"
   },
   {
    "duration": 66,
    "start_time": "2022-02-18T11:42:51.164Z"
   },
   {
    "duration": 10,
    "start_time": "2022-02-18T11:42:51.232Z"
   },
   {
    "duration": 5,
    "start_time": "2022-02-18T11:42:51.244Z"
   },
   {
    "duration": 8,
    "start_time": "2022-02-18T11:42:51.251Z"
   },
   {
    "duration": 85,
    "start_time": "2022-02-18T11:42:51.261Z"
   },
   {
    "duration": 66,
    "start_time": "2022-02-18T11:42:51.349Z"
   },
   {
    "duration": 15,
    "start_time": "2022-02-18T11:42:51.417Z"
   },
   {
    "duration": 27,
    "start_time": "2022-02-18T11:42:51.434Z"
   },
   {
    "duration": 12,
    "start_time": "2022-02-18T11:42:51.464Z"
   },
   {
    "duration": 54,
    "start_time": "2022-02-18T11:42:51.479Z"
   },
   {
    "duration": 28,
    "start_time": "2022-02-18T11:42:51.536Z"
   },
   {
    "duration": 8,
    "start_time": "2022-02-18T11:42:51.567Z"
   },
   {
    "duration": 31,
    "start_time": "2022-02-18T11:42:51.611Z"
   },
   {
    "duration": 23,
    "start_time": "2022-02-18T11:42:51.645Z"
   },
   {
    "duration": 42,
    "start_time": "2022-02-18T11:42:51.670Z"
   },
   {
    "duration": 12,
    "start_time": "2022-02-18T11:42:51.714Z"
   },
   {
    "duration": 12,
    "start_time": "2022-02-18T11:42:51.729Z"
   },
   {
    "duration": 12,
    "start_time": "2022-02-18T11:42:51.744Z"
   },
   {
    "duration": 6,
    "start_time": "2022-02-18T11:42:51.758Z"
   },
   {
    "duration": 69,
    "start_time": "2022-02-18T11:42:51.766Z"
   },
   {
    "duration": 46,
    "start_time": "2022-02-18T11:42:51.837Z"
   },
   {
    "duration": 36,
    "start_time": "2022-02-18T11:42:51.885Z"
   },
   {
    "duration": 6,
    "start_time": "2022-02-18T11:42:51.923Z"
   },
   {
    "duration": 14,
    "start_time": "2022-02-18T11:42:51.932Z"
   },
   {
    "duration": 10,
    "start_time": "2022-02-18T11:42:51.948Z"
   },
   {
    "duration": 1142,
    "start_time": "2022-02-18T11:42:51.961Z"
   },
   {
    "duration": 229,
    "start_time": "2022-02-18T11:42:53.111Z"
   },
   {
    "duration": 226,
    "start_time": "2022-02-18T11:42:53.343Z"
   },
   {
    "duration": 11,
    "start_time": "2022-02-18T11:42:53.572Z"
   },
   {
    "duration": 7,
    "start_time": "2022-02-18T11:42:53.585Z"
   },
   {
    "duration": 10,
    "start_time": "2022-02-18T11:42:53.611Z"
   },
   {
    "duration": 1192,
    "start_time": "2022-02-18T11:42:53.623Z"
   },
   {
    "duration": 225,
    "start_time": "2022-02-18T11:42:54.818Z"
   },
   {
    "duration": 228,
    "start_time": "2022-02-18T11:42:55.045Z"
   },
   {
    "duration": 11,
    "start_time": "2022-02-18T11:42:55.276Z"
   },
   {
    "duration": 25,
    "start_time": "2022-02-18T11:42:55.289Z"
   },
   {
    "duration": 11,
    "start_time": "2022-02-18T11:42:55.317Z"
   },
   {
    "duration": 1158,
    "start_time": "2022-02-18T11:42:55.330Z"
   },
   {
    "duration": 252,
    "start_time": "2022-02-18T11:42:56.490Z"
   },
   {
    "duration": 307,
    "start_time": "2022-02-18T11:42:56.745Z"
   },
   {
    "duration": 6,
    "start_time": "2022-02-18T11:42:57.054Z"
   },
   {
    "duration": 161,
    "start_time": "2022-02-18T11:42:57.063Z"
   },
   {
    "duration": 11,
    "start_time": "2022-02-18T11:42:57.227Z"
   },
   {
    "duration": 11,
    "start_time": "2022-02-18T11:42:57.241Z"
   },
   {
    "duration": 83,
    "start_time": "2022-02-18T11:42:57.260Z"
   },
   {
    "duration": 19,
    "start_time": "2022-02-18T11:42:57.347Z"
   },
   {
    "duration": 44,
    "start_time": "2022-02-18T11:42:57.368Z"
   },
   {
    "duration": 8,
    "start_time": "2022-02-18T11:42:57.415Z"
   },
   {
    "duration": 27,
    "start_time": "2022-02-18T11:42:57.426Z"
   },
   {
    "duration": 1101,
    "start_time": "2022-02-18T13:21:13.366Z"
   },
   {
    "duration": 590,
    "start_time": "2022-02-18T13:21:14.469Z"
   },
   {
    "duration": 5,
    "start_time": "2022-02-18T13:21:15.061Z"
   },
   {
    "duration": 14,
    "start_time": "2022-02-18T13:21:15.068Z"
   },
   {
    "duration": 9,
    "start_time": "2022-02-18T13:21:15.083Z"
   },
   {
    "duration": 8,
    "start_time": "2022-02-18T13:21:15.094Z"
   },
   {
    "duration": 15,
    "start_time": "2022-02-18T13:21:15.104Z"
   },
   {
    "duration": 8,
    "start_time": "2022-02-18T13:21:15.122Z"
   },
   {
    "duration": 16,
    "start_time": "2022-02-18T13:21:15.132Z"
   },
   {
    "duration": 12,
    "start_time": "2022-02-18T13:21:15.149Z"
   },
   {
    "duration": 12,
    "start_time": "2022-02-18T13:21:15.162Z"
   },
   {
    "duration": 12,
    "start_time": "2022-02-18T13:21:15.176Z"
   },
   {
    "duration": 33,
    "start_time": "2022-02-18T13:21:15.189Z"
   },
   {
    "duration": 9,
    "start_time": "2022-02-18T13:21:15.223Z"
   },
   {
    "duration": 5,
    "start_time": "2022-02-18T13:21:15.234Z"
   },
   {
    "duration": 8,
    "start_time": "2022-02-18T13:21:15.240Z"
   },
   {
    "duration": 7,
    "start_time": "2022-02-18T13:21:15.250Z"
   },
   {
    "duration": 8,
    "start_time": "2022-02-18T13:21:15.258Z"
   },
   {
    "duration": 73,
    "start_time": "2022-02-18T13:21:15.267Z"
   },
   {
    "duration": 4,
    "start_time": "2022-02-18T13:21:15.342Z"
   },
   {
    "duration": 6,
    "start_time": "2022-02-18T13:21:15.348Z"
   },
   {
    "duration": 9,
    "start_time": "2022-02-18T13:21:15.355Z"
   },
   {
    "duration": 4,
    "start_time": "2022-02-18T13:21:15.368Z"
   },
   {
    "duration": 44,
    "start_time": "2022-02-18T13:21:15.375Z"
   },
   {
    "duration": 9,
    "start_time": "2022-02-18T13:21:15.421Z"
   },
   {
    "duration": 4,
    "start_time": "2022-02-18T13:21:15.432Z"
   },
   {
    "duration": 5,
    "start_time": "2022-02-18T13:21:15.438Z"
   },
   {
    "duration": 30,
    "start_time": "2022-02-18T13:21:15.444Z"
   },
   {
    "duration": 65,
    "start_time": "2022-02-18T13:21:15.476Z"
   },
   {
    "duration": 12,
    "start_time": "2022-02-18T13:21:15.542Z"
   },
   {
    "duration": 21,
    "start_time": "2022-02-18T13:21:15.556Z"
   },
   {
    "duration": 4,
    "start_time": "2022-02-18T13:21:15.579Z"
   },
   {
    "duration": 46,
    "start_time": "2022-02-18T13:21:15.585Z"
   },
   {
    "duration": 20,
    "start_time": "2022-02-18T13:21:15.632Z"
   },
   {
    "duration": 5,
    "start_time": "2022-02-18T13:21:15.653Z"
   },
   {
    "duration": 23,
    "start_time": "2022-02-18T13:21:15.659Z"
   },
   {
    "duration": 45,
    "start_time": "2022-02-18T13:21:15.684Z"
   },
   {
    "duration": 9,
    "start_time": "2022-02-18T13:21:15.731Z"
   },
   {
    "duration": 10,
    "start_time": "2022-02-18T13:21:15.742Z"
   },
   {
    "duration": 9,
    "start_time": "2022-02-18T13:21:15.754Z"
   },
   {
    "duration": 18,
    "start_time": "2022-02-18T13:21:15.765Z"
   },
   {
    "duration": 37,
    "start_time": "2022-02-18T13:21:15.785Z"
   },
   {
    "duration": 17,
    "start_time": "2022-02-18T13:21:15.824Z"
   },
   {
    "duration": 31,
    "start_time": "2022-02-18T13:21:15.843Z"
   },
   {
    "duration": 10,
    "start_time": "2022-02-18T13:21:15.876Z"
   },
   {
    "duration": 34,
    "start_time": "2022-02-18T13:21:15.888Z"
   },
   {
    "duration": 10,
    "start_time": "2022-02-18T13:21:15.924Z"
   },
   {
    "duration": 8,
    "start_time": "2022-02-18T13:21:15.936Z"
   },
   {
    "duration": 773,
    "start_time": "2022-02-18T13:21:15.946Z"
   },
   {
    "duration": 146,
    "start_time": "2022-02-18T13:21:16.722Z"
   },
   {
    "duration": 135,
    "start_time": "2022-02-18T13:21:16.869Z"
   },
   {
    "duration": 16,
    "start_time": "2022-02-18T13:21:17.006Z"
   },
   {
    "duration": 6,
    "start_time": "2022-02-18T13:21:17.024Z"
   },
   {
    "duration": 8,
    "start_time": "2022-02-18T13:21:17.031Z"
   },
   {
    "duration": 785,
    "start_time": "2022-02-18T13:21:17.041Z"
   },
   {
    "duration": 143,
    "start_time": "2022-02-18T13:21:17.827Z"
   },
   {
    "duration": 137,
    "start_time": "2022-02-18T13:21:17.972Z"
   },
   {
    "duration": 13,
    "start_time": "2022-02-18T13:21:18.111Z"
   },
   {
    "duration": 8,
    "start_time": "2022-02-18T13:21:18.125Z"
   },
   {
    "duration": 11,
    "start_time": "2022-02-18T13:21:18.134Z"
   },
   {
    "duration": 720,
    "start_time": "2022-02-18T13:21:18.146Z"
   },
   {
    "duration": 152,
    "start_time": "2022-02-18T13:21:18.868Z"
   },
   {
    "duration": 222,
    "start_time": "2022-02-18T13:21:19.022Z"
   },
   {
    "duration": 4,
    "start_time": "2022-02-18T13:21:19.246Z"
   },
   {
    "duration": 91,
    "start_time": "2022-02-18T13:21:19.252Z"
   },
   {
    "duration": 8,
    "start_time": "2022-02-18T13:21:19.345Z"
   },
   {
    "duration": 7,
    "start_time": "2022-02-18T13:21:19.355Z"
   },
   {
    "duration": 54,
    "start_time": "2022-02-18T13:21:19.366Z"
   },
   {
    "duration": 13,
    "start_time": "2022-02-18T13:21:19.421Z"
   },
   {
    "duration": 14,
    "start_time": "2022-02-18T13:21:19.436Z"
   },
   {
    "duration": 6,
    "start_time": "2022-02-18T13:21:19.451Z"
   },
   {
    "duration": 16,
    "start_time": "2022-02-18T13:21:19.459Z"
   },
   {
    "duration": 1020,
    "start_time": "2022-02-18T14:17:38.856Z"
   },
   {
    "duration": 283,
    "start_time": "2022-02-18T14:17:39.877Z"
   },
   {
    "duration": 5,
    "start_time": "2022-02-18T14:17:40.162Z"
   },
   {
    "duration": 12,
    "start_time": "2022-02-18T14:17:40.169Z"
   },
   {
    "duration": 9,
    "start_time": "2022-02-18T14:17:40.182Z"
   },
   {
    "duration": 7,
    "start_time": "2022-02-18T14:17:40.193Z"
   },
   {
    "duration": 26,
    "start_time": "2022-02-18T14:17:40.202Z"
   },
   {
    "duration": 15,
    "start_time": "2022-02-18T14:17:40.232Z"
   },
   {
    "duration": 18,
    "start_time": "2022-02-18T14:17:40.249Z"
   },
   {
    "duration": 14,
    "start_time": "2022-02-18T14:17:40.268Z"
   },
   {
    "duration": 45,
    "start_time": "2022-02-18T14:17:40.284Z"
   },
   {
    "duration": 7,
    "start_time": "2022-02-18T14:17:40.332Z"
   },
   {
    "duration": 9,
    "start_time": "2022-02-18T14:17:40.341Z"
   },
   {
    "duration": 12,
    "start_time": "2022-02-18T14:17:40.352Z"
   },
   {
    "duration": 5,
    "start_time": "2022-02-18T14:17:40.366Z"
   },
   {
    "duration": 9,
    "start_time": "2022-02-18T14:17:40.373Z"
   },
   {
    "duration": 7,
    "start_time": "2022-02-18T14:17:40.420Z"
   },
   {
    "duration": 7,
    "start_time": "2022-02-18T14:17:40.428Z"
   },
   {
    "duration": 49,
    "start_time": "2022-02-18T14:17:40.437Z"
   },
   {
    "duration": 4,
    "start_time": "2022-02-18T14:17:40.488Z"
   },
   {
    "duration": 29,
    "start_time": "2022-02-18T14:17:40.494Z"
   },
   {
    "duration": 5,
    "start_time": "2022-02-18T14:17:40.526Z"
   },
   {
    "duration": 4,
    "start_time": "2022-02-18T14:17:40.537Z"
   },
   {
    "duration": 19,
    "start_time": "2022-02-18T14:17:40.544Z"
   },
   {
    "duration": 7,
    "start_time": "2022-02-18T14:17:40.565Z"
   },
   {
    "duration": 46,
    "start_time": "2022-02-18T14:17:40.574Z"
   },
   {
    "duration": 6,
    "start_time": "2022-02-18T14:17:40.622Z"
   },
   {
    "duration": 28,
    "start_time": "2022-02-18T14:17:40.629Z"
   },
   {
    "duration": 62,
    "start_time": "2022-02-18T14:17:40.659Z"
   },
   {
    "duration": 11,
    "start_time": "2022-02-18T14:17:40.722Z"
   },
   {
    "duration": 21,
    "start_time": "2022-02-18T14:17:40.735Z"
   },
   {
    "duration": 5,
    "start_time": "2022-02-18T14:17:40.758Z"
   },
   {
    "duration": 24,
    "start_time": "2022-02-18T14:17:40.764Z"
   },
   {
    "duration": 48,
    "start_time": "2022-02-18T14:17:40.790Z"
   },
   {
    "duration": 5,
    "start_time": "2022-02-18T14:17:40.840Z"
   },
   {
    "duration": 24,
    "start_time": "2022-02-18T14:17:40.847Z"
   },
   {
    "duration": 47,
    "start_time": "2022-02-18T14:17:40.873Z"
   },
   {
    "duration": 10,
    "start_time": "2022-02-18T14:17:40.922Z"
   },
   {
    "duration": 14,
    "start_time": "2022-02-18T14:17:40.934Z"
   },
   {
    "duration": 11,
    "start_time": "2022-02-18T14:17:40.950Z"
   },
   {
    "duration": 15,
    "start_time": "2022-02-18T14:17:40.963Z"
   },
   {
    "duration": 8,
    "start_time": "2022-02-18T14:17:40.980Z"
   },
   {
    "duration": 55,
    "start_time": "2022-02-18T14:17:40.990Z"
   },
   {
    "duration": 39,
    "start_time": "2022-02-18T14:17:41.047Z"
   },
   {
    "duration": 31,
    "start_time": "2022-02-18T14:17:41.088Z"
   },
   {
    "duration": 5,
    "start_time": "2022-02-18T14:17:41.121Z"
   },
   {
    "duration": 8,
    "start_time": "2022-02-18T14:17:41.128Z"
   },
   {
    "duration": 6,
    "start_time": "2022-02-18T14:17:41.137Z"
   },
   {
    "duration": 788,
    "start_time": "2022-02-18T14:17:41.145Z"
   },
   {
    "duration": 150,
    "start_time": "2022-02-18T14:17:41.935Z"
   },
   {
    "duration": 148,
    "start_time": "2022-02-18T14:17:42.087Z"
   },
   {
    "duration": 9,
    "start_time": "2022-02-18T14:17:42.237Z"
   },
   {
    "duration": 7,
    "start_time": "2022-02-18T14:17:42.248Z"
   },
   {
    "duration": 9,
    "start_time": "2022-02-18T14:17:42.256Z"
   },
   {
    "duration": 838,
    "start_time": "2022-02-18T14:17:42.267Z"
   },
   {
    "duration": 164,
    "start_time": "2022-02-18T14:17:43.107Z"
   },
   {
    "duration": 147,
    "start_time": "2022-02-18T14:17:43.273Z"
   },
   {
    "duration": 8,
    "start_time": "2022-02-18T14:17:43.422Z"
   },
   {
    "duration": 10,
    "start_time": "2022-02-18T14:17:43.432Z"
   },
   {
    "duration": 9,
    "start_time": "2022-02-18T14:17:43.444Z"
   },
   {
    "duration": 757,
    "start_time": "2022-02-18T14:17:43.455Z"
   },
   {
    "duration": 142,
    "start_time": "2022-02-18T14:17:44.218Z"
   },
   {
    "duration": 216,
    "start_time": "2022-02-18T14:17:44.361Z"
   },
   {
    "duration": 4,
    "start_time": "2022-02-18T14:17:44.578Z"
   },
   {
    "duration": 90,
    "start_time": "2022-02-18T14:17:44.584Z"
   },
   {
    "duration": 9,
    "start_time": "2022-02-18T14:17:44.676Z"
   },
   {
    "duration": 11,
    "start_time": "2022-02-18T14:17:44.687Z"
   },
   {
    "duration": 32,
    "start_time": "2022-02-18T14:17:44.719Z"
   },
   {
    "duration": 12,
    "start_time": "2022-02-18T14:17:44.753Z"
   },
   {
    "duration": 13,
    "start_time": "2022-02-18T14:17:44.767Z"
   },
   {
    "duration": 6,
    "start_time": "2022-02-18T14:17:44.781Z"
   },
   {
    "duration": 34,
    "start_time": "2022-02-18T14:17:44.788Z"
   },
   {
    "duration": 1163,
    "start_time": "2022-02-18T14:58:51.106Z"
   },
   {
    "duration": 256,
    "start_time": "2022-02-18T14:58:52.271Z"
   },
   {
    "duration": 4,
    "start_time": "2022-02-18T14:58:52.530Z"
   },
   {
    "duration": 12,
    "start_time": "2022-02-18T14:58:52.536Z"
   },
   {
    "duration": 9,
    "start_time": "2022-02-18T14:58:52.549Z"
   },
   {
    "duration": 8,
    "start_time": "2022-02-18T14:58:52.560Z"
   },
   {
    "duration": 10,
    "start_time": "2022-02-18T14:58:52.569Z"
   },
   {
    "duration": 12,
    "start_time": "2022-02-18T14:58:52.581Z"
   },
   {
    "duration": 18,
    "start_time": "2022-02-18T14:58:52.619Z"
   },
   {
    "duration": 16,
    "start_time": "2022-02-18T14:58:52.638Z"
   },
   {
    "duration": 10,
    "start_time": "2022-02-18T14:58:52.656Z"
   },
   {
    "duration": 6,
    "start_time": "2022-02-18T14:58:52.667Z"
   },
   {
    "duration": 6,
    "start_time": "2022-02-18T14:58:52.675Z"
   },
   {
    "duration": 38,
    "start_time": "2022-02-18T14:58:52.683Z"
   },
   {
    "duration": 6,
    "start_time": "2022-02-18T14:58:52.723Z"
   },
   {
    "duration": 6,
    "start_time": "2022-02-18T14:58:52.730Z"
   },
   {
    "duration": 6,
    "start_time": "2022-02-18T14:58:52.737Z"
   },
   {
    "duration": 6,
    "start_time": "2022-02-18T14:58:52.745Z"
   },
   {
    "duration": 74,
    "start_time": "2022-02-18T14:58:52.752Z"
   },
   {
    "duration": 5,
    "start_time": "2022-02-18T14:58:52.827Z"
   },
   {
    "duration": 7,
    "start_time": "2022-02-18T14:58:52.833Z"
   },
   {
    "duration": 8,
    "start_time": "2022-02-18T14:58:52.841Z"
   },
   {
    "duration": 6,
    "start_time": "2022-02-18T14:58:52.853Z"
   },
   {
    "duration": 18,
    "start_time": "2022-02-18T14:58:52.861Z"
   },
   {
    "duration": 41,
    "start_time": "2022-02-18T14:58:52.880Z"
   },
   {
    "duration": 4,
    "start_time": "2022-02-18T14:58:52.922Z"
   },
   {
    "duration": 7,
    "start_time": "2022-02-18T14:58:52.927Z"
   },
   {
    "duration": 28,
    "start_time": "2022-02-18T14:58:52.936Z"
   },
   {
    "duration": 54,
    "start_time": "2022-02-18T14:58:52.966Z"
   },
   {
    "duration": 12,
    "start_time": "2022-02-18T14:58:53.023Z"
   },
   {
    "duration": 21,
    "start_time": "2022-02-18T14:58:53.037Z"
   },
   {
    "duration": 6,
    "start_time": "2022-02-18T14:58:53.060Z"
   },
   {
    "duration": 18,
    "start_time": "2022-02-18T14:58:53.067Z"
   },
   {
    "duration": 19,
    "start_time": "2022-02-18T14:58:53.119Z"
   },
   {
    "duration": 5,
    "start_time": "2022-02-18T14:58:53.140Z"
   },
   {
    "duration": 21,
    "start_time": "2022-02-18T14:58:53.147Z"
   },
   {
    "duration": 50,
    "start_time": "2022-02-18T14:58:53.170Z"
   },
   {
    "duration": 9,
    "start_time": "2022-02-18T14:58:53.221Z"
   },
   {
    "duration": 10,
    "start_time": "2022-02-18T14:58:53.232Z"
   },
   {
    "duration": 8,
    "start_time": "2022-02-18T14:58:53.244Z"
   },
   {
    "duration": 9,
    "start_time": "2022-02-18T14:58:53.254Z"
   },
   {
    "duration": 5,
    "start_time": "2022-02-18T14:58:53.265Z"
   },
   {
    "duration": 58,
    "start_time": "2022-02-18T14:58:53.272Z"
   },
   {
    "duration": 29,
    "start_time": "2022-02-18T14:58:53.332Z"
   },
   {
    "duration": 10,
    "start_time": "2022-02-18T14:58:53.363Z"
   },
   {
    "duration": 5,
    "start_time": "2022-02-18T14:58:53.375Z"
   },
   {
    "duration": 37,
    "start_time": "2022-02-18T14:58:53.382Z"
   },
   {
    "duration": 5,
    "start_time": "2022-02-18T14:58:53.421Z"
   },
   {
    "duration": 672,
    "start_time": "2022-02-18T14:58:53.428Z"
   },
   {
    "duration": 130,
    "start_time": "2022-02-18T14:58:54.102Z"
   },
   {
    "duration": 139,
    "start_time": "2022-02-18T14:58:54.234Z"
   },
   {
    "duration": 8,
    "start_time": "2022-02-18T14:58:54.374Z"
   },
   {
    "duration": 7,
    "start_time": "2022-02-18T14:58:54.383Z"
   },
   {
    "duration": 8,
    "start_time": "2022-02-18T14:58:54.392Z"
   },
   {
    "duration": 765,
    "start_time": "2022-02-18T14:58:54.419Z"
   },
   {
    "duration": 163,
    "start_time": "2022-02-18T14:58:55.186Z"
   },
   {
    "duration": 185,
    "start_time": "2022-02-18T14:58:55.350Z"
   },
   {
    "duration": 7,
    "start_time": "2022-02-18T14:58:55.537Z"
   },
   {
    "duration": 7,
    "start_time": "2022-02-18T14:58:55.546Z"
   },
   {
    "duration": 9,
    "start_time": "2022-02-18T14:58:55.555Z"
   },
   {
    "duration": 758,
    "start_time": "2022-02-18T14:58:55.566Z"
   },
   {
    "duration": 150,
    "start_time": "2022-02-18T14:58:56.326Z"
   },
   {
    "duration": 208,
    "start_time": "2022-02-18T14:58:56.477Z"
   },
   {
    "duration": 4,
    "start_time": "2022-02-18T14:58:56.687Z"
   },
   {
    "duration": 89,
    "start_time": "2022-02-18T14:58:56.693Z"
   },
   {
    "duration": 9,
    "start_time": "2022-02-18T14:58:56.784Z"
   },
   {
    "duration": 7,
    "start_time": "2022-02-18T14:58:56.794Z"
   },
   {
    "duration": 43,
    "start_time": "2022-02-18T14:58:56.806Z"
   },
   {
    "duration": 12,
    "start_time": "2022-02-18T14:58:56.851Z"
   },
   {
    "duration": 12,
    "start_time": "2022-02-18T14:58:56.865Z"
   },
   {
    "duration": 41,
    "start_time": "2022-02-18T14:58:56.879Z"
   },
   {
    "duration": 7,
    "start_time": "2022-02-18T14:58:56.921Z"
   },
   {
    "duration": 1141,
    "start_time": "2022-02-18T15:26:53.324Z"
   },
   {
    "duration": 277,
    "start_time": "2022-02-18T15:26:54.467Z"
   },
   {
    "duration": 5,
    "start_time": "2022-02-18T15:26:54.747Z"
   },
   {
    "duration": 19,
    "start_time": "2022-02-18T15:26:54.754Z"
   },
   {
    "duration": 8,
    "start_time": "2022-02-18T15:26:54.775Z"
   },
   {
    "duration": 13,
    "start_time": "2022-02-18T15:26:54.784Z"
   },
   {
    "duration": 13,
    "start_time": "2022-02-18T15:26:54.798Z"
   },
   {
    "duration": 9,
    "start_time": "2022-02-18T15:26:54.817Z"
   },
   {
    "duration": 24,
    "start_time": "2022-02-18T15:26:54.828Z"
   },
   {
    "duration": 21,
    "start_time": "2022-02-18T15:26:54.854Z"
   },
   {
    "duration": 20,
    "start_time": "2022-02-18T15:26:54.876Z"
   },
   {
    "duration": 8,
    "start_time": "2022-02-18T15:26:54.898Z"
   },
   {
    "duration": 24,
    "start_time": "2022-02-18T15:26:54.908Z"
   },
   {
    "duration": 34,
    "start_time": "2022-02-18T15:26:54.934Z"
   },
   {
    "duration": 8,
    "start_time": "2022-02-18T15:26:54.970Z"
   },
   {
    "duration": 27,
    "start_time": "2022-02-18T15:26:54.980Z"
   },
   {
    "duration": 18,
    "start_time": "2022-02-18T15:26:55.009Z"
   },
   {
    "duration": 16,
    "start_time": "2022-02-18T15:26:55.029Z"
   },
   {
    "duration": 83,
    "start_time": "2022-02-18T15:26:55.047Z"
   },
   {
    "duration": 5,
    "start_time": "2022-02-18T15:26:55.132Z"
   },
   {
    "duration": 8,
    "start_time": "2022-02-18T15:26:55.139Z"
   },
   {
    "duration": 11,
    "start_time": "2022-02-18T15:26:55.149Z"
   },
   {
    "duration": 16,
    "start_time": "2022-02-18T15:26:55.165Z"
   },
   {
    "duration": 38,
    "start_time": "2022-02-18T15:26:55.184Z"
   },
   {
    "duration": 10,
    "start_time": "2022-02-18T15:26:55.224Z"
   },
   {
    "duration": 15,
    "start_time": "2022-02-18T15:26:55.236Z"
   },
   {
    "duration": 15,
    "start_time": "2022-02-18T15:26:55.252Z"
   },
   {
    "duration": 38,
    "start_time": "2022-02-18T15:26:55.269Z"
   },
   {
    "duration": 45,
    "start_time": "2022-02-18T15:26:55.309Z"
   },
   {
    "duration": 10,
    "start_time": "2022-02-18T15:26:55.356Z"
   },
   {
    "duration": 28,
    "start_time": "2022-02-18T15:26:55.368Z"
   },
   {
    "duration": 5,
    "start_time": "2022-02-18T15:26:55.418Z"
   },
   {
    "duration": 23,
    "start_time": "2022-02-18T15:26:55.424Z"
   },
   {
    "duration": 20,
    "start_time": "2022-02-18T15:26:55.449Z"
   },
   {
    "duration": 6,
    "start_time": "2022-02-18T15:26:55.471Z"
   },
   {
    "duration": 52,
    "start_time": "2022-02-18T15:26:55.479Z"
   },
   {
    "duration": 21,
    "start_time": "2022-02-18T15:26:55.533Z"
   },
   {
    "duration": 10,
    "start_time": "2022-02-18T15:26:55.557Z"
   },
   {
    "duration": 12,
    "start_time": "2022-02-18T15:26:55.569Z"
   },
   {
    "duration": 39,
    "start_time": "2022-02-18T15:26:55.583Z"
   },
   {
    "duration": 22,
    "start_time": "2022-02-18T15:26:55.625Z"
   },
   {
    "duration": 13,
    "start_time": "2022-02-18T15:26:55.649Z"
   },
   {
    "duration": 26,
    "start_time": "2022-02-18T15:26:55.664Z"
   },
   {
    "duration": 39,
    "start_time": "2022-02-18T15:26:55.692Z"
   },
   {
    "duration": 10,
    "start_time": "2022-02-18T15:26:55.733Z"
   },
   {
    "duration": 6,
    "start_time": "2022-02-18T15:26:55.745Z"
   },
   {
    "duration": 10,
    "start_time": "2022-02-18T15:26:55.753Z"
   },
   {
    "duration": 6,
    "start_time": "2022-02-18T15:26:55.765Z"
   },
   {
    "duration": 713,
    "start_time": "2022-02-18T15:26:55.772Z"
   },
   {
    "duration": 141,
    "start_time": "2022-02-18T15:26:56.487Z"
   },
   {
    "duration": 131,
    "start_time": "2022-02-18T15:26:56.630Z"
   },
   {
    "duration": 8,
    "start_time": "2022-02-18T15:26:56.763Z"
   },
   {
    "duration": 22,
    "start_time": "2022-02-18T15:26:56.772Z"
   },
   {
    "duration": 19,
    "start_time": "2022-02-18T15:26:56.796Z"
   },
   {
    "duration": 788,
    "start_time": "2022-02-18T15:26:56.817Z"
   },
   {
    "duration": 127,
    "start_time": "2022-02-18T15:26:57.618Z"
   },
   {
    "duration": 134,
    "start_time": "2022-02-18T15:26:57.746Z"
   },
   {
    "duration": 8,
    "start_time": "2022-02-18T15:26:57.882Z"
   },
   {
    "duration": 12,
    "start_time": "2022-02-18T15:26:57.891Z"
   },
   {
    "duration": 9,
    "start_time": "2022-02-18T15:26:57.917Z"
   },
   {
    "duration": 680,
    "start_time": "2022-02-18T15:26:57.928Z"
   },
   {
    "duration": 149,
    "start_time": "2022-02-18T15:26:58.610Z"
   },
   {
    "duration": 128,
    "start_time": "2022-02-18T15:26:58.761Z"
   },
   {
    "duration": 4,
    "start_time": "2022-02-18T15:26:58.891Z"
   },
   {
    "duration": 187,
    "start_time": "2022-02-18T15:26:58.897Z"
   },
   {
    "duration": 9,
    "start_time": "2022-02-18T15:26:59.086Z"
   },
   {
    "duration": 19,
    "start_time": "2022-02-18T15:26:59.096Z"
   },
   {
    "duration": 37,
    "start_time": "2022-02-18T15:26:59.121Z"
   },
   {
    "duration": 12,
    "start_time": "2022-02-18T15:26:59.160Z"
   },
   {
    "duration": 14,
    "start_time": "2022-02-18T15:26:59.173Z"
   },
   {
    "duration": 9,
    "start_time": "2022-02-18T15:26:59.188Z"
   },
   {
    "duration": 28,
    "start_time": "2022-02-18T15:26:59.199Z"
   },
   {
    "duration": 15,
    "start_time": "2022-02-18T16:00:09.411Z"
   }
  ],
  "kernelspec": {
   "display_name": "Python 3 (ipykernel)",
   "language": "python",
   "name": "python3"
  },
  "language_info": {
   "codemirror_mode": {
    "name": "ipython",
    "version": 3
   },
   "file_extension": ".py",
   "mimetype": "text/x-python",
   "name": "python",
   "nbconvert_exporter": "python",
   "pygments_lexer": "ipython3",
   "version": "3.9.5"
  },
  "toc": {
   "base_numbering": 1,
   "nav_menu": {},
   "number_sections": true,
   "sideBar": true,
   "skip_h1_title": true,
   "title_cell": "Table of Contents",
   "title_sidebar": "Contents",
   "toc_cell": false,
   "toc_position": {},
   "toc_section_display": true,
   "toc_window_display": false
  }
 },
 "nbformat": 4,
 "nbformat_minor": 2
}
