{
 "cells": [
  {
   "cell_type": "markdown",
   "metadata": {},
   "source": [
    "# Brief\n",
    "\n",
    "**Project goal:** to identify patterns that determine whether a game succeeds or not. It will allow us to spot potential big winners and plan advertising campaigns.\n",
    "\n",
    "The dataset contains the abbreviation ESRB. The Entertainment Software Rating Board evaluates a game's content and assigns an age rating such as Teen or Mature.\n",
    "\n",
    "**Data description**\n",
    "\n",
    "- `Name`\n",
    "- `Platform`\n",
    "- `Year_of_Release`\n",
    "- `Genre`\n",
    "- `NA_sales` (North American sales in USD million)\n",
    "- `EU_sales` (sales in Europe in USD million)\n",
    "- `JP_sales` (sales in Japan in USD million)\n",
    "- `Other_sales` (sales in other countries in USD million)\n",
    "- `Critic_Score` (maximum of 100)\n",
    "- `User_Score` (maximum of 10)\n",
    "- `Rating` (ESRB)\n",
    "\n",
    "Data for 2016 may be incomplete.\n",
    "\n",
    "**Step 1. Open the data file and study the general information**\n",
    "\n",
    "- Loading all the libraries\n",
    "- Load data file into DataFrame\n",
    "- Get info on data\n",
    "- Getting info about data types\n",
    "\n",
    "**Step 2. Prepare the data**\n",
    "\n",
    "- Replace the column names (make them lowercase).\n",
    "- Convert the data to the required types.\n",
    "- Describe the columns where the data types have been changed and why.\n",
    "- deal with missing values\n",
    "- Calculate the total sales (the sum of sales in all regions) for each game and put these values in a separate column.\n",
    "\n",
    "**Step 3. Analyze the data**\n",
    "\n",
    "- Look at how many games were released in different years.\n",
    "- Look at how sales varied from platform to platform. \n",
    "- Choose the platforms with the greatest total sales and build a distribution based on data for each year. \n",
    "- Find platforms that used to be popular but now have zero sales.\n",
    "- Determine what period we should take data for. \n",
    "- Disregard the data for previous years.\n",
    "- Find out which platforms are leading in sales\n",
    "- Find out which ones are growing or shrinking\n",
    "- Select several potentially profitable platforms\n",
    "- Build a box plot for the global sales of all games, broken down by platform. \n",
    "- Take a look at how user and professional reviews affect sales for one popular platform. \n",
    "- Build a scatter plot and calculate the correlation between reviews and sales. \n",
    "- Compare the sales of the same games on other platforms.\n",
    "- Take a look at the general distribution of games by genre. \n",
    "\n",
    "**Step 4. Create a user profile for each region**\n",
    "\n",
    "For each region (NA, EU, JP), determine:\n",
    "\n",
    "- The top five platforms. \n",
    "- The top five genres. \n",
    "\n",
    "**Step 5. Test the following hypotheses:**\n",
    "\n",
    "- Average user ratings of the Xbox One and PC platforms are the same.\n",
    "- Average user ratings for the Action and Sports genres are different.\n",
    "\n",
    "**Step 6. Write a general conclusion**\n"
   ]
  },
  {
   "cell_type": "markdown",
   "metadata": {},
   "source": [
    "## Open the data file and study the general information"
   ]
  },
  {
   "cell_type": "code",
   "execution_count": 1,
   "metadata": {
    "scrolled": false
   },
   "outputs": [
    {
     "name": "stdout",
     "output_type": "stream",
     "text": [
      "Defaulting to user installation because normal site-packages is not writeable\n",
      "Collecting squarify\n",
      "  Downloading squarify-0.4.3-py3-none-any.whl (4.3 kB)\n",
      "Installing collected packages: squarify\n",
      "Successfully installed squarify-0.4.3\n"
     ]
    }
   ],
   "source": [
    "# Loading all the libraries\n",
    "\n",
    "import pandas as pd\n",
    "import numpy as np\n",
    "import datetime as dt\n",
    "import matplotlib as plt\n",
    "import matplotlib.pyplot as plt\n",
    "import seaborn as sns\n",
    "import math\n",
    "from scipy import stats as st\n",
    "\n",
    "\n",
    "!pip install squarify\n",
    "import matplotlib.pyplot as plt\n",
    "import squarify"
   ]
  },
  {
   "cell_type": "code",
   "execution_count": 2,
   "metadata": {},
   "outputs": [],
   "source": [
    "# Load data file into DataFrame\n",
    "\n",
    "data = pd.read_csv('/datasets/games.csv')"
   ]
  },
  {
   "cell_type": "code",
   "execution_count": 3,
   "metadata": {},
   "outputs": [
    {
     "data": {
      "text/plain": [
       "(16715, 11)"
      ]
     },
     "execution_count": 3,
     "metadata": {},
     "output_type": "execute_result"
    }
   ],
   "source": [
    "# Let's see how many rows and columns our dataset has\n",
    "\n",
    "data.shape"
   ]
  },
  {
   "cell_type": "code",
   "execution_count": 4,
   "metadata": {},
   "outputs": [
    {
     "data": {
      "text/html": [
       "<div>\n",
       "<style scoped>\n",
       "    .dataframe tbody tr th:only-of-type {\n",
       "        vertical-align: middle;\n",
       "    }\n",
       "\n",
       "    .dataframe tbody tr th {\n",
       "        vertical-align: top;\n",
       "    }\n",
       "\n",
       "    .dataframe thead th {\n",
       "        text-align: right;\n",
       "    }\n",
       "</style>\n",
       "<table border=\"1\" class=\"dataframe\">\n",
       "  <thead>\n",
       "    <tr style=\"text-align: right;\">\n",
       "      <th></th>\n",
       "      <th>Name</th>\n",
       "      <th>Platform</th>\n",
       "      <th>Year_of_Release</th>\n",
       "      <th>Genre</th>\n",
       "      <th>NA_sales</th>\n",
       "      <th>EU_sales</th>\n",
       "      <th>JP_sales</th>\n",
       "      <th>Other_sales</th>\n",
       "      <th>Critic_Score</th>\n",
       "      <th>User_Score</th>\n",
       "      <th>Rating</th>\n",
       "    </tr>\n",
       "  </thead>\n",
       "  <tbody>\n",
       "    <tr>\n",
       "      <td>0</td>\n",
       "      <td>Wii Sports</td>\n",
       "      <td>Wii</td>\n",
       "      <td>2006.0</td>\n",
       "      <td>Sports</td>\n",
       "      <td>41.36</td>\n",
       "      <td>28.96</td>\n",
       "      <td>3.77</td>\n",
       "      <td>8.45</td>\n",
       "      <td>76.0</td>\n",
       "      <td>8</td>\n",
       "      <td>E</td>\n",
       "    </tr>\n",
       "    <tr>\n",
       "      <td>1</td>\n",
       "      <td>Super Mario Bros.</td>\n",
       "      <td>NES</td>\n",
       "      <td>1985.0</td>\n",
       "      <td>Platform</td>\n",
       "      <td>29.08</td>\n",
       "      <td>3.58</td>\n",
       "      <td>6.81</td>\n",
       "      <td>0.77</td>\n",
       "      <td>NaN</td>\n",
       "      <td>NaN</td>\n",
       "      <td>NaN</td>\n",
       "    </tr>\n",
       "    <tr>\n",
       "      <td>2</td>\n",
       "      <td>Mario Kart Wii</td>\n",
       "      <td>Wii</td>\n",
       "      <td>2008.0</td>\n",
       "      <td>Racing</td>\n",
       "      <td>15.68</td>\n",
       "      <td>12.76</td>\n",
       "      <td>3.79</td>\n",
       "      <td>3.29</td>\n",
       "      <td>82.0</td>\n",
       "      <td>8.3</td>\n",
       "      <td>E</td>\n",
       "    </tr>\n",
       "    <tr>\n",
       "      <td>3</td>\n",
       "      <td>Wii Sports Resort</td>\n",
       "      <td>Wii</td>\n",
       "      <td>2009.0</td>\n",
       "      <td>Sports</td>\n",
       "      <td>15.61</td>\n",
       "      <td>10.93</td>\n",
       "      <td>3.28</td>\n",
       "      <td>2.95</td>\n",
       "      <td>80.0</td>\n",
       "      <td>8</td>\n",
       "      <td>E</td>\n",
       "    </tr>\n",
       "    <tr>\n",
       "      <td>4</td>\n",
       "      <td>Pokemon Red/Pokemon Blue</td>\n",
       "      <td>GB</td>\n",
       "      <td>1996.0</td>\n",
       "      <td>Role-Playing</td>\n",
       "      <td>11.27</td>\n",
       "      <td>8.89</td>\n",
       "      <td>10.22</td>\n",
       "      <td>1.00</td>\n",
       "      <td>NaN</td>\n",
       "      <td>NaN</td>\n",
       "      <td>NaN</td>\n",
       "    </tr>\n",
       "    <tr>\n",
       "      <td>5</td>\n",
       "      <td>Tetris</td>\n",
       "      <td>GB</td>\n",
       "      <td>1989.0</td>\n",
       "      <td>Puzzle</td>\n",
       "      <td>23.20</td>\n",
       "      <td>2.26</td>\n",
       "      <td>4.22</td>\n",
       "      <td>0.58</td>\n",
       "      <td>NaN</td>\n",
       "      <td>NaN</td>\n",
       "      <td>NaN</td>\n",
       "    </tr>\n",
       "    <tr>\n",
       "      <td>6</td>\n",
       "      <td>New Super Mario Bros.</td>\n",
       "      <td>DS</td>\n",
       "      <td>2006.0</td>\n",
       "      <td>Platform</td>\n",
       "      <td>11.28</td>\n",
       "      <td>9.14</td>\n",
       "      <td>6.50</td>\n",
       "      <td>2.88</td>\n",
       "      <td>89.0</td>\n",
       "      <td>8.5</td>\n",
       "      <td>E</td>\n",
       "    </tr>\n",
       "    <tr>\n",
       "      <td>7</td>\n",
       "      <td>Wii Play</td>\n",
       "      <td>Wii</td>\n",
       "      <td>2006.0</td>\n",
       "      <td>Misc</td>\n",
       "      <td>13.96</td>\n",
       "      <td>9.18</td>\n",
       "      <td>2.93</td>\n",
       "      <td>2.84</td>\n",
       "      <td>58.0</td>\n",
       "      <td>6.6</td>\n",
       "      <td>E</td>\n",
       "    </tr>\n",
       "    <tr>\n",
       "      <td>8</td>\n",
       "      <td>New Super Mario Bros. Wii</td>\n",
       "      <td>Wii</td>\n",
       "      <td>2009.0</td>\n",
       "      <td>Platform</td>\n",
       "      <td>14.44</td>\n",
       "      <td>6.94</td>\n",
       "      <td>4.70</td>\n",
       "      <td>2.24</td>\n",
       "      <td>87.0</td>\n",
       "      <td>8.4</td>\n",
       "      <td>E</td>\n",
       "    </tr>\n",
       "    <tr>\n",
       "      <td>9</td>\n",
       "      <td>Duck Hunt</td>\n",
       "      <td>NES</td>\n",
       "      <td>1984.0</td>\n",
       "      <td>Shooter</td>\n",
       "      <td>26.93</td>\n",
       "      <td>0.63</td>\n",
       "      <td>0.28</td>\n",
       "      <td>0.47</td>\n",
       "      <td>NaN</td>\n",
       "      <td>NaN</td>\n",
       "      <td>NaN</td>\n",
       "    </tr>\n",
       "  </tbody>\n",
       "</table>\n",
       "</div>"
      ],
      "text/plain": [
       "                        Name Platform  Year_of_Release         Genre  \\\n",
       "0                 Wii Sports      Wii           2006.0        Sports   \n",
       "1          Super Mario Bros.      NES           1985.0      Platform   \n",
       "2             Mario Kart Wii      Wii           2008.0        Racing   \n",
       "3          Wii Sports Resort      Wii           2009.0        Sports   \n",
       "4   Pokemon Red/Pokemon Blue       GB           1996.0  Role-Playing   \n",
       "5                     Tetris       GB           1989.0        Puzzle   \n",
       "6      New Super Mario Bros.       DS           2006.0      Platform   \n",
       "7                   Wii Play      Wii           2006.0          Misc   \n",
       "8  New Super Mario Bros. Wii      Wii           2009.0      Platform   \n",
       "9                  Duck Hunt      NES           1984.0       Shooter   \n",
       "\n",
       "   NA_sales  EU_sales  JP_sales  Other_sales  Critic_Score User_Score Rating  \n",
       "0     41.36     28.96      3.77         8.45          76.0          8      E  \n",
       "1     29.08      3.58      6.81         0.77           NaN        NaN    NaN  \n",
       "2     15.68     12.76      3.79         3.29          82.0        8.3      E  \n",
       "3     15.61     10.93      3.28         2.95          80.0          8      E  \n",
       "4     11.27      8.89     10.22         1.00           NaN        NaN    NaN  \n",
       "5     23.20      2.26      4.22         0.58           NaN        NaN    NaN  \n",
       "6     11.28      9.14      6.50         2.88          89.0        8.5      E  \n",
       "7     13.96      9.18      2.93         2.84          58.0        6.6      E  \n",
       "8     14.44      6.94      4.70         2.24          87.0        8.4      E  \n",
       "9     26.93      0.63      0.28         0.47           NaN        NaN    NaN  "
      ]
     },
     "execution_count": 4,
     "metadata": {},
     "output_type": "execute_result"
    }
   ],
   "source": [
    "# First 10 rows of data\n",
    "\n",
    "data.head(10)"
   ]
  },
  {
   "cell_type": "markdown",
   "metadata": {},
   "source": [
    "We need to replace the column names (make them lowercase)"
   ]
  },
  {
   "cell_type": "code",
   "execution_count": 5,
   "metadata": {},
   "outputs": [
    {
     "name": "stdout",
     "output_type": "stream",
     "text": [
      "<class 'pandas.core.frame.DataFrame'>\n",
      "RangeIndex: 16715 entries, 0 to 16714\n",
      "Data columns (total 11 columns):\n",
      "Name               16713 non-null object\n",
      "Platform           16715 non-null object\n",
      "Year_of_Release    16446 non-null float64\n",
      "Genre              16713 non-null object\n",
      "NA_sales           16715 non-null float64\n",
      "EU_sales           16715 non-null float64\n",
      "JP_sales           16715 non-null float64\n",
      "Other_sales        16715 non-null float64\n",
      "Critic_Score       8137 non-null float64\n",
      "User_Score         10014 non-null object\n",
      "Rating             9949 non-null object\n",
      "dtypes: float64(6), object(5)\n",
      "memory usage: 1.4+ MB\n"
     ]
    }
   ],
   "source": [
    "# Get info on data\n",
    "\n",
    "data.info() "
   ]
  },
  {
   "cell_type": "markdown",
   "metadata": {},
   "source": [
    "We can see missing values in `Name`, `Year_of_Release`, `Genre`, `Critic_Score`, `User_Score`, and `Rating`"
   ]
  },
  {
   "cell_type": "code",
   "execution_count": 6,
   "metadata": {},
   "outputs": [
    {
     "data": {
      "text/plain": [
       "Name                object\n",
       "Platform            object\n",
       "Year_of_Release    float64\n",
       "Genre               object\n",
       "NA_sales           float64\n",
       "EU_sales           float64\n",
       "JP_sales           float64\n",
       "Other_sales        float64\n",
       "Critic_Score       float64\n",
       "User_Score          object\n",
       "Rating              object\n",
       "dtype: object"
      ]
     },
     "execution_count": 6,
     "metadata": {},
     "output_type": "execute_result"
    }
   ],
   "source": [
    "# Getting info about data types\n",
    "\n",
    "data.dtypes"
   ]
  },
  {
   "cell_type": "markdown",
   "metadata": {},
   "source": [
    "We need to convert `User_Score` datatype from 'object' to 'float64', and `Year_of_Release` from 'float64' to 'int'"
   ]
  },
  {
   "cell_type": "code",
   "execution_count": 7,
   "metadata": {},
   "outputs": [
    {
     "data": {
      "text/plain": [
       "array(['8', nan, '8.3', '8.5', '6.6', '8.4', '8.6', '7.7', '6.3', '7.4',\n",
       "       '8.2', '9', '7.9', '8.1', '8.7', '7.1', '3.4', '5.3', '4.8', '3.2',\n",
       "       '8.9', '6.4', '7.8', '7.5', '2.6', '7.2', '9.2', '7', '7.3', '4.3',\n",
       "       '7.6', '5.7', '5', '9.1', '6.5', 'tbd', '8.8', '6.9', '9.4', '6.8',\n",
       "       '6.1', '6.7', '5.4', '4', '4.9', '4.5', '9.3', '6.2', '4.2', '6',\n",
       "       '3.7', '4.1', '5.8', '5.6', '5.5', '4.4', '4.6', '5.9', '3.9',\n",
       "       '3.1', '2.9', '5.2', '3.3', '4.7', '5.1', '3.5', '2.5', '1.9', '3',\n",
       "       '2.7', '2.2', '2', '9.5', '2.1', '3.6', '2.8', '1.8', '3.8', '0',\n",
       "       '1.6', '9.6', '2.4', '1.7', '1.1', '0.3', '1.5', '0.7', '1.2',\n",
       "       '2.3', '0.5', '1.3', '0.2', '0.6', '1.4', '0.9', '1', '9.7'],\n",
       "      dtype=object)"
      ]
     },
     "execution_count": 7,
     "metadata": {},
     "output_type": "execute_result"
    }
   ],
   "source": [
    "# Let's check unique values in 'User_Score'\n",
    "\n",
    "data['User_Score'].unique()"
   ]
  },
  {
   "cell_type": "code",
   "execution_count": 8,
   "metadata": {},
   "outputs": [
    {
     "data": {
      "text/plain": [
       "2424"
      ]
     },
     "execution_count": 8,
     "metadata": {},
     "output_type": "execute_result"
    }
   ],
   "source": [
    "data[data['User_Score']=='tbd']['User_Score'].count()"
   ]
  },
  {
   "cell_type": "code",
   "execution_count": 9,
   "metadata": {},
   "outputs": [
    {
     "data": {
      "text/plain": [
       "2009.0    405\n",
       "2010.0    331\n",
       "2008.0    326\n",
       "2011.0    217\n",
       "2002.0    192\n",
       "2007.0    192\n",
       "2006.0    124\n",
       "2005.0    121\n",
       "2004.0    107\n",
       "2003.0     95\n",
       "2001.0     82\n",
       "2000.0     43\n",
       "2015.0     38\n",
       "2016.0     34\n",
       "2012.0     24\n",
       "2014.0     21\n",
       "2013.0     15\n",
       "1999.0      8\n",
       "1997.0      1\n",
       "Name: Year_of_Release, dtype: int64"
      ]
     },
     "execution_count": 9,
     "metadata": {},
     "output_type": "execute_result"
    }
   ],
   "source": [
    "# To change the date type to numeric, we need to get rid of the 'tbd' values. \n",
    "# Let's see the destribution in 'User_Score'\n",
    "\n",
    "data[data['User_Score']=='tbd']['Year_of_Release'].value_counts()"
   ]
  },
  {
   "cell_type": "code",
   "execution_count": 10,
   "metadata": {
    "scrolled": true
   },
   "outputs": [
    {
     "data": {
      "text/plain": [
       "1"
      ]
     },
     "execution_count": 10,
     "metadata": {},
     "output_type": "execute_result"
    }
   ],
   "source": [
    "# It's best to change these values to 0, but first we need to see how many 0s occur in 'User_Score'.\n",
    "\n",
    "data[data['User_Score']=='0']['User_Score'].count()"
   ]
  },
  {
   "cell_type": "code",
   "execution_count": 11,
   "metadata": {},
   "outputs": [
    {
     "data": {
      "text/plain": [
       "array(['8', nan, '8.3', '8.5', '6.6', '8.4', '8.6', '7.7', '6.3', '7.4',\n",
       "       '8.2', '9', '7.9', '8.1', '8.7', '7.1', '3.4', '5.3', '4.8', '3.2',\n",
       "       '8.9', '6.4', '7.8', '7.5', '2.6', '7.2', '9.2', '7', '7.3', '4.3',\n",
       "       '7.6', '5.7', '5', '9.1', '6.5', '8.8', '6.9', '9.4', '6.8', '6.1',\n",
       "       '6.7', '5.4', '4', '4.9', '4.5', '9.3', '6.2', '4.2', '6', '3.7',\n",
       "       '4.1', '5.8', '5.6', '5.5', '4.4', '4.6', '5.9', '3.9', '3.1',\n",
       "       '2.9', '5.2', '3.3', '4.7', '5.1', '3.5', '2.5', '1.9', '3', '2.7',\n",
       "       '2.2', '2', '9.5', '2.1', '3.6', '2.8', '1.8', '3.8', '0', '1.6',\n",
       "       '9.6', '2.4', '1.7', '1.1', '0.3', '1.5', '0.7', '1.2', '2.3',\n",
       "       '0.5', '1.3', '0.2', '0.6', '1.4', '0.9', '1', '9.7'], dtype=object)"
      ]
     },
     "execution_count": 11,
     "metadata": {},
     "output_type": "execute_result"
    }
   ],
   "source": [
    "# We need to replace 'tbd' values to 0. So we can change the date type to numeric in the next step.\n",
    "\n",
    "data[\"User_Score\"] = data[\"User_Score\"].replace(['tbd'],np.nan)\n",
    "\n",
    "data['User_Score'].unique()"
   ]
  },
  {
   "cell_type": "code",
   "execution_count": 12,
   "metadata": {},
   "outputs": [
    {
     "data": {
      "text/plain": [
       "0"
      ]
     },
     "execution_count": 12,
     "metadata": {},
     "output_type": "execute_result"
    }
   ],
   "source": [
    "# Check duplicates in data\n",
    "\n",
    "data.duplicated().sum()"
   ]
  },
  {
   "cell_type": "markdown",
   "metadata": {},
   "source": [
    "## Prepare the data"
   ]
  },
  {
   "cell_type": "code",
   "execution_count": 13,
   "metadata": {},
   "outputs": [
    {
     "data": {
      "text/plain": [
       "Index(['name', 'platform', 'year_of_release', 'genre', 'na_sales', 'eu_sales',\n",
       "       'jp_sales', 'other_sales', 'critic_score', 'user_score', 'rating'],\n",
       "      dtype='object')"
      ]
     },
     "execution_count": 13,
     "metadata": {},
     "output_type": "execute_result"
    }
   ],
   "source": [
    "# Replace the column names (make them lowercase)\n",
    "\n",
    "data.columns= data.columns.str.lower()\n",
    "data.columns"
   ]
  },
  {
   "cell_type": "code",
   "execution_count": 14,
   "metadata": {},
   "outputs": [
    {
     "data": {
      "text/plain": [
       "name                object\n",
       "platform            object\n",
       "year_of_release    float64\n",
       "genre               object\n",
       "na_sales           float64\n",
       "eu_sales           float64\n",
       "jp_sales           float64\n",
       "other_sales        float64\n",
       "critic_score       float64\n",
       "user_score         float64\n",
       "rating              object\n",
       "dtype: object"
      ]
     },
     "execution_count": 14,
     "metadata": {},
     "output_type": "execute_result"
    }
   ],
   "source": [
    "#Convert the data to the required type\n",
    "\n",
    "data['user_score'] = pd.to_numeric(data['user_score'])\n",
    "data.dtypes"
   ]
  },
  {
   "cell_type": "code",
   "execution_count": 15,
   "metadata": {},
   "outputs": [
    {
     "name": "stdout",
     "output_type": "stream",
     "text": [
      "            columns  percent_missing\n",
      "0              name         0.011965\n",
      "1          platform         0.000000\n",
      "2   year_of_release         1.609333\n",
      "3             genre         0.011965\n",
      "4          na_sales         0.000000\n",
      "5          eu_sales         0.000000\n",
      "6          jp_sales         0.000000\n",
      "7       other_sales         0.000000\n",
      "8      critic_score        51.319174\n",
      "9        user_score        54.591684\n",
      "10           rating        40.478612\n"
     ]
    }
   ],
   "source": [
    "#Count the percentage of missing values\n",
    "\n",
    "percent_missing = data.isnull().sum() * 100 / len(data)\n",
    "missing_value_data = pd.DataFrame({'columns': list(data.columns),\n",
    "                                   'percent_missing': list(percent_missing)})\n",
    "print(missing_value_data)"
   ]
  },
  {
   "cell_type": "code",
   "execution_count": 16,
   "metadata": {},
   "outputs": [
    {
     "data": {
      "text/html": [
       "<div>\n",
       "<style scoped>\n",
       "    .dataframe tbody tr th:only-of-type {\n",
       "        vertical-align: middle;\n",
       "    }\n",
       "\n",
       "    .dataframe tbody tr th {\n",
       "        vertical-align: top;\n",
       "    }\n",
       "\n",
       "    .dataframe thead th {\n",
       "        text-align: right;\n",
       "    }\n",
       "</style>\n",
       "<table border=\"1\" class=\"dataframe\">\n",
       "  <thead>\n",
       "    <tr style=\"text-align: right;\">\n",
       "      <th></th>\n",
       "      <th>name</th>\n",
       "      <th>platform</th>\n",
       "      <th>year_of_release</th>\n",
       "      <th>genre</th>\n",
       "      <th>na_sales</th>\n",
       "      <th>eu_sales</th>\n",
       "      <th>jp_sales</th>\n",
       "      <th>other_sales</th>\n",
       "      <th>critic_score</th>\n",
       "      <th>user_score</th>\n",
       "      <th>rating</th>\n",
       "    </tr>\n",
       "  </thead>\n",
       "  <tbody>\n",
       "    <tr>\n",
       "      <td>659</td>\n",
       "      <td>NaN</td>\n",
       "      <td>GEN</td>\n",
       "      <td>1993.0</td>\n",
       "      <td>NaN</td>\n",
       "      <td>1.78</td>\n",
       "      <td>0.53</td>\n",
       "      <td>0.00</td>\n",
       "      <td>0.08</td>\n",
       "      <td>NaN</td>\n",
       "      <td>NaN</td>\n",
       "      <td>NaN</td>\n",
       "    </tr>\n",
       "    <tr>\n",
       "      <td>14244</td>\n",
       "      <td>NaN</td>\n",
       "      <td>GEN</td>\n",
       "      <td>1993.0</td>\n",
       "      <td>NaN</td>\n",
       "      <td>0.00</td>\n",
       "      <td>0.00</td>\n",
       "      <td>0.03</td>\n",
       "      <td>0.00</td>\n",
       "      <td>NaN</td>\n",
       "      <td>NaN</td>\n",
       "      <td>NaN</td>\n",
       "    </tr>\n",
       "  </tbody>\n",
       "</table>\n",
       "</div>"
      ],
      "text/plain": [
       "      name platform  year_of_release genre  na_sales  eu_sales  jp_sales  \\\n",
       "659    NaN      GEN           1993.0   NaN      1.78      0.53      0.00   \n",
       "14244  NaN      GEN           1993.0   NaN      0.00      0.00      0.03   \n",
       "\n",
       "       other_sales  critic_score  user_score rating  \n",
       "659           0.08           NaN         NaN    NaN  \n",
       "14244         0.00           NaN         NaN    NaN  "
      ]
     },
     "execution_count": 16,
     "metadata": {},
     "output_type": "execute_result"
    }
   ],
   "source": [
    "# Check missing values in `name`\n",
    "\n",
    "data[data['name'].isnull()]"
   ]
  },
  {
   "cell_type": "markdown",
   "metadata": {},
   "source": [
    "We have missing values in just two rows. This number is insignificant for the entire dataset, so we can drop it."
   ]
  },
  {
   "cell_type": "code",
   "execution_count": 17,
   "metadata": {},
   "outputs": [
    {
     "data": {
      "text/html": [
       "<div>\n",
       "<style scoped>\n",
       "    .dataframe tbody tr th:only-of-type {\n",
       "        vertical-align: middle;\n",
       "    }\n",
       "\n",
       "    .dataframe tbody tr th {\n",
       "        vertical-align: top;\n",
       "    }\n",
       "\n",
       "    .dataframe thead th {\n",
       "        text-align: right;\n",
       "    }\n",
       "</style>\n",
       "<table border=\"1\" class=\"dataframe\">\n",
       "  <thead>\n",
       "    <tr style=\"text-align: right;\">\n",
       "      <th></th>\n",
       "      <th>name</th>\n",
       "      <th>platform</th>\n",
       "      <th>year_of_release</th>\n",
       "      <th>genre</th>\n",
       "      <th>na_sales</th>\n",
       "      <th>eu_sales</th>\n",
       "      <th>jp_sales</th>\n",
       "      <th>other_sales</th>\n",
       "      <th>critic_score</th>\n",
       "      <th>user_score</th>\n",
       "      <th>rating</th>\n",
       "    </tr>\n",
       "  </thead>\n",
       "  <tbody>\n",
       "  </tbody>\n",
       "</table>\n",
       "</div>"
      ],
      "text/plain": [
       "Empty DataFrame\n",
       "Columns: [name, platform, year_of_release, genre, na_sales, eu_sales, jp_sales, other_sales, critic_score, user_score, rating]\n",
       "Index: []"
      ]
     },
     "execution_count": 17,
     "metadata": {},
     "output_type": "execute_result"
    }
   ],
   "source": [
    "# Drop missing values\n",
    "initial_data = data.copy()\n",
    "\n",
    "data = data.dropna(subset=['name'])\n",
    "data.reset_index(drop=True)\n",
    "data[data['name'].isnull()]"
   ]
  },
  {
   "cell_type": "code",
   "execution_count": 18,
   "metadata": {},
   "outputs": [
    {
     "data": {
      "text/html": [
       "<div>\n",
       "<style scoped>\n",
       "    .dataframe tbody tr th:only-of-type {\n",
       "        vertical-align: middle;\n",
       "    }\n",
       "\n",
       "    .dataframe tbody tr th {\n",
       "        vertical-align: top;\n",
       "    }\n",
       "\n",
       "    .dataframe thead th {\n",
       "        text-align: right;\n",
       "    }\n",
       "</style>\n",
       "<table border=\"1\" class=\"dataframe\">\n",
       "  <thead>\n",
       "    <tr style=\"text-align: right;\">\n",
       "      <th></th>\n",
       "      <th>name</th>\n",
       "      <th>platform</th>\n",
       "      <th>year_of_release</th>\n",
       "      <th>genre</th>\n",
       "      <th>na_sales</th>\n",
       "      <th>eu_sales</th>\n",
       "      <th>jp_sales</th>\n",
       "      <th>other_sales</th>\n",
       "      <th>critic_score</th>\n",
       "      <th>user_score</th>\n",
       "      <th>rating</th>\n",
       "    </tr>\n",
       "  </thead>\n",
       "  <tbody>\n",
       "  </tbody>\n",
       "</table>\n",
       "</div>"
      ],
      "text/plain": [
       "Empty DataFrame\n",
       "Columns: [name, platform, year_of_release, genre, na_sales, eu_sales, jp_sales, other_sales, critic_score, user_score, rating]\n",
       "Index: []"
      ]
     },
     "execution_count": 18,
     "metadata": {},
     "output_type": "execute_result"
    }
   ],
   "source": [
    "# Check missing values in `genre`\n",
    "\n",
    "data[data['genre'].isnull()]"
   ]
  },
  {
   "cell_type": "markdown",
   "metadata": {},
   "source": [
    "The missing data in `name` and `genre` were symmetrical, so they've already been removed too."
   ]
  },
  {
   "cell_type": "code",
   "execution_count": 19,
   "metadata": {},
   "outputs": [
    {
     "data": {
      "text/html": [
       "<div>\n",
       "<style scoped>\n",
       "    .dataframe tbody tr th:only-of-type {\n",
       "        vertical-align: middle;\n",
       "    }\n",
       "\n",
       "    .dataframe tbody tr th {\n",
       "        vertical-align: top;\n",
       "    }\n",
       "\n",
       "    .dataframe thead th {\n",
       "        text-align: right;\n",
       "    }\n",
       "</style>\n",
       "<table border=\"1\" class=\"dataframe\">\n",
       "  <thead>\n",
       "    <tr style=\"text-align: right;\">\n",
       "      <th></th>\n",
       "      <th>name</th>\n",
       "      <th>platform</th>\n",
       "      <th>year_of_release</th>\n",
       "      <th>genre</th>\n",
       "      <th>na_sales</th>\n",
       "      <th>eu_sales</th>\n",
       "      <th>jp_sales</th>\n",
       "      <th>other_sales</th>\n",
       "      <th>critic_score</th>\n",
       "      <th>user_score</th>\n",
       "      <th>rating</th>\n",
       "    </tr>\n",
       "  </thead>\n",
       "  <tbody>\n",
       "    <tr>\n",
       "      <td>183</td>\n",
       "      <td>Madden NFL 2004</td>\n",
       "      <td>PS2</td>\n",
       "      <td>NaN</td>\n",
       "      <td>Sports</td>\n",
       "      <td>4.26</td>\n",
       "      <td>0.26</td>\n",
       "      <td>0.01</td>\n",
       "      <td>0.71</td>\n",
       "      <td>94.0</td>\n",
       "      <td>8.5</td>\n",
       "      <td>E</td>\n",
       "    </tr>\n",
       "    <tr>\n",
       "      <td>377</td>\n",
       "      <td>FIFA Soccer 2004</td>\n",
       "      <td>PS2</td>\n",
       "      <td>NaN</td>\n",
       "      <td>Sports</td>\n",
       "      <td>0.59</td>\n",
       "      <td>2.36</td>\n",
       "      <td>0.04</td>\n",
       "      <td>0.51</td>\n",
       "      <td>84.0</td>\n",
       "      <td>6.4</td>\n",
       "      <td>E</td>\n",
       "    </tr>\n",
       "    <tr>\n",
       "      <td>456</td>\n",
       "      <td>LEGO Batman: The Videogame</td>\n",
       "      <td>Wii</td>\n",
       "      <td>NaN</td>\n",
       "      <td>Action</td>\n",
       "      <td>1.80</td>\n",
       "      <td>0.97</td>\n",
       "      <td>0.00</td>\n",
       "      <td>0.29</td>\n",
       "      <td>74.0</td>\n",
       "      <td>7.9</td>\n",
       "      <td>E10+</td>\n",
       "    </tr>\n",
       "    <tr>\n",
       "      <td>475</td>\n",
       "      <td>wwe Smackdown vs. Raw 2006</td>\n",
       "      <td>PS2</td>\n",
       "      <td>NaN</td>\n",
       "      <td>Fighting</td>\n",
       "      <td>1.57</td>\n",
       "      <td>1.02</td>\n",
       "      <td>0.00</td>\n",
       "      <td>0.41</td>\n",
       "      <td>NaN</td>\n",
       "      <td>NaN</td>\n",
       "      <td>NaN</td>\n",
       "    </tr>\n",
       "    <tr>\n",
       "      <td>609</td>\n",
       "      <td>Space Invaders</td>\n",
       "      <td>2600</td>\n",
       "      <td>NaN</td>\n",
       "      <td>Shooter</td>\n",
       "      <td>2.36</td>\n",
       "      <td>0.14</td>\n",
       "      <td>0.00</td>\n",
       "      <td>0.03</td>\n",
       "      <td>NaN</td>\n",
       "      <td>NaN</td>\n",
       "      <td>NaN</td>\n",
       "    </tr>\n",
       "    <tr>\n",
       "      <td>...</td>\n",
       "      <td>...</td>\n",
       "      <td>...</td>\n",
       "      <td>...</td>\n",
       "      <td>...</td>\n",
       "      <td>...</td>\n",
       "      <td>...</td>\n",
       "      <td>...</td>\n",
       "      <td>...</td>\n",
       "      <td>...</td>\n",
       "      <td>...</td>\n",
       "      <td>...</td>\n",
       "    </tr>\n",
       "    <tr>\n",
       "      <td>16373</td>\n",
       "      <td>PDC World Championship Darts 2008</td>\n",
       "      <td>PSP</td>\n",
       "      <td>NaN</td>\n",
       "      <td>Sports</td>\n",
       "      <td>0.01</td>\n",
       "      <td>0.00</td>\n",
       "      <td>0.00</td>\n",
       "      <td>0.00</td>\n",
       "      <td>43.0</td>\n",
       "      <td>NaN</td>\n",
       "      <td>E10+</td>\n",
       "    </tr>\n",
       "    <tr>\n",
       "      <td>16405</td>\n",
       "      <td>Freaky Flyers</td>\n",
       "      <td>GC</td>\n",
       "      <td>NaN</td>\n",
       "      <td>Racing</td>\n",
       "      <td>0.01</td>\n",
       "      <td>0.00</td>\n",
       "      <td>0.00</td>\n",
       "      <td>0.00</td>\n",
       "      <td>69.0</td>\n",
       "      <td>6.5</td>\n",
       "      <td>T</td>\n",
       "    </tr>\n",
       "    <tr>\n",
       "      <td>16448</td>\n",
       "      <td>Inversion</td>\n",
       "      <td>PC</td>\n",
       "      <td>NaN</td>\n",
       "      <td>Shooter</td>\n",
       "      <td>0.01</td>\n",
       "      <td>0.00</td>\n",
       "      <td>0.00</td>\n",
       "      <td>0.00</td>\n",
       "      <td>59.0</td>\n",
       "      <td>6.7</td>\n",
       "      <td>M</td>\n",
       "    </tr>\n",
       "    <tr>\n",
       "      <td>16458</td>\n",
       "      <td>Hakuouki: Shinsengumi Kitan</td>\n",
       "      <td>PS3</td>\n",
       "      <td>NaN</td>\n",
       "      <td>Adventure</td>\n",
       "      <td>0.01</td>\n",
       "      <td>0.00</td>\n",
       "      <td>0.00</td>\n",
       "      <td>0.00</td>\n",
       "      <td>NaN</td>\n",
       "      <td>NaN</td>\n",
       "      <td>NaN</td>\n",
       "    </tr>\n",
       "    <tr>\n",
       "      <td>16522</td>\n",
       "      <td>Virtua Quest</td>\n",
       "      <td>GC</td>\n",
       "      <td>NaN</td>\n",
       "      <td>Role-Playing</td>\n",
       "      <td>0.01</td>\n",
       "      <td>0.00</td>\n",
       "      <td>0.00</td>\n",
       "      <td>0.00</td>\n",
       "      <td>55.0</td>\n",
       "      <td>5.5</td>\n",
       "      <td>T</td>\n",
       "    </tr>\n",
       "  </tbody>\n",
       "</table>\n",
       "<p>269 rows × 11 columns</p>\n",
       "</div>"
      ],
      "text/plain": [
       "                                    name platform  year_of_release  \\\n",
       "183                      Madden NFL 2004      PS2              NaN   \n",
       "377                     FIFA Soccer 2004      PS2              NaN   \n",
       "456           LEGO Batman: The Videogame      Wii              NaN   \n",
       "475           wwe Smackdown vs. Raw 2006      PS2              NaN   \n",
       "609                       Space Invaders     2600              NaN   \n",
       "...                                  ...      ...              ...   \n",
       "16373  PDC World Championship Darts 2008      PSP              NaN   \n",
       "16405                      Freaky Flyers       GC              NaN   \n",
       "16448                          Inversion       PC              NaN   \n",
       "16458        Hakuouki: Shinsengumi Kitan      PS3              NaN   \n",
       "16522                       Virtua Quest       GC              NaN   \n",
       "\n",
       "              genre  na_sales  eu_sales  jp_sales  other_sales  critic_score  \\\n",
       "183          Sports      4.26      0.26      0.01         0.71          94.0   \n",
       "377          Sports      0.59      2.36      0.04         0.51          84.0   \n",
       "456          Action      1.80      0.97      0.00         0.29          74.0   \n",
       "475        Fighting      1.57      1.02      0.00         0.41           NaN   \n",
       "609         Shooter      2.36      0.14      0.00         0.03           NaN   \n",
       "...             ...       ...       ...       ...          ...           ...   \n",
       "16373        Sports      0.01      0.00      0.00         0.00          43.0   \n",
       "16405        Racing      0.01      0.00      0.00         0.00          69.0   \n",
       "16448       Shooter      0.01      0.00      0.00         0.00          59.0   \n",
       "16458     Adventure      0.01      0.00      0.00         0.00           NaN   \n",
       "16522  Role-Playing      0.01      0.00      0.00         0.00          55.0   \n",
       "\n",
       "       user_score rating  \n",
       "183           8.5      E  \n",
       "377           6.4      E  \n",
       "456           7.9   E10+  \n",
       "475           NaN    NaN  \n",
       "609           NaN    NaN  \n",
       "...           ...    ...  \n",
       "16373         NaN   E10+  \n",
       "16405         6.5      T  \n",
       "16448         6.7      M  \n",
       "16458         NaN    NaN  \n",
       "16522         5.5      T  \n",
       "\n",
       "[269 rows x 11 columns]"
      ]
     },
     "execution_count": 19,
     "metadata": {},
     "output_type": "execute_result"
    }
   ],
   "source": [
    "# Check missing values in `year_of_release`\n",
    "\n",
    "data[data['year_of_release'].isnull()]"
   ]
  },
  {
   "cell_type": "markdown",
   "metadata": {},
   "source": [
    "In `year_of_release`, less than 2% of values are missing, so we can drop them."
   ]
  },
  {
   "cell_type": "code",
   "execution_count": 20,
   "metadata": {},
   "outputs": [
    {
     "data": {
      "text/html": [
       "<div>\n",
       "<style scoped>\n",
       "    .dataframe tbody tr th:only-of-type {\n",
       "        vertical-align: middle;\n",
       "    }\n",
       "\n",
       "    .dataframe tbody tr th {\n",
       "        vertical-align: top;\n",
       "    }\n",
       "\n",
       "    .dataframe thead th {\n",
       "        text-align: right;\n",
       "    }\n",
       "</style>\n",
       "<table border=\"1\" class=\"dataframe\">\n",
       "  <thead>\n",
       "    <tr style=\"text-align: right;\">\n",
       "      <th></th>\n",
       "      <th>name</th>\n",
       "      <th>platform</th>\n",
       "      <th>year_of_release</th>\n",
       "      <th>genre</th>\n",
       "      <th>na_sales</th>\n",
       "      <th>eu_sales</th>\n",
       "      <th>jp_sales</th>\n",
       "      <th>other_sales</th>\n",
       "      <th>critic_score</th>\n",
       "      <th>user_score</th>\n",
       "      <th>rating</th>\n",
       "    </tr>\n",
       "  </thead>\n",
       "  <tbody>\n",
       "  </tbody>\n",
       "</table>\n",
       "</div>"
      ],
      "text/plain": [
       "Empty DataFrame\n",
       "Columns: [name, platform, year_of_release, genre, na_sales, eu_sales, jp_sales, other_sales, critic_score, user_score, rating]\n",
       "Index: []"
      ]
     },
     "execution_count": 20,
     "metadata": {},
     "output_type": "execute_result"
    }
   ],
   "source": [
    "# Drop missing values\n",
    "\n",
    "data = data.dropna(subset=['year_of_release'])\n",
    "data.reset_index(drop=True)\n",
    "data[data['year_of_release'].isnull()]"
   ]
  },
  {
   "cell_type": "code",
   "execution_count": 21,
   "metadata": {},
   "outputs": [
    {
     "data": {
      "text/plain": [
       "6580"
      ]
     },
     "execution_count": 21,
     "metadata": {},
     "output_type": "execute_result"
    }
   ],
   "source": [
    "#Let's see if missimg values in 'critic_score', 'user_score' and 'rating' are symmetric\n",
    "\n",
    "data[(data['critic_score'].isnull())  \n",
    "     & (data['user_score'].isnull()) \n",
    "     & (data['rating'].isnull())].shape[0]"
   ]
  },
  {
   "cell_type": "code",
   "execution_count": 22,
   "metadata": {},
   "outputs": [
    {
     "data": {
      "text/plain": [
       "8461"
      ]
     },
     "execution_count": 22,
     "metadata": {},
     "output_type": "execute_result"
    }
   ],
   "source": [
    "data['critic_score'].isnull().sum()"
   ]
  },
  {
   "cell_type": "code",
   "execution_count": 23,
   "metadata": {},
   "outputs": [
    {
     "data": {
      "text/plain": [
       "8981"
      ]
     },
     "execution_count": 23,
     "metadata": {},
     "output_type": "execute_result"
    }
   ],
   "source": [
    "data['user_score'].isnull().sum()"
   ]
  },
  {
   "cell_type": "code",
   "execution_count": 24,
   "metadata": {},
   "outputs": [
    {
     "data": {
      "text/plain": [
       "6676"
      ]
     },
     "execution_count": 24,
     "metadata": {},
     "output_type": "execute_result"
    }
   ],
   "source": [
    "data['rating'].isnull().sum()"
   ]
  },
  {
   "cell_type": "markdown",
   "metadata": {},
   "source": [
    "The amount of missing values is highly consistent. It means that for certain films, all rating data has been missed. More than 40% of the values are missing in each column. It is a significant amount, so we cannot delete this data. We will leave them as is."
   ]
  },
  {
   "cell_type": "code",
   "execution_count": 25,
   "metadata": {},
   "outputs": [
    {
     "data": {
      "text/html": [
       "<div>\n",
       "<style scoped>\n",
       "    .dataframe tbody tr th:only-of-type {\n",
       "        vertical-align: middle;\n",
       "    }\n",
       "\n",
       "    .dataframe tbody tr th {\n",
       "        vertical-align: top;\n",
       "    }\n",
       "\n",
       "    .dataframe thead th {\n",
       "        text-align: right;\n",
       "    }\n",
       "</style>\n",
       "<table border=\"1\" class=\"dataframe\">\n",
       "  <thead>\n",
       "    <tr style=\"text-align: right;\">\n",
       "      <th></th>\n",
       "      <th>name</th>\n",
       "      <th>platform</th>\n",
       "      <th>year_of_release</th>\n",
       "      <th>genre</th>\n",
       "      <th>na_sales</th>\n",
       "      <th>eu_sales</th>\n",
       "      <th>jp_sales</th>\n",
       "      <th>other_sales</th>\n",
       "      <th>critic_score</th>\n",
       "      <th>user_score</th>\n",
       "      <th>rating</th>\n",
       "      <th>total_sales</th>\n",
       "    </tr>\n",
       "  </thead>\n",
       "  <tbody>\n",
       "    <tr>\n",
       "      <td>0</td>\n",
       "      <td>Wii Sports</td>\n",
       "      <td>Wii</td>\n",
       "      <td>2006.0</td>\n",
       "      <td>Sports</td>\n",
       "      <td>41.36</td>\n",
       "      <td>28.96</td>\n",
       "      <td>3.77</td>\n",
       "      <td>8.45</td>\n",
       "      <td>76.0</td>\n",
       "      <td>8.0</td>\n",
       "      <td>E</td>\n",
       "      <td>82.54</td>\n",
       "    </tr>\n",
       "    <tr>\n",
       "      <td>1</td>\n",
       "      <td>Super Mario Bros.</td>\n",
       "      <td>NES</td>\n",
       "      <td>1985.0</td>\n",
       "      <td>Platform</td>\n",
       "      <td>29.08</td>\n",
       "      <td>3.58</td>\n",
       "      <td>6.81</td>\n",
       "      <td>0.77</td>\n",
       "      <td>NaN</td>\n",
       "      <td>NaN</td>\n",
       "      <td>NaN</td>\n",
       "      <td>40.24</td>\n",
       "    </tr>\n",
       "    <tr>\n",
       "      <td>2</td>\n",
       "      <td>Mario Kart Wii</td>\n",
       "      <td>Wii</td>\n",
       "      <td>2008.0</td>\n",
       "      <td>Racing</td>\n",
       "      <td>15.68</td>\n",
       "      <td>12.76</td>\n",
       "      <td>3.79</td>\n",
       "      <td>3.29</td>\n",
       "      <td>82.0</td>\n",
       "      <td>8.3</td>\n",
       "      <td>E</td>\n",
       "      <td>35.52</td>\n",
       "    </tr>\n",
       "    <tr>\n",
       "      <td>3</td>\n",
       "      <td>Wii Sports Resort</td>\n",
       "      <td>Wii</td>\n",
       "      <td>2009.0</td>\n",
       "      <td>Sports</td>\n",
       "      <td>15.61</td>\n",
       "      <td>10.93</td>\n",
       "      <td>3.28</td>\n",
       "      <td>2.95</td>\n",
       "      <td>80.0</td>\n",
       "      <td>8.0</td>\n",
       "      <td>E</td>\n",
       "      <td>32.77</td>\n",
       "    </tr>\n",
       "    <tr>\n",
       "      <td>4</td>\n",
       "      <td>Pokemon Red/Pokemon Blue</td>\n",
       "      <td>GB</td>\n",
       "      <td>1996.0</td>\n",
       "      <td>Role-Playing</td>\n",
       "      <td>11.27</td>\n",
       "      <td>8.89</td>\n",
       "      <td>10.22</td>\n",
       "      <td>1.00</td>\n",
       "      <td>NaN</td>\n",
       "      <td>NaN</td>\n",
       "      <td>NaN</td>\n",
       "      <td>31.38</td>\n",
       "    </tr>\n",
       "  </tbody>\n",
       "</table>\n",
       "</div>"
      ],
      "text/plain": [
       "                       name platform  year_of_release         genre  na_sales  \\\n",
       "0                Wii Sports      Wii           2006.0        Sports     41.36   \n",
       "1         Super Mario Bros.      NES           1985.0      Platform     29.08   \n",
       "2            Mario Kart Wii      Wii           2008.0        Racing     15.68   \n",
       "3         Wii Sports Resort      Wii           2009.0        Sports     15.61   \n",
       "4  Pokemon Red/Pokemon Blue       GB           1996.0  Role-Playing     11.27   \n",
       "\n",
       "   eu_sales  jp_sales  other_sales  critic_score  user_score rating  \\\n",
       "0     28.96      3.77         8.45          76.0         8.0      E   \n",
       "1      3.58      6.81         0.77           NaN         NaN    NaN   \n",
       "2     12.76      3.79         3.29          82.0         8.3      E   \n",
       "3     10.93      3.28         2.95          80.0         8.0      E   \n",
       "4      8.89     10.22         1.00           NaN         NaN    NaN   \n",
       "\n",
       "   total_sales  \n",
       "0        82.54  \n",
       "1        40.24  \n",
       "2        35.52  \n",
       "3        32.77  \n",
       "4        31.38  "
      ]
     },
     "execution_count": 25,
     "metadata": {},
     "output_type": "execute_result"
    }
   ],
   "source": [
    "# Calculate the total sales (the sum of sales in all regions) for each game and put these values in a separate column.\n",
    "\n",
    "data['total_sales'] = data['na_sales'] + data['eu_sales'] + data['jp_sales'] + data['other_sales']\n",
    "data.head()"
   ]
  },
  {
   "cell_type": "markdown",
   "metadata": {},
   "source": [
    "## Analyze the data"
   ]
  },
  {
   "cell_type": "code",
   "execution_count": 26,
   "metadata": {},
   "outputs": [
    {
     "data": {
      "text/html": [
       "<div>\n",
       "<style scoped>\n",
       "    .dataframe tbody tr th:only-of-type {\n",
       "        vertical-align: middle;\n",
       "    }\n",
       "\n",
       "    .dataframe tbody tr th {\n",
       "        vertical-align: top;\n",
       "    }\n",
       "\n",
       "    .dataframe thead th {\n",
       "        text-align: right;\n",
       "    }\n",
       "</style>\n",
       "<table border=\"1\" class=\"dataframe\">\n",
       "  <thead>\n",
       "    <tr style=\"text-align: right;\">\n",
       "      <th></th>\n",
       "      <th>name</th>\n",
       "    </tr>\n",
       "    <tr>\n",
       "      <th>year_of_release</th>\n",
       "      <th></th>\n",
       "    </tr>\n",
       "  </thead>\n",
       "  <tbody>\n",
       "    <tr>\n",
       "      <td>2016.0</td>\n",
       "      <td>502</td>\n",
       "    </tr>\n",
       "    <tr>\n",
       "      <td>2015.0</td>\n",
       "      <td>606</td>\n",
       "    </tr>\n",
       "    <tr>\n",
       "      <td>2014.0</td>\n",
       "      <td>581</td>\n",
       "    </tr>\n",
       "    <tr>\n",
       "      <td>2013.0</td>\n",
       "      <td>544</td>\n",
       "    </tr>\n",
       "    <tr>\n",
       "      <td>2012.0</td>\n",
       "      <td>653</td>\n",
       "    </tr>\n",
       "    <tr>\n",
       "      <td>2011.0</td>\n",
       "      <td>1136</td>\n",
       "    </tr>\n",
       "    <tr>\n",
       "      <td>2010.0</td>\n",
       "      <td>1255</td>\n",
       "    </tr>\n",
       "    <tr>\n",
       "      <td>2009.0</td>\n",
       "      <td>1426</td>\n",
       "    </tr>\n",
       "    <tr>\n",
       "      <td>2008.0</td>\n",
       "      <td>1427</td>\n",
       "    </tr>\n",
       "    <tr>\n",
       "      <td>2007.0</td>\n",
       "      <td>1197</td>\n",
       "    </tr>\n",
       "    <tr>\n",
       "      <td>2006.0</td>\n",
       "      <td>1006</td>\n",
       "    </tr>\n",
       "    <tr>\n",
       "      <td>2005.0</td>\n",
       "      <td>939</td>\n",
       "    </tr>\n",
       "    <tr>\n",
       "      <td>2004.0</td>\n",
       "      <td>762</td>\n",
       "    </tr>\n",
       "    <tr>\n",
       "      <td>2003.0</td>\n",
       "      <td>775</td>\n",
       "    </tr>\n",
       "    <tr>\n",
       "      <td>2002.0</td>\n",
       "      <td>829</td>\n",
       "    </tr>\n",
       "    <tr>\n",
       "      <td>2001.0</td>\n",
       "      <td>482</td>\n",
       "    </tr>\n",
       "    <tr>\n",
       "      <td>2000.0</td>\n",
       "      <td>350</td>\n",
       "    </tr>\n",
       "    <tr>\n",
       "      <td>1999.0</td>\n",
       "      <td>338</td>\n",
       "    </tr>\n",
       "    <tr>\n",
       "      <td>1998.0</td>\n",
       "      <td>379</td>\n",
       "    </tr>\n",
       "    <tr>\n",
       "      <td>1997.0</td>\n",
       "      <td>289</td>\n",
       "    </tr>\n",
       "    <tr>\n",
       "      <td>1996.0</td>\n",
       "      <td>263</td>\n",
       "    </tr>\n",
       "    <tr>\n",
       "      <td>1995.0</td>\n",
       "      <td>219</td>\n",
       "    </tr>\n",
       "    <tr>\n",
       "      <td>1994.0</td>\n",
       "      <td>121</td>\n",
       "    </tr>\n",
       "    <tr>\n",
       "      <td>1993.0</td>\n",
       "      <td>60</td>\n",
       "    </tr>\n",
       "    <tr>\n",
       "      <td>1992.0</td>\n",
       "      <td>43</td>\n",
       "    </tr>\n",
       "    <tr>\n",
       "      <td>1991.0</td>\n",
       "      <td>41</td>\n",
       "    </tr>\n",
       "    <tr>\n",
       "      <td>1990.0</td>\n",
       "      <td>16</td>\n",
       "    </tr>\n",
       "    <tr>\n",
       "      <td>1989.0</td>\n",
       "      <td>17</td>\n",
       "    </tr>\n",
       "    <tr>\n",
       "      <td>1988.0</td>\n",
       "      <td>15</td>\n",
       "    </tr>\n",
       "    <tr>\n",
       "      <td>1987.0</td>\n",
       "      <td>16</td>\n",
       "    </tr>\n",
       "    <tr>\n",
       "      <td>1986.0</td>\n",
       "      <td>21</td>\n",
       "    </tr>\n",
       "    <tr>\n",
       "      <td>1985.0</td>\n",
       "      <td>14</td>\n",
       "    </tr>\n",
       "    <tr>\n",
       "      <td>1984.0</td>\n",
       "      <td>14</td>\n",
       "    </tr>\n",
       "    <tr>\n",
       "      <td>1983.0</td>\n",
       "      <td>17</td>\n",
       "    </tr>\n",
       "    <tr>\n",
       "      <td>1982.0</td>\n",
       "      <td>36</td>\n",
       "    </tr>\n",
       "    <tr>\n",
       "      <td>1981.0</td>\n",
       "      <td>46</td>\n",
       "    </tr>\n",
       "    <tr>\n",
       "      <td>1980.0</td>\n",
       "      <td>9</td>\n",
       "    </tr>\n",
       "  </tbody>\n",
       "</table>\n",
       "</div>"
      ],
      "text/plain": [
       "                 name\n",
       "year_of_release      \n",
       "2016.0            502\n",
       "2015.0            606\n",
       "2014.0            581\n",
       "2013.0            544\n",
       "2012.0            653\n",
       "2011.0           1136\n",
       "2010.0           1255\n",
       "2009.0           1426\n",
       "2008.0           1427\n",
       "2007.0           1197\n",
       "2006.0           1006\n",
       "2005.0            939\n",
       "2004.0            762\n",
       "2003.0            775\n",
       "2002.0            829\n",
       "2001.0            482\n",
       "2000.0            350\n",
       "1999.0            338\n",
       "1998.0            379\n",
       "1997.0            289\n",
       "1996.0            263\n",
       "1995.0            219\n",
       "1994.0            121\n",
       "1993.0             60\n",
       "1992.0             43\n",
       "1991.0             41\n",
       "1990.0             16\n",
       "1989.0             17\n",
       "1988.0             15\n",
       "1987.0             16\n",
       "1986.0             21\n",
       "1985.0             14\n",
       "1984.0             14\n",
       "1983.0             17\n",
       "1982.0             36\n",
       "1981.0             46\n",
       "1980.0              9"
      ]
     },
     "execution_count": 26,
     "metadata": {},
     "output_type": "execute_result"
    }
   ],
   "source": [
    "# Look at how many games were released in different years\n",
    "\n",
    "pd.DataFrame(data.groupby('year_of_release')['name'].count()).sort_values('year_of_release', ascending=False)"
   ]
  },
  {
   "cell_type": "code",
   "execution_count": 27,
   "metadata": {},
   "outputs": [
    {
     "data": {
      "image/png": "[encoded data removed]",
      "text/plain": [
       "<Figure size 1440x720 with 1 Axes>"
      ]
     },
     "metadata": {
      "needs_background": "light"
     },
     "output_type": "display_data"
    }
   ],
   "source": [
    "df = data[['year_of_release', 'name']].groupby('year_of_release').count().sort_values(by = 'year_of_release').reset_index()\n",
    "df['year_of_release'] = df['year_of_release'].astype(int)\n",
    "fig,ax=plt.subplots(figsize=(20,10))\n",
    "ax.vlines(x=df['year_of_release'], ymin=0, ymax=df.name, color='blue', alpha=0.7, linewidth = 3)\n",
    "ax.scatter(x=df['year_of_release'], y=df.name, s=75, color = 'black', alpha=0.7)\n",
    "ax.set_title('Games', fontsize=20)\n",
    "ax.set_ylabel('Number of games', fontsize=20)\n",
    "\n",
    "\n",
    "for row in df.itertuples():\n",
    "    ax.text(row.year_of_release, row.name+30, s=round(row.name,2), horizontalalignment='center', verticalalignment = \"bottom\")"
   ]
  },
  {
   "cell_type": "markdown",
   "metadata": {},
   "source": [
    "We see that after 1993 the number of games released per year began to rise. The next jump was observed in 2002 and continued until 2011. After that, the number of released games per year began to decline and almost halved. On the given plot, we may see that the best years of the game industry were in 2007 - 2011."
   ]
  },
  {
   "cell_type": "code",
   "execution_count": 28,
   "metadata": {},
   "outputs": [
    {
     "data": {
      "text/html": [
       "<div>\n",
       "<style scoped>\n",
       "    .dataframe tbody tr th:only-of-type {\n",
       "        vertical-align: middle;\n",
       "    }\n",
       "\n",
       "    .dataframe tbody tr th {\n",
       "        vertical-align: top;\n",
       "    }\n",
       "\n",
       "    .dataframe thead th {\n",
       "        text-align: right;\n",
       "    }\n",
       "</style>\n",
       "<table border=\"1\" class=\"dataframe\">\n",
       "  <thead>\n",
       "    <tr style=\"text-align: right;\">\n",
       "      <th></th>\n",
       "      <th>total_sales</th>\n",
       "    </tr>\n",
       "    <tr>\n",
       "      <th>platform</th>\n",
       "      <th></th>\n",
       "    </tr>\n",
       "  </thead>\n",
       "  <tbody>\n",
       "    <tr>\n",
       "      <td>PS2</td>\n",
       "      <td>2127</td>\n",
       "    </tr>\n",
       "    <tr>\n",
       "      <td>DS</td>\n",
       "      <td>2121</td>\n",
       "    </tr>\n",
       "    <tr>\n",
       "      <td>PS3</td>\n",
       "      <td>1306</td>\n",
       "    </tr>\n",
       "    <tr>\n",
       "      <td>Wii</td>\n",
       "      <td>1286</td>\n",
       "    </tr>\n",
       "    <tr>\n",
       "      <td>X360</td>\n",
       "      <td>1232</td>\n",
       "    </tr>\n",
       "    <tr>\n",
       "      <td>PSP</td>\n",
       "      <td>1193</td>\n",
       "    </tr>\n",
       "    <tr>\n",
       "      <td>PS</td>\n",
       "      <td>1190</td>\n",
       "    </tr>\n",
       "    <tr>\n",
       "      <td>PC</td>\n",
       "      <td>957</td>\n",
       "    </tr>\n",
       "    <tr>\n",
       "      <td>GBA</td>\n",
       "      <td>811</td>\n",
       "    </tr>\n",
       "    <tr>\n",
       "      <td>XB</td>\n",
       "      <td>803</td>\n",
       "    </tr>\n",
       "    <tr>\n",
       "      <td>GC</td>\n",
       "      <td>542</td>\n",
       "    </tr>\n",
       "    <tr>\n",
       "      <td>3DS</td>\n",
       "      <td>512</td>\n",
       "    </tr>\n",
       "    <tr>\n",
       "      <td>PSV</td>\n",
       "      <td>429</td>\n",
       "    </tr>\n",
       "    <tr>\n",
       "      <td>PS4</td>\n",
       "      <td>392</td>\n",
       "    </tr>\n",
       "    <tr>\n",
       "      <td>N64</td>\n",
       "      <td>316</td>\n",
       "    </tr>\n",
       "    <tr>\n",
       "      <td>XOne</td>\n",
       "      <td>247</td>\n",
       "    </tr>\n",
       "    <tr>\n",
       "      <td>SNES</td>\n",
       "      <td>239</td>\n",
       "    </tr>\n",
       "    <tr>\n",
       "      <td>SAT</td>\n",
       "      <td>173</td>\n",
       "    </tr>\n",
       "    <tr>\n",
       "      <td>WiiU</td>\n",
       "      <td>147</td>\n",
       "    </tr>\n",
       "    <tr>\n",
       "      <td>2600</td>\n",
       "      <td>116</td>\n",
       "    </tr>\n",
       "    <tr>\n",
       "      <td>NES</td>\n",
       "      <td>98</td>\n",
       "    </tr>\n",
       "    <tr>\n",
       "      <td>GB</td>\n",
       "      <td>97</td>\n",
       "    </tr>\n",
       "    <tr>\n",
       "      <td>DC</td>\n",
       "      <td>52</td>\n",
       "    </tr>\n",
       "    <tr>\n",
       "      <td>GEN</td>\n",
       "      <td>27</td>\n",
       "    </tr>\n",
       "    <tr>\n",
       "      <td>NG</td>\n",
       "      <td>12</td>\n",
       "    </tr>\n",
       "    <tr>\n",
       "      <td>SCD</td>\n",
       "      <td>6</td>\n",
       "    </tr>\n",
       "    <tr>\n",
       "      <td>WS</td>\n",
       "      <td>6</td>\n",
       "    </tr>\n",
       "    <tr>\n",
       "      <td>3DO</td>\n",
       "      <td>3</td>\n",
       "    </tr>\n",
       "    <tr>\n",
       "      <td>TG16</td>\n",
       "      <td>2</td>\n",
       "    </tr>\n",
       "    <tr>\n",
       "      <td>PCFX</td>\n",
       "      <td>1</td>\n",
       "    </tr>\n",
       "    <tr>\n",
       "      <td>GG</td>\n",
       "      <td>1</td>\n",
       "    </tr>\n",
       "  </tbody>\n",
       "</table>\n",
       "</div>"
      ],
      "text/plain": [
       "          total_sales\n",
       "platform             \n",
       "PS2              2127\n",
       "DS               2121\n",
       "PS3              1306\n",
       "Wii              1286\n",
       "X360             1232\n",
       "PSP              1193\n",
       "PS               1190\n",
       "PC                957\n",
       "GBA               811\n",
       "XB                803\n",
       "GC                542\n",
       "3DS               512\n",
       "PSV               429\n",
       "PS4               392\n",
       "N64               316\n",
       "XOne              247\n",
       "SNES              239\n",
       "SAT               173\n",
       "WiiU              147\n",
       "2600              116\n",
       "NES                98\n",
       "GB                 97\n",
       "DC                 52\n",
       "GEN                27\n",
       "NG                 12\n",
       "SCD                 6\n",
       "WS                  6\n",
       "3DO                 3\n",
       "TG16                2\n",
       "PCFX                1\n",
       "GG                  1"
      ]
     },
     "execution_count": 28,
     "metadata": {},
     "output_type": "execute_result"
    }
   ],
   "source": [
    "# Look at how sales varied from platform to platform\n",
    "\n",
    "pd.DataFrame(data.groupby('platform')['total_sales'].count()).sort_values('total_sales', ascending=False)"
   ]
  },
  {
   "cell_type": "markdown",
   "metadata": {},
   "source": [
    "The platforms on which the most games were released are 'PS2', 'DS', 'PS3'. The platforms with the fewest releases are 'GG', 'PCFX', 'TG16'."
   ]
  },
  {
   "cell_type": "code",
   "execution_count": 29,
   "metadata": {},
   "outputs": [
    {
     "data": {
      "text/html": [
       "<div>\n",
       "<style scoped>\n",
       "    .dataframe tbody tr th:only-of-type {\n",
       "        vertical-align: middle;\n",
       "    }\n",
       "\n",
       "    .dataframe tbody tr th {\n",
       "        vertical-align: top;\n",
       "    }\n",
       "\n",
       "    .dataframe thead th {\n",
       "        text-align: right;\n",
       "    }\n",
       "</style>\n",
       "<table border=\"1\" class=\"dataframe\">\n",
       "  <thead>\n",
       "    <tr style=\"text-align: right;\">\n",
       "      <th></th>\n",
       "      <th>platform</th>\n",
       "      <th>total_sales</th>\n",
       "    </tr>\n",
       "  </thead>\n",
       "  <tbody>\n",
       "    <tr>\n",
       "      <td>0</td>\n",
       "      <td>PCFX</td>\n",
       "      <td>0.03</td>\n",
       "    </tr>\n",
       "    <tr>\n",
       "      <td>1</td>\n",
       "      <td>GG</td>\n",
       "      <td>0.04</td>\n",
       "    </tr>\n",
       "    <tr>\n",
       "      <td>2</td>\n",
       "      <td>3DO</td>\n",
       "      <td>0.10</td>\n",
       "    </tr>\n",
       "    <tr>\n",
       "      <td>3</td>\n",
       "      <td>TG16</td>\n",
       "      <td>0.16</td>\n",
       "    </tr>\n",
       "    <tr>\n",
       "      <td>4</td>\n",
       "      <td>WS</td>\n",
       "      <td>1.42</td>\n",
       "    </tr>\n",
       "    <tr>\n",
       "      <td>5</td>\n",
       "      <td>NG</td>\n",
       "      <td>1.44</td>\n",
       "    </tr>\n",
       "    <tr>\n",
       "      <td>6</td>\n",
       "      <td>SCD</td>\n",
       "      <td>1.86</td>\n",
       "    </tr>\n",
       "    <tr>\n",
       "      <td>7</td>\n",
       "      <td>DC</td>\n",
       "      <td>15.95</td>\n",
       "    </tr>\n",
       "    <tr>\n",
       "      <td>8</td>\n",
       "      <td>GEN</td>\n",
       "      <td>28.35</td>\n",
       "    </tr>\n",
       "    <tr>\n",
       "      <td>9</td>\n",
       "      <td>SAT</td>\n",
       "      <td>33.59</td>\n",
       "    </tr>\n",
       "    <tr>\n",
       "      <td>10</td>\n",
       "      <td>PSV</td>\n",
       "      <td>53.81</td>\n",
       "    </tr>\n",
       "    <tr>\n",
       "      <td>11</td>\n",
       "      <td>WiiU</td>\n",
       "      <td>82.19</td>\n",
       "    </tr>\n",
       "    <tr>\n",
       "      <td>12</td>\n",
       "      <td>2600</td>\n",
       "      <td>86.48</td>\n",
       "    </tr>\n",
       "    <tr>\n",
       "      <td>13</td>\n",
       "      <td>XOne</td>\n",
       "      <td>159.32</td>\n",
       "    </tr>\n",
       "    <tr>\n",
       "      <td>14</td>\n",
       "      <td>GC</td>\n",
       "      <td>196.73</td>\n",
       "    </tr>\n",
       "    <tr>\n",
       "      <td>15</td>\n",
       "      <td>SNES</td>\n",
       "      <td>200.04</td>\n",
       "    </tr>\n",
       "    <tr>\n",
       "      <td>16</td>\n",
       "      <td>N64</td>\n",
       "      <td>218.01</td>\n",
       "    </tr>\n",
       "    <tr>\n",
       "      <td>17</td>\n",
       "      <td>NES</td>\n",
       "      <td>251.05</td>\n",
       "    </tr>\n",
       "    <tr>\n",
       "      <td>18</td>\n",
       "      <td>XB</td>\n",
       "      <td>251.57</td>\n",
       "    </tr>\n",
       "    <tr>\n",
       "      <td>19</td>\n",
       "      <td>GB</td>\n",
       "      <td>254.43</td>\n",
       "    </tr>\n",
       "    <tr>\n",
       "      <td>20</td>\n",
       "      <td>PC</td>\n",
       "      <td>255.76</td>\n",
       "    </tr>\n",
       "    <tr>\n",
       "      <td>21</td>\n",
       "      <td>3DS</td>\n",
       "      <td>257.81</td>\n",
       "    </tr>\n",
       "    <tr>\n",
       "      <td>22</td>\n",
       "      <td>PSP</td>\n",
       "      <td>289.53</td>\n",
       "    </tr>\n",
       "    <tr>\n",
       "      <td>23</td>\n",
       "      <td>GBA</td>\n",
       "      <td>312.88</td>\n",
       "    </tr>\n",
       "    <tr>\n",
       "      <td>24</td>\n",
       "      <td>PS4</td>\n",
       "      <td>314.14</td>\n",
       "    </tr>\n",
       "    <tr>\n",
       "      <td>25</td>\n",
       "      <td>PS</td>\n",
       "      <td>727.58</td>\n",
       "    </tr>\n",
       "    <tr>\n",
       "      <td>26</td>\n",
       "      <td>DS</td>\n",
       "      <td>802.78</td>\n",
       "    </tr>\n",
       "    <tr>\n",
       "      <td>27</td>\n",
       "      <td>Wii</td>\n",
       "      <td>891.18</td>\n",
       "    </tr>\n",
       "    <tr>\n",
       "      <td>28</td>\n",
       "      <td>PS3</td>\n",
       "      <td>931.34</td>\n",
       "    </tr>\n",
       "    <tr>\n",
       "      <td>29</td>\n",
       "      <td>X360</td>\n",
       "      <td>961.24</td>\n",
       "    </tr>\n",
       "    <tr>\n",
       "      <td>30</td>\n",
       "      <td>PS2</td>\n",
       "      <td>1233.56</td>\n",
       "    </tr>\n",
       "  </tbody>\n",
       "</table>\n",
       "</div>"
      ],
      "text/plain": [
       "   platform  total_sales\n",
       "0      PCFX         0.03\n",
       "1        GG         0.04\n",
       "2       3DO         0.10\n",
       "3      TG16         0.16\n",
       "4        WS         1.42\n",
       "5        NG         1.44\n",
       "6       SCD         1.86\n",
       "7        DC        15.95\n",
       "8       GEN        28.35\n",
       "9       SAT        33.59\n",
       "10      PSV        53.81\n",
       "11     WiiU        82.19\n",
       "12     2600        86.48\n",
       "13     XOne       159.32\n",
       "14       GC       196.73\n",
       "15     SNES       200.04\n",
       "16      N64       218.01\n",
       "17      NES       251.05\n",
       "18       XB       251.57\n",
       "19       GB       254.43\n",
       "20       PC       255.76\n",
       "21      3DS       257.81\n",
       "22      PSP       289.53\n",
       "23      GBA       312.88\n",
       "24      PS4       314.14\n",
       "25       PS       727.58\n",
       "26       DS       802.78\n",
       "27      Wii       891.18\n",
       "28      PS3       931.34\n",
       "29     X360       961.24\n",
       "30      PS2      1233.56"
      ]
     },
     "execution_count": 29,
     "metadata": {},
     "output_type": "execute_result"
    }
   ],
   "source": [
    "# Choose the platforms with the greatest total sales and build a distribution based on data for each year\n",
    "\n",
    "data_1 = data[['platform', 'total_sales']].groupby(['platform']).sum().sort_values(by='total_sales').reset_index()\n",
    "data_1"
   ]
  },
  {
   "cell_type": "code",
   "execution_count": 30,
   "metadata": {},
   "outputs": [
    {
     "data": {
      "text/html": [
       "<div>\n",
       "<style scoped>\n",
       "    .dataframe tbody tr th:only-of-type {\n",
       "        vertical-align: middle;\n",
       "    }\n",
       "\n",
       "    .dataframe tbody tr th {\n",
       "        vertical-align: top;\n",
       "    }\n",
       "\n",
       "    .dataframe thead th {\n",
       "        text-align: right;\n",
       "    }\n",
       "</style>\n",
       "<table border=\"1\" class=\"dataframe\">\n",
       "  <thead>\n",
       "    <tr style=\"text-align: right;\">\n",
       "      <th></th>\n",
       "      <th>platform</th>\n",
       "      <th>total_sales</th>\n",
       "      <th>sales_z</th>\n",
       "    </tr>\n",
       "  </thead>\n",
       "  <tbody>\n",
       "    <tr>\n",
       "      <td>0</td>\n",
       "      <td>PCFX</td>\n",
       "      <td>0.03</td>\n",
       "      <td>-0.826577</td>\n",
       "    </tr>\n",
       "    <tr>\n",
       "      <td>1</td>\n",
       "      <td>GG</td>\n",
       "      <td>0.04</td>\n",
       "      <td>-0.826548</td>\n",
       "    </tr>\n",
       "    <tr>\n",
       "      <td>2</td>\n",
       "      <td>3DO</td>\n",
       "      <td>0.10</td>\n",
       "      <td>-0.826373</td>\n",
       "    </tr>\n",
       "    <tr>\n",
       "      <td>3</td>\n",
       "      <td>TG16</td>\n",
       "      <td>0.16</td>\n",
       "      <td>-0.826199</td>\n",
       "    </tr>\n",
       "    <tr>\n",
       "      <td>4</td>\n",
       "      <td>WS</td>\n",
       "      <td>1.42</td>\n",
       "      <td>-0.822536</td>\n",
       "    </tr>\n",
       "    <tr>\n",
       "      <td>5</td>\n",
       "      <td>NG</td>\n",
       "      <td>1.44</td>\n",
       "      <td>-0.822477</td>\n",
       "    </tr>\n",
       "    <tr>\n",
       "      <td>6</td>\n",
       "      <td>SCD</td>\n",
       "      <td>1.86</td>\n",
       "      <td>-0.821256</td>\n",
       "    </tr>\n",
       "    <tr>\n",
       "      <td>7</td>\n",
       "      <td>DC</td>\n",
       "      <td>15.95</td>\n",
       "      <td>-0.780292</td>\n",
       "    </tr>\n",
       "    <tr>\n",
       "      <td>8</td>\n",
       "      <td>GEN</td>\n",
       "      <td>28.35</td>\n",
       "      <td>-0.744240</td>\n",
       "    </tr>\n",
       "    <tr>\n",
       "      <td>9</td>\n",
       "      <td>SAT</td>\n",
       "      <td>33.59</td>\n",
       "      <td>-0.729006</td>\n",
       "    </tr>\n",
       "    <tr>\n",
       "      <td>10</td>\n",
       "      <td>PSV</td>\n",
       "      <td>53.81</td>\n",
       "      <td>-0.670219</td>\n",
       "    </tr>\n",
       "    <tr>\n",
       "      <td>11</td>\n",
       "      <td>WiiU</td>\n",
       "      <td>82.19</td>\n",
       "      <td>-0.587708</td>\n",
       "    </tr>\n",
       "    <tr>\n",
       "      <td>12</td>\n",
       "      <td>2600</td>\n",
       "      <td>86.48</td>\n",
       "      <td>-0.575235</td>\n",
       "    </tr>\n",
       "    <tr>\n",
       "      <td>13</td>\n",
       "      <td>XOne</td>\n",
       "      <td>159.32</td>\n",
       "      <td>-0.363463</td>\n",
       "    </tr>\n",
       "    <tr>\n",
       "      <td>14</td>\n",
       "      <td>GC</td>\n",
       "      <td>196.73</td>\n",
       "      <td>-0.254698</td>\n",
       "    </tr>\n",
       "    <tr>\n",
       "      <td>15</td>\n",
       "      <td>SNES</td>\n",
       "      <td>200.04</td>\n",
       "      <td>-0.245075</td>\n",
       "    </tr>\n",
       "    <tr>\n",
       "      <td>16</td>\n",
       "      <td>N64</td>\n",
       "      <td>218.01</td>\n",
       "      <td>-0.192830</td>\n",
       "    </tr>\n",
       "    <tr>\n",
       "      <td>17</td>\n",
       "      <td>NES</td>\n",
       "      <td>251.05</td>\n",
       "      <td>-0.096770</td>\n",
       "    </tr>\n",
       "    <tr>\n",
       "      <td>18</td>\n",
       "      <td>XB</td>\n",
       "      <td>251.57</td>\n",
       "      <td>-0.095258</td>\n",
       "    </tr>\n",
       "    <tr>\n",
       "      <td>19</td>\n",
       "      <td>GB</td>\n",
       "      <td>254.43</td>\n",
       "      <td>-0.086943</td>\n",
       "    </tr>\n",
       "    <tr>\n",
       "      <td>20</td>\n",
       "      <td>PC</td>\n",
       "      <td>255.76</td>\n",
       "      <td>-0.083077</td>\n",
       "    </tr>\n",
       "    <tr>\n",
       "      <td>21</td>\n",
       "      <td>3DS</td>\n",
       "      <td>257.81</td>\n",
       "      <td>-0.077116</td>\n",
       "    </tr>\n",
       "    <tr>\n",
       "      <td>22</td>\n",
       "      <td>PSP</td>\n",
       "      <td>289.53</td>\n",
       "      <td>0.015105</td>\n",
       "    </tr>\n",
       "    <tr>\n",
       "      <td>23</td>\n",
       "      <td>GBA</td>\n",
       "      <td>312.88</td>\n",
       "      <td>0.082992</td>\n",
       "    </tr>\n",
       "    <tr>\n",
       "      <td>24</td>\n",
       "      <td>PS4</td>\n",
       "      <td>314.14</td>\n",
       "      <td>0.086655</td>\n",
       "    </tr>\n",
       "    <tr>\n",
       "      <td>25</td>\n",
       "      <td>PS</td>\n",
       "      <td>727.58</td>\n",
       "      <td>1.288676</td>\n",
       "    </tr>\n",
       "    <tr>\n",
       "      <td>26</td>\n",
       "      <td>DS</td>\n",
       "      <td>802.78</td>\n",
       "      <td>1.507310</td>\n",
       "    </tr>\n",
       "    <tr>\n",
       "      <td>27</td>\n",
       "      <td>Wii</td>\n",
       "      <td>891.18</td>\n",
       "      <td>1.764321</td>\n",
       "    </tr>\n",
       "    <tr>\n",
       "      <td>28</td>\n",
       "      <td>PS3</td>\n",
       "      <td>931.34</td>\n",
       "      <td>1.881081</td>\n",
       "    </tr>\n",
       "    <tr>\n",
       "      <td>29</td>\n",
       "      <td>X360</td>\n",
       "      <td>961.24</td>\n",
       "      <td>1.968011</td>\n",
       "    </tr>\n",
       "    <tr>\n",
       "      <td>30</td>\n",
       "      <td>PS2</td>\n",
       "      <td>1233.56</td>\n",
       "      <td>2.759744</td>\n",
       "    </tr>\n",
       "  </tbody>\n",
       "</table>\n",
       "</div>"
      ],
      "text/plain": [
       "   platform  total_sales   sales_z\n",
       "0      PCFX         0.03 -0.826577\n",
       "1        GG         0.04 -0.826548\n",
       "2       3DO         0.10 -0.826373\n",
       "3      TG16         0.16 -0.826199\n",
       "4        WS         1.42 -0.822536\n",
       "5        NG         1.44 -0.822477\n",
       "6       SCD         1.86 -0.821256\n",
       "7        DC        15.95 -0.780292\n",
       "8       GEN        28.35 -0.744240\n",
       "9       SAT        33.59 -0.729006\n",
       "10      PSV        53.81 -0.670219\n",
       "11     WiiU        82.19 -0.587708\n",
       "12     2600        86.48 -0.575235\n",
       "13     XOne       159.32 -0.363463\n",
       "14       GC       196.73 -0.254698\n",
       "15     SNES       200.04 -0.245075\n",
       "16      N64       218.01 -0.192830\n",
       "17      NES       251.05 -0.096770\n",
       "18       XB       251.57 -0.095258\n",
       "19       GB       254.43 -0.086943\n",
       "20       PC       255.76 -0.083077\n",
       "21      3DS       257.81 -0.077116\n",
       "22      PSP       289.53  0.015105\n",
       "23      GBA       312.88  0.082992\n",
       "24      PS4       314.14  0.086655\n",
       "25       PS       727.58  1.288676\n",
       "26       DS       802.78  1.507310\n",
       "27      Wii       891.18  1.764321\n",
       "28      PS3       931.34  1.881081\n",
       "29     X360       961.24  1.968011\n",
       "30      PS2      1233.56  2.759744"
      ]
     },
     "execution_count": 30,
     "metadata": {},
     "output_type": "execute_result"
    }
   ],
   "source": [
    "# Let's see how far every platforms' total sales from the mean of total sales\n",
    "\n",
    "data_1['sales_z'] = (data_1['total_sales']-data_1['total_sales'].mean())/data_1['total_sales'].std()\n",
    "data_1"
   ]
  },
  {
   "cell_type": "code",
   "execution_count": 31,
   "metadata": {},
   "outputs": [
    {
     "data": {
      "text/html": [
       "<div>\n",
       "<style scoped>\n",
       "    .dataframe tbody tr th:only-of-type {\n",
       "        vertical-align: middle;\n",
       "    }\n",
       "\n",
       "    .dataframe tbody tr th {\n",
       "        vertical-align: top;\n",
       "    }\n",
       "\n",
       "    .dataframe thead th {\n",
       "        text-align: right;\n",
       "    }\n",
       "</style>\n",
       "<table border=\"1\" class=\"dataframe\">\n",
       "  <thead>\n",
       "    <tr style=\"text-align: right;\">\n",
       "      <th></th>\n",
       "      <th>platform</th>\n",
       "      <th>total_sales</th>\n",
       "      <th>sales_z</th>\n",
       "      <th>color</th>\n",
       "    </tr>\n",
       "  </thead>\n",
       "  <tbody>\n",
       "    <tr>\n",
       "      <td>0</td>\n",
       "      <td>PCFX</td>\n",
       "      <td>0.03</td>\n",
       "      <td>-0.826577</td>\n",
       "      <td>red</td>\n",
       "    </tr>\n",
       "    <tr>\n",
       "      <td>1</td>\n",
       "      <td>GG</td>\n",
       "      <td>0.04</td>\n",
       "      <td>-0.826548</td>\n",
       "      <td>red</td>\n",
       "    </tr>\n",
       "    <tr>\n",
       "      <td>2</td>\n",
       "      <td>3DO</td>\n",
       "      <td>0.10</td>\n",
       "      <td>-0.826373</td>\n",
       "      <td>red</td>\n",
       "    </tr>\n",
       "    <tr>\n",
       "      <td>3</td>\n",
       "      <td>TG16</td>\n",
       "      <td>0.16</td>\n",
       "      <td>-0.826199</td>\n",
       "      <td>red</td>\n",
       "    </tr>\n",
       "    <tr>\n",
       "      <td>4</td>\n",
       "      <td>WS</td>\n",
       "      <td>1.42</td>\n",
       "      <td>-0.822536</td>\n",
       "      <td>red</td>\n",
       "    </tr>\n",
       "    <tr>\n",
       "      <td>5</td>\n",
       "      <td>NG</td>\n",
       "      <td>1.44</td>\n",
       "      <td>-0.822477</td>\n",
       "      <td>red</td>\n",
       "    </tr>\n",
       "    <tr>\n",
       "      <td>6</td>\n",
       "      <td>SCD</td>\n",
       "      <td>1.86</td>\n",
       "      <td>-0.821256</td>\n",
       "      <td>red</td>\n",
       "    </tr>\n",
       "    <tr>\n",
       "      <td>7</td>\n",
       "      <td>DC</td>\n",
       "      <td>15.95</td>\n",
       "      <td>-0.780292</td>\n",
       "      <td>red</td>\n",
       "    </tr>\n",
       "    <tr>\n",
       "      <td>8</td>\n",
       "      <td>GEN</td>\n",
       "      <td>28.35</td>\n",
       "      <td>-0.744240</td>\n",
       "      <td>red</td>\n",
       "    </tr>\n",
       "    <tr>\n",
       "      <td>9</td>\n",
       "      <td>SAT</td>\n",
       "      <td>33.59</td>\n",
       "      <td>-0.729006</td>\n",
       "      <td>red</td>\n",
       "    </tr>\n",
       "    <tr>\n",
       "      <td>10</td>\n",
       "      <td>PSV</td>\n",
       "      <td>53.81</td>\n",
       "      <td>-0.670219</td>\n",
       "      <td>red</td>\n",
       "    </tr>\n",
       "    <tr>\n",
       "      <td>11</td>\n",
       "      <td>WiiU</td>\n",
       "      <td>82.19</td>\n",
       "      <td>-0.587708</td>\n",
       "      <td>red</td>\n",
       "    </tr>\n",
       "    <tr>\n",
       "      <td>12</td>\n",
       "      <td>2600</td>\n",
       "      <td>86.48</td>\n",
       "      <td>-0.575235</td>\n",
       "      <td>red</td>\n",
       "    </tr>\n",
       "    <tr>\n",
       "      <td>13</td>\n",
       "      <td>XOne</td>\n",
       "      <td>159.32</td>\n",
       "      <td>-0.363463</td>\n",
       "      <td>red</td>\n",
       "    </tr>\n",
       "    <tr>\n",
       "      <td>14</td>\n",
       "      <td>GC</td>\n",
       "      <td>196.73</td>\n",
       "      <td>-0.254698</td>\n",
       "      <td>red</td>\n",
       "    </tr>\n",
       "    <tr>\n",
       "      <td>15</td>\n",
       "      <td>SNES</td>\n",
       "      <td>200.04</td>\n",
       "      <td>-0.245075</td>\n",
       "      <td>red</td>\n",
       "    </tr>\n",
       "    <tr>\n",
       "      <td>16</td>\n",
       "      <td>N64</td>\n",
       "      <td>218.01</td>\n",
       "      <td>-0.192830</td>\n",
       "      <td>red</td>\n",
       "    </tr>\n",
       "    <tr>\n",
       "      <td>17</td>\n",
       "      <td>NES</td>\n",
       "      <td>251.05</td>\n",
       "      <td>-0.096770</td>\n",
       "      <td>red</td>\n",
       "    </tr>\n",
       "    <tr>\n",
       "      <td>18</td>\n",
       "      <td>XB</td>\n",
       "      <td>251.57</td>\n",
       "      <td>-0.095258</td>\n",
       "      <td>red</td>\n",
       "    </tr>\n",
       "    <tr>\n",
       "      <td>19</td>\n",
       "      <td>GB</td>\n",
       "      <td>254.43</td>\n",
       "      <td>-0.086943</td>\n",
       "      <td>red</td>\n",
       "    </tr>\n",
       "    <tr>\n",
       "      <td>20</td>\n",
       "      <td>PC</td>\n",
       "      <td>255.76</td>\n",
       "      <td>-0.083077</td>\n",
       "      <td>red</td>\n",
       "    </tr>\n",
       "    <tr>\n",
       "      <td>21</td>\n",
       "      <td>3DS</td>\n",
       "      <td>257.81</td>\n",
       "      <td>-0.077116</td>\n",
       "      <td>red</td>\n",
       "    </tr>\n",
       "    <tr>\n",
       "      <td>22</td>\n",
       "      <td>PSP</td>\n",
       "      <td>289.53</td>\n",
       "      <td>0.015105</td>\n",
       "      <td>green</td>\n",
       "    </tr>\n",
       "    <tr>\n",
       "      <td>23</td>\n",
       "      <td>GBA</td>\n",
       "      <td>312.88</td>\n",
       "      <td>0.082992</td>\n",
       "      <td>green</td>\n",
       "    </tr>\n",
       "    <tr>\n",
       "      <td>24</td>\n",
       "      <td>PS4</td>\n",
       "      <td>314.14</td>\n",
       "      <td>0.086655</td>\n",
       "      <td>green</td>\n",
       "    </tr>\n",
       "    <tr>\n",
       "      <td>25</td>\n",
       "      <td>PS</td>\n",
       "      <td>727.58</td>\n",
       "      <td>1.288676</td>\n",
       "      <td>green</td>\n",
       "    </tr>\n",
       "    <tr>\n",
       "      <td>26</td>\n",
       "      <td>DS</td>\n",
       "      <td>802.78</td>\n",
       "      <td>1.507310</td>\n",
       "      <td>green</td>\n",
       "    </tr>\n",
       "    <tr>\n",
       "      <td>27</td>\n",
       "      <td>Wii</td>\n",
       "      <td>891.18</td>\n",
       "      <td>1.764321</td>\n",
       "      <td>green</td>\n",
       "    </tr>\n",
       "    <tr>\n",
       "      <td>28</td>\n",
       "      <td>PS3</td>\n",
       "      <td>931.34</td>\n",
       "      <td>1.881081</td>\n",
       "      <td>green</td>\n",
       "    </tr>\n",
       "    <tr>\n",
       "      <td>29</td>\n",
       "      <td>X360</td>\n",
       "      <td>961.24</td>\n",
       "      <td>1.968011</td>\n",
       "      <td>green</td>\n",
       "    </tr>\n",
       "    <tr>\n",
       "      <td>30</td>\n",
       "      <td>PS2</td>\n",
       "      <td>1233.56</td>\n",
       "      <td>2.759744</td>\n",
       "      <td>green</td>\n",
       "    </tr>\n",
       "  </tbody>\n",
       "</table>\n",
       "</div>"
      ],
      "text/plain": [
       "   platform  total_sales   sales_z  color\n",
       "0      PCFX         0.03 -0.826577    red\n",
       "1        GG         0.04 -0.826548    red\n",
       "2       3DO         0.10 -0.826373    red\n",
       "3      TG16         0.16 -0.826199    red\n",
       "4        WS         1.42 -0.822536    red\n",
       "5        NG         1.44 -0.822477    red\n",
       "6       SCD         1.86 -0.821256    red\n",
       "7        DC        15.95 -0.780292    red\n",
       "8       GEN        28.35 -0.744240    red\n",
       "9       SAT        33.59 -0.729006    red\n",
       "10      PSV        53.81 -0.670219    red\n",
       "11     WiiU        82.19 -0.587708    red\n",
       "12     2600        86.48 -0.575235    red\n",
       "13     XOne       159.32 -0.363463    red\n",
       "14       GC       196.73 -0.254698    red\n",
       "15     SNES       200.04 -0.245075    red\n",
       "16      N64       218.01 -0.192830    red\n",
       "17      NES       251.05 -0.096770    red\n",
       "18       XB       251.57 -0.095258    red\n",
       "19       GB       254.43 -0.086943    red\n",
       "20       PC       255.76 -0.083077    red\n",
       "21      3DS       257.81 -0.077116    red\n",
       "22      PSP       289.53  0.015105  green\n",
       "23      GBA       312.88  0.082992  green\n",
       "24      PS4       314.14  0.086655  green\n",
       "25       PS       727.58  1.288676  green\n",
       "26       DS       802.78  1.507310  green\n",
       "27      Wii       891.18  1.764321  green\n",
       "28      PS3       931.34  1.881081  green\n",
       "29     X360       961.24  1.968011  green\n",
       "30      PS2      1233.56  2.759744  green"
      ]
     },
     "execution_count": 31,
     "metadata": {},
     "output_type": "execute_result"
    }
   ],
   "source": [
    "# Create a new column. If we have negative 'sales_z', we will have a 'red', and positive - 'green'\n",
    "\n",
    "data_1['color'] = ['red' if x<0 else 'green' for x in data_1['sales_z']]\n",
    "data_1"
   ]
  },
  {
   "cell_type": "code",
   "execution_count": 32,
   "metadata": {},
   "outputs": [
    {
     "data": {
      "image/png": "[encoded data removed]",
      "text/plain": [
       "<Figure size 1008x720 with 1 Axes>"
      ]
     },
     "metadata": {
      "needs_background": "light"
     },
     "output_type": "display_data"
    }
   ],
   "source": [
    "# Let's make a plot\n",
    "\n",
    "plt.figure(figsize=(14,10))\n",
    "plt.hlines(y=data_1['platform'], xmax=data_1['sales_z'], xmin=0, color=data_1['color'], alpha=0.5, linewidth=10)\n",
    "plt.show()"
   ]
  },
  {
   "cell_type": "markdown",
   "metadata": {},
   "source": [
    "Here we can see how sales varied from platform to platform. The platforms with the greatest total sales have green lines in our graph."
   ]
  },
  {
   "cell_type": "code",
   "execution_count": 33,
   "metadata": {},
   "outputs": [
    {
     "data": {
      "image/png": "[encoded data removed]",
      "text/plain": [
       "<Figure size 1080x576 with 1 Axes>"
      ]
     },
     "metadata": {
      "needs_background": "light"
     },
     "output_type": "display_data"
    }
   ],
   "source": [
    "# Let's find platforms that used to be popular but not have zero sales\n",
    "# Let's leave only games released after 2000\n",
    "\n",
    "data_temp = data.query('year_of_release > 2000')\n",
    "\n",
    "data_temp = data_temp.groupby(['platform', 'year_of_release'])['total_sales'].sum().reset_index().sort_values(by='year_of_release')\n",
    "plt.figure(figsize=(15,8))\n",
    "ax = sns.lineplot(data=data_temp, x='year_of_release', y='total_sales', hue='platform')\n",
    "plt.show()\n"
   ]
  },
  {
   "cell_type": "markdown",
   "metadata": {},
   "source": [
    "We can see that the older platforms have the longer revenue because they didn't have the concurantios as new platforms have. So platforms of 2004-2006 years have very long life spend. For example, PSP was existing from 2004 to 2015: 11 years."
   ]
  },
  {
   "cell_type": "markdown",
   "metadata": {},
   "source": [
    "After slicing the data, we can see that for the recent period, the most selling platforms are PS4, XOne, PS3, 3DS, and X360. However, PS3 and X360 will give their positions to the new versions PS4 and XOne. "
   ]
  },
  {
   "cell_type": "code",
   "execution_count": 34,
   "metadata": {},
   "outputs": [],
   "source": [
    "# Build a box plot for the global sales of all games, broken down by platform\n",
    "\n",
    "# game_data = data.groupby('platform').agg({'name':'count', 'total_sales': 'sum'}).reset_index().sort_values(by = 'name')\n",
    "# print(game_data)\n",
    "\n",
    "# print(data.groupby('platform').agg({'name':'count', 'total_sales': 'mean'}).reset_index().sort_values(by = 'total_sales'))\n",
    "\n",
    "# games_grouped = data.groupby(['platform', 'name']).agg({'total_sales': 'sum'}).reset_index().sort_values(by = 'name')\n",
    "\n",
    "# print(games_grouped)\n",
    "\n",
    "\n",
    "# plt.scatter(game_data['platform'], game_data['name'], c='red')\n",
    "# plt.show()"
   ]
  },
  {
   "cell_type": "markdown",
   "metadata": {},
   "source": [
    "The most significant number of games in the last years was released on PS4. As a result, this platform also has the highest mean revenue. Games for XOne are cheaper, and it has lower revenue in total. "
   ]
  },
  {
   "cell_type": "code",
   "execution_count": 35,
   "metadata": {},
   "outputs": [
    {
     "data": {
      "image/png": "[encoded data removed]",
      "text/plain": [
       "<Figure size 540x540 with 12 Axes>"
      ]
     },
     "metadata": {
      "needs_background": "light"
     },
     "output_type": "display_data"
    }
   ],
   "source": [
    "# Take a look at how user and professional reviews affect sales for PS3\n",
    "# Build a scatter plot and calculate the correlation between reviews and sales\n",
    "\n",
    "ps3 = data[data['platform']=='PS3']\n",
    "ps3 = ps3[ps3['user_score'].notnull()]\n",
    "ps3 = ps3[['total_sales','critic_score','user_score']]\n",
    "# ps3.head()\n",
    "\n",
    "for_scatter_ps3=ps3[['total_sales','critic_score','user_score']]\n",
    "for_scatter_ps3\n",
    "\n",
    "sns.pairplot(for_scatter_ps3)\n",
    "plt.show()"
   ]
  },
  {
   "cell_type": "code",
   "execution_count": 36,
   "metadata": {},
   "outputs": [
    {
     "data": {
      "text/html": [
       "<div>\n",
       "<style scoped>\n",
       "    .dataframe tbody tr th:only-of-type {\n",
       "        vertical-align: middle;\n",
       "    }\n",
       "\n",
       "    .dataframe tbody tr th {\n",
       "        vertical-align: top;\n",
       "    }\n",
       "\n",
       "    .dataframe thead th {\n",
       "        text-align: right;\n",
       "    }\n",
       "</style>\n",
       "<table border=\"1\" class=\"dataframe\">\n",
       "  <thead>\n",
       "    <tr style=\"text-align: right;\">\n",
       "      <th></th>\n",
       "      <th>total_sales</th>\n",
       "      <th>critic_score</th>\n",
       "      <th>user_score</th>\n",
       "    </tr>\n",
       "  </thead>\n",
       "  <tbody>\n",
       "    <tr>\n",
       "      <td>total_sales</td>\n",
       "      <td>1.000000</td>\n",
       "      <td>0.428213</td>\n",
       "      <td>0.128416</td>\n",
       "    </tr>\n",
       "    <tr>\n",
       "      <td>critic_score</td>\n",
       "      <td>0.428213</td>\n",
       "      <td>1.000000</td>\n",
       "      <td>0.631154</td>\n",
       "    </tr>\n",
       "    <tr>\n",
       "      <td>user_score</td>\n",
       "      <td>0.128416</td>\n",
       "      <td>0.631154</td>\n",
       "      <td>1.000000</td>\n",
       "    </tr>\n",
       "  </tbody>\n",
       "</table>\n",
       "</div>"
      ],
      "text/plain": [
       "              total_sales  critic_score  user_score\n",
       "total_sales      1.000000      0.428213    0.128416\n",
       "critic_score     0.428213      1.000000    0.631154\n",
       "user_score       0.128416      0.631154    1.000000"
      ]
     },
     "execution_count": 36,
     "metadata": {},
     "output_type": "execute_result"
    }
   ],
   "source": [
    "# Let's see the correlations of these parameters\n",
    "\n",
    "for_scatter_ps3.corr()"
   ]
  },
  {
   "cell_type": "markdown",
   "metadata": {},
   "source": [
    "There is a definite correlation: the higher the rating of critics and users, the higher the total sales revenue. "
   ]
  },
  {
   "cell_type": "code",
   "execution_count": 37,
   "metadata": {},
   "outputs": [
    {
     "data": {
      "image/png": "[encoded data removed]",
      "text/plain": [
       "<Figure size 540x540 with 12 Axes>"
      ]
     },
     "metadata": {
      "needs_background": "light"
     },
     "output_type": "display_data"
    }
   ],
   "source": [
    "non_ps3 = data[data['platform']!='PS3']\n",
    "non_ps3 = non_ps3[non_ps3['user_score'].notnull()]\n",
    "non_ps3 = non_ps3[['total_sales','critic_score','user_score']]\n",
    "# ps3.head()\n",
    "\n",
    "for_scatter_non_ps3=non_ps3[['total_sales','critic_score','user_score']]\n",
    "for_scatter_non_ps3\n",
    "\n",
    "sns.pairplot(for_scatter_non_ps3)\n",
    "plt.show()"
   ]
  },
  {
   "cell_type": "code",
   "execution_count": 38,
   "metadata": {},
   "outputs": [
    {
     "data": {
      "text/html": [
       "<div>\n",
       "<style scoped>\n",
       "    .dataframe tbody tr th:only-of-type {\n",
       "        vertical-align: middle;\n",
       "    }\n",
       "\n",
       "    .dataframe tbody tr th {\n",
       "        vertical-align: top;\n",
       "    }\n",
       "\n",
       "    .dataframe thead th {\n",
       "        text-align: right;\n",
       "    }\n",
       "</style>\n",
       "<table border=\"1\" class=\"dataframe\">\n",
       "  <thead>\n",
       "    <tr style=\"text-align: right;\">\n",
       "      <th></th>\n",
       "      <th>total_sales</th>\n",
       "      <th>critic_score</th>\n",
       "      <th>user_score</th>\n",
       "    </tr>\n",
       "  </thead>\n",
       "  <tbody>\n",
       "    <tr>\n",
       "      <td>total_sales</td>\n",
       "      <td>1.000000</td>\n",
       "      <td>0.216046</td>\n",
       "      <td>0.088840</td>\n",
       "    </tr>\n",
       "    <tr>\n",
       "      <td>critic_score</td>\n",
       "      <td>0.216046</td>\n",
       "      <td>1.000000</td>\n",
       "      <td>0.578435</td>\n",
       "    </tr>\n",
       "    <tr>\n",
       "      <td>user_score</td>\n",
       "      <td>0.088840</td>\n",
       "      <td>0.578435</td>\n",
       "      <td>1.000000</td>\n",
       "    </tr>\n",
       "  </tbody>\n",
       "</table>\n",
       "</div>"
      ],
      "text/plain": [
       "              total_sales  critic_score  user_score\n",
       "total_sales      1.000000      0.216046    0.088840\n",
       "critic_score     0.216046      1.000000    0.578435\n",
       "user_score       0.088840      0.578435    1.000000"
      ]
     },
     "execution_count": 38,
     "metadata": {},
     "output_type": "execute_result"
    }
   ],
   "source": [
    "# Let's see the correlations of these parameters\n",
    "\n",
    "for_scatter_non_ps3.corr()"
   ]
  },
  {
   "cell_type": "markdown",
   "metadata": {},
   "source": [
    "We can see that sales are much less dependent on either scores for the other platforms."
   ]
  },
  {
   "cell_type": "code",
   "execution_count": 39,
   "metadata": {},
   "outputs": [
    {
     "data": {
      "text/html": [
       "<div>\n",
       "<style scoped>\n",
       "    .dataframe tbody tr th:only-of-type {\n",
       "        vertical-align: middle;\n",
       "    }\n",
       "\n",
       "    .dataframe tbody tr th {\n",
       "        vertical-align: top;\n",
       "    }\n",
       "\n",
       "    .dataframe thead th {\n",
       "        text-align: right;\n",
       "    }\n",
       "</style>\n",
       "<table border=\"1\" class=\"dataframe\">\n",
       "  <thead>\n",
       "    <tr style=\"text-align: right;\">\n",
       "      <th></th>\n",
       "      <th>total_sales</th>\n",
       "    </tr>\n",
       "    <tr>\n",
       "      <th>genre</th>\n",
       "      <th></th>\n",
       "    </tr>\n",
       "  </thead>\n",
       "  <tbody>\n",
       "    <tr>\n",
       "      <td>Platform</td>\n",
       "      <td>0.940262</td>\n",
       "    </tr>\n",
       "    <tr>\n",
       "      <td>Shooter</td>\n",
       "      <td>0.803519</td>\n",
       "    </tr>\n",
       "    <tr>\n",
       "      <td>Role-Playing</td>\n",
       "      <td>0.628683</td>\n",
       "    </tr>\n",
       "    <tr>\n",
       "      <td>Racing</td>\n",
       "      <td>0.590122</td>\n",
       "    </tr>\n",
       "    <tr>\n",
       "      <td>Sports</td>\n",
       "      <td>0.567940</td>\n",
       "    </tr>\n",
       "    <tr>\n",
       "      <td>Fighting</td>\n",
       "      <td>0.528865</td>\n",
       "    </tr>\n",
       "    <tr>\n",
       "      <td>Action</td>\n",
       "      <td>0.519057</td>\n",
       "    </tr>\n",
       "    <tr>\n",
       "      <td>Misc</td>\n",
       "      <td>0.459204</td>\n",
       "    </tr>\n",
       "    <tr>\n",
       "      <td>Simulation</td>\n",
       "      <td>0.452695</td>\n",
       "    </tr>\n",
       "    <tr>\n",
       "      <td>Puzzle</td>\n",
       "      <td>0.421599</td>\n",
       "    </tr>\n",
       "    <tr>\n",
       "      <td>Strategy</td>\n",
       "      <td>0.256419</td>\n",
       "    </tr>\n",
       "    <tr>\n",
       "      <td>Adventure</td>\n",
       "      <td>0.180456</td>\n",
       "    </tr>\n",
       "  </tbody>\n",
       "</table>\n",
       "</div>"
      ],
      "text/plain": [
       "              total_sales\n",
       "genre                    \n",
       "Platform         0.940262\n",
       "Shooter          0.803519\n",
       "Role-Playing     0.628683\n",
       "Racing           0.590122\n",
       "Sports           0.567940\n",
       "Fighting         0.528865\n",
       "Action           0.519057\n",
       "Misc             0.459204\n",
       "Simulation       0.452695\n",
       "Puzzle           0.421599\n",
       "Strategy         0.256419\n",
       "Adventure        0.180456"
      ]
     },
     "execution_count": 39,
     "metadata": {},
     "output_type": "execute_result"
    }
   ],
   "source": [
    "# Take a look at the general distribution of games by genre\n",
    "\n",
    "pd.DataFrame(data.groupby('genre')['total_sales'].mean()).sort_values('total_sales', ascending=False)"
   ]
  },
  {
   "cell_type": "markdown",
   "metadata": {},
   "source": [
    "We can see that the most successful genre is Platform, and the less successful is Adventure — people are more interested in games with physical challenges, including hand-eye coordination and reaction time.\n",
    "\n"
   ]
  },
  {
   "cell_type": "markdown",
   "metadata": {},
   "source": [
    "## Create a user profile for each region"
   ]
  },
  {
   "cell_type": "markdown",
   "metadata": {},
   "source": [
    "For each region (NA, EU, JP), we need to determine:\n",
    "- The top five platforms. Describe variations in their market shares from region to region.\n",
    "- The top five genres. Explain the difference.\n",
    "- Do ESRB ratings affect sales in individual regions?"
   ]
  },
  {
   "cell_type": "markdown",
   "metadata": {},
   "source": [
    "**For each region (NA, EU, JP), determine top five platforms**"
   ]
  },
  {
   "cell_type": "code",
   "execution_count": 40,
   "metadata": {},
   "outputs": [
    {
     "data": {
      "text/html": [
       "<div>\n",
       "<style scoped>\n",
       "    .dataframe tbody tr th:only-of-type {\n",
       "        vertical-align: middle;\n",
       "    }\n",
       "\n",
       "    .dataframe tbody tr th {\n",
       "        vertical-align: top;\n",
       "    }\n",
       "\n",
       "    .dataframe thead th {\n",
       "        text-align: right;\n",
       "    }\n",
       "</style>\n",
       "<table border=\"1\" class=\"dataframe\">\n",
       "  <thead>\n",
       "    <tr style=\"text-align: right;\">\n",
       "      <th></th>\n",
       "      <th>name</th>\n",
       "      <th>platform</th>\n",
       "      <th>year_of_release</th>\n",
       "      <th>genre</th>\n",
       "      <th>na_sales</th>\n",
       "      <th>eu_sales</th>\n",
       "      <th>jp_sales</th>\n",
       "      <th>other_sales</th>\n",
       "      <th>critic_score</th>\n",
       "      <th>user_score</th>\n",
       "      <th>rating</th>\n",
       "    </tr>\n",
       "  </thead>\n",
       "  <tbody>\n",
       "    <tr>\n",
       "      <td>0</td>\n",
       "      <td>Wii Sports</td>\n",
       "      <td>Wii</td>\n",
       "      <td>2006.0</td>\n",
       "      <td>Sports</td>\n",
       "      <td>41.36</td>\n",
       "      <td>28.96</td>\n",
       "      <td>3.77</td>\n",
       "      <td>8.45</td>\n",
       "      <td>76.0</td>\n",
       "      <td>8.0</td>\n",
       "      <td>E</td>\n",
       "    </tr>\n",
       "    <tr>\n",
       "      <td>1</td>\n",
       "      <td>Super Mario Bros.</td>\n",
       "      <td>NES</td>\n",
       "      <td>1985.0</td>\n",
       "      <td>Platform</td>\n",
       "      <td>29.08</td>\n",
       "      <td>3.58</td>\n",
       "      <td>6.81</td>\n",
       "      <td>0.77</td>\n",
       "      <td>NaN</td>\n",
       "      <td>NaN</td>\n",
       "      <td>NaN</td>\n",
       "    </tr>\n",
       "    <tr>\n",
       "      <td>2</td>\n",
       "      <td>Mario Kart Wii</td>\n",
       "      <td>Wii</td>\n",
       "      <td>2008.0</td>\n",
       "      <td>Racing</td>\n",
       "      <td>15.68</td>\n",
       "      <td>12.76</td>\n",
       "      <td>3.79</td>\n",
       "      <td>3.29</td>\n",
       "      <td>82.0</td>\n",
       "      <td>8.3</td>\n",
       "      <td>E</td>\n",
       "    </tr>\n",
       "    <tr>\n",
       "      <td>3</td>\n",
       "      <td>Wii Sports Resort</td>\n",
       "      <td>Wii</td>\n",
       "      <td>2009.0</td>\n",
       "      <td>Sports</td>\n",
       "      <td>15.61</td>\n",
       "      <td>10.93</td>\n",
       "      <td>3.28</td>\n",
       "      <td>2.95</td>\n",
       "      <td>80.0</td>\n",
       "      <td>8.0</td>\n",
       "      <td>E</td>\n",
       "    </tr>\n",
       "    <tr>\n",
       "      <td>4</td>\n",
       "      <td>Pokemon Red/Pokemon Blue</td>\n",
       "      <td>GB</td>\n",
       "      <td>1996.0</td>\n",
       "      <td>Role-Playing</td>\n",
       "      <td>11.27</td>\n",
       "      <td>8.89</td>\n",
       "      <td>10.22</td>\n",
       "      <td>1.00</td>\n",
       "      <td>NaN</td>\n",
       "      <td>NaN</td>\n",
       "      <td>NaN</td>\n",
       "    </tr>\n",
       "  </tbody>\n",
       "</table>\n",
       "</div>"
      ],
      "text/plain": [
       "                       name platform  year_of_release         genre  na_sales  \\\n",
       "0                Wii Sports      Wii           2006.0        Sports     41.36   \n",
       "1         Super Mario Bros.      NES           1985.0      Platform     29.08   \n",
       "2            Mario Kart Wii      Wii           2008.0        Racing     15.68   \n",
       "3         Wii Sports Resort      Wii           2009.0        Sports     15.61   \n",
       "4  Pokemon Red/Pokemon Blue       GB           1996.0  Role-Playing     11.27   \n",
       "\n",
       "   eu_sales  jp_sales  other_sales  critic_score  user_score rating  \n",
       "0     28.96      3.77         8.45          76.0         8.0      E  \n",
       "1      3.58      6.81         0.77           NaN         NaN    NaN  \n",
       "2     12.76      3.79         3.29          82.0         8.3      E  \n",
       "3     10.93      3.28         2.95          80.0         8.0      E  \n",
       "4      8.89     10.22         1.00           NaN         NaN    NaN  "
      ]
     },
     "execution_count": 40,
     "metadata": {},
     "output_type": "execute_result"
    }
   ],
   "source": [
    "initial_data.head()"
   ]
  },
  {
   "cell_type": "code",
   "execution_count": 49,
   "metadata": {},
   "outputs": [],
   "source": [
    "# feature = \"platform\"\n",
    "# region = 'NA'\n",
    "initial_data['rating'] = initial_data['rating'].fillna('NaN')\n",
    "def make_user_profile(feature, region):\n",
    "    region_adjusted = f'{region.lower()}_sales'\n",
    "\n",
    "    region_feature_data = initial_data[[feature, region_adjusted]].groupby(feature).sum().sort_values(by=region_adjusted, ascending = False).reset_index().head()\n",
    "    print(region)\n",
    "    print(region_feature_data)\n",
    "    plt.pie(x=region_feature_data[region_adjusted], labels = region_feature_data[feature], autopct='%.0f%%')\n",
    "    plt.show()"
   ]
  },
  {
   "cell_type": "code",
   "execution_count": 50,
   "metadata": {
    "scrolled": false
   },
   "outputs": [
    {
     "name": "stdout",
     "output_type": "stream",
     "text": [
      "NA\n",
      "  platform  na_sales\n",
      "0     X360    602.47\n",
      "1      PS2    583.84\n",
      "2      Wii    496.90\n",
      "3      PS3    393.49\n",
      "4       DS    382.40\n"
     ]
    },
    {
     "data": {
      "image/png": "[encoded data removed]",
      "text/plain": [
       "<Figure size 432x288 with 1 Axes>"
      ]
     },
     "metadata": {},
     "output_type": "display_data"
    },
    {
     "name": "stdout",
     "output_type": "stream",
     "text": [
      "JP\n",
      "  platform  jp_sales\n",
      "0       DS    175.57\n",
      "1       PS    139.82\n",
      "2      PS2    139.20\n",
      "3     SNES    116.55\n",
      "4      3DS    100.67\n"
     ]
    },
    {
     "data": {
      "image/png": "[encoded data removed]",
      "text/plain": [
       "<Figure size 432x288 with 1 Axes>"
      ]
     },
     "metadata": {},
     "output_type": "display_data"
    },
    {
     "name": "stdout",
     "output_type": "stream",
     "text": [
      "EU\n",
      "  platform  eu_sales\n",
      "0      PS2    339.29\n",
      "1      PS3    330.29\n",
      "2     X360    270.76\n",
      "3      Wii    262.21\n",
      "4       PS    213.61\n"
     ]
    },
    {
     "data": {
      "image/png": "[encoded data removed]",
      "text/plain": [
       "<Figure size 432x288 with 1 Axes>"
      ]
     },
     "metadata": {},
     "output_type": "display_data"
    },
    {
     "name": "stdout",
     "output_type": "stream",
     "text": [
      "NA\n",
      "      genre  na_sales\n",
      "0    Action    879.01\n",
      "1    Sports    684.43\n",
      "2   Shooter    592.24\n",
      "3  Platform    445.50\n",
      "4      Misc    407.27\n"
     ]
    },
    {
     "data": {
      "image/png": "[encoded data removed]",
      "text/plain": [
       "<Figure size 432x288 with 1 Axes>"
      ]
     },
     "metadata": {},
     "output_type": "display_data"
    },
    {
     "name": "stdout",
     "output_type": "stream",
     "text": [
      "JP\n",
      "          genre  jp_sales\n",
      "0  Role-Playing    355.41\n",
      "1        Action    161.43\n",
      "2        Sports    135.54\n",
      "3      Platform    130.83\n",
      "4          Misc    108.11\n"
     ]
    },
    {
     "data": {
      "image/png": "[encoded data removed]",
      "text/plain": [
       "<Figure size 432x288 with 1 Axes>"
      ]
     },
     "metadata": {},
     "output_type": "display_data"
    },
    {
     "name": "stdout",
     "output_type": "stream",
     "text": [
      "EU\n",
      "     genre  eu_sales\n",
      "0   Action    519.13\n",
      "1   Sports    376.79\n",
      "2  Shooter    317.34\n",
      "3   Racing    236.51\n",
      "4     Misc    212.74\n"
     ]
    },
    {
     "data": {
      "image/png": "[encoded data removed]",
      "text/plain": [
       "<Figure size 432x288 with 1 Axes>"
      ]
     },
     "metadata": {},
     "output_type": "display_data"
    },
    {
     "name": "stdout",
     "output_type": "stream",
     "text": [
      "NA\n",
      "  rating  na_sales\n",
      "0      E   1292.99\n",
      "1    NaN   1242.46\n",
      "2      T    759.75\n",
      "3      M    748.48\n",
      "4   E10+    353.32\n"
     ]
    },
    {
     "data": {
      "image/png": "[encoded data removed]",
      "text/plain": [
       "<Figure size 432x288 with 1 Axes>"
      ]
     },
     "metadata": {},
     "output_type": "display_data"
    },
    {
     "name": "stdout",
     "output_type": "stream",
     "text": [
      "JP\n",
      "  rating  jp_sales\n",
      "0    NaN    841.96\n",
      "1      E    198.11\n",
      "2      T    151.40\n",
      "3      M     64.24\n",
      "4   E10+     40.20\n"
     ]
    },
    {
     "data": {
      "image/png": "[encoded data removed]",
      "text/plain": [
       "<Figure size 432x288 with 1 Axes>"
      ]
     },
     "metadata": {},
     "output_type": "display_data"
    },
    {
     "name": "stdout",
     "output_type": "stream",
     "text": [
      "EU\n",
      "  rating  eu_sales\n",
      "0      E    710.25\n",
      "1    NaN    613.83\n",
      "2      M    483.97\n",
      "3      T    427.03\n",
      "4   E10+    188.52\n"
     ]
    },
    {
     "data": {
      "image/png": "[encoded data removed]",
      "text/plain": [
       "<Figure size 432x288 with 1 Axes>"
      ]
     },
     "metadata": {},
     "output_type": "display_data"
    }
   ],
   "source": [
    "for feature in ['platform', 'genre', 'rating']:\n",
    "    for region in ['NA', 'JP', 'EU']:\n",
    "        make_user_profile(feature, region)"
   ]
  },
  {
   "cell_type": "markdown",
   "metadata": {},
   "source": [
    "## Test the hypotheses"
   ]
  },
  {
   "cell_type": "markdown",
   "metadata": {},
   "source": [
    "Test the following hypotheses:\n",
    "\n",
    "- Average user ratings of the Xbox One and PC platforms are the same.\n",
    "- Average user ratings for the Action and Sports genres are different."
   ]
  },
  {
   "cell_type": "markdown",
   "metadata": {},
   "source": [
    "Now we test the following hypotheses:\n",
    "\n",
    "- H0 - Average user ratings of the Xbox One and PC platforms are the same\n",
    "- H1 - Average user ratings of the Xbox One and PC platforms are not the same"
   ]
  },
  {
   "cell_type": "code",
   "execution_count": 43,
   "metadata": {
    "scrolled": true
   },
   "outputs": [
    {
     "name": "stderr",
     "output_type": "stream",
     "text": [
      "/opt/conda/lib/python3.7/site-packages/ipykernel_launcher.py:1: UserWarning: Boolean Series key will be reindexed to match DataFrame index.\n",
      "  \"\"\"Entry point for launching an IPython kernel.\n",
      "/opt/conda/lib/python3.7/site-packages/ipykernel_launcher.py:2: UserWarning: Boolean Series key will be reindexed to match DataFrame index.\n",
      "  \n"
     ]
    },
    {
     "data": {
      "text/plain": [
       "LeveneResult(statistic=3.090637442082185, pvalue=0.07907112654330054)"
      ]
     },
     "execution_count": 43,
     "metadata": {},
     "output_type": "execute_result"
    }
   ],
   "source": [
    "ratings_xone = data[data['platform']=='XOne'][data['user_score'].notnull()]\n",
    "ratings_pc = data[data['platform']=='PC'][data['user_score'].notnull()]\n",
    "\n",
    "st.levene(ratings_xone['user_score'], ratings_pc['user_score'], center='mean')\n",
    "# the sample groups do not have equal variance, the test rejects, so we will use equal_var = False\n",
    "# this allso makes sense here because its diffrent dataframes!"
   ]
  },
  {
   "cell_type": "code",
   "execution_count": 44,
   "metadata": {},
   "outputs": [
    {
     "name": "stdout",
     "output_type": "stream",
     "text": [
      "p-value:  4.5385802963771776e-06\n",
      "We reject the null hypothesis\n",
      "xone mean: 6.521428571428572\n",
      "pc mean: 7.065960264900661\n"
     ]
    }
   ],
   "source": [
    "alpha = 0.05 # critical statistical significance level, \n",
    "# if the p-value is less than alpha, we reject the hypothesis\n",
    "# null hypothesis is always that things we compare are equal. \n",
    "\n",
    "result1 = st.ttest_ind(\n",
    "        ratings_xone['user_score'], \n",
    "        ratings_pc['user_score'], equal_var = False)\n",
    "\n",
    "print('p-value: ', result1.pvalue)\n",
    "\n",
    "if (result1.pvalue < alpha):\n",
    "        print(\"We reject the null hypothesis\") \n",
    "else:\n",
    "        print(\"We can't reject the null hypothesis\")\n",
    "        \n",
    "# general mean \n",
    "xone_mean = ratings_xone['user_score'].mean() \n",
    "pc_mean = ratings_pc['user_score'].mean() \n",
    "print('xone mean:', xone_mean) \n",
    "print('pc mean:', pc_mean)\n",
    "\n",
    "# so we understand they are different, like we thought"
   ]
  },
  {
   "cell_type": "markdown",
   "metadata": {},
   "source": [
    "It means that we can't reject that the average user ratings of the Xbox One and PC platforms are the same. But, at the same time, we can't reject that average user ratings of the Xbox One and PC platforms are not the same."
   ]
  },
  {
   "cell_type": "markdown",
   "metadata": {},
   "source": [
    "Now we test the following hypotheses:\n",
    "\n",
    "- H0 - Average user ratings for the Action and Sports genres are same\n",
    "- H1 - Average user ratings for the Action and Sports genres are different"
   ]
  },
  {
   "cell_type": "code",
   "execution_count": 45,
   "metadata": {},
   "outputs": [
    {
     "name": "stderr",
     "output_type": "stream",
     "text": [
      "/opt/conda/lib/python3.7/site-packages/ipykernel_launcher.py:1: UserWarning: Boolean Series key will be reindexed to match DataFrame index.\n",
      "  \"\"\"Entry point for launching an IPython kernel.\n",
      "/opt/conda/lib/python3.7/site-packages/ipykernel_launcher.py:2: UserWarning: Boolean Series key will be reindexed to match DataFrame index.\n",
      "  \n"
     ]
    },
    {
     "data": {
      "text/plain": [
       "LeveneResult(statistic=22.37365889756191, pvalue=2.352586220971042e-06)"
      ]
     },
     "execution_count": 45,
     "metadata": {},
     "output_type": "execute_result"
    }
   ],
   "source": [
    "ratings_action = data[data['genre']=='Action'][data['user_score'].notnull()]\n",
    "ratings_sports = data[data['genre']=='Sports'][data['user_score'].notnull()]\n",
    "\n",
    "st.levene(ratings_action['user_score'], ratings_sports['user_score'], center='mean')\n",
    "# the sample groups do not have equal variance, the test rejects, so we will use equal_var = False\n",
    "# this allso makes sense here because its diffrent dataframes!"
   ]
  },
  {
   "cell_type": "code",
   "execution_count": 46,
   "metadata": {},
   "outputs": [
    {
     "name": "stdout",
     "output_type": "stream",
     "text": [
      "p-value:  0.07370217419278534\n",
      "We can't reject the null hypothesis\n",
      "action mean: 7.058129175946549\n",
      "sport mean: 6.951433857539316\n"
     ]
    }
   ],
   "source": [
    "alpha = 0.05\n",
    "\n",
    "result1 = st.ttest_ind(\n",
    "        ratings_action['user_score'], \n",
    "        ratings_sports['user_score'], equal_var = False)\n",
    "\n",
    "print('p-value: ', result1.pvalue)\n",
    "\n",
    "if (result1.pvalue < alpha):\n",
    "        print(\"We reject the null hypothesis\") \n",
    "else:\n",
    "        print(\"We can't reject the null hypothesis\")\n",
    "        \n",
    "# general mean \n",
    "action_mean = ratings_action['user_score'].mean() \n",
    "sport_mean = ratings_sports['user_score'].mean() \n",
    "print('action mean:', action_mean) \n",
    "print('sport mean:', sport_mean)\n",
    "\n",
    "# so we understand they are different, like we thought"
   ]
  },
  {
   "cell_type": "markdown",
   "metadata": {},
   "source": [
    "It means that we can reject that the average user ratings for the Action and Sports genres are same. But, at the same time, we can't reject that average user ratings for the Action and Sports genres are different."
   ]
  },
  {
   "cell_type": "markdown",
   "metadata": {},
   "source": [
    "## General conclusion"
   ]
  },
  {
   "cell_type": "markdown",
   "metadata": {},
   "source": [
    "The **project goal** was to identify patterns that determine whether a game succeeds or not.\n",
    "\n",
    "**Step 1. Open the data file and study the general information**\n",
    "\n",
    "What we did:\n",
    "\n",
    "- Loaded all the libraries\n",
    "- Loaded data file into DataFrame\n",
    "- Got info on data\n",
    "- Got info about data types\n",
    "\n",
    "**Step 2. Prepare the data**\n",
    "\n",
    "What we did:\n",
    "\n",
    "- Replaced the column names (make them lowercase)\n",
    "- Converted the data to the required types\n",
    "- Dealt with missing values\n",
    "- Calculateed the total sales for each game and put these values in a separate column.\n",
    "\n",
    "**Step 3. Analyze the data**\n",
    "\n",
    "What we did:\n",
    "\n",
    "- Looked at how many games were released in different years.\n",
    "\n",
    "We figured out that after 1993 the number of films released per year began to rise. The next jump was observed in 2002 and continued until 2011. After that, the number of released games per year began to decline and almost halved. On the given plot, we may see that the best years of the game industry were in 2007 - 2011.\n",
    "\n",
    "- Looked at how sales varied from platform to platform. \n",
    "\n",
    "We found out that the platforms on which the most games were released are 'PS2', 'DS', 'PS3'. The platforms with the fewest releases are 'GG', 'PCFX', 'TG16'.\n",
    "\n",
    "- Chose the platforms with the greatest total sales and build a distribution based on data for each year. \n",
    "- Found platforms that used to be popular but now have zero sales.\n",
    "- Determine what period we should take data for. \n",
    "- Disregard the data for previous years.\n",
    "- Found out which platforms are leading in sales\n",
    "- Found out which ones are growing or shrinking\n",
    "- Selected several potentially profitable platforms\n",
    "- Built a box plot for the global sales of all games, broken down by platform. \n",
    "\n",
    "Wii and X360 had the most significant mean sales. On Wii, X360, PC, and PS3 examples, we can see that platform has a demand on a market for four years on average. In further investigation, we chose to use data on games produced after 2012 since we need to make a prognosis for 2017. After slicing the data, we could see that for the recent period, the most selling platforms are PS4, XOne, PS3, 3DS, and X360. However, PS3 and X360 will give their positions to the new versions PS4 and XOne. \n",
    "\n",
    "- Took a look at how user and professional reviews affect sales for one popular platform. \n",
    "- Build a scatter plot and calculate the correlation between reviews and sales. \n",
    "\n",
    "We found a definite correlation: the higher the rating of critics and users, the higher the total sales revenue. \n",
    "\n",
    "- Compared the sales of the same games on other platforms.\n",
    "\n",
    "We figured out that games sold the worst on PC. And most of the games sold well on three platforms - PS4, PS3, and X360.\n",
    "\n",
    "- Took a look at the general distribution of games by genre. \n",
    "\n",
    "We saw that the most profitable genre is Action, and the less profitable is Puzzle — people are more interested in games with physical challenges, including hand-eye coordination and reaction time.\n",
    "\n",
    "**Step 4. Create a user profile for each region**\n",
    "\n",
    "For each region (NA, EU, JP), we determined:\n",
    "\n",
    "- The top five platforms. \n",
    "- The top five genres. \n",
    "\n",
    "In NA, the top5 platforms are PS4, XOne, X360, PS3, 3DS. In JP: 3DS, PS3, PSV, PS4, WiiU. In EU: PS4, XOne, X360, PS3, 3DS. Since PS3 is a pretty old platform, its sales do not grow. XOne and PS4 could be considered as the most popular new platforms worldwide. 3DS is also a popular platform, and WiiU is left behind.\n",
    "\n",
    "The most popular genres in NA are action, shooter, sports, role-playing and misc. In JP, people mostly play role-playing games, action, misc, fighting, and shooter games. On the other hand, EU players prefer action, shooter, sports, role-playing, racing.\n",
    "\n",
    "According to the total sales examination, we can see that the most popular games have rating M and O ratings. Games with an O rating are most popular in JP. At the same time, the M rating is the most popular in NA and EU regions.\n",
    "\n",
    "**Step 5. Tested the following hypotheses:**\n",
    "\n",
    "- Average user ratings of the Xbox One and PC platforms are the same.\n",
    "- Average user ratings for the Action and Sports genres are different.\n",
    "\n",
    "What we figured out:\n",
    "\n",
    "- We can reject that the average user ratings of the Xbox One and PC platforms are the same. But, at the same time, we can't reject that average user ratings of the Xbox One, and PC platforms are not the same.\n",
    "- We can't reject that the average user ratings for the Action and Sports genres are the same. But, at the same time, we can't reject that average user ratings for the Action and Sports genres are different.\n"
   ]
  }
 ],
 "metadata": {
  "ExecuteTimeLog": [
   {
    "duration": 410,
    "start_time": "2022-02-19T09:59:58.950Z"
   },
   {
    "duration": 1576,
    "start_time": "2022-02-19T10:00:06.895Z"
   },
   {
    "duration": 49,
    "start_time": "2022-02-19T10:00:08.475Z"
   },
   {
    "duration": 11,
    "start_time": "2022-02-19T10:01:01.176Z"
   },
   {
    "duration": 25,
    "start_time": "2022-02-19T10:01:28.506Z"
   },
   {
    "duration": 18,
    "start_time": "2022-02-19T10:03:36.590Z"
   },
   {
    "duration": 8,
    "start_time": "2022-02-19T10:06:08.181Z"
   },
   {
    "duration": 8,
    "start_time": "2022-02-19T10:11:05.614Z"
   },
   {
    "duration": 117,
    "start_time": "2022-02-19T10:11:42.720Z"
   },
   {
    "duration": 515,
    "start_time": "2022-02-19T10:15:31.339Z"
   },
   {
    "duration": 313,
    "start_time": "2022-02-19T10:16:24.138Z"
   },
   {
    "duration": 1797,
    "start_time": "2022-02-19T10:16:32.602Z"
   },
   {
    "duration": 49,
    "start_time": "2022-02-19T10:16:34.402Z"
   },
   {
    "duration": 8,
    "start_time": "2022-02-19T10:16:34.461Z"
   },
   {
    "duration": 30,
    "start_time": "2022-02-19T10:16:34.472Z"
   },
   {
    "duration": 21,
    "start_time": "2022-02-19T10:16:34.505Z"
   },
   {
    "duration": 9,
    "start_time": "2022-02-19T10:16:34.563Z"
   },
   {
    "duration": 18,
    "start_time": "2022-02-19T10:16:34.575Z"
   },
   {
    "duration": 470,
    "start_time": "2022-02-19T10:16:34.596Z"
   },
   {
    "duration": 2257,
    "start_time": "2022-02-19T10:17:41.479Z"
   },
   {
    "duration": 2406,
    "start_time": "2022-02-19T10:18:03.377Z"
   },
   {
    "duration": 7385,
    "start_time": "2022-02-19T10:22:46.949Z"
   },
   {
    "duration": 1552,
    "start_time": "2022-02-19T10:23:10.061Z"
   },
   {
    "duration": 51,
    "start_time": "2022-02-19T10:23:11.616Z"
   },
   {
    "duration": 6,
    "start_time": "2022-02-19T10:23:11.670Z"
   },
   {
    "duration": 34,
    "start_time": "2022-02-19T10:23:11.679Z"
   },
   {
    "duration": 51,
    "start_time": "2022-02-19T10:23:11.717Z"
   },
   {
    "duration": 10,
    "start_time": "2022-02-19T10:23:11.771Z"
   },
   {
    "duration": 10,
    "start_time": "2022-02-19T10:23:11.784Z"
   },
   {
    "duration": 8,
    "start_time": "2022-02-19T10:23:11.797Z"
   },
   {
    "duration": 2259,
    "start_time": "2022-02-19T10:23:11.809Z"
   },
   {
    "duration": 106,
    "start_time": "2022-02-19T10:34:40.638Z"
   },
   {
    "duration": 111,
    "start_time": "2022-02-19T10:34:45.863Z"
   },
   {
    "duration": 99,
    "start_time": "2022-02-19T10:34:52.747Z"
   },
   {
    "duration": 7905,
    "start_time": "2022-02-19T10:36:27.270Z"
   },
   {
    "duration": 1480,
    "start_time": "2022-02-19T10:36:41.850Z"
   },
   {
    "duration": 46,
    "start_time": "2022-02-19T10:36:43.333Z"
   },
   {
    "duration": 8,
    "start_time": "2022-02-19T10:36:43.382Z"
   },
   {
    "duration": 22,
    "start_time": "2022-02-19T10:36:43.393Z"
   },
   {
    "duration": 45,
    "start_time": "2022-02-19T10:36:43.418Z"
   },
   {
    "duration": 9,
    "start_time": "2022-02-19T10:36:43.466Z"
   },
   {
    "duration": 8,
    "start_time": "2022-02-19T10:36:43.478Z"
   },
   {
    "duration": 13,
    "start_time": "2022-02-19T10:36:43.491Z"
   },
   {
    "duration": 6,
    "start_time": "2022-02-19T10:36:43.563Z"
   },
   {
    "duration": 2453,
    "start_time": "2022-02-19T10:36:43.572Z"
   },
   {
    "duration": 7769,
    "start_time": "2022-02-19T10:37:20.992Z"
   },
   {
    "duration": 1556,
    "start_time": "2022-02-19T10:37:36.551Z"
   },
   {
    "duration": 42,
    "start_time": "2022-02-19T10:37:38.110Z"
   },
   {
    "duration": 7,
    "start_time": "2022-02-19T10:37:38.162Z"
   },
   {
    "duration": 25,
    "start_time": "2022-02-19T10:37:38.171Z"
   },
   {
    "duration": 14,
    "start_time": "2022-02-19T10:37:38.198Z"
   },
   {
    "duration": 47,
    "start_time": "2022-02-19T10:37:38.214Z"
   },
   {
    "duration": 7,
    "start_time": "2022-02-19T10:37:38.264Z"
   },
   {
    "duration": 390,
    "start_time": "2022-02-19T10:37:38.274Z"
   },
   {
    "duration": -17,
    "start_time": "2022-02-19T10:37:38.684Z"
   },
   {
    "duration": -19,
    "start_time": "2022-02-19T10:37:38.687Z"
   },
   {
    "duration": 308,
    "start_time": "2022-02-19T10:37:51.284Z"
   },
   {
    "duration": 10,
    "start_time": "2022-02-19T10:38:59.999Z"
   },
   {
    "duration": 9,
    "start_time": "2022-02-19T10:40:26.686Z"
   },
   {
    "duration": 1448,
    "start_time": "2022-02-19T10:40:32.694Z"
   },
   {
    "duration": 49,
    "start_time": "2022-02-19T10:40:34.145Z"
   },
   {
    "duration": 10,
    "start_time": "2022-02-19T10:40:34.202Z"
   },
   {
    "duration": 60,
    "start_time": "2022-02-19T10:40:34.215Z"
   },
   {
    "duration": 18,
    "start_time": "2022-02-19T10:40:34.278Z"
   },
   {
    "duration": 7,
    "start_time": "2022-02-19T10:40:34.299Z"
   },
   {
    "duration": 56,
    "start_time": "2022-02-19T10:40:34.309Z"
   },
   {
    "duration": 12,
    "start_time": "2022-02-19T10:40:34.370Z"
   },
   {
    "duration": 9,
    "start_time": "2022-02-19T10:40:34.386Z"
   },
   {
    "duration": 6,
    "start_time": "2022-02-19T10:40:34.397Z"
   },
   {
    "duration": 2164,
    "start_time": "2022-02-19T10:40:34.406Z"
   },
   {
    "duration": 7372,
    "start_time": "2022-02-19T10:41:10.683Z"
   },
   {
    "duration": 1485,
    "start_time": "2022-02-19T10:41:21.163Z"
   },
   {
    "duration": 45,
    "start_time": "2022-02-19T10:41:22.652Z"
   },
   {
    "duration": 7,
    "start_time": "2022-02-19T10:41:22.703Z"
   },
   {
    "duration": 57,
    "start_time": "2022-02-19T10:41:22.712Z"
   },
   {
    "duration": 15,
    "start_time": "2022-02-19T10:41:22.772Z"
   },
   {
    "duration": 7,
    "start_time": "2022-02-19T10:41:22.790Z"
   },
   {
    "duration": 59,
    "start_time": "2022-02-19T10:41:22.802Z"
   },
   {
    "duration": 12,
    "start_time": "2022-02-19T10:41:22.864Z"
   },
   {
    "duration": 7,
    "start_time": "2022-02-19T10:41:22.879Z"
   },
   {
    "duration": 11,
    "start_time": "2022-02-19T10:41:22.888Z"
   },
   {
    "duration": 6,
    "start_time": "2022-02-19T10:41:22.902Z"
   },
   {
    "duration": 2236,
    "start_time": "2022-02-19T10:41:22.962Z"
   },
   {
    "duration": 1532,
    "start_time": "2022-02-19T10:42:17.646Z"
   },
   {
    "duration": 45,
    "start_time": "2022-02-19T10:42:19.181Z"
   },
   {
    "duration": 6,
    "start_time": "2022-02-19T10:42:19.233Z"
   },
   {
    "duration": 36,
    "start_time": "2022-02-19T10:42:19.242Z"
   },
   {
    "duration": 14,
    "start_time": "2022-02-19T10:42:19.280Z"
   },
   {
    "duration": 6,
    "start_time": "2022-02-19T10:42:19.296Z"
   },
   {
    "duration": 59,
    "start_time": "2022-02-19T10:42:19.305Z"
   },
   {
    "duration": 14,
    "start_time": "2022-02-19T10:42:19.368Z"
   },
   {
    "duration": 7,
    "start_time": "2022-02-19T10:42:19.385Z"
   },
   {
    "duration": 66,
    "start_time": "2022-02-19T10:42:19.395Z"
   },
   {
    "duration": 7,
    "start_time": "2022-02-19T10:42:19.464Z"
   },
   {
    "duration": 2253,
    "start_time": "2022-02-19T10:42:19.474Z"
   },
   {
    "duration": 8149,
    "start_time": "2022-02-19T10:42:42.980Z"
   },
   {
    "duration": 1456,
    "start_time": "2022-02-19T10:42:59.107Z"
   },
   {
    "duration": 44,
    "start_time": "2022-02-19T10:43:00.566Z"
   },
   {
    "duration": 7,
    "start_time": "2022-02-19T10:43:00.616Z"
   },
   {
    "duration": 55,
    "start_time": "2022-02-19T10:43:00.625Z"
   },
   {
    "duration": 19,
    "start_time": "2022-02-19T10:43:00.683Z"
   },
   {
    "duration": 8,
    "start_time": "2022-02-19T10:43:00.706Z"
   },
   {
    "duration": 51,
    "start_time": "2022-02-19T10:43:00.717Z"
   },
   {
    "duration": 12,
    "start_time": "2022-02-19T10:43:00.773Z"
   },
   {
    "duration": 11,
    "start_time": "2022-02-19T10:43:00.789Z"
   },
   {
    "duration": 62,
    "start_time": "2022-02-19T10:43:00.803Z"
   },
   {
    "duration": 17,
    "start_time": "2022-02-19T10:43:00.868Z"
   },
   {
    "duration": 36,
    "start_time": "2022-02-19T10:43:00.887Z"
   },
   {
    "duration": 11,
    "start_time": "2022-02-19T10:45:25.957Z"
   },
   {
    "duration": 23,
    "start_time": "2022-02-19T10:49:08.298Z"
   },
   {
    "duration": 11,
    "start_time": "2022-02-19T10:53:02.895Z"
   },
   {
    "duration": 23,
    "start_time": "2022-02-19T10:53:24.378Z"
   },
   {
    "duration": 23,
    "start_time": "2022-02-19T10:58:49.435Z"
   },
   {
    "duration": 1623,
    "start_time": "2022-02-19T10:58:56.330Z"
   },
   {
    "duration": 50,
    "start_time": "2022-02-19T10:58:57.955Z"
   },
   {
    "duration": 7,
    "start_time": "2022-02-19T10:58:58.008Z"
   },
   {
    "duration": 53,
    "start_time": "2022-02-19T10:58:58.019Z"
   },
   {
    "duration": 14,
    "start_time": "2022-02-19T10:58:58.075Z"
   },
   {
    "duration": 7,
    "start_time": "2022-02-19T10:58:58.091Z"
   },
   {
    "duration": 8,
    "start_time": "2022-02-19T10:58:58.101Z"
   },
   {
    "duration": 57,
    "start_time": "2022-02-19T10:58:58.111Z"
   },
   {
    "duration": 8,
    "start_time": "2022-02-19T10:58:58.172Z"
   },
   {
    "duration": 10,
    "start_time": "2022-02-19T10:58:58.184Z"
   },
   {
    "duration": 6,
    "start_time": "2022-02-19T10:58:58.197Z"
   },
   {
    "duration": 71,
    "start_time": "2022-02-19T10:58:58.206Z"
   },
   {
    "duration": 21,
    "start_time": "2022-02-19T10:58:58.280Z"
   },
   {
    "duration": 66,
    "start_time": "2022-02-19T10:58:58.303Z"
   },
   {
    "duration": 451,
    "start_time": "2022-02-19T11:01:18.882Z"
   },
   {
    "duration": 396,
    "start_time": "2022-02-19T11:01:28.830Z"
   },
   {
    "duration": 379,
    "start_time": "2022-02-19T11:01:33.391Z"
   },
   {
    "duration": 30,
    "start_time": "2022-02-19T11:02:27.194Z"
   },
   {
    "duration": 26,
    "start_time": "2022-02-19T11:02:33.105Z"
   },
   {
    "duration": 24,
    "start_time": "2022-02-19T11:02:46.188Z"
   },
   {
    "duration": 21,
    "start_time": "2022-02-19T11:03:06.059Z"
   },
   {
    "duration": 14,
    "start_time": "2022-02-19T11:03:32.146Z"
   },
   {
    "duration": 34,
    "start_time": "2022-02-19T11:05:39.633Z"
   },
   {
    "duration": 10,
    "start_time": "2022-02-19T11:06:29.842Z"
   },
   {
    "duration": 32,
    "start_time": "2022-02-19T11:07:43.317Z"
   },
   {
    "duration": 20,
    "start_time": "2022-02-19T11:19:11.665Z"
   },
   {
    "duration": 13,
    "start_time": "2022-02-19T11:20:25.898Z"
   },
   {
    "duration": 19,
    "start_time": "2022-02-19T11:21:45.493Z"
   },
   {
    "duration": 10,
    "start_time": "2022-02-19T11:24:18.621Z"
   },
   {
    "duration": 7,
    "start_time": "2022-02-19T11:25:43.789Z"
   },
   {
    "duration": 6,
    "start_time": "2022-02-19T11:26:08.684Z"
   },
   {
    "duration": 7,
    "start_time": "2022-02-19T11:26:10.298Z"
   },
   {
    "duration": 6,
    "start_time": "2022-02-19T11:26:24.167Z"
   },
   {
    "duration": 7,
    "start_time": "2022-02-19T11:26:24.815Z"
   },
   {
    "duration": 7,
    "start_time": "2022-02-19T11:26:25.355Z"
   },
   {
    "duration": 12,
    "start_time": "2022-02-19T11:26:30.306Z"
   },
   {
    "duration": 22,
    "start_time": "2022-02-19T11:27:10.368Z"
   },
   {
    "duration": 5,
    "start_time": "2022-02-19T11:28:40.927Z"
   },
   {
    "duration": 8,
    "start_time": "2022-02-19T11:28:53.132Z"
   },
   {
    "duration": 8,
    "start_time": "2022-02-19T11:28:59.555Z"
   },
   {
    "duration": 7,
    "start_time": "2022-02-19T11:29:07.904Z"
   },
   {
    "duration": 6,
    "start_time": "2022-02-19T11:29:08.571Z"
   },
   {
    "duration": 299,
    "start_time": "2022-02-19T11:30:10.319Z"
   },
   {
    "duration": 13,
    "start_time": "2022-02-19T11:30:30.643Z"
   },
   {
    "duration": 6,
    "start_time": "2022-02-19T11:37:16.250Z"
   },
   {
    "duration": 25,
    "start_time": "2022-02-19T11:37:30.207Z"
   },
   {
    "duration": 12,
    "start_time": "2022-02-19T11:38:38.658Z"
   },
   {
    "duration": 54,
    "start_time": "2022-02-19T11:41:13.135Z"
   },
   {
    "duration": 40,
    "start_time": "2022-02-19T11:41:53.937Z"
   },
   {
    "duration": 45,
    "start_time": "2022-02-19T11:42:13.173Z"
   },
   {
    "duration": 42,
    "start_time": "2022-02-19T11:42:27.274Z"
   },
   {
    "duration": 27,
    "start_time": "2022-02-19T11:43:14.726Z"
   },
   {
    "duration": 8188,
    "start_time": "2022-02-19T11:43:37.188Z"
   },
   {
    "duration": 1471,
    "start_time": "2022-02-19T11:44:11.216Z"
   },
   {
    "duration": 44,
    "start_time": "2022-02-19T11:44:12.690Z"
   },
   {
    "duration": 7,
    "start_time": "2022-02-19T11:44:12.737Z"
   },
   {
    "duration": 25,
    "start_time": "2022-02-19T11:44:12.762Z"
   },
   {
    "duration": 14,
    "start_time": "2022-02-19T11:44:12.790Z"
   },
   {
    "duration": 7,
    "start_time": "2022-02-19T11:44:12.806Z"
   },
   {
    "duration": 57,
    "start_time": "2022-02-19T11:44:12.815Z"
   },
   {
    "duration": 14,
    "start_time": "2022-02-19T11:44:12.874Z"
   },
   {
    "duration": 8,
    "start_time": "2022-02-19T11:44:12.892Z"
   },
   {
    "duration": 9,
    "start_time": "2022-02-19T11:44:12.903Z"
   },
   {
    "duration": 73,
    "start_time": "2022-02-19T11:44:12.914Z"
   },
   {
    "duration": 6,
    "start_time": "2022-02-19T11:44:12.989Z"
   },
   {
    "duration": 18,
    "start_time": "2022-02-19T11:44:12.997Z"
   },
   {
    "duration": 56,
    "start_time": "2022-02-19T11:44:13.018Z"
   },
   {
    "duration": 19,
    "start_time": "2022-02-19T11:44:13.077Z"
   },
   {
    "duration": 65,
    "start_time": "2022-02-19T11:44:13.099Z"
   },
   {
    "duration": 12,
    "start_time": "2022-02-19T11:44:13.166Z"
   },
   {
    "duration": 34,
    "start_time": "2022-02-19T11:44:13.180Z"
   },
   {
    "duration": 56,
    "start_time": "2022-02-19T11:44:13.216Z"
   },
   {
    "duration": 11,
    "start_time": "2022-02-19T11:44:13.274Z"
   },
   {
    "duration": 6,
    "start_time": "2022-02-19T11:44:13.287Z"
   },
   {
    "duration": 6,
    "start_time": "2022-02-19T11:44:13.295Z"
   },
   {
    "duration": 9,
    "start_time": "2022-02-19T11:44:13.303Z"
   },
   {
    "duration": 57,
    "start_time": "2022-02-19T11:44:13.314Z"
   },
   {
    "duration": 35,
    "start_time": "2022-02-19T11:44:13.374Z"
   },
   {
    "duration": 8379,
    "start_time": "2022-02-19T11:44:52.590Z"
   },
   {
    "duration": 1604,
    "start_time": "2022-02-19T11:45:24.431Z"
   },
   {
    "duration": 49,
    "start_time": "2022-02-19T11:45:26.043Z"
   },
   {
    "duration": 9,
    "start_time": "2022-02-19T11:45:26.095Z"
   },
   {
    "duration": 63,
    "start_time": "2022-02-19T11:45:26.107Z"
   },
   {
    "duration": 19,
    "start_time": "2022-02-19T11:45:26.173Z"
   },
   {
    "duration": 8,
    "start_time": "2022-02-19T11:45:26.195Z"
   },
   {
    "duration": 7,
    "start_time": "2022-02-19T11:45:26.206Z"
   },
   {
    "duration": 10,
    "start_time": "2022-02-19T11:45:26.261Z"
   },
   {
    "duration": 8,
    "start_time": "2022-02-19T11:45:26.273Z"
   },
   {
    "duration": 10,
    "start_time": "2022-02-19T11:45:26.284Z"
   },
   {
    "duration": 77,
    "start_time": "2022-02-19T11:45:26.296Z"
   },
   {
    "duration": 9,
    "start_time": "2022-02-19T11:45:26.377Z"
   },
   {
    "duration": 27,
    "start_time": "2022-02-19T11:45:26.389Z"
   },
   {
    "duration": 57,
    "start_time": "2022-02-19T11:45:26.419Z"
   },
   {
    "duration": 20,
    "start_time": "2022-02-19T11:45:26.479Z"
   },
   {
    "duration": 29,
    "start_time": "2022-02-19T11:45:26.502Z"
   },
   {
    "duration": 43,
    "start_time": "2022-02-19T11:45:26.534Z"
   },
   {
    "duration": 42,
    "start_time": "2022-02-19T11:45:26.580Z"
   },
   {
    "duration": 54,
    "start_time": "2022-02-19T11:45:26.625Z"
   },
   {
    "duration": 10,
    "start_time": "2022-02-19T11:45:26.682Z"
   },
   {
    "duration": 7,
    "start_time": "2022-02-19T11:45:26.695Z"
   },
   {
    "duration": 54,
    "start_time": "2022-02-19T11:45:26.709Z"
   },
   {
    "duration": 11,
    "start_time": "2022-02-19T11:45:26.766Z"
   },
   {
    "duration": 12,
    "start_time": "2022-02-19T11:45:26.779Z"
   },
   {
    "duration": 74,
    "start_time": "2022-02-19T11:45:26.793Z"
   },
   {
    "duration": 9190,
    "start_time": "2022-02-19T11:45:52.166Z"
   },
   {
    "duration": 1445,
    "start_time": "2022-02-19T11:46:10.192Z"
   },
   {
    "duration": 44,
    "start_time": "2022-02-19T11:46:11.640Z"
   },
   {
    "duration": 8,
    "start_time": "2022-02-19T11:46:11.690Z"
   },
   {
    "duration": 61,
    "start_time": "2022-02-19T11:46:11.700Z"
   },
   {
    "duration": 15,
    "start_time": "2022-02-19T11:46:11.763Z"
   },
   {
    "duration": 14,
    "start_time": "2022-02-19T11:46:11.781Z"
   },
   {
    "duration": 16,
    "start_time": "2022-02-19T11:46:11.798Z"
   },
   {
    "duration": 44,
    "start_time": "2022-02-19T11:46:11.818Z"
   },
   {
    "duration": 8,
    "start_time": "2022-02-19T11:46:11.865Z"
   },
   {
    "duration": 19,
    "start_time": "2022-02-19T11:46:11.876Z"
   },
   {
    "duration": 36,
    "start_time": "2022-02-19T11:46:11.897Z"
   },
   {
    "duration": 31,
    "start_time": "2022-02-19T11:46:11.936Z"
   },
   {
    "duration": 39,
    "start_time": "2022-02-19T11:46:11.969Z"
   },
   {
    "duration": 22,
    "start_time": "2022-02-19T11:46:12.010Z"
   },
   {
    "duration": 43,
    "start_time": "2022-02-19T11:46:12.036Z"
   },
   {
    "duration": 41,
    "start_time": "2022-02-19T11:46:12.081Z"
   },
   {
    "duration": 13,
    "start_time": "2022-02-19T11:46:12.125Z"
   },
   {
    "duration": 52,
    "start_time": "2022-02-19T11:46:12.141Z"
   },
   {
    "duration": 32,
    "start_time": "2022-02-19T11:46:12.195Z"
   },
   {
    "duration": 36,
    "start_time": "2022-02-19T11:46:12.229Z"
   },
   {
    "duration": 6,
    "start_time": "2022-02-19T11:46:12.267Z"
   },
   {
    "duration": 27,
    "start_time": "2022-02-19T11:46:12.275Z"
   },
   {
    "duration": 17,
    "start_time": "2022-02-19T11:46:12.305Z"
   },
   {
    "duration": 43,
    "start_time": "2022-02-19T11:46:12.325Z"
   },
   {
    "duration": 43,
    "start_time": "2022-02-19T11:46:12.371Z"
   },
   {
    "duration": 30,
    "start_time": "2022-02-19T11:46:24.676Z"
   },
   {
    "duration": 30,
    "start_time": "2022-02-19T11:46:31.973Z"
   },
   {
    "duration": 27,
    "start_time": "2022-02-19T11:53:24.962Z"
   },
   {
    "duration": 27,
    "start_time": "2022-02-19T11:54:03.857Z"
   },
   {
    "duration": 25,
    "start_time": "2022-02-19T11:54:15.979Z"
   },
   {
    "duration": 533,
    "start_time": "2022-02-19T11:55:03.605Z"
   },
   {
    "duration": 18,
    "start_time": "2022-02-19T11:55:13.745Z"
   },
   {
    "duration": 30,
    "start_time": "2022-02-19T11:55:31.224Z"
   },
   {
    "duration": 29,
    "start_time": "2022-02-19T11:55:58.409Z"
   },
   {
    "duration": 31,
    "start_time": "2022-02-19T11:56:16.622Z"
   },
   {
    "duration": 32,
    "start_time": "2022-02-19T11:56:27.646Z"
   },
   {
    "duration": 33,
    "start_time": "2022-02-19T11:56:57.250Z"
   },
   {
    "duration": 314,
    "start_time": "2022-02-19T11:57:22.114Z"
   },
   {
    "duration": 367,
    "start_time": "2022-02-19T11:57:27.626Z"
   },
   {
    "duration": 488,
    "start_time": "2022-02-19T11:57:33.706Z"
   },
   {
    "duration": 34,
    "start_time": "2022-02-19T11:57:42.530Z"
   },
   {
    "duration": 28,
    "start_time": "2022-02-19T11:59:05.181Z"
   },
   {
    "duration": 36,
    "start_time": "2022-02-19T11:59:12.628Z"
   },
   {
    "duration": 35,
    "start_time": "2022-02-19T12:00:23.823Z"
   },
   {
    "duration": 74,
    "start_time": "2022-02-19T12:02:07.657Z"
   },
   {
    "duration": 92,
    "start_time": "2022-02-19T12:04:44.340Z"
   },
   {
    "duration": 117,
    "start_time": "2022-02-19T12:05:02.541Z"
   },
   {
    "duration": 1438,
    "start_time": "2022-02-19T12:05:09.904Z"
   },
   {
    "duration": 49,
    "start_time": "2022-02-19T12:05:11.345Z"
   },
   {
    "duration": 7,
    "start_time": "2022-02-19T12:05:11.400Z"
   },
   {
    "duration": 53,
    "start_time": "2022-02-19T12:05:11.409Z"
   },
   {
    "duration": 14,
    "start_time": "2022-02-19T12:05:11.465Z"
   },
   {
    "duration": 7,
    "start_time": "2022-02-19T12:05:11.481Z"
   },
   {
    "duration": 9,
    "start_time": "2022-02-19T12:05:11.490Z"
   },
   {
    "duration": 58,
    "start_time": "2022-02-19T12:05:11.503Z"
   },
   {
    "duration": 10,
    "start_time": "2022-02-19T12:05:11.565Z"
   },
   {
    "duration": 9,
    "start_time": "2022-02-19T12:05:11.577Z"
   },
   {
    "duration": 26,
    "start_time": "2022-02-19T12:05:11.589Z"
   },
   {
    "duration": 47,
    "start_time": "2022-02-19T12:05:11.617Z"
   },
   {
    "duration": 20,
    "start_time": "2022-02-19T12:05:11.667Z"
   },
   {
    "duration": 22,
    "start_time": "2022-02-19T12:05:11.689Z"
   },
   {
    "duration": 62,
    "start_time": "2022-02-19T12:05:11.713Z"
   },
   {
    "duration": 24,
    "start_time": "2022-02-19T12:05:11.777Z"
   },
   {
    "duration": 12,
    "start_time": "2022-02-19T12:05:11.804Z"
   },
   {
    "duration": 72,
    "start_time": "2022-02-19T12:05:11.819Z"
   },
   {
    "duration": 20,
    "start_time": "2022-02-19T12:05:11.894Z"
   },
   {
    "duration": 52,
    "start_time": "2022-02-19T12:05:11.916Z"
   },
   {
    "duration": 7,
    "start_time": "2022-02-19T12:05:11.970Z"
   },
   {
    "duration": 7,
    "start_time": "2022-02-19T12:05:11.980Z"
   },
   {
    "duration": 8,
    "start_time": "2022-02-19T12:05:11.990Z"
   },
   {
    "duration": 62,
    "start_time": "2022-02-19T12:05:12.001Z"
   },
   {
    "duration": 29,
    "start_time": "2022-02-19T12:05:12.065Z"
   },
   {
    "duration": 107,
    "start_time": "2022-02-19T12:05:12.100Z"
   },
   {
    "duration": 100,
    "start_time": "2022-02-19T12:05:46.030Z"
   },
   {
    "duration": 101,
    "start_time": "2022-02-19T12:05:48.564Z"
   },
   {
    "duration": 95,
    "start_time": "2022-02-19T12:05:56.493Z"
   },
   {
    "duration": 132,
    "start_time": "2022-02-19T12:06:13.029Z"
   },
   {
    "duration": 1575,
    "start_time": "2022-02-19T12:06:30.743Z"
   },
   {
    "duration": 51,
    "start_time": "2022-02-19T12:06:32.321Z"
   },
   {
    "duration": 7,
    "start_time": "2022-02-19T12:06:32.375Z"
   },
   {
    "duration": 27,
    "start_time": "2022-02-19T12:06:32.385Z"
   },
   {
    "duration": 51,
    "start_time": "2022-02-19T12:06:32.415Z"
   },
   {
    "duration": 8,
    "start_time": "2022-02-19T12:06:32.468Z"
   },
   {
    "duration": 6,
    "start_time": "2022-02-19T12:06:32.479Z"
   },
   {
    "duration": 10,
    "start_time": "2022-02-19T12:06:32.488Z"
   },
   {
    "duration": 7,
    "start_time": "2022-02-19T12:06:32.502Z"
   },
   {
    "duration": 12,
    "start_time": "2022-02-19T12:06:32.563Z"
   },
   {
    "duration": 25,
    "start_time": "2022-02-19T12:06:32.577Z"
   },
   {
    "duration": 6,
    "start_time": "2022-02-19T12:06:32.605Z"
   },
   {
    "duration": 64,
    "start_time": "2022-02-19T12:06:32.614Z"
   },
   {
    "duration": 36,
    "start_time": "2022-02-19T12:06:32.682Z"
   },
   {
    "duration": 21,
    "start_time": "2022-02-19T12:06:32.721Z"
   },
   {
    "duration": 25,
    "start_time": "2022-02-19T12:06:32.762Z"
   },
   {
    "duration": 15,
    "start_time": "2022-02-19T12:06:32.789Z"
   },
   {
    "duration": 81,
    "start_time": "2022-02-19T12:06:32.807Z"
   },
   {
    "duration": 21,
    "start_time": "2022-02-19T12:06:32.891Z"
   },
   {
    "duration": 47,
    "start_time": "2022-02-19T12:06:32.914Z"
   },
   {
    "duration": 8,
    "start_time": "2022-02-19T12:06:32.964Z"
   },
   {
    "duration": 7,
    "start_time": "2022-02-19T12:06:32.974Z"
   },
   {
    "duration": 8,
    "start_time": "2022-02-19T12:06:32.983Z"
   },
   {
    "duration": 14,
    "start_time": "2022-02-19T12:06:32.994Z"
   },
   {
    "duration": 81,
    "start_time": "2022-02-19T12:06:33.010Z"
   },
   {
    "duration": 137,
    "start_time": "2022-02-19T12:06:33.094Z"
   },
   {
    "duration": 77,
    "start_time": "2022-02-19T12:46:00.487Z"
   },
   {
    "duration": 1486,
    "start_time": "2022-02-19T13:07:41.449Z"
   },
   {
    "duration": 47,
    "start_time": "2022-02-19T13:07:42.938Z"
   },
   {
    "duration": 7,
    "start_time": "2022-02-19T13:07:42.989Z"
   },
   {
    "duration": 31,
    "start_time": "2022-02-19T13:07:42.999Z"
   },
   {
    "duration": 14,
    "start_time": "2022-02-19T13:07:43.061Z"
   },
   {
    "duration": 7,
    "start_time": "2022-02-19T13:07:43.077Z"
   },
   {
    "duration": 7,
    "start_time": "2022-02-19T13:07:43.086Z"
   },
   {
    "duration": 9,
    "start_time": "2022-02-19T13:07:43.096Z"
   },
   {
    "duration": 56,
    "start_time": "2022-02-19T13:07:43.108Z"
   },
   {
    "duration": 11,
    "start_time": "2022-02-19T13:07:43.166Z"
   },
   {
    "duration": 23,
    "start_time": "2022-02-19T13:07:43.180Z"
   },
   {
    "duration": 57,
    "start_time": "2022-02-19T13:07:43.206Z"
   },
   {
    "duration": 14,
    "start_time": "2022-02-19T13:07:43.266Z"
   },
   {
    "duration": 26,
    "start_time": "2022-02-19T13:07:43.282Z"
   },
   {
    "duration": 52,
    "start_time": "2022-02-19T13:07:43.311Z"
   },
   {
    "duration": 21,
    "start_time": "2022-02-19T13:07:43.365Z"
   },
   {
    "duration": 13,
    "start_time": "2022-02-19T13:07:43.389Z"
   },
   {
    "duration": 74,
    "start_time": "2022-02-19T13:07:43.405Z"
   },
   {
    "duration": 20,
    "start_time": "2022-02-19T13:07:43.482Z"
   },
   {
    "duration": 12,
    "start_time": "2022-02-19T13:07:43.505Z"
   },
   {
    "duration": 45,
    "start_time": "2022-02-19T13:07:43.520Z"
   },
   {
    "duration": 10,
    "start_time": "2022-02-19T13:07:43.567Z"
   },
   {
    "duration": 6,
    "start_time": "2022-02-19T13:07:43.581Z"
   },
   {
    "duration": 15,
    "start_time": "2022-02-19T13:07:43.590Z"
   },
   {
    "duration": 79,
    "start_time": "2022-02-19T13:07:43.607Z"
   },
   {
    "duration": 109,
    "start_time": "2022-02-19T13:07:43.689Z"
   },
   {
    "duration": 488,
    "start_time": "2022-02-19T13:07:43.801Z"
   },
   {
    "duration": 303,
    "start_time": "2022-02-19T13:08:03.601Z"
   },
   {
    "duration": 10,
    "start_time": "2022-02-19T13:08:23.930Z"
   },
   {
    "duration": 18,
    "start_time": "2022-02-19T13:09:08.397Z"
   },
   {
    "duration": 16,
    "start_time": "2022-02-19T13:13:47.752Z"
   },
   {
    "duration": 903,
    "start_time": "2022-02-19T13:19:58.695Z"
   },
   {
    "duration": 967,
    "start_time": "2022-02-19T13:21:39.512Z"
   },
   {
    "duration": 319,
    "start_time": "2022-02-19T13:22:24.006Z"
   },
   {
    "duration": 1284,
    "start_time": "2022-02-19T13:22:54.866Z"
   },
   {
    "duration": 1240,
    "start_time": "2022-02-19T13:23:41.967Z"
   },
   {
    "duration": 1448,
    "start_time": "2022-02-19T13:25:45.190Z"
   },
   {
    "duration": 52,
    "start_time": "2022-02-19T13:25:46.641Z"
   },
   {
    "duration": 9,
    "start_time": "2022-02-19T13:25:46.697Z"
   },
   {
    "duration": 55,
    "start_time": "2022-02-19T13:25:46.709Z"
   },
   {
    "duration": 18,
    "start_time": "2022-02-19T13:25:46.767Z"
   },
   {
    "duration": 7,
    "start_time": "2022-02-19T13:25:46.788Z"
   },
   {
    "duration": 12,
    "start_time": "2022-02-19T13:25:46.798Z"
   },
   {
    "duration": 55,
    "start_time": "2022-02-19T13:25:46.813Z"
   },
   {
    "duration": 18,
    "start_time": "2022-02-19T13:25:46.871Z"
   },
   {
    "duration": 12,
    "start_time": "2022-02-19T13:25:46.892Z"
   },
   {
    "duration": 65,
    "start_time": "2022-02-19T13:25:46.907Z"
   },
   {
    "duration": 7,
    "start_time": "2022-02-19T13:25:46.975Z"
   },
   {
    "duration": 17,
    "start_time": "2022-02-19T13:25:46.984Z"
   },
   {
    "duration": 22,
    "start_time": "2022-02-19T13:25:47.003Z"
   },
   {
    "duration": 52,
    "start_time": "2022-02-19T13:25:47.028Z"
   },
   {
    "duration": 40,
    "start_time": "2022-02-19T13:25:47.082Z"
   },
   {
    "duration": 12,
    "start_time": "2022-02-19T13:25:47.124Z"
   },
   {
    "duration": 53,
    "start_time": "2022-02-19T13:25:47.138Z"
   },
   {
    "duration": 26,
    "start_time": "2022-02-19T13:25:47.193Z"
   },
   {
    "duration": 44,
    "start_time": "2022-02-19T13:25:47.222Z"
   },
   {
    "duration": 10,
    "start_time": "2022-02-19T13:25:47.268Z"
   },
   {
    "duration": 11,
    "start_time": "2022-02-19T13:25:47.280Z"
   },
   {
    "duration": 7,
    "start_time": "2022-02-19T13:25:47.296Z"
   },
   {
    "duration": 60,
    "start_time": "2022-02-19T13:25:47.305Z"
   },
   {
    "duration": 31,
    "start_time": "2022-02-19T13:25:47.368Z"
   },
   {
    "duration": 104,
    "start_time": "2022-02-19T13:25:47.401Z"
   },
   {
    "duration": 16,
    "start_time": "2022-02-19T13:25:47.507Z"
   },
   {
    "duration": 939,
    "start_time": "2022-02-19T13:25:47.526Z"
   },
   {
    "duration": 12,
    "start_time": "2022-02-19T13:25:48.467Z"
   },
   {
    "duration": 16,
    "start_time": "2022-02-19T13:25:48.481Z"
   },
   {
    "duration": 1040,
    "start_time": "2022-02-19T13:25:48.500Z"
   },
   {
    "duration": 832,
    "start_time": "2022-02-19T13:25:49.542Z"
   },
   {
    "duration": 736,
    "start_time": "2022-02-19T13:26:52.010Z"
   },
   {
    "duration": 873,
    "start_time": "2022-02-19T13:27:11.682Z"
   },
   {
    "duration": 865,
    "start_time": "2022-02-19T13:27:34.702Z"
   },
   {
    "duration": 1039,
    "start_time": "2022-02-19T13:27:43.318Z"
   },
   {
    "duration": 1508,
    "start_time": "2022-02-19T13:28:34.653Z"
   },
   {
    "duration": 45,
    "start_time": "2022-02-19T13:28:36.164Z"
   },
   {
    "duration": 7,
    "start_time": "2022-02-19T13:28:36.215Z"
   },
   {
    "duration": 33,
    "start_time": "2022-02-19T13:28:36.224Z"
   },
   {
    "duration": 14,
    "start_time": "2022-02-19T13:28:36.261Z"
   },
   {
    "duration": 11,
    "start_time": "2022-02-19T13:28:36.278Z"
   },
   {
    "duration": 7,
    "start_time": "2022-02-19T13:28:36.293Z"
   },
   {
    "duration": 9,
    "start_time": "2022-02-19T13:28:36.303Z"
   },
   {
    "duration": 8,
    "start_time": "2022-02-19T13:28:36.314Z"
   },
   {
    "duration": 11,
    "start_time": "2022-02-19T13:28:36.324Z"
   },
   {
    "duration": 34,
    "start_time": "2022-02-19T13:28:36.337Z"
   },
   {
    "duration": 6,
    "start_time": "2022-02-19T13:28:36.374Z"
   },
   {
    "duration": 14,
    "start_time": "2022-02-19T13:28:36.382Z"
   },
   {
    "duration": 15,
    "start_time": "2022-02-19T13:28:36.399Z"
   },
   {
    "duration": 18,
    "start_time": "2022-02-19T13:28:36.416Z"
   },
   {
    "duration": 30,
    "start_time": "2022-02-19T13:28:36.437Z"
   },
   {
    "duration": 14,
    "start_time": "2022-02-19T13:28:36.470Z"
   },
   {
    "duration": 32,
    "start_time": "2022-02-19T13:28:36.486Z"
   },
   {
    "duration": 20,
    "start_time": "2022-02-19T13:28:36.520Z"
   },
   {
    "duration": 23,
    "start_time": "2022-02-19T13:28:36.543Z"
   },
   {
    "duration": 9,
    "start_time": "2022-02-19T13:28:36.568Z"
   },
   {
    "duration": 6,
    "start_time": "2022-02-19T13:28:36.582Z"
   },
   {
    "duration": 13,
    "start_time": "2022-02-19T13:28:36.590Z"
   },
   {
    "duration": 11,
    "start_time": "2022-02-19T13:28:36.605Z"
   },
   {
    "duration": 29,
    "start_time": "2022-02-19T13:28:36.618Z"
   },
   {
    "duration": 89,
    "start_time": "2022-02-19T13:28:36.649Z"
   },
   {
    "duration": 23,
    "start_time": "2022-02-19T13:28:36.741Z"
   },
   {
    "duration": 1234,
    "start_time": "2022-02-19T13:28:36.766Z"
   },
   {
    "duration": 15,
    "start_time": "2022-02-19T13:28:38.002Z"
   },
   {
    "duration": 10,
    "start_time": "2022-02-19T13:28:38.019Z"
   },
   {
    "duration": 1222,
    "start_time": "2022-02-19T13:28:38.032Z"
   },
   {
    "duration": 1025,
    "start_time": "2022-02-19T13:28:39.257Z"
   },
   {
    "duration": 1047,
    "start_time": "2022-02-19T13:28:51.681Z"
   },
   {
    "duration": 1019,
    "start_time": "2022-02-19T13:29:00.162Z"
   },
   {
    "duration": 13,
    "start_time": "2022-02-19T13:32:25.378Z"
   },
   {
    "duration": 1439,
    "start_time": "2022-02-19T13:32:31.200Z"
   },
   {
    "duration": 45,
    "start_time": "2022-02-19T13:32:32.642Z"
   },
   {
    "duration": 7,
    "start_time": "2022-02-19T13:32:32.694Z"
   },
   {
    "duration": 27,
    "start_time": "2022-02-19T13:32:32.704Z"
   },
   {
    "duration": 16,
    "start_time": "2022-02-19T13:32:32.762Z"
   },
   {
    "duration": 7,
    "start_time": "2022-02-19T13:32:32.780Z"
   },
   {
    "duration": 7,
    "start_time": "2022-02-19T13:32:32.791Z"
   },
   {
    "duration": 60,
    "start_time": "2022-02-19T13:32:32.801Z"
   },
   {
    "duration": 11,
    "start_time": "2022-02-19T13:32:32.865Z"
   },
   {
    "duration": 10,
    "start_time": "2022-02-19T13:32:32.878Z"
   },
   {
    "duration": 23,
    "start_time": "2022-02-19T13:32:32.890Z"
   },
   {
    "duration": 50,
    "start_time": "2022-02-19T13:32:32.915Z"
   },
   {
    "duration": 14,
    "start_time": "2022-02-19T13:32:32.967Z"
   },
   {
    "duration": 20,
    "start_time": "2022-02-19T13:32:32.984Z"
   },
   {
    "duration": 59,
    "start_time": "2022-02-19T13:32:33.006Z"
   },
   {
    "duration": 23,
    "start_time": "2022-02-19T13:32:33.068Z"
   },
   {
    "duration": 12,
    "start_time": "2022-02-19T13:32:33.093Z"
   },
   {
    "duration": 79,
    "start_time": "2022-02-19T13:32:33.108Z"
   },
   {
    "duration": 20,
    "start_time": "2022-02-19T13:32:33.191Z"
   },
   {
    "duration": 53,
    "start_time": "2022-02-19T13:32:33.213Z"
   },
   {
    "duration": 7,
    "start_time": "2022-02-19T13:32:33.269Z"
   },
   {
    "duration": 7,
    "start_time": "2022-02-19T13:32:33.281Z"
   },
   {
    "duration": 8,
    "start_time": "2022-02-19T13:32:33.291Z"
   },
   {
    "duration": 66,
    "start_time": "2022-02-19T13:32:33.302Z"
   },
   {
    "duration": 30,
    "start_time": "2022-02-19T13:32:33.371Z"
   },
   {
    "duration": 113,
    "start_time": "2022-02-19T13:32:33.403Z"
   },
   {
    "duration": 41,
    "start_time": "2022-02-19T13:32:33.519Z"
   },
   {
    "duration": 926,
    "start_time": "2022-02-19T13:32:33.563Z"
   },
   {
    "duration": 15,
    "start_time": "2022-02-19T13:32:34.491Z"
   },
   {
    "duration": 11,
    "start_time": "2022-02-19T13:32:34.508Z"
   },
   {
    "duration": 999,
    "start_time": "2022-02-19T13:32:34.522Z"
   },
   {
    "duration": 887,
    "start_time": "2022-02-19T13:32:35.523Z"
   },
   {
    "duration": 740,
    "start_time": "2022-02-19T13:38:13.339Z"
   },
   {
    "duration": 811,
    "start_time": "2022-02-19T13:38:21.231Z"
   },
   {
    "duration": 762,
    "start_time": "2022-02-19T13:38:31.406Z"
   },
   {
    "duration": 527,
    "start_time": "2022-02-19T13:45:22.475Z"
   },
   {
    "duration": 709,
    "start_time": "2022-02-19T13:52:00.800Z"
   },
   {
    "duration": 1405,
    "start_time": "2022-02-19T13:52:46.702Z"
   },
   {
    "duration": 47,
    "start_time": "2022-02-19T13:52:48.111Z"
   },
   {
    "duration": 8,
    "start_time": "2022-02-19T13:52:48.160Z"
   },
   {
    "duration": 25,
    "start_time": "2022-02-19T13:52:48.170Z"
   },
   {
    "duration": 14,
    "start_time": "2022-02-19T13:52:48.198Z"
   },
   {
    "duration": 49,
    "start_time": "2022-02-19T13:52:48.214Z"
   },
   {
    "duration": 7,
    "start_time": "2022-02-19T13:52:48.266Z"
   },
   {
    "duration": 10,
    "start_time": "2022-02-19T13:52:48.277Z"
   },
   {
    "duration": 8,
    "start_time": "2022-02-19T13:52:48.290Z"
   },
   {
    "duration": 67,
    "start_time": "2022-02-19T13:52:48.300Z"
   },
   {
    "duration": 23,
    "start_time": "2022-02-19T13:52:48.370Z"
   },
   {
    "duration": 6,
    "start_time": "2022-02-19T13:52:48.396Z"
   },
   {
    "duration": 59,
    "start_time": "2022-02-19T13:52:48.404Z"
   },
   {
    "duration": 16,
    "start_time": "2022-02-19T13:52:48.466Z"
   },
   {
    "duration": 21,
    "start_time": "2022-02-19T13:52:48.484Z"
   },
   {
    "duration": 70,
    "start_time": "2022-02-19T13:52:48.507Z"
   },
   {
    "duration": 12,
    "start_time": "2022-02-19T13:52:48.579Z"
   },
   {
    "duration": 67,
    "start_time": "2022-02-19T13:52:48.594Z"
   },
   {
    "duration": 20,
    "start_time": "2022-02-19T13:52:48.664Z"
   },
   {
    "duration": 10,
    "start_time": "2022-02-19T13:52:48.686Z"
   },
   {
    "duration": 5,
    "start_time": "2022-02-19T13:52:48.699Z"
   },
   {
    "duration": 6,
    "start_time": "2022-02-19T13:52:48.706Z"
   },
   {
    "duration": 7,
    "start_time": "2022-02-19T13:52:48.762Z"
   },
   {
    "duration": 12,
    "start_time": "2022-02-19T13:52:48.771Z"
   },
   {
    "duration": 29,
    "start_time": "2022-02-19T13:52:48.785Z"
   },
   {
    "duration": 98,
    "start_time": "2022-02-19T13:52:48.863Z"
   },
   {
    "duration": 16,
    "start_time": "2022-02-19T13:52:48.964Z"
   },
   {
    "duration": 886,
    "start_time": "2022-02-19T13:52:48.983Z"
   },
   {
    "duration": 14,
    "start_time": "2022-02-19T13:52:49.872Z"
   },
   {
    "duration": 10,
    "start_time": "2022-02-19T13:52:49.888Z"
   },
   {
    "duration": 871,
    "start_time": "2022-02-19T13:52:49.900Z"
   },
   {
    "duration": 876,
    "start_time": "2022-02-19T13:52:50.774Z"
   },
   {
    "duration": 802,
    "start_time": "2022-02-19T13:52:51.652Z"
   },
   {
    "duration": 534,
    "start_time": "2022-02-19T13:52:52.456Z"
   },
   {
    "duration": 830,
    "start_time": "2022-02-19T13:52:52.993Z"
   },
   {
    "duration": 130,
    "start_time": "2022-02-19T13:52:53.696Z"
   },
   {
    "duration": 687,
    "start_time": "2022-02-19T13:53:21.581Z"
   },
   {
    "duration": 735,
    "start_time": "2022-02-19T13:53:30.681Z"
   },
   {
    "duration": 775,
    "start_time": "2022-02-19T13:54:13.927Z"
   },
   {
    "duration": 22,
    "start_time": "2022-02-19T14:21:42.231Z"
   },
   {
    "duration": 3767,
    "start_time": "2022-02-19T14:23:18.056Z"
   },
   {
    "duration": 15,
    "start_time": "2022-02-19T14:23:29.726Z"
   },
   {
    "duration": 15,
    "start_time": "2022-02-19T14:30:56.147Z"
   },
   {
    "duration": 309,
    "start_time": "2022-02-19T14:36:04.127Z"
   },
   {
    "duration": 4354,
    "start_time": "2022-02-19T14:37:28.495Z"
   },
   {
    "duration": 4761,
    "start_time": "2022-02-19T14:37:43.744Z"
   },
   {
    "duration": 47,
    "start_time": "2022-02-19T14:37:48.508Z"
   },
   {
    "duration": 10,
    "start_time": "2022-02-19T14:37:48.558Z"
   },
   {
    "duration": 27,
    "start_time": "2022-02-19T14:37:48.571Z"
   },
   {
    "duration": 15,
    "start_time": "2022-02-19T14:37:48.600Z"
   },
   {
    "duration": 9,
    "start_time": "2022-02-19T14:37:48.661Z"
   },
   {
    "duration": 9,
    "start_time": "2022-02-19T14:37:48.674Z"
   },
   {
    "duration": 14,
    "start_time": "2022-02-19T14:37:48.687Z"
   },
   {
    "duration": 58,
    "start_time": "2022-02-19T14:37:48.705Z"
   },
   {
    "duration": 16,
    "start_time": "2022-02-19T14:37:48.765Z"
   },
   {
    "duration": 25,
    "start_time": "2022-02-19T14:37:48.784Z"
   },
   {
    "duration": 7,
    "start_time": "2022-02-19T14:37:48.811Z"
   },
   {
    "duration": 51,
    "start_time": "2022-02-19T14:37:48.821Z"
   },
   {
    "duration": 17,
    "start_time": "2022-02-19T14:37:48.875Z"
   },
   {
    "duration": 25,
    "start_time": "2022-02-19T14:37:48.894Z"
   },
   {
    "duration": 68,
    "start_time": "2022-02-19T14:37:48.922Z"
   },
   {
    "duration": 17,
    "start_time": "2022-02-19T14:37:48.993Z"
   },
   {
    "duration": 73,
    "start_time": "2022-02-19T14:37:49.014Z"
   },
   {
    "duration": 19,
    "start_time": "2022-02-19T14:37:49.090Z"
   },
   {
    "duration": 49,
    "start_time": "2022-02-19T14:37:49.112Z"
   },
   {
    "duration": 7,
    "start_time": "2022-02-19T14:37:49.165Z"
   },
   {
    "duration": 7,
    "start_time": "2022-02-19T14:37:49.175Z"
   },
   {
    "duration": 7,
    "start_time": "2022-02-19T14:37:49.188Z"
   },
   {
    "duration": 65,
    "start_time": "2022-02-19T14:37:49.198Z"
   },
   {
    "duration": 32,
    "start_time": "2022-02-19T14:37:49.265Z"
   },
   {
    "duration": 107,
    "start_time": "2022-02-19T14:37:49.299Z"
   },
   {
    "duration": 16,
    "start_time": "2022-02-19T14:37:49.409Z"
   },
   {
    "duration": 1083,
    "start_time": "2022-02-19T14:37:49.428Z"
   },
   {
    "duration": 15,
    "start_time": "2022-02-19T14:37:50.514Z"
   },
   {
    "duration": 33,
    "start_time": "2022-02-19T14:37:50.532Z"
   },
   {
    "duration": 875,
    "start_time": "2022-02-19T14:37:50.568Z"
   },
   {
    "duration": 919,
    "start_time": "2022-02-19T14:37:51.445Z"
   },
   {
    "duration": 828,
    "start_time": "2022-02-19T14:37:52.367Z"
   },
   {
    "duration": 567,
    "start_time": "2022-02-19T14:37:53.197Z"
   },
   {
    "duration": 22,
    "start_time": "2022-02-19T14:37:53.767Z"
   },
   {
    "duration": 3572,
    "start_time": "2022-02-19T14:37:53.792Z"
   },
   {
    "duration": 12,
    "start_time": "2022-02-19T14:37:57.366Z"
   },
   {
    "duration": 8,
    "start_time": "2022-02-19T14:37:57.380Z"
   },
   {
    "duration": 21,
    "start_time": "2022-02-19T14:37:57.391Z"
   },
   {
    "duration": 555,
    "start_time": "2022-02-19T14:37:57.414Z"
   },
   {
    "duration": 543,
    "start_time": "2022-02-19T14:39:32.978Z"
   },
   {
    "duration": 589,
    "start_time": "2022-02-19T14:40:12.619Z"
   },
   {
    "duration": 33,
    "start_time": "2022-02-19T14:40:58.907Z"
   },
   {
    "duration": 35,
    "start_time": "2022-02-19T14:41:30.045Z"
   },
   {
    "duration": 106,
    "start_time": "2022-02-19T14:46:09.530Z"
   },
   {
    "duration": 545,
    "start_time": "2022-02-19T14:46:34.095Z"
   },
   {
    "duration": 568,
    "start_time": "2022-02-19T14:47:00.278Z"
   },
   {
    "duration": 534,
    "start_time": "2022-02-19T14:48:21.340Z"
   },
   {
    "duration": 34,
    "start_time": "2022-02-19T14:49:31.918Z"
   },
   {
    "duration": 33,
    "start_time": "2022-02-19T14:53:40.514Z"
   },
   {
    "duration": 7921,
    "start_time": "2022-02-19T15:06:20.410Z"
   },
   {
    "duration": 15,
    "start_time": "2022-02-19T15:07:03.416Z"
   },
   {
    "duration": 522,
    "start_time": "2022-02-19T15:08:59.131Z"
   },
   {
    "duration": 35,
    "start_time": "2022-02-19T15:20:36.815Z"
   },
   {
    "duration": 719,
    "start_time": "2022-02-19T15:21:31.719Z"
   },
   {
    "duration": 37,
    "start_time": "2022-02-19T15:22:03.166Z"
   },
   {
    "duration": 18,
    "start_time": "2022-02-19T15:24:59.071Z"
   },
   {
    "duration": 18,
    "start_time": "2022-02-19T15:25:31.779Z"
   },
   {
    "duration": 16,
    "start_time": "2022-02-19T15:26:11.604Z"
   },
   {
    "duration": 79,
    "start_time": "2022-02-19T15:26:47.704Z"
   },
   {
    "duration": 8065,
    "start_time": "2022-02-19T15:27:00.358Z"
   },
   {
    "duration": 7170,
    "start_time": "2022-02-19T15:27:16.844Z"
   },
   {
    "duration": 15,
    "start_time": "2022-02-19T15:27:41.987Z"
   },
   {
    "duration": 284,
    "start_time": "2022-02-19T15:29:07.133Z"
   },
   {
    "duration": 13,
    "start_time": "2022-02-19T15:29:10.719Z"
   },
   {
    "duration": 347,
    "start_time": "2022-02-19T15:29:11.490Z"
   },
   {
    "duration": 10,
    "start_time": "2022-02-19T15:29:20.963Z"
   },
   {
    "duration": 303,
    "start_time": "2022-02-19T15:29:21.733Z"
   },
   {
    "duration": 7249,
    "start_time": "2022-02-19T15:29:57.650Z"
   },
   {
    "duration": 101,
    "start_time": "2022-02-19T15:30:15.425Z"
   },
   {
    "duration": 101,
    "start_time": "2022-02-19T15:30:17.615Z"
   },
   {
    "duration": 290,
    "start_time": "2022-02-19T15:30:29.735Z"
   },
   {
    "duration": 9,
    "start_time": "2022-02-19T15:30:47.130Z"
   },
   {
    "duration": 751,
    "start_time": "2022-02-19T15:31:05.601Z"
   },
   {
    "duration": 715,
    "start_time": "2022-02-19T15:31:17.731Z"
   },
   {
    "duration": 303,
    "start_time": "2022-02-19T15:31:24.061Z"
   },
   {
    "duration": 7701,
    "start_time": "2022-02-19T15:31:37.687Z"
   },
   {
    "duration": 23,
    "start_time": "2022-02-19T15:32:15.608Z"
   },
   {
    "duration": 36,
    "start_time": "2022-02-19T15:32:22.606Z"
   },
   {
    "duration": 28,
    "start_time": "2022-02-19T15:33:04.123Z"
   },
   {
    "duration": 11,
    "start_time": "2022-02-19T15:33:17.825Z"
   },
   {
    "duration": 304,
    "start_time": "2022-02-19T15:33:17.996Z"
   },
   {
    "duration": 556,
    "start_time": "2022-02-19T15:33:35.110Z"
   },
   {
    "duration": 12,
    "start_time": "2022-02-19T15:34:42.418Z"
   },
   {
    "duration": 514,
    "start_time": "2022-02-19T15:35:09.365Z"
   },
   {
    "duration": 30,
    "start_time": "2022-02-19T15:35:22.033Z"
   },
   {
    "duration": 327,
    "start_time": "2022-02-19T15:38:39.962Z"
   },
   {
    "duration": 507,
    "start_time": "2022-02-19T15:48:55.726Z"
   },
   {
    "duration": 295,
    "start_time": "2022-02-19T15:49:24.896Z"
   },
   {
    "duration": 291,
    "start_time": "2022-02-19T15:49:31.555Z"
   },
   {
    "duration": 5049,
    "start_time": "2022-02-19T15:49:46.544Z"
   },
   {
    "duration": 46,
    "start_time": "2022-02-19T15:49:51.597Z"
   },
   {
    "duration": 8,
    "start_time": "2022-02-19T15:49:51.646Z"
   },
   {
    "duration": 25,
    "start_time": "2022-02-19T15:49:51.656Z"
   },
   {
    "duration": 14,
    "start_time": "2022-02-19T15:49:51.684Z"
   },
   {
    "duration": 8,
    "start_time": "2022-02-19T15:49:51.700Z"
   },
   {
    "duration": 53,
    "start_time": "2022-02-19T15:49:51.710Z"
   },
   {
    "duration": 13,
    "start_time": "2022-02-19T15:49:51.766Z"
   },
   {
    "duration": 9,
    "start_time": "2022-02-19T15:49:51.785Z"
   },
   {
    "duration": 12,
    "start_time": "2022-02-19T15:49:51.797Z"
   },
   {
    "duration": 67,
    "start_time": "2022-02-19T15:49:51.812Z"
   },
   {
    "duration": 6,
    "start_time": "2022-02-19T15:49:51.882Z"
   },
   {
    "duration": 24,
    "start_time": "2022-02-19T15:49:51.890Z"
   },
   {
    "duration": 58,
    "start_time": "2022-02-19T15:49:51.917Z"
   },
   {
    "duration": 21,
    "start_time": "2022-02-19T15:49:51.979Z"
   },
   {
    "duration": 64,
    "start_time": "2022-02-19T15:49:52.004Z"
   },
   {
    "duration": 15,
    "start_time": "2022-02-19T15:49:52.071Z"
   },
   {
    "duration": 48,
    "start_time": "2022-02-19T15:49:52.088Z"
   },
   {
    "duration": 38,
    "start_time": "2022-02-19T15:49:52.139Z"
   },
   {
    "duration": 14,
    "start_time": "2022-02-19T15:49:52.179Z"
   },
   {
    "duration": 11,
    "start_time": "2022-02-19T15:49:52.195Z"
   },
   {
    "duration": 52,
    "start_time": "2022-02-19T15:49:52.209Z"
   },
   {
    "duration": 30,
    "start_time": "2022-02-19T15:49:52.263Z"
   },
   {
    "duration": 22,
    "start_time": "2022-02-19T15:49:52.296Z"
   },
   {
    "duration": 51,
    "start_time": "2022-02-19T15:49:52.321Z"
   },
   {
    "duration": 98,
    "start_time": "2022-02-19T15:49:52.374Z"
   },
   {
    "duration": 16,
    "start_time": "2022-02-19T15:49:52.478Z"
   },
   {
    "duration": 1114,
    "start_time": "2022-02-19T15:49:52.498Z"
   },
   {
    "duration": 14,
    "start_time": "2022-02-19T15:49:53.615Z"
   },
   {
    "duration": 35,
    "start_time": "2022-02-19T15:49:53.632Z"
   },
   {
    "duration": 885,
    "start_time": "2022-02-19T15:49:53.670Z"
   },
   {
    "duration": 880,
    "start_time": "2022-02-19T15:49:54.561Z"
   },
   {
    "duration": 835,
    "start_time": "2022-02-19T15:49:55.443Z"
   },
   {
    "duration": 580,
    "start_time": "2022-02-19T15:49:56.281Z"
   },
   {
    "duration": 22,
    "start_time": "2022-02-19T15:49:56.863Z"
   },
   {
    "duration": 3756,
    "start_time": "2022-02-19T15:49:56.887Z"
   },
   {
    "duration": 24,
    "start_time": "2022-02-19T15:50:00.646Z"
   },
   {
    "duration": 17,
    "start_time": "2022-02-19T15:50:00.672Z"
   },
   {
    "duration": 21,
    "start_time": "2022-02-19T15:50:00.691Z"
   },
   {
    "duration": 456,
    "start_time": "2022-02-19T15:50:00.714Z"
   },
   {
    "duration": 78,
    "start_time": "2022-02-19T15:50:01.095Z"
   },
   {
    "duration": 73,
    "start_time": "2022-02-19T15:50:01.101Z"
   },
   {
    "duration": 71,
    "start_time": "2022-02-19T15:50:01.105Z"
   },
   {
    "duration": 65,
    "start_time": "2022-02-19T15:50:01.112Z"
   },
   {
    "duration": 63,
    "start_time": "2022-02-19T15:50:01.116Z"
   },
   {
    "duration": 59,
    "start_time": "2022-02-19T15:50:01.121Z"
   },
   {
    "duration": 56,
    "start_time": "2022-02-19T15:50:01.126Z"
   },
   {
    "duration": 53,
    "start_time": "2022-02-19T15:50:01.130Z"
   },
   {
    "duration": 50,
    "start_time": "2022-02-19T15:50:01.135Z"
   },
   {
    "duration": 39,
    "start_time": "2022-02-19T15:50:01.148Z"
   },
   {
    "duration": 37,
    "start_time": "2022-02-19T15:50:01.151Z"
   },
   {
    "duration": 36,
    "start_time": "2022-02-19T15:50:01.154Z"
   },
   {
    "duration": 34,
    "start_time": "2022-02-19T15:50:01.157Z"
   },
   {
    "duration": 386,
    "start_time": "2022-02-19T15:50:12.593Z"
   },
   {
    "duration": 384,
    "start_time": "2022-02-19T15:50:22.446Z"
   },
   {
    "duration": 33,
    "start_time": "2022-02-19T15:50:38.543Z"
   },
   {
    "duration": 571,
    "start_time": "2022-02-19T15:50:42.408Z"
   },
   {
    "duration": 31,
    "start_time": "2022-02-19T15:51:52.825Z"
   },
   {
    "duration": 535,
    "start_time": "2022-02-19T15:51:53.684Z"
   },
   {
    "duration": 12,
    "start_time": "2022-02-19T15:57:30.134Z"
   },
   {
    "duration": 7317,
    "start_time": "2022-02-19T15:58:37.677Z"
   },
   {
    "duration": 11,
    "start_time": "2022-02-19T15:59:14.471Z"
   },
   {
    "duration": 100,
    "start_time": "2022-02-19T16:00:59.146Z"
   },
   {
    "duration": 14,
    "start_time": "2022-02-19T16:02:28.169Z"
   },
   {
    "duration": 114,
    "start_time": "2022-02-19T16:02:43.466Z"
   },
   {
    "duration": 11,
    "start_time": "2022-02-19T16:04:27.067Z"
   },
   {
    "duration": 10,
    "start_time": "2022-02-19T16:04:44.696Z"
   },
   {
    "duration": 10,
    "start_time": "2022-02-19T16:06:24.436Z"
   },
   {
    "duration": 104,
    "start_time": "2022-02-19T17:43:00.658Z"
   },
   {
    "duration": 3726,
    "start_time": "2022-02-19T17:56:31.795Z"
   },
   {
    "duration": 15,
    "start_time": "2022-02-19T18:05:48.795Z"
   },
   {
    "duration": 4837,
    "start_time": "2022-02-19T18:07:07.214Z"
   },
   {
    "duration": 49,
    "start_time": "2022-02-19T18:07:12.055Z"
   },
   {
    "duration": 8,
    "start_time": "2022-02-19T18:07:12.108Z"
   },
   {
    "duration": 61,
    "start_time": "2022-02-19T18:07:12.119Z"
   },
   {
    "duration": 22,
    "start_time": "2022-02-19T18:07:12.183Z"
   },
   {
    "duration": 7,
    "start_time": "2022-02-19T18:07:12.208Z"
   },
   {
    "duration": 44,
    "start_time": "2022-02-19T18:07:12.217Z"
   },
   {
    "duration": 14,
    "start_time": "2022-02-19T18:07:12.263Z"
   },
   {
    "duration": 8,
    "start_time": "2022-02-19T18:07:12.281Z"
   },
   {
    "duration": 9,
    "start_time": "2022-02-19T18:07:12.292Z"
   },
   {
    "duration": 76,
    "start_time": "2022-02-19T18:07:12.305Z"
   },
   {
    "duration": 9,
    "start_time": "2022-02-19T18:07:12.384Z"
   },
   {
    "duration": 22,
    "start_time": "2022-02-19T18:07:12.396Z"
   },
   {
    "duration": 18,
    "start_time": "2022-02-19T18:07:12.461Z"
   },
   {
    "duration": 22,
    "start_time": "2022-02-19T18:07:12.482Z"
   },
   {
    "duration": 66,
    "start_time": "2022-02-19T18:07:12.507Z"
   },
   {
    "duration": 12,
    "start_time": "2022-02-19T18:07:12.576Z"
   },
   {
    "duration": 38,
    "start_time": "2022-02-19T18:07:12.591Z"
   },
   {
    "duration": 45,
    "start_time": "2022-02-19T18:07:12.631Z"
   },
   {
    "duration": 11,
    "start_time": "2022-02-19T18:07:12.678Z"
   },
   {
    "duration": 13,
    "start_time": "2022-02-19T18:07:12.691Z"
   },
   {
    "duration": 28,
    "start_time": "2022-02-19T18:07:12.706Z"
   },
   {
    "duration": 29,
    "start_time": "2022-02-19T18:07:12.737Z"
   },
   {
    "duration": 12,
    "start_time": "2022-02-19T18:07:12.769Z"
   },
   {
    "duration": 29,
    "start_time": "2022-02-19T18:07:12.784Z"
   },
   {
    "duration": 121,
    "start_time": "2022-02-19T18:07:12.816Z"
   },
   {
    "duration": 16,
    "start_time": "2022-02-19T18:07:12.963Z"
   },
   {
    "duration": 952,
    "start_time": "2022-02-19T18:07:12.982Z"
   },
   {
    "duration": 14,
    "start_time": "2022-02-19T18:07:13.936Z"
   },
   {
    "duration": 11,
    "start_time": "2022-02-19T18:07:13.960Z"
   },
   {
    "duration": 949,
    "start_time": "2022-02-19T18:07:13.974Z"
   },
   {
    "duration": 1007,
    "start_time": "2022-02-19T18:07:14.926Z"
   },
   {
    "duration": 815,
    "start_time": "2022-02-19T18:07:15.935Z"
   },
   {
    "duration": 532,
    "start_time": "2022-02-19T18:07:16.760Z"
   },
   {
    "duration": 20,
    "start_time": "2022-02-19T18:07:17.295Z"
   },
   {
    "duration": 5029,
    "start_time": "2022-02-19T18:07:17.318Z"
   },
   {
    "duration": 25,
    "start_time": "2022-02-19T18:07:22.350Z"
   },
   {
    "duration": 4,
    "start_time": "2022-02-19T18:07:22.378Z"
   },
   {
    "duration": 19,
    "start_time": "2022-02-19T18:07:22.386Z"
   },
   {
    "duration": 81,
    "start_time": "2022-02-19T18:07:22.408Z"
   },
   {
    "duration": 590,
    "start_time": "2022-02-19T18:07:22.492Z"
   },
   {
    "duration": 105,
    "start_time": "2022-02-19T18:07:23.084Z"
   },
   {
    "duration": 15,
    "start_time": "2022-02-19T18:07:23.177Z"
   },
   {
    "duration": 9,
    "start_time": "2022-02-19T18:07:23.184Z"
   },
   {
    "duration": 5,
    "start_time": "2022-02-19T18:07:23.190Z"
   },
   {
    "duration": -1,
    "start_time": "2022-02-19T18:07:23.197Z"
   },
   {
    "duration": -5,
    "start_time": "2022-02-19T18:07:23.202Z"
   },
   {
    "duration": -7,
    "start_time": "2022-02-19T18:07:23.206Z"
   },
   {
    "duration": -19,
    "start_time": "2022-02-19T18:07:23.219Z"
   },
   {
    "duration": -27,
    "start_time": "2022-02-19T18:07:23.229Z"
   },
   {
    "duration": -30,
    "start_time": "2022-02-19T18:07:23.233Z"
   },
   {
    "duration": -32,
    "start_time": "2022-02-19T18:07:23.237Z"
   },
   {
    "duration": -33,
    "start_time": "2022-02-19T18:07:23.240Z"
   },
   {
    "duration": -35,
    "start_time": "2022-02-19T18:07:23.243Z"
   },
   {
    "duration": -36,
    "start_time": "2022-02-19T18:07:23.246Z"
   },
   {
    "duration": -39,
    "start_time": "2022-02-19T18:07:23.250Z"
   },
   {
    "duration": 11,
    "start_time": "2022-02-19T18:10:32.085Z"
   },
   {
    "duration": 5136,
    "start_time": "2022-02-19T18:10:46.378Z"
   },
   {
    "duration": 62,
    "start_time": "2022-02-19T18:10:51.517Z"
   },
   {
    "duration": 9,
    "start_time": "2022-02-19T18:10:51.582Z"
   },
   {
    "duration": 24,
    "start_time": "2022-02-19T18:10:51.594Z"
   },
   {
    "duration": 43,
    "start_time": "2022-02-19T18:10:51.621Z"
   },
   {
    "duration": 10,
    "start_time": "2022-02-19T18:10:51.667Z"
   },
   {
    "duration": 15,
    "start_time": "2022-02-19T18:10:51.680Z"
   },
   {
    "duration": 11,
    "start_time": "2022-02-19T18:10:51.701Z"
   },
   {
    "duration": 55,
    "start_time": "2022-02-19T18:10:51.715Z"
   },
   {
    "duration": 18,
    "start_time": "2022-02-19T18:10:51.774Z"
   },
   {
    "duration": 25,
    "start_time": "2022-02-19T18:10:51.795Z"
   },
   {
    "duration": 42,
    "start_time": "2022-02-19T18:10:51.823Z"
   },
   {
    "duration": 17,
    "start_time": "2022-02-19T18:10:51.870Z"
   },
   {
    "duration": 20,
    "start_time": "2022-02-19T18:10:51.890Z"
   },
   {
    "duration": 58,
    "start_time": "2022-02-19T18:10:51.912Z"
   },
   {
    "duration": 24,
    "start_time": "2022-02-19T18:10:51.974Z"
   },
   {
    "duration": 13,
    "start_time": "2022-02-19T18:10:52.000Z"
   },
   {
    "duration": 80,
    "start_time": "2022-02-19T18:10:52.015Z"
   },
   {
    "duration": 22,
    "start_time": "2022-02-19T18:10:52.097Z"
   },
   {
    "duration": 46,
    "start_time": "2022-02-19T18:10:52.122Z"
   },
   {
    "duration": 8,
    "start_time": "2022-02-19T18:10:52.171Z"
   },
   {
    "duration": 11,
    "start_time": "2022-02-19T18:10:52.182Z"
   },
   {
    "duration": 7,
    "start_time": "2022-02-19T18:10:52.199Z"
   },
   {
    "duration": 53,
    "start_time": "2022-02-19T18:10:52.211Z"
   },
   {
    "duration": 32,
    "start_time": "2022-02-19T18:10:52.271Z"
   },
   {
    "duration": 112,
    "start_time": "2022-02-19T18:10:52.305Z"
   },
   {
    "duration": 17,
    "start_time": "2022-02-19T18:10:52.420Z"
   },
   {
    "duration": 994,
    "start_time": "2022-02-19T18:10:52.440Z"
   },
   {
    "duration": 24,
    "start_time": "2022-02-19T18:10:53.437Z"
   },
   {
    "duration": 11,
    "start_time": "2022-02-19T18:10:53.464Z"
   },
   {
    "duration": 951,
    "start_time": "2022-02-19T18:10:53.479Z"
   },
   {
    "duration": 931,
    "start_time": "2022-02-19T18:10:54.433Z"
   },
   {
    "duration": 880,
    "start_time": "2022-02-19T18:10:55.367Z"
   },
   {
    "duration": 543,
    "start_time": "2022-02-19T18:10:56.250Z"
   },
   {
    "duration": 21,
    "start_time": "2022-02-19T18:10:56.796Z"
   },
   {
    "duration": 3823,
    "start_time": "2022-02-19T18:10:56.819Z"
   },
   {
    "duration": 28,
    "start_time": "2022-02-19T18:11:00.645Z"
   },
   {
    "duration": 9,
    "start_time": "2022-02-19T18:11:00.676Z"
   },
   {
    "duration": 18,
    "start_time": "2022-02-19T18:11:00.688Z"
   },
   {
    "duration": 67,
    "start_time": "2022-02-19T18:11:00.709Z"
   },
   {
    "duration": 542,
    "start_time": "2022-02-19T18:11:00.779Z"
   },
   {
    "duration": 109,
    "start_time": "2022-02-19T18:11:01.323Z"
   },
   {
    "duration": 28,
    "start_time": "2022-02-19T18:11:01.407Z"
   },
   {
    "duration": 26,
    "start_time": "2022-02-19T18:11:01.411Z"
   },
   {
    "duration": 15,
    "start_time": "2022-02-19T18:11:01.424Z"
   },
   {
    "duration": 13,
    "start_time": "2022-02-19T18:11:01.428Z"
   },
   {
    "duration": 3,
    "start_time": "2022-02-19T18:11:01.441Z"
   },
   {
    "duration": 1,
    "start_time": "2022-02-19T18:11:01.445Z"
   },
   {
    "duration": -7,
    "start_time": "2022-02-19T18:11:01.455Z"
   },
   {
    "duration": -8,
    "start_time": "2022-02-19T18:11:01.459Z"
   },
   {
    "duration": -17,
    "start_time": "2022-02-19T18:11:01.470Z"
   },
   {
    "duration": -18,
    "start_time": "2022-02-19T18:11:01.474Z"
   },
   {
    "duration": -20,
    "start_time": "2022-02-19T18:11:01.478Z"
   },
   {
    "duration": -22,
    "start_time": "2022-02-19T18:11:01.482Z"
   },
   {
    "duration": -23,
    "start_time": "2022-02-19T18:11:01.485Z"
   },
   {
    "duration": -25,
    "start_time": "2022-02-19T18:11:01.489Z"
   },
   {
    "duration": 16,
    "start_time": "2022-02-19T18:15:20.175Z"
   },
   {
    "duration": 5020,
    "start_time": "2022-02-19T18:15:27.755Z"
   },
   {
    "duration": 50,
    "start_time": "2022-02-19T18:15:32.778Z"
   },
   {
    "duration": 9,
    "start_time": "2022-02-19T18:15:32.834Z"
   },
   {
    "duration": 45,
    "start_time": "2022-02-19T18:15:32.846Z"
   },
   {
    "duration": 20,
    "start_time": "2022-02-19T18:15:32.895Z"
   },
   {
    "duration": 49,
    "start_time": "2022-02-19T18:15:32.917Z"
   },
   {
    "duration": 13,
    "start_time": "2022-02-19T18:15:32.968Z"
   },
   {
    "duration": 11,
    "start_time": "2022-02-19T18:15:32.989Z"
   },
   {
    "duration": 8,
    "start_time": "2022-02-19T18:15:33.003Z"
   },
   {
    "duration": 76,
    "start_time": "2022-02-19T18:15:33.013Z"
   },
   {
    "duration": 30,
    "start_time": "2022-02-19T18:15:33.092Z"
   },
   {
    "duration": 7,
    "start_time": "2022-02-19T18:15:33.125Z"
   },
   {
    "duration": 32,
    "start_time": "2022-02-19T18:15:33.161Z"
   },
   {
    "duration": 24,
    "start_time": "2022-02-19T18:15:33.197Z"
   },
   {
    "duration": 48,
    "start_time": "2022-02-19T18:15:33.224Z"
   },
   {
    "duration": 36,
    "start_time": "2022-02-19T18:15:33.275Z"
   },
   {
    "duration": 13,
    "start_time": "2022-02-19T18:15:33.313Z"
   },
   {
    "duration": 65,
    "start_time": "2022-02-19T18:15:33.330Z"
   },
   {
    "duration": 20,
    "start_time": "2022-02-19T18:15:33.397Z"
   },
   {
    "duration": 53,
    "start_time": "2022-02-19T18:15:33.419Z"
   },
   {
    "duration": 11,
    "start_time": "2022-02-19T18:15:33.474Z"
   },
   {
    "duration": 6,
    "start_time": "2022-02-19T18:15:33.488Z"
   },
   {
    "duration": 7,
    "start_time": "2022-02-19T18:15:33.496Z"
   },
   {
    "duration": 69,
    "start_time": "2022-02-19T18:15:33.505Z"
   },
   {
    "duration": 30,
    "start_time": "2022-02-19T18:15:33.581Z"
   },
   {
    "duration": 114,
    "start_time": "2022-02-19T18:15:33.617Z"
   },
   {
    "duration": 34,
    "start_time": "2022-02-19T18:15:33.734Z"
   },
   {
    "duration": 1033,
    "start_time": "2022-02-19T18:15:33.770Z"
   },
   {
    "duration": 20,
    "start_time": "2022-02-19T18:15:34.806Z"
   },
   {
    "duration": 53,
    "start_time": "2022-02-19T18:15:34.829Z"
   },
   {
    "duration": 950,
    "start_time": "2022-02-19T18:15:34.885Z"
   },
   {
    "duration": 1092,
    "start_time": "2022-02-19T18:15:35.838Z"
   },
   {
    "duration": 1078,
    "start_time": "2022-02-19T18:15:36.934Z"
   },
   {
    "duration": 755,
    "start_time": "2022-02-19T18:15:38.015Z"
   },
   {
    "duration": 30,
    "start_time": "2022-02-19T18:15:38.773Z"
   },
   {
    "duration": 5232,
    "start_time": "2022-02-19T18:15:38.807Z"
   },
   {
    "duration": 31,
    "start_time": "2022-02-19T18:15:44.041Z"
   },
   {
    "duration": 16,
    "start_time": "2022-02-19T18:15:44.075Z"
   },
   {
    "duration": 15,
    "start_time": "2022-02-19T18:15:44.094Z"
   },
   {
    "duration": 65,
    "start_time": "2022-02-19T18:15:44.112Z"
   },
   {
    "duration": 709,
    "start_time": "2022-02-19T18:15:44.180Z"
   },
   {
    "duration": 111,
    "start_time": "2022-02-19T18:15:44.892Z"
   },
   {
    "duration": -128,
    "start_time": "2022-02-19T18:15:45.135Z"
   },
   {
    "duration": -131,
    "start_time": "2022-02-19T18:15:45.141Z"
   },
   {
    "duration": -133,
    "start_time": "2022-02-19T18:15:45.145Z"
   },
   {
    "duration": -135,
    "start_time": "2022-02-19T18:15:45.150Z"
   },
   {
    "duration": -137,
    "start_time": "2022-02-19T18:15:45.154Z"
   },
   {
    "duration": -139,
    "start_time": "2022-02-19T18:15:45.158Z"
   },
   {
    "duration": -141,
    "start_time": "2022-02-19T18:15:45.162Z"
   },
   {
    "duration": -143,
    "start_time": "2022-02-19T18:15:45.166Z"
   },
   {
    "duration": -144,
    "start_time": "2022-02-19T18:15:45.170Z"
   },
   {
    "duration": -145,
    "start_time": "2022-02-19T18:15:45.173Z"
   },
   {
    "duration": -146,
    "start_time": "2022-02-19T18:15:45.176Z"
   },
   {
    "duration": -147,
    "start_time": "2022-02-19T18:15:45.180Z"
   },
   {
    "duration": -147,
    "start_time": "2022-02-19T18:15:45.182Z"
   },
   {
    "duration": -148,
    "start_time": "2022-02-19T18:15:45.185Z"
   },
   {
    "duration": 11,
    "start_time": "2022-02-19T18:16:43.175Z"
   },
   {
    "duration": 4956,
    "start_time": "2022-02-19T18:16:49.170Z"
   },
   {
    "duration": 52,
    "start_time": "2022-02-19T18:16:54.129Z"
   },
   {
    "duration": 8,
    "start_time": "2022-02-19T18:16:54.185Z"
   },
   {
    "duration": 24,
    "start_time": "2022-02-19T18:16:54.196Z"
   },
   {
    "duration": 48,
    "start_time": "2022-02-19T18:16:54.223Z"
   },
   {
    "duration": 17,
    "start_time": "2022-02-19T18:16:54.275Z"
   },
   {
    "duration": 8,
    "start_time": "2022-02-19T18:16:54.295Z"
   },
   {
    "duration": 10,
    "start_time": "2022-02-19T18:16:54.306Z"
   },
   {
    "duration": 58,
    "start_time": "2022-02-19T18:16:54.318Z"
   },
   {
    "duration": 10,
    "start_time": "2022-02-19T18:16:54.379Z"
   },
   {
    "duration": 24,
    "start_time": "2022-02-19T18:16:54.391Z"
   },
   {
    "duration": 45,
    "start_time": "2022-02-19T18:16:54.417Z"
   },
   {
    "duration": 18,
    "start_time": "2022-02-19T18:16:54.464Z"
   },
   {
    "duration": 20,
    "start_time": "2022-02-19T18:16:54.485Z"
   },
   {
    "duration": 62,
    "start_time": "2022-02-19T18:16:54.507Z"
   },
   {
    "duration": 24,
    "start_time": "2022-02-19T18:16:54.578Z"
   },
   {
    "duration": 12,
    "start_time": "2022-02-19T18:16:54.605Z"
   },
   {
    "duration": 68,
    "start_time": "2022-02-19T18:16:54.622Z"
   },
   {
    "duration": 19,
    "start_time": "2022-02-19T18:16:54.693Z"
   },
   {
    "duration": 49,
    "start_time": "2022-02-19T18:16:54.715Z"
   },
   {
    "duration": 10,
    "start_time": "2022-02-19T18:16:54.767Z"
   },
   {
    "duration": 6,
    "start_time": "2022-02-19T18:16:54.780Z"
   },
   {
    "duration": 10,
    "start_time": "2022-02-19T18:16:54.789Z"
   },
   {
    "duration": 60,
    "start_time": "2022-02-19T18:16:54.801Z"
   },
   {
    "duration": 30,
    "start_time": "2022-02-19T18:16:54.869Z"
   },
   {
    "duration": 112,
    "start_time": "2022-02-19T18:16:54.902Z"
   },
   {
    "duration": 19,
    "start_time": "2022-02-19T18:16:55.017Z"
   },
   {
    "duration": 977,
    "start_time": "2022-02-19T18:16:55.039Z"
   },
   {
    "duration": 16,
    "start_time": "2022-02-19T18:16:56.018Z"
   },
   {
    "duration": 41,
    "start_time": "2022-02-19T18:16:56.036Z"
   },
   {
    "duration": 914,
    "start_time": "2022-02-19T18:16:56.080Z"
   },
   {
    "duration": 965,
    "start_time": "2022-02-19T18:16:56.996Z"
   },
   {
    "duration": 855,
    "start_time": "2022-02-19T18:16:57.964Z"
   },
   {
    "duration": 561,
    "start_time": "2022-02-19T18:16:58.821Z"
   },
   {
    "duration": 21,
    "start_time": "2022-02-19T18:16:59.384Z"
   },
   {
    "duration": 4070,
    "start_time": "2022-02-19T18:16:59.407Z"
   },
   {
    "duration": 14,
    "start_time": "2022-02-19T18:17:03.479Z"
   },
   {
    "duration": 12,
    "start_time": "2022-02-19T18:17:03.495Z"
   },
   {
    "duration": 17,
    "start_time": "2022-02-19T18:17:03.510Z"
   },
   {
    "duration": 63,
    "start_time": "2022-02-19T18:17:03.529Z"
   },
   {
    "duration": 612,
    "start_time": "2022-02-19T18:17:03.595Z"
   },
   {
    "duration": 110,
    "start_time": "2022-02-19T18:17:04.209Z"
   },
   {
    "duration": 11,
    "start_time": "2022-02-19T18:17:04.311Z"
   },
   {
    "duration": 6,
    "start_time": "2022-02-19T18:17:04.317Z"
   },
   {
    "duration": 1,
    "start_time": "2022-02-19T18:17:04.324Z"
   },
   {
    "duration": -3,
    "start_time": "2022-02-19T18:17:04.329Z"
   },
   {
    "duration": -14,
    "start_time": "2022-02-19T18:17:04.342Z"
   },
   {
    "duration": -17,
    "start_time": "2022-02-19T18:17:04.347Z"
   },
   {
    "duration": -19,
    "start_time": "2022-02-19T18:17:04.351Z"
   },
   {
    "duration": -20,
    "start_time": "2022-02-19T18:17:04.354Z"
   },
   {
    "duration": -23,
    "start_time": "2022-02-19T18:17:04.358Z"
   },
   {
    "duration": -24,
    "start_time": "2022-02-19T18:17:04.361Z"
   },
   {
    "duration": -27,
    "start_time": "2022-02-19T18:17:04.365Z"
   },
   {
    "duration": -28,
    "start_time": "2022-02-19T18:17:04.368Z"
   },
   {
    "duration": -29,
    "start_time": "2022-02-19T18:17:04.371Z"
   },
   {
    "duration": -31,
    "start_time": "2022-02-19T18:17:04.374Z"
   },
   {
    "duration": 42,
    "start_time": "2022-02-19T18:21:51.405Z"
   },
   {
    "duration": 7,
    "start_time": "2022-02-19T18:22:17.044Z"
   },
   {
    "duration": 26,
    "start_time": "2022-02-19T18:22:30.578Z"
   },
   {
    "duration": 5529,
    "start_time": "2022-02-19T18:22:38.881Z"
   },
   {
    "duration": 55,
    "start_time": "2022-02-19T18:22:44.414Z"
   },
   {
    "duration": 9,
    "start_time": "2022-02-19T18:22:44.473Z"
   },
   {
    "duration": 24,
    "start_time": "2022-02-19T18:22:44.486Z"
   },
   {
    "duration": 59,
    "start_time": "2022-02-19T18:22:44.513Z"
   },
   {
    "duration": 15,
    "start_time": "2022-02-19T18:22:44.574Z"
   },
   {
    "duration": 9,
    "start_time": "2022-02-19T18:22:44.592Z"
   },
   {
    "duration": 12,
    "start_time": "2022-02-19T18:22:44.605Z"
   },
   {
    "duration": 16,
    "start_time": "2022-02-19T18:22:44.664Z"
   },
   {
    "duration": 15,
    "start_time": "2022-02-19T18:22:44.683Z"
   },
   {
    "duration": 66,
    "start_time": "2022-02-19T18:22:44.701Z"
   },
   {
    "duration": 7,
    "start_time": "2022-02-19T18:22:44.772Z"
   },
   {
    "duration": 18,
    "start_time": "2022-02-19T18:22:44.781Z"
   },
   {
    "duration": 16,
    "start_time": "2022-02-19T18:22:44.802Z"
   },
   {
    "duration": 21,
    "start_time": "2022-02-19T18:22:44.870Z"
   },
   {
    "duration": 23,
    "start_time": "2022-02-19T18:22:44.894Z"
   },
   {
    "duration": 48,
    "start_time": "2022-02-19T18:22:44.919Z"
   },
   {
    "duration": 36,
    "start_time": "2022-02-19T18:22:44.972Z"
   },
   {
    "duration": 20,
    "start_time": "2022-02-19T18:22:45.010Z"
   },
   {
    "duration": 46,
    "start_time": "2022-02-19T18:22:45.033Z"
   },
   {
    "duration": 7,
    "start_time": "2022-02-19T18:22:45.081Z"
   },
   {
    "duration": 7,
    "start_time": "2022-02-19T18:22:45.091Z"
   },
   {
    "duration": 7,
    "start_time": "2022-02-19T18:22:45.104Z"
   },
   {
    "duration": 77,
    "start_time": "2022-02-19T18:22:45.114Z"
   },
   {
    "duration": 19,
    "start_time": "2022-02-19T18:22:45.194Z"
   },
   {
    "duration": 1040,
    "start_time": "2022-02-19T18:22:45.215Z"
   },
   {
    "duration": 21,
    "start_time": "2022-02-19T18:22:46.257Z"
   },
   {
    "duration": 9,
    "start_time": "2022-02-19T18:22:46.281Z"
   },
   {
    "duration": 937,
    "start_time": "2022-02-19T18:22:46.293Z"
   },
   {
    "duration": 905,
    "start_time": "2022-02-19T18:22:47.232Z"
   },
   {
    "duration": 911,
    "start_time": "2022-02-19T18:22:48.139Z"
   },
   {
    "duration": 566,
    "start_time": "2022-02-19T18:22:49.053Z"
   },
   {
    "duration": 23,
    "start_time": "2022-02-19T18:22:49.621Z"
   },
   {
    "duration": 3910,
    "start_time": "2022-02-19T18:22:49.662Z"
   },
   {
    "duration": 16,
    "start_time": "2022-02-19T18:22:53.575Z"
   },
   {
    "duration": 7,
    "start_time": "2022-02-19T18:22:53.594Z"
   },
   {
    "duration": 516,
    "start_time": "2022-02-19T18:22:53.604Z"
   },
   {
    "duration": 33,
    "start_time": "2022-02-19T18:22:54.090Z"
   },
   {
    "duration": 26,
    "start_time": "2022-02-19T18:22:54.099Z"
   },
   {
    "duration": 22,
    "start_time": "2022-02-19T18:22:54.104Z"
   },
   {
    "duration": 20,
    "start_time": "2022-02-19T18:22:54.108Z"
   },
   {
    "duration": 17,
    "start_time": "2022-02-19T18:22:54.113Z"
   },
   {
    "duration": 14,
    "start_time": "2022-02-19T18:22:54.118Z"
   },
   {
    "duration": 12,
    "start_time": "2022-02-19T18:22:54.122Z"
   },
   {
    "duration": 8,
    "start_time": "2022-02-19T18:22:54.127Z"
   },
   {
    "duration": -100,
    "start_time": "2022-02-19T18:22:54.237Z"
   },
   {
    "duration": -102,
    "start_time": "2022-02-19T18:22:54.241Z"
   },
   {
    "duration": -106,
    "start_time": "2022-02-19T18:22:54.246Z"
   },
   {
    "duration": -107,
    "start_time": "2022-02-19T18:22:54.249Z"
   },
   {
    "duration": -111,
    "start_time": "2022-02-19T18:22:54.254Z"
   },
   {
    "duration": -113,
    "start_time": "2022-02-19T18:22:54.258Z"
   },
   {
    "duration": -114,
    "start_time": "2022-02-19T18:22:54.261Z"
   },
   {
    "duration": -116,
    "start_time": "2022-02-19T18:22:54.264Z"
   },
   {
    "duration": -119,
    "start_time": "2022-02-19T18:22:54.269Z"
   },
   {
    "duration": 12,
    "start_time": "2022-02-19T18:33:39.331Z"
   },
   {
    "duration": 30,
    "start_time": "2022-02-19T18:33:53.860Z"
   },
   {
    "duration": 517,
    "start_time": "2022-02-19T18:34:11.354Z"
   },
   {
    "duration": 5035,
    "start_time": "2022-02-19T18:41:34.403Z"
   },
   {
    "duration": 48,
    "start_time": "2022-02-19T18:41:39.441Z"
   },
   {
    "duration": 7,
    "start_time": "2022-02-19T18:41:39.492Z"
   },
   {
    "duration": 25,
    "start_time": "2022-02-19T18:41:39.502Z"
   },
   {
    "duration": 46,
    "start_time": "2022-02-19T18:41:39.529Z"
   },
   {
    "duration": 8,
    "start_time": "2022-02-19T18:41:39.578Z"
   },
   {
    "duration": 8,
    "start_time": "2022-02-19T18:41:39.588Z"
   },
   {
    "duration": 68,
    "start_time": "2022-02-19T18:41:39.600Z"
   },
   {
    "duration": 10,
    "start_time": "2022-02-19T18:41:39.672Z"
   },
   {
    "duration": 15,
    "start_time": "2022-02-19T18:41:39.684Z"
   },
   {
    "duration": 60,
    "start_time": "2022-02-19T18:41:39.701Z"
   },
   {
    "duration": 8,
    "start_time": "2022-02-19T18:41:39.764Z"
   },
   {
    "duration": 17,
    "start_time": "2022-02-19T18:41:39.775Z"
   },
   {
    "duration": 16,
    "start_time": "2022-02-19T18:41:39.795Z"
   },
   {
    "duration": 62,
    "start_time": "2022-02-19T18:41:39.814Z"
   },
   {
    "duration": 22,
    "start_time": "2022-02-19T18:41:39.879Z"
   },
   {
    "duration": 14,
    "start_time": "2022-02-19T18:41:39.904Z"
   },
   {
    "duration": 71,
    "start_time": "2022-02-19T18:41:39.921Z"
   },
   {
    "duration": 19,
    "start_time": "2022-02-19T18:41:39.995Z"
   },
   {
    "duration": 55,
    "start_time": "2022-02-19T18:41:40.016Z"
   },
   {
    "duration": 11,
    "start_time": "2022-02-19T18:41:40.074Z"
   },
   {
    "duration": 6,
    "start_time": "2022-02-19T18:41:40.088Z"
   },
   {
    "duration": 6,
    "start_time": "2022-02-19T18:41:40.100Z"
   },
   {
    "duration": 75,
    "start_time": "2022-02-19T18:41:40.109Z"
   },
   {
    "duration": 23,
    "start_time": "2022-02-19T18:41:40.188Z"
   },
   {
    "duration": 998,
    "start_time": "2022-02-19T18:41:40.214Z"
   },
   {
    "duration": 14,
    "start_time": "2022-02-19T18:41:41.215Z"
   },
   {
    "duration": 40,
    "start_time": "2022-02-19T18:41:41.232Z"
   },
   {
    "duration": 901,
    "start_time": "2022-02-19T18:41:41.275Z"
   },
   {
    "duration": 916,
    "start_time": "2022-02-19T18:41:42.179Z"
   },
   {
    "duration": 867,
    "start_time": "2022-02-19T18:41:43.099Z"
   },
   {
    "duration": 523,
    "start_time": "2022-02-19T18:41:43.969Z"
   },
   {
    "duration": 3975,
    "start_time": "2022-02-19T18:41:44.494Z"
   },
   {
    "duration": 17,
    "start_time": "2022-02-19T18:41:48.472Z"
   },
   {
    "duration": 13,
    "start_time": "2022-02-19T18:41:48.491Z"
   },
   {
    "duration": 62,
    "start_time": "2022-02-19T18:41:48.506Z"
   },
   {
    "duration": 516,
    "start_time": "2022-02-19T18:41:48.574Z"
   },
   {
    "duration": 12,
    "start_time": "2022-02-19T18:41:49.092Z"
   },
   {
    "duration": 561,
    "start_time": "2022-02-19T18:41:49.107Z"
   },
   {
    "duration": 634,
    "start_time": "2022-02-19T18:41:49.671Z"
   },
   {
    "duration": 525,
    "start_time": "2022-02-19T18:41:50.308Z"
   },
   {
    "duration": 54,
    "start_time": "2022-02-19T18:41:50.835Z"
   },
   {
    "duration": 581,
    "start_time": "2022-02-19T18:41:50.892Z"
   },
   {
    "duration": 592,
    "start_time": "2022-02-19T18:41:51.480Z"
   },
   {
    "duration": 585,
    "start_time": "2022-02-19T18:41:52.075Z"
   },
   {
    "duration": 37,
    "start_time": "2022-02-19T18:41:52.663Z"
   },
   {
    "duration": 68,
    "start_time": "2022-02-19T18:41:52.703Z"
   },
   {
    "duration": 13,
    "start_time": "2022-02-19T18:41:52.776Z"
   },
   {
    "duration": 10,
    "start_time": "2022-02-19T18:41:52.791Z"
   },
   {
    "duration": 61,
    "start_time": "2022-02-19T18:41:52.804Z"
   },
   {
    "duration": 10,
    "start_time": "2022-02-19T18:41:52.868Z"
   },
   {
    "duration": 467,
    "start_time": "2022-02-19T18:43:39.282Z"
   },
   {
    "duration": 4887,
    "start_time": "2022-02-19T18:44:09.827Z"
   },
   {
    "duration": 57,
    "start_time": "2022-02-19T18:44:14.717Z"
   },
   {
    "duration": 8,
    "start_time": "2022-02-19T18:44:14.777Z"
   },
   {
    "duration": 28,
    "start_time": "2022-02-19T18:44:14.788Z"
   },
   {
    "duration": 14,
    "start_time": "2022-02-19T18:44:14.819Z"
   },
   {
    "duration": 16,
    "start_time": "2022-02-19T18:44:14.866Z"
   },
   {
    "duration": 12,
    "start_time": "2022-02-19T18:44:14.885Z"
   },
   {
    "duration": 19,
    "start_time": "2022-02-19T18:44:14.902Z"
   },
   {
    "duration": 46,
    "start_time": "2022-02-19T18:44:14.925Z"
   },
   {
    "duration": 17,
    "start_time": "2022-02-19T18:44:14.973Z"
   },
   {
    "duration": 32,
    "start_time": "2022-02-19T18:44:14.993Z"
   },
   {
    "duration": 36,
    "start_time": "2022-02-19T18:44:15.028Z"
   },
   {
    "duration": 16,
    "start_time": "2022-02-19T18:44:15.067Z"
   },
   {
    "duration": 16,
    "start_time": "2022-02-19T18:44:15.086Z"
   },
   {
    "duration": 62,
    "start_time": "2022-02-19T18:44:15.104Z"
   },
   {
    "duration": 32,
    "start_time": "2022-02-19T18:44:15.172Z"
   },
   {
    "duration": 14,
    "start_time": "2022-02-19T18:44:15.206Z"
   },
   {
    "duration": 70,
    "start_time": "2022-02-19T18:44:15.223Z"
   },
   {
    "duration": 20,
    "start_time": "2022-02-19T18:44:15.297Z"
   },
   {
    "duration": 49,
    "start_time": "2022-02-19T18:44:15.320Z"
   },
   {
    "duration": 7,
    "start_time": "2022-02-19T18:44:15.372Z"
   },
   {
    "duration": 7,
    "start_time": "2022-02-19T18:44:15.382Z"
   },
   {
    "duration": 8,
    "start_time": "2022-02-19T18:44:15.395Z"
   },
   {
    "duration": 76,
    "start_time": "2022-02-19T18:44:15.406Z"
   },
   {
    "duration": 18,
    "start_time": "2022-02-19T18:44:15.484Z"
   },
   {
    "duration": 1015,
    "start_time": "2022-02-19T18:44:15.504Z"
   },
   {
    "duration": 16,
    "start_time": "2022-02-19T18:44:16.521Z"
   },
   {
    "duration": 30,
    "start_time": "2022-02-19T18:44:16.540Z"
   },
   {
    "duration": 888,
    "start_time": "2022-02-19T18:44:16.573Z"
   },
   {
    "duration": 938,
    "start_time": "2022-02-19T18:44:17.463Z"
   },
   {
    "duration": 893,
    "start_time": "2022-02-19T18:44:18.404Z"
   },
   {
    "duration": 580,
    "start_time": "2022-02-19T18:44:19.299Z"
   },
   {
    "duration": 4277,
    "start_time": "2022-02-19T18:44:19.883Z"
   },
   {
    "duration": 19,
    "start_time": "2022-02-19T18:44:24.163Z"
   },
   {
    "duration": 26,
    "start_time": "2022-02-19T18:44:24.185Z"
   },
   {
    "duration": 54,
    "start_time": "2022-02-19T18:44:24.213Z"
   },
   {
    "duration": 527,
    "start_time": "2022-02-19T18:44:24.270Z"
   },
   {
    "duration": 484,
    "start_time": "2022-02-19T18:44:24.800Z"
   },
   {
    "duration": -39,
    "start_time": "2022-02-19T18:44:25.326Z"
   },
   {
    "duration": -44,
    "start_time": "2022-02-19T18:44:25.333Z"
   },
   {
    "duration": -47,
    "start_time": "2022-02-19T18:44:25.338Z"
   },
   {
    "duration": -52,
    "start_time": "2022-02-19T18:44:25.344Z"
   },
   {
    "duration": -54,
    "start_time": "2022-02-19T18:44:25.348Z"
   },
   {
    "duration": -56,
    "start_time": "2022-02-19T18:44:25.352Z"
   },
   {
    "duration": -115,
    "start_time": "2022-02-19T18:44:25.413Z"
   },
   {
    "duration": -128,
    "start_time": "2022-02-19T18:44:25.427Z"
   },
   {
    "duration": -129,
    "start_time": "2022-02-19T18:44:25.432Z"
   },
   {
    "duration": -132,
    "start_time": "2022-02-19T18:44:25.437Z"
   },
   {
    "duration": -134,
    "start_time": "2022-02-19T18:44:25.440Z"
   },
   {
    "duration": -138,
    "start_time": "2022-02-19T18:44:25.446Z"
   },
   {
    "duration": -139,
    "start_time": "2022-02-19T18:44:25.449Z"
   },
   {
    "duration": 16,
    "start_time": "2022-02-19T18:45:41.419Z"
   },
   {
    "duration": 5237,
    "start_time": "2022-02-19T18:56:44.124Z"
   },
   {
    "duration": 60,
    "start_time": "2022-02-19T18:56:49.365Z"
   },
   {
    "duration": 11,
    "start_time": "2022-02-19T18:56:49.429Z"
   },
   {
    "duration": 34,
    "start_time": "2022-02-19T18:56:49.462Z"
   },
   {
    "duration": 24,
    "start_time": "2022-02-19T18:56:49.499Z"
   },
   {
    "duration": 38,
    "start_time": "2022-02-19T18:56:49.526Z"
   },
   {
    "duration": 11,
    "start_time": "2022-02-19T18:56:49.566Z"
   },
   {
    "duration": 11,
    "start_time": "2022-02-19T18:56:49.580Z"
   },
   {
    "duration": 10,
    "start_time": "2022-02-19T18:56:49.594Z"
   },
   {
    "duration": 58,
    "start_time": "2022-02-19T18:56:49.608Z"
   },
   {
    "duration": 32,
    "start_time": "2022-02-19T18:56:49.668Z"
   },
   {
    "duration": 7,
    "start_time": "2022-02-19T18:56:49.704Z"
   },
   {
    "duration": 2450,
    "start_time": "2022-02-19T18:56:49.714Z"
   },
   {
    "duration": -42,
    "start_time": "2022-02-19T18:56:52.211Z"
   },
   {
    "duration": -45,
    "start_time": "2022-02-19T18:56:52.215Z"
   },
   {
    "duration": -50,
    "start_time": "2022-02-19T18:56:52.222Z"
   },
   {
    "duration": -378,
    "start_time": "2022-02-19T18:56:52.551Z"
   },
   {
    "duration": -408,
    "start_time": "2022-02-19T18:56:52.583Z"
   },
   {
    "duration": -409,
    "start_time": "2022-02-19T18:56:52.586Z"
   },
   {
    "duration": -412,
    "start_time": "2022-02-19T18:56:52.590Z"
   },
   {
    "duration": -414,
    "start_time": "2022-02-19T18:56:52.594Z"
   },
   {
    "duration": -416,
    "start_time": "2022-02-19T18:56:52.597Z"
   },
   {
    "duration": -421,
    "start_time": "2022-02-19T18:56:52.604Z"
   },
   {
    "duration": -426,
    "start_time": "2022-02-19T18:56:52.611Z"
   },
   {
    "duration": -427,
    "start_time": "2022-02-19T18:56:52.614Z"
   },
   {
    "duration": -430,
    "start_time": "2022-02-19T18:56:52.619Z"
   },
   {
    "duration": -437,
    "start_time": "2022-02-19T18:56:52.628Z"
   },
   {
    "duration": -439,
    "start_time": "2022-02-19T18:56:52.631Z"
   },
   {
    "duration": -443,
    "start_time": "2022-02-19T18:56:52.637Z"
   },
   {
    "duration": -448,
    "start_time": "2022-02-19T18:56:52.643Z"
   },
   {
    "duration": -453,
    "start_time": "2022-02-19T18:56:52.650Z"
   },
   {
    "duration": -455,
    "start_time": "2022-02-19T18:56:52.653Z"
   },
   {
    "duration": -461,
    "start_time": "2022-02-19T18:56:52.661Z"
   },
   {
    "duration": -465,
    "start_time": "2022-02-19T18:56:52.666Z"
   },
   {
    "duration": -468,
    "start_time": "2022-02-19T18:56:52.671Z"
   },
   {
    "duration": -473,
    "start_time": "2022-02-19T18:56:52.677Z"
   },
   {
    "duration": -504,
    "start_time": "2022-02-19T18:56:52.709Z"
   },
   {
    "duration": -506,
    "start_time": "2022-02-19T18:56:52.712Z"
   },
   {
    "duration": -508,
    "start_time": "2022-02-19T18:56:52.715Z"
   },
   {
    "duration": -457,
    "start_time": "2022-02-19T18:56:52.718Z"
   },
   {
    "duration": -458,
    "start_time": "2022-02-19T18:56:52.721Z"
   },
   {
    "duration": -460,
    "start_time": "2022-02-19T18:56:52.724Z"
   },
   {
    "duration": -460,
    "start_time": "2022-02-19T18:56:52.726Z"
   },
   {
    "duration": -462,
    "start_time": "2022-02-19T18:56:52.730Z"
   },
   {
    "duration": -463,
    "start_time": "2022-02-19T18:56:52.732Z"
   },
   {
    "duration": -464,
    "start_time": "2022-02-19T18:56:52.735Z"
   },
   {
    "duration": -466,
    "start_time": "2022-02-19T18:56:52.739Z"
   },
   {
    "duration": -469,
    "start_time": "2022-02-19T18:56:52.743Z"
   },
   {
    "duration": -470,
    "start_time": "2022-02-19T18:56:52.746Z"
   },
   {
    "duration": -474,
    "start_time": "2022-02-19T18:56:52.751Z"
   },
   {
    "duration": -475,
    "start_time": "2022-02-19T18:56:52.753Z"
   },
   {
    "duration": 5120,
    "start_time": "2022-02-19T18:57:46.059Z"
   },
   {
    "duration": 48,
    "start_time": "2022-02-19T18:57:51.183Z"
   },
   {
    "duration": 9,
    "start_time": "2022-02-19T18:57:51.235Z"
   },
   {
    "duration": 37,
    "start_time": "2022-02-19T18:57:51.248Z"
   },
   {
    "duration": 18,
    "start_time": "2022-02-19T18:57:51.288Z"
   },
   {
    "duration": 7,
    "start_time": "2022-02-19T18:57:51.309Z"
   },
   {
    "duration": 7,
    "start_time": "2022-02-19T18:57:51.363Z"
   },
   {
    "duration": 14,
    "start_time": "2022-02-19T18:57:51.372Z"
   },
   {
    "duration": 8,
    "start_time": "2022-02-19T18:57:51.391Z"
   },
   {
    "duration": 11,
    "start_time": "2022-02-19T18:57:51.402Z"
   },
   {
    "duration": 26,
    "start_time": "2022-02-19T18:57:51.462Z"
   },
   {
    "duration": 7,
    "start_time": "2022-02-19T18:57:51.491Z"
   },
   {
    "duration": 3188,
    "start_time": "2022-02-19T18:57:51.501Z"
   },
   {
    "duration": -9,
    "start_time": "2022-02-19T18:57:54.702Z"
   },
   {
    "duration": -162,
    "start_time": "2022-02-19T18:57:54.857Z"
   },
   {
    "duration": -164,
    "start_time": "2022-02-19T18:57:54.861Z"
   },
   {
    "duration": -166,
    "start_time": "2022-02-19T18:57:54.865Z"
   },
   {
    "duration": -168,
    "start_time": "2022-02-19T18:57:54.868Z"
   },
   {
    "duration": -170,
    "start_time": "2022-02-19T18:57:54.872Z"
   },
   {
    "duration": -172,
    "start_time": "2022-02-19T18:57:54.875Z"
   },
   {
    "duration": -173,
    "start_time": "2022-02-19T18:57:54.878Z"
   },
   {
    "duration": -174,
    "start_time": "2022-02-19T18:57:54.881Z"
   },
   {
    "duration": -188,
    "start_time": "2022-02-19T18:57:54.896Z"
   },
   {
    "duration": -189,
    "start_time": "2022-02-19T18:57:54.899Z"
   },
   {
    "duration": -197,
    "start_time": "2022-02-19T18:57:54.908Z"
   },
   {
    "duration": -199,
    "start_time": "2022-02-19T18:57:54.911Z"
   },
   {
    "duration": -199,
    "start_time": "2022-02-19T18:57:54.913Z"
   },
   {
    "duration": -200,
    "start_time": "2022-02-19T18:57:54.916Z"
   },
   {
    "duration": -209,
    "start_time": "2022-02-19T18:57:54.926Z"
   },
   {
    "duration": -211,
    "start_time": "2022-02-19T18:57:54.929Z"
   },
   {
    "duration": -213,
    "start_time": "2022-02-19T18:57:54.932Z"
   },
   {
    "duration": -214,
    "start_time": "2022-02-19T18:57:54.935Z"
   },
   {
    "duration": -221,
    "start_time": "2022-02-19T18:57:54.943Z"
   },
   {
    "duration": -223,
    "start_time": "2022-02-19T18:57:54.946Z"
   },
   {
    "duration": -225,
    "start_time": "2022-02-19T18:57:54.950Z"
   },
   {
    "duration": -227,
    "start_time": "2022-02-19T18:57:54.953Z"
   },
   {
    "duration": -236,
    "start_time": "2022-02-19T18:57:54.963Z"
   },
   {
    "duration": -237,
    "start_time": "2022-02-19T18:57:54.966Z"
   },
   {
    "duration": -240,
    "start_time": "2022-02-19T18:57:54.971Z"
   },
   {
    "duration": -219,
    "start_time": "2022-02-19T18:57:54.980Z"
   },
   {
    "duration": -221,
    "start_time": "2022-02-19T18:57:54.983Z"
   },
   {
    "duration": -224,
    "start_time": "2022-02-19T18:57:54.987Z"
   },
   {
    "duration": -224,
    "start_time": "2022-02-19T18:57:54.989Z"
   },
   {
    "duration": -226,
    "start_time": "2022-02-19T18:57:54.992Z"
   },
   {
    "duration": -228,
    "start_time": "2022-02-19T18:57:54.995Z"
   },
   {
    "duration": -229,
    "start_time": "2022-02-19T18:57:54.998Z"
   },
   {
    "duration": -230,
    "start_time": "2022-02-19T18:57:55.000Z"
   },
   {
    "duration": -232,
    "start_time": "2022-02-19T18:57:55.003Z"
   },
   {
    "duration": -233,
    "start_time": "2022-02-19T18:57:55.006Z"
   },
   {
    "duration": -235,
    "start_time": "2022-02-19T18:57:55.009Z"
   },
   {
    "duration": -236,
    "start_time": "2022-02-19T18:57:55.011Z"
   },
   {
    "duration": 4,
    "start_time": "2022-02-19T18:58:34.184Z"
   },
   {
    "duration": 4733,
    "start_time": "2022-02-19T18:58:48.227Z"
   },
   {
    "duration": 46,
    "start_time": "2022-02-19T18:58:52.964Z"
   },
   {
    "duration": 8,
    "start_time": "2022-02-19T18:58:53.013Z"
   },
   {
    "duration": 51,
    "start_time": "2022-02-19T18:58:53.024Z"
   },
   {
    "duration": 18,
    "start_time": "2022-02-19T18:58:53.078Z"
   },
   {
    "duration": 8,
    "start_time": "2022-02-19T18:58:53.099Z"
   },
   {
    "duration": 55,
    "start_time": "2022-02-19T18:58:53.110Z"
   },
   {
    "duration": 9,
    "start_time": "2022-02-19T18:58:53.170Z"
   },
   {
    "duration": 5,
    "start_time": "2022-02-19T18:58:53.182Z"
   },
   {
    "duration": 5,
    "start_time": "2022-02-19T18:58:53.190Z"
   },
   {
    "duration": 81,
    "start_time": "2022-02-19T18:58:53.197Z"
   },
   {
    "duration": 6,
    "start_time": "2022-02-19T18:58:53.281Z"
   },
   {
    "duration": 2548,
    "start_time": "2022-02-19T18:58:53.290Z"
   },
   {
    "duration": -3,
    "start_time": "2022-02-19T18:58:55.847Z"
   },
   {
    "duration": -106,
    "start_time": "2022-02-19T18:58:55.952Z"
   },
   {
    "duration": -111,
    "start_time": "2022-02-19T18:58:55.958Z"
   },
   {
    "duration": -113,
    "start_time": "2022-02-19T18:58:55.962Z"
   },
   {
    "duration": -115,
    "start_time": "2022-02-19T18:58:55.966Z"
   },
   {
    "duration": -118,
    "start_time": "2022-02-19T18:58:55.970Z"
   },
   {
    "duration": -121,
    "start_time": "2022-02-19T18:58:55.975Z"
   },
   {
    "duration": -124,
    "start_time": "2022-02-19T18:58:55.979Z"
   },
   {
    "duration": -126,
    "start_time": "2022-02-19T18:58:55.983Z"
   },
   {
    "duration": -130,
    "start_time": "2022-02-19T18:58:55.988Z"
   },
   {
    "duration": -134,
    "start_time": "2022-02-19T18:58:55.993Z"
   },
   {
    "duration": -135,
    "start_time": "2022-02-19T18:58:55.997Z"
   },
   {
    "duration": -137,
    "start_time": "2022-02-19T18:58:56.001Z"
   },
   {
    "duration": -139,
    "start_time": "2022-02-19T18:58:56.004Z"
   },
   {
    "duration": -158,
    "start_time": "2022-02-19T18:58:56.025Z"
   },
   {
    "duration": -158,
    "start_time": "2022-02-19T18:58:56.027Z"
   },
   {
    "duration": -160,
    "start_time": "2022-02-19T18:58:56.030Z"
   },
   {
    "duration": -161,
    "start_time": "2022-02-19T18:58:56.033Z"
   },
   {
    "duration": -163,
    "start_time": "2022-02-19T18:58:56.036Z"
   },
   {
    "duration": -163,
    "start_time": "2022-02-19T18:58:56.038Z"
   },
   {
    "duration": -165,
    "start_time": "2022-02-19T18:58:56.041Z"
   },
   {
    "duration": -167,
    "start_time": "2022-02-19T18:58:56.044Z"
   },
   {
    "duration": -218,
    "start_time": "2022-02-19T18:58:56.097Z"
   },
   {
    "duration": -224,
    "start_time": "2022-02-19T18:58:56.104Z"
   },
   {
    "duration": -224,
    "start_time": "2022-02-19T18:58:56.106Z"
   },
   {
    "duration": -226,
    "start_time": "2022-02-19T18:58:56.109Z"
   },
   {
    "duration": -228,
    "start_time": "2022-02-19T18:58:56.112Z"
   },
   {
    "duration": -229,
    "start_time": "2022-02-19T18:58:56.115Z"
   },
   {
    "duration": -230,
    "start_time": "2022-02-19T18:58:56.118Z"
   },
   {
    "duration": -232,
    "start_time": "2022-02-19T18:58:56.121Z"
   },
   {
    "duration": -234,
    "start_time": "2022-02-19T18:58:56.124Z"
   },
   {
    "duration": -234,
    "start_time": "2022-02-19T18:58:56.126Z"
   },
   {
    "duration": -236,
    "start_time": "2022-02-19T18:58:56.129Z"
   },
   {
    "duration": -237,
    "start_time": "2022-02-19T18:58:56.132Z"
   },
   {
    "duration": -239,
    "start_time": "2022-02-19T18:58:56.135Z"
   },
   {
    "duration": -241,
    "start_time": "2022-02-19T18:58:56.138Z"
   },
   {
    "duration": -242,
    "start_time": "2022-02-19T18:58:56.141Z"
   },
   {
    "duration": -243,
    "start_time": "2022-02-19T18:58:56.143Z"
   },
   {
    "duration": 4725,
    "start_time": "2022-02-19T18:59:32.687Z"
   },
   {
    "duration": 46,
    "start_time": "2022-02-19T18:59:37.416Z"
   },
   {
    "duration": 8,
    "start_time": "2022-02-19T18:59:37.465Z"
   },
   {
    "duration": 26,
    "start_time": "2022-02-19T18:59:37.476Z"
   },
   {
    "duration": 14,
    "start_time": "2022-02-19T18:59:37.505Z"
   },
   {
    "duration": 46,
    "start_time": "2022-02-19T18:59:37.521Z"
   },
   {
    "duration": 12,
    "start_time": "2022-02-19T18:59:37.570Z"
   },
   {
    "duration": 13,
    "start_time": "2022-02-19T18:59:37.587Z"
   },
   {
    "duration": 59,
    "start_time": "2022-02-19T18:59:37.604Z"
   },
   {
    "duration": 10,
    "start_time": "2022-02-19T18:59:37.666Z"
   },
   {
    "duration": 26,
    "start_time": "2022-02-19T18:59:37.678Z"
   },
   {
    "duration": 6,
    "start_time": "2022-02-19T18:59:37.707Z"
   },
   {
    "duration": 14,
    "start_time": "2022-02-19T18:59:37.762Z"
   },
   {
    "duration": 15,
    "start_time": "2022-02-19T18:59:37.779Z"
   },
   {
    "duration": 19,
    "start_time": "2022-02-19T18:59:37.797Z"
   },
   {
    "duration": 22,
    "start_time": "2022-02-19T18:59:37.862Z"
   },
   {
    "duration": 11,
    "start_time": "2022-02-19T18:59:37.886Z"
   },
   {
    "duration": 73,
    "start_time": "2022-02-19T18:59:37.900Z"
   },
   {
    "duration": 23,
    "start_time": "2022-02-19T18:59:37.975Z"
   },
   {
    "duration": 14,
    "start_time": "2022-02-19T18:59:38.002Z"
   },
   {
    "duration": 7,
    "start_time": "2022-02-19T18:59:38.061Z"
   },
   {
    "duration": 6,
    "start_time": "2022-02-19T18:59:38.070Z"
   },
   {
    "duration": 7,
    "start_time": "2022-02-19T18:59:38.081Z"
   },
   {
    "duration": 71,
    "start_time": "2022-02-19T18:59:38.091Z"
   },
   {
    "duration": 17,
    "start_time": "2022-02-19T18:59:38.165Z"
   },
   {
    "duration": 987,
    "start_time": "2022-02-19T18:59:38.184Z"
   },
   {
    "duration": 14,
    "start_time": "2022-02-19T18:59:39.173Z"
   },
   {
    "duration": 10,
    "start_time": "2022-02-19T18:59:39.189Z"
   },
   {
    "duration": 844,
    "start_time": "2022-02-19T18:59:39.202Z"
   },
   {
    "duration": 819,
    "start_time": "2022-02-19T18:59:40.048Z"
   },
   {
    "duration": 777,
    "start_time": "2022-02-19T18:59:40.870Z"
   },
   {
    "duration": 541,
    "start_time": "2022-02-19T18:59:41.650Z"
   },
   {
    "duration": 3839,
    "start_time": "2022-02-19T18:59:42.193Z"
   },
   {
    "duration": 27,
    "start_time": "2022-02-19T18:59:46.034Z"
   },
   {
    "duration": 12,
    "start_time": "2022-02-19T18:59:46.064Z"
   },
   {
    "duration": 30,
    "start_time": "2022-02-19T18:59:46.078Z"
   },
   {
    "duration": 568,
    "start_time": "2022-02-19T18:59:46.111Z"
   },
   {
    "duration": 14,
    "start_time": "2022-02-19T18:59:46.682Z"
   },
   {
    "duration": 615,
    "start_time": "2022-02-19T18:59:46.699Z"
   },
   {
    "duration": 681,
    "start_time": "2022-02-19T18:59:47.316Z"
   },
   {
    "duration": 581,
    "start_time": "2022-02-19T18:59:48.000Z"
   },
   {
    "duration": 37,
    "start_time": "2022-02-19T18:59:48.584Z"
   },
   {
    "duration": 620,
    "start_time": "2022-02-19T18:59:48.623Z"
   },
   {
    "duration": 678,
    "start_time": "2022-02-19T18:59:49.245Z"
   },
   {
    "duration": 568,
    "start_time": "2022-02-19T18:59:49.926Z"
   },
   {
    "duration": 86,
    "start_time": "2022-02-19T18:59:50.497Z"
   },
   {
    "duration": 103,
    "start_time": "2022-02-19T18:59:50.586Z"
   },
   {
    "duration": 16,
    "start_time": "2022-02-19T18:59:50.692Z"
   },
   {
    "duration": 13,
    "start_time": "2022-02-19T18:59:50.763Z"
   },
   {
    "duration": 18,
    "start_time": "2022-02-19T18:59:50.779Z"
   },
   {
    "duration": 8,
    "start_time": "2022-02-19T18:59:50.800Z"
   },
   {
    "duration": 538,
    "start_time": "2022-02-19T19:49:24.058Z"
   },
   {
    "duration": 564,
    "start_time": "2022-02-19T19:49:44.779Z"
   },
   {
    "duration": 432,
    "start_time": "2022-02-19T19:49:54.804Z"
   },
   {
    "duration": 492,
    "start_time": "2022-02-19T19:50:11.760Z"
   },
   {
    "duration": 433,
    "start_time": "2022-02-19T19:54:58.621Z"
   },
   {
    "duration": 13,
    "start_time": "2022-02-19T19:57:41.179Z"
   },
   {
    "duration": 37,
    "start_time": "2022-02-19T19:59:55.041Z"
   },
   {
    "duration": 37,
    "start_time": "2022-02-19T20:01:08.062Z"
   },
   {
    "duration": 11,
    "start_time": "2022-02-19T20:03:03.528Z"
   },
   {
    "duration": 11,
    "start_time": "2022-02-19T20:03:16.415Z"
   },
   {
    "duration": 4894,
    "start_time": "2022-02-19T20:03:25.207Z"
   },
   {
    "duration": 52,
    "start_time": "2022-02-19T20:03:30.105Z"
   },
   {
    "duration": 8,
    "start_time": "2022-02-19T20:03:30.159Z"
   },
   {
    "duration": 24,
    "start_time": "2022-02-19T20:03:30.170Z"
   },
   {
    "duration": 15,
    "start_time": "2022-02-19T20:03:30.197Z"
   },
   {
    "duration": 49,
    "start_time": "2022-02-19T20:03:30.214Z"
   },
   {
    "duration": 9,
    "start_time": "2022-02-19T20:03:30.266Z"
   },
   {
    "duration": 14,
    "start_time": "2022-02-19T20:03:30.279Z"
   },
   {
    "duration": 65,
    "start_time": "2022-02-19T20:03:30.299Z"
   },
   {
    "duration": 12,
    "start_time": "2022-02-19T20:03:30.367Z"
   },
   {
    "duration": 26,
    "start_time": "2022-02-19T20:03:30.381Z"
   },
   {
    "duration": 56,
    "start_time": "2022-02-19T20:03:30.410Z"
   },
   {
    "duration": 16,
    "start_time": "2022-02-19T20:03:30.470Z"
   },
   {
    "duration": 19,
    "start_time": "2022-02-19T20:03:30.489Z"
   },
   {
    "duration": 62,
    "start_time": "2022-02-19T20:03:30.510Z"
   },
   {
    "duration": 25,
    "start_time": "2022-02-19T20:03:30.575Z"
   },
   {
    "duration": 13,
    "start_time": "2022-02-19T20:03:30.602Z"
   },
   {
    "duration": 32,
    "start_time": "2022-02-19T20:03:30.661Z"
   },
   {
    "duration": 22,
    "start_time": "2022-02-19T20:03:30.695Z"
   },
   {
    "duration": 53,
    "start_time": "2022-02-19T20:03:30.719Z"
   },
   {
    "duration": 18,
    "start_time": "2022-02-19T20:03:30.775Z"
   },
   {
    "duration": 12,
    "start_time": "2022-02-19T20:03:30.796Z"
   },
   {
    "duration": 51,
    "start_time": "2022-02-19T20:03:30.813Z"
   },
   {
    "duration": 28,
    "start_time": "2022-02-19T20:03:30.867Z"
   },
   {
    "duration": 18,
    "start_time": "2022-02-19T20:03:30.898Z"
   },
   {
    "duration": 978,
    "start_time": "2022-02-19T20:03:30.918Z"
   },
   {
    "duration": 20,
    "start_time": "2022-02-19T20:03:31.899Z"
   },
   {
    "duration": 44,
    "start_time": "2022-02-19T20:03:31.922Z"
   },
   {
    "duration": 955,
    "start_time": "2022-02-19T20:03:31.970Z"
   },
   {
    "duration": 882,
    "start_time": "2022-02-19T20:03:32.928Z"
   },
   {
    "duration": 930,
    "start_time": "2022-02-19T20:03:33.812Z"
   },
   {
    "duration": 441,
    "start_time": "2022-02-19T20:03:34.744Z"
   },
   {
    "duration": 4174,
    "start_time": "2022-02-19T20:03:35.187Z"
   },
   {
    "duration": 14,
    "start_time": "2022-02-19T20:03:39.364Z"
   },
   {
    "duration": 16,
    "start_time": "2022-02-19T20:03:39.381Z"
   },
   {
    "duration": 81,
    "start_time": "2022-02-19T20:03:39.399Z"
   },
   {
    "duration": 578,
    "start_time": "2022-02-19T20:03:39.483Z"
   },
   {
    "duration": 17,
    "start_time": "2022-02-19T20:03:40.064Z"
   },
   {
    "duration": 77,
    "start_time": "2022-02-19T20:03:40.084Z"
   },
   {
    "duration": 39,
    "start_time": "2022-02-19T20:03:40.163Z"
   },
   {
    "duration": 78,
    "start_time": "2022-02-19T20:03:40.206Z"
   },
   {
    "duration": 12,
    "start_time": "2022-02-19T20:03:40.287Z"
   },
   {
    "duration": 11,
    "start_time": "2022-02-19T20:03:40.301Z"
   },
   {
    "duration": 12,
    "start_time": "2022-02-19T20:03:40.362Z"
   },
   {
    "duration": 10,
    "start_time": "2022-02-19T20:03:40.377Z"
   },
   {
    "duration": 33,
    "start_time": "2022-02-19T20:04:13.834Z"
   },
   {
    "duration": -107,
    "start_time": "2022-02-19T20:05:12.238Z"
   },
   {
    "duration": 8,
    "start_time": "2022-02-19T20:05:13.802Z"
   },
   {
    "duration": 165,
    "start_time": "2022-02-19T20:05:48.861Z"
   },
   {
    "duration": 101,
    "start_time": "2022-02-19T20:05:57.215Z"
   },
   {
    "duration": 357,
    "start_time": "2022-02-19T20:06:13.869Z"
   },
   {
    "duration": 98,
    "start_time": "2022-02-19T20:07:01.513Z"
   },
   {
    "duration": 284,
    "start_time": "2022-02-19T20:07:06.613Z"
   },
   {
    "duration": 14,
    "start_time": "2022-02-19T20:08:03.240Z"
   },
   {
    "duration": 18,
    "start_time": "2022-02-19T20:08:22.259Z"
   },
   {
    "duration": 12,
    "start_time": "2022-02-19T20:08:58.891Z"
   },
   {
    "duration": 17,
    "start_time": "2022-02-19T20:09:21.723Z"
   },
   {
    "duration": 9,
    "start_time": "2022-02-19T20:09:23.056Z"
   },
   {
    "duration": 9,
    "start_time": "2022-02-19T20:10:18.317Z"
   },
   {
    "duration": 19,
    "start_time": "2022-02-19T20:10:25.014Z"
   },
   {
    "duration": 10,
    "start_time": "2022-02-19T20:11:32.576Z"
   },
   {
    "duration": 5568,
    "start_time": "2022-02-20T13:48:11.428Z"
   },
   {
    "duration": 50,
    "start_time": "2022-02-20T13:48:16.999Z"
   },
   {
    "duration": 8,
    "start_time": "2022-02-20T13:48:17.055Z"
   },
   {
    "duration": 26,
    "start_time": "2022-02-20T13:48:17.065Z"
   },
   {
    "duration": 14,
    "start_time": "2022-02-20T13:48:17.094Z"
   },
   {
    "duration": 7,
    "start_time": "2022-02-20T13:48:17.110Z"
   },
   {
    "duration": 41,
    "start_time": "2022-02-20T13:48:17.121Z"
   },
   {
    "duration": 10,
    "start_time": "2022-02-20T13:48:17.166Z"
   },
   {
    "duration": 10,
    "start_time": "2022-02-20T13:48:17.178Z"
   },
   {
    "duration": 10,
    "start_time": "2022-02-20T13:48:17.190Z"
   },
   {
    "duration": 69,
    "start_time": "2022-02-20T13:48:17.202Z"
   },
   {
    "duration": 6,
    "start_time": "2022-02-20T13:48:17.273Z"
   },
   {
    "duration": 19,
    "start_time": "2022-02-20T13:48:17.282Z"
   },
   {
    "duration": 16,
    "start_time": "2022-02-20T13:48:17.303Z"
   },
   {
    "duration": 52,
    "start_time": "2022-02-20T13:48:17.321Z"
   },
   {
    "duration": 24,
    "start_time": "2022-02-20T13:48:17.376Z"
   },
   {
    "duration": 14,
    "start_time": "2022-02-20T13:48:17.403Z"
   },
   {
    "duration": 66,
    "start_time": "2022-02-20T13:48:17.420Z"
   },
   {
    "duration": 20,
    "start_time": "2022-02-20T13:48:17.489Z"
   },
   {
    "duration": 11,
    "start_time": "2022-02-20T13:48:17.512Z"
   },
   {
    "duration": 39,
    "start_time": "2022-02-20T13:48:17.526Z"
   },
   {
    "duration": 8,
    "start_time": "2022-02-20T13:48:17.574Z"
   },
   {
    "duration": 13,
    "start_time": "2022-02-20T13:48:17.586Z"
   },
   {
    "duration": 64,
    "start_time": "2022-02-20T13:48:17.602Z"
   },
   {
    "duration": 19,
    "start_time": "2022-02-20T13:48:17.669Z"
   },
   {
    "duration": 1003,
    "start_time": "2022-02-20T13:48:17.691Z"
   },
   {
    "duration": 14,
    "start_time": "2022-02-20T13:48:18.697Z"
   },
   {
    "duration": 11,
    "start_time": "2022-02-20T13:48:18.714Z"
   },
   {
    "duration": 883,
    "start_time": "2022-02-20T13:48:18.727Z"
   },
   {
    "duration": 935,
    "start_time": "2022-02-20T13:48:19.613Z"
   },
   {
    "duration": 834,
    "start_time": "2022-02-20T13:48:20.551Z"
   },
   {
    "duration": 465,
    "start_time": "2022-02-20T13:48:21.388Z"
   },
   {
    "duration": 3585,
    "start_time": "2022-02-20T13:48:21.855Z"
   },
   {
    "duration": 20,
    "start_time": "2022-02-20T13:48:25.443Z"
   },
   {
    "duration": 11,
    "start_time": "2022-02-20T13:48:25.465Z"
   },
   {
    "duration": 27,
    "start_time": "2022-02-20T13:48:25.478Z"
   },
   {
    "duration": 514,
    "start_time": "2022-02-20T13:48:25.508Z"
   },
   {
    "duration": 13,
    "start_time": "2022-02-20T13:48:26.024Z"
   },
   {
    "duration": 48,
    "start_time": "2022-02-20T13:48:26.039Z"
   },
   {
    "duration": 34,
    "start_time": "2022-02-20T13:48:26.090Z"
   },
   {
    "duration": 64,
    "start_time": "2022-02-20T13:48:26.126Z"
   },
   {
    "duration": 16,
    "start_time": "2022-02-20T13:48:26.192Z"
   },
   {
    "duration": 9,
    "start_time": "2022-02-20T13:48:26.211Z"
   },
   {
    "duration": 20,
    "start_time": "2022-02-20T13:48:26.261Z"
   },
   {
    "duration": 11,
    "start_time": "2022-02-20T13:48:26.284Z"
   },
   {
    "duration": 9605,
    "start_time": "2022-02-20T13:49:10.201Z"
   },
   {
    "duration": 9423,
    "start_time": "2022-02-20T13:49:25.888Z"
   },
   {
    "duration": 7,
    "start_time": "2022-02-20T13:49:36.784Z"
   },
   {
    "duration": 9,
    "start_time": "2022-02-20T14:04:32.506Z"
   },
   {
    "duration": 311,
    "start_time": "2022-02-20T14:04:40.914Z"
   },
   {
    "duration": 10,
    "start_time": "2022-02-20T14:04:47.274Z"
   },
   {
    "duration": 9,
    "start_time": "2022-02-20T14:04:56.128Z"
   },
   {
    "duration": 4139,
    "start_time": "2022-02-20T14:05:07.570Z"
   },
   {
    "duration": 9,
    "start_time": "2022-02-20T14:05:19.929Z"
   },
   {
    "duration": 11,
    "start_time": "2022-02-20T14:05:24.578Z"
   },
   {
    "duration": 8,
    "start_time": "2022-02-20T14:05:30.051Z"
   },
   {
    "duration": 9,
    "start_time": "2022-02-20T14:05:32.915Z"
   },
   {
    "duration": 9,
    "start_time": "2022-02-20T14:05:35.371Z"
   },
   {
    "duration": 11,
    "start_time": "2022-02-20T14:05:45.663Z"
   },
   {
    "duration": 11,
    "start_time": "2022-02-20T14:05:48.458Z"
   },
   {
    "duration": 10,
    "start_time": "2022-02-20T14:05:55.746Z"
   },
   {
    "duration": 12,
    "start_time": "2022-02-20T14:06:03.117Z"
   },
   {
    "duration": 8,
    "start_time": "2022-02-20T14:06:13.640Z"
   },
   {
    "duration": 9,
    "start_time": "2022-02-20T14:06:26.375Z"
   },
   {
    "duration": 13,
    "start_time": "2022-02-20T14:06:35.260Z"
   },
   {
    "duration": 8,
    "start_time": "2022-02-20T14:15:49.706Z"
   },
   {
    "duration": 9,
    "start_time": "2022-02-20T14:15:53.971Z"
   },
   {
    "duration": 135,
    "start_time": "2022-02-20T14:32:29.713Z"
   },
   {
    "duration": 6,
    "start_time": "2022-02-20T14:36:41.293Z"
   },
   {
    "duration": 16,
    "start_time": "2022-02-20T14:36:55.894Z"
   },
   {
    "duration": 46,
    "start_time": "2022-02-20T14:37:26.409Z"
   },
   {
    "duration": 8,
    "start_time": "2022-02-20T14:37:40.311Z"
   },
   {
    "duration": 45,
    "start_time": "2022-02-20T14:38:12.942Z"
   },
   {
    "duration": 9,
    "start_time": "2022-02-20T15:35:01.295Z"
   },
   {
    "duration": 37,
    "start_time": "2022-02-20T15:35:34.654Z"
   },
   {
    "duration": 121,
    "start_time": "2022-02-20T15:52:30.668Z"
   },
   {
    "duration": 208,
    "start_time": "2022-02-23T14:56:11.053Z"
   },
   {
    "duration": 1352,
    "start_time": "2022-02-23T14:56:16.717Z"
   },
   {
    "duration": -2,
    "start_time": "2022-02-23T14:56:18.074Z"
   },
   {
    "duration": -6,
    "start_time": "2022-02-23T14:56:18.079Z"
   },
   {
    "duration": -85,
    "start_time": "2022-02-23T14:56:18.159Z"
   },
   {
    "duration": -98,
    "start_time": "2022-02-23T14:56:18.173Z"
   },
   {
    "duration": -101,
    "start_time": "2022-02-23T14:56:18.177Z"
   },
   {
    "duration": -106,
    "start_time": "2022-02-23T14:56:18.183Z"
   },
   {
    "duration": -110,
    "start_time": "2022-02-23T14:56:18.188Z"
   },
   {
    "duration": -113,
    "start_time": "2022-02-23T14:56:18.192Z"
   },
   {
    "duration": -115,
    "start_time": "2022-02-23T14:56:18.195Z"
   },
   {
    "duration": -120,
    "start_time": "2022-02-23T14:56:18.201Z"
   },
   {
    "duration": -123,
    "start_time": "2022-02-23T14:56:18.204Z"
   },
   {
    "duration": -125,
    "start_time": "2022-02-23T14:56:18.208Z"
   },
   {
    "duration": -128,
    "start_time": "2022-02-23T14:56:18.211Z"
   },
   {
    "duration": -131,
    "start_time": "2022-02-23T14:56:18.215Z"
   },
   {
    "duration": -134,
    "start_time": "2022-02-23T14:56:18.219Z"
   },
   {
    "duration": -137,
    "start_time": "2022-02-23T14:56:18.223Z"
   },
   {
    "duration": -139,
    "start_time": "2022-02-23T14:56:18.226Z"
   },
   {
    "duration": -142,
    "start_time": "2022-02-23T14:56:18.230Z"
   },
   {
    "duration": -145,
    "start_time": "2022-02-23T14:56:18.234Z"
   },
   {
    "duration": -148,
    "start_time": "2022-02-23T14:56:18.238Z"
   },
   {
    "duration": -150,
    "start_time": "2022-02-23T14:56:18.241Z"
   },
   {
    "duration": -153,
    "start_time": "2022-02-23T14:56:18.245Z"
   },
   {
    "duration": -181,
    "start_time": "2022-02-23T14:56:18.274Z"
   },
   {
    "duration": -206,
    "start_time": "2022-02-23T14:56:18.300Z"
   },
   {
    "duration": -207,
    "start_time": "2022-02-23T14:56:18.303Z"
   },
   {
    "duration": -209,
    "start_time": "2022-02-23T14:56:18.306Z"
   },
   {
    "duration": -212,
    "start_time": "2022-02-23T14:56:18.309Z"
   },
   {
    "duration": -213,
    "start_time": "2022-02-23T14:56:18.312Z"
   },
   {
    "duration": -216,
    "start_time": "2022-02-23T14:56:18.315Z"
   },
   {
    "duration": -219,
    "start_time": "2022-02-23T14:56:18.319Z"
   },
   {
    "duration": -219,
    "start_time": "2022-02-23T14:56:18.321Z"
   },
   {
    "duration": -221,
    "start_time": "2022-02-23T14:56:18.324Z"
   },
   {
    "duration": -223,
    "start_time": "2022-02-23T14:56:18.327Z"
   },
   {
    "duration": -227,
    "start_time": "2022-02-23T14:56:18.331Z"
   },
   {
    "duration": -230,
    "start_time": "2022-02-23T14:56:18.335Z"
   },
   {
    "duration": -233,
    "start_time": "2022-02-23T14:56:18.339Z"
   },
   {
    "duration": -233,
    "start_time": "2022-02-23T14:56:18.341Z"
   },
   {
    "duration": -186,
    "start_time": "2022-02-23T14:56:18.345Z"
   },
   {
    "duration": -189,
    "start_time": "2022-02-23T14:56:18.349Z"
   },
   {
    "duration": -192,
    "start_time": "2022-02-23T14:56:18.352Z"
   },
   {
    "duration": -195,
    "start_time": "2022-02-23T14:56:18.356Z"
   },
   {
    "duration": -197,
    "start_time": "2022-02-23T14:56:18.359Z"
   },
   {
    "duration": -199,
    "start_time": "2022-02-23T14:56:18.362Z"
   },
   {
    "duration": -202,
    "start_time": "2022-02-23T14:56:18.366Z"
   },
   {
    "duration": 1454,
    "start_time": "2022-02-23T14:56:40.476Z"
   },
   {
    "duration": 33,
    "start_time": "2022-02-23T14:56:41.900Z"
   },
   {
    "duration": 29,
    "start_time": "2022-02-23T14:56:41.905Z"
   },
   {
    "duration": 25,
    "start_time": "2022-02-23T14:56:41.910Z"
   },
   {
    "duration": -53,
    "start_time": "2022-02-23T14:56:41.989Z"
   },
   {
    "duration": -58,
    "start_time": "2022-02-23T14:56:41.995Z"
   },
   {
    "duration": -63,
    "start_time": "2022-02-23T14:56:42.001Z"
   },
   {
    "duration": -67,
    "start_time": "2022-02-23T14:56:42.006Z"
   },
   {
    "duration": -86,
    "start_time": "2022-02-23T14:56:42.026Z"
   },
   {
    "duration": -91,
    "start_time": "2022-02-23T14:56:42.032Z"
   },
   {
    "duration": -106,
    "start_time": "2022-02-23T14:56:42.047Z"
   },
   {
    "duration": -116,
    "start_time": "2022-02-23T14:56:42.058Z"
   },
   {
    "duration": -120,
    "start_time": "2022-02-23T14:56:42.063Z"
   },
   {
    "duration": -123,
    "start_time": "2022-02-23T14:56:42.067Z"
   },
   {
    "duration": -132,
    "start_time": "2022-02-23T14:56:42.077Z"
   },
   {
    "duration": -135,
    "start_time": "2022-02-23T14:56:42.081Z"
   },
   {
    "duration": -142,
    "start_time": "2022-02-23T14:56:42.089Z"
   },
   {
    "duration": -145,
    "start_time": "2022-02-23T14:56:42.093Z"
   },
   {
    "duration": -149,
    "start_time": "2022-02-23T14:56:42.098Z"
   },
   {
    "duration": -157,
    "start_time": "2022-02-23T14:56:42.108Z"
   },
   {
    "duration": -160,
    "start_time": "2022-02-23T14:56:42.112Z"
   },
   {
    "duration": -162,
    "start_time": "2022-02-23T14:56:42.115Z"
   },
   {
    "duration": -172,
    "start_time": "2022-02-23T14:56:42.126Z"
   },
   {
    "duration": -175,
    "start_time": "2022-02-23T14:56:42.130Z"
   },
   {
    "duration": -183,
    "start_time": "2022-02-23T14:56:42.139Z"
   },
   {
    "duration": -239,
    "start_time": "2022-02-23T14:56:42.196Z"
   },
   {
    "duration": -246,
    "start_time": "2022-02-23T14:56:42.205Z"
   },
   {
    "duration": -248,
    "start_time": "2022-02-23T14:56:42.208Z"
   },
   {
    "duration": -250,
    "start_time": "2022-02-23T14:56:42.211Z"
   },
   {
    "duration": -253,
    "start_time": "2022-02-23T14:56:42.215Z"
   },
   {
    "duration": -259,
    "start_time": "2022-02-23T14:56:42.222Z"
   },
   {
    "duration": -262,
    "start_time": "2022-02-23T14:56:42.226Z"
   },
   {
    "duration": -264,
    "start_time": "2022-02-23T14:56:42.229Z"
   },
   {
    "duration": -272,
    "start_time": "2022-02-23T14:56:42.238Z"
   },
   {
    "duration": -275,
    "start_time": "2022-02-23T14:56:42.242Z"
   },
   {
    "duration": -277,
    "start_time": "2022-02-23T14:56:42.245Z"
   },
   {
    "duration": -279,
    "start_time": "2022-02-23T14:56:42.248Z"
   },
   {
    "duration": -289,
    "start_time": "2022-02-23T14:56:42.259Z"
   },
   {
    "duration": -293,
    "start_time": "2022-02-23T14:56:42.263Z"
   },
   {
    "duration": -293,
    "start_time": "2022-02-23T14:56:42.265Z"
   },
   {
    "duration": -303,
    "start_time": "2022-02-23T14:56:42.276Z"
   },
   {
    "duration": -305,
    "start_time": "2022-02-23T14:56:42.279Z"
   },
   {
    "duration": -307,
    "start_time": "2022-02-23T14:56:42.282Z"
   },
   {
    "duration": -320,
    "start_time": "2022-02-23T14:56:42.296Z"
   },
   {
    "duration": -328,
    "start_time": "2022-02-23T14:56:42.306Z"
   },
   {
    "duration": 824,
    "start_time": "2022-02-23T14:57:07.883Z"
   },
   {
    "duration": 119,
    "start_time": "2022-02-23T14:57:08.592Z"
   },
   {
    "duration": 114,
    "start_time": "2022-02-23T14:57:08.598Z"
   },
   {
    "duration": 75,
    "start_time": "2022-02-23T14:57:08.638Z"
   },
   {
    "duration": -50,
    "start_time": "2022-02-23T14:57:08.765Z"
   },
   {
    "duration": -52,
    "start_time": "2022-02-23T14:57:08.768Z"
   },
   {
    "duration": -54,
    "start_time": "2022-02-23T14:57:08.771Z"
   },
   {
    "duration": -58,
    "start_time": "2022-02-23T14:57:08.775Z"
   },
   {
    "duration": -60,
    "start_time": "2022-02-23T14:57:08.778Z"
   },
   {
    "duration": -64,
    "start_time": "2022-02-23T14:57:08.783Z"
   },
   {
    "duration": -65,
    "start_time": "2022-02-23T14:57:08.785Z"
   },
   {
    "duration": -66,
    "start_time": "2022-02-23T14:57:08.788Z"
   },
   {
    "duration": -68,
    "start_time": "2022-02-23T14:57:08.791Z"
   },
   {
    "duration": -70,
    "start_time": "2022-02-23T14:57:08.794Z"
   },
   {
    "duration": -98,
    "start_time": "2022-02-23T14:57:08.823Z"
   },
   {
    "duration": -101,
    "start_time": "2022-02-23T14:57:08.827Z"
   },
   {
    "duration": -103,
    "start_time": "2022-02-23T14:57:08.830Z"
   },
   {
    "duration": -112,
    "start_time": "2022-02-23T14:57:08.840Z"
   },
   {
    "duration": -113,
    "start_time": "2022-02-23T14:57:08.842Z"
   },
   {
    "duration": -115,
    "start_time": "2022-02-23T14:57:08.845Z"
   },
   {
    "duration": -124,
    "start_time": "2022-02-23T14:57:08.855Z"
   },
   {
    "duration": -127,
    "start_time": "2022-02-23T14:57:08.859Z"
   },
   {
    "duration": -129,
    "start_time": "2022-02-23T14:57:08.862Z"
   },
   {
    "duration": -138,
    "start_time": "2022-02-23T14:57:08.872Z"
   },
   {
    "duration": -140,
    "start_time": "2022-02-23T14:57:08.875Z"
   },
   {
    "duration": -142,
    "start_time": "2022-02-23T14:57:08.878Z"
   },
   {
    "duration": -290,
    "start_time": "2022-02-23T14:57:09.027Z"
   },
   {
    "duration": -336,
    "start_time": "2022-02-23T14:57:09.073Z"
   },
   {
    "duration": -362,
    "start_time": "2022-02-23T14:57:09.100Z"
   },
   {
    "duration": -365,
    "start_time": "2022-02-23T14:57:09.104Z"
   },
   {
    "duration": -366,
    "start_time": "2022-02-23T14:57:09.106Z"
   },
   {
    "duration": -369,
    "start_time": "2022-02-23T14:57:09.109Z"
   },
   {
    "duration": -370,
    "start_time": "2022-02-23T14:57:09.111Z"
   },
   {
    "duration": -374,
    "start_time": "2022-02-23T14:57:09.116Z"
   },
   {
    "duration": -376,
    "start_time": "2022-02-23T14:57:09.119Z"
   },
   {
    "duration": -378,
    "start_time": "2022-02-23T14:57:09.122Z"
   },
   {
    "duration": -380,
    "start_time": "2022-02-23T14:57:09.125Z"
   },
   {
    "duration": -382,
    "start_time": "2022-02-23T14:57:09.128Z"
   },
   {
    "duration": -387,
    "start_time": "2022-02-23T14:57:09.134Z"
   },
   {
    "duration": -379,
    "start_time": "2022-02-23T14:57:09.137Z"
   },
   {
    "duration": -380,
    "start_time": "2022-02-23T14:57:09.139Z"
   },
   {
    "duration": -382,
    "start_time": "2022-02-23T14:57:09.142Z"
   },
   {
    "duration": -384,
    "start_time": "2022-02-23T14:57:09.145Z"
   },
   {
    "duration": -388,
    "start_time": "2022-02-23T14:57:09.150Z"
   },
   {
    "duration": -390,
    "start_time": "2022-02-23T14:57:09.153Z"
   },
   {
    "duration": 217,
    "start_time": "2022-02-23T14:57:52.297Z"
   },
   {
    "duration": 12886,
    "start_time": "2022-02-23T14:59:02.807Z"
   },
   {
    "duration": 35,
    "start_time": "2022-02-23T14:59:15.696Z"
   },
   {
    "duration": 7,
    "start_time": "2022-02-23T14:59:15.733Z"
   },
   {
    "duration": 19,
    "start_time": "2022-02-23T14:59:15.742Z"
   },
   {
    "duration": 11,
    "start_time": "2022-02-23T14:59:15.763Z"
   },
   {
    "duration": 8,
    "start_time": "2022-02-23T14:59:15.776Z"
   },
   {
    "duration": 9,
    "start_time": "2022-02-23T14:59:15.786Z"
   },
   {
    "duration": 8,
    "start_time": "2022-02-23T14:59:15.798Z"
   },
   {
    "duration": 7,
    "start_time": "2022-02-23T14:59:15.808Z"
   },
   {
    "duration": 14,
    "start_time": "2022-02-23T14:59:15.817Z"
   },
   {
    "duration": 16,
    "start_time": "2022-02-23T14:59:15.859Z"
   },
   {
    "duration": 6,
    "start_time": "2022-02-23T14:59:15.877Z"
   },
   {
    "duration": 13,
    "start_time": "2022-02-23T14:59:15.884Z"
   },
   {
    "duration": 17,
    "start_time": "2022-02-23T14:59:15.899Z"
   },
   {
    "duration": 13,
    "start_time": "2022-02-23T14:59:15.917Z"
   },
   {
    "duration": 17,
    "start_time": "2022-02-23T14:59:15.959Z"
   },
   {
    "duration": 9,
    "start_time": "2022-02-23T14:59:15.978Z"
   },
   {
    "duration": 25,
    "start_time": "2022-02-23T14:59:15.989Z"
   },
   {
    "duration": 46,
    "start_time": "2022-02-23T14:59:16.017Z"
   },
   {
    "duration": 11,
    "start_time": "2022-02-23T14:59:16.065Z"
   },
   {
    "duration": 5,
    "start_time": "2022-02-23T14:59:16.078Z"
   },
   {
    "duration": 7,
    "start_time": "2022-02-23T14:59:16.085Z"
   },
   {
    "duration": 6,
    "start_time": "2022-02-23T14:59:16.097Z"
   },
   {
    "duration": 58,
    "start_time": "2022-02-23T14:59:16.106Z"
   },
   {
    "duration": 14,
    "start_time": "2022-02-23T14:59:16.166Z"
   },
   {
    "duration": 711,
    "start_time": "2022-02-23T14:59:16.183Z"
   },
   {
    "duration": 11,
    "start_time": "2022-02-23T14:59:16.896Z"
   },
   {
    "duration": 9,
    "start_time": "2022-02-23T14:59:16.909Z"
   },
   {
    "duration": 535,
    "start_time": "2022-02-23T14:59:16.920Z"
   },
   {
    "duration": 532,
    "start_time": "2022-02-23T14:59:17.457Z"
   },
   {
    "duration": 541,
    "start_time": "2022-02-23T14:59:17.990Z"
   },
   {
    "duration": 334,
    "start_time": "2022-02-23T14:59:18.533Z"
   },
   {
    "duration": 2652,
    "start_time": "2022-02-23T14:59:18.869Z"
   },
   {
    "duration": 9,
    "start_time": "2022-02-23T14:59:21.523Z"
   },
   {
    "duration": 14,
    "start_time": "2022-02-23T14:59:21.534Z"
   },
   {
    "duration": 19,
    "start_time": "2022-02-23T14:59:21.559Z"
   },
   {
    "duration": 369,
    "start_time": "2022-02-23T14:59:21.580Z"
   },
   {
    "duration": 14,
    "start_time": "2022-02-23T14:59:21.951Z"
   },
   {
    "duration": 29,
    "start_time": "2022-02-23T14:59:21.967Z"
   },
   {
    "duration": 25,
    "start_time": "2022-02-23T14:59:21.998Z"
   },
   {
    "duration": 51,
    "start_time": "2022-02-23T14:59:22.025Z"
   },
   {
    "duration": 12,
    "start_time": "2022-02-23T14:59:22.078Z"
   },
   {
    "duration": 6,
    "start_time": "2022-02-23T14:59:22.092Z"
   },
   {
    "duration": 12,
    "start_time": "2022-02-23T14:59:22.100Z"
   },
   {
    "duration": 7,
    "start_time": "2022-02-23T14:59:22.114Z"
   },
   {
    "duration": 338,
    "start_time": "2022-02-23T17:11:22.481Z"
   },
   {
    "duration": 6268,
    "start_time": "2022-02-23T17:18:36.500Z"
   },
   {
    "duration": 8181,
    "start_time": "2022-02-23T17:18:46.169Z"
   },
   {
    "duration": 36,
    "start_time": "2022-02-23T17:18:54.352Z"
   },
   {
    "duration": 6,
    "start_time": "2022-02-23T17:18:54.390Z"
   },
   {
    "duration": 23,
    "start_time": "2022-02-23T17:18:54.398Z"
   },
   {
    "duration": 19,
    "start_time": "2022-02-23T17:18:54.423Z"
   },
   {
    "duration": 19,
    "start_time": "2022-02-23T17:18:54.444Z"
   },
   {
    "duration": 11,
    "start_time": "2022-02-23T17:18:54.464Z"
   },
   {
    "duration": 8,
    "start_time": "2022-02-23T17:18:54.477Z"
   },
   {
    "duration": 8,
    "start_time": "2022-02-23T17:18:54.487Z"
   },
   {
    "duration": 2,
    "start_time": "2022-02-23T17:18:54.497Z"
   },
   {
    "duration": 19,
    "start_time": "2022-02-23T17:18:54.501Z"
   },
   {
    "duration": 38,
    "start_time": "2022-02-23T17:18:54.522Z"
   },
   {
    "duration": 1460,
    "start_time": "2022-02-23T17:18:54.562Z"
   },
   {
    "duration": -72,
    "start_time": "2022-02-23T17:18:56.099Z"
   },
   {
    "duration": -85,
    "start_time": "2022-02-23T17:18:56.113Z"
   },
   {
    "duration": -96,
    "start_time": "2022-02-23T17:18:56.126Z"
   },
   {
    "duration": -101,
    "start_time": "2022-02-23T17:18:56.132Z"
   },
   {
    "duration": -103,
    "start_time": "2022-02-23T17:18:56.136Z"
   },
   {
    "duration": -106,
    "start_time": "2022-02-23T17:18:56.140Z"
   },
   {
    "duration": -109,
    "start_time": "2022-02-23T17:18:56.145Z"
   },
   {
    "duration": -111,
    "start_time": "2022-02-23T17:18:56.148Z"
   },
   {
    "duration": -113,
    "start_time": "2022-02-23T17:18:56.152Z"
   },
   {
    "duration": -116,
    "start_time": "2022-02-23T17:18:56.156Z"
   },
   {
    "duration": -119,
    "start_time": "2022-02-23T17:18:56.161Z"
   },
   {
    "duration": -121,
    "start_time": "2022-02-23T17:18:56.164Z"
   },
   {
    "duration": -123,
    "start_time": "2022-02-23T17:18:56.168Z"
   },
   {
    "duration": -125,
    "start_time": "2022-02-23T17:18:56.171Z"
   },
   {
    "duration": -129,
    "start_time": "2022-02-23T17:18:56.176Z"
   },
   {
    "duration": -131,
    "start_time": "2022-02-23T17:18:56.180Z"
   },
   {
    "duration": -133,
    "start_time": "2022-02-23T17:18:56.183Z"
   },
   {
    "duration": -136,
    "start_time": "2022-02-23T17:18:56.187Z"
   },
   {
    "duration": -140,
    "start_time": "2022-02-23T17:18:56.193Z"
   },
   {
    "duration": -143,
    "start_time": "2022-02-23T17:18:56.197Z"
   },
   {
    "duration": -144,
    "start_time": "2022-02-23T17:18:56.200Z"
   },
   {
    "duration": -158,
    "start_time": "2022-02-23T17:18:56.215Z"
   },
   {
    "duration": -161,
    "start_time": "2022-02-23T17:18:56.219Z"
   },
   {
    "duration": -165,
    "start_time": "2022-02-23T17:18:56.225Z"
   },
   {
    "duration": -167,
    "start_time": "2022-02-23T17:18:56.228Z"
   },
   {
    "duration": -170,
    "start_time": "2022-02-23T17:18:56.232Z"
   },
   {
    "duration": -172,
    "start_time": "2022-02-23T17:18:56.235Z"
   },
   {
    "duration": -180,
    "start_time": "2022-02-23T17:18:56.244Z"
   },
   {
    "duration": -181,
    "start_time": "2022-02-23T17:18:56.247Z"
   },
   {
    "duration": -185,
    "start_time": "2022-02-23T17:18:56.252Z"
   },
   {
    "duration": -187,
    "start_time": "2022-02-23T17:18:56.255Z"
   },
   {
    "duration": -192,
    "start_time": "2022-02-23T17:18:56.261Z"
   },
   {
    "duration": 8241,
    "start_time": "2022-02-23T17:23:12.801Z"
   },
   {
    "duration": 35,
    "start_time": "2022-02-23T17:23:21.045Z"
   },
   {
    "duration": 6,
    "start_time": "2022-02-23T17:23:21.082Z"
   },
   {
    "duration": 28,
    "start_time": "2022-02-23T17:23:21.090Z"
   },
   {
    "duration": 11,
    "start_time": "2022-02-23T17:23:21.120Z"
   },
   {
    "duration": 4,
    "start_time": "2022-02-23T17:23:21.133Z"
   },
   {
    "duration": 24,
    "start_time": "2022-02-23T17:23:21.139Z"
   },
   {
    "duration": 18,
    "start_time": "2022-02-23T17:23:21.167Z"
   },
   {
    "duration": 9,
    "start_time": "2022-02-23T17:23:21.188Z"
   },
   {
    "duration": 10,
    "start_time": "2022-02-23T17:23:21.199Z"
   },
   {
    "duration": 21,
    "start_time": "2022-02-23T17:23:21.210Z"
   },
   {
    "duration": 5,
    "start_time": "2022-02-23T17:23:21.232Z"
   },
   {
    "duration": 1367,
    "start_time": "2022-02-23T17:23:21.239Z"
   },
   {
    "duration": 41,
    "start_time": "2022-02-23T17:23:22.570Z"
   },
   {
    "duration": -77,
    "start_time": "2022-02-23T17:23:22.690Z"
   },
   {
    "duration": -85,
    "start_time": "2022-02-23T17:23:22.698Z"
   },
   {
    "duration": -86,
    "start_time": "2022-02-23T17:23:22.701Z"
   },
   {
    "duration": -95,
    "start_time": "2022-02-23T17:23:22.710Z"
   },
   {
    "duration": -98,
    "start_time": "2022-02-23T17:23:22.714Z"
   },
   {
    "duration": -99,
    "start_time": "2022-02-23T17:23:22.716Z"
   },
   {
    "duration": -102,
    "start_time": "2022-02-23T17:23:22.720Z"
   },
   {
    "duration": -108,
    "start_time": "2022-02-23T17:23:22.728Z"
   },
   {
    "duration": -111,
    "start_time": "2022-02-23T17:23:22.732Z"
   },
   {
    "duration": -111,
    "start_time": "2022-02-23T17:23:22.734Z"
   },
   {
    "duration": -118,
    "start_time": "2022-02-23T17:23:22.743Z"
   },
   {
    "duration": -120,
    "start_time": "2022-02-23T17:23:22.747Z"
   },
   {
    "duration": -121,
    "start_time": "2022-02-23T17:23:22.750Z"
   },
   {
    "duration": -124,
    "start_time": "2022-02-23T17:23:22.754Z"
   },
   {
    "duration": -130,
    "start_time": "2022-02-23T17:23:22.762Z"
   },
   {
    "duration": -132,
    "start_time": "2022-02-23T17:23:22.766Z"
   },
   {
    "duration": -135,
    "start_time": "2022-02-23T17:23:22.770Z"
   },
   {
    "duration": -141,
    "start_time": "2022-02-23T17:23:22.778Z"
   },
   {
    "duration": -143,
    "start_time": "2022-02-23T17:23:22.782Z"
   },
   {
    "duration": -145,
    "start_time": "2022-02-23T17:23:22.785Z"
   },
   {
    "duration": -148,
    "start_time": "2022-02-23T17:23:22.790Z"
   },
   {
    "duration": -156,
    "start_time": "2022-02-23T17:23:22.799Z"
   },
   {
    "duration": -167,
    "start_time": "2022-02-23T17:23:22.812Z"
   },
   {
    "duration": -171,
    "start_time": "2022-02-23T17:23:22.817Z"
   },
   {
    "duration": -181,
    "start_time": "2022-02-23T17:23:22.828Z"
   },
   {
    "duration": -172,
    "start_time": "2022-02-23T17:23:22.831Z"
   },
   {
    "duration": -173,
    "start_time": "2022-02-23T17:23:22.834Z"
   },
   {
    "duration": -182,
    "start_time": "2022-02-23T17:23:22.844Z"
   },
   {
    "duration": -184,
    "start_time": "2022-02-23T17:23:22.847Z"
   },
   {
    "duration": -186,
    "start_time": "2022-02-23T17:23:22.850Z"
   },
   {
    "duration": -194,
    "start_time": "2022-02-23T17:23:22.859Z"
   },
   {
    "duration": 8530,
    "start_time": "2022-02-23T17:24:12.533Z"
   },
   {
    "duration": 37,
    "start_time": "2022-02-23T17:24:21.065Z"
   },
   {
    "duration": 5,
    "start_time": "2022-02-23T17:24:21.104Z"
   },
   {
    "duration": 20,
    "start_time": "2022-02-23T17:24:21.111Z"
   },
   {
    "duration": 13,
    "start_time": "2022-02-23T17:24:21.132Z"
   },
   {
    "duration": 13,
    "start_time": "2022-02-23T17:24:21.147Z"
   },
   {
    "duration": 14,
    "start_time": "2022-02-23T17:24:21.162Z"
   },
   {
    "duration": 16,
    "start_time": "2022-02-23T17:24:21.178Z"
   },
   {
    "duration": 13,
    "start_time": "2022-02-23T17:24:21.196Z"
   },
   {
    "duration": 9,
    "start_time": "2022-02-23T17:24:21.211Z"
   },
   {
    "duration": 11,
    "start_time": "2022-02-23T17:24:21.221Z"
   },
   {
    "duration": 31,
    "start_time": "2022-02-23T17:24:21.234Z"
   },
   {
    "duration": 5,
    "start_time": "2022-02-23T17:24:21.267Z"
   },
   {
    "duration": 13,
    "start_time": "2022-02-23T17:24:21.273Z"
   },
   {
    "duration": 15,
    "start_time": "2022-02-23T17:24:21.288Z"
   },
   {
    "duration": 15,
    "start_time": "2022-02-23T17:24:21.304Z"
   },
   {
    "duration": 43,
    "start_time": "2022-02-23T17:24:21.320Z"
   },
   {
    "duration": 8,
    "start_time": "2022-02-23T17:24:21.365Z"
   },
   {
    "duration": 25,
    "start_time": "2022-02-23T17:24:21.375Z"
   },
   {
    "duration": 13,
    "start_time": "2022-02-23T17:24:21.401Z"
   },
   {
    "duration": 8,
    "start_time": "2022-02-23T17:24:21.416Z"
   },
   {
    "duration": 7,
    "start_time": "2022-02-23T17:24:21.425Z"
   },
   {
    "duration": 5,
    "start_time": "2022-02-23T17:24:21.460Z"
   },
   {
    "duration": 15,
    "start_time": "2022-02-23T17:24:21.467Z"
   },
   {
    "duration": 20,
    "start_time": "2022-02-23T17:24:21.483Z"
   },
   {
    "duration": 12,
    "start_time": "2022-02-23T17:24:21.505Z"
   },
   {
    "duration": 700,
    "start_time": "2022-02-23T17:24:21.518Z"
   },
   {
    "duration": 9,
    "start_time": "2022-02-23T17:24:22.220Z"
   },
   {
    "duration": 8,
    "start_time": "2022-02-23T17:24:22.232Z"
   },
   {
    "duration": 595,
    "start_time": "2022-02-23T17:24:22.241Z"
   },
   {
    "duration": 575,
    "start_time": "2022-02-23T17:24:22.838Z"
   },
   {
    "duration": 570,
    "start_time": "2022-02-23T17:24:23.415Z"
   },
   {
    "duration": 313,
    "start_time": "2022-02-23T17:24:23.988Z"
   },
   {
    "duration": 2684,
    "start_time": "2022-02-23T17:24:24.303Z"
   },
   {
    "duration": 10,
    "start_time": "2022-02-23T17:24:26.989Z"
   },
   {
    "duration": 9,
    "start_time": "2022-02-23T17:24:27.001Z"
   },
   {
    "duration": 48,
    "start_time": "2022-02-23T17:24:27.013Z"
   },
   {
    "duration": 378,
    "start_time": "2022-02-23T17:24:27.063Z"
   },
   {
    "duration": 21,
    "start_time": "2022-02-23T17:24:27.444Z"
   },
   {
    "duration": 34,
    "start_time": "2022-02-23T17:24:27.467Z"
   },
   {
    "duration": 25,
    "start_time": "2022-02-23T17:24:27.503Z"
   },
   {
    "duration": 44,
    "start_time": "2022-02-23T17:24:27.530Z"
   },
   {
    "duration": 13,
    "start_time": "2022-02-23T17:24:27.576Z"
   },
   {
    "duration": 7,
    "start_time": "2022-02-23T17:24:27.591Z"
   },
   {
    "duration": 17,
    "start_time": "2022-02-23T17:24:27.600Z"
   },
   {
    "duration": 8,
    "start_time": "2022-02-23T17:24:27.619Z"
   },
   {
    "duration": 520,
    "start_time": "2022-02-23T17:24:52.036Z"
   },
   {
    "duration": 599,
    "start_time": "2022-02-23T17:24:59.541Z"
   },
   {
    "duration": 8237,
    "start_time": "2022-02-23T17:25:20.936Z"
   },
   {
    "duration": 42,
    "start_time": "2022-02-23T17:25:29.175Z"
   },
   {
    "duration": 5,
    "start_time": "2022-02-23T17:25:29.219Z"
   },
   {
    "duration": 19,
    "start_time": "2022-02-23T17:25:29.226Z"
   },
   {
    "duration": 10,
    "start_time": "2022-02-23T17:25:29.247Z"
   },
   {
    "duration": 5,
    "start_time": "2022-02-23T17:25:29.258Z"
   },
   {
    "duration": 8,
    "start_time": "2022-02-23T17:25:29.265Z"
   },
   {
    "duration": 7,
    "start_time": "2022-02-23T17:25:29.276Z"
   },
   {
    "duration": 15,
    "start_time": "2022-02-23T17:25:29.285Z"
   },
   {
    "duration": 7,
    "start_time": "2022-02-23T17:25:29.302Z"
   },
   {
    "duration": 7,
    "start_time": "2022-02-23T17:25:29.311Z"
   },
   {
    "duration": 41,
    "start_time": "2022-02-23T17:25:29.320Z"
   },
   {
    "duration": 5,
    "start_time": "2022-02-23T17:25:29.363Z"
   },
   {
    "duration": 12,
    "start_time": "2022-02-23T17:25:29.370Z"
   },
   {
    "duration": 15,
    "start_time": "2022-02-23T17:25:29.383Z"
   },
   {
    "duration": 14,
    "start_time": "2022-02-23T17:25:29.400Z"
   },
   {
    "duration": 46,
    "start_time": "2022-02-23T17:25:29.416Z"
   },
   {
    "duration": 8,
    "start_time": "2022-02-23T17:25:29.464Z"
   },
   {
    "duration": 23,
    "start_time": "2022-02-23T17:25:29.474Z"
   },
   {
    "duration": 13,
    "start_time": "2022-02-23T17:25:29.499Z"
   },
   {
    "duration": 6,
    "start_time": "2022-02-23T17:25:29.514Z"
   },
   {
    "duration": 5,
    "start_time": "2022-02-23T17:25:29.521Z"
   },
   {
    "duration": 33,
    "start_time": "2022-02-23T17:25:29.529Z"
   },
   {
    "duration": 5,
    "start_time": "2022-02-23T17:25:29.565Z"
   },
   {
    "duration": 19,
    "start_time": "2022-02-23T17:25:29.572Z"
   },
   {
    "duration": 13,
    "start_time": "2022-02-23T17:25:29.592Z"
   },
   {
    "duration": 729,
    "start_time": "2022-02-23T17:25:29.606Z"
   },
   {
    "duration": 13,
    "start_time": "2022-02-23T17:25:30.337Z"
   },
   {
    "duration": 10,
    "start_time": "2022-02-23T17:25:30.360Z"
   },
   {
    "duration": 662,
    "start_time": "2022-02-23T17:25:30.372Z"
   },
   {
    "duration": 576,
    "start_time": "2022-02-23T17:25:31.036Z"
   },
   {
    "duration": 563,
    "start_time": "2022-02-23T17:25:31.614Z"
   },
   {
    "duration": 312,
    "start_time": "2022-02-23T17:25:32.179Z"
   },
   {
    "duration": 2729,
    "start_time": "2022-02-23T17:25:32.492Z"
   },
   {
    "duration": 9,
    "start_time": "2022-02-23T17:25:35.223Z"
   },
   {
    "duration": 10,
    "start_time": "2022-02-23T17:25:35.233Z"
   },
   {
    "duration": 32,
    "start_time": "2022-02-23T17:25:35.245Z"
   },
   {
    "duration": 364,
    "start_time": "2022-02-23T17:25:35.278Z"
   },
   {
    "duration": 15,
    "start_time": "2022-02-23T17:25:35.644Z"
   },
   {
    "duration": 30,
    "start_time": "2022-02-23T17:25:35.661Z"
   },
   {
    "duration": 21,
    "start_time": "2022-02-23T17:25:35.693Z"
   },
   {
    "duration": 28,
    "start_time": "2022-02-23T17:25:35.715Z"
   },
   {
    "duration": 13,
    "start_time": "2022-02-23T17:25:35.759Z"
   },
   {
    "duration": 21,
    "start_time": "2022-02-23T17:25:35.773Z"
   },
   {
    "duration": 25,
    "start_time": "2022-02-23T17:25:35.796Z"
   },
   {
    "duration": 29,
    "start_time": "2022-02-23T17:25:35.823Z"
   },
   {
    "duration": 8179,
    "start_time": "2022-02-23T17:27:13.367Z"
   },
   {
    "duration": 37,
    "start_time": "2022-02-23T17:27:21.548Z"
   },
   {
    "duration": 6,
    "start_time": "2022-02-23T17:27:21.587Z"
   },
   {
    "duration": 20,
    "start_time": "2022-02-23T17:27:21.595Z"
   },
   {
    "duration": 17,
    "start_time": "2022-02-23T17:27:21.617Z"
   },
   {
    "duration": 24,
    "start_time": "2022-02-23T17:27:21.636Z"
   },
   {
    "duration": 7,
    "start_time": "2022-02-23T17:27:21.662Z"
   },
   {
    "duration": 11,
    "start_time": "2022-02-23T17:27:21.672Z"
   },
   {
    "duration": 15,
    "start_time": "2022-02-23T17:27:21.685Z"
   },
   {
    "duration": 7,
    "start_time": "2022-02-23T17:27:21.701Z"
   },
   {
    "duration": 10,
    "start_time": "2022-02-23T17:27:21.710Z"
   },
   {
    "duration": 38,
    "start_time": "2022-02-23T17:27:21.722Z"
   },
   {
    "duration": 5,
    "start_time": "2022-02-23T17:27:21.761Z"
   },
   {
    "duration": 12,
    "start_time": "2022-02-23T17:27:21.767Z"
   },
   {
    "duration": 16,
    "start_time": "2022-02-23T17:27:21.781Z"
   },
   {
    "duration": 14,
    "start_time": "2022-02-23T17:27:21.798Z"
   },
   {
    "duration": 17,
    "start_time": "2022-02-23T17:27:21.814Z"
   },
   {
    "duration": 34,
    "start_time": "2022-02-23T17:27:21.833Z"
   },
   {
    "duration": 25,
    "start_time": "2022-02-23T17:27:21.869Z"
   },
   {
    "duration": 13,
    "start_time": "2022-02-23T17:27:21.896Z"
   },
   {
    "duration": 9,
    "start_time": "2022-02-23T17:27:21.911Z"
   },
   {
    "duration": 5,
    "start_time": "2022-02-23T17:27:21.922Z"
   },
   {
    "duration": 4,
    "start_time": "2022-02-23T17:27:21.971Z"
   },
   {
    "duration": 24,
    "start_time": "2022-02-23T17:27:21.977Z"
   },
   {
    "duration": 27,
    "start_time": "2022-02-23T17:27:22.003Z"
   },
   {
    "duration": 12,
    "start_time": "2022-02-23T17:27:22.031Z"
   },
   {
    "duration": 699,
    "start_time": "2022-02-23T17:27:22.045Z"
   },
   {
    "duration": 18,
    "start_time": "2022-02-23T17:27:22.746Z"
   },
   {
    "duration": 8,
    "start_time": "2022-02-23T17:27:22.766Z"
   },
   {
    "duration": 569,
    "start_time": "2022-02-23T17:27:22.775Z"
   },
   {
    "duration": 531,
    "start_time": "2022-02-23T17:27:23.346Z"
   },
   {
    "duration": 530,
    "start_time": "2022-02-23T17:27:23.878Z"
   },
   {
    "duration": 323,
    "start_time": "2022-02-23T17:27:24.410Z"
   },
   {
    "duration": 2348,
    "start_time": "2022-02-23T17:27:24.735Z"
   },
   {
    "duration": 7,
    "start_time": "2022-02-23T17:27:27.085Z"
   },
   {
    "duration": 10,
    "start_time": "2022-02-23T17:27:27.094Z"
   },
   {
    "duration": 18,
    "start_time": "2022-02-23T17:27:27.105Z"
   },
   {
    "duration": 397,
    "start_time": "2022-02-23T17:27:27.124Z"
   },
   {
    "duration": 9,
    "start_time": "2022-02-23T17:27:27.523Z"
   },
   {
    "duration": 38,
    "start_time": "2022-02-23T17:27:27.533Z"
   },
   {
    "duration": 23,
    "start_time": "2022-02-23T17:27:27.573Z"
   },
   {
    "duration": 21,
    "start_time": "2022-02-23T17:27:27.597Z"
   },
   {
    "duration": 10,
    "start_time": "2022-02-23T17:27:27.620Z"
   },
   {
    "duration": 6,
    "start_time": "2022-02-23T17:27:27.660Z"
   },
   {
    "duration": 14,
    "start_time": "2022-02-23T17:27:27.669Z"
   },
   {
    "duration": 8,
    "start_time": "2022-02-23T17:27:27.685Z"
   },
   {
    "duration": 8243,
    "start_time": "2022-02-23T17:38:50.643Z"
   },
   {
    "duration": 36,
    "start_time": "2022-02-23T17:38:58.889Z"
   },
   {
    "duration": 5,
    "start_time": "2022-02-23T17:38:58.927Z"
   },
   {
    "duration": 19,
    "start_time": "2022-02-23T17:38:58.934Z"
   },
   {
    "duration": 10,
    "start_time": "2022-02-23T17:38:58.955Z"
   },
   {
    "duration": 6,
    "start_time": "2022-02-23T17:38:58.966Z"
   },
   {
    "duration": 8,
    "start_time": "2022-02-23T17:38:58.973Z"
   },
   {
    "duration": 12,
    "start_time": "2022-02-23T17:38:58.982Z"
   },
   {
    "duration": 9,
    "start_time": "2022-02-23T17:38:58.996Z"
   },
   {
    "duration": 6,
    "start_time": "2022-02-23T17:38:59.007Z"
   },
   {
    "duration": 9,
    "start_time": "2022-02-23T17:38:59.014Z"
   },
   {
    "duration": 50,
    "start_time": "2022-02-23T17:38:59.024Z"
   },
   {
    "duration": 5,
    "start_time": "2022-02-23T17:38:59.076Z"
   },
   {
    "duration": 13,
    "start_time": "2022-02-23T17:38:59.082Z"
   },
   {
    "duration": 16,
    "start_time": "2022-02-23T17:38:59.097Z"
   },
   {
    "duration": 44,
    "start_time": "2022-02-23T17:38:59.115Z"
   },
   {
    "duration": 16,
    "start_time": "2022-02-23T17:38:59.160Z"
   },
   {
    "duration": 9,
    "start_time": "2022-02-23T17:38:59.177Z"
   },
   {
    "duration": 24,
    "start_time": "2022-02-23T17:38:59.187Z"
   },
   {
    "duration": 12,
    "start_time": "2022-02-23T17:38:59.212Z"
   },
   {
    "duration": 37,
    "start_time": "2022-02-23T17:38:59.226Z"
   },
   {
    "duration": 5,
    "start_time": "2022-02-23T17:38:59.264Z"
   },
   {
    "duration": 7,
    "start_time": "2022-02-23T17:38:59.271Z"
   },
   {
    "duration": 6,
    "start_time": "2022-02-23T17:38:59.280Z"
   },
   {
    "duration": 16,
    "start_time": "2022-02-23T17:38:59.288Z"
   },
   {
    "duration": 12,
    "start_time": "2022-02-23T17:38:59.305Z"
   },
   {
    "duration": 705,
    "start_time": "2022-02-23T17:38:59.320Z"
   },
   {
    "duration": 10,
    "start_time": "2022-02-23T17:39:00.028Z"
   },
   {
    "duration": 20,
    "start_time": "2022-02-23T17:39:00.040Z"
   },
   {
    "duration": 22,
    "start_time": "2022-02-23T17:39:00.062Z"
   },
   {
    "duration": 317,
    "start_time": "2022-02-23T17:39:00.086Z"
   },
   {
    "duration": 12,
    "start_time": "2022-02-23T17:39:00.393Z"
   },
   {
    "duration": 1,
    "start_time": "2022-02-23T17:39:00.405Z"
   },
   {
    "duration": -3,
    "start_time": "2022-02-23T17:39:00.410Z"
   },
   {
    "duration": -6,
    "start_time": "2022-02-23T17:39:00.414Z"
   },
   {
    "duration": -8,
    "start_time": "2022-02-23T17:39:00.417Z"
   },
   {
    "duration": -9,
    "start_time": "2022-02-23T17:39:00.420Z"
   },
   {
    "duration": -13,
    "start_time": "2022-02-23T17:39:00.425Z"
   },
   {
    "duration": -16,
    "start_time": "2022-02-23T17:39:00.429Z"
   },
   {
    "duration": -19,
    "start_time": "2022-02-23T17:39:00.433Z"
   },
   {
    "duration": -21,
    "start_time": "2022-02-23T17:39:00.436Z"
   },
   {
    "duration": -23,
    "start_time": "2022-02-23T17:39:00.440Z"
   },
   {
    "duration": -26,
    "start_time": "2022-02-23T17:39:00.444Z"
   },
   {
    "duration": -28,
    "start_time": "2022-02-23T17:39:00.447Z"
   },
   {
    "duration": -32,
    "start_time": "2022-02-23T17:39:00.452Z"
   },
   {
    "duration": 13,
    "start_time": "2022-02-23T17:39:52.915Z"
   },
   {
    "duration": 171,
    "start_time": "2022-02-23T17:43:53.671Z"
   },
   {
    "duration": 8259,
    "start_time": "2022-02-23T17:44:03.274Z"
   },
   {
    "duration": 35,
    "start_time": "2022-02-23T17:44:11.536Z"
   },
   {
    "duration": 5,
    "start_time": "2022-02-23T17:44:11.573Z"
   },
   {
    "duration": 20,
    "start_time": "2022-02-23T17:44:11.580Z"
   },
   {
    "duration": 10,
    "start_time": "2022-02-23T17:44:11.602Z"
   },
   {
    "duration": 4,
    "start_time": "2022-02-23T17:44:11.614Z"
   },
   {
    "duration": 7,
    "start_time": "2022-02-23T17:44:11.620Z"
   },
   {
    "duration": 34,
    "start_time": "2022-02-23T17:44:11.629Z"
   },
   {
    "duration": 9,
    "start_time": "2022-02-23T17:44:11.665Z"
   },
   {
    "duration": 8,
    "start_time": "2022-02-23T17:44:11.676Z"
   },
   {
    "duration": 9,
    "start_time": "2022-02-23T17:44:11.686Z"
   },
   {
    "duration": 22,
    "start_time": "2022-02-23T17:44:11.696Z"
   },
   {
    "duration": 5,
    "start_time": "2022-02-23T17:44:11.720Z"
   },
   {
    "duration": 37,
    "start_time": "2022-02-23T17:44:11.726Z"
   },
   {
    "duration": 13,
    "start_time": "2022-02-23T17:44:11.764Z"
   },
   {
    "duration": 17,
    "start_time": "2022-02-23T17:44:11.778Z"
   },
   {
    "duration": 22,
    "start_time": "2022-02-23T17:44:11.797Z"
   },
   {
    "duration": 17,
    "start_time": "2022-02-23T17:44:11.821Z"
   },
   {
    "duration": 48,
    "start_time": "2022-02-23T17:44:11.839Z"
   },
   {
    "duration": 18,
    "start_time": "2022-02-23T17:44:11.889Z"
   },
   {
    "duration": 15,
    "start_time": "2022-02-23T17:44:11.908Z"
   },
   {
    "duration": 9,
    "start_time": "2022-02-23T17:44:11.925Z"
   },
   {
    "duration": 6,
    "start_time": "2022-02-23T17:44:11.938Z"
   },
   {
    "duration": 13,
    "start_time": "2022-02-23T17:44:11.946Z"
   },
   {
    "duration": 28,
    "start_time": "2022-02-23T17:44:11.961Z"
   },
   {
    "duration": 14,
    "start_time": "2022-02-23T17:44:11.991Z"
   },
   {
    "duration": 679,
    "start_time": "2022-02-23T17:44:12.006Z"
   },
   {
    "duration": 10,
    "start_time": "2022-02-23T17:44:12.687Z"
   },
   {
    "duration": 18,
    "start_time": "2022-02-23T17:44:12.699Z"
   },
   {
    "duration": 267,
    "start_time": "2022-02-23T17:44:12.719Z"
   },
   {
    "duration": 97,
    "start_time": "2022-02-23T17:44:12.891Z"
   },
   {
    "duration": 94,
    "start_time": "2022-02-23T17:44:12.895Z"
   },
   {
    "duration": 89,
    "start_time": "2022-02-23T17:44:12.901Z"
   },
   {
    "duration": 86,
    "start_time": "2022-02-23T17:44:12.905Z"
   },
   {
    "duration": 83,
    "start_time": "2022-02-23T17:44:12.909Z"
   },
   {
    "duration": 80,
    "start_time": "2022-02-23T17:44:12.913Z"
   },
   {
    "duration": 78,
    "start_time": "2022-02-23T17:44:12.916Z"
   },
   {
    "duration": 74,
    "start_time": "2022-02-23T17:44:12.921Z"
   },
   {
    "duration": 72,
    "start_time": "2022-02-23T17:44:12.924Z"
   },
   {
    "duration": 66,
    "start_time": "2022-02-23T17:44:12.931Z"
   },
   {
    "duration": 63,
    "start_time": "2022-02-23T17:44:12.935Z"
   },
   {
    "duration": 60,
    "start_time": "2022-02-23T17:44:12.939Z"
   },
   {
    "duration": 58,
    "start_time": "2022-02-23T17:44:12.942Z"
   },
   {
    "duration": 55,
    "start_time": "2022-02-23T17:44:12.946Z"
   },
   {
    "duration": 53,
    "start_time": "2022-02-23T17:44:12.949Z"
   },
   {
    "duration": 48,
    "start_time": "2022-02-23T17:44:12.955Z"
   },
   {
    "duration": 8633,
    "start_time": "2022-02-23T17:44:30.485Z"
   },
   {
    "duration": 36,
    "start_time": "2022-02-23T17:44:39.121Z"
   },
   {
    "duration": 6,
    "start_time": "2022-02-23T17:44:39.160Z"
   },
   {
    "duration": 18,
    "start_time": "2022-02-23T17:44:39.168Z"
   },
   {
    "duration": 9,
    "start_time": "2022-02-23T17:44:39.188Z"
   },
   {
    "duration": 5,
    "start_time": "2022-02-23T17:44:39.199Z"
   },
   {
    "duration": 7,
    "start_time": "2022-02-23T17:44:39.205Z"
   },
   {
    "duration": 8,
    "start_time": "2022-02-23T17:44:39.214Z"
   },
   {
    "duration": 42,
    "start_time": "2022-02-23T17:44:39.224Z"
   },
   {
    "duration": 8,
    "start_time": "2022-02-23T17:44:39.268Z"
   },
   {
    "duration": 7,
    "start_time": "2022-02-23T17:44:39.278Z"
   },
   {
    "duration": 23,
    "start_time": "2022-02-23T17:44:39.287Z"
   },
   {
    "duration": 6,
    "start_time": "2022-02-23T17:44:39.312Z"
   },
   {
    "duration": 12,
    "start_time": "2022-02-23T17:44:39.319Z"
   },
   {
    "duration": 36,
    "start_time": "2022-02-23T17:44:39.332Z"
   },
   {
    "duration": 13,
    "start_time": "2022-02-23T17:44:39.370Z"
   },
   {
    "duration": 18,
    "start_time": "2022-02-23T17:44:39.385Z"
   },
   {
    "duration": 8,
    "start_time": "2022-02-23T17:44:39.405Z"
   },
   {
    "duration": 23,
    "start_time": "2022-02-23T17:44:39.414Z"
   },
   {
    "duration": 14,
    "start_time": "2022-02-23T17:44:39.459Z"
   },
   {
    "duration": 7,
    "start_time": "2022-02-23T17:44:39.474Z"
   },
   {
    "duration": 5,
    "start_time": "2022-02-23T17:44:39.483Z"
   },
   {
    "duration": 4,
    "start_time": "2022-02-23T17:44:39.491Z"
   },
   {
    "duration": 9,
    "start_time": "2022-02-23T17:44:39.497Z"
   },
   {
    "duration": 22,
    "start_time": "2022-02-23T17:44:39.508Z"
   },
   {
    "duration": 12,
    "start_time": "2022-02-23T17:44:39.559Z"
   },
   {
    "duration": 652,
    "start_time": "2022-02-23T17:44:39.572Z"
   },
   {
    "duration": 12,
    "start_time": "2022-02-23T17:44:40.226Z"
   },
   {
    "duration": 22,
    "start_time": "2022-02-23T17:44:40.240Z"
   },
   {
    "duration": 13,
    "start_time": "2022-02-23T17:44:40.264Z"
   },
   {
    "duration": 4,
    "start_time": "2022-02-23T17:44:40.279Z"
   },
   {
    "duration": 484,
    "start_time": "2022-02-23T17:44:40.285Z"
   },
   {
    "duration": 306,
    "start_time": "2022-02-23T17:44:40.771Z"
   },
   {
    "duration": 2432,
    "start_time": "2022-02-23T17:44:41.079Z"
   },
   {
    "duration": 8,
    "start_time": "2022-02-23T17:44:43.513Z"
   },
   {
    "duration": 10,
    "start_time": "2022-02-23T17:44:43.523Z"
   },
   {
    "duration": 36,
    "start_time": "2022-02-23T17:44:43.534Z"
   },
   {
    "duration": 361,
    "start_time": "2022-02-23T17:44:43.572Z"
   },
   {
    "duration": 9,
    "start_time": "2022-02-23T17:44:43.935Z"
   },
   {
    "duration": 36,
    "start_time": "2022-02-23T17:44:43.945Z"
   },
   {
    "duration": 21,
    "start_time": "2022-02-23T17:44:43.983Z"
   },
   {
    "duration": 22,
    "start_time": "2022-02-23T17:44:44.006Z"
   },
   {
    "duration": 38,
    "start_time": "2022-02-23T17:44:44.030Z"
   },
   {
    "duration": 6,
    "start_time": "2022-02-23T17:44:44.070Z"
   },
   {
    "duration": 15,
    "start_time": "2022-02-23T17:44:44.078Z"
   },
   {
    "duration": 7,
    "start_time": "2022-02-23T17:44:44.095Z"
   },
   {
    "duration": 10,
    "start_time": "2022-02-23T17:45:15.960Z"
   },
   {
    "duration": 12,
    "start_time": "2022-02-23T17:49:36.994Z"
   },
   {
    "duration": 272,
    "start_time": "2022-02-23T17:56:27.409Z"
   },
   {
    "duration": 8287,
    "start_time": "2022-02-23T17:56:44.769Z"
   },
   {
    "duration": 39,
    "start_time": "2022-02-23T17:56:53.058Z"
   },
   {
    "duration": 7,
    "start_time": "2022-02-23T17:56:53.099Z"
   },
   {
    "duration": 24,
    "start_time": "2022-02-23T17:56:53.108Z"
   },
   {
    "duration": 14,
    "start_time": "2022-02-23T17:56:53.134Z"
   },
   {
    "duration": 5,
    "start_time": "2022-02-23T17:56:53.158Z"
   },
   {
    "duration": 12,
    "start_time": "2022-02-23T17:56:53.165Z"
   },
   {
    "duration": 7,
    "start_time": "2022-02-23T17:56:53.180Z"
   },
   {
    "duration": 8,
    "start_time": "2022-02-23T17:56:53.189Z"
   },
   {
    "duration": 7,
    "start_time": "2022-02-23T17:56:53.198Z"
   },
   {
    "duration": 10,
    "start_time": "2022-02-23T17:56:53.206Z"
   },
   {
    "duration": 52,
    "start_time": "2022-02-23T17:56:53.218Z"
   },
   {
    "duration": 6,
    "start_time": "2022-02-23T17:56:53.272Z"
   },
   {
    "duration": 12,
    "start_time": "2022-02-23T17:56:53.280Z"
   },
   {
    "duration": 11,
    "start_time": "2022-02-23T17:56:53.294Z"
   },
   {
    "duration": 13,
    "start_time": "2022-02-23T17:56:53.307Z"
   },
   {
    "duration": 42,
    "start_time": "2022-02-23T17:56:53.322Z"
   },
   {
    "duration": 9,
    "start_time": "2022-02-23T17:56:53.366Z"
   },
   {
    "duration": 24,
    "start_time": "2022-02-23T17:56:53.376Z"
   },
   {
    "duration": 14,
    "start_time": "2022-02-23T17:56:53.401Z"
   },
   {
    "duration": 7,
    "start_time": "2022-02-23T17:56:53.416Z"
   },
   {
    "duration": 35,
    "start_time": "2022-02-23T17:56:53.425Z"
   },
   {
    "duration": 4,
    "start_time": "2022-02-23T17:56:53.464Z"
   },
   {
    "duration": 7,
    "start_time": "2022-02-23T17:56:53.470Z"
   },
   {
    "duration": 21,
    "start_time": "2022-02-23T17:56:53.479Z"
   },
   {
    "duration": 10,
    "start_time": "2022-02-23T17:56:53.501Z"
   },
   {
    "duration": 708,
    "start_time": "2022-02-23T17:56:53.513Z"
   },
   {
    "duration": 9,
    "start_time": "2022-02-23T17:56:54.222Z"
   },
   {
    "duration": 7,
    "start_time": "2022-02-23T17:56:54.233Z"
   },
   {
    "duration": 25,
    "start_time": "2022-02-23T17:56:54.242Z"
   },
   {
    "duration": 10,
    "start_time": "2022-02-23T17:56:54.269Z"
   },
   {
    "duration": 16,
    "start_time": "2022-02-23T17:56:54.280Z"
   },
   {
    "duration": 268,
    "start_time": "2022-02-23T17:56:54.298Z"
   },
   {
    "duration": 38,
    "start_time": "2022-02-23T17:56:54.530Z"
   },
   {
    "duration": 35,
    "start_time": "2022-02-23T17:56:54.535Z"
   },
   {
    "duration": 29,
    "start_time": "2022-02-23T17:56:54.542Z"
   },
   {
    "duration": 25,
    "start_time": "2022-02-23T17:56:54.547Z"
   },
   {
    "duration": 22,
    "start_time": "2022-02-23T17:56:54.551Z"
   },
   {
    "duration": 18,
    "start_time": "2022-02-23T17:56:54.556Z"
   },
   {
    "duration": 16,
    "start_time": "2022-02-23T17:56:54.560Z"
   },
   {
    "duration": 12,
    "start_time": "2022-02-23T17:56:54.565Z"
   },
   {
    "duration": 9,
    "start_time": "2022-02-23T17:56:54.569Z"
   },
   {
    "duration": 7,
    "start_time": "2022-02-23T17:56:54.572Z"
   },
   {
    "duration": 4,
    "start_time": "2022-02-23T17:56:54.576Z"
   },
   {
    "duration": 1,
    "start_time": "2022-02-23T17:56:54.579Z"
   },
   {
    "duration": -1,
    "start_time": "2022-02-23T17:56:54.582Z"
   },
   {
    "duration": -3,
    "start_time": "2022-02-23T17:56:54.585Z"
   },
   {
    "duration": -5,
    "start_time": "2022-02-23T17:56:54.588Z"
   },
   {
    "duration": 280,
    "start_time": "2022-02-23T17:57:11.196Z"
   },
   {
    "duration": 13,
    "start_time": "2022-02-23T17:57:53.006Z"
   },
   {
    "duration": 11,
    "start_time": "2022-02-23T17:57:53.943Z"
   },
   {
    "duration": 8341,
    "start_time": "2022-02-23T17:58:03.078Z"
   },
   {
    "duration": 38,
    "start_time": "2022-02-23T17:58:11.421Z"
   },
   {
    "duration": 6,
    "start_time": "2022-02-23T17:58:11.461Z"
   },
   {
    "duration": 23,
    "start_time": "2022-02-23T17:58:11.469Z"
   },
   {
    "duration": 12,
    "start_time": "2022-02-23T17:58:11.494Z"
   },
   {
    "duration": 11,
    "start_time": "2022-02-23T17:58:11.508Z"
   },
   {
    "duration": 7,
    "start_time": "2022-02-23T17:58:11.520Z"
   },
   {
    "duration": 33,
    "start_time": "2022-02-23T17:58:11.530Z"
   },
   {
    "duration": 8,
    "start_time": "2022-02-23T17:58:11.565Z"
   },
   {
    "duration": 8,
    "start_time": "2022-02-23T17:58:11.575Z"
   },
   {
    "duration": 10,
    "start_time": "2022-02-23T17:58:11.585Z"
   },
   {
    "duration": 19,
    "start_time": "2022-02-23T17:58:11.596Z"
   },
   {
    "duration": 4,
    "start_time": "2022-02-23T17:58:11.617Z"
   },
   {
    "duration": 37,
    "start_time": "2022-02-23T17:58:11.623Z"
   },
   {
    "duration": 13,
    "start_time": "2022-02-23T17:58:11.662Z"
   },
   {
    "duration": 15,
    "start_time": "2022-02-23T17:58:11.677Z"
   },
   {
    "duration": 16,
    "start_time": "2022-02-23T17:58:11.694Z"
   },
   {
    "duration": 9,
    "start_time": "2022-02-23T17:58:11.712Z"
   },
   {
    "duration": 20,
    "start_time": "2022-02-23T17:58:11.759Z"
   },
   {
    "duration": 13,
    "start_time": "2022-02-23T17:58:11.780Z"
   },
   {
    "duration": 7,
    "start_time": "2022-02-23T17:58:11.795Z"
   },
   {
    "duration": 5,
    "start_time": "2022-02-23T17:58:11.804Z"
   },
   {
    "duration": 4,
    "start_time": "2022-02-23T17:58:11.812Z"
   },
   {
    "duration": 42,
    "start_time": "2022-02-23T17:58:11.818Z"
   },
   {
    "duration": 16,
    "start_time": "2022-02-23T17:58:11.861Z"
   },
   {
    "duration": 11,
    "start_time": "2022-02-23T17:58:11.879Z"
   },
   {
    "duration": 690,
    "start_time": "2022-02-23T17:58:11.892Z"
   },
   {
    "duration": 11,
    "start_time": "2022-02-23T17:58:12.583Z"
   },
   {
    "duration": 19,
    "start_time": "2022-02-23T17:58:12.595Z"
   },
   {
    "duration": 12,
    "start_time": "2022-02-23T17:58:12.616Z"
   },
   {
    "duration": 39,
    "start_time": "2022-02-23T17:58:12.630Z"
   },
   {
    "duration": 377,
    "start_time": "2022-02-23T17:58:12.672Z"
   },
   {
    "duration": 469,
    "start_time": "2022-02-23T17:58:13.051Z"
   },
   {
    "duration": 337,
    "start_time": "2022-02-23T17:58:13.522Z"
   },
   {
    "duration": 2650,
    "start_time": "2022-02-23T17:58:13.861Z"
   },
   {
    "duration": 10,
    "start_time": "2022-02-23T17:58:16.513Z"
   },
   {
    "duration": 10,
    "start_time": "2022-02-23T17:58:16.525Z"
   },
   {
    "duration": 37,
    "start_time": "2022-02-23T17:58:16.537Z"
   },
   {
    "duration": 385,
    "start_time": "2022-02-23T17:58:16.576Z"
   },
   {
    "duration": 9,
    "start_time": "2022-02-23T17:58:16.963Z"
   },
   {
    "duration": 34,
    "start_time": "2022-02-23T17:58:16.974Z"
   },
   {
    "duration": 26,
    "start_time": "2022-02-23T17:58:17.011Z"
   },
   {
    "duration": 39,
    "start_time": "2022-02-23T17:58:17.040Z"
   },
   {
    "duration": 12,
    "start_time": "2022-02-23T17:58:17.080Z"
   },
   {
    "duration": 17,
    "start_time": "2022-02-23T17:58:17.094Z"
   },
   {
    "duration": 18,
    "start_time": "2022-02-23T17:58:17.113Z"
   },
   {
    "duration": 31,
    "start_time": "2022-02-23T17:58:17.133Z"
   },
   {
    "duration": 505,
    "start_time": "2022-02-23T18:52:58.243Z"
   },
   {
    "duration": 8351,
    "start_time": "2022-02-23T18:55:48.976Z"
   },
   {
    "duration": 37,
    "start_time": "2022-02-23T18:55:57.330Z"
   },
   {
    "duration": 6,
    "start_time": "2022-02-23T18:55:57.369Z"
   },
   {
    "duration": 21,
    "start_time": "2022-02-23T18:55:57.377Z"
   },
   {
    "duration": 19,
    "start_time": "2022-02-23T18:55:57.400Z"
   },
   {
    "duration": 6,
    "start_time": "2022-02-23T18:55:57.421Z"
   },
   {
    "duration": 9,
    "start_time": "2022-02-23T18:55:57.429Z"
   },
   {
    "duration": 8,
    "start_time": "2022-02-23T18:55:57.461Z"
   },
   {
    "duration": 12,
    "start_time": "2022-02-23T18:55:57.472Z"
   },
   {
    "duration": 7,
    "start_time": "2022-02-23T18:55:57.486Z"
   },
   {
    "duration": 12,
    "start_time": "2022-02-23T18:55:57.495Z"
   },
   {
    "duration": 22,
    "start_time": "2022-02-23T18:55:57.509Z"
   },
   {
    "duration": 30,
    "start_time": "2022-02-23T18:55:57.533Z"
   },
   {
    "duration": 18,
    "start_time": "2022-02-23T18:55:57.564Z"
   },
   {
    "duration": 18,
    "start_time": "2022-02-23T18:55:57.584Z"
   },
   {
    "duration": 14,
    "start_time": "2022-02-23T18:55:57.604Z"
   },
   {
    "duration": 27,
    "start_time": "2022-02-23T18:55:57.620Z"
   },
   {
    "duration": 18,
    "start_time": "2022-02-23T18:55:57.650Z"
   },
   {
    "duration": 23,
    "start_time": "2022-02-23T18:55:57.670Z"
   },
   {
    "duration": 14,
    "start_time": "2022-02-23T18:55:57.695Z"
   },
   {
    "duration": 7,
    "start_time": "2022-02-23T18:55:57.710Z"
   },
   {
    "duration": 4,
    "start_time": "2022-02-23T18:55:57.719Z"
   },
   {
    "duration": 4,
    "start_time": "2022-02-23T18:55:57.759Z"
   },
   {
    "duration": 6,
    "start_time": "2022-02-23T18:55:57.765Z"
   },
   {
    "duration": 18,
    "start_time": "2022-02-23T18:55:57.772Z"
   },
   {
    "duration": 12,
    "start_time": "2022-02-23T18:55:57.792Z"
   },
   {
    "duration": 720,
    "start_time": "2022-02-23T18:55:57.806Z"
   },
   {
    "duration": 10,
    "start_time": "2022-02-23T18:55:58.528Z"
   },
   {
    "duration": 28,
    "start_time": "2022-02-23T18:55:58.540Z"
   },
   {
    "duration": 12,
    "start_time": "2022-02-23T18:55:58.570Z"
   },
   {
    "duration": 14,
    "start_time": "2022-02-23T18:55:58.583Z"
   },
   {
    "duration": 371,
    "start_time": "2022-02-23T18:55:58.598Z"
   },
   {
    "duration": 678,
    "start_time": "2022-02-23T18:55:58.971Z"
   },
   {
    "duration": 4798,
    "start_time": "2022-02-23T18:55:59.651Z"
   },
   {
    "duration": -123,
    "start_time": "2022-02-23T18:56:04.574Z"
   },
   {
    "duration": -139,
    "start_time": "2022-02-23T18:56:04.592Z"
   },
   {
    "duration": -153,
    "start_time": "2022-02-23T18:56:04.607Z"
   },
   {
    "duration": -159,
    "start_time": "2022-02-23T18:56:04.615Z"
   },
   {
    "duration": -163,
    "start_time": "2022-02-23T18:56:04.620Z"
   },
   {
    "duration": -168,
    "start_time": "2022-02-23T18:56:04.627Z"
   },
   {
    "duration": -170,
    "start_time": "2022-02-23T18:56:04.630Z"
   },
   {
    "duration": -174,
    "start_time": "2022-02-23T18:56:04.636Z"
   },
   {
    "duration": -179,
    "start_time": "2022-02-23T18:56:04.642Z"
   },
   {
    "duration": -181,
    "start_time": "2022-02-23T18:56:04.646Z"
   },
   {
    "duration": -183,
    "start_time": "2022-02-23T18:56:04.649Z"
   },
   {
    "duration": -191,
    "start_time": "2022-02-23T18:56:04.658Z"
   },
   {
    "duration": -194,
    "start_time": "2022-02-23T18:56:04.662Z"
   },
   {
    "duration": 4600,
    "start_time": "2022-02-28T16:42:07.510Z"
   },
   {
    "duration": 36,
    "start_time": "2022-02-28T16:42:12.112Z"
   },
   {
    "duration": 6,
    "start_time": "2022-02-28T16:42:12.150Z"
   },
   {
    "duration": 19,
    "start_time": "2022-02-28T16:42:12.158Z"
   },
   {
    "duration": 22,
    "start_time": "2022-02-28T16:42:12.179Z"
   },
   {
    "duration": 5,
    "start_time": "2022-02-28T16:42:12.203Z"
   },
   {
    "duration": 15,
    "start_time": "2022-02-28T16:42:12.210Z"
   },
   {
    "duration": 10,
    "start_time": "2022-02-28T16:42:12.227Z"
   },
   {
    "duration": 12,
    "start_time": "2022-02-28T16:42:12.240Z"
   },
   {
    "duration": 6,
    "start_time": "2022-02-28T16:42:12.255Z"
   },
   {
    "duration": 14,
    "start_time": "2022-02-28T16:42:12.263Z"
   },
   {
    "duration": 41,
    "start_time": "2022-02-28T16:42:12.278Z"
   },
   {
    "duration": 5,
    "start_time": "2022-02-28T16:42:12.320Z"
   },
   {
    "duration": 12,
    "start_time": "2022-02-28T16:42:12.327Z"
   },
   {
    "duration": 17,
    "start_time": "2022-02-28T16:42:12.340Z"
   },
   {
    "duration": 42,
    "start_time": "2022-02-28T16:42:12.359Z"
   },
   {
    "duration": 16,
    "start_time": "2022-02-28T16:42:12.403Z"
   },
   {
    "duration": 9,
    "start_time": "2022-02-28T16:42:12.420Z"
   },
   {
    "duration": 25,
    "start_time": "2022-02-28T16:42:12.431Z"
   },
   {
    "duration": 18,
    "start_time": "2022-02-28T16:42:12.458Z"
   },
   {
    "duration": 9,
    "start_time": "2022-02-28T16:42:12.502Z"
   },
   {
    "duration": 10,
    "start_time": "2022-02-28T16:42:12.512Z"
   },
   {
    "duration": 10,
    "start_time": "2022-02-28T16:42:12.524Z"
   },
   {
    "duration": 7,
    "start_time": "2022-02-28T16:42:12.536Z"
   },
   {
    "duration": 20,
    "start_time": "2022-02-28T16:42:12.545Z"
   },
   {
    "duration": 38,
    "start_time": "2022-02-28T16:42:12.566Z"
   },
   {
    "duration": 666,
    "start_time": "2022-02-28T16:42:12.607Z"
   },
   {
    "duration": 11,
    "start_time": "2022-02-28T16:42:13.275Z"
   },
   {
    "duration": 27,
    "start_time": "2022-02-28T16:42:13.287Z"
   },
   {
    "duration": 12,
    "start_time": "2022-02-28T16:42:13.316Z"
   },
   {
    "duration": 30,
    "start_time": "2022-02-28T16:42:13.329Z"
   },
   {
    "duration": 424,
    "start_time": "2022-02-28T16:42:13.360Z"
   },
   {
    "duration": 724,
    "start_time": "2022-02-28T16:42:13.785Z"
   },
   {
    "duration": 5944,
    "start_time": "2022-02-28T16:42:14.510Z"
   },
   {
    "duration": -116,
    "start_time": "2022-02-28T16:42:20.573Z"
   },
   {
    "duration": -120,
    "start_time": "2022-02-28T16:42:20.578Z"
   },
   {
    "duration": -188,
    "start_time": "2022-02-28T16:42:20.647Z"
   },
   {
    "duration": -194,
    "start_time": "2022-02-28T16:42:20.654Z"
   },
   {
    "duration": -198,
    "start_time": "2022-02-28T16:42:20.659Z"
   },
   {
    "duration": -202,
    "start_time": "2022-02-28T16:42:20.664Z"
   },
   {
    "duration": -206,
    "start_time": "2022-02-28T16:42:20.669Z"
   },
   {
    "duration": -210,
    "start_time": "2022-02-28T16:42:20.674Z"
   },
   {
    "duration": -213,
    "start_time": "2022-02-28T16:42:20.678Z"
   },
   {
    "duration": -223,
    "start_time": "2022-02-28T16:42:20.689Z"
   },
   {
    "duration": -229,
    "start_time": "2022-02-28T16:42:20.695Z"
   },
   {
    "duration": -233,
    "start_time": "2022-02-28T16:42:20.700Z"
   },
   {
    "duration": -236,
    "start_time": "2022-02-28T16:42:20.704Z"
   },
   {
    "duration": 3835,
    "start_time": "2022-02-28T16:44:18.638Z"
   },
   {
    "duration": 44,
    "start_time": "2022-02-28T16:44:22.475Z"
   },
   {
    "duration": 6,
    "start_time": "2022-02-28T16:44:22.521Z"
   },
   {
    "duration": 23,
    "start_time": "2022-02-28T16:44:22.529Z"
   },
   {
    "duration": 11,
    "start_time": "2022-02-28T16:44:22.554Z"
   },
   {
    "duration": 7,
    "start_time": "2022-02-28T16:44:22.567Z"
   },
   {
    "duration": 26,
    "start_time": "2022-02-28T16:44:22.576Z"
   },
   {
    "duration": 9,
    "start_time": "2022-02-28T16:44:22.605Z"
   },
   {
    "duration": 13,
    "start_time": "2022-02-28T16:44:22.617Z"
   },
   {
    "duration": 13,
    "start_time": "2022-02-28T16:44:22.632Z"
   },
   {
    "duration": 16,
    "start_time": "2022-02-28T16:44:22.647Z"
   },
   {
    "duration": 42,
    "start_time": "2022-02-28T16:44:22.665Z"
   },
   {
    "duration": 5,
    "start_time": "2022-02-28T16:44:22.709Z"
   },
   {
    "duration": 21,
    "start_time": "2022-02-28T16:44:22.716Z"
   },
   {
    "duration": 19,
    "start_time": "2022-02-28T16:44:22.739Z"
   },
   {
    "duration": 14,
    "start_time": "2022-02-28T16:44:22.761Z"
   },
   {
    "duration": 16,
    "start_time": "2022-02-28T16:44:22.801Z"
   },
   {
    "duration": 12,
    "start_time": "2022-02-28T16:44:22.819Z"
   },
   {
    "duration": 33,
    "start_time": "2022-02-28T16:44:22.833Z"
   },
   {
    "duration": 40,
    "start_time": "2022-02-28T16:44:22.868Z"
   },
   {
    "duration": 10,
    "start_time": "2022-02-28T16:44:22.911Z"
   },
   {
    "duration": 6,
    "start_time": "2022-02-28T16:44:22.923Z"
   },
   {
    "duration": 5,
    "start_time": "2022-02-28T16:44:22.934Z"
   },
   {
    "duration": 18,
    "start_time": "2022-02-28T16:44:22.942Z"
   },
   {
    "duration": 58,
    "start_time": "2022-02-28T16:44:22.962Z"
   },
   {
    "duration": 13,
    "start_time": "2022-02-28T16:44:23.023Z"
   },
   {
    "duration": 711,
    "start_time": "2022-02-28T16:44:23.039Z"
   },
   {
    "duration": 11,
    "start_time": "2022-02-28T16:44:23.752Z"
   },
   {
    "duration": 35,
    "start_time": "2022-02-28T16:44:23.765Z"
   },
   {
    "duration": 13,
    "start_time": "2022-02-28T16:44:23.802Z"
   },
   {
    "duration": 14,
    "start_time": "2022-02-28T16:44:23.817Z"
   },
   {
    "duration": 377,
    "start_time": "2022-02-28T16:44:23.833Z"
   },
   {
    "duration": 734,
    "start_time": "2022-02-28T16:44:24.212Z"
   },
   {
    "duration": 3,
    "start_time": "2022-02-28T16:44:24.948Z"
   },
   {
    "duration": 79,
    "start_time": "2022-02-28T16:44:24.953Z"
   },
   {
    "duration": -163,
    "start_time": "2022-02-28T16:44:25.197Z"
   },
   {
    "duration": -170,
    "start_time": "2022-02-28T16:44:25.205Z"
   },
   {
    "duration": -177,
    "start_time": "2022-02-28T16:44:25.213Z"
   },
   {
    "duration": -182,
    "start_time": "2022-02-28T16:44:25.219Z"
   },
   {
    "duration": -187,
    "start_time": "2022-02-28T16:44:25.225Z"
   },
   {
    "duration": -188,
    "start_time": "2022-02-28T16:44:25.228Z"
   },
   {
    "duration": -192,
    "start_time": "2022-02-28T16:44:25.233Z"
   },
   {
    "duration": -195,
    "start_time": "2022-02-28T16:44:25.238Z"
   },
   {
    "duration": -197,
    "start_time": "2022-02-28T16:44:25.241Z"
   },
   {
    "duration": -274,
    "start_time": "2022-02-28T16:44:25.320Z"
   },
   {
    "duration": -301,
    "start_time": "2022-02-28T16:44:25.349Z"
   },
   {
    "duration": -306,
    "start_time": "2022-02-28T16:44:25.355Z"
   },
   {
    "duration": 3380,
    "start_time": "2022-02-28T16:44:41.898Z"
   },
   {
    "duration": 36,
    "start_time": "2022-02-28T16:44:45.280Z"
   },
   {
    "duration": 6,
    "start_time": "2022-02-28T16:44:45.319Z"
   },
   {
    "duration": 20,
    "start_time": "2022-02-28T16:44:45.327Z"
   },
   {
    "duration": 11,
    "start_time": "2022-02-28T16:44:45.349Z"
   },
   {
    "duration": 5,
    "start_time": "2022-02-28T16:44:45.362Z"
   },
   {
    "duration": 8,
    "start_time": "2022-02-28T16:44:45.369Z"
   },
   {
    "duration": 32,
    "start_time": "2022-02-28T16:44:45.379Z"
   },
   {
    "duration": 10,
    "start_time": "2022-02-28T16:44:45.414Z"
   },
   {
    "duration": 6,
    "start_time": "2022-02-28T16:44:45.426Z"
   },
   {
    "duration": 10,
    "start_time": "2022-02-28T16:44:45.434Z"
   },
   {
    "duration": 21,
    "start_time": "2022-02-28T16:44:45.446Z"
   },
   {
    "duration": 36,
    "start_time": "2022-02-28T16:44:45.468Z"
   },
   {
    "duration": 17,
    "start_time": "2022-02-28T16:44:45.509Z"
   },
   {
    "duration": 18,
    "start_time": "2022-02-28T16:44:45.528Z"
   },
   {
    "duration": 15,
    "start_time": "2022-02-28T16:44:45.548Z"
   },
   {
    "duration": 39,
    "start_time": "2022-02-28T16:44:45.566Z"
   },
   {
    "duration": 21,
    "start_time": "2022-02-28T16:44:45.607Z"
   },
   {
    "duration": 27,
    "start_time": "2022-02-28T16:44:45.630Z"
   },
   {
    "duration": 14,
    "start_time": "2022-02-28T16:44:45.658Z"
   },
   {
    "duration": 28,
    "start_time": "2022-02-28T16:44:45.673Z"
   },
   {
    "duration": 5,
    "start_time": "2022-02-28T16:44:45.703Z"
   },
   {
    "duration": 15,
    "start_time": "2022-02-28T16:44:45.710Z"
   },
   {
    "duration": 20,
    "start_time": "2022-02-28T16:44:45.727Z"
   },
   {
    "duration": 35,
    "start_time": "2022-02-28T16:44:45.748Z"
   },
   {
    "duration": 22,
    "start_time": "2022-02-28T16:44:45.785Z"
   },
   {
    "duration": 706,
    "start_time": "2022-02-28T16:44:45.811Z"
   },
   {
    "duration": 11,
    "start_time": "2022-02-28T16:44:46.520Z"
   },
   {
    "duration": 32,
    "start_time": "2022-02-28T16:44:46.532Z"
   },
   {
    "duration": 25,
    "start_time": "2022-02-28T16:44:46.566Z"
   },
   {
    "duration": 29,
    "start_time": "2022-02-28T16:44:46.592Z"
   },
   {
    "duration": 399,
    "start_time": "2022-02-28T16:44:46.622Z"
   },
   {
    "duration": 900,
    "start_time": "2022-02-28T16:44:47.022Z"
   },
   {
    "duration": 2,
    "start_time": "2022-02-28T16:44:47.924Z"
   },
   {
    "duration": 380,
    "start_time": "2022-02-28T16:44:47.927Z"
   },
   {
    "duration": -29,
    "start_time": "2022-02-28T16:44:48.338Z"
   },
   {
    "duration": -33,
    "start_time": "2022-02-28T16:44:48.343Z"
   },
   {
    "duration": -38,
    "start_time": "2022-02-28T16:44:48.349Z"
   },
   {
    "duration": -42,
    "start_time": "2022-02-28T16:44:48.354Z"
   },
   {
    "duration": -46,
    "start_time": "2022-02-28T16:44:48.359Z"
   },
   {
    "duration": -49,
    "start_time": "2022-02-28T16:44:48.363Z"
   },
   {
    "duration": -52,
    "start_time": "2022-02-28T16:44:48.367Z"
   },
   {
    "duration": -54,
    "start_time": "2022-02-28T16:44:48.370Z"
   },
   {
    "duration": -58,
    "start_time": "2022-02-28T16:44:48.375Z"
   },
   {
    "duration": -60,
    "start_time": "2022-02-28T16:44:48.378Z"
   },
   {
    "duration": -62,
    "start_time": "2022-02-28T16:44:48.381Z"
   },
   {
    "duration": -64,
    "start_time": "2022-02-28T16:44:48.384Z"
   },
   {
    "duration": 10,
    "start_time": "2022-02-28T16:45:33.871Z"
   },
   {
    "duration": 3773,
    "start_time": "2022-02-28T16:46:43.394Z"
   },
   {
    "duration": 38,
    "start_time": "2022-02-28T16:46:47.170Z"
   },
   {
    "duration": 6,
    "start_time": "2022-02-28T16:46:47.210Z"
   },
   {
    "duration": 22,
    "start_time": "2022-02-28T16:46:47.218Z"
   },
   {
    "duration": 12,
    "start_time": "2022-02-28T16:46:47.243Z"
   },
   {
    "duration": 8,
    "start_time": "2022-02-28T16:46:47.257Z"
   },
   {
    "duration": 35,
    "start_time": "2022-02-28T16:46:47.267Z"
   },
   {
    "duration": 9,
    "start_time": "2022-02-28T16:46:47.306Z"
   },
   {
    "duration": 11,
    "start_time": "2022-02-28T16:46:47.318Z"
   },
   {
    "duration": 9,
    "start_time": "2022-02-28T16:46:47.332Z"
   },
   {
    "duration": 11,
    "start_time": "2022-02-28T16:46:47.343Z"
   },
   {
    "duration": 57,
    "start_time": "2022-02-28T16:46:47.356Z"
   },
   {
    "duration": 5,
    "start_time": "2022-02-28T16:46:47.414Z"
   },
   {
    "duration": 14,
    "start_time": "2022-02-28T16:46:47.421Z"
   },
   {
    "duration": 17,
    "start_time": "2022-02-28T16:46:47.437Z"
   },
   {
    "duration": 14,
    "start_time": "2022-02-28T16:46:47.456Z"
   },
   {
    "duration": 16,
    "start_time": "2022-02-28T16:46:47.501Z"
   },
   {
    "duration": 9,
    "start_time": "2022-02-28T16:46:47.519Z"
   },
   {
    "duration": 23,
    "start_time": "2022-02-28T16:46:47.530Z"
   },
   {
    "duration": 52,
    "start_time": "2022-02-28T16:46:47.554Z"
   },
   {
    "duration": 9,
    "start_time": "2022-02-28T16:46:47.607Z"
   },
   {
    "duration": 6,
    "start_time": "2022-02-28T16:46:47.617Z"
   },
   {
    "duration": 5,
    "start_time": "2022-02-28T16:46:47.626Z"
   },
   {
    "duration": 11,
    "start_time": "2022-02-28T16:46:47.633Z"
   },
   {
    "duration": 60,
    "start_time": "2022-02-28T16:46:47.646Z"
   },
   {
    "duration": 13,
    "start_time": "2022-02-28T16:46:47.708Z"
   },
   {
    "duration": 725,
    "start_time": "2022-02-28T16:46:47.723Z"
   },
   {
    "duration": 11,
    "start_time": "2022-02-28T16:46:48.450Z"
   },
   {
    "duration": 16,
    "start_time": "2022-02-28T16:46:48.462Z"
   },
   {
    "duration": 33,
    "start_time": "2022-02-28T16:46:48.479Z"
   },
   {
    "duration": 18,
    "start_time": "2022-02-28T16:46:48.514Z"
   },
   {
    "duration": 388,
    "start_time": "2022-02-28T16:46:48.534Z"
   },
   {
    "duration": 799,
    "start_time": "2022-02-28T16:46:48.924Z"
   },
   {
    "duration": 2,
    "start_time": "2022-02-28T16:46:49.725Z"
   },
   {
    "duration": 35,
    "start_time": "2022-02-28T16:46:49.729Z"
   },
   {
    "duration": 324,
    "start_time": "2022-02-28T16:46:49.766Z"
   },
   {
    "duration": 120,
    "start_time": "2022-02-28T16:46:49.972Z"
   },
   {
    "duration": 117,
    "start_time": "2022-02-28T16:46:49.977Z"
   },
   {
    "duration": 114,
    "start_time": "2022-02-28T16:46:49.981Z"
   },
   {
    "duration": 110,
    "start_time": "2022-02-28T16:46:49.987Z"
   },
   {
    "duration": 107,
    "start_time": "2022-02-28T16:46:49.991Z"
   },
   {
    "duration": 102,
    "start_time": "2022-02-28T16:46:49.997Z"
   },
   {
    "duration": 98,
    "start_time": "2022-02-28T16:46:50.002Z"
   },
   {
    "duration": 96,
    "start_time": "2022-02-28T16:46:50.005Z"
   },
   {
    "duration": 94,
    "start_time": "2022-02-28T16:46:50.009Z"
   },
   {
    "duration": 91,
    "start_time": "2022-02-28T16:46:50.013Z"
   },
   {
    "duration": 87,
    "start_time": "2022-02-28T16:46:50.018Z"
   },
   {
    "duration": 14,
    "start_time": "2022-02-28T16:49:56.439Z"
   },
   {
    "duration": 2978,
    "start_time": "2022-02-28T16:50:02.557Z"
   },
   {
    "duration": 9,
    "start_time": "2022-02-28T16:50:12.385Z"
   },
   {
    "duration": 142,
    "start_time": "2022-02-28T16:51:07.324Z"
   },
   {
    "duration": 2620,
    "start_time": "2022-02-28T16:52:50.960Z"
   },
   {
    "duration": 9,
    "start_time": "2022-02-28T16:53:04.195Z"
   },
   {
    "duration": 2855,
    "start_time": "2022-02-28T16:53:13.584Z"
   },
   {
    "duration": 8,
    "start_time": "2022-02-28T16:53:20.885Z"
   },
   {
    "duration": 9,
    "start_time": "2022-02-28T16:54:59.827Z"
   },
   {
    "duration": 10,
    "start_time": "2022-02-28T16:59:43.725Z"
   },
   {
    "duration": 11,
    "start_time": "2022-02-28T17:02:56.582Z"
   },
   {
    "duration": 10,
    "start_time": "2022-02-28T17:03:13.984Z"
   },
   {
    "duration": 3302,
    "start_time": "2022-02-28T17:35:23.911Z"
   },
   {
    "duration": 38,
    "start_time": "2022-02-28T17:35:27.215Z"
   },
   {
    "duration": 6,
    "start_time": "2022-02-28T17:35:27.255Z"
   },
   {
    "duration": 47,
    "start_time": "2022-02-28T17:35:27.263Z"
   },
   {
    "duration": 24,
    "start_time": "2022-02-28T17:35:27.312Z"
   },
   {
    "duration": 18,
    "start_time": "2022-02-28T17:35:27.338Z"
   },
   {
    "duration": 32,
    "start_time": "2022-02-28T17:35:27.357Z"
   },
   {
    "duration": 27,
    "start_time": "2022-02-28T17:35:27.391Z"
   },
   {
    "duration": 25,
    "start_time": "2022-02-28T17:35:27.420Z"
   },
   {
    "duration": 23,
    "start_time": "2022-02-28T17:35:27.447Z"
   },
   {
    "duration": 27,
    "start_time": "2022-02-28T17:35:27.472Z"
   },
   {
    "duration": 37,
    "start_time": "2022-02-28T17:35:27.501Z"
   },
   {
    "duration": 13,
    "start_time": "2022-02-28T17:35:27.540Z"
   },
   {
    "duration": 21,
    "start_time": "2022-02-28T17:35:27.555Z"
   },
   {
    "duration": 28,
    "start_time": "2022-02-28T17:35:27.578Z"
   },
   {
    "duration": 28,
    "start_time": "2022-02-28T17:35:27.607Z"
   },
   {
    "duration": 30,
    "start_time": "2022-02-28T17:35:27.637Z"
   },
   {
    "duration": 18,
    "start_time": "2022-02-28T17:35:27.669Z"
   },
   {
    "duration": 31,
    "start_time": "2022-02-28T17:35:27.689Z"
   },
   {
    "duration": 16,
    "start_time": "2022-02-28T17:35:27.723Z"
   },
   {
    "duration": 19,
    "start_time": "2022-02-28T17:35:27.741Z"
   },
   {
    "duration": 21,
    "start_time": "2022-02-28T17:35:27.762Z"
   },
   {
    "duration": 30,
    "start_time": "2022-02-28T17:35:27.786Z"
   },
   {
    "duration": 20,
    "start_time": "2022-02-28T17:35:27.818Z"
   },
   {
    "duration": 36,
    "start_time": "2022-02-28T17:35:27.839Z"
   },
   {
    "duration": 13,
    "start_time": "2022-02-28T17:35:27.876Z"
   },
   {
    "duration": 687,
    "start_time": "2022-02-28T17:35:27.891Z"
   },
   {
    "duration": 21,
    "start_time": "2022-02-28T17:35:28.581Z"
   },
   {
    "duration": 16,
    "start_time": "2022-02-28T17:35:28.604Z"
   },
   {
    "duration": 19,
    "start_time": "2022-02-28T17:35:28.622Z"
   },
   {
    "duration": 23,
    "start_time": "2022-02-28T17:35:28.643Z"
   },
   {
    "duration": 355,
    "start_time": "2022-02-28T17:35:28.668Z"
   },
   {
    "duration": 699,
    "start_time": "2022-02-28T17:35:29.026Z"
   },
   {
    "duration": 3,
    "start_time": "2022-02-28T17:35:29.727Z"
   },
   {
    "duration": 2708,
    "start_time": "2022-02-28T17:35:29.732Z"
   },
   {
    "duration": 10,
    "start_time": "2022-02-28T17:35:32.442Z"
   },
   {
    "duration": 3118,
    "start_time": "2022-02-28T17:35:32.454Z"
   },
   {
    "duration": 9,
    "start_time": "2022-02-28T17:35:35.574Z"
   },
   {
    "duration": 24,
    "start_time": "2022-02-28T17:35:35.585Z"
   },
   {
    "duration": 29,
    "start_time": "2022-02-28T17:35:35.611Z"
   },
   {
    "duration": 31,
    "start_time": "2022-02-28T17:35:35.642Z"
   },
   {
    "duration": 34,
    "start_time": "2022-02-28T17:35:35.702Z"
   },
   {
    "duration": 15,
    "start_time": "2022-02-28T17:35:35.738Z"
   },
   {
    "duration": 7,
    "start_time": "2022-02-28T17:35:35.754Z"
   },
   {
    "duration": 53,
    "start_time": "2022-02-28T17:35:35.763Z"
   },
   {
    "duration": 10,
    "start_time": "2022-02-28T17:35:35.818Z"
   },
   {
    "duration": 11,
    "start_time": "2022-02-28T17:41:11.914Z"
   },
   {
    "duration": 14,
    "start_time": "2022-02-28T17:41:25.537Z"
   },
   {
    "duration": 344,
    "start_time": "2022-02-28T17:43:25.717Z"
   },
   {
    "duration": 83,
    "start_time": "2022-02-28T17:43:34.264Z"
   },
   {
    "duration": 4,
    "start_time": "2022-02-28T17:45:21.516Z"
   },
   {
    "duration": 4,
    "start_time": "2022-02-28T17:46:44.242Z"
   },
   {
    "duration": 790,
    "start_time": "2022-02-28T17:46:44.639Z"
   },
   {
    "duration": 5203,
    "start_time": "2022-02-28T20:47:35.504Z"
   },
   {
    "duration": 43,
    "start_time": "2022-02-28T20:47:40.710Z"
   },
   {
    "duration": 9,
    "start_time": "2022-02-28T20:47:40.757Z"
   },
   {
    "duration": 27,
    "start_time": "2022-02-28T20:47:40.770Z"
   },
   {
    "duration": 58,
    "start_time": "2022-02-28T20:47:40.800Z"
   },
   {
    "duration": 7,
    "start_time": "2022-02-28T20:47:40.861Z"
   },
   {
    "duration": 11,
    "start_time": "2022-02-28T20:47:40.870Z"
   },
   {
    "duration": 14,
    "start_time": "2022-02-28T20:47:40.883Z"
   },
   {
    "duration": 11,
    "start_time": "2022-02-28T20:47:40.901Z"
   },
   {
    "duration": 42,
    "start_time": "2022-02-28T20:47:40.915Z"
   },
   {
    "duration": 11,
    "start_time": "2022-02-28T20:47:40.960Z"
   },
   {
    "duration": 22,
    "start_time": "2022-02-28T20:47:40.973Z"
   },
   {
    "duration": 6,
    "start_time": "2022-02-28T20:47:40.998Z"
   },
   {
    "duration": 55,
    "start_time": "2022-02-28T20:47:41.006Z"
   },
   {
    "duration": 14,
    "start_time": "2022-02-28T20:47:41.064Z"
   },
   {
    "duration": 24,
    "start_time": "2022-02-28T20:47:41.081Z"
   },
   {
    "duration": 45,
    "start_time": "2022-02-28T20:47:41.107Z"
   },
   {
    "duration": 12,
    "start_time": "2022-02-28T20:47:41.155Z"
   },
   {
    "duration": 37,
    "start_time": "2022-02-28T20:47:41.169Z"
   },
   {
    "duration": 43,
    "start_time": "2022-02-28T20:47:41.208Z"
   },
   {
    "duration": 11,
    "start_time": "2022-02-28T20:47:41.253Z"
   },
   {
    "duration": 21,
    "start_time": "2022-02-28T20:47:41.266Z"
   },
   {
    "duration": 24,
    "start_time": "2022-02-28T20:47:41.289Z"
   },
   {
    "duration": 13,
    "start_time": "2022-02-28T20:47:41.315Z"
   },
   {
    "duration": 45,
    "start_time": "2022-02-28T20:47:41.330Z"
   },
   {
    "duration": 17,
    "start_time": "2022-02-28T20:47:41.377Z"
   },
   {
    "duration": 958,
    "start_time": "2022-02-28T20:47:41.399Z"
   },
   {
    "duration": 13,
    "start_time": "2022-02-28T20:47:42.360Z"
   },
   {
    "duration": 27,
    "start_time": "2022-02-28T20:47:42.375Z"
   },
   {
    "duration": 17,
    "start_time": "2022-02-28T20:47:42.405Z"
   },
   {
    "duration": 18,
    "start_time": "2022-02-28T20:47:42.452Z"
   },
   {
    "duration": 530,
    "start_time": "2022-02-28T20:47:42.472Z"
   },
   {
    "duration": 976,
    "start_time": "2022-02-28T20:47:43.005Z"
   },
   {
    "duration": 3,
    "start_time": "2022-02-28T20:47:43.984Z"
   },
   {
    "duration": 3644,
    "start_time": "2022-02-28T20:47:43.989Z"
   },
   {
    "duration": 18,
    "start_time": "2022-02-28T20:47:47.635Z"
   },
   {
    "duration": 4728,
    "start_time": "2022-02-28T20:47:47.655Z"
   },
   {
    "duration": 12,
    "start_time": "2022-02-28T20:47:52.386Z"
   },
   {
    "duration": 14,
    "start_time": "2022-02-28T20:47:52.400Z"
   },
   {
    "duration": 35,
    "start_time": "2022-02-28T20:47:52.416Z"
   },
   {
    "duration": 1138,
    "start_time": "2022-02-28T20:47:52.454Z"
   },
   {
    "duration": 18,
    "start_time": "2022-02-28T20:47:53.594Z"
   },
   {
    "duration": 9,
    "start_time": "2022-02-28T20:47:53.614Z"
   },
   {
    "duration": 43,
    "start_time": "2022-02-28T20:47:53.625Z"
   },
   {
    "duration": 9,
    "start_time": "2022-02-28T20:47:53.671Z"
   },
   {
    "duration": 30,
    "start_time": "2022-02-28T21:33:03.322Z"
   },
   {
    "duration": 2911,
    "start_time": "2022-02-28T21:33:12.643Z"
   },
   {
    "duration": 8,
    "start_time": "2022-02-28T21:33:22.136Z"
   },
   {
    "duration": 9,
    "start_time": "2022-02-28T21:33:30.078Z"
   },
   {
    "duration": 9,
    "start_time": "2022-02-28T21:33:36.251Z"
   },
   {
    "duration": 9,
    "start_time": "2022-02-28T21:35:37.839Z"
   },
   {
    "duration": 7,
    "start_time": "2022-02-28T21:35:45.741Z"
   },
   {
    "duration": 11,
    "start_time": "2022-02-28T21:35:52.081Z"
   },
   {
    "duration": 9,
    "start_time": "2022-02-28T21:36:02.094Z"
   },
   {
    "duration": 9,
    "start_time": "2022-02-28T21:36:13.136Z"
   },
   {
    "duration": 8,
    "start_time": "2022-02-28T21:36:19.430Z"
   },
   {
    "duration": 10,
    "start_time": "2022-02-28T21:36:24.359Z"
   },
   {
    "duration": 338,
    "start_time": "2022-03-02T18:31:50.555Z"
   },
   {
    "duration": 5728,
    "start_time": "2022-03-02T18:31:56.838Z"
   },
   {
    "duration": 53,
    "start_time": "2022-03-02T18:32:02.569Z"
   },
   {
    "duration": 9,
    "start_time": "2022-03-02T18:32:02.626Z"
   },
   {
    "duration": 34,
    "start_time": "2022-03-02T18:32:02.639Z"
   },
   {
    "duration": 30,
    "start_time": "2022-03-02T18:32:02.676Z"
   },
   {
    "duration": 16,
    "start_time": "2022-03-02T18:32:02.709Z"
   },
   {
    "duration": 33,
    "start_time": "2022-03-02T18:32:02.728Z"
   },
   {
    "duration": 21,
    "start_time": "2022-03-02T18:32:02.764Z"
   },
   {
    "duration": 33,
    "start_time": "2022-03-02T18:32:02.788Z"
   },
   {
    "duration": 15,
    "start_time": "2022-03-02T18:32:02.823Z"
   },
   {
    "duration": 20,
    "start_time": "2022-03-02T18:32:02.840Z"
   },
   {
    "duration": 39,
    "start_time": "2022-03-02T18:32:02.863Z"
   },
   {
    "duration": 8,
    "start_time": "2022-03-02T18:32:02.904Z"
   },
   {
    "duration": 26,
    "start_time": "2022-03-02T18:32:02.914Z"
   },
   {
    "duration": 36,
    "start_time": "2022-03-02T18:32:02.942Z"
   },
   {
    "duration": 23,
    "start_time": "2022-03-02T18:32:02.980Z"
   },
   {
    "duration": 52,
    "start_time": "2022-03-02T18:32:03.005Z"
   },
   {
    "duration": 28,
    "start_time": "2022-03-02T18:32:03.060Z"
   },
   {
    "duration": 46,
    "start_time": "2022-03-02T18:32:03.090Z"
   },
   {
    "duration": 28,
    "start_time": "2022-03-02T18:32:03.139Z"
   },
   {
    "duration": 15,
    "start_time": "2022-03-02T18:32:03.169Z"
   },
   {
    "duration": 14,
    "start_time": "2022-03-02T18:32:03.186Z"
   },
   {
    "duration": 28,
    "start_time": "2022-03-02T18:32:03.205Z"
   },
   {
    "duration": 14,
    "start_time": "2022-03-02T18:32:03.236Z"
   },
   {
    "duration": 47,
    "start_time": "2022-03-02T18:32:03.252Z"
   },
   {
    "duration": 21,
    "start_time": "2022-03-02T18:32:03.302Z"
   },
   {
    "duration": 984,
    "start_time": "2022-03-02T18:32:03.326Z"
   },
   {
    "duration": 18,
    "start_time": "2022-03-02T18:32:04.313Z"
   },
   {
    "duration": 50,
    "start_time": "2022-03-02T18:32:04.335Z"
   },
   {
    "duration": 17,
    "start_time": "2022-03-02T18:32:04.389Z"
   },
   {
    "duration": 23,
    "start_time": "2022-03-02T18:32:04.409Z"
   },
   {
    "duration": 580,
    "start_time": "2022-03-02T18:32:04.435Z"
   },
   {
    "duration": 1089,
    "start_time": "2022-03-02T18:32:05.018Z"
   },
   {
    "duration": 3,
    "start_time": "2022-03-02T18:32:06.110Z"
   },
   {
    "duration": 3737,
    "start_time": "2022-03-02T18:32:06.116Z"
   },
   {
    "duration": 26,
    "start_time": "2022-03-02T18:32:09.855Z"
   },
   {
    "duration": 4776,
    "start_time": "2022-03-02T18:32:09.884Z"
   },
   {
    "duration": 21,
    "start_time": "2022-03-02T18:32:14.664Z"
   },
   {
    "duration": 16,
    "start_time": "2022-03-02T18:32:14.688Z"
   },
   {
    "duration": 17,
    "start_time": "2022-03-02T18:32:14.706Z"
   },
   {
    "duration": 7,
    "start_time": "2022-03-02T18:32:14.726Z"
   },
   {
    "duration": 1208,
    "start_time": "2022-03-02T18:32:14.773Z"
   },
   {
    "duration": 19,
    "start_time": "2022-03-02T18:32:15.983Z"
   },
   {
    "duration": 9,
    "start_time": "2022-03-02T18:32:16.005Z"
   },
   {
    "duration": 21,
    "start_time": "2022-03-02T18:32:16.016Z"
   },
   {
    "duration": 43,
    "start_time": "2022-03-02T18:32:16.039Z"
   },
   {
    "duration": 432,
    "start_time": "2022-03-02T18:33:52.592Z"
   },
   {
    "duration": 1273,
    "start_time": "2022-03-02T18:33:53.248Z"
   },
   {
    "duration": 8,
    "start_time": "2022-03-02T18:34:13.038Z"
   },
   {
    "duration": 1150,
    "start_time": "2022-03-02T18:34:15.486Z"
   },
   {
    "duration": 83,
    "start_time": "2022-03-02T18:34:44.896Z"
   },
   {
    "duration": 75,
    "start_time": "2022-03-02T18:34:49.357Z"
   },
   {
    "duration": 82,
    "start_time": "2022-03-02T18:34:53.313Z"
   },
   {
    "duration": 74,
    "start_time": "2022-03-02T18:34:57.065Z"
   },
   {
    "duration": 76,
    "start_time": "2022-03-02T18:35:10.896Z"
   },
   {
    "duration": 89,
    "start_time": "2022-03-02T18:35:15.267Z"
   }
  ],
  "kernelspec": {
   "display_name": "Python 3 (ipykernel)",
   "language": "python",
   "name": "python3"
  },
  "language_info": {
   "codemirror_mode": {
    "name": "ipython",
    "version": 3
   },
   "file_extension": ".py",
   "mimetype": "text/x-python",
   "name": "python",
   "nbconvert_exporter": "python",
   "pygments_lexer": "ipython3",
   "version": "3.9.5"
  },
  "toc": {
   "base_numbering": 1,
   "nav_menu": {
    "height": "310px",
    "width": "295px"
   },
   "number_sections": true,
   "sideBar": true,
   "skip_h1_title": true,
   "title_cell": "Table of Contents",
   "title_sidebar": "Contents",
   "toc_cell": false,
   "toc_position": {},
   "toc_section_display": true,
   "toc_window_display": false
  }
 },
 "nbformat": 4,
 "nbformat_minor": 2
}
